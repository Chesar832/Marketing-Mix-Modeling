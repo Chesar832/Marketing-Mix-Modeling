{
 "cells": [
  {
   "cell_type": "markdown",
   "id": "c67e495b",
   "metadata": {},
   "source": [
    "## Marketing mix modeling in Python"
   ]
  },
  {
   "cell_type": "markdown",
   "id": "3889745b",
   "metadata": {},
   "source": [
    "<img src=\"https://i.ibb.co/PrDVkyq/banner-marketing.png\" alt=\"banner-marketing\" border=\"0\">"
   ]
  },
  {
   "cell_type": "markdown",
   "id": "afb655a8",
   "metadata": {},
   "source": [
    "### 💾 Librerias"
   ]
  },
  {
   "cell_type": "code",
   "execution_count": 1,
   "id": "e0ef9797",
   "metadata": {},
   "outputs": [],
   "source": [
    "import numpy as np\n",
    "import pandas as pd\n",
    "import matplotlib.pyplot as plt\n",
    "import seaborn as sns\n",
    "import altair as alt\n",
    "import datetime as dt"
   ]
  },
  {
   "cell_type": "markdown",
   "id": "4fa4d0ea",
   "metadata": {},
   "source": [
    "### 💽 Carga de datos"
   ]
  },
  {
   "cell_type": "markdown",
   "id": "d9c9af47",
   "metadata": {},
   "source": [
    "- A continuación se decriben las variables contenidas en el dataset.\n",
    "- El dataset se consiguió por medio de el laburo de un miembro del equipo, sin comprometer la información de la emrpesa."
   ]
  },
  {
   "cell_type": "markdown",
   "id": "4dba0199",
   "metadata": {},
   "source": [
    "| **VARIABLE** |                **DESCRIPCIÓN**                      |\n",
    "| ---:         | :---                                                | \n",
    "| Date         | Fecha en la que se realizó la inversión             |\n",
    "| OpenTV       | Presupuesto de promoción televisiva abierta.        |\n",
    "| PayTV        | Presupuesto de promoción televisiva de paga.        |\n",
    "| Radio        | Presupuesto de promoción radiofónica                |\n",
    "| Print        | Presupuesto de promoción en impresiones             |\n",
    "| Facebook     | Presupuesto de promoción en Facebook                |\n",
    "| Google       | Presupuesto de promoción en Google                  |\n",
    "| Email        | Presupuesto de promoción en correos publicitarios   |\n",
    "| Sales        | Ventas obtenidas                                    |"
   ]
  },
  {
   "cell_type": "code",
   "execution_count": 2,
   "id": "3bd245fd",
   "metadata": {},
   "outputs": [],
   "source": [
    "data = pd.read_csv('data/mmm.csv')"
   ]
  },
  {
   "cell_type": "code",
   "execution_count": 3,
   "id": "3e51a4f0",
   "metadata": {},
   "outputs": [
    {
     "data": {
      "text/html": [
       "<div>\n",
       "<style scoped>\n",
       "    .dataframe tbody tr th:only-of-type {\n",
       "        vertical-align: middle;\n",
       "    }\n",
       "\n",
       "    .dataframe tbody tr th {\n",
       "        vertical-align: top;\n",
       "    }\n",
       "\n",
       "    .dataframe thead th {\n",
       "        text-align: right;\n",
       "    }\n",
       "</style>\n",
       "<table border=\"1\" class=\"dataframe\">\n",
       "  <thead>\n",
       "    <tr style=\"text-align: right;\">\n",
       "      <th></th>\n",
       "      <th>Date</th>\n",
       "      <th>OpenTV</th>\n",
       "      <th>PayTV</th>\n",
       "      <th>Radio</th>\n",
       "      <th>Print</th>\n",
       "      <th>Facebook</th>\n",
       "      <th>Google</th>\n",
       "      <th>Email</th>\n",
       "      <th>Sales</th>\n",
       "    </tr>\n",
       "  </thead>\n",
       "  <tbody>\n",
       "    <tr>\n",
       "      <th>118</th>\n",
       "      <td>4/12/2020</td>\n",
       "      <td>15692.36022</td>\n",
       "      <td>0.00000</td>\n",
       "      <td>9273.745816</td>\n",
       "      <td>2037.212843</td>\n",
       "      <td>4263.099627</td>\n",
       "      <td>9270.591896</td>\n",
       "      <td>4461.708696</td>\n",
       "      <td>144472.2</td>\n",
       "    </tr>\n",
       "    <tr>\n",
       "      <th>96</th>\n",
       "      <td>11/10/2019</td>\n",
       "      <td>0.00000</td>\n",
       "      <td>0.00000</td>\n",
       "      <td>0.000000</td>\n",
       "      <td>0.000000</td>\n",
       "      <td>0.000000</td>\n",
       "      <td>0.000000</td>\n",
       "      <td>1010.904894</td>\n",
       "      <td>80185.6</td>\n",
       "    </tr>\n",
       "    <tr>\n",
       "      <th>169</th>\n",
       "      <td>4/4/2021</td>\n",
       "      <td>0.00000</td>\n",
       "      <td>16677.10789</td>\n",
       "      <td>10839.386410</td>\n",
       "      <td>0.000000</td>\n",
       "      <td>4164.390309</td>\n",
       "      <td>6391.030591</td>\n",
       "      <td>3365.503286</td>\n",
       "      <td>135432.1</td>\n",
       "    </tr>\n",
       "    <tr>\n",
       "      <th>75</th>\n",
       "      <td>6/16/2019</td>\n",
       "      <td>0.00000</td>\n",
       "      <td>0.00000</td>\n",
       "      <td>0.000000</td>\n",
       "      <td>0.000000</td>\n",
       "      <td>0.000000</td>\n",
       "      <td>0.000000</td>\n",
       "      <td>0.000000</td>\n",
       "      <td>65638.5</td>\n",
       "    </tr>\n",
       "    <tr>\n",
       "      <th>168</th>\n",
       "      <td>3/28/2021</td>\n",
       "      <td>15168.61005</td>\n",
       "      <td>0.00000</td>\n",
       "      <td>8822.850446</td>\n",
       "      <td>2505.880692</td>\n",
       "      <td>0.000000</td>\n",
       "      <td>9438.045438</td>\n",
       "      <td>5345.957802</td>\n",
       "      <td>149580.5</td>\n",
       "    </tr>\n",
       "  </tbody>\n",
       "</table>\n",
       "</div>"
      ],
      "text/plain": [
       "           Date       OpenTV        PayTV         Radio        Print  \\\n",
       "118   4/12/2020  15692.36022      0.00000   9273.745816  2037.212843   \n",
       "96   11/10/2019      0.00000      0.00000      0.000000     0.000000   \n",
       "169    4/4/2021      0.00000  16677.10789  10839.386410     0.000000   \n",
       "75    6/16/2019      0.00000      0.00000      0.000000     0.000000   \n",
       "168   3/28/2021  15168.61005      0.00000   8822.850446  2505.880692   \n",
       "\n",
       "        Facebook       Google        Email     Sales  \n",
       "118  4263.099627  9270.591896  4461.708696  144472.2  \n",
       "96      0.000000     0.000000  1010.904894   80185.6  \n",
       "169  4164.390309  6391.030591  3365.503286  135432.1  \n",
       "75      0.000000     0.000000     0.000000   65638.5  \n",
       "168     0.000000  9438.045438  5345.957802  149580.5  "
      ]
     },
     "execution_count": 3,
     "metadata": {},
     "output_type": "execute_result"
    }
   ],
   "source": [
    "data.sample(5)"
   ]
  },
  {
   "cell_type": "markdown",
   "id": "ca77021d",
   "metadata": {},
   "source": [
    "### 🧰 Formatos"
   ]
  },
  {
   "cell_type": "markdown",
   "id": "0519450a",
   "metadata": {},
   "source": [
    "- Renombramos las columnas del dataframe para un mejor entendimiento de las variables."
   ]
  },
  {
   "cell_type": "code",
   "execution_count": 4,
   "id": "6d9d3e18",
   "metadata": {},
   "outputs": [],
   "source": [
    "data.columns = ['fecha','tv_abierta','tv_paga','radio','impresiones','facebook','google','correo','ventas']"
   ]
  },
  {
   "cell_type": "markdown",
   "id": "4c8ed457",
   "metadata": {},
   "source": [
    "- Nos apoyamos de la función .info() para verificar los tipos de datos de cada variable, además de su conteo por cada feature."
   ]
  },
  {
   "cell_type": "code",
   "execution_count": 5,
   "id": "f5afdc5a",
   "metadata": {},
   "outputs": [
    {
     "name": "stdout",
     "output_type": "stream",
     "text": [
      "<class 'pandas.core.frame.DataFrame'>\n",
      "RangeIndex: 200 entries, 0 to 199\n",
      "Data columns (total 9 columns):\n",
      " #   Column       Non-Null Count  Dtype  \n",
      "---  ------       --------------  -----  \n",
      " 0   fecha        200 non-null    object \n",
      " 1   tv_abierta   200 non-null    float64\n",
      " 2   tv_paga      200 non-null    float64\n",
      " 3   radio        200 non-null    float64\n",
      " 4   impresiones  200 non-null    float64\n",
      " 5   facebook     200 non-null    float64\n",
      " 6   google       200 non-null    float64\n",
      " 7   correo       200 non-null    float64\n",
      " 8   ventas       200 non-null    float64\n",
      "dtypes: float64(8), object(1)\n",
      "memory usage: 14.2+ KB\n"
     ]
    }
   ],
   "source": [
    "data.info()"
   ]
  },
  {
   "cell_type": "markdown",
   "id": "b3355add",
   "metadata": {},
   "source": [
    "- Corregimos el formato de la fecha:"
   ]
  },
  {
   "cell_type": "code",
   "execution_count": 6,
   "id": "847db4df",
   "metadata": {},
   "outputs": [],
   "source": [
    "data['fecha'] = pd.to_datetime(data['fecha'])"
   ]
  },
  {
   "cell_type": "markdown",
   "id": "5f98eb52",
   "metadata": {},
   "source": [
    "### Missing values"
   ]
  },
  {
   "cell_type": "markdown",
   "id": "736c4b2e",
   "metadata": {},
   "source": [
    "- Creamos la función miss_values() que retorna el porcentaje de missing values por cada columna del dataframe:"
   ]
  },
  {
   "cell_type": "code",
   "execution_count": 7,
   "id": "f53b5ac2",
   "metadata": {},
   "outputs": [],
   "source": [
    "def miss_values(df):\n",
    "    return (df.isnull().sum()) / (len(df.index)) * 100"
   ]
  },
  {
   "cell_type": "code",
   "execution_count": 8,
   "id": "0de3d62e",
   "metadata": {},
   "outputs": [
    {
     "data": {
      "text/plain": [
       "fecha          0.0\n",
       "tv_abierta     0.0\n",
       "tv_paga        0.0\n",
       "radio          0.0\n",
       "impresiones    0.0\n",
       "facebook       0.0\n",
       "google         0.0\n",
       "correo         0.0\n",
       "ventas         0.0\n",
       "dtype: float64"
      ]
     },
     "execution_count": 8,
     "metadata": {},
     "output_type": "execute_result"
    }
   ],
   "source": [
    "miss_values(data)"
   ]
  },
  {
   "cell_type": "markdown",
   "id": "e23a8c7e",
   "metadata": {},
   "source": [
    "### Duplicated values"
   ]
  },
  {
   "cell_type": "markdown",
   "id": "9d872e1d",
   "metadata": {},
   "source": [
    "- Verificamos la duplicidad de datos:"
   ]
  },
  {
   "cell_type": "code",
   "execution_count": 9,
   "id": "f7e91dfc",
   "metadata": {},
   "outputs": [
    {
     "data": {
      "text/plain": [
       "0"
      ]
     },
     "execution_count": 9,
     "metadata": {},
     "output_type": "execute_result"
    }
   ],
   "source": [
    "data.duplicated().sum()"
   ]
  },
  {
   "cell_type": "markdown",
   "id": "de279140",
   "metadata": {},
   "source": [
    "## <p style=\"background: linear-gradient(to right,#ef476f,#ffd166, #06d6a0); color:white; font-size:140%; text-align:Center; border-radius: 20px 20px; margin: 0px 0px 0px 0px\">  📊 EDA  </p>"
   ]
  },
  {
   "cell_type": "markdown",
   "id": "b68069bf",
   "metadata": {},
   "source": [
    "- Primero, creamos una paleta de colores para utilizar en los gráficos próximos."
   ]
  },
  {
   "cell_type": "code",
   "execution_count": 10,
   "id": "810e5bfc",
   "metadata": {},
   "outputs": [],
   "source": [
    "palette = ['#93F03B','#FFA32F','#FFEC21','#F13C59','#378AFF','#BE61CA','#AADEA7']"
   ]
  },
  {
   "cell_type": "markdown",
   "id": "c85e81ef",
   "metadata": {},
   "source": [
    "- Se hace un unpivot de los datos para que tengan un formato más fácil de procesar con las librerias de visualización."
   ]
  },
  {
   "cell_type": "code",
   "execution_count": 11,
   "id": "8227ee5a",
   "metadata": {},
   "outputs": [],
   "source": [
    "data_melt = data.melt(id_vars=['fecha'], var_name='canal',value_vars=data.columns[1:8],value_name='inversion')"
   ]
  },
  {
   "cell_type": "markdown",
   "id": "f89b3a1f",
   "metadata": {},
   "source": [
    "- La siguiente función muestra la distribución de la categoría que recibe como parámetro:"
   ]
  },
  {
   "cell_type": "code",
   "execution_count": 12,
   "id": "f69a33f5",
   "metadata": {},
   "outputs": [],
   "source": [
    "def show_dist(title_cat,cat,color):\n",
    "    sns.set_palette([color])\n",
    "\n",
    "    fig, ax = plt.subplots()\n",
    "    fig.set_size_inches(8, 5)\n",
    "\n",
    "    sns.histplot(data[data[cat]!=0][cat], bins=20)\n",
    "    ax.set_title(f'Diagrama de caja para {title_cat}',fontweight=\"bold\")\n",
    "    ax.set_xlabel('Inversión en dólares')\n",
    "    ax.set_ylabel('Frecuencia relativa')\n",
    "    plt.show()"
   ]
  },
  {
   "cell_type": "code",
   "execution_count": 13,
   "id": "f4ea5750",
   "metadata": {},
   "outputs": [
    {
     "data": {
      "image/png": "[encoded data removed]",
      "text/plain": [
       "<Figure size 576x360 with 1 Axes>"
      ]
     },
     "metadata": {
      "needs_background": "light"
     },
     "output_type": "display_data"
    }
   ],
   "source": [
    "show_dist('TV abierta','tv_abierta','#93F03B')"
   ]
  },
  {
   "cell_type": "code",
   "execution_count": 14,
   "id": "a577d079",
   "metadata": {},
   "outputs": [
    {
     "data": {
      "image/png": "[encoded data removed]",
      "text/plain": [
       "<Figure size 576x360 with 1 Axes>"
      ]
     },
     "metadata": {
      "needs_background": "light"
     },
     "output_type": "display_data"
    }
   ],
   "source": [
    "show_dist('TV de paga','tv_paga','#FFA32F')"
   ]
  },
  {
   "cell_type": "code",
   "execution_count": 15,
   "id": "22313e29",
   "metadata": {},
   "outputs": [
    {
     "data": {
      "image/png": "[encoded data removed]",
      "text/plain": [
       "<Figure size 576x360 with 1 Axes>"
      ]
     },
     "metadata": {
      "needs_background": "light"
     },
     "output_type": "display_data"
    }
   ],
   "source": [
    "show_dist('Radio','radio','#FFEC21')"
   ]
  },
  {
   "cell_type": "code",
   "execution_count": 16,
   "id": "5c65ea4d",
   "metadata": {},
   "outputs": [
    {
     "data": {
      "image/png": "[encoded data removed]",
      "text/plain": [
       "<Figure size 576x360 with 1 Axes>"
      ]
     },
     "metadata": {
      "needs_background": "light"
     },
     "output_type": "display_data"
    }
   ],
   "source": [
    "show_dist('Impresiones','impresiones','#F13C59')"
   ]
  },
  {
   "cell_type": "code",
   "execution_count": 17,
   "id": "e00c1c99",
   "metadata": {
    "scrolled": true
   },
   "outputs": [
    {
     "data": {
      "image/png": "[encoded data removed]",
      "text/plain": [
       "<Figure size 576x360 with 1 Axes>"
      ]
     },
     "metadata": {
      "needs_background": "light"
     },
     "output_type": "display_data"
    }
   ],
   "source": [
    "show_dist('Facebook','facebook','#378AFF')"
   ]
  },
  {
   "cell_type": "code",
   "execution_count": 18,
   "id": "4848c26e",
   "metadata": {},
   "outputs": [
    {
     "data": {
      "image/png": "[encoded data removed]",
      "text/plain": [
       "<Figure size 576x360 with 1 Axes>"
      ]
     },
     "metadata": {
      "needs_background": "light"
     },
     "output_type": "display_data"
    }
   ],
   "source": [
    "show_dist('Google','google','#BE61CA')"
   ]
  },
  {
   "cell_type": "code",
   "execution_count": 19,
   "id": "7cad7178",
   "metadata": {
    "scrolled": true
   },
   "outputs": [
    {
     "data": {
      "image/png": "[encoded data removed]",
      "text/plain": [
       "<Figure size 576x360 with 1 Axes>"
      ]
     },
     "metadata": {
      "needs_background": "light"
     },
     "output_type": "display_data"
    }
   ],
   "source": [
    "show_dist('Correo electrónico','correo','#AADEA7')"
   ]
  },
  {
   "cell_type": "markdown",
   "id": "674dc4ac",
   "metadata": {},
   "source": [
    "- La mayoria de canales de inversión presentan sesgo positivo, lo que se puede explicar con las fechas de inversión.\n",
    "- El comportamiento sesdago de las inversiones se debe a que la mayor parte del tiempo se mantienen activos lo canales con inversiones no tan altas, pero cuando se participa en una campaña publicitaria estas inversiones crecen significativamente."
   ]
  },
  {
   "cell_type": "code",
   "execution_count": 20,
   "id": "e899d439",
   "metadata": {},
   "outputs": [
    {
     "data": {
      "image/png": "[encoded data removed]",
      "text/plain": [
       "<Figure size 576x360 with 1 Axes>"
      ]
     },
     "metadata": {
      "needs_background": "light"
     },
     "output_type": "display_data"
    }
   ],
   "source": [
    "show_dist('las Ventas obtenidas','ventas','#52D726')"
   ]
  },
  {
   "cell_type": "code",
   "execution_count": 21,
   "id": "417e7a13",
   "metadata": {
    "scrolled": false
   },
   "outputs": [
    {
     "data": {
      "image/png": "[encoded data removed]",
      "text/plain": [
       "<Figure size 432x432 with 1 Axes>"
      ]
     },
     "metadata": {
      "needs_background": "light"
     },
     "output_type": "display_data"
    }
   ],
   "source": [
    "sns.set_palette(palette)\n",
    "\n",
    "g = sns.catplot(x='canal',y='inversion',data=data_melt, kind='box')\n",
    "g.fig.suptitle('Comparación de inversiones entre canales (presupuestos nulos incluidos)', y=1.05, ha='center')\n",
    "g.fig.set_size_inches(6,6)\n",
    "g.set(xlabel='Canal invertido', ylabel='Inversión en dólares')\n",
    "plt.xticks(rotation=90)\n",
    "plt.show()"
   ]
  },
  {
   "cell_type": "markdown",
   "id": "a230dcb5",
   "metadata": {},
   "source": [
    "- Los estadísticos no se pueden apreciar correctamente por la presencia de los presupuestos con valor de 0 (presupuestos nulos)."
   ]
  },
  {
   "cell_type": "code",
   "execution_count": 22,
   "id": "de93dcbe",
   "metadata": {},
   "outputs": [
    {
     "data": {
      "text/html": [
       "<div>\n",
       "<style scoped>\n",
       "    .dataframe tbody tr th:only-of-type {\n",
       "        vertical-align: middle;\n",
       "    }\n",
       "\n",
       "    .dataframe tbody tr th {\n",
       "        vertical-align: top;\n",
       "    }\n",
       "\n",
       "    .dataframe thead th {\n",
       "        text-align: right;\n",
       "    }\n",
       "</style>\n",
       "<table border=\"1\" class=\"dataframe\">\n",
       "  <thead>\n",
       "    <tr style=\"text-align: right;\">\n",
       "      <th></th>\n",
       "      <th>tv_abierta</th>\n",
       "      <th>tv_paga</th>\n",
       "      <th>radio</th>\n",
       "      <th>impresiones</th>\n",
       "      <th>facebook</th>\n",
       "      <th>google</th>\n",
       "      <th>correo</th>\n",
       "      <th>ventas</th>\n",
       "    </tr>\n",
       "  </thead>\n",
       "  <tbody>\n",
       "    <tr>\n",
       "      <th>count</th>\n",
       "      <td>200.000000</td>\n",
       "      <td>200.000000</td>\n",
       "      <td>200.000000</td>\n",
       "      <td>200.000000</td>\n",
       "      <td>200.000000</td>\n",
       "      <td>200.000000</td>\n",
       "      <td>200.000000</td>\n",
       "      <td>200.000000</td>\n",
       "    </tr>\n",
       "    <tr>\n",
       "      <th>mean</th>\n",
       "      <td>4154.276494</td>\n",
       "      <td>3440.496211</td>\n",
       "      <td>3232.233894</td>\n",
       "      <td>1346.299509</td>\n",
       "      <td>1398.720108</td>\n",
       "      <td>3418.953571</td>\n",
       "      <td>1942.386141</td>\n",
       "      <td>106681.415000</td>\n",
       "    </tr>\n",
       "    <tr>\n",
       "      <th>std</th>\n",
       "      <td>6562.186586</td>\n",
       "      <td>5647.247953</td>\n",
       "      <td>4008.912178</td>\n",
       "      <td>1171.510851</td>\n",
       "      <td>1982.006811</td>\n",
       "      <td>3838.856199</td>\n",
       "      <td>1434.872629</td>\n",
       "      <td>27007.066833</td>\n",
       "    </tr>\n",
       "    <tr>\n",
       "      <th>min</th>\n",
       "      <td>0.000000</td>\n",
       "      <td>0.000000</td>\n",
       "      <td>0.000000</td>\n",
       "      <td>0.000000</td>\n",
       "      <td>0.000000</td>\n",
       "      <td>0.000000</td>\n",
       "      <td>0.000000</td>\n",
       "      <td>45323.300000</td>\n",
       "    </tr>\n",
       "    <tr>\n",
       "      <th>25%</th>\n",
       "      <td>0.000000</td>\n",
       "      <td>0.000000</td>\n",
       "      <td>0.000000</td>\n",
       "      <td>0.000000</td>\n",
       "      <td>0.000000</td>\n",
       "      <td>0.000000</td>\n",
       "      <td>873.803713</td>\n",
       "      <td>83969.425000</td>\n",
       "    </tr>\n",
       "    <tr>\n",
       "      <th>50%</th>\n",
       "      <td>0.000000</td>\n",
       "      <td>0.000000</td>\n",
       "      <td>0.000000</td>\n",
       "      <td>1465.924196</td>\n",
       "      <td>0.000000</td>\n",
       "      <td>0.000000</td>\n",
       "      <td>1467.965657</td>\n",
       "      <td>108531.050000</td>\n",
       "    </tr>\n",
       "    <tr>\n",
       "      <th>75%</th>\n",
       "      <td>12767.162365</td>\n",
       "      <td>10859.182242</td>\n",
       "      <td>7653.583739</td>\n",
       "      <td>2232.334556</td>\n",
       "      <td>3710.924637</td>\n",
       "      <td>7534.931806</td>\n",
       "      <td>3082.808291</td>\n",
       "      <td>125669.950000</td>\n",
       "    </tr>\n",
       "    <tr>\n",
       "      <th>max</th>\n",
       "      <td>18164.390870</td>\n",
       "      <td>16677.107890</td>\n",
       "      <td>10839.386410</td>\n",
       "      <td>4551.527451</td>\n",
       "      <td>5674.410000</td>\n",
       "      <td>10383.942040</td>\n",
       "      <td>5658.230414</td>\n",
       "      <td>176683.400000</td>\n",
       "    </tr>\n",
       "  </tbody>\n",
       "</table>\n",
       "</div>"
      ],
      "text/plain": [
       "         tv_abierta       tv_paga         radio  impresiones     facebook  \\\n",
       "count    200.000000    200.000000    200.000000   200.000000   200.000000   \n",
       "mean    4154.276494   3440.496211   3232.233894  1346.299509  1398.720108   \n",
       "std     6562.186586   5647.247953   4008.912178  1171.510851  1982.006811   \n",
       "min        0.000000      0.000000      0.000000     0.000000     0.000000   \n",
       "25%        0.000000      0.000000      0.000000     0.000000     0.000000   \n",
       "50%        0.000000      0.000000      0.000000  1465.924196     0.000000   \n",
       "75%    12767.162365  10859.182242   7653.583739  2232.334556  3710.924637   \n",
       "max    18164.390870  16677.107890  10839.386410  4551.527451  5674.410000   \n",
       "\n",
       "             google       correo         ventas  \n",
       "count    200.000000   200.000000     200.000000  \n",
       "mean    3418.953571  1942.386141  106681.415000  \n",
       "std     3838.856199  1434.872629   27007.066833  \n",
       "min        0.000000     0.000000   45323.300000  \n",
       "25%        0.000000   873.803713   83969.425000  \n",
       "50%        0.000000  1467.965657  108531.050000  \n",
       "75%     7534.931806  3082.808291  125669.950000  \n",
       "max    10383.942040  5658.230414  176683.400000  "
      ]
     },
     "execution_count": 22,
     "metadata": {},
     "output_type": "execute_result"
    }
   ],
   "source": [
    "data.describe()"
   ]
  },
  {
   "cell_type": "code",
   "execution_count": 23,
   "id": "f1c689f1",
   "metadata": {},
   "outputs": [],
   "source": [
    "data_no_0 = data_melt.loc[data_melt['inversion']>0]"
   ]
  },
  {
   "cell_type": "code",
   "execution_count": 24,
   "id": "f97579fd",
   "metadata": {
    "scrolled": true
   },
   "outputs": [
    {
     "data": {
      "image/png": "[encoded data removed]",
      "text/plain": [
       "<Figure size 1152x288 with 1 Axes>"
      ]
     },
     "metadata": {
      "needs_background": "light"
     },
     "output_type": "display_data"
    }
   ],
   "source": [
    "sns.set_palette(palette)\n",
    "\n",
    "g = sns.catplot(x='inversion',y='canal',data=data_no_0, kind='box')\n",
    "g.fig.suptitle('Comparación de inversiones entre canales (sin presupuestos nulos)', y=1.05, ha='center')\n",
    "g.fig.set_size_inches(16,4)\n",
    "g.set(ylabel='Canal invertido', xlabel='Inversión en dólares')\n",
    "plt.show()"
   ]
  },
  {
   "cell_type": "markdown",
   "id": "71e1f383",
   "metadata": {},
   "source": [
    "- Se econtraron **valores atípicos** para algunos de los canales en su rango intercuartílico de presupuestos **distintos a cero**.\n",
    "- Estos valores atípicos son apreciables en las distribuciones ya visualizadas.\n",
    "- Se va a seguir haciendo la exploración de datos con estos atípicos, pero **se retirarán del conjunto de datos en caso de requerir un modelo predictivo**."
   ]
  },
  {
   "cell_type": "code",
   "execution_count": 25,
   "id": "25e7b089",
   "metadata": {},
   "outputs": [],
   "source": [
    "data_no_fechas = data.drop('fecha',axis=1)"
   ]
  },
  {
   "cell_type": "code",
   "execution_count": 26,
   "id": "c4657fd0",
   "metadata": {},
   "outputs": [],
   "source": [
    "relations = data_no_fechas.corr()"
   ]
  },
  {
   "cell_type": "code",
   "execution_count": 27,
   "id": "941686b7",
   "metadata": {},
   "outputs": [
    {
     "data": {
      "image/png": "[encoded data removed]",
      "text/plain": [
       "<Figure size 576x576 with 2 Axes>"
      ]
     },
     "metadata": {
      "needs_background": "light"
     },
     "output_type": "display_data"
    }
   ],
   "source": [
    "fig, ax = plt.subplots()\n",
    "fig.set_size_inches(8, 8)\n",
    "\n",
    "sns.heatmap(relations, annot=True, ax=ax)\n",
    "ax.set_title('Relaciones entre variables',fontweight=\"bold\")\n",
    "plt.xticks(rotation=45)\n",
    "plt.yticks(rotation=0)\n",
    "plt.show()"
   ]
  },
  {
   "cell_type": "markdown",
   "id": "b725ff74",
   "metadata": {},
   "source": [
    "- Solamente existe un canal de inversión que **no se encuentra relacionado significativamente** a las ventas y es el de **TV de paga**.\n",
    "- El canal de TV de paga **debe entrar al modelo de saturación** para hacer el análisis respectivo.\n",
    "- El canal de TV de paga **no debe estar en modelo predictivo**, pues no presenta una relación representativa con la variable objetivo (ventas)."
   ]
  },
  {
   "cell_type": "code",
   "execution_count": 28,
   "id": "1e1e8ad6",
   "metadata": {},
   "outputs": [
    {
     "data": {
      "image/png": "[encoded data removed]",
      "text/plain": [
       "<Figure size 576x288 with 1 Axes>"
      ]
     },
     "metadata": {
      "needs_background": "light"
     },
     "output_type": "display_data"
    }
   ],
   "source": [
    "sns.set_palette(palette[1:2])\n",
    "\n",
    "g = sns.lmplot(x='tv_paga',y='ventas', data=data)\n",
    "g.fig.suptitle('TV de pago vs Ventas (menor relación)', y=1.05, ha='center')\n",
    "g.fig.set_size_inches(8,4)\n",
    "g.set(xlabel='Presupuesto para TV de paga', ylabel='Ventas (en dólares)')\n",
    "plt.show()"
   ]
  },
  {
   "cell_type": "code",
   "execution_count": 29,
   "id": "c53a22e8",
   "metadata": {},
   "outputs": [
    {
     "data": {
      "image/png": "[encoded data removed]",
      "text/plain": [
       "<Figure size 576x288 with 1 Axes>"
      ]
     },
     "metadata": {
      "needs_background": "light"
     },
     "output_type": "display_data"
    }
   ],
   "source": [
    "sns.set_palette(palette[5:6])\n",
    "\n",
    "g = sns.lmplot(x='google',y='ventas', data=data)\n",
    "g.fig.suptitle('Presupuesto en Google vs Ventas (mayor relación)', y=1.05, ha='center')\n",
    "g.fig.set_size_inches(8,4)\n",
    "g.set(xlabel='Presupuesto para Google', ylabel='Ventas (en dólares)')\n",
    "plt.show()"
   ]
  },
  {
   "cell_type": "markdown",
   "id": "eef2479c",
   "metadata": {},
   "source": [
    "- El canal de inversión de **TV de paga** presenta **mayor dispersión** a la del canal de Google (se diferencian entre si en 5% respecto a la media de las ventas).\n",
    "- Pese a que **ambos canales** de inversión tienen una **desviación de 15% a 20% de la media de ventas**, la relación entre las inversiones destinadas a TV de paga y las ventas generadas no es tan fuerte como con el canal de inversión de Google."
   ]
  },
  {
   "cell_type": "code",
   "execution_count": 30,
   "id": "22475453",
   "metadata": {},
   "outputs": [
    {
     "data": {
      "text/plain": [
       "Index(['fecha', 'tv_abierta', 'tv_paga', 'radio', 'impresiones', 'facebook',\n",
       "       'google', 'correo', 'ventas'],\n",
       "      dtype='object')"
      ]
     },
     "execution_count": 30,
     "metadata": {},
     "output_type": "execute_result"
    }
   ],
   "source": [
    "data.columns"
   ]
  },
  {
   "cell_type": "code",
   "execution_count": 31,
   "id": "452f1910",
   "metadata": {},
   "outputs": [],
   "source": [
    "x_ = data[['tv_abierta','tv_paga','radio','impresiones','facebook','google','correo']]\n",
    "y_ = data[['ventas']]"
   ]
  },
  {
   "cell_type": "code",
   "execution_count": 32,
   "id": "1ba30554",
   "metadata": {},
   "outputs": [],
   "source": [
    "import statsmodels.api as sm\n",
    "\n",
    "statistical_model = sm.OLS(y_, x_)"
   ]
  },
  {
   "cell_type": "code",
   "execution_count": 33,
   "id": "c58fe651",
   "metadata": {},
   "outputs": [],
   "source": [
    "summary = statistical_model.fit()"
   ]
  },
  {
   "cell_type": "code",
   "execution_count": 34,
   "id": "400aa3a6",
   "metadata": {
    "scrolled": false
   },
   "outputs": [
    {
     "name": "stdout",
     "output_type": "stream",
     "text": [
      "                                 OLS Regression Results                                \n",
      "=======================================================================================\n",
      "Dep. Variable:                 ventas   R-squared (uncentered):                   0.881\n",
      "Model:                            OLS   Adj. R-squared (uncentered):              0.877\n",
      "Method:                 Least Squares   F-statistic:                              204.7\n",
      "Date:                Mon, 04 Apr 2022   Prob (F-statistic):                    1.01e-85\n",
      "Time:                        17:01:37   Log-Likelihood:                         -2392.4\n",
      "No. Observations:                 200   AIC:                                      4799.\n",
      "Df Residuals:                     193   BIC:                                      4822.\n",
      "Df Model:                           7                                                  \n",
      "Covariance Type:            nonrobust                                                  \n",
      "===============================================================================\n",
      "                  coef    std err          t      P>|t|      [0.025      0.975]\n",
      "-------------------------------------------------------------------------------\n",
      "tv_abierta      1.2299      0.884      1.391      0.166      -0.514       2.974\n",
      "tv_paga         2.5733      0.532      4.835      0.000       1.524       3.623\n",
      "radio          -4.2516      1.455     -2.922      0.004      -7.122      -1.382\n",
      "impresiones    12.1304      2.674      4.536      0.000       6.855      17.405\n",
      "facebook        0.8468      1.837      0.461      0.645      -2.777       4.470\n",
      "google          2.2768      1.678      1.357      0.176      -1.033       5.587\n",
      "correo         31.8364      3.749      8.492      0.000      24.442      39.231\n",
      "==============================================================================\n",
      "Omnibus:                       13.816   Durbin-Watson:                   1.241\n",
      "Prob(Omnibus):                  0.001   Jarque-Bera (JB):               15.273\n",
      "Skew:                          -0.677   Prob(JB):                     0.000482\n",
      "Kurtosis:                       2.981   Cond. No.                         16.5\n",
      "==============================================================================\n",
      "\n",
      "Notes:\n",
      "[1] R² is computed without centering (uncentered) since the model does not contain a constant.\n",
      "[2] Standard Errors assume that the covariance matrix of the errors is correctly specified.\n"
     ]
    }
   ],
   "source": [
    "print( summary.summary() )"
   ]
  },
  {
   "cell_type": "markdown",
   "id": "5324fdd3",
   "metadata": {},
   "source": [
    "Observaciones:\n",
    "- Todos los canales de inversión considerados en el conjunto de datos **explican el comportamiento del 88% de las ventas** apróximadamente.\n",
    "- Hay suficiente evidencia estadística para aceptar que los canales de TV abierta, facebook y google no tienen una **relación  lineal** con las ventas."
   ]
  },
  {
   "cell_type": "markdown",
   "id": "b588c8a0",
   "metadata": {},
   "source": [
    "- Las **relaciones** entre los canales inversión y las ventas son **diferentes**. Algunas de ellas presentan una relación más fuerte con la ventas, pero no necesariamente se trata de una relación lineal."
   ]
  },
  {
   "cell_type": "markdown",
   "id": "73108fe1",
   "metadata": {},
   "source": [
    "## ¿Cómo son las inversiones a lo largo del año?"
   ]
  },
  {
   "cell_type": "code",
   "execution_count": 35,
   "id": "6a60423a",
   "metadata": {},
   "outputs": [],
   "source": [
    "data['año'] = data['fecha'].dt.year"
   ]
  },
  {
   "cell_type": "code",
   "execution_count": 36,
   "id": "71a40d5e",
   "metadata": {},
   "outputs": [],
   "source": [
    "data['mes'] = data['fecha'].dt.month"
   ]
  },
  {
   "cell_type": "code",
   "execution_count": 37,
   "id": "54a20ce1",
   "metadata": {},
   "outputs": [
    {
     "data": {
      "text/plain": [
       "Index(['fecha', 'tv_abierta', 'tv_paga', 'radio', 'impresiones', 'facebook',\n",
       "       'google', 'correo', 'ventas', 'año', 'mes'],\n",
       "      dtype='object')"
      ]
     },
     "execution_count": 37,
     "metadata": {},
     "output_type": "execute_result"
    }
   ],
   "source": [
    "data.columns"
   ]
  },
  {
   "cell_type": "code",
   "execution_count": 38,
   "id": "c5e92382",
   "metadata": {},
   "outputs": [],
   "source": [
    "dict_months = { \n",
    "    1:'Enero',\n",
    "    2:'Febrero',\n",
    "    3:'Marzo',\n",
    "    4:'Abril',\n",
    "    5:'Mayo',\n",
    "    6:'Junio',\n",
    "    7:'Julio',\n",
    "    8:'Agosto',\n",
    "    9:'Septiembre',\n",
    "    10:'Octubre',\n",
    "    11:'Noviembre',\n",
    "    12:'Diciembre'\n",
    "}"
   ]
  },
  {
   "cell_type": "code",
   "execution_count": 39,
   "id": "97903045",
   "metadata": {},
   "outputs": [],
   "source": [
    "data_names_dates = data.replace({'mes':dict_months})"
   ]
  },
  {
   "cell_type": "code",
   "execution_count": 40,
   "id": "6733bd9c",
   "metadata": {},
   "outputs": [
    {
     "data": {
      "text/html": [
       "<div>\n",
       "<style scoped>\n",
       "    .dataframe tbody tr th:only-of-type {\n",
       "        vertical-align: middle;\n",
       "    }\n",
       "\n",
       "    .dataframe tbody tr th {\n",
       "        vertical-align: top;\n",
       "    }\n",
       "\n",
       "    .dataframe thead th {\n",
       "        text-align: right;\n",
       "    }\n",
       "</style>\n",
       "<table border=\"1\" class=\"dataframe\">\n",
       "  <thead>\n",
       "    <tr style=\"text-align: right;\">\n",
       "      <th></th>\n",
       "      <th>fecha</th>\n",
       "      <th>tv_abierta</th>\n",
       "      <th>tv_paga</th>\n",
       "      <th>radio</th>\n",
       "      <th>impresiones</th>\n",
       "      <th>facebook</th>\n",
       "      <th>google</th>\n",
       "      <th>correo</th>\n",
       "      <th>ventas</th>\n",
       "      <th>año</th>\n",
       "      <th>mes</th>\n",
       "    </tr>\n",
       "  </thead>\n",
       "  <tbody>\n",
       "    <tr>\n",
       "      <th>54</th>\n",
       "      <td>2019-01-20</td>\n",
       "      <td>0.00000</td>\n",
       "      <td>0.00000</td>\n",
       "      <td>0.000000</td>\n",
       "      <td>0.000000</td>\n",
       "      <td>0.000000</td>\n",
       "      <td>0.000000</td>\n",
       "      <td>838.208147</td>\n",
       "      <td>85354.9</td>\n",
       "      <td>2019</td>\n",
       "      <td>Enero</td>\n",
       "    </tr>\n",
       "    <tr>\n",
       "      <th>18</th>\n",
       "      <td>2018-05-13</td>\n",
       "      <td>14869.70421</td>\n",
       "      <td>12103.71445</td>\n",
       "      <td>0.000000</td>\n",
       "      <td>2236.994923</td>\n",
       "      <td>0.000000</td>\n",
       "      <td>8344.402337</td>\n",
       "      <td>1118.497461</td>\n",
       "      <td>141583.2</td>\n",
       "      <td>2018</td>\n",
       "      <td>Mayo</td>\n",
       "    </tr>\n",
       "    <tr>\n",
       "      <th>48</th>\n",
       "      <td>2018-12-09</td>\n",
       "      <td>0.00000</td>\n",
       "      <td>0.00000</td>\n",
       "      <td>8383.112139</td>\n",
       "      <td>3202.437423</td>\n",
       "      <td>3350.036795</td>\n",
       "      <td>6052.552099</td>\n",
       "      <td>3442.324316</td>\n",
       "      <td>113124.8</td>\n",
       "      <td>2018</td>\n",
       "      <td>Diciembre</td>\n",
       "    </tr>\n",
       "  </tbody>\n",
       "</table>\n",
       "</div>"
      ],
      "text/plain": [
       "        fecha   tv_abierta      tv_paga        radio  impresiones  \\\n",
       "54 2019-01-20      0.00000      0.00000     0.000000     0.000000   \n",
       "18 2018-05-13  14869.70421  12103.71445     0.000000  2236.994923   \n",
       "48 2018-12-09      0.00000      0.00000  8383.112139  3202.437423   \n",
       "\n",
       "       facebook       google       correo    ventas   año        mes  \n",
       "54     0.000000     0.000000   838.208147   85354.9  2019      Enero  \n",
       "18     0.000000  8344.402337  1118.497461  141583.2  2018       Mayo  \n",
       "48  3350.036795  6052.552099  3442.324316  113124.8  2018  Diciembre  "
      ]
     },
     "execution_count": 40,
     "metadata": {},
     "output_type": "execute_result"
    }
   ],
   "source": [
    "data_names_dates.sample(3)"
   ]
  },
  {
   "cell_type": "code",
   "execution_count": 41,
   "id": "c5fc01dd",
   "metadata": {},
   "outputs": [],
   "source": [
    "data_melt_named = data_names_dates.melt(id_vars=['fecha','año','mes'], var_name='canal',value_vars=data.columns[1:8],value_name='inversion')"
   ]
  },
  {
   "cell_type": "code",
   "execution_count": 42,
   "id": "555a3047",
   "metadata": {},
   "outputs": [],
   "source": [
    "data_melt_named_grouped = data_melt_named.groupby(by=['año','mes'])['inversion'].sum().reset_index()"
   ]
  },
  {
   "cell_type": "code",
   "execution_count": 43,
   "id": "2ea56edf",
   "metadata": {},
   "outputs": [],
   "source": [
    "multi_select = alt.selection_multi(fields=['año'], bind='legend')"
   ]
  },
  {
   "cell_type": "code",
   "execution_count": 44,
   "id": "3acd7504",
   "metadata": {},
   "outputs": [
    {
     "data": {
      "text/html": [
       "\n",
       "<div id=\"altair-viz-269a4451529842a2933816dbde11be4a\"></div>\n",
       "<script type=\"text/javascript\">\n",
       "  (function(spec, embedOpt){\n",
       "    let outputDiv = document.currentScript.previousElementSibling;\n",
       "    if (outputDiv.id !== \"altair-viz-269a4451529842a2933816dbde11be4a\") {\n",
       "      outputDiv = document.getElementById(\"altair-viz-269a4451529842a2933816dbde11be4a\");\n",
       "    }\n",
       "    const paths = {\n",
       "      \"vega\": \"https://cdn.jsdelivr.net/npm//vega@5?noext\",\n",
       "      \"vega-lib\": \"https://cdn.jsdelivr.net/npm//vega-lib?noext\",\n",
       "      \"vega-lite\": \"https://cdn.jsdelivr.net/npm//vega-lite@4.17.0?noext\",\n",
       "      \"vega-embed\": \"https://cdn.jsdelivr.net/npm//vega-embed@6?noext\",\n",
       "    };\n",
       "\n",
       "    function loadScript(lib) {\n",
       "      return new Promise(function(resolve, reject) {\n",
       "        var s = document.createElement('script');\n",
       "        s.src = paths[lib];\n",
       "        s.async = true;\n",
       "        s.onload = () => resolve(paths[lib]);\n",
       "        s.onerror = () => reject(`Error loading script: ${paths[lib]}`);\n",
       "        document.getElementsByTagName(\"head\")[0].appendChild(s);\n",
       "      });\n",
       "    }\n",
       "\n",
       "    function showError(err) {\n",
       "      outputDiv.innerHTML = `<div class=\"error\" style=\"color:red;\">${err}</div>`;\n",
       "      throw err;\n",
       "    }\n",
       "\n",
       "    function displayChart(vegaEmbed) {\n",
       "      vegaEmbed(outputDiv, spec, embedOpt)\n",
       "        .catch(err => showError(`Javascript Error: ${err.message}<br>This usually means there's a typo in your chart specification. See the javascript console for the full traceback.`));\n",
       "    }\n",
       "\n",
       "    if(typeof define === \"function\" && define.amd) {\n",
       "      requirejs.config({paths});\n",
       "      require([\"vega-embed\"], displayChart, err => showError(`Error loading script: ${err.message}`));\n",
       "    } else if (typeof vegaEmbed === \"function\") {\n",
       "      displayChart(vegaEmbed);\n",
       "    } else {\n",
       "      loadScript(\"vega\")\n",
       "        .then(() => loadScript(\"vega-lite\"))\n",
       "        .then(() => loadScript(\"vega-embed\"))\n",
       "        .catch(showError)\n",
       "        .then(() => displayChart(vegaEmbed));\n",
       "    }\n",
       "  })({\"config\": {\"view\": {\"continuousWidth\": 400, \"continuousHeight\": 300}}, \"data\": {\"name\": \"data-9ff26dc22d1e9f182f679635e1ba5638\"}, \"mark\": {\"type\": \"line\", \"point\": true}, \"encoding\": {\"color\": {\"field\": \"a\\u00f1o\", \"scale\": {\"scheme\": \"dark2\"}, \"type\": \"nominal\"}, \"opacity\": {\"condition\": {\"value\": 1, \"selection\": \"selector001\"}, \"value\": 0.1}, \"tooltip\": [{\"field\": \"inversion\", \"format\": \"~s\", \"title\": \"Inversi\\u00f3n\", \"type\": \"quantitative\"}], \"x\": {\"field\": \"mes\", \"sort\": [\"Enero\", \"Febrero\", \"Marzo\", \"Abril\", \"Mayo\", \"Junio\", \"Julio\", \"Agosto\", \"Septiembre\", \"Octubre\", \"Noviembre\", \"Diciembre\"], \"title\": \"\", \"type\": \"ordinal\"}, \"y\": {\"field\": \"inversion\", \"title\": \"Inversiones en D\\u00f3lares\", \"type\": \"quantitative\"}}, \"height\": 200, \"selection\": {\"selector001\": {\"type\": \"multi\", \"fields\": [\"a\\u00f1o\"], \"bind\": \"legend\"}}, \"title\": \"Inversiones totales por A\\u00f1o\", \"width\": 800, \"$schema\": \"https://vega.github.io/schema/vega-lite/v4.17.0.json\", \"datasets\": {\"data-9ff26dc22d1e9f182f679635e1ba5638\": [{\"a\\u00f1o\": 2018, \"mes\": \"Abril\", \"inversion\": 137179.505491}, {\"a\\u00f1o\": 2018, \"mes\": \"Agosto\", \"inversion\": 39471.108749}, {\"a\\u00f1o\": 2018, \"mes\": \"Diciembre\", \"inversion\": 123793.2655769}, {\"a\\u00f1o\": 2018, \"mes\": \"Enero\", \"inversion\": 73434.45945}, {\"a\\u00f1o\": 2018, \"mes\": \"Febrero\", \"inversion\": 98581.5109212}, {\"a\\u00f1o\": 2018, \"mes\": \"Julio\", \"inversion\": 84533.406438}, {\"a\\u00f1o\": 2018, \"mes\": \"Junio\", \"inversion\": 95305.9231423}, {\"a\\u00f1o\": 2018, \"mes\": \"Marzo\", \"inversion\": 49436.59251}, {\"a\\u00f1o\": 2018, \"mes\": \"Mayo\", \"inversion\": 150416.063499}, {\"a\\u00f1o\": 2018, \"mes\": \"Noviembre\", \"inversion\": 55003.4972659}, {\"a\\u00f1o\": 2018, \"mes\": \"Octubre\", \"inversion\": 147707.655745}, {\"a\\u00f1o\": 2018, \"mes\": \"Septiembre\", \"inversion\": 64734.8071231}, {\"a\\u00f1o\": 2019, \"mes\": \"Abril\", \"inversion\": 24523.0465463}, {\"a\\u00f1o\": 2019, \"mes\": \"Agosto\", \"inversion\": 11325.9698725}, {\"a\\u00f1o\": 2019, \"mes\": \"Diciembre\", \"inversion\": 94635.32778970001}, {\"a\\u00f1o\": 2019, \"mes\": \"Enero\", \"inversion\": 58080.9442033}, {\"a\\u00f1o\": 2019, \"mes\": \"Febrero\", \"inversion\": 7941.1080599}, {\"a\\u00f1o\": 2019, \"mes\": \"Julio\", \"inversion\": 19573.0880781}, {\"a\\u00f1o\": 2019, \"mes\": \"Junio\", \"inversion\": 140621.784945}, {\"a\\u00f1o\": 2019, \"mes\": \"Marzo\", \"inversion\": 133205.2204445}, {\"a\\u00f1o\": 2019, \"mes\": \"Mayo\", \"inversion\": 23336.3464657}, {\"a\\u00f1o\": 2019, \"mes\": \"Noviembre\", \"inversion\": 21637.4595263}, {\"a\\u00f1o\": 2019, \"mes\": \"Octubre\", \"inversion\": 75337.660304}, {\"a\\u00f1o\": 2019, \"mes\": \"Septiembre\", \"inversion\": 88852.9962089}, {\"a\\u00f1o\": 2020, \"mes\": \"Abril\", \"inversion\": 105053.184095}, {\"a\\u00f1o\": 2020, \"mes\": \"Agosto\", \"inversion\": 112993.1452543}, {\"a\\u00f1o\": 2020, \"mes\": \"Diciembre\", \"inversion\": 39893.9997059}, {\"a\\u00f1o\": 2020, \"mes\": \"Enero\", \"inversion\": 78937.8925803}, {\"a\\u00f1o\": 2020, \"mes\": \"Febrero\", \"inversion\": 124287.5916398}, {\"a\\u00f1o\": 2020, \"mes\": \"Julio\", \"inversion\": 59804.706879}, {\"a\\u00f1o\": 2020, \"mes\": \"Junio\", \"inversion\": 164130.661498}, {\"a\\u00f1o\": 2020, \"mes\": \"Marzo\", \"inversion\": 113143.872469}, {\"a\\u00f1o\": 2020, \"mes\": \"Mayo\", \"inversion\": 121783.8528205}, {\"a\\u00f1o\": 2020, \"mes\": \"Noviembre\", \"inversion\": 37110.4949829}, {\"a\\u00f1o\": 2020, \"mes\": \"Octubre\", \"inversion\": 140613.976026}, {\"a\\u00f1o\": 2020, \"mes\": \"Septiembre\", \"inversion\": 20461.8917821}, {\"a\\u00f1o\": 2021, \"mes\": \"Abril\", \"inversion\": 108394.892977}, {\"a\\u00f1o\": 2021, \"mes\": \"Agosto\", \"inversion\": 142904.499838}, {\"a\\u00f1o\": 2021, \"mes\": \"Enero\", \"inversion\": 14947.6042603}, {\"a\\u00f1o\": 2021, \"mes\": \"Febrero\", \"inversion\": 128584.572929}, {\"a\\u00f1o\": 2021, \"mes\": \"Julio\", \"inversion\": 60662.3099691}, {\"a\\u00f1o\": 2021, \"mes\": \"Junio\", \"inversion\": 90226.4011113}, {\"a\\u00f1o\": 2021, \"mes\": \"Marzo\", \"inversion\": 64337.3635723}, {\"a\\u00f1o\": 2021, \"mes\": \"Mayo\", \"inversion\": 33568.9760523}, {\"a\\u00f1o\": 2021, \"mes\": \"Octubre\", \"inversion\": 80686.490215}, {\"a\\u00f1o\": 2021, \"mes\": \"Septiembre\", \"inversion\": 125476.05669299999}]}}, {\"mode\": \"vega-lite\"});\n",
       "</script>"
      ],
      "text/plain": [
       "alt.Chart(...)"
      ]
     },
     "execution_count": 44,
     "metadata": {},
     "output_type": "execute_result"
    }
   ],
   "source": [
    "alt.Chart(data_melt_named_grouped).mark_line(point = True).encode(\n",
    "    x = alt.X(\"mes:O\", title=\"\", sort=['Enero','Febrero','Marzo','Abril','Mayo','Junio','Julio','Agosto','Septiembre','Octubre','Noviembre','Diciembre']),\n",
    "    y = alt.Y(\"inversion:Q\", title='Inversiones en Dólares'),\n",
    "    tooltip=[alt.Tooltip('inversion',title='Inversión',format='~s')],\n",
    "    color=alt.Color('año:N', scale=alt.Scale(scheme='dark2')),\n",
    "    opacity=alt.condition(multi_select, alt.value(1), alt.value(0.1))\n",
    ").add_selection(\n",
    "    multi_select\n",
    ").properties(\n",
    "    title=\"Inversiones totales por Año\",\n",
    "    width=800,\n",
    "    height=200,\n",
    ")"
   ]
  },
  {
   "cell_type": "markdown",
   "id": "cc61787a",
   "metadata": {},
   "source": [
    "- No se identifica un mes en particular con un compartamiento de inversión diferenciado a los otros meses."
   ]
  },
  {
   "cell_type": "markdown",
   "id": "c9958589",
   "metadata": {},
   "source": [
    "## ¿Cómo están compuestas las inversiones por año?"
   ]
  },
  {
   "cell_type": "code",
   "execution_count": 45,
   "id": "bb90630f",
   "metadata": {},
   "outputs": [],
   "source": [
    "def composition_year(year, title):\n",
    "    \n",
    "    df = data_melt_named.loc[data_melt_named['año']==year, :]\n",
    "    \n",
    "    df = df.groupby(by=['canal']).agg({'inversion':'sum'}).reset_index()\n",
    "    \n",
    "    chart = alt.Chart(df).transform_joinaggregate(\n",
    "        TotalInvestment='sum(inversion)',\n",
    "    ).transform_calculate(\n",
    "        PercentOfTotal=\"datum.inversion / datum.TotalInvestment\"\n",
    "    ).mark_arc(innerRadius=20, stroke=\"#fff\").encode(\n",
    "        theta=alt.Theta(\"PercentOfTotal:Q\", stack=True),\n",
    "        radius=alt.Radius(\"PercentOfTotal:Q\",scale=alt.Scale(type=\"sqrt\", zero=True, rangeMin=10, scheme='dark2')),\n",
    "        tooltip=[alt.Tooltip('PercentOfTotal:Q',title='Proporción:',format='.2f'),\n",
    "                 alt.Tooltip('inversion:Q',title='Inversión:',format='~s')],\n",
    "        color=\"canal:N\",\n",
    "    ).properties(\n",
    "        title=f\"{title}\",\n",
    "        width=250,\n",
    "        height=250\n",
    "    ).configure_view(\n",
    "    strokeWidth=0\n",
    "    )\n",
    "    return chart"
   ]
  },
  {
   "cell_type": "code",
   "execution_count": 46,
   "id": "f024ac43",
   "metadata": {},
   "outputs": [
    {
     "data": {
      "text/html": [
       "\n",
       "<div id=\"altair-viz-7465d5c40799474f9f05763828120b06\"></div>\n",
       "<script type=\"text/javascript\">\n",
       "  (function(spec, embedOpt){\n",
       "    let outputDiv = document.currentScript.previousElementSibling;\n",
       "    if (outputDiv.id !== \"altair-viz-7465d5c40799474f9f05763828120b06\") {\n",
       "      outputDiv = document.getElementById(\"altair-viz-7465d5c40799474f9f05763828120b06\");\n",
       "    }\n",
       "    const paths = {\n",
       "      \"vega\": \"https://cdn.jsdelivr.net/npm//vega@5?noext\",\n",
       "      \"vega-lib\": \"https://cdn.jsdelivr.net/npm//vega-lib?noext\",\n",
       "      \"vega-lite\": \"https://cdn.jsdelivr.net/npm//vega-lite@4.17.0?noext\",\n",
       "      \"vega-embed\": \"https://cdn.jsdelivr.net/npm//vega-embed@6?noext\",\n",
       "    };\n",
       "\n",
       "    function loadScript(lib) {\n",
       "      return new Promise(function(resolve, reject) {\n",
       "        var s = document.createElement('script');\n",
       "        s.src = paths[lib];\n",
       "        s.async = true;\n",
       "        s.onload = () => resolve(paths[lib]);\n",
       "        s.onerror = () => reject(`Error loading script: ${paths[lib]}`);\n",
       "        document.getElementsByTagName(\"head\")[0].appendChild(s);\n",
       "      });\n",
       "    }\n",
       "\n",
       "    function showError(err) {\n",
       "      outputDiv.innerHTML = `<div class=\"error\" style=\"color:red;\">${err}</div>`;\n",
       "      throw err;\n",
       "    }\n",
       "\n",
       "    function displayChart(vegaEmbed) {\n",
       "      vegaEmbed(outputDiv, spec, embedOpt)\n",
       "        .catch(err => showError(`Javascript Error: ${err.message}<br>This usually means there's a typo in your chart specification. See the javascript console for the full traceback.`));\n",
       "    }\n",
       "\n",
       "    if(typeof define === \"function\" && define.amd) {\n",
       "      requirejs.config({paths});\n",
       "      require([\"vega-embed\"], displayChart, err => showError(`Error loading script: ${err.message}`));\n",
       "    } else if (typeof vegaEmbed === \"function\") {\n",
       "      displayChart(vegaEmbed);\n",
       "    } else {\n",
       "      loadScript(\"vega\")\n",
       "        .then(() => loadScript(\"vega-lite\"))\n",
       "        .then(() => loadScript(\"vega-embed\"))\n",
       "        .catch(showError)\n",
       "        .then(() => displayChart(vegaEmbed));\n",
       "    }\n",
       "  })({\"config\": {\"view\": {\"continuousWidth\": 400, \"continuousHeight\": 300, \"strokeWidth\": 0}}, \"data\": {\"name\": \"data-196254dbea99ee45fc2ded3fcaadff8a\"}, \"mark\": {\"type\": \"arc\", \"innerRadius\": 20, \"stroke\": \"#fff\"}, \"encoding\": {\"color\": {\"field\": \"canal\", \"type\": \"nominal\"}, \"radius\": {\"field\": \"PercentOfTotal\", \"scale\": {\"rangeMin\": 10, \"scheme\": \"dark2\", \"type\": \"sqrt\", \"zero\": true}, \"type\": \"quantitative\"}, \"theta\": {\"field\": \"PercentOfTotal\", \"stack\": true, \"type\": \"quantitative\"}, \"tooltip\": [{\"field\": \"PercentOfTotal\", \"format\": \".2f\", \"title\": \"Proporci\\u00f3n:\", \"type\": \"quantitative\"}, {\"field\": \"inversion\", \"format\": \"~s\", \"title\": \"Inversi\\u00f3n:\", \"type\": \"quantitative\"}]}, \"height\": 250, \"title\": \"Proporciones de inversi\\u00f3n para el 2018\", \"transform\": [{\"joinaggregate\": [{\"op\": \"sum\", \"field\": \"inversion\", \"as\": \"TotalInvestment\"}]}, {\"calculate\": \"datum.inversion / datum.TotalInvestment\", \"as\": \"PercentOfTotal\"}], \"width\": 250, \"$schema\": \"https://vega.github.io/schema/vega-lite/v4.17.0.json\", \"datasets\": {\"data-196254dbea99ee45fc2ded3fcaadff8a\": [{\"canal\": \"correo\", \"inversion\": 101946.2979236}, {\"canal\": \"facebook\", \"inversion\": 92988.160475}, {\"canal\": \"google\", \"inversion\": 205590.612264}, {\"canal\": \"impresiones\", \"inversion\": 73748.8441608}, {\"canal\": \"radio\", \"inversion\": 173709.962018}, {\"canal\": \"tv_abierta\", \"inversion\": 264525.25732}, {\"canal\": \"tv_paga\", \"inversion\": 207088.66175}]}}, {\"mode\": \"vega-lite\"});\n",
       "</script>"
      ],
      "text/plain": [
       "alt.Chart(...)"
      ]
     },
     "execution_count": 46,
     "metadata": {},
     "output_type": "execute_result"
    }
   ],
   "source": [
    "composition_year(2018, 'Proporciones de inversión para el 2018')"
   ]
  },
  {
   "cell_type": "code",
   "execution_count": 47,
   "id": "4f53b455",
   "metadata": {},
   "outputs": [
    {
     "data": {
      "text/html": [
       "\n",
       "<div id=\"altair-viz-fd9f29eecb1c4cb0bd480a57fa99ebbf\"></div>\n",
       "<script type=\"text/javascript\">\n",
       "  (function(spec, embedOpt){\n",
       "    let outputDiv = document.currentScript.previousElementSibling;\n",
       "    if (outputDiv.id !== \"altair-viz-fd9f29eecb1c4cb0bd480a57fa99ebbf\") {\n",
       "      outputDiv = document.getElementById(\"altair-viz-fd9f29eecb1c4cb0bd480a57fa99ebbf\");\n",
       "    }\n",
       "    const paths = {\n",
       "      \"vega\": \"https://cdn.jsdelivr.net/npm//vega@5?noext\",\n",
       "      \"vega-lib\": \"https://cdn.jsdelivr.net/npm//vega-lib?noext\",\n",
       "      \"vega-lite\": \"https://cdn.jsdelivr.net/npm//vega-lite@4.17.0?noext\",\n",
       "      \"vega-embed\": \"https://cdn.jsdelivr.net/npm//vega-embed@6?noext\",\n",
       "    };\n",
       "\n",
       "    function loadScript(lib) {\n",
       "      return new Promise(function(resolve, reject) {\n",
       "        var s = document.createElement('script');\n",
       "        s.src = paths[lib];\n",
       "        s.async = true;\n",
       "        s.onload = () => resolve(paths[lib]);\n",
       "        s.onerror = () => reject(`Error loading script: ${paths[lib]}`);\n",
       "        document.getElementsByTagName(\"head\")[0].appendChild(s);\n",
       "      });\n",
       "    }\n",
       "\n",
       "    function showError(err) {\n",
       "      outputDiv.innerHTML = `<div class=\"error\" style=\"color:red;\">${err}</div>`;\n",
       "      throw err;\n",
       "    }\n",
       "\n",
       "    function displayChart(vegaEmbed) {\n",
       "      vegaEmbed(outputDiv, spec, embedOpt)\n",
       "        .catch(err => showError(`Javascript Error: ${err.message}<br>This usually means there's a typo in your chart specification. See the javascript console for the full traceback.`));\n",
       "    }\n",
       "\n",
       "    if(typeof define === \"function\" && define.amd) {\n",
       "      requirejs.config({paths});\n",
       "      require([\"vega-embed\"], displayChart, err => showError(`Error loading script: ${err.message}`));\n",
       "    } else if (typeof vegaEmbed === \"function\") {\n",
       "      displayChart(vegaEmbed);\n",
       "    } else {\n",
       "      loadScript(\"vega\")\n",
       "        .then(() => loadScript(\"vega-lite\"))\n",
       "        .then(() => loadScript(\"vega-embed\"))\n",
       "        .catch(showError)\n",
       "        .then(() => displayChart(vegaEmbed));\n",
       "    }\n",
       "  })({\"config\": {\"view\": {\"continuousWidth\": 400, \"continuousHeight\": 300, \"strokeWidth\": 0}}, \"data\": {\"name\": \"data-e7d8e935ef24b6d2e1f2c0f62126084d\"}, \"mark\": {\"type\": \"arc\", \"innerRadius\": 20, \"stroke\": \"#fff\"}, \"encoding\": {\"color\": {\"field\": \"canal\", \"type\": \"nominal\"}, \"radius\": {\"field\": \"PercentOfTotal\", \"scale\": {\"rangeMin\": 10, \"scheme\": \"dark2\", \"type\": \"sqrt\", \"zero\": true}, \"type\": \"quantitative\"}, \"theta\": {\"field\": \"PercentOfTotal\", \"stack\": true, \"type\": \"quantitative\"}, \"tooltip\": [{\"field\": \"PercentOfTotal\", \"format\": \".2f\", \"title\": \"Proporci\\u00f3n:\", \"type\": \"quantitative\"}, {\"field\": \"inversion\", \"format\": \"~s\", \"title\": \"Inversi\\u00f3n:\", \"type\": \"quantitative\"}]}, \"height\": 250, \"title\": \"Proporciones de inversi\\u00f3n para el 2019\", \"transform\": [{\"joinaggregate\": [{\"op\": \"sum\", \"field\": \"inversion\", \"as\": \"TotalInvestment\"}]}, {\"calculate\": \"datum.inversion / datum.TotalInvestment\", \"as\": \"PercentOfTotal\"}], \"width\": 250, \"$schema\": \"https://vega.github.io/schema/vega-lite/v4.17.0.json\", \"datasets\": {\"data-e7d8e935ef24b6d2e1f2c0f62126084d\": [{\"canal\": \"correo\", \"inversion\": 90881.7175925}, {\"canal\": \"facebook\", \"inversion\": 62711.628011}, {\"canal\": \"google\", \"inversion\": 99811.096881}, {\"canal\": \"impresiones\", \"inversion\": 64672.4252357}, {\"canal\": \"radio\", \"inversion\": 133947.743544}, {\"canal\": \"tv_abierta\", \"inversion\": 138998.5556}, {\"canal\": \"tv_paga\", \"inversion\": 108047.78558}]}}, {\"mode\": \"vega-lite\"});\n",
       "</script>"
      ],
      "text/plain": [
       "alt.Chart(...)"
      ]
     },
     "execution_count": 47,
     "metadata": {},
     "output_type": "execute_result"
    }
   ],
   "source": [
    "composition_year(2019, 'Proporciones de inversión para el 2019')"
   ]
  },
  {
   "cell_type": "code",
   "execution_count": 48,
   "id": "ef697971",
   "metadata": {},
   "outputs": [
    {
     "data": {
      "text/html": [
       "\n",
       "<div id=\"altair-viz-91c76a9ba1774c93a7b27db4979dbdef\"></div>\n",
       "<script type=\"text/javascript\">\n",
       "  (function(spec, embedOpt){\n",
       "    let outputDiv = document.currentScript.previousElementSibling;\n",
       "    if (outputDiv.id !== \"altair-viz-91c76a9ba1774c93a7b27db4979dbdef\") {\n",
       "      outputDiv = document.getElementById(\"altair-viz-91c76a9ba1774c93a7b27db4979dbdef\");\n",
       "    }\n",
       "    const paths = {\n",
       "      \"vega\": \"https://cdn.jsdelivr.net/npm//vega@5?noext\",\n",
       "      \"vega-lib\": \"https://cdn.jsdelivr.net/npm//vega-lib?noext\",\n",
       "      \"vega-lite\": \"https://cdn.jsdelivr.net/npm//vega-lite@4.17.0?noext\",\n",
       "      \"vega-embed\": \"https://cdn.jsdelivr.net/npm//vega-embed@6?noext\",\n",
       "    };\n",
       "\n",
       "    function loadScript(lib) {\n",
       "      return new Promise(function(resolve, reject) {\n",
       "        var s = document.createElement('script');\n",
       "        s.src = paths[lib];\n",
       "        s.async = true;\n",
       "        s.onload = () => resolve(paths[lib]);\n",
       "        s.onerror = () => reject(`Error loading script: ${paths[lib]}`);\n",
       "        document.getElementsByTagName(\"head\")[0].appendChild(s);\n",
       "      });\n",
       "    }\n",
       "\n",
       "    function showError(err) {\n",
       "      outputDiv.innerHTML = `<div class=\"error\" style=\"color:red;\">${err}</div>`;\n",
       "      throw err;\n",
       "    }\n",
       "\n",
       "    function displayChart(vegaEmbed) {\n",
       "      vegaEmbed(outputDiv, spec, embedOpt)\n",
       "        .catch(err => showError(`Javascript Error: ${err.message}<br>This usually means there's a typo in your chart specification. See the javascript console for the full traceback.`));\n",
       "    }\n",
       "\n",
       "    if(typeof define === \"function\" && define.amd) {\n",
       "      requirejs.config({paths});\n",
       "      require([\"vega-embed\"], displayChart, err => showError(`Error loading script: ${err.message}`));\n",
       "    } else if (typeof vegaEmbed === \"function\") {\n",
       "      displayChart(vegaEmbed);\n",
       "    } else {\n",
       "      loadScript(\"vega\")\n",
       "        .then(() => loadScript(\"vega-lite\"))\n",
       "        .then(() => loadScript(\"vega-embed\"))\n",
       "        .catch(showError)\n",
       "        .then(() => displayChart(vegaEmbed));\n",
       "    }\n",
       "  })({\"config\": {\"view\": {\"continuousWidth\": 400, \"continuousHeight\": 300, \"strokeWidth\": 0}}, \"data\": {\"name\": \"data-40988037f004b024108b4ba75d96b4b0\"}, \"mark\": {\"type\": \"arc\", \"innerRadius\": 20, \"stroke\": \"#fff\"}, \"encoding\": {\"color\": {\"field\": \"canal\", \"type\": \"nominal\"}, \"radius\": {\"field\": \"PercentOfTotal\", \"scale\": {\"rangeMin\": 10, \"scheme\": \"dark2\", \"type\": \"sqrt\", \"zero\": true}, \"type\": \"quantitative\"}, \"theta\": {\"field\": \"PercentOfTotal\", \"stack\": true, \"type\": \"quantitative\"}, \"tooltip\": [{\"field\": \"PercentOfTotal\", \"format\": \".2f\", \"title\": \"Proporci\\u00f3n:\", \"type\": \"quantitative\"}, {\"field\": \"inversion\", \"format\": \"~s\", \"title\": \"Inversi\\u00f3n:\", \"type\": \"quantitative\"}]}, \"height\": 250, \"title\": \"Proporciones de inversi\\u00f3n para el 2020\", \"transform\": [{\"joinaggregate\": [{\"op\": \"sum\", \"field\": \"inversion\", \"as\": \"TotalInvestment\"}]}, {\"calculate\": \"datum.inversion / datum.TotalInvestment\", \"as\": \"PercentOfTotal\"}], \"width\": 250, \"$schema\": \"https://vega.github.io/schema/vega-lite/v4.17.0.json\", \"datasets\": {\"data-40988037f004b024108b4ba75d96b4b0\": [{\"canal\": \"correo\", \"inversion\": 102795.9449708}, {\"canal\": \"facebook\", \"inversion\": 80206.130426}, {\"canal\": \"google\", \"inversion\": 209168.896927}, {\"canal\": \"impresiones\", \"inversion\": 77611.865712}, {\"canal\": \"radio\", \"inversion\": 193270.419737}, {\"canal\": \"tv_abierta\", \"inversion\": 235478.59496}, {\"canal\": \"tv_paga\", \"inversion\": 219683.41700000002}]}}, {\"mode\": \"vega-lite\"});\n",
       "</script>"
      ],
      "text/plain": [
       "alt.Chart(...)"
      ]
     },
     "execution_count": 48,
     "metadata": {},
     "output_type": "execute_result"
    }
   ],
   "source": [
    "composition_year(2020, 'Proporciones de inversión para el 2020')"
   ]
  },
  {
   "cell_type": "code",
   "execution_count": 49,
   "id": "7c8462db",
   "metadata": {},
   "outputs": [
    {
     "data": {
      "text/html": [
       "\n",
       "<div id=\"altair-viz-41328a78345c462ebfa3f7cd4d372abb\"></div>\n",
       "<script type=\"text/javascript\">\n",
       "  (function(spec, embedOpt){\n",
       "    let outputDiv = document.currentScript.previousElementSibling;\n",
       "    if (outputDiv.id !== \"altair-viz-41328a78345c462ebfa3f7cd4d372abb\") {\n",
       "      outputDiv = document.getElementById(\"altair-viz-41328a78345c462ebfa3f7cd4d372abb\");\n",
       "    }\n",
       "    const paths = {\n",
       "      \"vega\": \"https://cdn.jsdelivr.net/npm//vega@5?noext\",\n",
       "      \"vega-lib\": \"https://cdn.jsdelivr.net/npm//vega-lib?noext\",\n",
       "      \"vega-lite\": \"https://cdn.jsdelivr.net/npm//vega-lite@4.17.0?noext\",\n",
       "      \"vega-embed\": \"https://cdn.jsdelivr.net/npm//vega-embed@6?noext\",\n",
       "    };\n",
       "\n",
       "    function loadScript(lib) {\n",
       "      return new Promise(function(resolve, reject) {\n",
       "        var s = document.createElement('script');\n",
       "        s.src = paths[lib];\n",
       "        s.async = true;\n",
       "        s.onload = () => resolve(paths[lib]);\n",
       "        s.onerror = () => reject(`Error loading script: ${paths[lib]}`);\n",
       "        document.getElementsByTagName(\"head\")[0].appendChild(s);\n",
       "      });\n",
       "    }\n",
       "\n",
       "    function showError(err) {\n",
       "      outputDiv.innerHTML = `<div class=\"error\" style=\"color:red;\">${err}</div>`;\n",
       "      throw err;\n",
       "    }\n",
       "\n",
       "    function displayChart(vegaEmbed) {\n",
       "      vegaEmbed(outputDiv, spec, embedOpt)\n",
       "        .catch(err => showError(`Javascript Error: ${err.message}<br>This usually means there's a typo in your chart specification. See the javascript console for the full traceback.`));\n",
       "    }\n",
       "\n",
       "    if(typeof define === \"function\" && define.amd) {\n",
       "      requirejs.config({paths});\n",
       "      require([\"vega-embed\"], displayChart, err => showError(`Error loading script: ${err.message}`));\n",
       "    } else if (typeof vegaEmbed === \"function\") {\n",
       "      displayChart(vegaEmbed);\n",
       "    } else {\n",
       "      loadScript(\"vega\")\n",
       "        .then(() => loadScript(\"vega-lite\"))\n",
       "        .then(() => loadScript(\"vega-embed\"))\n",
       "        .catch(showError)\n",
       "        .then(() => displayChart(vegaEmbed));\n",
       "    }\n",
       "  })({\"config\": {\"view\": {\"continuousWidth\": 400, \"continuousHeight\": 300, \"strokeWidth\": 0}}, \"data\": {\"name\": \"data-120d67b1cd2c0aba2479c2c97b526f53\"}, \"mark\": {\"type\": \"arc\", \"innerRadius\": 20, \"stroke\": \"#fff\"}, \"encoding\": {\"color\": {\"field\": \"canal\", \"type\": \"nominal\"}, \"radius\": {\"field\": \"PercentOfTotal\", \"scale\": {\"rangeMin\": 10, \"scheme\": \"dark2\", \"type\": \"sqrt\", \"zero\": true}, \"type\": \"quantitative\"}, \"theta\": {\"field\": \"PercentOfTotal\", \"stack\": true, \"type\": \"quantitative\"}, \"tooltip\": [{\"field\": \"PercentOfTotal\", \"format\": \".2f\", \"title\": \"Proporci\\u00f3n:\", \"type\": \"quantitative\"}, {\"field\": \"inversion\", \"format\": \"~s\", \"title\": \"Inversi\\u00f3n:\", \"type\": \"quantitative\"}]}, \"height\": 250, \"title\": \"Proporciones de inversi\\u00f3n para el 2021\", \"transform\": [{\"joinaggregate\": [{\"op\": \"sum\", \"field\": \"inversion\", \"as\": \"TotalInvestment\"}]}, {\"calculate\": \"datum.inversion / datum.TotalInvestment\", \"as\": \"PercentOfTotal\"}], \"width\": 250, \"$schema\": \"https://vega.github.io/schema/vega-lite/v4.17.0.json\", \"datasets\": {\"data-120d67b1cd2c0aba2479c2c97b526f53\": [{\"canal\": \"correo\", \"inversion\": 92853.2676696}, {\"canal\": \"facebook\", \"inversion\": 43838.102692}, {\"canal\": \"google\", \"inversion\": 169220.10803}, {\"canal\": \"impresiones\", \"inversion\": 53226.7667517}, {\"canal\": \"radio\", \"inversion\": 145518.653554}, {\"canal\": \"tv_abierta\", \"inversion\": 191852.891}, {\"canal\": \"tv_paga\", \"inversion\": 153279.37792}]}}, {\"mode\": \"vega-lite\"});\n",
       "</script>"
      ],
      "text/plain": [
       "alt.Chart(...)"
      ]
     },
     "execution_count": 49,
     "metadata": {},
     "output_type": "execute_result"
    }
   ],
   "source": [
    "composition_year(2021, 'Proporciones de inversión para el 2021')"
   ]
  },
  {
   "cell_type": "markdown",
   "id": "459e1441",
   "metadata": {},
   "source": [
    "Observaciones:\n",
    "- Las inversiones en TV abierta por año siempre son las que cuentan con mayor presupuesto.\n",
    "- Las inversiones en campañas en facebook han ido decreciendo con respecto a las otras desde el 2019 hasta el 2021.\n",
    "- Pese a que las inversiones en TV de paga y las ventas no estén fuertemente relacionadas, es una de las categorias de las que cuentan con más inversión anual."
   ]
  },
  {
   "cell_type": "code",
   "execution_count": 50,
   "id": "bba31d0e",
   "metadata": {},
   "outputs": [],
   "source": [
    "data_melt_cats = data_melt_named.groupby(by=['año','canal']).agg({'inversion':'sum'}).reset_index()"
   ]
  },
  {
   "cell_type": "code",
   "execution_count": 51,
   "id": "c36ae6f8",
   "metadata": {
    "scrolled": true
   },
   "outputs": [
    {
     "data": {
      "text/html": [
       "\n",
       "<div id=\"altair-viz-7dbf1a571b004d1fbffa8d3100f8c9ad\"></div>\n",
       "<script type=\"text/javascript\">\n",
       "  (function(spec, embedOpt){\n",
       "    let outputDiv = document.currentScript.previousElementSibling;\n",
       "    if (outputDiv.id !== \"altair-viz-7dbf1a571b004d1fbffa8d3100f8c9ad\") {\n",
       "      outputDiv = document.getElementById(\"altair-viz-7dbf1a571b004d1fbffa8d3100f8c9ad\");\n",
       "    }\n",
       "    const paths = {\n",
       "      \"vega\": \"https://cdn.jsdelivr.net/npm//vega@5?noext\",\n",
       "      \"vega-lib\": \"https://cdn.jsdelivr.net/npm//vega-lib?noext\",\n",
       "      \"vega-lite\": \"https://cdn.jsdelivr.net/npm//vega-lite@4.17.0?noext\",\n",
       "      \"vega-embed\": \"https://cdn.jsdelivr.net/npm//vega-embed@6?noext\",\n",
       "    };\n",
       "\n",
       "    function loadScript(lib) {\n",
       "      return new Promise(function(resolve, reject) {\n",
       "        var s = document.createElement('script');\n",
       "        s.src = paths[lib];\n",
       "        s.async = true;\n",
       "        s.onload = () => resolve(paths[lib]);\n",
       "        s.onerror = () => reject(`Error loading script: ${paths[lib]}`);\n",
       "        document.getElementsByTagName(\"head\")[0].appendChild(s);\n",
       "      });\n",
       "    }\n",
       "\n",
       "    function showError(err) {\n",
       "      outputDiv.innerHTML = `<div class=\"error\" style=\"color:red;\">${err}</div>`;\n",
       "      throw err;\n",
       "    }\n",
       "\n",
       "    function displayChart(vegaEmbed) {\n",
       "      vegaEmbed(outputDiv, spec, embedOpt)\n",
       "        .catch(err => showError(`Javascript Error: ${err.message}<br>This usually means there's a typo in your chart specification. See the javascript console for the full traceback.`));\n",
       "    }\n",
       "\n",
       "    if(typeof define === \"function\" && define.amd) {\n",
       "      requirejs.config({paths});\n",
       "      require([\"vega-embed\"], displayChart, err => showError(`Error loading script: ${err.message}`));\n",
       "    } else if (typeof vegaEmbed === \"function\") {\n",
       "      displayChart(vegaEmbed);\n",
       "    } else {\n",
       "      loadScript(\"vega\")\n",
       "        .then(() => loadScript(\"vega-lite\"))\n",
       "        .then(() => loadScript(\"vega-embed\"))\n",
       "        .catch(showError)\n",
       "        .then(() => displayChart(vegaEmbed));\n",
       "    }\n",
       "  })({\"config\": {\"view\": {\"continuousWidth\": 400, \"continuousHeight\": 300, \"strokeWidth\": 0}}, \"data\": {\"name\": \"data-5e777a125f9f8b861fbff97259baaa7b\"}, \"mark\": {\"type\": \"area\", \"color\": {\"gradient\": \"linear\", \"stops\": [{\"color\": \"white\", \"offset\": 0}, {\"color\": \"darkred\", \"offset\": 1}], \"x1\": 1, \"x2\": 1, \"y1\": 1, \"y2\": 0}, \"line\": {\"color\": \"darkred\"}}, \"encoding\": {\"tooltip\": {\"field\": \"inversion\", \"format\": \"~s\", \"title\": \"Inversi\\u00f3n realizada\", \"type\": \"quantitative\"}, \"x\": {\"field\": \"a\\u00f1o\", \"type\": \"ordinal\"}, \"y\": {\"field\": \"inversion\", \"type\": \"quantitative\"}}, \"height\": 150, \"title\": \"Inversiones en Facebook del 2018 al 2021\", \"transform\": [{\"filter\": \"datum.canal===\\\"facebook\\\"\"}], \"width\": 300, \"$schema\": \"https://vega.github.io/schema/vega-lite/v4.17.0.json\", \"datasets\": {\"data-5e777a125f9f8b861fbff97259baaa7b\": [{\"a\\u00f1o\": 2018, \"canal\": \"correo\", \"inversion\": 101946.2979236}, {\"a\\u00f1o\": 2018, \"canal\": \"facebook\", \"inversion\": 92988.160475}, {\"a\\u00f1o\": 2018, \"canal\": \"google\", \"inversion\": 205590.612264}, {\"a\\u00f1o\": 2018, \"canal\": \"impresiones\", \"inversion\": 73748.8441608}, {\"a\\u00f1o\": 2018, \"canal\": \"radio\", \"inversion\": 173709.962018}, {\"a\\u00f1o\": 2018, \"canal\": \"tv_abierta\", \"inversion\": 264525.25732}, {\"a\\u00f1o\": 2018, \"canal\": \"tv_paga\", \"inversion\": 207088.66175}, {\"a\\u00f1o\": 2019, \"canal\": \"correo\", \"inversion\": 90881.7175925}, {\"a\\u00f1o\": 2019, \"canal\": \"facebook\", \"inversion\": 62711.628011}, {\"a\\u00f1o\": 2019, \"canal\": \"google\", \"inversion\": 99811.096881}, {\"a\\u00f1o\": 2019, \"canal\": \"impresiones\", \"inversion\": 64672.4252357}, {\"a\\u00f1o\": 2019, \"canal\": \"radio\", \"inversion\": 133947.743544}, {\"a\\u00f1o\": 2019, \"canal\": \"tv_abierta\", \"inversion\": 138998.5556}, {\"a\\u00f1o\": 2019, \"canal\": \"tv_paga\", \"inversion\": 108047.78558}, {\"a\\u00f1o\": 2020, \"canal\": \"correo\", \"inversion\": 102795.9449708}, {\"a\\u00f1o\": 2020, \"canal\": \"facebook\", \"inversion\": 80206.130426}, {\"a\\u00f1o\": 2020, \"canal\": \"google\", \"inversion\": 209168.896927}, {\"a\\u00f1o\": 2020, \"canal\": \"impresiones\", \"inversion\": 77611.865712}, {\"a\\u00f1o\": 2020, \"canal\": \"radio\", \"inversion\": 193270.419737}, {\"a\\u00f1o\": 2020, \"canal\": \"tv_abierta\", \"inversion\": 235478.59496}, {\"a\\u00f1o\": 2020, \"canal\": \"tv_paga\", \"inversion\": 219683.41700000002}, {\"a\\u00f1o\": 2021, \"canal\": \"correo\", \"inversion\": 92853.2676696}, {\"a\\u00f1o\": 2021, \"canal\": \"facebook\", \"inversion\": 43838.102692}, {\"a\\u00f1o\": 2021, \"canal\": \"google\", \"inversion\": 169220.10803}, {\"a\\u00f1o\": 2021, \"canal\": \"impresiones\", \"inversion\": 53226.7667517}, {\"a\\u00f1o\": 2021, \"canal\": \"radio\", \"inversion\": 145518.653554}, {\"a\\u00f1o\": 2021, \"canal\": \"tv_abierta\", \"inversion\": 191852.891}, {\"a\\u00f1o\": 2021, \"canal\": \"tv_paga\", \"inversion\": 153279.37792}]}}, {\"mode\": \"vega-lite\"});\n",
       "</script>"
      ],
      "text/plain": [
       "alt.Chart(...)"
      ]
     },
     "execution_count": 51,
     "metadata": {},
     "output_type": "execute_result"
    }
   ],
   "source": [
    "alt.Chart(data_melt_cats).transform_filter(\n",
    "    'datum.canal===\"facebook\"'\n",
    ").mark_area(\n",
    "    line={'color':'darkred'},\n",
    "    color=alt.Gradient(\n",
    "        gradient='linear',\n",
    "        stops=[alt.GradientStop(color='white', offset=0),\n",
    "               alt.GradientStop(color='darkred', offset=1)],\n",
    "        x1=1,\n",
    "        x2=1,\n",
    "        y1=1,\n",
    "        y2=0\n",
    "    )\n",
    ").encode(\n",
    "    x=alt.X('año:O'),\n",
    "    y=alt.Y('inversion:Q'),\n",
    "    tooltip=alt.Tooltip('inversion:Q',title='Inversión realizada', format='~s')\n",
    ").properties(\n",
    "    title=\"Inversiones en Facebook del 2018 al 2021\",\n",
    "    width=300,\n",
    "    height=150,\n",
    "    ).configure_view(\n",
    "    strokeWidth=0\n",
    "    )"
   ]
  },
  {
   "cell_type": "markdown",
   "id": "4b196dcb",
   "metadata": {},
   "source": [
    "- Las inversiones en el canal de Facebook decayeron un 52.86% con respecto a la inversión del 2018.\n",
    "- La caida en las inversiones de este canal puede deberse a que la empresa ha decidido ya no seguir compitiendo en este medio para ver si las ventas obtenidas se veian afectadas o no."
   ]
  },
  {
   "cell_type": "markdown",
   "id": "2f9dba06",
   "metadata": {},
   "source": [
    "### ¿La reducción paulatina del presupuesto en Facebook ha afectado a las ventas anuales?"
   ]
  },
  {
   "cell_type": "code",
   "execution_count": 52,
   "id": "8ad35775",
   "metadata": {},
   "outputs": [],
   "source": [
    "data_grouped_sales = data.groupby(by=['año']).agg({'ventas':'sum'}).reset_index()"
   ]
  },
  {
   "cell_type": "code",
   "execution_count": 53,
   "id": "5b227979",
   "metadata": {},
   "outputs": [
    {
     "data": {
      "text/html": [
       "\n",
       "<div id=\"altair-viz-48d6d824d5994b86808857ce864d0c97\"></div>\n",
       "<script type=\"text/javascript\">\n",
       "  (function(spec, embedOpt){\n",
       "    let outputDiv = document.currentScript.previousElementSibling;\n",
       "    if (outputDiv.id !== \"altair-viz-48d6d824d5994b86808857ce864d0c97\") {\n",
       "      outputDiv = document.getElementById(\"altair-viz-48d6d824d5994b86808857ce864d0c97\");\n",
       "    }\n",
       "    const paths = {\n",
       "      \"vega\": \"https://cdn.jsdelivr.net/npm//vega@5?noext\",\n",
       "      \"vega-lib\": \"https://cdn.jsdelivr.net/npm//vega-lib?noext\",\n",
       "      \"vega-lite\": \"https://cdn.jsdelivr.net/npm//vega-lite@4.17.0?noext\",\n",
       "      \"vega-embed\": \"https://cdn.jsdelivr.net/npm//vega-embed@6?noext\",\n",
       "    };\n",
       "\n",
       "    function loadScript(lib) {\n",
       "      return new Promise(function(resolve, reject) {\n",
       "        var s = document.createElement('script');\n",
       "        s.src = paths[lib];\n",
       "        s.async = true;\n",
       "        s.onload = () => resolve(paths[lib]);\n",
       "        s.onerror = () => reject(`Error loading script: ${paths[lib]}`);\n",
       "        document.getElementsByTagName(\"head\")[0].appendChild(s);\n",
       "      });\n",
       "    }\n",
       "\n",
       "    function showError(err) {\n",
       "      outputDiv.innerHTML = `<div class=\"error\" style=\"color:red;\">${err}</div>`;\n",
       "      throw err;\n",
       "    }\n",
       "\n",
       "    function displayChart(vegaEmbed) {\n",
       "      vegaEmbed(outputDiv, spec, embedOpt)\n",
       "        .catch(err => showError(`Javascript Error: ${err.message}<br>This usually means there's a typo in your chart specification. See the javascript console for the full traceback.`));\n",
       "    }\n",
       "\n",
       "    if(typeof define === \"function\" && define.amd) {\n",
       "      requirejs.config({paths});\n",
       "      require([\"vega-embed\"], displayChart, err => showError(`Error loading script: ${err.message}`));\n",
       "    } else if (typeof vegaEmbed === \"function\") {\n",
       "      displayChart(vegaEmbed);\n",
       "    } else {\n",
       "      loadScript(\"vega\")\n",
       "        .then(() => loadScript(\"vega-lite\"))\n",
       "        .then(() => loadScript(\"vega-embed\"))\n",
       "        .catch(showError)\n",
       "        .then(() => displayChart(vegaEmbed));\n",
       "    }\n",
       "  })({\"config\": {\"view\": {\"continuousWidth\": 400, \"continuousHeight\": 300, \"strokeWidth\": 0}}, \"data\": {\"name\": \"data-15d1ddb1fa0507b96e570dc28bd174d1\"}, \"mark\": {\"type\": \"area\", \"color\": {\"gradient\": \"linear\", \"stops\": [{\"color\": \"white\", \"offset\": 0}, {\"color\": \"darkgreen\", \"offset\": 1}], \"x1\": 1, \"x2\": 1, \"y1\": 1, \"y2\": 0}, \"line\": {\"color\": \"darkgreen\"}}, \"encoding\": {\"tooltip\": {\"field\": \"ventas\", \"format\": \"~s\", \"title\": \"Venta obtenida\", \"type\": \"quantitative\"}, \"x\": {\"field\": \"a\\u00f1o\", \"type\": \"ordinal\"}, \"y\": {\"field\": \"ventas\", \"type\": \"quantitative\"}}, \"height\": 200, \"title\": \"Ventas anuales del 2018 al 2021\", \"width\": 300, \"$schema\": \"https://vega.github.io/schema/vega-lite/v4.17.0.json\", \"datasets\": {\"data-15d1ddb1fa0507b96e570dc28bd174d1\": [{\"a\\u00f1o\": 2018, \"ventas\": 5695607.8}, {\"a\\u00f1o\": 2019, \"ventas\": 5055602.7}, {\"a\\u00f1o\": 2020, \"ventas\": 5723728.3}, {\"a\\u00f1o\": 2021, \"ventas\": 4861344.2}]}}, {\"mode\": \"vega-lite\"});\n",
       "</script>"
      ],
      "text/plain": [
       "alt.Chart(...)"
      ]
     },
     "execution_count": 53,
     "metadata": {},
     "output_type": "execute_result"
    }
   ],
   "source": [
    "alt.Chart(data_grouped_sales).mark_area(\n",
    "    line={'color':'darkgreen'},\n",
    "    color=alt.Gradient(\n",
    "        gradient='linear',\n",
    "        stops=[alt.GradientStop(color='white', offset=0),\n",
    "               alt.GradientStop(color='darkgreen', offset=1)],\n",
    "        x1=1,\n",
    "        x2=1,\n",
    "        y1=1,\n",
    "        y2=0\n",
    "    )\n",
    ").encode(\n",
    "    x=alt.X('año:O'),\n",
    "    y=alt.Y('ventas:Q'),\n",
    "    tooltip=alt.Tooltip('ventas:Q',title='Venta obtenida', format='~s')\n",
    ").properties(\n",
    "    title=\"Ventas anuales del 2018 al 2021\",\n",
    "    width=300,\n",
    "    height=200,\n",
    "    ).configure_view(\n",
    "    strokeWidth=0\n",
    "    )"
   ]
  },
  {
   "cell_type": "markdown",
   "id": "c96079ed",
   "metadata": {},
   "source": [
    "- Se comprueba que, pese a que la inversión en el canal de facebook se encuentra relacionada a las ventas de manera significativa. La reducción del presupuesto en este canal no ha representado una variación notable en las ventas anuales"
   ]
  },
  {
   "cell_type": "markdown",
   "id": "582e22ce",
   "metadata": {},
   "source": [
    "## <p style=\"background: linear-gradient(to right,#dec9e9, #6247aa); color:white; font-size:150%; text-align:Center; border-radius: 20px 20px; margin: 0px 0px 0px 0px\">  👨‍💻 Modelado  </p>"
   ]
  },
  {
   "cell_type": "code",
   "execution_count": 54,
   "id": "8e2785fb",
   "metadata": {},
   "outputs": [],
   "source": [
    "from scipy.signal import convolve2d\n",
    "from sklearn.base import BaseEstimator, TransformerMixin\n",
    "from sklearn.utils.validation import check_is_fitted, check_array"
   ]
  },
  {
   "cell_type": "markdown",
   "id": "930c138e",
   "metadata": {},
   "source": [
    "- Esta clase es la que hace las transformaciones para obtener las coordenadas de las curvas de saturación.\n",
    "- Usa el hiper parámetro a para modelar la saturación de la curva."
   ]
  },
  {
   "cell_type": "code",
   "execution_count": 55,
   "id": "9121e076",
   "metadata": {},
   "outputs": [],
   "source": [
    "class ExponentialSaturation (BaseEstimator, TransformerMixin):\n",
    "    def __init__ (self, a = 1.):\n",
    "        self.a = a\n",
    "        \n",
    "    def fit(self, X, y = None):\n",
    "        X = check_array(X) \n",
    "        self._check_n_features(X, reset = True)\n",
    "        return self\n",
    "    \n",
    "    def transform (self, X):\n",
    "        check_is_fitted (self)\n",
    "        X = check_array (X)\n",
    "        self._check_n_features (X, reset = False)\n",
    "        \n",
    "        return (X / (X + (X.mean() * self.a)))"
   ]
  },
  {
   "cell_type": "markdown",
   "id": "e7f92c2f",
   "metadata": {},
   "source": [
    "- Esta clase modela el arrastre en cada varaible en base a la fuerza y arrastre elegido.\n",
    "- El arrastre y la fuerza pueden ser definidos por negocio. Pero, en este caso se optimizará con la librería Optuna por no contar con restricciones de negocio."
   ]
  },
  {
   "cell_type": "code",
   "execution_count": 56,
   "id": "1c438579",
   "metadata": {},
   "outputs": [],
   "source": [
    "class ExponentialCarryover(BaseEstimator, TransformerMixin): \n",
    "    def __init__(self, strength = 0.5, length = 1):\n",
    "        self.strength = strength\n",
    "        self.length = length\n",
    "        \n",
    "    def fit(self, X, y = None):\n",
    "        X = check_array(X)\n",
    "        self._check_n_features(X, reset=True)\n",
    "        self.sliding_window_ = (\n",
    "            self.strength ** np.arange(self.length + 1)\n",
    "        ).reshape(-1, 1)\n",
    "        \n",
    "        return self\n",
    "\n",
    "    def transform(self, X: np.ndarray):\n",
    "        check_is_fitted(self)\n",
    "        X = check_array(X)\n",
    "        self._check_n_features(X, reset=False)\n",
    "        convolution = convolve2d(X, self.sliding_window_)\n",
    "        if self.length > 0:\n",
    "            convolution = convolution[: -self.length]\n",
    "            \n",
    "        return convolution"
   ]
  },
  {
   "cell_type": "markdown",
   "id": "89c16ad0",
   "metadata": {},
   "source": [
    "## 👨‍🔧 Pipelines"
   ]
  },
  {
   "cell_type": "code",
   "execution_count": 57,
   "id": "11b8d38e",
   "metadata": {},
   "outputs": [],
   "source": [
    "from sklearn.compose import ColumnTransformer\n",
    "from sklearn.pipeline import Pipeline"
   ]
  },
  {
   "cell_type": "markdown",
   "id": "78bcb6f5",
   "metadata": {},
   "source": [
    "- Cada canal modela su efecto de arrastre y luego procede a ser calculada su saturación:"
   ]
  },
  {
   "cell_type": "code",
   "execution_count": 58,
   "id": "4405abe2",
   "metadata": {},
   "outputs": [],
   "source": [
    "adstock = ColumnTransformer([\n",
    "        ('correo_pipe', Pipeline([\n",
    "            ('carryover', ExponentialCarryover()),\n",
    "            ('saturation', ExponentialSaturation())\n",
    "        ]), ['correo']),\n",
    "        ('facebook_pipe', Pipeline([\n",
    "            ('carryover', ExponentialCarryover()),\n",
    "            ('saturation', ExponentialSaturation())\n",
    "        ]), ['facebook']),\n",
    "        ('google_pipe', Pipeline([\n",
    "            ('carryover', ExponentialCarryover()),\n",
    "            ('saturation', ExponentialSaturation())\n",
    "        ]), ['google']),\n",
    "        ('impresiones_pipe', Pipeline([\n",
    "            ('carryover', ExponentialCarryover()),\n",
    "            ('saturation', ExponentialSaturation())\n",
    "        ]), ['impresiones']),\n",
    "        ('radio_pipe', Pipeline([\n",
    "            ('carryover', ExponentialCarryover()),\n",
    "            ('saturation', ExponentialSaturation())\n",
    "        ]), ['radio']),\n",
    "        ('tvabierta_pipe', Pipeline([\n",
    "            ('carryover', ExponentialCarryover()),\n",
    "            ('saturation', ExponentialSaturation())\n",
    "        ]), ['tv_abierta']),\n",
    "        ('tvpaga_pipe', Pipeline([\n",
    "            ('carryover', ExponentialCarryover()),\n",
    "            ('saturation', ExponentialSaturation())\n",
    "        ]), ['tv_paga'])\n",
    "])"
   ]
  },
  {
   "cell_type": "markdown",
   "id": "f0064927",
   "metadata": {},
   "source": [
    "- Se añade el modelo de Regresión Lineal porque es el que se usa conencionalmente después de haber realizado el análisis de saturación.\n",
    "- En este caso, el objetivo no es realizar predicciones, sino, analizar las saturaciones obtenidas."
   ]
  },
  {
   "cell_type": "code",
   "execution_count": 59,
   "id": "cb3db78c",
   "metadata": {},
   "outputs": [],
   "source": [
    "from sklearn.linear_model import LinearRegression\n",
    "\n",
    "model = Pipeline([\n",
    "    ('adstock', adstock),\n",
    "    ('estimator', LinearRegression())\n",
    "])"
   ]
  },
  {
   "cell_type": "code",
   "execution_count": 60,
   "id": "08474b0c",
   "metadata": {},
   "outputs": [],
   "source": [
    "x = data.drop('ventas', axis=1)\n",
    "y= data['ventas']"
   ]
  },
  {
   "cell_type": "code",
   "execution_count": 61,
   "id": "ff2252b0",
   "metadata": {},
   "outputs": [],
   "source": [
    "%%capture\n",
    "model.fit(x,y)"
   ]
  },
  {
   "cell_type": "markdown",
   "id": "16f4d436",
   "metadata": {},
   "source": [
    "## 📈 Optimización de hiper parámetros"
   ]
  },
  {
   "cell_type": "code",
   "execution_count": 62,
   "id": "f4f30300",
   "metadata": {},
   "outputs": [
    {
     "name": "stdout",
     "output_type": "stream",
     "text": [
      "0.7186041006756188\n"
     ]
    }
   ],
   "source": [
    "from optuna.integration import OptunaSearchCV\n",
    "from optuna.distributions import UniformDistribution, IntUniformDistribution\n",
    "from sklearn.model_selection import cross_val_score, TimeSeriesSplit\n",
    "\n",
    "print(cross_val_score(model, x, y, cv=TimeSeriesSplit()).mean())"
   ]
  },
  {
   "cell_type": "markdown",
   "id": "bc17ece9",
   "metadata": {},
   "source": [
    "- Se optimizan los hiper parámetros de cada pipeline.\n",
    "- Los símbolos \"__\" indican entrar en la jerarquía del transformador colocado como prefijo."
   ]
  },
  {
   "cell_type": "code",
   "execution_count": 63,
   "id": "14c3d25b",
   "metadata": {},
   "outputs": [],
   "source": [
    "%%capture\n",
    "tuned_model = OptunaSearchCV(\n",
    "    estimator=model,\n",
    "    param_distributions={\n",
    "        # Correo\n",
    "        'adstock__correo_pipe__carryover__strength':UniformDistribution(0, 1),\n",
    "        'adstock__correo_pipe__carryover__length':IntUniformDistribution(0, 6),\n",
    "        'adstock__correo_pipe__saturation__a': UniformDistribution(0,2),\n",
    "        # Facebook\n",
    "        'adstock__facebook_pipe__carryover__strength':UniformDistribution(0, 1),\n",
    "        'adstock__facebook_pipe__carryover__length':IntUniformDistribution(0, 6),\n",
    "        'adstock__facebook_pipe__saturation__a': UniformDistribution(0,2),\n",
    "        # Google\n",
    "        'adstock__google_pipe__carryover__strength':UniformDistribution(0, 1),\n",
    "        'adstock__google_pipe__carryover__length':IntUniformDistribution(0, 6),\n",
    "        'adstock__google_pipe__saturation__a': UniformDistribution(0,2),\n",
    "        # Impresiones\n",
    "        'adstock__impresiones_pipe__carryover__strength':UniformDistribution(0, 1),\n",
    "        'adstock__impresiones_pipe__carryover__length':IntUniformDistribution(0, 6),\n",
    "        'adstock__impresiones_pipe__saturation__a': UniformDistribution(0,2),\n",
    "        # Radio\n",
    "        'adstock__radio_pipe__carryover__strength':UniformDistribution(0, 1),\n",
    "        'adstock__radio_pipe__carryover__length':IntUniformDistribution(0, 6),\n",
    "        'adstock__radio_pipe__saturation__a': UniformDistribution(0,2),\n",
    "        # TV abierta\n",
    "        'adstock__tvabierta_pipe__carryover__strength':UniformDistribution(0, 1),\n",
    "        'adstock__tvabierta_pipe__carryover__length':IntUniformDistribution(0, 6),\n",
    "        'adstock__tvabierta_pipe__saturation__a': UniformDistribution(0,2),\n",
    "        # TV de paga\n",
    "        'adstock__tvpaga_pipe__carryover__strength':UniformDistribution(0, 1),\n",
    "        'adstock__tvpaga_pipe__carryover__length':IntUniformDistribution(0, 6),\n",
    "        'adstock__tvpaga_pipe__saturation__a': UniformDistribution(0,2),\n",
    "    },\n",
    "    #n_trials=1000, (mejor redimiento)\n",
    "    n_trials=10,\n",
    "    cv=TimeSeriesSplit(),\n",
    "    random_state=10\n",
    ")"
   ]
  },
  {
   "cell_type": "code",
   "execution_count": 66,
   "id": "df8fd45a",
   "metadata": {},
   "outputs": [
    {
     "name": "stderr",
     "output_type": "stream",
     "text": [
      "\u001b[32m[I 2022-04-04 17:04:33,672]\u001b[0m A new study created in memory with name: no-name-37b6da41-fae5-4d24-8aac-c523e169841f\u001b[0m\n",
      "\u001b[32m[I 2022-04-04 17:04:34,017]\u001b[0m Trial 0 finished with value: -0.11587038367708997 and parameters: {'adstock__correo_pipe__carryover__strength': 0.09242664244599941, 'adstock__correo_pipe__carryover__length': 5, 'adstock__correo_pipe__saturation__a': 0.6275767572742299, 'adstock__facebook_pipe__carryover__strength': 0.23126986862002263, 'adstock__facebook_pipe__carryover__length': 1, 'adstock__facebook_pipe__saturation__a': 0.8332499941074196, 'adstock__google_pipe__carryover__strength': 0.7647446160554672, 'adstock__google_pipe__carryover__length': 5, 'adstock__google_pipe__saturation__a': 0.4841537079117917, 'adstock__impresiones_pipe__carryover__strength': 0.8069344716376637, 'adstock__impresiones_pipe__carryover__length': 6, 'adstock__impresiones_pipe__saturation__a': 0.06942069732340705, 'adstock__radio_pipe__carryover__strength': 0.21567891413066032, 'adstock__radio_pipe__carryover__length': 0, 'adstock__radio_pipe__saturation__a': 0.7626489304194581, 'adstock__tvabierta_pipe__carryover__strength': 0.863850814690767, 'adstock__tvabierta_pipe__carryover__length': 5, 'adstock__tvabierta_pipe__saturation__a': 0.32518516825753907, 'adstock__tvpaga_pipe__carryover__strength': 0.44453868187840895, 'adstock__tvpaga_pipe__carryover__length': 3, 'adstock__tvpaga_pipe__saturation__a': 1.1112968994312091}. Best is trial 0 with value: -0.11587038367708997.\u001b[0m\n",
      "\u001b[32m[I 2022-04-04 17:04:34,282]\u001b[0m Trial 1 finished with value: 0.5691688340300292 and parameters: {'adstock__correo_pipe__carryover__strength': 0.7647926580108311, 'adstock__correo_pipe__carryover__length': 2, 'adstock__correo_pipe__saturation__a': 1.2837544288662186, 'adstock__facebook_pipe__carryover__strength': 0.6438570943859201, 'adstock__facebook_pipe__carryover__length': 2, 'adstock__facebook_pipe__saturation__a': 1.034262366348077, 'adstock__google_pipe__carryover__strength': 0.7221369704283104, 'adstock__google_pipe__carryover__length': 4, 'adstock__google_pipe__saturation__a': 0.6882602119182564, 'adstock__impresiones_pipe__carryover__strength': 0.1703168406424409, 'adstock__impresiones_pipe__carryover__length': 5, 'adstock__impresiones_pipe__saturation__a': 0.2862649099799366, 'adstock__radio_pipe__carryover__strength': 0.1841642936256983, 'adstock__radio_pipe__carryover__length': 3, 'adstock__radio_pipe__saturation__a': 1.2582049314398236, 'adstock__tvabierta_pipe__carryover__strength': 0.535676969630048, 'adstock__tvabierta_pipe__carryover__length': 4, 'adstock__tvabierta_pipe__saturation__a': 1.1425963927887821, 'adstock__tvpaga_pipe__carryover__strength': 0.8074201583678433, 'adstock__tvpaga_pipe__carryover__length': 6, 'adstock__tvpaga_pipe__saturation__a': 0.4340381433446041}. Best is trial 1 with value: 0.5691688340300292.\u001b[0m\n",
      "\u001b[32m[I 2022-04-04 17:04:34,553]\u001b[0m Trial 2 finished with value: 0.49191413757717173 and parameters: {'adstock__correo_pipe__carryover__strength': 0.2687779556995964, 'adstock__correo_pipe__carryover__length': 5, 'adstock__correo_pipe__saturation__a': 0.558940979523143, 'adstock__facebook_pipe__carryover__strength': 0.17248241412748921, 'adstock__facebook_pipe__carryover__length': 6, 'adstock__facebook_pipe__saturation__a': 0.7159805141895468, 'adstock__google_pipe__carryover__strength': 0.40258064075418676, 'adstock__google_pipe__carryover__length': 4, 'adstock__google_pipe__saturation__a': 0.3962842768930883, 'adstock__impresiones_pipe__carryover__strength': 0.46113658790075895, 'adstock__impresiones_pipe__carryover__length': 6, 'adstock__impresiones_pipe__saturation__a': 0.5668989237680526, 'adstock__radio_pipe__carryover__strength': 0.9694825133296966, 'adstock__radio_pipe__carryover__length': 1, 'adstock__radio_pipe__saturation__a': 0.06948968899668184, 'adstock__tvabierta_pipe__carryover__strength': 0.5024314083369744, 'adstock__tvabierta_pipe__carryover__length': 5, 'adstock__tvabierta_pipe__saturation__a': 0.1905696629638267, 'adstock__tvpaga_pipe__carryover__strength': 0.40020492168794297, 'adstock__tvpaga_pipe__carryover__length': 6, 'adstock__tvpaga_pipe__saturation__a': 0.21204441289077436}. Best is trial 1 with value: 0.5691688340300292.\u001b[0m\n",
      "\u001b[32m[I 2022-04-04 17:04:34,808]\u001b[0m Trial 3 finished with value: 0.7836450192222658 and parameters: {'adstock__correo_pipe__carryover__strength': 0.5953372470432962, 'adstock__correo_pipe__carryover__length': 0, 'adstock__correo_pipe__saturation__a': 1.0548526481882554, 'adstock__facebook_pipe__carryover__strength': 0.9423209734462513, 'adstock__facebook_pipe__carryover__length': 4, 'adstock__facebook_pipe__saturation__a': 0.43952330341796864, 'adstock__google_pipe__carryover__strength': 0.13860030114572497, 'adstock__google_pipe__carryover__length': 6, 'adstock__google_pipe__saturation__a': 0.15136601820055318, 'adstock__impresiones_pipe__carryover__strength': 0.4332551558742761, 'adstock__impresiones_pipe__carryover__length': 6, 'adstock__impresiones_pipe__saturation__a': 0.48984795511118695, 'adstock__radio_pipe__carryover__strength': 0.055420218054387016, 'adstock__radio_pipe__carryover__length': 1, 'adstock__radio_pipe__saturation__a': 0.12119420807892789, 'adstock__tvabierta_pipe__carryover__strength': 0.5766428589497673, 'adstock__tvabierta_pipe__carryover__length': 3, 'adstock__tvabierta_pipe__saturation__a': 0.5821836263634992, 'adstock__tvpaga_pipe__carryover__strength': 0.6079212220475095, 'adstock__tvpaga_pipe__carryover__length': 0, 'adstock__tvpaga_pipe__saturation__a': 0.19993669713157103}. Best is trial 3 with value: 0.7836450192222658.\u001b[0m\n",
      "\u001b[32m[I 2022-04-04 17:04:35,082]\u001b[0m Trial 4 finished with value: 0.8001658502122553 and parameters: {'adstock__correo_pipe__carryover__strength': 0.07639040045823209, 'adstock__correo_pipe__carryover__length': 3, 'adstock__correo_pipe__saturation__a': 0.4224094050472629, 'adstock__facebook_pipe__carryover__strength': 0.46426977591480534, 'adstock__facebook_pipe__carryover__length': 5, 'adstock__facebook_pipe__saturation__a': 1.084799417174083, 'adstock__google_pipe__carryover__strength': 0.35361945410371953, 'adstock__google_pipe__carryover__length': 3, 'adstock__google_pipe__saturation__a': 1.1724525925384164, 'adstock__impresiones_pipe__carryover__strength': 0.16801354644602895, 'adstock__impresiones_pipe__carryover__length': 4, 'adstock__impresiones_pipe__saturation__a': 1.3422153411317188, 'adstock__radio_pipe__carryover__strength': 0.16162966057840944, 'adstock__radio_pipe__carryover__length': 3, 'adstock__radio_pipe__saturation__a': 1.6586979230989474, 'adstock__tvabierta_pipe__carryover__strength': 0.6585643238935249, 'adstock__tvabierta_pipe__carryover__length': 0, 'adstock__tvabierta_pipe__saturation__a': 1.48393616465743, 'adstock__tvpaga_pipe__carryover__strength': 0.4953249896471903, 'adstock__tvpaga_pipe__carryover__length': 3, 'adstock__tvpaga_pipe__saturation__a': 1.760883255453388}. Best is trial 4 with value: 0.8001658502122553.\u001b[0m\n",
      "\u001b[32m[I 2022-04-04 17:04:35,397]\u001b[0m Trial 5 finished with value: 0.6772653387775087 and parameters: {'adstock__correo_pipe__carryover__strength': 0.5343570718315968, 'adstock__correo_pipe__carryover__length': 4, 'adstock__correo_pipe__saturation__a': 1.3369128868303646, 'adstock__facebook_pipe__carryover__strength': 0.9077068247993454, 'adstock__facebook_pipe__carryover__length': 6, 'adstock__facebook_pipe__saturation__a': 0.45861981348612657, 'adstock__google_pipe__carryover__strength': 0.9861388283023121, 'adstock__google_pipe__carryover__length': 2, 'adstock__google_pipe__saturation__a': 0.17620786682561085, 'adstock__impresiones_pipe__carryover__strength': 0.1471677914978463, 'adstock__impresiones_pipe__carryover__length': 4, 'adstock__impresiones_pipe__saturation__a': 1.482500317993504, 'adstock__radio_pipe__carryover__strength': 0.6163966662564166, 'adstock__radio_pipe__carryover__length': 5, 'adstock__radio_pipe__saturation__a': 1.8288185757033701, 'adstock__tvabierta_pipe__carryover__strength': 0.3062310555180332, 'adstock__tvabierta_pipe__carryover__length': 5, 'adstock__tvabierta_pipe__saturation__a': 1.4872974667794798, 'adstock__tvpaga_pipe__carryover__strength': 0.9645103190908838, 'adstock__tvpaga_pipe__carryover__length': 6, 'adstock__tvpaga_pipe__saturation__a': 0.9399989403516908}. Best is trial 4 with value: 0.8001658502122553.\u001b[0m\n",
      "\u001b[32m[I 2022-04-04 17:04:35,674]\u001b[0m Trial 6 finished with value: 0.6673589659185948 and parameters: {'adstock__correo_pipe__carryover__strength': 0.7000694423835581, 'adstock__correo_pipe__carryover__length': 5, 'adstock__correo_pipe__saturation__a': 1.0197051928469067, 'adstock__facebook_pipe__carryover__strength': 0.8316026219916149, 'adstock__facebook_pipe__carryover__length': 6, 'adstock__facebook_pipe__saturation__a': 0.45694153260538206, 'adstock__google_pipe__carryover__strength': 0.929430913527637, 'adstock__google_pipe__carryover__length': 0, 'adstock__google_pipe__saturation__a': 0.757613453336009, 'adstock__impresiones_pipe__carryover__strength': 0.7470819390514816, 'adstock__impresiones_pipe__carryover__length': 5, 'adstock__impresiones_pipe__saturation__a': 1.5121024976486057, 'adstock__radio_pipe__carryover__strength': 0.5415704356158654, 'adstock__radio_pipe__carryover__length': 4, 'adstock__radio_pipe__saturation__a': 1.504064288114328, 'adstock__tvabierta_pipe__carryover__strength': 0.5007228251434666, 'adstock__tvabierta_pipe__carryover__length': 5, 'adstock__tvabierta_pipe__saturation__a': 1.3724283335488034, 'adstock__tvpaga_pipe__carryover__strength': 0.8310501150296598, 'adstock__tvpaga_pipe__carryover__length': 2, 'adstock__tvpaga_pipe__saturation__a': 0.5942860575008595}. Best is trial 4 with value: 0.8001658502122553.\u001b[0m\n",
      "\u001b[32m[I 2022-04-04 17:04:35,911]\u001b[0m Trial 7 finished with value: 0.5547668864122708 and parameters: {'adstock__correo_pipe__carryover__strength': 0.9332934716148529, 'adstock__correo_pipe__carryover__length': 5, 'adstock__correo_pipe__saturation__a': 0.8046223696374464, 'adstock__facebook_pipe__carryover__strength': 0.8036714240466163, 'adstock__facebook_pipe__carryover__length': 1, 'adstock__facebook_pipe__saturation__a': 1.3652352902932567, 'adstock__google_pipe__carryover__strength': 0.17264506205012686, 'adstock__google_pipe__carryover__length': 2, 'adstock__google_pipe__saturation__a': 0.5981580889029463, 'adstock__impresiones_pipe__carryover__strength': 0.5835517069438066, 'adstock__impresiones_pipe__carryover__length': 2, 'adstock__impresiones_pipe__saturation__a': 0.22339191571120254, 'adstock__radio_pipe__carryover__strength': 0.5137673635764917, 'adstock__radio_pipe__carryover__length': 6, 'adstock__radio_pipe__saturation__a': 0.04690688020247813, 'adstock__tvabierta_pipe__carryover__strength': 0.4243555564213236, 'adstock__tvabierta_pipe__carryover__length': 6, 'adstock__tvabierta_pipe__saturation__a': 0.10457458903094041, 'adstock__tvpaga_pipe__carryover__strength': 0.7393801819264247, 'adstock__tvpaga_pipe__carryover__length': 1, 'adstock__tvpaga_pipe__saturation__a': 1.690913035722517}. Best is trial 4 with value: 0.8001658502122553.\u001b[0m\n",
      "\u001b[32m[I 2022-04-04 17:04:36,152]\u001b[0m Trial 8 finished with value: 0.7722657175044734 and parameters: {'adstock__correo_pipe__carryover__strength': 0.34459175796414976, 'adstock__correo_pipe__carryover__length': 1, 'adstock__correo_pipe__saturation__a': 0.42772423990169295, 'adstock__facebook_pipe__carryover__strength': 0.15426865945435853, 'adstock__facebook_pipe__carryover__length': 1, 'adstock__facebook_pipe__saturation__a': 1.0916136693116694, 'adstock__google_pipe__carryover__strength': 0.23044310139192303, 'adstock__google_pipe__carryover__length': 2, 'adstock__google_pipe__saturation__a': 0.2560353263671553, 'adstock__impresiones_pipe__carryover__strength': 0.6583023362730076, 'adstock__impresiones_pipe__carryover__length': 3, 'adstock__impresiones_pipe__saturation__a': 0.7370780113240267, 'adstock__radio_pipe__carryover__strength': 0.9319205778023004, 'adstock__radio_pipe__carryover__length': 5, 'adstock__radio_pipe__saturation__a': 1.4523247688739258, 'adstock__tvabierta_pipe__carryover__strength': 0.8873445806352218, 'adstock__tvabierta_pipe__carryover__length': 0, 'adstock__tvabierta_pipe__saturation__a': 0.0899231730241894, 'adstock__tvpaga_pipe__carryover__strength': 0.08508717986393455, 'adstock__tvpaga_pipe__carryover__length': 3, 'adstock__tvpaga_pipe__saturation__a': 0.302357531272482}. Best is trial 4 with value: 0.8001658502122553.\u001b[0m\n",
      "\u001b[32m[I 2022-04-04 17:04:36,512]\u001b[0m Trial 9 finished with value: 0.7922377029627597 and parameters: {'adstock__correo_pipe__carryover__strength': 0.6436641223583722, 'adstock__correo_pipe__carryover__length': 0, 'adstock__correo_pipe__saturation__a': 1.709490706453191, 'adstock__facebook_pipe__carryover__strength': 0.7161705024846751, 'adstock__facebook_pipe__carryover__length': 2, 'adstock__facebook_pipe__saturation__a': 0.9067022643182729, 'adstock__google_pipe__carryover__strength': 0.3226441904372087, 'adstock__google_pipe__carryover__length': 3, 'adstock__google_pipe__saturation__a': 0.400913250813425, 'adstock__impresiones_pipe__carryover__strength': 0.7030999931927824, 'adstock__impresiones_pipe__carryover__length': 4, 'adstock__impresiones_pipe__saturation__a': 0.009902652019880609, 'adstock__radio_pipe__carryover__strength': 0.00863922658690508, 'adstock__radio_pipe__carryover__length': 0, 'adstock__radio_pipe__saturation__a': 0.02914578275548929, 'adstock__tvabierta_pipe__carryover__strength': 0.06186907468263847, 'adstock__tvabierta_pipe__carryover__length': 2, 'adstock__tvabierta_pipe__saturation__a': 0.15082740425637153, 'adstock__tvpaga_pipe__carryover__strength': 0.6819705166652181, 'adstock__tvpaga_pipe__carryover__length': 0, 'adstock__tvpaga_pipe__saturation__a': 0.33133436784796944}. Best is trial 4 with value: 0.8001658502122553.\u001b[0m\n"
     ]
    }
   ],
   "source": [
    "%%capture\n",
    "tuned_model.fit(x,y)"
   ]
  },
  {
   "cell_type": "code",
   "execution_count": 68,
   "id": "50dd1a9b",
   "metadata": {},
   "outputs": [
    {
     "name": "stderr",
     "output_type": "stream",
     "text": [
      "C:\\Users\\CCE\\miniconda3\\lib\\site-packages\\sklearn\\base.py:82: ExperimentalWarning: OptunaSearchCV is experimental (supported from v0.17.0). The interface can change in the future.\n",
      "  new_object = klass(**new_object_params)\n",
      "\u001b[32m[I 2022-04-04 17:05:07,943]\u001b[0m A new study created in memory with name: no-name-9dc09801-bb3e-451b-a4b7-30b36c6696cf\u001b[0m\n",
      "C:\\Users\\CCE\\AppData\\Local\\Temp/ipykernel_13132/2233880114.py:15: RuntimeWarning: invalid value encountered in true_divide\n",
      "  return (X / (X + (X.mean() * self.a)))\n",
      "C:\\Users\\CCE\\miniconda3\\lib\\site-packages\\sklearn\\model_selection\\_validation.py:771: UserWarning: Scoring failed. The score on this train-test partition for these parameters will be set to nan. Details: \n",
      "Traceback (most recent call last):\n",
      "  File \"C:\\Users\\CCE\\miniconda3\\lib\\site-packages\\sklearn\\model_selection\\_validation.py\", line 762, in _score\n",
      "    scores = scorer(estimator, X_test, y_test)\n",
      "  File \"C:\\Users\\CCE\\miniconda3\\lib\\site-packages\\sklearn\\metrics\\_scorer.py\", line 418, in _passthrough_scorer\n",
      "    return estimator.score(*args, **kwargs)\n",
      "  File \"C:\\Users\\CCE\\miniconda3\\lib\\site-packages\\sklearn\\utils\\metaestimators.py\", line 113, in <lambda>\n",
      "    out = lambda *args, **kwargs: self.fn(obj, *args, **kwargs)  # noqa\n",
      "  File \"C:\\Users\\CCE\\miniconda3\\lib\\site-packages\\sklearn\\pipeline.py\", line 711, in score\n",
      "    return self.steps[-1][1].score(Xt, y, **score_params)\n",
      "  File \"C:\\Users\\CCE\\miniconda3\\lib\\site-packages\\sklearn\\base.py\", line 700, in score\n",
      "    y_pred = self.predict(X)\n",
      "  File \"C:\\Users\\CCE\\miniconda3\\lib\\site-packages\\sklearn\\linear_model\\_base.py\", line 362, in predict\n",
      "    return self._decision_function(X)\n",
      "  File \"C:\\Users\\CCE\\miniconda3\\lib\\site-packages\\sklearn\\linear_model\\_base.py\", line 345, in _decision_function\n",
      "    X = self._validate_data(X, accept_sparse=[\"csr\", \"csc\", \"coo\"], reset=False)\n",
      "  File \"C:\\Users\\CCE\\miniconda3\\lib\\site-packages\\sklearn\\base.py\", line 561, in _validate_data\n",
      "    X = check_array(X, **check_params)\n",
      "  File \"C:\\Users\\CCE\\miniconda3\\lib\\site-packages\\sklearn\\utils\\validation.py\", line 792, in check_array\n",
      "    _assert_all_finite(array, allow_nan=force_all_finite == \"allow-nan\")\n",
      "  File \"C:\\Users\\CCE\\miniconda3\\lib\\site-packages\\sklearn\\utils\\validation.py\", line 114, in _assert_all_finite\n",
      "    raise ValueError(\n",
      "ValueError: Input contains NaN, infinity or a value too large for dtype('float64').\n",
      "\n",
      "  warnings.warn(\n",
      "\u001b[32m[I 2022-04-04 17:05:08,213]\u001b[0m Trial 0 finished with value: -10.299128223201137 and parameters: {'adstock__correo_pipe__carryover__strength': 0.09242664244599941, 'adstock__correo_pipe__carryover__length': 5, 'adstock__correo_pipe__saturation__a': 0.6275767572742299, 'adstock__facebook_pipe__carryover__strength': 0.23126986862002263, 'adstock__facebook_pipe__carryover__length': 1, 'adstock__facebook_pipe__saturation__a': 0.8332499941074196, 'adstock__google_pipe__carryover__strength': 0.7647446160554672, 'adstock__google_pipe__carryover__length': 5, 'adstock__google_pipe__saturation__a': 0.4841537079117917, 'adstock__impresiones_pipe__carryover__strength': 0.8069344716376637, 'adstock__impresiones_pipe__carryover__length': 6, 'adstock__impresiones_pipe__saturation__a': 0.06942069732340705, 'adstock__radio_pipe__carryover__strength': 0.21567891413066032, 'adstock__radio_pipe__carryover__length': 0, 'adstock__radio_pipe__saturation__a': 0.7626489304194581, 'adstock__tvabierta_pipe__carryover__strength': 0.863850814690767, 'adstock__tvabierta_pipe__carryover__length': 5, 'adstock__tvabierta_pipe__saturation__a': 0.32518516825753907, 'adstock__tvpaga_pipe__carryover__strength': 0.44453868187840895, 'adstock__tvpaga_pipe__carryover__length': 3, 'adstock__tvpaga_pipe__saturation__a': 1.1112968994312091}. Best is trial 0 with value: -10.299128223201137.\u001b[0m\n",
      "C:\\Users\\CCE\\AppData\\Local\\Temp/ipykernel_13132/2233880114.py:15: RuntimeWarning: invalid value encountered in true_divide\n",
      "  return (X / (X + (X.mean() * self.a)))\n",
      "C:\\Users\\CCE\\miniconda3\\lib\\site-packages\\sklearn\\model_selection\\_validation.py:771: UserWarning: Scoring failed. The score on this train-test partition for these parameters will be set to nan. Details: \n",
      "Traceback (most recent call last):\n",
      "  File \"C:\\Users\\CCE\\miniconda3\\lib\\site-packages\\sklearn\\model_selection\\_validation.py\", line 762, in _score\n",
      "    scores = scorer(estimator, X_test, y_test)\n",
      "  File \"C:\\Users\\CCE\\miniconda3\\lib\\site-packages\\sklearn\\metrics\\_scorer.py\", line 418, in _passthrough_scorer\n",
      "    return estimator.score(*args, **kwargs)\n",
      "  File \"C:\\Users\\CCE\\miniconda3\\lib\\site-packages\\sklearn\\utils\\metaestimators.py\", line 113, in <lambda>\n",
      "    out = lambda *args, **kwargs: self.fn(obj, *args, **kwargs)  # noqa\n",
      "  File \"C:\\Users\\CCE\\miniconda3\\lib\\site-packages\\sklearn\\pipeline.py\", line 711, in score\n",
      "    return self.steps[-1][1].score(Xt, y, **score_params)\n",
      "  File \"C:\\Users\\CCE\\miniconda3\\lib\\site-packages\\sklearn\\base.py\", line 700, in score\n",
      "    y_pred = self.predict(X)\n",
      "  File \"C:\\Users\\CCE\\miniconda3\\lib\\site-packages\\sklearn\\linear_model\\_base.py\", line 362, in predict\n",
      "    return self._decision_function(X)\n",
      "  File \"C:\\Users\\CCE\\miniconda3\\lib\\site-packages\\sklearn\\linear_model\\_base.py\", line 345, in _decision_function\n",
      "    X = self._validate_data(X, accept_sparse=[\"csr\", \"csc\", \"coo\"], reset=False)\n",
      "  File \"C:\\Users\\CCE\\miniconda3\\lib\\site-packages\\sklearn\\base.py\", line 561, in _validate_data\n",
      "    X = check_array(X, **check_params)\n",
      "  File \"C:\\Users\\CCE\\miniconda3\\lib\\site-packages\\sklearn\\utils\\validation.py\", line 792, in check_array\n",
      "    _assert_all_finite(array, allow_nan=force_all_finite == \"allow-nan\")\n",
      "  File \"C:\\Users\\CCE\\miniconda3\\lib\\site-packages\\sklearn\\utils\\validation.py\", line 114, in _assert_all_finite\n",
      "    raise ValueError(\n",
      "ValueError: Input contains NaN, infinity or a value too large for dtype('float64').\n",
      "\n",
      "  warnings.warn(\n",
      "\u001b[32m[I 2022-04-04 17:05:08,464]\u001b[0m Trial 1 finished with value: -15.954791199204267 and parameters: {'adstock__correo_pipe__carryover__strength': 0.7647926580108311, 'adstock__correo_pipe__carryover__length': 2, 'adstock__correo_pipe__saturation__a': 1.2837544288662186, 'adstock__facebook_pipe__carryover__strength': 0.6438570943859201, 'adstock__facebook_pipe__carryover__length': 2, 'adstock__facebook_pipe__saturation__a': 1.034262366348077, 'adstock__google_pipe__carryover__strength': 0.7221369704283104, 'adstock__google_pipe__carryover__length': 4, 'adstock__google_pipe__saturation__a': 0.6882602119182564, 'adstock__impresiones_pipe__carryover__strength': 0.1703168406424409, 'adstock__impresiones_pipe__carryover__length': 5, 'adstock__impresiones_pipe__saturation__a': 0.2862649099799366, 'adstock__radio_pipe__carryover__strength': 0.1841642936256983, 'adstock__radio_pipe__carryover__length': 3, 'adstock__radio_pipe__saturation__a': 1.2582049314398236, 'adstock__tvabierta_pipe__carryover__strength': 0.535676969630048, 'adstock__tvabierta_pipe__carryover__length': 4, 'adstock__tvabierta_pipe__saturation__a': 1.1425963927887821, 'adstock__tvpaga_pipe__carryover__strength': 0.8074201583678433, 'adstock__tvpaga_pipe__carryover__length': 6, 'adstock__tvpaga_pipe__saturation__a': 0.4340381433446041}. Best is trial 0 with value: -10.299128223201137.\u001b[0m\n",
      "C:\\Users\\CCE\\AppData\\Local\\Temp/ipykernel_13132/2233880114.py:15: RuntimeWarning: invalid value encountered in true_divide\n",
      "  return (X / (X + (X.mean() * self.a)))\n",
      "C:\\Users\\CCE\\miniconda3\\lib\\site-packages\\sklearn\\model_selection\\_validation.py:771: UserWarning: Scoring failed. The score on this train-test partition for these parameters will be set to nan. Details: \n",
      "Traceback (most recent call last):\n",
      "  File \"C:\\Users\\CCE\\miniconda3\\lib\\site-packages\\sklearn\\model_selection\\_validation.py\", line 762, in _score\n",
      "    scores = scorer(estimator, X_test, y_test)\n",
      "  File \"C:\\Users\\CCE\\miniconda3\\lib\\site-packages\\sklearn\\metrics\\_scorer.py\", line 418, in _passthrough_scorer\n",
      "    return estimator.score(*args, **kwargs)\n",
      "  File \"C:\\Users\\CCE\\miniconda3\\lib\\site-packages\\sklearn\\utils\\metaestimators.py\", line 113, in <lambda>\n",
      "    out = lambda *args, **kwargs: self.fn(obj, *args, **kwargs)  # noqa\n",
      "  File \"C:\\Users\\CCE\\miniconda3\\lib\\site-packages\\sklearn\\pipeline.py\", line 711, in score\n",
      "    return self.steps[-1][1].score(Xt, y, **score_params)\n",
      "  File \"C:\\Users\\CCE\\miniconda3\\lib\\site-packages\\sklearn\\base.py\", line 700, in score\n",
      "    y_pred = self.predict(X)\n",
      "  File \"C:\\Users\\CCE\\miniconda3\\lib\\site-packages\\sklearn\\linear_model\\_base.py\", line 362, in predict\n",
      "    return self._decision_function(X)\n",
      "  File \"C:\\Users\\CCE\\miniconda3\\lib\\site-packages\\sklearn\\linear_model\\_base.py\", line 345, in _decision_function\n",
      "    X = self._validate_data(X, accept_sparse=[\"csr\", \"csc\", \"coo\"], reset=False)\n",
      "  File \"C:\\Users\\CCE\\miniconda3\\lib\\site-packages\\sklearn\\base.py\", line 561, in _validate_data\n",
      "    X = check_array(X, **check_params)\n",
      "  File \"C:\\Users\\CCE\\miniconda3\\lib\\site-packages\\sklearn\\utils\\validation.py\", line 792, in check_array\n",
      "    _assert_all_finite(array, allow_nan=force_all_finite == \"allow-nan\")\n",
      "  File \"C:\\Users\\CCE\\miniconda3\\lib\\site-packages\\sklearn\\utils\\validation.py\", line 114, in _assert_all_finite\n",
      "    raise ValueError(\n",
      "ValueError: Input contains NaN, infinity or a value too large for dtype('float64').\n",
      "\n",
      "  warnings.warn(\n",
      "\u001b[32m[I 2022-04-04 17:05:08,713]\u001b[0m Trial 2 finished with value: -3.5643777545905104 and parameters: {'adstock__correo_pipe__carryover__strength': 0.2687779556995964, 'adstock__correo_pipe__carryover__length': 5, 'adstock__correo_pipe__saturation__a': 0.558940979523143, 'adstock__facebook_pipe__carryover__strength': 0.17248241412748921, 'adstock__facebook_pipe__carryover__length': 6, 'adstock__facebook_pipe__saturation__a': 0.7159805141895468, 'adstock__google_pipe__carryover__strength': 0.40258064075418676, 'adstock__google_pipe__carryover__length': 4, 'adstock__google_pipe__saturation__a': 0.3962842768930883, 'adstock__impresiones_pipe__carryover__strength': 0.46113658790075895, 'adstock__impresiones_pipe__carryover__length': 6, 'adstock__impresiones_pipe__saturation__a': 0.5668989237680526, 'adstock__radio_pipe__carryover__strength': 0.9694825133296966, 'adstock__radio_pipe__carryover__length': 1, 'adstock__radio_pipe__saturation__a': 0.06948968899668184, 'adstock__tvabierta_pipe__carryover__strength': 0.5024314083369744, 'adstock__tvabierta_pipe__carryover__length': 5, 'adstock__tvabierta_pipe__saturation__a': 0.1905696629638267, 'adstock__tvpaga_pipe__carryover__strength': 0.40020492168794297, 'adstock__tvpaga_pipe__carryover__length': 6, 'adstock__tvpaga_pipe__saturation__a': 0.21204441289077436}. Best is trial 2 with value: -3.5643777545905104.\u001b[0m\n",
      "C:\\Users\\CCE\\AppData\\Local\\Temp/ipykernel_13132/2233880114.py:15: RuntimeWarning: invalid value encountered in true_divide\n",
      "  return (X / (X + (X.mean() * self.a)))\n",
      "C:\\Users\\CCE\\miniconda3\\lib\\site-packages\\sklearn\\model_selection\\_validation.py:771: UserWarning: Scoring failed. The score on this train-test partition for these parameters will be set to nan. Details: \n",
      "Traceback (most recent call last):\n",
      "  File \"C:\\Users\\CCE\\miniconda3\\lib\\site-packages\\sklearn\\model_selection\\_validation.py\", line 762, in _score\n",
      "    scores = scorer(estimator, X_test, y_test)\n",
      "  File \"C:\\Users\\CCE\\miniconda3\\lib\\site-packages\\sklearn\\metrics\\_scorer.py\", line 418, in _passthrough_scorer\n",
      "    return estimator.score(*args, **kwargs)\n",
      "  File \"C:\\Users\\CCE\\miniconda3\\lib\\site-packages\\sklearn\\utils\\metaestimators.py\", line 113, in <lambda>\n",
      "    out = lambda *args, **kwargs: self.fn(obj, *args, **kwargs)  # noqa\n",
      "  File \"C:\\Users\\CCE\\miniconda3\\lib\\site-packages\\sklearn\\pipeline.py\", line 711, in score\n",
      "    return self.steps[-1][1].score(Xt, y, **score_params)\n",
      "  File \"C:\\Users\\CCE\\miniconda3\\lib\\site-packages\\sklearn\\base.py\", line 700, in score\n",
      "    y_pred = self.predict(X)\n",
      "  File \"C:\\Users\\CCE\\miniconda3\\lib\\site-packages\\sklearn\\linear_model\\_base.py\", line 362, in predict\n",
      "    return self._decision_function(X)\n",
      "  File \"C:\\Users\\CCE\\miniconda3\\lib\\site-packages\\sklearn\\linear_model\\_base.py\", line 345, in _decision_function\n",
      "    X = self._validate_data(X, accept_sparse=[\"csr\", \"csc\", \"coo\"], reset=False)\n",
      "  File \"C:\\Users\\CCE\\miniconda3\\lib\\site-packages\\sklearn\\base.py\", line 561, in _validate_data\n",
      "    X = check_array(X, **check_params)\n",
      "  File \"C:\\Users\\CCE\\miniconda3\\lib\\site-packages\\sklearn\\utils\\validation.py\", line 792, in check_array\n",
      "    _assert_all_finite(array, allow_nan=force_all_finite == \"allow-nan\")\n",
      "  File \"C:\\Users\\CCE\\miniconda3\\lib\\site-packages\\sklearn\\utils\\validation.py\", line 114, in _assert_all_finite\n",
      "    raise ValueError(\n",
      "ValueError: Input contains NaN, infinity or a value too large for dtype('float64').\n",
      "\n",
      "  warnings.warn(\n",
      "\u001b[32m[I 2022-04-04 17:05:08,979]\u001b[0m Trial 3 finished with value: -4.9841325920753725 and parameters: {'adstock__correo_pipe__carryover__strength': 0.5953372470432962, 'adstock__correo_pipe__carryover__length': 0, 'adstock__correo_pipe__saturation__a': 1.0548526481882554, 'adstock__facebook_pipe__carryover__strength': 0.9423209734462513, 'adstock__facebook_pipe__carryover__length': 4, 'adstock__facebook_pipe__saturation__a': 0.43952330341796864, 'adstock__google_pipe__carryover__strength': 0.13860030114572497, 'adstock__google_pipe__carryover__length': 6, 'adstock__google_pipe__saturation__a': 0.15136601820055318, 'adstock__impresiones_pipe__carryover__strength': 0.4332551558742761, 'adstock__impresiones_pipe__carryover__length': 6, 'adstock__impresiones_pipe__saturation__a': 0.48984795511118695, 'adstock__radio_pipe__carryover__strength': 0.055420218054387016, 'adstock__radio_pipe__carryover__length': 1, 'adstock__radio_pipe__saturation__a': 0.12119420807892789, 'adstock__tvabierta_pipe__carryover__strength': 0.5766428589497673, 'adstock__tvabierta_pipe__carryover__length': 3, 'adstock__tvabierta_pipe__saturation__a': 0.5821836263634992, 'adstock__tvpaga_pipe__carryover__strength': 0.6079212220475095, 'adstock__tvpaga_pipe__carryover__length': 0, 'adstock__tvpaga_pipe__saturation__a': 0.19993669713157103}. Best is trial 2 with value: -3.5643777545905104.\u001b[0m\n",
      "C:\\Users\\CCE\\AppData\\Local\\Temp/ipykernel_13132/2233880114.py:15: RuntimeWarning: invalid value encountered in true_divide\n",
      "  return (X / (X + (X.mean() * self.a)))\n",
      "C:\\Users\\CCE\\miniconda3\\lib\\site-packages\\sklearn\\model_selection\\_validation.py:771: UserWarning: Scoring failed. The score on this train-test partition for these parameters will be set to nan. Details: \n",
      "Traceback (most recent call last):\n",
      "  File \"C:\\Users\\CCE\\miniconda3\\lib\\site-packages\\sklearn\\model_selection\\_validation.py\", line 762, in _score\n",
      "    scores = scorer(estimator, X_test, y_test)\n",
      "  File \"C:\\Users\\CCE\\miniconda3\\lib\\site-packages\\sklearn\\metrics\\_scorer.py\", line 418, in _passthrough_scorer\n",
      "    return estimator.score(*args, **kwargs)\n",
      "  File \"C:\\Users\\CCE\\miniconda3\\lib\\site-packages\\sklearn\\utils\\metaestimators.py\", line 113, in <lambda>\n",
      "    out = lambda *args, **kwargs: self.fn(obj, *args, **kwargs)  # noqa\n",
      "  File \"C:\\Users\\CCE\\miniconda3\\lib\\site-packages\\sklearn\\pipeline.py\", line 711, in score\n",
      "    return self.steps[-1][1].score(Xt, y, **score_params)\n",
      "  File \"C:\\Users\\CCE\\miniconda3\\lib\\site-packages\\sklearn\\base.py\", line 700, in score\n",
      "    y_pred = self.predict(X)\n",
      "  File \"C:\\Users\\CCE\\miniconda3\\lib\\site-packages\\sklearn\\linear_model\\_base.py\", line 362, in predict\n",
      "    return self._decision_function(X)\n",
      "  File \"C:\\Users\\CCE\\miniconda3\\lib\\site-packages\\sklearn\\linear_model\\_base.py\", line 345, in _decision_function\n",
      "    X = self._validate_data(X, accept_sparse=[\"csr\", \"csc\", \"coo\"], reset=False)\n",
      "  File \"C:\\Users\\CCE\\miniconda3\\lib\\site-packages\\sklearn\\base.py\", line 561, in _validate_data\n",
      "    X = check_array(X, **check_params)\n",
      "  File \"C:\\Users\\CCE\\miniconda3\\lib\\site-packages\\sklearn\\utils\\validation.py\", line 792, in check_array\n",
      "    _assert_all_finite(array, allow_nan=force_all_finite == \"allow-nan\")\n",
      "  File \"C:\\Users\\CCE\\miniconda3\\lib\\site-packages\\sklearn\\utils\\validation.py\", line 114, in _assert_all_finite\n",
      "    raise ValueError(\n",
      "ValueError: Input contains NaN, infinity or a value too large for dtype('float64').\n",
      "\n",
      "  warnings.warn(\n",
      "\u001b[32m[I 2022-04-04 17:05:09,249]\u001b[0m Trial 4 finished with value: -0.05921795268286051 and parameters: {'adstock__correo_pipe__carryover__strength': 0.07639040045823209, 'adstock__correo_pipe__carryover__length': 3, 'adstock__correo_pipe__saturation__a': 0.4224094050472629, 'adstock__facebook_pipe__carryover__strength': 0.46426977591480534, 'adstock__facebook_pipe__carryover__length': 5, 'adstock__facebook_pipe__saturation__a': 1.084799417174083, 'adstock__google_pipe__carryover__strength': 0.35361945410371953, 'adstock__google_pipe__carryover__length': 3, 'adstock__google_pipe__saturation__a': 1.1724525925384164, 'adstock__impresiones_pipe__carryover__strength': 0.16801354644602895, 'adstock__impresiones_pipe__carryover__length': 4, 'adstock__impresiones_pipe__saturation__a': 1.3422153411317188, 'adstock__radio_pipe__carryover__strength': 0.16162966057840944, 'adstock__radio_pipe__carryover__length': 3, 'adstock__radio_pipe__saturation__a': 1.6586979230989474, 'adstock__tvabierta_pipe__carryover__strength': 0.6585643238935249, 'adstock__tvabierta_pipe__carryover__length': 0, 'adstock__tvabierta_pipe__saturation__a': 1.48393616465743, 'adstock__tvpaga_pipe__carryover__strength': 0.4953249896471903, 'adstock__tvpaga_pipe__carryover__length': 3, 'adstock__tvpaga_pipe__saturation__a': 1.760883255453388}. Best is trial 4 with value: -0.05921795268286051.\u001b[0m\n",
      "C:\\Users\\CCE\\AppData\\Local\\Temp/ipykernel_13132/2233880114.py:15: RuntimeWarning: invalid value encountered in true_divide\n",
      "  return (X / (X + (X.mean() * self.a)))\n",
      "C:\\Users\\CCE\\miniconda3\\lib\\site-packages\\sklearn\\model_selection\\_validation.py:771: UserWarning: Scoring failed. The score on this train-test partition for these parameters will be set to nan. Details: \n",
      "Traceback (most recent call last):\n",
      "  File \"C:\\Users\\CCE\\miniconda3\\lib\\site-packages\\sklearn\\model_selection\\_validation.py\", line 762, in _score\n",
      "    scores = scorer(estimator, X_test, y_test)\n",
      "  File \"C:\\Users\\CCE\\miniconda3\\lib\\site-packages\\sklearn\\metrics\\_scorer.py\", line 418, in _passthrough_scorer\n",
      "    return estimator.score(*args, **kwargs)\n",
      "  File \"C:\\Users\\CCE\\miniconda3\\lib\\site-packages\\sklearn\\utils\\metaestimators.py\", line 113, in <lambda>\n",
      "    out = lambda *args, **kwargs: self.fn(obj, *args, **kwargs)  # noqa\n",
      "  File \"C:\\Users\\CCE\\miniconda3\\lib\\site-packages\\sklearn\\pipeline.py\", line 711, in score\n",
      "    return self.steps[-1][1].score(Xt, y, **score_params)\n",
      "  File \"C:\\Users\\CCE\\miniconda3\\lib\\site-packages\\sklearn\\base.py\", line 700, in score\n",
      "    y_pred = self.predict(X)\n",
      "  File \"C:\\Users\\CCE\\miniconda3\\lib\\site-packages\\sklearn\\linear_model\\_base.py\", line 362, in predict\n",
      "    return self._decision_function(X)\n",
      "  File \"C:\\Users\\CCE\\miniconda3\\lib\\site-packages\\sklearn\\linear_model\\_base.py\", line 345, in _decision_function\n",
      "    X = self._validate_data(X, accept_sparse=[\"csr\", \"csc\", \"coo\"], reset=False)\n",
      "  File \"C:\\Users\\CCE\\miniconda3\\lib\\site-packages\\sklearn\\base.py\", line 561, in _validate_data\n",
      "    X = check_array(X, **check_params)\n",
      "  File \"C:\\Users\\CCE\\miniconda3\\lib\\site-packages\\sklearn\\utils\\validation.py\", line 792, in check_array\n",
      "    _assert_all_finite(array, allow_nan=force_all_finite == \"allow-nan\")\n",
      "  File \"C:\\Users\\CCE\\miniconda3\\lib\\site-packages\\sklearn\\utils\\validation.py\", line 114, in _assert_all_finite\n",
      "    raise ValueError(\n",
      "ValueError: Input contains NaN, infinity or a value too large for dtype('float64').\n",
      "\n",
      "  warnings.warn(\n",
      "\u001b[32m[I 2022-04-04 17:05:09,554]\u001b[0m Trial 5 finished with value: -5.747896454289189 and parameters: {'adstock__correo_pipe__carryover__strength': 0.5343570718315968, 'adstock__correo_pipe__carryover__length': 4, 'adstock__correo_pipe__saturation__a': 1.3369128868303646, 'adstock__facebook_pipe__carryover__strength': 0.9077068247993454, 'adstock__facebook_pipe__carryover__length': 6, 'adstock__facebook_pipe__saturation__a': 0.45861981348612657, 'adstock__google_pipe__carryover__strength': 0.9861388283023121, 'adstock__google_pipe__carryover__length': 2, 'adstock__google_pipe__saturation__a': 0.17620786682561085, 'adstock__impresiones_pipe__carryover__strength': 0.1471677914978463, 'adstock__impresiones_pipe__carryover__length': 4, 'adstock__impresiones_pipe__saturation__a': 1.482500317993504, 'adstock__radio_pipe__carryover__strength': 0.6163966662564166, 'adstock__radio_pipe__carryover__length': 5, 'adstock__radio_pipe__saturation__a': 1.8288185757033701, 'adstock__tvabierta_pipe__carryover__strength': 0.3062310555180332, 'adstock__tvabierta_pipe__carryover__length': 5, 'adstock__tvabierta_pipe__saturation__a': 1.4872974667794798, 'adstock__tvpaga_pipe__carryover__strength': 0.9645103190908838, 'adstock__tvpaga_pipe__carryover__length': 6, 'adstock__tvpaga_pipe__saturation__a': 0.9399989403516908}. Best is trial 4 with value: -0.05921795268286051.\u001b[0m\n",
      "C:\\Users\\CCE\\AppData\\Local\\Temp/ipykernel_13132/2233880114.py:15: RuntimeWarning: invalid value encountered in true_divide\n",
      "  return (X / (X + (X.mean() * self.a)))\n",
      "C:\\Users\\CCE\\miniconda3\\lib\\site-packages\\sklearn\\model_selection\\_validation.py:771: UserWarning: Scoring failed. The score on this train-test partition for these parameters will be set to nan. Details: \n",
      "Traceback (most recent call last):\n",
      "  File \"C:\\Users\\CCE\\miniconda3\\lib\\site-packages\\sklearn\\model_selection\\_validation.py\", line 762, in _score\n",
      "    scores = scorer(estimator, X_test, y_test)\n",
      "  File \"C:\\Users\\CCE\\miniconda3\\lib\\site-packages\\sklearn\\metrics\\_scorer.py\", line 418, in _passthrough_scorer\n",
      "    return estimator.score(*args, **kwargs)\n",
      "  File \"C:\\Users\\CCE\\miniconda3\\lib\\site-packages\\sklearn\\utils\\metaestimators.py\", line 113, in <lambda>\n",
      "    out = lambda *args, **kwargs: self.fn(obj, *args, **kwargs)  # noqa\n",
      "  File \"C:\\Users\\CCE\\miniconda3\\lib\\site-packages\\sklearn\\pipeline.py\", line 711, in score\n",
      "    return self.steps[-1][1].score(Xt, y, **score_params)\n",
      "  File \"C:\\Users\\CCE\\miniconda3\\lib\\site-packages\\sklearn\\base.py\", line 700, in score\n",
      "    y_pred = self.predict(X)\n",
      "  File \"C:\\Users\\CCE\\miniconda3\\lib\\site-packages\\sklearn\\linear_model\\_base.py\", line 362, in predict\n",
      "    return self._decision_function(X)\n",
      "  File \"C:\\Users\\CCE\\miniconda3\\lib\\site-packages\\sklearn\\linear_model\\_base.py\", line 345, in _decision_function\n",
      "    X = self._validate_data(X, accept_sparse=[\"csr\", \"csc\", \"coo\"], reset=False)\n",
      "  File \"C:\\Users\\CCE\\miniconda3\\lib\\site-packages\\sklearn\\base.py\", line 561, in _validate_data\n",
      "    X = check_array(X, **check_params)\n",
      "  File \"C:\\Users\\CCE\\miniconda3\\lib\\site-packages\\sklearn\\utils\\validation.py\", line 792, in check_array\n",
      "    _assert_all_finite(array, allow_nan=force_all_finite == \"allow-nan\")\n",
      "  File \"C:\\Users\\CCE\\miniconda3\\lib\\site-packages\\sklearn\\utils\\validation.py\", line 114, in _assert_all_finite\n",
      "    raise ValueError(\n",
      "ValueError: Input contains NaN, infinity or a value too large for dtype('float64').\n",
      "\n",
      "  warnings.warn(\n",
      "\u001b[32m[I 2022-04-04 17:05:09,950]\u001b[0m Trial 6 finished with value: -3.6717743164616863 and parameters: {'adstock__correo_pipe__carryover__strength': 0.7000694423835581, 'adstock__correo_pipe__carryover__length': 5, 'adstock__correo_pipe__saturation__a': 1.0197051928469067, 'adstock__facebook_pipe__carryover__strength': 0.8316026219916149, 'adstock__facebook_pipe__carryover__length': 6, 'adstock__facebook_pipe__saturation__a': 0.45694153260538206, 'adstock__google_pipe__carryover__strength': 0.929430913527637, 'adstock__google_pipe__carryover__length': 0, 'adstock__google_pipe__saturation__a': 0.757613453336009, 'adstock__impresiones_pipe__carryover__strength': 0.7470819390514816, 'adstock__impresiones_pipe__carryover__length': 5, 'adstock__impresiones_pipe__saturation__a': 1.5121024976486057, 'adstock__radio_pipe__carryover__strength': 0.5415704356158654, 'adstock__radio_pipe__carryover__length': 4, 'adstock__radio_pipe__saturation__a': 1.504064288114328, 'adstock__tvabierta_pipe__carryover__strength': 0.5007228251434666, 'adstock__tvabierta_pipe__carryover__length': 5, 'adstock__tvabierta_pipe__saturation__a': 1.3724283335488034, 'adstock__tvpaga_pipe__carryover__strength': 0.8310501150296598, 'adstock__tvpaga_pipe__carryover__length': 2, 'adstock__tvpaga_pipe__saturation__a': 0.5942860575008595}. Best is trial 4 with value: -0.05921795268286051.\u001b[0m\n",
      "C:\\Users\\CCE\\AppData\\Local\\Temp/ipykernel_13132/2233880114.py:15: RuntimeWarning: invalid value encountered in true_divide\n",
      "  return (X / (X + (X.mean() * self.a)))\n",
      "C:\\Users\\CCE\\miniconda3\\lib\\site-packages\\sklearn\\model_selection\\_validation.py:771: UserWarning: Scoring failed. The score on this train-test partition for these parameters will be set to nan. Details: \n",
      "Traceback (most recent call last):\n",
      "  File \"C:\\Users\\CCE\\miniconda3\\lib\\site-packages\\sklearn\\model_selection\\_validation.py\", line 762, in _score\n",
      "    scores = scorer(estimator, X_test, y_test)\n",
      "  File \"C:\\Users\\CCE\\miniconda3\\lib\\site-packages\\sklearn\\metrics\\_scorer.py\", line 418, in _passthrough_scorer\n",
      "    return estimator.score(*args, **kwargs)\n",
      "  File \"C:\\Users\\CCE\\miniconda3\\lib\\site-packages\\sklearn\\utils\\metaestimators.py\", line 113, in <lambda>\n",
      "    out = lambda *args, **kwargs: self.fn(obj, *args, **kwargs)  # noqa\n",
      "  File \"C:\\Users\\CCE\\miniconda3\\lib\\site-packages\\sklearn\\pipeline.py\", line 711, in score\n",
      "    return self.steps[-1][1].score(Xt, y, **score_params)\n",
      "  File \"C:\\Users\\CCE\\miniconda3\\lib\\site-packages\\sklearn\\base.py\", line 700, in score\n",
      "    y_pred = self.predict(X)\n",
      "  File \"C:\\Users\\CCE\\miniconda3\\lib\\site-packages\\sklearn\\linear_model\\_base.py\", line 362, in predict\n",
      "    return self._decision_function(X)\n",
      "  File \"C:\\Users\\CCE\\miniconda3\\lib\\site-packages\\sklearn\\linear_model\\_base.py\", line 345, in _decision_function\n",
      "    X = self._validate_data(X, accept_sparse=[\"csr\", \"csc\", \"coo\"], reset=False)\n",
      "  File \"C:\\Users\\CCE\\miniconda3\\lib\\site-packages\\sklearn\\base.py\", line 561, in _validate_data\n",
      "    X = check_array(X, **check_params)\n",
      "  File \"C:\\Users\\CCE\\miniconda3\\lib\\site-packages\\sklearn\\utils\\validation.py\", line 792, in check_array\n",
      "    _assert_all_finite(array, allow_nan=force_all_finite == \"allow-nan\")\n",
      "  File \"C:\\Users\\CCE\\miniconda3\\lib\\site-packages\\sklearn\\utils\\validation.py\", line 114, in _assert_all_finite\n",
      "    raise ValueError(\n",
      "ValueError: Input contains NaN, infinity or a value too large for dtype('float64').\n",
      "\n",
      "  warnings.warn(\n",
      "\u001b[32m[I 2022-04-04 17:05:10,309]\u001b[0m Trial 7 finished with value: -63.33994788805297 and parameters: {'adstock__correo_pipe__carryover__strength': 0.9332934716148529, 'adstock__correo_pipe__carryover__length': 5, 'adstock__correo_pipe__saturation__a': 0.8046223696374464, 'adstock__facebook_pipe__carryover__strength': 0.8036714240466163, 'adstock__facebook_pipe__carryover__length': 1, 'adstock__facebook_pipe__saturation__a': 1.3652352902932567, 'adstock__google_pipe__carryover__strength': 0.17264506205012686, 'adstock__google_pipe__carryover__length': 2, 'adstock__google_pipe__saturation__a': 0.5981580889029463, 'adstock__impresiones_pipe__carryover__strength': 0.5835517069438066, 'adstock__impresiones_pipe__carryover__length': 2, 'adstock__impresiones_pipe__saturation__a': 0.22339191571120254, 'adstock__radio_pipe__carryover__strength': 0.5137673635764917, 'adstock__radio_pipe__carryover__length': 6, 'adstock__radio_pipe__saturation__a': 0.04690688020247813, 'adstock__tvabierta_pipe__carryover__strength': 0.4243555564213236, 'adstock__tvabierta_pipe__carryover__length': 6, 'adstock__tvabierta_pipe__saturation__a': 0.10457458903094041, 'adstock__tvpaga_pipe__carryover__strength': 0.7393801819264247, 'adstock__tvpaga_pipe__carryover__length': 1, 'adstock__tvpaga_pipe__saturation__a': 1.690913035722517}. Best is trial 4 with value: -0.05921795268286051.\u001b[0m\n",
      "C:\\Users\\CCE\\AppData\\Local\\Temp/ipykernel_13132/2233880114.py:15: RuntimeWarning: invalid value encountered in true_divide\n",
      "  return (X / (X + (X.mean() * self.a)))\n",
      "C:\\Users\\CCE\\miniconda3\\lib\\site-packages\\sklearn\\model_selection\\_validation.py:771: UserWarning: Scoring failed. The score on this train-test partition for these parameters will be set to nan. Details: \n",
      "Traceback (most recent call last):\n",
      "  File \"C:\\Users\\CCE\\miniconda3\\lib\\site-packages\\sklearn\\model_selection\\_validation.py\", line 762, in _score\n",
      "    scores = scorer(estimator, X_test, y_test)\n",
      "  File \"C:\\Users\\CCE\\miniconda3\\lib\\site-packages\\sklearn\\metrics\\_scorer.py\", line 418, in _passthrough_scorer\n",
      "    return estimator.score(*args, **kwargs)\n",
      "  File \"C:\\Users\\CCE\\miniconda3\\lib\\site-packages\\sklearn\\utils\\metaestimators.py\", line 113, in <lambda>\n",
      "    out = lambda *args, **kwargs: self.fn(obj, *args, **kwargs)  # noqa\n",
      "  File \"C:\\Users\\CCE\\miniconda3\\lib\\site-packages\\sklearn\\pipeline.py\", line 711, in score\n",
      "    return self.steps[-1][1].score(Xt, y, **score_params)\n",
      "  File \"C:\\Users\\CCE\\miniconda3\\lib\\site-packages\\sklearn\\base.py\", line 700, in score\n",
      "    y_pred = self.predict(X)\n",
      "  File \"C:\\Users\\CCE\\miniconda3\\lib\\site-packages\\sklearn\\linear_model\\_base.py\", line 362, in predict\n",
      "    return self._decision_function(X)\n",
      "  File \"C:\\Users\\CCE\\miniconda3\\lib\\site-packages\\sklearn\\linear_model\\_base.py\", line 345, in _decision_function\n",
      "    X = self._validate_data(X, accept_sparse=[\"csr\", \"csc\", \"coo\"], reset=False)\n",
      "  File \"C:\\Users\\CCE\\miniconda3\\lib\\site-packages\\sklearn\\base.py\", line 561, in _validate_data\n",
      "    X = check_array(X, **check_params)\n",
      "  File \"C:\\Users\\CCE\\miniconda3\\lib\\site-packages\\sklearn\\utils\\validation.py\", line 792, in check_array\n",
      "    _assert_all_finite(array, allow_nan=force_all_finite == \"allow-nan\")\n",
      "  File \"C:\\Users\\CCE\\miniconda3\\lib\\site-packages\\sklearn\\utils\\validation.py\", line 114, in _assert_all_finite\n",
      "    raise ValueError(\n",
      "ValueError: Input contains NaN, infinity or a value too large for dtype('float64').\n",
      "\n",
      "  warnings.warn(\n",
      "\u001b[32m[I 2022-04-04 17:05:10,644]\u001b[0m Trial 8 finished with value: -2.917333473332209 and parameters: {'adstock__correo_pipe__carryover__strength': 0.34459175796414976, 'adstock__correo_pipe__carryover__length': 1, 'adstock__correo_pipe__saturation__a': 0.42772423990169295, 'adstock__facebook_pipe__carryover__strength': 0.15426865945435853, 'adstock__facebook_pipe__carryover__length': 1, 'adstock__facebook_pipe__saturation__a': 1.0916136693116694, 'adstock__google_pipe__carryover__strength': 0.23044310139192303, 'adstock__google_pipe__carryover__length': 2, 'adstock__google_pipe__saturation__a': 0.2560353263671553, 'adstock__impresiones_pipe__carryover__strength': 0.6583023362730076, 'adstock__impresiones_pipe__carryover__length': 3, 'adstock__impresiones_pipe__saturation__a': 0.7370780113240267, 'adstock__radio_pipe__carryover__strength': 0.9319205778023004, 'adstock__radio_pipe__carryover__length': 5, 'adstock__radio_pipe__saturation__a': 1.4523247688739258, 'adstock__tvabierta_pipe__carryover__strength': 0.8873445806352218, 'adstock__tvabierta_pipe__carryover__length': 0, 'adstock__tvabierta_pipe__saturation__a': 0.0899231730241894, 'adstock__tvpaga_pipe__carryover__strength': 0.08508717986393455, 'adstock__tvpaga_pipe__carryover__length': 3, 'adstock__tvpaga_pipe__saturation__a': 0.302357531272482}. Best is trial 4 with value: -0.05921795268286051.\u001b[0m\n",
      "C:\\Users\\CCE\\AppData\\Local\\Temp/ipykernel_13132/2233880114.py:15: RuntimeWarning: invalid value encountered in true_divide\n",
      "  return (X / (X + (X.mean() * self.a)))\n",
      "C:\\Users\\CCE\\miniconda3\\lib\\site-packages\\sklearn\\model_selection\\_validation.py:771: UserWarning: Scoring failed. The score on this train-test partition for these parameters will be set to nan. Details: \n",
      "Traceback (most recent call last):\n",
      "  File \"C:\\Users\\CCE\\miniconda3\\lib\\site-packages\\sklearn\\model_selection\\_validation.py\", line 762, in _score\n",
      "    scores = scorer(estimator, X_test, y_test)\n",
      "  File \"C:\\Users\\CCE\\miniconda3\\lib\\site-packages\\sklearn\\metrics\\_scorer.py\", line 418, in _passthrough_scorer\n",
      "    return estimator.score(*args, **kwargs)\n",
      "  File \"C:\\Users\\CCE\\miniconda3\\lib\\site-packages\\sklearn\\utils\\metaestimators.py\", line 113, in <lambda>\n",
      "    out = lambda *args, **kwargs: self.fn(obj, *args, **kwargs)  # noqa\n",
      "  File \"C:\\Users\\CCE\\miniconda3\\lib\\site-packages\\sklearn\\pipeline.py\", line 711, in score\n",
      "    return self.steps[-1][1].score(Xt, y, **score_params)\n",
      "  File \"C:\\Users\\CCE\\miniconda3\\lib\\site-packages\\sklearn\\base.py\", line 700, in score\n",
      "    y_pred = self.predict(X)\n",
      "  File \"C:\\Users\\CCE\\miniconda3\\lib\\site-packages\\sklearn\\linear_model\\_base.py\", line 362, in predict\n",
      "    return self._decision_function(X)\n",
      "  File \"C:\\Users\\CCE\\miniconda3\\lib\\site-packages\\sklearn\\linear_model\\_base.py\", line 345, in _decision_function\n",
      "    X = self._validate_data(X, accept_sparse=[\"csr\", \"csc\", \"coo\"], reset=False)\n",
      "  File \"C:\\Users\\CCE\\miniconda3\\lib\\site-packages\\sklearn\\base.py\", line 561, in _validate_data\n",
      "    X = check_array(X, **check_params)\n",
      "  File \"C:\\Users\\CCE\\miniconda3\\lib\\site-packages\\sklearn\\utils\\validation.py\", line 792, in check_array\n",
      "    _assert_all_finite(array, allow_nan=force_all_finite == \"allow-nan\")\n",
      "  File \"C:\\Users\\CCE\\miniconda3\\lib\\site-packages\\sklearn\\utils\\validation.py\", line 114, in _assert_all_finite\n",
      "    raise ValueError(\n",
      "ValueError: Input contains NaN, infinity or a value too large for dtype('float64').\n",
      "\n",
      "  warnings.warn(\n",
      "\u001b[32m[I 2022-04-04 17:05:10,994]\u001b[0m Trial 9 finished with value: -0.7506811981461035 and parameters: {'adstock__correo_pipe__carryover__strength': 0.6436641223583722, 'adstock__correo_pipe__carryover__length': 0, 'adstock__correo_pipe__saturation__a': 1.709490706453191, 'adstock__facebook_pipe__carryover__strength': 0.7161705024846751, 'adstock__facebook_pipe__carryover__length': 2, 'adstock__facebook_pipe__saturation__a': 0.9067022643182729, 'adstock__google_pipe__carryover__strength': 0.3226441904372087, 'adstock__google_pipe__carryover__length': 3, 'adstock__google_pipe__saturation__a': 0.400913250813425, 'adstock__impresiones_pipe__carryover__strength': 0.7030999931927824, 'adstock__impresiones_pipe__carryover__length': 4, 'adstock__impresiones_pipe__saturation__a': 0.009902652019880609, 'adstock__radio_pipe__carryover__strength': 0.00863922658690508, 'adstock__radio_pipe__carryover__length': 0, 'adstock__radio_pipe__saturation__a': 0.02914578275548929, 'adstock__tvabierta_pipe__carryover__strength': 0.06186907468263847, 'adstock__tvabierta_pipe__carryover__length': 2, 'adstock__tvabierta_pipe__saturation__a': 0.15082740425637153, 'adstock__tvpaga_pipe__carryover__strength': 0.6819705166652181, 'adstock__tvpaga_pipe__carryover__length': 0, 'adstock__tvpaga_pipe__saturation__a': 0.33133436784796944}. Best is trial 4 with value: -0.05921795268286051.\u001b[0m\n",
      "C:\\Users\\CCE\\miniconda3\\lib\\site-packages\\sklearn\\base.py:82: ExperimentalWarning: OptunaSearchCV is experimental (supported from v0.17.0). The interface can change in the future.\n",
      "  new_object = klass(**new_object_params)\n",
      "\u001b[32m[I 2022-04-04 17:05:11,063]\u001b[0m A new study created in memory with name: no-name-db97ee83-c7bb-489e-9842-139ceadd4f8b\u001b[0m\n",
      "\u001b[32m[I 2022-04-04 17:05:11,444]\u001b[0m Trial 0 finished with value: -4.1012868217339005 and parameters: {'adstock__correo_pipe__carryover__strength': 0.09242664244599941, 'adstock__correo_pipe__carryover__length': 5, 'adstock__correo_pipe__saturation__a': 0.6275767572742299, 'adstock__facebook_pipe__carryover__strength': 0.23126986862002263, 'adstock__facebook_pipe__carryover__length': 1, 'adstock__facebook_pipe__saturation__a': 0.8332499941074196, 'adstock__google_pipe__carryover__strength': 0.7647446160554672, 'adstock__google_pipe__carryover__length': 5, 'adstock__google_pipe__saturation__a': 0.4841537079117917, 'adstock__impresiones_pipe__carryover__strength': 0.8069344716376637, 'adstock__impresiones_pipe__carryover__length': 6, 'adstock__impresiones_pipe__saturation__a': 0.06942069732340705, 'adstock__radio_pipe__carryover__strength': 0.21567891413066032, 'adstock__radio_pipe__carryover__length': 0, 'adstock__radio_pipe__saturation__a': 0.7626489304194581, 'adstock__tvabierta_pipe__carryover__strength': 0.863850814690767, 'adstock__tvabierta_pipe__carryover__length': 5, 'adstock__tvabierta_pipe__saturation__a': 0.32518516825753907, 'adstock__tvpaga_pipe__carryover__strength': 0.44453868187840895, 'adstock__tvpaga_pipe__carryover__length': 3, 'adstock__tvpaga_pipe__saturation__a': 1.1112968994312091}. Best is trial 0 with value: -4.1012868217339005.\u001b[0m\n",
      "\u001b[32m[I 2022-04-04 17:05:11,804]\u001b[0m Trial 1 finished with value: -0.5704305295214811 and parameters: {'adstock__correo_pipe__carryover__strength': 0.7647926580108311, 'adstock__correo_pipe__carryover__length': 2, 'adstock__correo_pipe__saturation__a': 1.2837544288662186, 'adstock__facebook_pipe__carryover__strength': 0.6438570943859201, 'adstock__facebook_pipe__carryover__length': 2, 'adstock__facebook_pipe__saturation__a': 1.034262366348077, 'adstock__google_pipe__carryover__strength': 0.7221369704283104, 'adstock__google_pipe__carryover__length': 4, 'adstock__google_pipe__saturation__a': 0.6882602119182564, 'adstock__impresiones_pipe__carryover__strength': 0.1703168406424409, 'adstock__impresiones_pipe__carryover__length': 5, 'adstock__impresiones_pipe__saturation__a': 0.2862649099799366, 'adstock__radio_pipe__carryover__strength': 0.1841642936256983, 'adstock__radio_pipe__carryover__length': 3, 'adstock__radio_pipe__saturation__a': 1.2582049314398236, 'adstock__tvabierta_pipe__carryover__strength': 0.535676969630048, 'adstock__tvabierta_pipe__carryover__length': 4, 'adstock__tvabierta_pipe__saturation__a': 1.1425963927887821, 'adstock__tvpaga_pipe__carryover__strength': 0.8074201583678433, 'adstock__tvpaga_pipe__carryover__length': 6, 'adstock__tvpaga_pipe__saturation__a': 0.4340381433446041}. Best is trial 1 with value: -0.5704305295214811.\u001b[0m\n",
      "\u001b[32m[I 2022-04-04 17:05:12,154]\u001b[0m Trial 2 finished with value: -1.5332655186093136 and parameters: {'adstock__correo_pipe__carryover__strength': 0.2687779556995964, 'adstock__correo_pipe__carryover__length': 5, 'adstock__correo_pipe__saturation__a': 0.558940979523143, 'adstock__facebook_pipe__carryover__strength': 0.17248241412748921, 'adstock__facebook_pipe__carryover__length': 6, 'adstock__facebook_pipe__saturation__a': 0.7159805141895468, 'adstock__google_pipe__carryover__strength': 0.40258064075418676, 'adstock__google_pipe__carryover__length': 4, 'adstock__google_pipe__saturation__a': 0.3962842768930883, 'adstock__impresiones_pipe__carryover__strength': 0.46113658790075895, 'adstock__impresiones_pipe__carryover__length': 6, 'adstock__impresiones_pipe__saturation__a': 0.5668989237680526, 'adstock__radio_pipe__carryover__strength': 0.9694825133296966, 'adstock__radio_pipe__carryover__length': 1, 'adstock__radio_pipe__saturation__a': 0.06948968899668184, 'adstock__tvabierta_pipe__carryover__strength': 0.5024314083369744, 'adstock__tvabierta_pipe__carryover__length': 5, 'adstock__tvabierta_pipe__saturation__a': 0.1905696629638267, 'adstock__tvpaga_pipe__carryover__strength': 0.40020492168794297, 'adstock__tvpaga_pipe__carryover__length': 6, 'adstock__tvpaga_pipe__saturation__a': 0.21204441289077436}. Best is trial 1 with value: -0.5704305295214811.\u001b[0m\n",
      "\u001b[32m[I 2022-04-04 17:05:12,514]\u001b[0m Trial 3 finished with value: 0.12734778517567563 and parameters: {'adstock__correo_pipe__carryover__strength': 0.5953372470432962, 'adstock__correo_pipe__carryover__length': 0, 'adstock__correo_pipe__saturation__a': 1.0548526481882554, 'adstock__facebook_pipe__carryover__strength': 0.9423209734462513, 'adstock__facebook_pipe__carryover__length': 4, 'adstock__facebook_pipe__saturation__a': 0.43952330341796864, 'adstock__google_pipe__carryover__strength': 0.13860030114572497, 'adstock__google_pipe__carryover__length': 6, 'adstock__google_pipe__saturation__a': 0.15136601820055318, 'adstock__impresiones_pipe__carryover__strength': 0.4332551558742761, 'adstock__impresiones_pipe__carryover__length': 6, 'adstock__impresiones_pipe__saturation__a': 0.48984795511118695, 'adstock__radio_pipe__carryover__strength': 0.055420218054387016, 'adstock__radio_pipe__carryover__length': 1, 'adstock__radio_pipe__saturation__a': 0.12119420807892789, 'adstock__tvabierta_pipe__carryover__strength': 0.5766428589497673, 'adstock__tvabierta_pipe__carryover__length': 3, 'adstock__tvabierta_pipe__saturation__a': 0.5821836263634992, 'adstock__tvpaga_pipe__carryover__strength': 0.6079212220475095, 'adstock__tvpaga_pipe__carryover__length': 0, 'adstock__tvpaga_pipe__saturation__a': 0.19993669713157103}. Best is trial 3 with value: 0.12734778517567563.\u001b[0m\n",
      "\u001b[32m[I 2022-04-04 17:05:12,854]\u001b[0m Trial 4 finished with value: 0.4265529086001184 and parameters: {'adstock__correo_pipe__carryover__strength': 0.07639040045823209, 'adstock__correo_pipe__carryover__length': 3, 'adstock__correo_pipe__saturation__a': 0.4224094050472629, 'adstock__facebook_pipe__carryover__strength': 0.46426977591480534, 'adstock__facebook_pipe__carryover__length': 5, 'adstock__facebook_pipe__saturation__a': 1.084799417174083, 'adstock__google_pipe__carryover__strength': 0.35361945410371953, 'adstock__google_pipe__carryover__length': 3, 'adstock__google_pipe__saturation__a': 1.1724525925384164, 'adstock__impresiones_pipe__carryover__strength': 0.16801354644602895, 'adstock__impresiones_pipe__carryover__length': 4, 'adstock__impresiones_pipe__saturation__a': 1.3422153411317188, 'adstock__radio_pipe__carryover__strength': 0.16162966057840944, 'adstock__radio_pipe__carryover__length': 3, 'adstock__radio_pipe__saturation__a': 1.6586979230989474, 'adstock__tvabierta_pipe__carryover__strength': 0.6585643238935249, 'adstock__tvabierta_pipe__carryover__length': 0, 'adstock__tvabierta_pipe__saturation__a': 1.48393616465743, 'adstock__tvpaga_pipe__carryover__strength': 0.4953249896471903, 'adstock__tvpaga_pipe__carryover__length': 3, 'adstock__tvpaga_pipe__saturation__a': 1.760883255453388}. Best is trial 4 with value: 0.4265529086001184.\u001b[0m\n",
      "\u001b[32m[I 2022-04-04 17:05:13,234]\u001b[0m Trial 5 finished with value: -0.8322046913275031 and parameters: {'adstock__correo_pipe__carryover__strength': 0.5343570718315968, 'adstock__correo_pipe__carryover__length': 4, 'adstock__correo_pipe__saturation__a': 1.3369128868303646, 'adstock__facebook_pipe__carryover__strength': 0.9077068247993454, 'adstock__facebook_pipe__carryover__length': 6, 'adstock__facebook_pipe__saturation__a': 0.45861981348612657, 'adstock__google_pipe__carryover__strength': 0.9861388283023121, 'adstock__google_pipe__carryover__length': 2, 'adstock__google_pipe__saturation__a': 0.17620786682561085, 'adstock__impresiones_pipe__carryover__strength': 0.1471677914978463, 'adstock__impresiones_pipe__carryover__length': 4, 'adstock__impresiones_pipe__saturation__a': 1.482500317993504, 'adstock__radio_pipe__carryover__strength': 0.6163966662564166, 'adstock__radio_pipe__carryover__length': 5, 'adstock__radio_pipe__saturation__a': 1.8288185757033701, 'adstock__tvabierta_pipe__carryover__strength': 0.3062310555180332, 'adstock__tvabierta_pipe__carryover__length': 5, 'adstock__tvabierta_pipe__saturation__a': 1.4872974667794798, 'adstock__tvpaga_pipe__carryover__strength': 0.9645103190908838, 'adstock__tvpaga_pipe__carryover__length': 6, 'adstock__tvpaga_pipe__saturation__a': 0.9399989403516908}. Best is trial 4 with value: 0.4265529086001184.\u001b[0m\n",
      "\u001b[32m[I 2022-04-04 17:05:13,593]\u001b[0m Trial 6 finished with value: -0.2872584555211538 and parameters: {'adstock__correo_pipe__carryover__strength': 0.7000694423835581, 'adstock__correo_pipe__carryover__length': 5, 'adstock__correo_pipe__saturation__a': 1.0197051928469067, 'adstock__facebook_pipe__carryover__strength': 0.8316026219916149, 'adstock__facebook_pipe__carryover__length': 6, 'adstock__facebook_pipe__saturation__a': 0.45694153260538206, 'adstock__google_pipe__carryover__strength': 0.929430913527637, 'adstock__google_pipe__carryover__length': 0, 'adstock__google_pipe__saturation__a': 0.757613453336009, 'adstock__impresiones_pipe__carryover__strength': 0.7470819390514816, 'adstock__impresiones_pipe__carryover__length': 5, 'adstock__impresiones_pipe__saturation__a': 1.5121024976486057, 'adstock__radio_pipe__carryover__strength': 0.5415704356158654, 'adstock__radio_pipe__carryover__length': 4, 'adstock__radio_pipe__saturation__a': 1.504064288114328, 'adstock__tvabierta_pipe__carryover__strength': 0.5007228251434666, 'adstock__tvabierta_pipe__carryover__length': 5, 'adstock__tvabierta_pipe__saturation__a': 1.3724283335488034, 'adstock__tvpaga_pipe__carryover__strength': 0.8310501150296598, 'adstock__tvpaga_pipe__carryover__length': 2, 'adstock__tvpaga_pipe__saturation__a': 0.5942860575008595}. Best is trial 4 with value: 0.4265529086001184.\u001b[0m\n",
      "\u001b[32m[I 2022-04-04 17:05:13,963]\u001b[0m Trial 7 finished with value: -0.36141959231117887 and parameters: {'adstock__correo_pipe__carryover__strength': 0.9332934716148529, 'adstock__correo_pipe__carryover__length': 5, 'adstock__correo_pipe__saturation__a': 0.8046223696374464, 'adstock__facebook_pipe__carryover__strength': 0.8036714240466163, 'adstock__facebook_pipe__carryover__length': 1, 'adstock__facebook_pipe__saturation__a': 1.3652352902932567, 'adstock__google_pipe__carryover__strength': 0.17264506205012686, 'adstock__google_pipe__carryover__length': 2, 'adstock__google_pipe__saturation__a': 0.5981580889029463, 'adstock__impresiones_pipe__carryover__strength': 0.5835517069438066, 'adstock__impresiones_pipe__carryover__length': 2, 'adstock__impresiones_pipe__saturation__a': 0.22339191571120254, 'adstock__radio_pipe__carryover__strength': 0.5137673635764917, 'adstock__radio_pipe__carryover__length': 6, 'adstock__radio_pipe__saturation__a': 0.04690688020247813, 'adstock__tvabierta_pipe__carryover__strength': 0.4243555564213236, 'adstock__tvabierta_pipe__carryover__length': 6, 'adstock__tvabierta_pipe__saturation__a': 0.10457458903094041, 'adstock__tvpaga_pipe__carryover__strength': 0.7393801819264247, 'adstock__tvpaga_pipe__carryover__length': 1, 'adstock__tvpaga_pipe__saturation__a': 1.690913035722517}. Best is trial 4 with value: 0.4265529086001184.\u001b[0m\n",
      "\u001b[32m[I 2022-04-04 17:05:14,453]\u001b[0m Trial 8 finished with value: 0.18120579469628134 and parameters: {'adstock__correo_pipe__carryover__strength': 0.34459175796414976, 'adstock__correo_pipe__carryover__length': 1, 'adstock__correo_pipe__saturation__a': 0.42772423990169295, 'adstock__facebook_pipe__carryover__strength': 0.15426865945435853, 'adstock__facebook_pipe__carryover__length': 1, 'adstock__facebook_pipe__saturation__a': 1.0916136693116694, 'adstock__google_pipe__carryover__strength': 0.23044310139192303, 'adstock__google_pipe__carryover__length': 2, 'adstock__google_pipe__saturation__a': 0.2560353263671553, 'adstock__impresiones_pipe__carryover__strength': 0.6583023362730076, 'adstock__impresiones_pipe__carryover__length': 3, 'adstock__impresiones_pipe__saturation__a': 0.7370780113240267, 'adstock__radio_pipe__carryover__strength': 0.9319205778023004, 'adstock__radio_pipe__carryover__length': 5, 'adstock__radio_pipe__saturation__a': 1.4523247688739258, 'adstock__tvabierta_pipe__carryover__strength': 0.8873445806352218, 'adstock__tvabierta_pipe__carryover__length': 0, 'adstock__tvabierta_pipe__saturation__a': 0.0899231730241894, 'adstock__tvpaga_pipe__carryover__strength': 0.08508717986393455, 'adstock__tvpaga_pipe__carryover__length': 3, 'adstock__tvpaga_pipe__saturation__a': 0.302357531272482}. Best is trial 4 with value: 0.4265529086001184.\u001b[0m\n",
      "\u001b[32m[I 2022-04-04 17:05:14,889]\u001b[0m Trial 9 finished with value: 0.357457565393363 and parameters: {'adstock__correo_pipe__carryover__strength': 0.6436641223583722, 'adstock__correo_pipe__carryover__length': 0, 'adstock__correo_pipe__saturation__a': 1.709490706453191, 'adstock__facebook_pipe__carryover__strength': 0.7161705024846751, 'adstock__facebook_pipe__carryover__length': 2, 'adstock__facebook_pipe__saturation__a': 0.9067022643182729, 'adstock__google_pipe__carryover__strength': 0.3226441904372087, 'adstock__google_pipe__carryover__length': 3, 'adstock__google_pipe__saturation__a': 0.400913250813425, 'adstock__impresiones_pipe__carryover__strength': 0.7030999931927824, 'adstock__impresiones_pipe__carryover__length': 4, 'adstock__impresiones_pipe__saturation__a': 0.009902652019880609, 'adstock__radio_pipe__carryover__strength': 0.00863922658690508, 'adstock__radio_pipe__carryover__length': 0, 'adstock__radio_pipe__saturation__a': 0.02914578275548929, 'adstock__tvabierta_pipe__carryover__strength': 0.06186907468263847, 'adstock__tvabierta_pipe__carryover__length': 2, 'adstock__tvabierta_pipe__saturation__a': 0.15082740425637153, 'adstock__tvpaga_pipe__carryover__strength': 0.6819705166652181, 'adstock__tvpaga_pipe__carryover__length': 0, 'adstock__tvpaga_pipe__saturation__a': 0.33133436784796944}. Best is trial 4 with value: 0.4265529086001184.\u001b[0m\n",
      "C:\\Users\\CCE\\miniconda3\\lib\\site-packages\\sklearn\\base.py:82: ExperimentalWarning: OptunaSearchCV is experimental (supported from v0.17.0). The interface can change in the future.\n",
      "  new_object = klass(**new_object_params)\n",
      "\u001b[32m[I 2022-04-04 17:05:14,979]\u001b[0m A new study created in memory with name: no-name-fca1a6f8-8d61-4b21-ba3e-075616264035\u001b[0m\n",
      "\u001b[32m[I 2022-04-04 17:05:15,437]\u001b[0m Trial 0 finished with value: -0.12171946756443142 and parameters: {'adstock__correo_pipe__carryover__strength': 0.09242664244599941, 'adstock__correo_pipe__carryover__length': 5, 'adstock__correo_pipe__saturation__a': 0.6275767572742299, 'adstock__facebook_pipe__carryover__strength': 0.23126986862002263, 'adstock__facebook_pipe__carryover__length': 1, 'adstock__facebook_pipe__saturation__a': 0.8332499941074196, 'adstock__google_pipe__carryover__strength': 0.7647446160554672, 'adstock__google_pipe__carryover__length': 5, 'adstock__google_pipe__saturation__a': 0.4841537079117917, 'adstock__impresiones_pipe__carryover__strength': 0.8069344716376637, 'adstock__impresiones_pipe__carryover__length': 6, 'adstock__impresiones_pipe__saturation__a': 0.06942069732340705, 'adstock__radio_pipe__carryover__strength': 0.21567891413066032, 'adstock__radio_pipe__carryover__length': 0, 'adstock__radio_pipe__saturation__a': 0.7626489304194581, 'adstock__tvabierta_pipe__carryover__strength': 0.863850814690767, 'adstock__tvabierta_pipe__carryover__length': 5, 'adstock__tvabierta_pipe__saturation__a': 0.32518516825753907, 'adstock__tvpaga_pipe__carryover__strength': 0.44453868187840895, 'adstock__tvpaga_pipe__carryover__length': 3, 'adstock__tvpaga_pipe__saturation__a': 1.1112968994312091}. Best is trial 0 with value: -0.12171946756443142.\u001b[0m\n",
      "\u001b[32m[I 2022-04-04 17:05:15,924]\u001b[0m Trial 1 finished with value: 0.18473702378887247 and parameters: {'adstock__correo_pipe__carryover__strength': 0.7647926580108311, 'adstock__correo_pipe__carryover__length': 2, 'adstock__correo_pipe__saturation__a': 1.2837544288662186, 'adstock__facebook_pipe__carryover__strength': 0.6438570943859201, 'adstock__facebook_pipe__carryover__length': 2, 'adstock__facebook_pipe__saturation__a': 1.034262366348077, 'adstock__google_pipe__carryover__strength': 0.7221369704283104, 'adstock__google_pipe__carryover__length': 4, 'adstock__google_pipe__saturation__a': 0.6882602119182564, 'adstock__impresiones_pipe__carryover__strength': 0.1703168406424409, 'adstock__impresiones_pipe__carryover__length': 5, 'adstock__impresiones_pipe__saturation__a': 0.2862649099799366, 'adstock__radio_pipe__carryover__strength': 0.1841642936256983, 'adstock__radio_pipe__carryover__length': 3, 'adstock__radio_pipe__saturation__a': 1.2582049314398236, 'adstock__tvabierta_pipe__carryover__strength': 0.535676969630048, 'adstock__tvabierta_pipe__carryover__length': 4, 'adstock__tvabierta_pipe__saturation__a': 1.1425963927887821, 'adstock__tvpaga_pipe__carryover__strength': 0.8074201583678433, 'adstock__tvpaga_pipe__carryover__length': 6, 'adstock__tvpaga_pipe__saturation__a': 0.4340381433446041}. Best is trial 1 with value: 0.18473702378887247.\u001b[0m\n",
      "\u001b[32m[I 2022-04-04 17:05:16,394]\u001b[0m Trial 2 finished with value: 0.31353522521253235 and parameters: {'adstock__correo_pipe__carryover__strength': 0.2687779556995964, 'adstock__correo_pipe__carryover__length': 5, 'adstock__correo_pipe__saturation__a': 0.558940979523143, 'adstock__facebook_pipe__carryover__strength': 0.17248241412748921, 'adstock__facebook_pipe__carryover__length': 6, 'adstock__facebook_pipe__saturation__a': 0.7159805141895468, 'adstock__google_pipe__carryover__strength': 0.40258064075418676, 'adstock__google_pipe__carryover__length': 4, 'adstock__google_pipe__saturation__a': 0.3962842768930883, 'adstock__impresiones_pipe__carryover__strength': 0.46113658790075895, 'adstock__impresiones_pipe__carryover__length': 6, 'adstock__impresiones_pipe__saturation__a': 0.5668989237680526, 'adstock__radio_pipe__carryover__strength': 0.9694825133296966, 'adstock__radio_pipe__carryover__length': 1, 'adstock__radio_pipe__saturation__a': 0.06948968899668184, 'adstock__tvabierta_pipe__carryover__strength': 0.5024314083369744, 'adstock__tvabierta_pipe__carryover__length': 5, 'adstock__tvabierta_pipe__saturation__a': 0.1905696629638267, 'adstock__tvpaga_pipe__carryover__strength': 0.40020492168794297, 'adstock__tvpaga_pipe__carryover__length': 6, 'adstock__tvpaga_pipe__saturation__a': 0.21204441289077436}. Best is trial 2 with value: 0.31353522521253235.\u001b[0m\n",
      "\u001b[32m[I 2022-04-04 17:05:16,843]\u001b[0m Trial 3 finished with value: 0.6036140959847631 and parameters: {'adstock__correo_pipe__carryover__strength': 0.5953372470432962, 'adstock__correo_pipe__carryover__length': 0, 'adstock__correo_pipe__saturation__a': 1.0548526481882554, 'adstock__facebook_pipe__carryover__strength': 0.9423209734462513, 'adstock__facebook_pipe__carryover__length': 4, 'adstock__facebook_pipe__saturation__a': 0.43952330341796864, 'adstock__google_pipe__carryover__strength': 0.13860030114572497, 'adstock__google_pipe__carryover__length': 6, 'adstock__google_pipe__saturation__a': 0.15136601820055318, 'adstock__impresiones_pipe__carryover__strength': 0.4332551558742761, 'adstock__impresiones_pipe__carryover__length': 6, 'adstock__impresiones_pipe__saturation__a': 0.48984795511118695, 'adstock__radio_pipe__carryover__strength': 0.055420218054387016, 'adstock__radio_pipe__carryover__length': 1, 'adstock__radio_pipe__saturation__a': 0.12119420807892789, 'adstock__tvabierta_pipe__carryover__strength': 0.5766428589497673, 'adstock__tvabierta_pipe__carryover__length': 3, 'adstock__tvabierta_pipe__saturation__a': 0.5821836263634992, 'adstock__tvpaga_pipe__carryover__strength': 0.6079212220475095, 'adstock__tvpaga_pipe__carryover__length': 0, 'adstock__tvpaga_pipe__saturation__a': 0.19993669713157103}. Best is trial 3 with value: 0.6036140959847631.\u001b[0m\n",
      "\u001b[32m[I 2022-04-04 17:05:17,284]\u001b[0m Trial 4 finished with value: 0.7028238873714765 and parameters: {'adstock__correo_pipe__carryover__strength': 0.07639040045823209, 'adstock__correo_pipe__carryover__length': 3, 'adstock__correo_pipe__saturation__a': 0.4224094050472629, 'adstock__facebook_pipe__carryover__strength': 0.46426977591480534, 'adstock__facebook_pipe__carryover__length': 5, 'adstock__facebook_pipe__saturation__a': 1.084799417174083, 'adstock__google_pipe__carryover__strength': 0.35361945410371953, 'adstock__google_pipe__carryover__length': 3, 'adstock__google_pipe__saturation__a': 1.1724525925384164, 'adstock__impresiones_pipe__carryover__strength': 0.16801354644602895, 'adstock__impresiones_pipe__carryover__length': 4, 'adstock__impresiones_pipe__saturation__a': 1.3422153411317188, 'adstock__radio_pipe__carryover__strength': 0.16162966057840944, 'adstock__radio_pipe__carryover__length': 3, 'adstock__radio_pipe__saturation__a': 1.6586979230989474, 'adstock__tvabierta_pipe__carryover__strength': 0.6585643238935249, 'adstock__tvabierta_pipe__carryover__length': 0, 'adstock__tvabierta_pipe__saturation__a': 1.48393616465743, 'adstock__tvpaga_pipe__carryover__strength': 0.4953249896471903, 'adstock__tvpaga_pipe__carryover__length': 3, 'adstock__tvpaga_pipe__saturation__a': 1.760883255453388}. Best is trial 4 with value: 0.7028238873714765.\u001b[0m\n",
      "\u001b[32m[I 2022-04-04 17:05:17,821]\u001b[0m Trial 5 finished with value: 0.3531200580148258 and parameters: {'adstock__correo_pipe__carryover__strength': 0.5343570718315968, 'adstock__correo_pipe__carryover__length': 4, 'adstock__correo_pipe__saturation__a': 1.3369128868303646, 'adstock__facebook_pipe__carryover__strength': 0.9077068247993454, 'adstock__facebook_pipe__carryover__length': 6, 'adstock__facebook_pipe__saturation__a': 0.45861981348612657, 'adstock__google_pipe__carryover__strength': 0.9861388283023121, 'adstock__google_pipe__carryover__length': 2, 'adstock__google_pipe__saturation__a': 0.17620786682561085, 'adstock__impresiones_pipe__carryover__strength': 0.1471677914978463, 'adstock__impresiones_pipe__carryover__length': 4, 'adstock__impresiones_pipe__saturation__a': 1.482500317993504, 'adstock__radio_pipe__carryover__strength': 0.6163966662564166, 'adstock__radio_pipe__carryover__length': 5, 'adstock__radio_pipe__saturation__a': 1.8288185757033701, 'adstock__tvabierta_pipe__carryover__strength': 0.3062310555180332, 'adstock__tvabierta_pipe__carryover__length': 5, 'adstock__tvabierta_pipe__saturation__a': 1.4872974667794798, 'adstock__tvpaga_pipe__carryover__strength': 0.9645103190908838, 'adstock__tvpaga_pipe__carryover__length': 6, 'adstock__tvpaga_pipe__saturation__a': 0.9399989403516908}. Best is trial 4 with value: 0.7028238873714765.\u001b[0m\n",
      "\u001b[32m[I 2022-04-04 17:05:18,269]\u001b[0m Trial 6 finished with value: 0.5562389323925732 and parameters: {'adstock__correo_pipe__carryover__strength': 0.7000694423835581, 'adstock__correo_pipe__carryover__length': 5, 'adstock__correo_pipe__saturation__a': 1.0197051928469067, 'adstock__facebook_pipe__carryover__strength': 0.8316026219916149, 'adstock__facebook_pipe__carryover__length': 6, 'adstock__facebook_pipe__saturation__a': 0.45694153260538206, 'adstock__google_pipe__carryover__strength': 0.929430913527637, 'adstock__google_pipe__carryover__length': 0, 'adstock__google_pipe__saturation__a': 0.757613453336009, 'adstock__impresiones_pipe__carryover__strength': 0.7470819390514816, 'adstock__impresiones_pipe__carryover__length': 5, 'adstock__impresiones_pipe__saturation__a': 1.5121024976486057, 'adstock__radio_pipe__carryover__strength': 0.5415704356158654, 'adstock__radio_pipe__carryover__length': 4, 'adstock__radio_pipe__saturation__a': 1.504064288114328, 'adstock__tvabierta_pipe__carryover__strength': 0.5007228251434666, 'adstock__tvabierta_pipe__carryover__length': 5, 'adstock__tvabierta_pipe__saturation__a': 1.3724283335488034, 'adstock__tvpaga_pipe__carryover__strength': 0.8310501150296598, 'adstock__tvpaga_pipe__carryover__length': 2, 'adstock__tvpaga_pipe__saturation__a': 0.5942860575008595}. Best is trial 4 with value: 0.7028238873714765.\u001b[0m\n",
      "\u001b[32m[I 2022-04-04 17:05:18,734]\u001b[0m Trial 7 finished with value: 0.22567602695346772 and parameters: {'adstock__correo_pipe__carryover__strength': 0.9332934716148529, 'adstock__correo_pipe__carryover__length': 5, 'adstock__correo_pipe__saturation__a': 0.8046223696374464, 'adstock__facebook_pipe__carryover__strength': 0.8036714240466163, 'adstock__facebook_pipe__carryover__length': 1, 'adstock__facebook_pipe__saturation__a': 1.3652352902932567, 'adstock__google_pipe__carryover__strength': 0.17264506205012686, 'adstock__google_pipe__carryover__length': 2, 'adstock__google_pipe__saturation__a': 0.5981580889029463, 'adstock__impresiones_pipe__carryover__strength': 0.5835517069438066, 'adstock__impresiones_pipe__carryover__length': 2, 'adstock__impresiones_pipe__saturation__a': 0.22339191571120254, 'adstock__radio_pipe__carryover__strength': 0.5137673635764917, 'adstock__radio_pipe__carryover__length': 6, 'adstock__radio_pipe__saturation__a': 0.04690688020247813, 'adstock__tvabierta_pipe__carryover__strength': 0.4243555564213236, 'adstock__tvabierta_pipe__carryover__length': 6, 'adstock__tvabierta_pipe__saturation__a': 0.10457458903094041, 'adstock__tvpaga_pipe__carryover__strength': 0.7393801819264247, 'adstock__tvpaga_pipe__carryover__length': 1, 'adstock__tvpaga_pipe__saturation__a': 1.690913035722517}. Best is trial 4 with value: 0.7028238873714765.\u001b[0m\n",
      "\u001b[32m[I 2022-04-04 17:05:19,394]\u001b[0m Trial 8 finished with value: 0.5669790898045387 and parameters: {'adstock__correo_pipe__carryover__strength': 0.34459175796414976, 'adstock__correo_pipe__carryover__length': 1, 'adstock__correo_pipe__saturation__a': 0.42772423990169295, 'adstock__facebook_pipe__carryover__strength': 0.15426865945435853, 'adstock__facebook_pipe__carryover__length': 1, 'adstock__facebook_pipe__saturation__a': 1.0916136693116694, 'adstock__google_pipe__carryover__strength': 0.23044310139192303, 'adstock__google_pipe__carryover__length': 2, 'adstock__google_pipe__saturation__a': 0.2560353263671553, 'adstock__impresiones_pipe__carryover__strength': 0.6583023362730076, 'adstock__impresiones_pipe__carryover__length': 3, 'adstock__impresiones_pipe__saturation__a': 0.7370780113240267, 'adstock__radio_pipe__carryover__strength': 0.9319205778023004, 'adstock__radio_pipe__carryover__length': 5, 'adstock__radio_pipe__saturation__a': 1.4523247688739258, 'adstock__tvabierta_pipe__carryover__strength': 0.8873445806352218, 'adstock__tvabierta_pipe__carryover__length': 0, 'adstock__tvabierta_pipe__saturation__a': 0.0899231730241894, 'adstock__tvpaga_pipe__carryover__strength': 0.08508717986393455, 'adstock__tvpaga_pipe__carryover__length': 3, 'adstock__tvpaga_pipe__saturation__a': 0.302357531272482}. Best is trial 4 with value: 0.7028238873714765.\u001b[0m\n",
      "\u001b[32m[I 2022-04-04 17:05:19,994]\u001b[0m Trial 9 finished with value: 0.6811765975681163 and parameters: {'adstock__correo_pipe__carryover__strength': 0.6436641223583722, 'adstock__correo_pipe__carryover__length': 0, 'adstock__correo_pipe__saturation__a': 1.709490706453191, 'adstock__facebook_pipe__carryover__strength': 0.7161705024846751, 'adstock__facebook_pipe__carryover__length': 2, 'adstock__facebook_pipe__saturation__a': 0.9067022643182729, 'adstock__google_pipe__carryover__strength': 0.3226441904372087, 'adstock__google_pipe__carryover__length': 3, 'adstock__google_pipe__saturation__a': 0.400913250813425, 'adstock__impresiones_pipe__carryover__strength': 0.7030999931927824, 'adstock__impresiones_pipe__carryover__length': 4, 'adstock__impresiones_pipe__saturation__a': 0.009902652019880609, 'adstock__radio_pipe__carryover__strength': 0.00863922658690508, 'adstock__radio_pipe__carryover__length': 0, 'adstock__radio_pipe__saturation__a': 0.02914578275548929, 'adstock__tvabierta_pipe__carryover__strength': 0.06186907468263847, 'adstock__tvabierta_pipe__carryover__length': 2, 'adstock__tvabierta_pipe__saturation__a': 0.15082740425637153, 'adstock__tvpaga_pipe__carryover__strength': 0.6819705166652181, 'adstock__tvpaga_pipe__carryover__length': 0, 'adstock__tvpaga_pipe__saturation__a': 0.33133436784796944}. Best is trial 4 with value: 0.7028238873714765.\u001b[0m\n",
      "C:\\Users\\CCE\\miniconda3\\lib\\site-packages\\sklearn\\base.py:82: ExperimentalWarning: OptunaSearchCV is experimental (supported from v0.17.0). The interface can change in the future.\n",
      "  new_object = klass(**new_object_params)\n",
      "\u001b[32m[I 2022-04-04 17:05:20,253]\u001b[0m A new study created in memory with name: no-name-67f18e37-4d26-46a1-936c-bb993d00ddf2\u001b[0m\n",
      "\u001b[32m[I 2022-04-04 17:05:20,844]\u001b[0m Trial 0 finished with value: 0.08959317933847355 and parameters: {'adstock__correo_pipe__carryover__strength': 0.09242664244599941, 'adstock__correo_pipe__carryover__length': 5, 'adstock__correo_pipe__saturation__a': 0.6275767572742299, 'adstock__facebook_pipe__carryover__strength': 0.23126986862002263, 'adstock__facebook_pipe__carryover__length': 1, 'adstock__facebook_pipe__saturation__a': 0.8332499941074196, 'adstock__google_pipe__carryover__strength': 0.7647446160554672, 'adstock__google_pipe__carryover__length': 5, 'adstock__google_pipe__saturation__a': 0.4841537079117917, 'adstock__impresiones_pipe__carryover__strength': 0.8069344716376637, 'adstock__impresiones_pipe__carryover__length': 6, 'adstock__impresiones_pipe__saturation__a': 0.06942069732340705, 'adstock__radio_pipe__carryover__strength': 0.21567891413066032, 'adstock__radio_pipe__carryover__length': 0, 'adstock__radio_pipe__saturation__a': 0.7626489304194581, 'adstock__tvabierta_pipe__carryover__strength': 0.863850814690767, 'adstock__tvabierta_pipe__carryover__length': 5, 'adstock__tvabierta_pipe__saturation__a': 0.32518516825753907, 'adstock__tvpaga_pipe__carryover__strength': 0.44453868187840895, 'adstock__tvpaga_pipe__carryover__length': 3, 'adstock__tvpaga_pipe__saturation__a': 1.1112968994312091}. Best is trial 0 with value: 0.08959317933847355.\u001b[0m\n",
      "\u001b[32m[I 2022-04-04 17:05:21,181]\u001b[0m Trial 1 finished with value: 0.3536530795694722 and parameters: {'adstock__correo_pipe__carryover__strength': 0.7647926580108311, 'adstock__correo_pipe__carryover__length': 2, 'adstock__correo_pipe__saturation__a': 1.2837544288662186, 'adstock__facebook_pipe__carryover__strength': 0.6438570943859201, 'adstock__facebook_pipe__carryover__length': 2, 'adstock__facebook_pipe__saturation__a': 1.034262366348077, 'adstock__google_pipe__carryover__strength': 0.7221369704283104, 'adstock__google_pipe__carryover__length': 4, 'adstock__google_pipe__saturation__a': 0.6882602119182564, 'adstock__impresiones_pipe__carryover__strength': 0.1703168406424409, 'adstock__impresiones_pipe__carryover__length': 5, 'adstock__impresiones_pipe__saturation__a': 0.2862649099799366, 'adstock__radio_pipe__carryover__strength': 0.1841642936256983, 'adstock__radio_pipe__carryover__length': 3, 'adstock__radio_pipe__saturation__a': 1.2582049314398236, 'adstock__tvabierta_pipe__carryover__strength': 0.535676969630048, 'adstock__tvabierta_pipe__carryover__length': 4, 'adstock__tvabierta_pipe__saturation__a': 1.1425963927887821, 'adstock__tvpaga_pipe__carryover__strength': 0.8074201583678433, 'adstock__tvpaga_pipe__carryover__length': 6, 'adstock__tvpaga_pipe__saturation__a': 0.4340381433446041}. Best is trial 1 with value: 0.3536530795694722.\u001b[0m\n",
      "\u001b[32m[I 2022-04-04 17:05:21,533]\u001b[0m Trial 2 finished with value: 0.14667174558273882 and parameters: {'adstock__correo_pipe__carryover__strength': 0.2687779556995964, 'adstock__correo_pipe__carryover__length': 5, 'adstock__correo_pipe__saturation__a': 0.558940979523143, 'adstock__facebook_pipe__carryover__strength': 0.17248241412748921, 'adstock__facebook_pipe__carryover__length': 6, 'adstock__facebook_pipe__saturation__a': 0.7159805141895468, 'adstock__google_pipe__carryover__strength': 0.40258064075418676, 'adstock__google_pipe__carryover__length': 4, 'adstock__google_pipe__saturation__a': 0.3962842768930883, 'adstock__impresiones_pipe__carryover__strength': 0.46113658790075895, 'adstock__impresiones_pipe__carryover__length': 6, 'adstock__impresiones_pipe__saturation__a': 0.5668989237680526, 'adstock__radio_pipe__carryover__strength': 0.9694825133296966, 'adstock__radio_pipe__carryover__length': 1, 'adstock__radio_pipe__saturation__a': 0.06948968899668184, 'adstock__tvabierta_pipe__carryover__strength': 0.5024314083369744, 'adstock__tvabierta_pipe__carryover__length': 5, 'adstock__tvabierta_pipe__saturation__a': 0.1905696629638267, 'adstock__tvpaga_pipe__carryover__strength': 0.40020492168794297, 'adstock__tvpaga_pipe__carryover__length': 6, 'adstock__tvpaga_pipe__saturation__a': 0.21204441289077436}. Best is trial 1 with value: 0.3536530795694722.\u001b[0m\n",
      "\u001b[32m[I 2022-04-04 17:05:21,889]\u001b[0m Trial 3 finished with value: 0.6898964824621832 and parameters: {'adstock__correo_pipe__carryover__strength': 0.5953372470432962, 'adstock__correo_pipe__carryover__length': 0, 'adstock__correo_pipe__saturation__a': 1.0548526481882554, 'adstock__facebook_pipe__carryover__strength': 0.9423209734462513, 'adstock__facebook_pipe__carryover__length': 4, 'adstock__facebook_pipe__saturation__a': 0.43952330341796864, 'adstock__google_pipe__carryover__strength': 0.13860030114572497, 'adstock__google_pipe__carryover__length': 6, 'adstock__google_pipe__saturation__a': 0.15136601820055318, 'adstock__impresiones_pipe__carryover__strength': 0.4332551558742761, 'adstock__impresiones_pipe__carryover__length': 6, 'adstock__impresiones_pipe__saturation__a': 0.48984795511118695, 'adstock__radio_pipe__carryover__strength': 0.055420218054387016, 'adstock__radio_pipe__carryover__length': 1, 'adstock__radio_pipe__saturation__a': 0.12119420807892789, 'adstock__tvabierta_pipe__carryover__strength': 0.5766428589497673, 'adstock__tvabierta_pipe__carryover__length': 3, 'adstock__tvabierta_pipe__saturation__a': 0.5821836263634992, 'adstock__tvpaga_pipe__carryover__strength': 0.6079212220475095, 'adstock__tvpaga_pipe__carryover__length': 0, 'adstock__tvpaga_pipe__saturation__a': 0.19993669713157103}. Best is trial 3 with value: 0.6898964824621832.\u001b[0m\n",
      "\u001b[32m[I 2022-04-04 17:05:22,233]\u001b[0m Trial 4 finished with value: 0.7099958330546351 and parameters: {'adstock__correo_pipe__carryover__strength': 0.07639040045823209, 'adstock__correo_pipe__carryover__length': 3, 'adstock__correo_pipe__saturation__a': 0.4224094050472629, 'adstock__facebook_pipe__carryover__strength': 0.46426977591480534, 'adstock__facebook_pipe__carryover__length': 5, 'adstock__facebook_pipe__saturation__a': 1.084799417174083, 'adstock__google_pipe__carryover__strength': 0.35361945410371953, 'adstock__google_pipe__carryover__length': 3, 'adstock__google_pipe__saturation__a': 1.1724525925384164, 'adstock__impresiones_pipe__carryover__strength': 0.16801354644602895, 'adstock__impresiones_pipe__carryover__length': 4, 'adstock__impresiones_pipe__saturation__a': 1.3422153411317188, 'adstock__radio_pipe__carryover__strength': 0.16162966057840944, 'adstock__radio_pipe__carryover__length': 3, 'adstock__radio_pipe__saturation__a': 1.6586979230989474, 'adstock__tvabierta_pipe__carryover__strength': 0.6585643238935249, 'adstock__tvabierta_pipe__carryover__length': 0, 'adstock__tvabierta_pipe__saturation__a': 1.48393616465743, 'adstock__tvpaga_pipe__carryover__strength': 0.4953249896471903, 'adstock__tvpaga_pipe__carryover__length': 3, 'adstock__tvpaga_pipe__saturation__a': 1.760883255453388}. Best is trial 4 with value: 0.7099958330546351.\u001b[0m\n",
      "\u001b[32m[I 2022-04-04 17:05:22,654]\u001b[0m Trial 5 finished with value: 0.07145145250331106 and parameters: {'adstock__correo_pipe__carryover__strength': 0.5343570718315968, 'adstock__correo_pipe__carryover__length': 4, 'adstock__correo_pipe__saturation__a': 1.3369128868303646, 'adstock__facebook_pipe__carryover__strength': 0.9077068247993454, 'adstock__facebook_pipe__carryover__length': 6, 'adstock__facebook_pipe__saturation__a': 0.45861981348612657, 'adstock__google_pipe__carryover__strength': 0.9861388283023121, 'adstock__google_pipe__carryover__length': 2, 'adstock__google_pipe__saturation__a': 0.17620786682561085, 'adstock__impresiones_pipe__carryover__strength': 0.1471677914978463, 'adstock__impresiones_pipe__carryover__length': 4, 'adstock__impresiones_pipe__saturation__a': 1.482500317993504, 'adstock__radio_pipe__carryover__strength': 0.6163966662564166, 'adstock__radio_pipe__carryover__length': 5, 'adstock__radio_pipe__saturation__a': 1.8288185757033701, 'adstock__tvabierta_pipe__carryover__strength': 0.3062310555180332, 'adstock__tvabierta_pipe__carryover__length': 5, 'adstock__tvabierta_pipe__saturation__a': 1.4872974667794798, 'adstock__tvpaga_pipe__carryover__strength': 0.9645103190908838, 'adstock__tvpaga_pipe__carryover__length': 6, 'adstock__tvpaga_pipe__saturation__a': 0.9399989403516908}. Best is trial 4 with value: 0.7099958330546351.\u001b[0m\n",
      "\u001b[32m[I 2022-04-04 17:05:23,367]\u001b[0m Trial 6 finished with value: 0.548751868593995 and parameters: {'adstock__correo_pipe__carryover__strength': 0.7000694423835581, 'adstock__correo_pipe__carryover__length': 5, 'adstock__correo_pipe__saturation__a': 1.0197051928469067, 'adstock__facebook_pipe__carryover__strength': 0.8316026219916149, 'adstock__facebook_pipe__carryover__length': 6, 'adstock__facebook_pipe__saturation__a': 0.45694153260538206, 'adstock__google_pipe__carryover__strength': 0.929430913527637, 'adstock__google_pipe__carryover__length': 0, 'adstock__google_pipe__saturation__a': 0.757613453336009, 'adstock__impresiones_pipe__carryover__strength': 0.7470819390514816, 'adstock__impresiones_pipe__carryover__length': 5, 'adstock__impresiones_pipe__saturation__a': 1.5121024976486057, 'adstock__radio_pipe__carryover__strength': 0.5415704356158654, 'adstock__radio_pipe__carryover__length': 4, 'adstock__radio_pipe__saturation__a': 1.504064288114328, 'adstock__tvabierta_pipe__carryover__strength': 0.5007228251434666, 'adstock__tvabierta_pipe__carryover__length': 5, 'adstock__tvabierta_pipe__saturation__a': 1.3724283335488034, 'adstock__tvpaga_pipe__carryover__strength': 0.8310501150296598, 'adstock__tvpaga_pipe__carryover__length': 2, 'adstock__tvpaga_pipe__saturation__a': 0.5942860575008595}. Best is trial 4 with value: 0.7099958330546351.\u001b[0m\n",
      "\u001b[32m[I 2022-04-04 17:05:23,874]\u001b[0m Trial 7 finished with value: 0.5138049208476463 and parameters: {'adstock__correo_pipe__carryover__strength': 0.9332934716148529, 'adstock__correo_pipe__carryover__length': 5, 'adstock__correo_pipe__saturation__a': 0.8046223696374464, 'adstock__facebook_pipe__carryover__strength': 0.8036714240466163, 'adstock__facebook_pipe__carryover__length': 1, 'adstock__facebook_pipe__saturation__a': 1.3652352902932567, 'adstock__google_pipe__carryover__strength': 0.17264506205012686, 'adstock__google_pipe__carryover__length': 2, 'adstock__google_pipe__saturation__a': 0.5981580889029463, 'adstock__impresiones_pipe__carryover__strength': 0.5835517069438066, 'adstock__impresiones_pipe__carryover__length': 2, 'adstock__impresiones_pipe__saturation__a': 0.22339191571120254, 'adstock__radio_pipe__carryover__strength': 0.5137673635764917, 'adstock__radio_pipe__carryover__length': 6, 'adstock__radio_pipe__saturation__a': 0.04690688020247813, 'adstock__tvabierta_pipe__carryover__strength': 0.4243555564213236, 'adstock__tvabierta_pipe__carryover__length': 6, 'adstock__tvabierta_pipe__saturation__a': 0.10457458903094041, 'adstock__tvpaga_pipe__carryover__strength': 0.7393801819264247, 'adstock__tvpaga_pipe__carryover__length': 1, 'adstock__tvpaga_pipe__saturation__a': 1.690913035722517}. Best is trial 4 with value: 0.7099958330546351.\u001b[0m\n",
      "\u001b[32m[I 2022-04-04 17:05:24,380]\u001b[0m Trial 8 finished with value: 0.6762234618563217 and parameters: {'adstock__correo_pipe__carryover__strength': 0.34459175796414976, 'adstock__correo_pipe__carryover__length': 1, 'adstock__correo_pipe__saturation__a': 0.42772423990169295, 'adstock__facebook_pipe__carryover__strength': 0.15426865945435853, 'adstock__facebook_pipe__carryover__length': 1, 'adstock__facebook_pipe__saturation__a': 1.0916136693116694, 'adstock__google_pipe__carryover__strength': 0.23044310139192303, 'adstock__google_pipe__carryover__length': 2, 'adstock__google_pipe__saturation__a': 0.2560353263671553, 'adstock__impresiones_pipe__carryover__strength': 0.6583023362730076, 'adstock__impresiones_pipe__carryover__length': 3, 'adstock__impresiones_pipe__saturation__a': 0.7370780113240267, 'adstock__radio_pipe__carryover__strength': 0.9319205778023004, 'adstock__radio_pipe__carryover__length': 5, 'adstock__radio_pipe__saturation__a': 1.4523247688739258, 'adstock__tvabierta_pipe__carryover__strength': 0.8873445806352218, 'adstock__tvabierta_pipe__carryover__length': 0, 'adstock__tvabierta_pipe__saturation__a': 0.0899231730241894, 'adstock__tvpaga_pipe__carryover__strength': 0.08508717986393455, 'adstock__tvpaga_pipe__carryover__length': 3, 'adstock__tvpaga_pipe__saturation__a': 0.302357531272482}. Best is trial 4 with value: 0.7099958330546351.\u001b[0m\n",
      "\u001b[32m[I 2022-04-04 17:05:24,813]\u001b[0m Trial 9 finished with value: 0.5825279622553834 and parameters: {'adstock__correo_pipe__carryover__strength': 0.6436641223583722, 'adstock__correo_pipe__carryover__length': 0, 'adstock__correo_pipe__saturation__a': 1.709490706453191, 'adstock__facebook_pipe__carryover__strength': 0.7161705024846751, 'adstock__facebook_pipe__carryover__length': 2, 'adstock__facebook_pipe__saturation__a': 0.9067022643182729, 'adstock__google_pipe__carryover__strength': 0.3226441904372087, 'adstock__google_pipe__carryover__length': 3, 'adstock__google_pipe__saturation__a': 0.400913250813425, 'adstock__impresiones_pipe__carryover__strength': 0.7030999931927824, 'adstock__impresiones_pipe__carryover__length': 4, 'adstock__impresiones_pipe__saturation__a': 0.009902652019880609, 'adstock__radio_pipe__carryover__strength': 0.00863922658690508, 'adstock__radio_pipe__carryover__length': 0, 'adstock__radio_pipe__saturation__a': 0.02914578275548929, 'adstock__tvabierta_pipe__carryover__strength': 0.06186907468263847, 'adstock__tvabierta_pipe__carryover__length': 2, 'adstock__tvabierta_pipe__saturation__a': 0.15082740425637153, 'adstock__tvpaga_pipe__carryover__strength': 0.6819705166652181, 'adstock__tvpaga_pipe__carryover__length': 0, 'adstock__tvpaga_pipe__saturation__a': 0.33133436784796944}. Best is trial 4 with value: 0.7099958330546351.\u001b[0m\n",
      "C:\\Users\\CCE\\miniconda3\\lib\\site-packages\\sklearn\\base.py:82: ExperimentalWarning: OptunaSearchCV is experimental (supported from v0.17.0). The interface can change in the future.\n",
      "  new_object = klass(**new_object_params)\n",
      "\u001b[32m[I 2022-04-04 17:05:24,909]\u001b[0m A new study created in memory with name: no-name-22ac9da6-7037-4565-b957-13749adfc814\u001b[0m\n",
      "\u001b[32m[I 2022-04-04 17:05:25,293]\u001b[0m Trial 0 finished with value: -0.04852652161421931 and parameters: {'adstock__correo_pipe__carryover__strength': 0.09242664244599941, 'adstock__correo_pipe__carryover__length': 5, 'adstock__correo_pipe__saturation__a': 0.6275767572742299, 'adstock__facebook_pipe__carryover__strength': 0.23126986862002263, 'adstock__facebook_pipe__carryover__length': 1, 'adstock__facebook_pipe__saturation__a': 0.8332499941074196, 'adstock__google_pipe__carryover__strength': 0.7647446160554672, 'adstock__google_pipe__carryover__length': 5, 'adstock__google_pipe__saturation__a': 0.4841537079117917, 'adstock__impresiones_pipe__carryover__strength': 0.8069344716376637, 'adstock__impresiones_pipe__carryover__length': 6, 'adstock__impresiones_pipe__saturation__a': 0.06942069732340705, 'adstock__radio_pipe__carryover__strength': 0.21567891413066032, 'adstock__radio_pipe__carryover__length': 0, 'adstock__radio_pipe__saturation__a': 0.7626489304194581, 'adstock__tvabierta_pipe__carryover__strength': 0.863850814690767, 'adstock__tvabierta_pipe__carryover__length': 5, 'adstock__tvabierta_pipe__saturation__a': 0.32518516825753907, 'adstock__tvpaga_pipe__carryover__strength': 0.44453868187840895, 'adstock__tvpaga_pipe__carryover__length': 3, 'adstock__tvpaga_pipe__saturation__a': 1.1112968994312091}. Best is trial 0 with value: -0.04852652161421931.\u001b[0m\n",
      "\u001b[32m[I 2022-04-04 17:05:25,633]\u001b[0m Trial 1 finished with value: 0.5480494605769877 and parameters: {'adstock__correo_pipe__carryover__strength': 0.7647926580108311, 'adstock__correo_pipe__carryover__length': 2, 'adstock__correo_pipe__saturation__a': 1.2837544288662186, 'adstock__facebook_pipe__carryover__strength': 0.6438570943859201, 'adstock__facebook_pipe__carryover__length': 2, 'adstock__facebook_pipe__saturation__a': 1.034262366348077, 'adstock__google_pipe__carryover__strength': 0.7221369704283104, 'adstock__google_pipe__carryover__length': 4, 'adstock__google_pipe__saturation__a': 0.6882602119182564, 'adstock__impresiones_pipe__carryover__strength': 0.1703168406424409, 'adstock__impresiones_pipe__carryover__length': 5, 'adstock__impresiones_pipe__saturation__a': 0.2862649099799366, 'adstock__radio_pipe__carryover__strength': 0.1841642936256983, 'adstock__radio_pipe__carryover__length': 3, 'adstock__radio_pipe__saturation__a': 1.2582049314398236, 'adstock__tvabierta_pipe__carryover__strength': 0.535676969630048, 'adstock__tvabierta_pipe__carryover__length': 4, 'adstock__tvabierta_pipe__saturation__a': 1.1425963927887821, 'adstock__tvpaga_pipe__carryover__strength': 0.8074201583678433, 'adstock__tvpaga_pipe__carryover__length': 6, 'adstock__tvpaga_pipe__saturation__a': 0.4340381433446041}. Best is trial 1 with value: 0.5480494605769877.\u001b[0m\n",
      "\u001b[32m[I 2022-04-04 17:05:25,973]\u001b[0m Trial 2 finished with value: 0.4714392455860238 and parameters: {'adstock__correo_pipe__carryover__strength': 0.2687779556995964, 'adstock__correo_pipe__carryover__length': 5, 'adstock__correo_pipe__saturation__a': 0.558940979523143, 'adstock__facebook_pipe__carryover__strength': 0.17248241412748921, 'adstock__facebook_pipe__carryover__length': 6, 'adstock__facebook_pipe__saturation__a': 0.7159805141895468, 'adstock__google_pipe__carryover__strength': 0.40258064075418676, 'adstock__google_pipe__carryover__length': 4, 'adstock__google_pipe__saturation__a': 0.3962842768930883, 'adstock__impresiones_pipe__carryover__strength': 0.46113658790075895, 'adstock__impresiones_pipe__carryover__length': 6, 'adstock__impresiones_pipe__saturation__a': 0.5668989237680526, 'adstock__radio_pipe__carryover__strength': 0.9694825133296966, 'adstock__radio_pipe__carryover__length': 1, 'adstock__radio_pipe__saturation__a': 0.06948968899668184, 'adstock__tvabierta_pipe__carryover__strength': 0.5024314083369744, 'adstock__tvabierta_pipe__carryover__length': 5, 'adstock__tvabierta_pipe__saturation__a': 0.1905696629638267, 'adstock__tvpaga_pipe__carryover__strength': 0.40020492168794297, 'adstock__tvpaga_pipe__carryover__length': 6, 'adstock__tvpaga_pipe__saturation__a': 0.21204441289077436}. Best is trial 1 with value: 0.5480494605769877.\u001b[0m\n",
      "\u001b[32m[I 2022-04-04 17:05:26,394]\u001b[0m Trial 3 finished with value: 0.7861812642424172 and parameters: {'adstock__correo_pipe__carryover__strength': 0.5953372470432962, 'adstock__correo_pipe__carryover__length': 0, 'adstock__correo_pipe__saturation__a': 1.0548526481882554, 'adstock__facebook_pipe__carryover__strength': 0.9423209734462513, 'adstock__facebook_pipe__carryover__length': 4, 'adstock__facebook_pipe__saturation__a': 0.43952330341796864, 'adstock__google_pipe__carryover__strength': 0.13860030114572497, 'adstock__google_pipe__carryover__length': 6, 'adstock__google_pipe__saturation__a': 0.15136601820055318, 'adstock__impresiones_pipe__carryover__strength': 0.4332551558742761, 'adstock__impresiones_pipe__carryover__length': 6, 'adstock__impresiones_pipe__saturation__a': 0.48984795511118695, 'adstock__radio_pipe__carryover__strength': 0.055420218054387016, 'adstock__radio_pipe__carryover__length': 1, 'adstock__radio_pipe__saturation__a': 0.12119420807892789, 'adstock__tvabierta_pipe__carryover__strength': 0.5766428589497673, 'adstock__tvabierta_pipe__carryover__length': 3, 'adstock__tvabierta_pipe__saturation__a': 0.5821836263634992, 'adstock__tvpaga_pipe__carryover__strength': 0.6079212220475095, 'adstock__tvpaga_pipe__carryover__length': 0, 'adstock__tvpaga_pipe__saturation__a': 0.19993669713157103}. Best is trial 3 with value: 0.7861812642424172.\u001b[0m\n",
      "\u001b[32m[I 2022-04-04 17:05:27,004]\u001b[0m Trial 4 finished with value: 0.7953914110501439 and parameters: {'adstock__correo_pipe__carryover__strength': 0.07639040045823209, 'adstock__correo_pipe__carryover__length': 3, 'adstock__correo_pipe__saturation__a': 0.4224094050472629, 'adstock__facebook_pipe__carryover__strength': 0.46426977591480534, 'adstock__facebook_pipe__carryover__length': 5, 'adstock__facebook_pipe__saturation__a': 1.084799417174083, 'adstock__google_pipe__carryover__strength': 0.35361945410371953, 'adstock__google_pipe__carryover__length': 3, 'adstock__google_pipe__saturation__a': 1.1724525925384164, 'adstock__impresiones_pipe__carryover__strength': 0.16801354644602895, 'adstock__impresiones_pipe__carryover__length': 4, 'adstock__impresiones_pipe__saturation__a': 1.3422153411317188, 'adstock__radio_pipe__carryover__strength': 0.16162966057840944, 'adstock__radio_pipe__carryover__length': 3, 'adstock__radio_pipe__saturation__a': 1.6586979230989474, 'adstock__tvabierta_pipe__carryover__strength': 0.6585643238935249, 'adstock__tvabierta_pipe__carryover__length': 0, 'adstock__tvabierta_pipe__saturation__a': 1.48393616465743, 'adstock__tvpaga_pipe__carryover__strength': 0.4953249896471903, 'adstock__tvpaga_pipe__carryover__length': 3, 'adstock__tvpaga_pipe__saturation__a': 1.760883255453388}. Best is trial 4 with value: 0.7953914110501439.\u001b[0m\n",
      "\u001b[32m[I 2022-04-04 17:05:27,369]\u001b[0m Trial 5 finished with value: 0.3644466248270148 and parameters: {'adstock__correo_pipe__carryover__strength': 0.5343570718315968, 'adstock__correo_pipe__carryover__length': 4, 'adstock__correo_pipe__saturation__a': 1.3369128868303646, 'adstock__facebook_pipe__carryover__strength': 0.9077068247993454, 'adstock__facebook_pipe__carryover__length': 6, 'adstock__facebook_pipe__saturation__a': 0.45861981348612657, 'adstock__google_pipe__carryover__strength': 0.9861388283023121, 'adstock__google_pipe__carryover__length': 2, 'adstock__google_pipe__saturation__a': 0.17620786682561085, 'adstock__impresiones_pipe__carryover__strength': 0.1471677914978463, 'adstock__impresiones_pipe__carryover__length': 4, 'adstock__impresiones_pipe__saturation__a': 1.482500317993504, 'adstock__radio_pipe__carryover__strength': 0.6163966662564166, 'adstock__radio_pipe__carryover__length': 5, 'adstock__radio_pipe__saturation__a': 1.8288185757033701, 'adstock__tvabierta_pipe__carryover__strength': 0.3062310555180332, 'adstock__tvabierta_pipe__carryover__length': 5, 'adstock__tvabierta_pipe__saturation__a': 1.4872974667794798, 'adstock__tvpaga_pipe__carryover__strength': 0.9645103190908838, 'adstock__tvpaga_pipe__carryover__length': 6, 'adstock__tvpaga_pipe__saturation__a': 0.9399989403516908}. Best is trial 4 with value: 0.7953914110501439.\u001b[0m\n",
      "\u001b[32m[I 2022-04-04 17:05:27,712]\u001b[0m Trial 6 finished with value: 0.6966750154542298 and parameters: {'adstock__correo_pipe__carryover__strength': 0.7000694423835581, 'adstock__correo_pipe__carryover__length': 5, 'adstock__correo_pipe__saturation__a': 1.0197051928469067, 'adstock__facebook_pipe__carryover__strength': 0.8316026219916149, 'adstock__facebook_pipe__carryover__length': 6, 'adstock__facebook_pipe__saturation__a': 0.45694153260538206, 'adstock__google_pipe__carryover__strength': 0.929430913527637, 'adstock__google_pipe__carryover__length': 0, 'adstock__google_pipe__saturation__a': 0.757613453336009, 'adstock__impresiones_pipe__carryover__strength': 0.7470819390514816, 'adstock__impresiones_pipe__carryover__length': 5, 'adstock__impresiones_pipe__saturation__a': 1.5121024976486057, 'adstock__radio_pipe__carryover__strength': 0.5415704356158654, 'adstock__radio_pipe__carryover__length': 4, 'adstock__radio_pipe__saturation__a': 1.504064288114328, 'adstock__tvabierta_pipe__carryover__strength': 0.5007228251434666, 'adstock__tvabierta_pipe__carryover__length': 5, 'adstock__tvabierta_pipe__saturation__a': 1.3724283335488034, 'adstock__tvpaga_pipe__carryover__strength': 0.8310501150296598, 'adstock__tvpaga_pipe__carryover__length': 2, 'adstock__tvpaga_pipe__saturation__a': 0.5942860575008595}. Best is trial 4 with value: 0.7953914110501439.\u001b[0m\n",
      "\u001b[32m[I 2022-04-04 17:05:28,143]\u001b[0m Trial 7 finished with value: 0.5115658428625377 and parameters: {'adstock__correo_pipe__carryover__strength': 0.9332934716148529, 'adstock__correo_pipe__carryover__length': 5, 'adstock__correo_pipe__saturation__a': 0.8046223696374464, 'adstock__facebook_pipe__carryover__strength': 0.8036714240466163, 'adstock__facebook_pipe__carryover__length': 1, 'adstock__facebook_pipe__saturation__a': 1.3652352902932567, 'adstock__google_pipe__carryover__strength': 0.17264506205012686, 'adstock__google_pipe__carryover__length': 2, 'adstock__google_pipe__saturation__a': 0.5981580889029463, 'adstock__impresiones_pipe__carryover__strength': 0.5835517069438066, 'adstock__impresiones_pipe__carryover__length': 2, 'adstock__impresiones_pipe__saturation__a': 0.22339191571120254, 'adstock__radio_pipe__carryover__strength': 0.5137673635764917, 'adstock__radio_pipe__carryover__length': 6, 'adstock__radio_pipe__saturation__a': 0.04690688020247813, 'adstock__tvabierta_pipe__carryover__strength': 0.4243555564213236, 'adstock__tvabierta_pipe__carryover__length': 6, 'adstock__tvabierta_pipe__saturation__a': 0.10457458903094041, 'adstock__tvpaga_pipe__carryover__strength': 0.7393801819264247, 'adstock__tvpaga_pipe__carryover__length': 1, 'adstock__tvpaga_pipe__saturation__a': 1.690913035722517}. Best is trial 4 with value: 0.7953914110501439.\u001b[0m\n",
      "\u001b[32m[I 2022-04-04 17:05:28,544]\u001b[0m Trial 8 finished with value: 0.7493516673025422 and parameters: {'adstock__correo_pipe__carryover__strength': 0.34459175796414976, 'adstock__correo_pipe__carryover__length': 1, 'adstock__correo_pipe__saturation__a': 0.42772423990169295, 'adstock__facebook_pipe__carryover__strength': 0.15426865945435853, 'adstock__facebook_pipe__carryover__length': 1, 'adstock__facebook_pipe__saturation__a': 1.0916136693116694, 'adstock__google_pipe__carryover__strength': 0.23044310139192303, 'adstock__google_pipe__carryover__length': 2, 'adstock__google_pipe__saturation__a': 0.2560353263671553, 'adstock__impresiones_pipe__carryover__strength': 0.6583023362730076, 'adstock__impresiones_pipe__carryover__length': 3, 'adstock__impresiones_pipe__saturation__a': 0.7370780113240267, 'adstock__radio_pipe__carryover__strength': 0.9319205778023004, 'adstock__radio_pipe__carryover__length': 5, 'adstock__radio_pipe__saturation__a': 1.4523247688739258, 'adstock__tvabierta_pipe__carryover__strength': 0.8873445806352218, 'adstock__tvabierta_pipe__carryover__length': 0, 'adstock__tvabierta_pipe__saturation__a': 0.0899231730241894, 'adstock__tvpaga_pipe__carryover__strength': 0.08508717986393455, 'adstock__tvpaga_pipe__carryover__length': 3, 'adstock__tvpaga_pipe__saturation__a': 0.302357531272482}. Best is trial 4 with value: 0.7953914110501439.\u001b[0m\n",
      "\u001b[32m[I 2022-04-04 17:05:29,344]\u001b[0m Trial 9 finished with value: 0.7797472139663331 and parameters: {'adstock__correo_pipe__carryover__strength': 0.6436641223583722, 'adstock__correo_pipe__carryover__length': 0, 'adstock__correo_pipe__saturation__a': 1.709490706453191, 'adstock__facebook_pipe__carryover__strength': 0.7161705024846751, 'adstock__facebook_pipe__carryover__length': 2, 'adstock__facebook_pipe__saturation__a': 0.9067022643182729, 'adstock__google_pipe__carryover__strength': 0.3226441904372087, 'adstock__google_pipe__carryover__length': 3, 'adstock__google_pipe__saturation__a': 0.400913250813425, 'adstock__impresiones_pipe__carryover__strength': 0.7030999931927824, 'adstock__impresiones_pipe__carryover__length': 4, 'adstock__impresiones_pipe__saturation__a': 0.009902652019880609, 'adstock__radio_pipe__carryover__strength': 0.00863922658690508, 'adstock__radio_pipe__carryover__length': 0, 'adstock__radio_pipe__saturation__a': 0.02914578275548929, 'adstock__tvabierta_pipe__carryover__strength': 0.06186907468263847, 'adstock__tvabierta_pipe__carryover__length': 2, 'adstock__tvabierta_pipe__saturation__a': 0.15082740425637153, 'adstock__tvpaga_pipe__carryover__strength': 0.6819705166652181, 'adstock__tvpaga_pipe__carryover__length': 0, 'adstock__tvpaga_pipe__saturation__a': 0.33133436784796944}. Best is trial 4 with value: 0.7953914110501439.\u001b[0m\n"
     ]
    },
    {
     "name": "stdout",
     "output_type": "stream",
     "text": [
      "[0.77563738 0.81110549 0.68457049 0.86780318 0.8617127 ]\n"
     ]
    }
   ],
   "source": [
    "print(cross_val_score(tuned_model, x, y, cv = TimeSeriesSplit ()))"
   ]
  },
  {
   "cell_type": "code",
   "execution_count": 69,
   "id": "f6599105",
   "metadata": {},
   "outputs": [
    {
     "name": "stdout",
     "output_type": "stream",
     "text": [
      "{'adstock__correo_pipe__carryover__strength': 0.07639040045823209, 'adstock__correo_pipe__carryover__length': 3, 'adstock__correo_pipe__saturation__a': 0.4224094050472629, 'adstock__facebook_pipe__carryover__strength': 0.46426977591480534, 'adstock__facebook_pipe__carryover__length': 5, 'adstock__facebook_pipe__saturation__a': 1.084799417174083, 'adstock__google_pipe__carryover__strength': 0.35361945410371953, 'adstock__google_pipe__carryover__length': 3, 'adstock__google_pipe__saturation__a': 1.1724525925384164, 'adstock__impresiones_pipe__carryover__strength': 0.16801354644602895, 'adstock__impresiones_pipe__carryover__length': 4, 'adstock__impresiones_pipe__saturation__a': 1.3422153411317188, 'adstock__radio_pipe__carryover__strength': 0.16162966057840944, 'adstock__radio_pipe__carryover__length': 3, 'adstock__radio_pipe__saturation__a': 1.6586979230989474, 'adstock__tvabierta_pipe__carryover__strength': 0.6585643238935249, 'adstock__tvabierta_pipe__carryover__length': 0, 'adstock__tvabierta_pipe__saturation__a': 1.48393616465743, 'adstock__tvpaga_pipe__carryover__strength': 0.4953249896471903, 'adstock__tvpaga_pipe__carryover__length': 3, 'adstock__tvpaga_pipe__saturation__a': 1.760883255453388}\n"
     ]
    }
   ],
   "source": [
    "print(tuned_model.best_params_)"
   ]
  },
  {
   "cell_type": "markdown",
   "id": "0f9fb2b1",
   "metadata": {},
   "source": [
    "### 🔢 Coeficientes e intercepción de la regresión lineal"
   ]
  },
  {
   "cell_type": "code",
   "execution_count": 70,
   "id": "a38fd91e",
   "metadata": {},
   "outputs": [
    {
     "name": "stdout",
     "output_type": "stream",
     "text": [
      "[51010.56120644  3708.41213053 25190.65302353 13313.26282329\n",
      "  7838.80949342 34195.07748354 25010.88958897]\n"
     ]
    }
   ],
   "source": [
    "print (tuned_model.best_estimator_.named_steps['estimator']. coef_)"
   ]
  },
  {
   "cell_type": "code",
   "execution_count": 71,
   "id": "2f25fd65",
   "metadata": {},
   "outputs": [
    {
     "name": "stdout",
     "output_type": "stream",
     "text": [
      "43513.20973050304\n"
     ]
    }
   ],
   "source": [
    "print (tuned_model.best_estimator_.named_steps ['estimator'].intercept_)"
   ]
  },
  {
   "cell_type": "markdown",
   "id": "04a243b1",
   "metadata": {},
   "source": [
    "## 🛠️ Usando el modelo"
   ]
  },
  {
   "cell_type": "markdown",
   "id": "3a3af3ce",
   "metadata": {},
   "source": [
    "- Se concatenan los valores de saturación conarrastre de cada categoría al dataframe inicial:"
   ]
  },
  {
   "cell_type": "code",
   "execution_count": 72,
   "id": "c868811e",
   "metadata": {},
   "outputs": [],
   "source": [
    "data[['correo_sat','facebook_sat','google_sat','impresiones_sat','radio_sat','tv_abierta_sat','tv_paga_sat']] = tuned_model.best_estimator_.named_steps['adstock'].transform(x)"
   ]
  },
  {
   "cell_type": "code",
   "execution_count": 73,
   "id": "ee305ad5",
   "metadata": {},
   "outputs": [
    {
     "data": {
      "text/html": [
       "<div>\n",
       "<style scoped>\n",
       "    .dataframe tbody tr th:only-of-type {\n",
       "        vertical-align: middle;\n",
       "    }\n",
       "\n",
       "    .dataframe tbody tr th {\n",
       "        vertical-align: top;\n",
       "    }\n",
       "\n",
       "    .dataframe thead th {\n",
       "        text-align: right;\n",
       "    }\n",
       "</style>\n",
       "<table border=\"1\" class=\"dataframe\">\n",
       "  <thead>\n",
       "    <tr style=\"text-align: right;\">\n",
       "      <th></th>\n",
       "      <th>fecha</th>\n",
       "      <th>tv_abierta</th>\n",
       "      <th>tv_paga</th>\n",
       "      <th>radio</th>\n",
       "      <th>impresiones</th>\n",
       "      <th>facebook</th>\n",
       "      <th>google</th>\n",
       "      <th>correo</th>\n",
       "      <th>ventas</th>\n",
       "      <th>año</th>\n",
       "      <th>mes</th>\n",
       "      <th>correo_sat</th>\n",
       "      <th>facebook_sat</th>\n",
       "      <th>google_sat</th>\n",
       "      <th>impresiones_sat</th>\n",
       "      <th>radio_sat</th>\n",
       "      <th>tv_abierta_sat</th>\n",
       "      <th>tv_paga_sat</th>\n",
       "    </tr>\n",
       "  </thead>\n",
       "  <tbody>\n",
       "    <tr>\n",
       "      <th>127</th>\n",
       "      <td>2020-06-14</td>\n",
       "      <td>15168.16422</td>\n",
       "      <td>12387.54832</td>\n",
       "      <td>9391.425027</td>\n",
       "      <td>0.000000</td>\n",
       "      <td>5674.41</td>\n",
       "      <td>9315.044909</td>\n",
       "      <td>3072.271392</td>\n",
       "      <td>147039.0</td>\n",
       "      <td>2020</td>\n",
       "      <td>6</td>\n",
       "      <td>0.784341</td>\n",
       "      <td>0.713436</td>\n",
       "      <td>0.686060</td>\n",
       "      <td>0.245491</td>\n",
       "      <td>0.600043</td>\n",
       "      <td>0.711024</td>\n",
       "      <td>0.575855</td>\n",
       "    </tr>\n",
       "    <tr>\n",
       "      <th>31</th>\n",
       "      <td>2018-08-12</td>\n",
       "      <td>0.00000</td>\n",
       "      <td>0.00000</td>\n",
       "      <td>7107.988618</td>\n",
       "      <td>0.000000</td>\n",
       "      <td>0.00</td>\n",
       "      <td>0.000000</td>\n",
       "      <td>2918.726755</td>\n",
       "      <td>91512.0</td>\n",
       "      <td>2018</td>\n",
       "      <td>8</td>\n",
       "      <td>0.780903</td>\n",
       "      <td>0.144598</td>\n",
       "      <td>0.291348</td>\n",
       "      <td>0.110001</td>\n",
       "      <td>0.566398</td>\n",
       "      <td>0.000000</td>\n",
       "      <td>0.207961</td>\n",
       "    </tr>\n",
       "    <tr>\n",
       "      <th>112</th>\n",
       "      <td>2020-03-01</td>\n",
       "      <td>0.00000</td>\n",
       "      <td>0.00000</td>\n",
       "      <td>7665.077812</td>\n",
       "      <td>1958.606914</td>\n",
       "      <td>0.00</td>\n",
       "      <td>6090.961008</td>\n",
       "      <td>2766.388393</td>\n",
       "      <td>122798.0</td>\n",
       "      <td>2020</td>\n",
       "      <td>3</td>\n",
       "      <td>0.763484</td>\n",
       "      <td>0.527799</td>\n",
       "      <td>0.544153</td>\n",
       "      <td>0.522674</td>\n",
       "      <td>0.552424</td>\n",
       "      <td>0.000000</td>\n",
       "      <td>0.458330</td>\n",
       "    </tr>\n",
       "    <tr>\n",
       "      <th>27</th>\n",
       "      <td>2018-07-15</td>\n",
       "      <td>0.00000</td>\n",
       "      <td>0.00000</td>\n",
       "      <td>0.000000</td>\n",
       "      <td>2154.626848</td>\n",
       "      <td>0.00</td>\n",
       "      <td>0.000000</td>\n",
       "      <td>1077.318500</td>\n",
       "      <td>77932.4</td>\n",
       "      <td>2018</td>\n",
       "      <td>7</td>\n",
       "      <td>0.605883</td>\n",
       "      <td>0.175024</td>\n",
       "      <td>0.262248</td>\n",
       "      <td>0.548557</td>\n",
       "      <td>0.155865</td>\n",
       "      <td>0.000000</td>\n",
       "      <td>0.101724</td>\n",
       "    </tr>\n",
       "    <tr>\n",
       "      <th>195</th>\n",
       "      <td>2021-10-03</td>\n",
       "      <td>0.00000</td>\n",
       "      <td>0.00000</td>\n",
       "      <td>0.000000</td>\n",
       "      <td>1422.821510</td>\n",
       "      <td>0.00</td>\n",
       "      <td>0.000000</td>\n",
       "      <td>850.694829</td>\n",
       "      <td>90301.7</td>\n",
       "      <td>2021</td>\n",
       "      <td>10</td>\n",
       "      <td>0.536697</td>\n",
       "      <td>0.283405</td>\n",
       "      <td>0.168665</td>\n",
       "      <td>0.407947</td>\n",
       "      <td>0.164417</td>\n",
       "      <td>0.000000</td>\n",
       "      <td>0.393080</td>\n",
       "    </tr>\n",
       "    <tr>\n",
       "      <th>183</th>\n",
       "      <td>2021-07-11</td>\n",
       "      <td>12197.05028</td>\n",
       "      <td>0.00000</td>\n",
       "      <td>0.000000</td>\n",
       "      <td>0.000000</td>\n",
       "      <td>0.00</td>\n",
       "      <td>7075.124136</td>\n",
       "      <td>914.007308</td>\n",
       "      <td>115706.2</td>\n",
       "      <td>2021</td>\n",
       "      <td>7</td>\n",
       "      <td>0.554198</td>\n",
       "      <td>0.313390</td>\n",
       "      <td>0.549320</td>\n",
       "      <td>0.023088</td>\n",
       "      <td>0.000000</td>\n",
       "      <td>0.664265</td>\n",
       "      <td>0.195475</td>\n",
       "    </tr>\n",
       "  </tbody>\n",
       "</table>\n",
       "</div>"
      ],
      "text/plain": [
       "         fecha   tv_abierta      tv_paga        radio  impresiones  facebook  \\\n",
       "127 2020-06-14  15168.16422  12387.54832  9391.425027     0.000000   5674.41   \n",
       "31  2018-08-12      0.00000      0.00000  7107.988618     0.000000      0.00   \n",
       "112 2020-03-01      0.00000      0.00000  7665.077812  1958.606914      0.00   \n",
       "27  2018-07-15      0.00000      0.00000     0.000000  2154.626848      0.00   \n",
       "195 2021-10-03      0.00000      0.00000     0.000000  1422.821510      0.00   \n",
       "183 2021-07-11  12197.05028      0.00000     0.000000     0.000000      0.00   \n",
       "\n",
       "          google       correo    ventas   año  mes  correo_sat  facebook_sat  \\\n",
       "127  9315.044909  3072.271392  147039.0  2020    6    0.784341      0.713436   \n",
       "31      0.000000  2918.726755   91512.0  2018    8    0.780903      0.144598   \n",
       "112  6090.961008  2766.388393  122798.0  2020    3    0.763484      0.527799   \n",
       "27      0.000000  1077.318500   77932.4  2018    7    0.605883      0.175024   \n",
       "195     0.000000   850.694829   90301.7  2021   10    0.536697      0.283405   \n",
       "183  7075.124136   914.007308  115706.2  2021    7    0.554198      0.313390   \n",
       "\n",
       "     google_sat  impresiones_sat  radio_sat  tv_abierta_sat  tv_paga_sat  \n",
       "127    0.686060         0.245491   0.600043        0.711024     0.575855  \n",
       "31     0.291348         0.110001   0.566398        0.000000     0.207961  \n",
       "112    0.544153         0.522674   0.552424        0.000000     0.458330  \n",
       "27     0.262248         0.548557   0.155865        0.000000     0.101724  \n",
       "195    0.168665         0.407947   0.164417        0.000000     0.393080  \n",
       "183    0.549320         0.023088   0.000000        0.664265     0.195475  "
      ]
     },
     "execution_count": 73,
     "metadata": {},
     "output_type": "execute_result"
    }
   ],
   "source": [
    "data.sample(6)"
   ]
  },
  {
   "cell_type": "markdown",
   "id": "38da0c9a",
   "metadata": {},
   "source": [
    "- La siguietne función grafica la curva de sturación de la categoría que recibe como argumento."
   ]
  },
  {
   "cell_type": "code",
   "execution_count": 74,
   "id": "f8e19123",
   "metadata": {},
   "outputs": [],
   "source": [
    "def show_saturation(title,color,cat, cat_sat):\n",
    "    chart = alt.Chart(data).mark_circle(size=40,stroke='#000000',fill=color, strokeWidth=0.3).encode(\n",
    "        alt.X(cat, title='Inversión'),\n",
    "        alt.Y(cat_sat, title='Saturación (Adbug)')#, scale=alt.Scale(domain=( 0, 1 )))\n",
    "    ).properties(\n",
    "        title=f'{title}',\n",
    "        width=230,\n",
    "        height=230\n",
    "    )\n",
    "    return chart"
   ]
  },
  {
   "cell_type": "code",
   "execution_count": 75,
   "id": "c615a02c",
   "metadata": {},
   "outputs": [],
   "source": [
    "chart_tv_abierta = show_saturation('Canal: TV abierta', palette[0], 'tv_abierta:Q','tv_abierta_sat:Q')"
   ]
  },
  {
   "cell_type": "code",
   "execution_count": 76,
   "id": "1ed61ec5",
   "metadata": {},
   "outputs": [],
   "source": [
    "chart_tv_paga = show_saturation('Canal: TV de paga', palette[1], 'tv_paga:Q','tv_paga_sat:Q')"
   ]
  },
  {
   "cell_type": "code",
   "execution_count": 77,
   "id": "74b70b28",
   "metadata": {},
   "outputs": [],
   "source": [
    "chart_radio = show_saturation('Canal: Radio', palette[2], 'radio:Q','radio_sat:Q')"
   ]
  },
  {
   "cell_type": "code",
   "execution_count": 78,
   "id": "1749120c",
   "metadata": {},
   "outputs": [],
   "source": [
    "chart_impresiones = show_saturation('Canal: Impresiones', palette[3], 'impresiones:Q','impresiones_sat:Q')"
   ]
  },
  {
   "cell_type": "code",
   "execution_count": 79,
   "id": "bbe6bef8",
   "metadata": {},
   "outputs": [],
   "source": [
    "chart_google = show_saturation('Canal: Google', palette[4], 'google:Q','google_sat:Q')"
   ]
  },
  {
   "cell_type": "code",
   "execution_count": 80,
   "id": "cc953f6e",
   "metadata": {},
   "outputs": [],
   "source": [
    "chart_facebook = show_saturation('Canal: Facebook', palette[5], 'facebook:Q','facebook_sat:Q')"
   ]
  },
  {
   "cell_type": "code",
   "execution_count": 81,
   "id": "f245efc6",
   "metadata": {},
   "outputs": [],
   "source": [
    "chart_correo = show_saturation('Canal: Correo electrónico', palette[6], 'correo:Q','correo_sat:Q')"
   ]
  },
  {
   "cell_type": "code",
   "execution_count": 82,
   "id": "2d5a2b04",
   "metadata": {},
   "outputs": [
    {
     "data": {
      "text/html": [
       "\n",
       "<div id=\"altair-viz-79b263586f2e468d9a202d1f5af4578e\"></div>\n",
       "<script type=\"text/javascript\">\n",
       "  (function(spec, embedOpt){\n",
       "    let outputDiv = document.currentScript.previousElementSibling;\n",
       "    if (outputDiv.id !== \"altair-viz-79b263586f2e468d9a202d1f5af4578e\") {\n",
       "      outputDiv = document.getElementById(\"altair-viz-79b263586f2e468d9a202d1f5af4578e\");\n",
       "    }\n",
       "    const paths = {\n",
       "      \"vega\": \"https://cdn.jsdelivr.net/npm//vega@5?noext\",\n",
       "      \"vega-lib\": \"https://cdn.jsdelivr.net/npm//vega-lib?noext\",\n",
       "      \"vega-lite\": \"https://cdn.jsdelivr.net/npm//vega-lite@4.17.0?noext\",\n",
       "      \"vega-embed\": \"https://cdn.jsdelivr.net/npm//vega-embed@6?noext\",\n",
       "    };\n",
       "\n",
       "    function loadScript(lib) {\n",
       "      return new Promise(function(resolve, reject) {\n",
       "        var s = document.createElement('script');\n",
       "        s.src = paths[lib];\n",
       "        s.async = true;\n",
       "        s.onload = () => resolve(paths[lib]);\n",
       "        s.onerror = () => reject(`Error loading script: ${paths[lib]}`);\n",
       "        document.getElementsByTagName(\"head\")[0].appendChild(s);\n",
       "      });\n",
       "    }\n",
       "\n",
       "    function showError(err) {\n",
       "      outputDiv.innerHTML = `<div class=\"error\" style=\"color:red;\">${err}</div>`;\n",
       "      throw err;\n",
       "    }\n",
       "\n",
       "    function displayChart(vegaEmbed) {\n",
       "      vegaEmbed(outputDiv, spec, embedOpt)\n",
       "        .catch(err => showError(`Javascript Error: ${err.message}<br>This usually means there's a typo in your chart specification. See the javascript console for the full traceback.`));\n",
       "    }\n",
       "\n",
       "    if(typeof define === \"function\" && define.amd) {\n",
       "      requirejs.config({paths});\n",
       "      require([\"vega-embed\"], displayChart, err => showError(`Error loading script: ${err.message}`));\n",
       "    } else if (typeof vegaEmbed === \"function\") {\n",
       "      displayChart(vegaEmbed);\n",
       "    } else {\n",
       "      loadScript(\"vega\")\n",
       "        .then(() => loadScript(\"vega-lite\"))\n",
       "        .then(() => loadScript(\"vega-embed\"))\n",
       "        .catch(showError)\n",
       "        .then(() => displayChart(vegaEmbed));\n",
       "    }\n",
       "  })({\"config\": {\"view\": {\"continuousWidth\": 400, \"continuousHeight\": 300}}, \"hconcat\": [{\"mark\": {\"type\": \"circle\", \"fill\": \"#93F03B\", \"size\": 40, \"stroke\": \"#000000\", \"strokeWidth\": 0.3}, \"encoding\": {\"x\": {\"field\": \"tv_abierta\", \"title\": \"Inversi\\u00f3n\", \"type\": \"quantitative\"}, \"y\": {\"field\": \"tv_abierta_sat\", \"title\": \"Saturaci\\u00f3n (Adbug)\", \"type\": \"quantitative\"}}, \"height\": 230, \"title\": \"Canal: TV abierta\", \"width\": 230}, {\"mark\": {\"type\": \"circle\", \"fill\": \"#FFA32F\", \"size\": 40, \"stroke\": \"#000000\", \"strokeWidth\": 0.3}, \"encoding\": {\"x\": {\"field\": \"tv_paga\", \"title\": \"Inversi\\u00f3n\", \"type\": \"quantitative\"}, \"y\": {\"field\": \"tv_paga_sat\", \"title\": \"Saturaci\\u00f3n (Adbug)\", \"type\": \"quantitative\"}}, \"height\": 230, \"title\": \"Canal: TV de paga\", \"width\": 230}, {\"mark\": {\"type\": \"circle\", \"fill\": \"#378AFF\", \"size\": 40, \"stroke\": \"#000000\", \"strokeWidth\": 0.3}, \"encoding\": {\"x\": {\"field\": \"google\", \"title\": \"Inversi\\u00f3n\", \"type\": \"quantitative\"}, \"y\": {\"field\": \"google_sat\", \"title\": \"Saturaci\\u00f3n (Adbug)\", \"type\": \"quantitative\"}}, \"height\": 230, \"title\": \"Canal: Google\", \"width\": 230}], \"data\": {\"name\": \"data-cc98b47044e1097c8f70b9d95ab90b9e\"}, \"$schema\": \"https://vega.github.io/schema/vega-lite/v4.17.0.json\", \"datasets\": {\"data-cc98b47044e1097c8f70b9d95ab90b9e\": [{\"fecha\": \"2018-01-07T00:00:00\", \"tv_abierta\": 13637.75157, \"tv_paga\": 0.0, \"radio\": 0.0, \"impresiones\": 0.0, \"facebook\": 3996.635926, \"google\": 8049.170727, \"correo\": 0.0, \"ventas\": 97798.0, \"a\\u00f1o\": 2018, \"mes\": 1, \"correo_sat\": 0.0, \"facebook_sat\": 0.5880135908635442, \"google_sat\": 0.5687583653456677, \"impresiones_sat\": 0.0, \"radio_sat\": 0.0, \"tv_abierta_sat\": 0.6886907168410257, \"tv_paga_sat\": 0.0}, {\"fecha\": \"2018-01-14T00:00:00\", \"tv_abierta\": 0.0, \"tv_paga\": 0.0, \"radio\": 8665.516222, \"impresiones\": 3097.077969, \"facebook\": 3710.391593, \"google\": 6375.41784, \"correo\": 3532.606981, \"ventas\": 132451.9, \"a\\u00f1o\": 2018, \"mes\": 1, \"correo_sat\": 0.7990860798703251, \"facebook_sat\": 0.665291881434634, \"google_sat\": 0.6017552597996132, \"impresiones_sat\": 0.5879968698538136, \"radio_sat\": 0.5755606803209048, \"tv_abierta_sat\": 0.0, \"tv_paga_sat\": 0.0}, {\"fecha\": \"2018-01-21T00:00:00\", \"tv_abierta\": 0.0, \"tv_paga\": 0.0, \"radio\": 7874.545357, \"impresiones\": 3145.181754, \"facebook\": 0.0, \"google\": 6104.066477, \"correo\": 3648.381829, \"ventas\": 120226.6, \"a\\u00f1o\": 2018, \"mes\": 1, \"correo_sat\": 0.8152058774937366, \"facebook_sat\": 0.4799301686042652, \"google_sat\": 0.6054446824993767, \"impresiones_sat\": 0.6281305799243357, \"radio_sat\": 0.5920781137903003, \"tv_abierta_sat\": 0.0, \"tv_paga_sat\": 0.0}, {\"fecha\": \"2018-01-28T00:00:00\", \"tv_abierta\": 0.0, \"tv_paga\": 0.0, \"radio\": 0.0, \"impresiones\": 0.0, \"facebook\": 0.0, \"google\": 0.0, \"correo\": 1597.715205, \"ventas\": 88469.5, \"a\\u00f1o\": 2018, \"mes\": 1, \"correo_sat\": 0.6811031483859415, \"facebook_sat\": 0.2999340422672042, \"google_sat\": 0.3517558474473432, \"impresiones_sat\": 0.22105905247745303, \"radio_sat\": 0.19001930648937487, \"tv_abierta_sat\": 0.0, \"tv_paga_sat\": 0.0}, {\"fecha\": \"2018-02-04T00:00:00\", \"tv_abierta\": 0.0, \"tv_paga\": 0.0, \"radio\": 0.0, \"impresiones\": 2091.328917, \"facebook\": 0.0, \"google\": 0.0, \"correo\": 1045.664458, \"ventas\": 97970.7, \"a\\u00f1o\": 2018, \"mes\": 2, \"correo_sat\": 0.5727294672888513, \"facebook_sat\": 0.16590922379051012, \"google_sat\": 0.14621936914019065, \"impresiones_sat\": 0.502830783871475, \"radio_sat\": 0.0365326457922214, \"tv_abierta_sat\": 0.0, \"tv_paga_sat\": 0.0}, {\"fecha\": \"2018-02-11T00:00:00\", \"tv_abierta\": 12914.28609, \"tv_paga\": 0.0, \"radio\": 8099.648422, \"impresiones\": 2781.233263, \"facebook\": 4159.035281, \"google\": 8005.460683, \"correo\": 3479.813998, \"ventas\": 135276.5, \"a\\u00f1o\": 2018, \"mes\": 2, \"correo_sat\": 0.8007999483932106, \"facebook_sat\": 0.6120434211955663, \"google_sat\": 0.575542797378424, \"impresiones_sat\": 0.5920945126141214, \"radio_sat\": 0.5599949240284346, \"tv_abierta_sat\": 0.6768860149724536, \"tv_paga_sat\": 0.0}, {\"fecha\": \"2018-02-18T00:00:00\", \"tv_abierta\": 0.0, \"tv_paga\": 10299.58135, \"radio\": 0.0, \"impresiones\": 1425.55263, \"facebook\": 0.0, \"google\": 0.0, \"correo\": 834.3523032, \"ventas\": 96354.3, \"a\\u00f1o\": 2018, \"mes\": 2, \"correo_sat\": 0.5548289827145788, \"facebook_sat\": 0.41797613924738997, \"google_sat\": 0.3168703424814692, \"impresiones_sat\": 0.4738498964965712, \"radio_sat\": 0.1700316691471066, \"tv_abierta_sat\": 0.0, \"tv_paga_sat\": 0.4775534676229364}, {\"fecha\": \"2018-02-25T00:00:00\", \"tv_abierta\": 14560.64836, \"tv_paga\": 0.0, \"radio\": 8222.221482, \"impresiones\": 2614.337922, \"facebook\": 5505.51609, \"google\": 8996.380998, \"correo\": 3546.448674, \"ventas\": 153551.1, \"a\\u00f1o\": 2018, \"mes\": 2, \"correo_sat\": 0.8034585822889521, \"facebook_sat\": 0.6957020645182722, \"google_sat\": 0.6209416243141277, \"impresiones_sat\": 0.5755216988162013, \"radio_sat\": 0.568926753814389, \"tv_abierta_sat\": 0.7025532871943994, \"tv_paga_sat\": 0.3116562123692421}, {\"fecha\": \"2018-03-04T00:00:00\", \"tv_abierta\": 0.0, \"tv_paga\": 11595.63946, \"radio\": 0.0, \"impresiones\": 3135.248236, \"facebook\": 3676.22357, \"google\": 0.0, \"correo\": 3329.404332, \"ventas\": 121993.7, \"a\\u00f1o\": 2018, \"mes\": 3, \"correo_sat\": 0.8023996188479704, \"facebook_sat\": 0.7036403193559236, \"google_sat\": 0.36679593809442895, \"impresiones_sat\": 0.6258260264794574, \"radio_sat\": 0.1758133748176933, \"tv_abierta_sat\": 0.0, \"tv_paga_sat\": 0.5562180948185224}, {\"fecha\": \"2018-03-11T00:00:00\", \"tv_abierta\": 0.0, \"tv_paga\": 0.0, \"radio\": 7436.762482, \"impresiones\": 2232.781716, \"facebook\": 0.0, \"google\": 6001.148146, \"correo\": 3236.708503, \"ventas\": 113682.3, \"a\\u00f1o\": 2018, \"mes\": 3, \"correo_sat\": 0.7981502191035394, \"facebook_sat\": 0.5243317605561483, \"google_sat\": 0.538668726588498, \"impresiones_sat\": 0.5670568130366221, \"radio_sat\": 0.5449120714353435, \"tv_abierta_sat\": 0.0, \"tv_paga_sat\": 0.38302837771581943}, {\"fecha\": \"2018-03-18T00:00:00\", \"tv_abierta\": 0.0, \"tv_paga\": 0.0, \"radio\": 7138.180995, \"impresiones\": 0.0, \"facebook\": 0.0, \"google\": 0.0, \"correo\": 1654.49507, \"ventas\": 86404.4, \"a\\u00f1o\": 2018, \"mes\": 3, \"correo_sat\": 0.6840218284468157, \"facebook_sat\": 0.33852247916260975, \"google_sat\": 0.2922358902695147, \"impresiones_sat\": 0.18025250130494727, \"radio_sat\": 0.567206635125021, \"tv_abierta_sat\": 0.0, \"tv_paga_sat\": 0.2015873110808988}, {\"fecha\": \"2018-03-25T00:00:00\", \"tv_abierta\": 0.0, \"tv_paga\": 0.0, \"radio\": 0.0, \"impresiones\": 0.0, \"facebook\": 0.0, \"google\": 0.0, \"correo\": 0.0, \"ventas\": 49602.6, \"a\\u00f1o\": 2018, \"mes\": 3, \"correo_sat\": 0.1418018816662282, \"facebook_sat\": 0.1821540290404906, \"google_sat\": 0.10949605427948078, \"impresiones_sat\": 0.035546093022062054, \"radio_sat\": 0.17420145909861698, \"tv_abierta_sat\": 0.0, \"tv_paga_sat\": 0.11116023961635774}, {\"fecha\": \"2018-04-01T00:00:00\", \"tv_abierta\": 13700.77859, \"tv_paga\": 0.0, \"radio\": 8793.06718, \"impresiones\": 0.0, \"facebook\": 4443.067528, \"google\": 8934.868867, \"correo\": 3151.505201, \"ventas\": 127264.6, \"a\\u00f1o\": 2018, \"mes\": 4, \"correo_sat\": 0.7807344229660014, \"facebook_sat\": 0.6282661505900936, \"google_sat\": 0.6011950287103881, \"impresiones_sat\": 0.005994893787146588, \"radio_sat\": 0.5850803553543173, \"tv_abierta_sat\": 0.6896784058597722, \"tv_paga_sat\": 0.0}, {\"fecha\": \"2018-04-08T00:00:00\", \"tv_abierta\": 13427.87799, \"tv_paga\": 13193.2333, \"radio\": 0.0, \"impresiones\": 0.0, \"facebook\": 0.0, \"google\": 7424.44265, \"correo\": 0.0, \"ventas\": 114217.1, \"a\\u00f1o\": 2018, \"mes\": 4, \"correo_sat\": 0.21376084095037928, \"facebook_sat\": 0.43341861612041277, \"google_sat\": 0.6342655405530595, \"impresiones_sat\": 0.0008191999237648175, \"radio_sat\": 0.18508416663396232, \"tv_abierta_sat\": 0.6853560022001141, \"tv_paga_sat\": 0.5393569876501493}, {\"fecha\": \"2018-04-15T00:00:00\", \"tv_abierta\": 0.0, \"tv_paga\": 11443.57471, \"radio\": 0.0, \"impresiones\": 1821.595117, \"facebook\": 3504.210828, \"google\": 0.0, \"correo\": 1295.36348, \"ventas\": 108753.1, \"a\\u00f1o\": 2018, \"mes\": 4, \"correo_sat\": 0.5966304415351513, \"facebook_sat\": 0.61440837758393, \"google_sat\": 0.38013534829309076, \"impresiones_sat\": 0.4563474582835507, \"radio_sat\": 0.034699723297255534, \"tv_abierta_sat\": 0.0, \"tv_paga_sat\": 0.6147273440145855}, {\"fecha\": \"2018-04-22T00:00:00\", \"tv_abierta\": 14152.58026, \"tv_paga\": 0.0, \"radio\": 0.0, \"impresiones\": 0.0, \"facebook\": 4140.038678, \"google\": 8408.845651, \"correo\": 1544.362309, \"ventas\": 130480.8, \"a\\u00f1o\": 2018, \"mes\": 4, \"correo_sat\": 0.6493370610881943, \"facebook_sat\": 0.6892722679116166, \"google_sat\": 0.6145958163926891, \"impresiones_sat\": 0.12360060119894743, \"radio_sat\": 0.005776551419959279, \"tv_abierta_sat\": 0.6965791299185887, \"tv_paga_sat\": 0.4414415512315091}, {\"fecha\": \"2018-04-29T00:00:00\", \"tv_abierta\": 0.0, \"tv_paga\": 12774.76664, \"radio\": 0.0, \"impresiones\": 0.0, \"facebook\": 3602.449679, \"google\": 0.0, \"correo\": 1422.876833, \"ventas\": 107758.6, \"a\\u00f1o\": 2018, \"mes\": 4, \"correo_sat\": 0.6354766726482659, \"facebook_sat\": 0.6984646975078055, \"google_sat\": 0.3510779438300749, \"impresiones_sat\": 0.02314686016702769, \"radio_sat\": 0.0, \"tv_abierta_sat\": 0.0, \"tv_paga_sat\": 0.6039928486160766}, {\"fecha\": \"2018-05-06T00:00:00\", \"tv_abierta\": 13823.00898, \"tv_paga\": 0.0, \"radio\": 8301.612581, \"impresiones\": 2125.079769, \"facebook\": 0.0, \"google\": 10383.94204, \"correo\": 3401.831369, \"ventas\": 150136.2, \"a\\u00f1o\": 2018, \"mes\": 5, \"correo_sat\": 0.7985167466649777, \"facebook_sat\": 0.5181690105689207, \"google_sat\": 0.6520211718642436, \"impresiones_sat\": 0.49577464011916245, \"radio_sat\": 0.5650477283094136, \"tv_abierta_sat\": 0.6915761103605013, \"tv_paga_sat\": 0.4065253672982091}, {\"fecha\": \"2018-05-13T00:00:00\", \"tv_abierta\": 14869.70421, \"tv_paga\": 12103.71445, \"radio\": 0.0, \"impresiones\": 2236.994923, \"facebook\": 0.0, \"google\": 8344.402337, \"correo\": 1118.497461, \"ventas\": 141583.2, \"a\\u00f1o\": 2018, \"mes\": 5, \"correo_sat\": 0.6096773136475107, \"facebook_sat\": 0.3258701345547628, \"google_sat\": 0.6699507174595899, \"impresiones_sat\": 0.5446324839595013, \"radio_sat\": 0.1735356528600518, \"tv_abierta_sat\": 0.7069236381782074, \"tv_paga_sat\": 0.5748922877466889}, {\"fecha\": \"2018-05-20T00:00:00\", \"tv_abierta\": 15191.76484, \"tv_paga\": 14879.30689, \"radio\": 7729.403948, \"impresiones\": 2571.660781, \"facebook\": 5029.572236, \"google\": 8448.904232, \"correo\": 3585.492435, \"ventas\": 159181.4, \"a\\u00f1o\": 2018, \"mes\": 5, \"correo_sat\": 0.8060534349740271, \"facebook_sat\": 0.6689364601264498, \"google_sat\": 0.6753914361130688, \"impresiones_sat\": 0.5808682913254778, \"radio_sat\": 0.5542672882057259, \"tv_abierta_sat\": 0.711343304159511, \"tv_paga_sat\": 0.6655926724959611}, {\"fecha\": \"2018-05-27T00:00:00\", \"tv_abierta\": 0.0, \"tv_paga\": 12087.60028, \"radio\": 0.0, \"impresiones\": 2789.041931, \"facebook\": 0.0, \"google\": 0.0, \"correo\": 1394.527806, \"ventas\": 111287.5, \"a\\u00f1o\": 2018, \"mes\": 5, \"correo_sat\": 0.6536779015127842, \"facebook_sat\": 0.4806696630197754, \"google_sat\": 0.4238809851443189, \"impresiones_sat\": 0.6028700136625373, \"radio_sat\": 0.16735082494819228, \"tv_abierta_sat\": 0.0, \"tv_paga_sat\": 0.6655951550273055}, {\"fecha\": \"2018-06-03T00:00:00\", \"tv_abierta\": 12989.40303, \"tv_paga\": 0.0, \"radio\": 0.0, \"impresiones\": 2329.948052, \"facebook\": 3934.675968, \"google\": 8246.825876, \"correo\": 856.4664813, \"ventas\": 121703.6, \"a\\u00f1o\": 2018, \"mes\": 6, \"correo_sat\": 0.5256898670234026, \"facebook_sat\": 0.6453950555403154, \"google_sat\": 0.6131293798281255, \"impresiones_sat\": 0.5705796136320014, \"radio_sat\": 0.030630804882241118, \"tv_abierta_sat\": 0.6781531772980562, \"tv_paga_sat\": 0.49644707320424125}, {\"fecha\": \"2018-06-10T00:00:00\", \"tv_abierta\": 0.0, \"tv_paga\": 11127.99785, \"radio\": 0.0, \"impresiones\": 1898.59873, \"facebook\": 3712.523771, \"google\": 0.0, \"correo\": 1088.075352, \"ventas\": 101347.0, \"a\\u00f1o\": 2018, \"mes\": 6, \"correo_sat\": 0.5670346839098801, \"facebook_sat\": 0.6833348043387087, \"google_sat\": 0.3502494044990697, \"impresiones_sat\": 0.5233569700989081, \"radio_sat\": 0.005081335068967795, \"tv_abierta_sat\": 0.0, \"tv_paga_sat\": 0.5852802156590187}, {\"fecha\": \"2018-06-17T00:00:00\", \"tv_abierta\": 14366.12193, \"tv_paga\": 0.0, \"radio\": 7248.928504, \"impresiones\": 0.0, \"facebook\": 3973.921973, \"google\": 7911.972314, \"correo\": 1829.235299, \"ventas\": 110935.5, \"a\\u00f1o\": 2018, \"mes\": 6, \"correo_sat\": 0.6834830547107177, \"facebook_sat\": 0.7076882485039977, \"google_sat\": 0.5943825628492929, \"impresiones_sat\": 0.15564922236906334, \"radio_sat\": 0.5314777595949269, \"tv_abierta_sat\": 0.6997350220250451, \"tv_paga_sat\": 0.3825434544020162}, {\"fecha\": \"2018-06-24T00:00:00\", \"tv_abierta\": 0.0, \"tv_paga\": 10499.87566, \"radio\": 0.0, \"impresiones\": 0.0, \"facebook\": 3291.352352, \"google\": 0.0, \"correo\": 0.0, \"ventas\": 81706.3, \"a\\u00f1o\": 2018, \"mes\": 6, \"correo_sat\": 0.14155949072682328, \"facebook_sat\": 0.6969141916979523, \"google_sat\": 0.3413191369389259, \"impresiones_sat\": 0.029892202377871806, \"radio_sat\": 0.15493998156908978, \"tv_abierta_sat\": 0.0, \"tv_paga_sat\": 0.5400501084300411}, {\"fecha\": \"2018-07-01T00:00:00\", \"tv_abierta\": 0.0, \"tv_paga\": 0.0, \"radio\": 0.0, \"impresiones\": 0.0, \"facebook\": 0.0, \"google\": 0.0, \"correo\": 0.0, \"ventas\": 65427.1, \"a\\u00f1o\": 2018, \"mes\": 7, \"correo_sat\": 0.012408276872563824, \"facebook_sat\": 0.5120886652804167, \"google_sat\": 0.1394971529071639, \"impresiones_sat\": 0.004980055705501837, \"radio_sat\": 0.028781533997336465, \"tv_abierta_sat\": 0.0, \"tv_paga_sat\": 0.36772319560004163}, {\"fecha\": \"2018-07-08T00:00:00\", \"tv_abierta\": 0.0, \"tv_paga\": 0.0, \"radio\": 7300.219073, \"impresiones\": 2870.512659, \"facebook\": 0.0, \"google\": 6134.926946, \"correo\": 3771.823703, \"ventas\": 113258.0, \"a\\u00f1o\": 2018, \"mes\": 7, \"correo_sat\": 0.8094330962480255, \"facebook_sat\": 0.32762966196400173, \"google_sat\": 0.515164564311745, \"impresiones_sat\": 0.5696073058442246, \"radio_sat\": 0.5342742837622406, \"tv_abierta_sat\": 0.0, \"tv_paga_sat\": 0.18608252384898827}, {\"fecha\": \"2018-07-15T00:00:00\", \"tv_abierta\": 0.0, \"tv_paga\": 0.0, \"radio\": 0.0, \"impresiones\": 2154.626848, \"facebook\": 0.0, \"google\": 0.0, \"correo\": 1077.3185, \"ventas\": 77932.4, \"a\\u00f1o\": 2018, \"mes\": 7, \"correo_sat\": 0.6058831638901696, \"facebook_sat\": 0.1750235439242882, \"google_sat\": 0.26224787986534354, \"impresiones_sat\": 0.5485565068969932, \"radio_sat\": 0.15586540161269746, \"tv_abierta_sat\": 0.0, \"tv_paga_sat\": 0.10172438304437278}, {\"fecha\": \"2018-07-22T00:00:00\", \"tv_abierta\": 16561.6822, \"tv_paga\": 0.0, \"radio\": 8780.377997, \"impresiones\": 3527.997371, \"facebook\": 4730.113733, \"google\": 9135.531258, \"correo\": 4288.783334, \"ventas\": 150109.4, \"a\\u00f1o\": 2018, \"mes\": 7, \"correo_sat\": 0.8318210831834059, \"facebook_sat\": 0.6395645680618764, \"google_sat\": 0.618697595342067, \"impresiones_sat\": 0.6466299070175106, \"radio_sat\": 0.5840037842169942, \"tv_abierta_sat\": 0.7287431764137959, \"tv_paga_sat\": 0.0}, {\"fecha\": \"2018-07-29T00:00:00\", \"tv_abierta\": 0.0, \"tv_paga\": 12058.54301, \"radio\": 0.0, \"impresiones\": 0.0, \"facebook\": 0.0, \"google\": 0.0, \"correo\": 2140.949806, \"ventas\": 106343.1, \"a\\u00f1o\": 2018, \"mes\": 7, \"correo_sat\": 0.7360266783015863, \"facebook_sat\": 0.44739127022012576, \"google_sat\": 0.3645869734041677, \"impresiones_sat\": 0.23515065570360927, \"radio_sat\": 0.18494210649316054, \"tv_abierta_sat\": 0.0, \"tv_paga_sat\": 0.5169494039073427}, {\"fecha\": \"2018-08-05T00:00:00\", \"tv_abierta\": 0.0, \"tv_paga\": 0.0, \"radio\": 7438.658676, \"impresiones\": 1486.586917, \"facebook\": 0.0, \"google\": 5953.183042, \"correo\": 3044.839046, \"ventas\": 117513.9, \"a\\u00f1o\": 2018, \"mes\": 8, \"correo_sat\": 0.7845266193241553, \"facebook_sat\": 0.2669166427933828, \"google_sat\": 0.5376003898049801, \"impresiones_sat\": 0.4241920356088399, \"radio_sat\": 0.5454454741126561, \"tv_abierta_sat\": 0.0, \"tv_paga_sat\": 0.3464416108738937}, {\"fecha\": \"2018-08-12T00:00:00\", \"tv_abierta\": 0.0, \"tv_paga\": 0.0, \"radio\": 7107.988618, \"impresiones\": 0.0, \"facebook\": 0.0, \"google\": 0.0, \"correo\": 2918.726755, \"ventas\": 91512.0, \"a\\u00f1o\": 2018, \"mes\": 8, \"correo_sat\": 0.7809034843108659, \"facebook_sat\": 0.1445981939148486, \"google_sat\": 0.2913476391778718, \"impresiones_sat\": 0.11000104515857877, \"radio_sat\": 0.5663982003453986, \"tv_abierta_sat\": 0.0, \"tv_paga_sat\": 0.20796121407043494}, {\"fecha\": \"2018-08-19T00:00:00\", \"tv_abierta\": 0.0, \"tv_paga\": 0.0, \"radio\": 0.0, \"impresiones\": 1447.816996, \"facebook\": 0.0, \"google\": 0.0, \"correo\": 1151.556962, \"ventas\": 91414.6, \"a\\u00f1o\": 2018, \"mes\": 8, \"correo_sat\": 0.6106842971883546, \"facebook_sat\": 0.07276972300192011, \"google_sat\": 0.10871603451806205, \"impresiones_sat\": 0.4075135377212963, \"radio_sat\": 0.17368565140910333, \"tv_abierta_sat\": 0.0, \"tv_paga_sat\": 0.11508710313069524}, {\"fecha\": \"2018-08-26T00:00:00\", \"tv_abierta\": 0.0, \"tv_paga\": 0.0, \"radio\": 7238.167542, \"impresiones\": 0.0, \"facebook\": 0.0, \"google\": 0.0, \"correo\": 1683.584195, \"ventas\": 73999.2, \"a\\u00f1o\": 2018, \"mes\": 8, \"correo_sat\": 0.6683515976081988, \"facebook_sat\": 0.035155310668961624, \"google_sat\": 0.04134983766578663, \"impresiones_sat\": 0.1034143762415146, \"radio_sat\": 0.5384600947734491, \"tv_abierta_sat\": 0.0, \"tv_paga_sat\": 0.0}, {\"fecha\": \"2018-09-02T00:00:00\", \"tv_abierta\": 13634.69569, \"tv_paga\": 0.0, \"radio\": 0.0, \"impresiones\": 0.0, \"facebook\": 3841.604784, \"google\": 7444.677464, \"correo\": 1808.027464, \"ventas\": 108931.6, \"a\\u00f1o\": 2018, \"mes\": 9, \"correo_sat\": 0.6864645583147513, \"facebook_sat\": 0.5783971297175523, \"google_sat\": 0.5495165073703507, \"impresiones_sat\": 0.0190106831169667, \"radio_sat\": 0.15808786549584924, \"tv_abierta_sat\": 0.6886426686715825, \"tv_paga_sat\": 0.0}, {\"fecha\": \"2018-09-09T00:00:00\", \"tv_abierta\": 0.0, \"tv_paga\": 11940.31404, \"radio\": 7900.823677, \"impresiones\": 2535.857413, \"facebook\": 3611.570088, \"google\": 0.0, \"correo\": 2798.135449, \"ventas\": 115504.7, \"a\\u00f1o\": 2018, \"mes\": 9, \"correo_sat\": 0.7683832059514828, \"facebook_sat\": 0.6583162639397101, \"google_sat\": 0.30136283649641693, \"impresiones_sat\": 0.5395341987402987, \"radio_sat\": 0.5586887948859702, \"tv_abierta_sat\": 0.0, \"tv_paga_sat\": 0.5144886026638072}, {\"fecha\": \"2018-09-16T00:00:00\", \"tv_abierta\": 0.0, \"tv_paga\": 0.0, \"radio\": 0.0, \"impresiones\": 1540.216427, \"facebook\": 0.0, \"google\": 0.0, \"correo\": 945.080627, \"ventas\": 86720.9, \"a\\u00f1o\": 2018, \"mes\": 9, \"correo_sat\": 0.5684850912282089, \"facebook_sat\": 0.47215643944057967, \"google_sat\": 0.13234862131305006, \"impresiones_sat\": 0.4755093567307887, \"radio_sat\": 0.1698620417757695, \"tv_abierta_sat\": 0.0, \"tv_paga_sat\": 0.34421409299792494}, {\"fecha\": \"2018-09-23T00:00:00\", \"tv_abierta\": 0.0, \"tv_paga\": 0.0, \"radio\": 0.0, \"impresiones\": 1518.529147, \"facebook\": 0.0, \"google\": 0.0, \"correo\": 2580.622435, \"ventas\": 94272.2, \"a\\u00f1o\": 2018, \"mes\": 9, \"correo_sat\": 0.7503755994686447, \"facebook_sat\": 0.2934308505247384, \"google_sat\": 0.05117931331821712, \"impresiones_sat\": 0.46003966609749863, \"radio_sat\": 0.03128886792150613, \"tv_abierta_sat\": 0.0, \"tv_paga_sat\": 0.20634296904191216}, {\"fecha\": \"2018-09-30T00:00:00\", \"tv_abierta\": 0.0, \"tv_paga\": 0.0, \"radio\": 0.0, \"impresiones\": 1756.431636, \"facebook\": 0.0, \"google\": 0.0, \"correo\": 878.2207821, \"ventas\": 80369.1, \"a\\u00f1o\": 2018, \"mes\": 9, \"correo_sat\": 0.5492092244035869, \"facebook_sat\": 0.1616410048643878, \"google_sat\": 0.0, \"impresiones_sat\": 0.4878433564939169, \"radio_sat\": 0.005193441692615214, \"tv_abierta_sat\": 0.0, \"tv_paga_sat\": 0.11408745633374358}, {\"fecha\": \"2018-10-07T00:00:00\", \"tv_abierta\": 13548.51383, \"tv_paga\": 0.0, \"radio\": 0.0, \"impresiones\": 2441.123658, \"facebook\": 3878.351961, \"google\": 7454.641232, \"correo\": 1220.561829, \"ventas\": 112405.8, \"a\\u00f1o\": 2018, \"mes\": 10, \"correo_sat\": 0.5946748093469721, \"facebook_sat\": 0.5958840925488678, \"google_sat\": 0.5498475760188322, \"impresiones_sat\": 0.562350394866499, \"radio_sat\": 0.0, \"tv_abierta_sat\": 0.6872814812032065, \"tv_paga_sat\": 0.0}, {\"fecha\": \"2018-10-14T00:00:00\", \"tv_abierta\": 12765.66956, \"tv_paga\": 12667.96935, \"radio\": 0.0, \"impresiones\": 2232.185503, \"facebook\": 4421.91277, \"google\": 7563.803134, \"correo\": 1116.097403, \"ventas\": 123868.3, \"a\\u00f1o\": 2018, \"mes\": 10, \"correo_sat\": 0.577813384297648, \"facebook_sat\": 0.692306031164722, \"google_sat\": 0.6256492843701889, \"impresiones_sat\": 0.5544355441813965, \"radio_sat\": 0.0, \"tv_abierta_sat\": 0.6743493435689154, \"tv_paga_sat\": 0.529248305180351}, {\"fecha\": \"2018-10-21T00:00:00\", \"tv_abierta\": 12612.11377, \"tv_paga\": 11125.60096, \"radio\": 0.0, \"impresiones\": 1919.933745, \"facebook\": 0.0, \"google\": 7593.533831, \"correo\": 1427.951122, \"ventas\": 125138.4, \"a\\u00f1o\": 2018, \"mes\": 10, \"correo_sat\": 0.6312871663009071, \"facebook_sat\": 0.5077971911442802, \"google_sat\": 0.6472948183050614, \"impresiones_sat\": 0.5223760320148643, \"radio_sat\": 0.0, \"tv_abierta_sat\": 0.6716861870459909, \"tv_paga_sat\": 0.6069575621809735}, {\"fecha\": \"2018-10-28T00:00:00\", \"tv_abierta\": 12582.42731, \"tv_paga\": 12493.93642, \"radio\": 7719.560812, \"impresiones\": 0.0, \"facebook\": 0.0, \"google\": 7454.298299, \"correo\": 3467.469246, \"ventas\": 122350.8, \"a\\u00f1o\": 2018, \"mes\": 10, \"correo_sat\": 0.8013775077955484, \"facebook_sat\": 0.3238579509699545, \"google_sat\": 0.651614835791692, \"impresiones_sat\": 0.1551644228270847, \"radio_sat\": 0.5471052869401622, \"tv_abierta_sat\": 0.6711662948765971, \"tv_paga_sat\": 0.6520195724100412}, {\"fecha\": \"2018-11-04T00:00:00\", \"tv_abierta\": 16032.97044, \"tv_paga\": 0.0, \"radio\": 0.0, \"impresiones\": 0.0, \"facebook\": 4135.94682, \"google\": 8392.791179, \"correo\": 0.0, \"ventas\": 118957.8, \"a\\u00f1o\": 2018, \"mes\": 11, \"correo_sat\": 0.23556971215282319, \"facebook_sat\": 0.6295459754058363, \"google_sat\": 0.6685992031820157, \"impresiones_sat\": 0.02983207047121564, \"radio_sat\": 0.16335610444556872, \"tv_abierta_sat\": 0.7222822824687423, \"tv_paga_sat\": 0.481355438281865}, {\"fecha\": \"2018-11-11T00:00:00\", \"tv_abierta\": 0.0, \"tv_paga\": 14524.74395, \"radio\": 0.0, \"impresiones\": 0.0, \"facebook\": 0.0, \"google\": 0.0, \"correo\": 0.0, \"ventas\": 100474.1, \"a\\u00f1o\": 2018, \"mes\": 11, \"correo_sat\": 0.02295848513102971, \"facebook_sat\": 0.44102086901007975, \"google_sat\": 0.40969718623508633, \"impresiones_sat\": 0.004990678988432049, \"radio_sat\": 0.0305929909322634, \"tv_abierta_sat\": 0.0, \"tv_paga_sat\": 0.6270167248527855}, {\"fecha\": \"2018-11-18T00:00:00\", \"tv_abierta\": 0.0, \"tv_paga\": 0.0, \"radio\": 0.0, \"impresiones\": 1485.39244, \"facebook\": 0.0, \"google\": 0.0, \"correo\": 900.0352099, \"ventas\": 97053.9, \"a\\u00f1o\": 2018, \"mes\": 11, \"correo_sat\": 0.5037375606635887, \"facebook_sat\": 0.26058877743623465, \"google_sat\": 0.18432101932693498, \"impresiones_sat\": 0.4065948968121955, \"radio_sat\": 0.005074896998833177, \"tv_abierta_sat\": 0.0, \"tv_paga_sat\": 0.43606315692666325}, {\"fecha\": \"2018-11-25T00:00:00\", \"tv_abierta\": 0.0, \"tv_paga\": 0.0, \"radio\": 7475.655216, \"impresiones\": 0.0, \"facebook\": 0.0, \"google\": 0.0, \"correo\": 2055.962011, \"ventas\": 88471.9, \"a\\u00f1o\": 2018, \"mes\": 11, \"correo_sat\": 0.7052020542355428, \"facebook_sat\": 0.1287736667271871, \"google_sat\": 0.05732360225247818, \"impresiones_sat\": 0.10314114928389449, \"radio_sat\": 0.5391387368856827, \"tv_abierta_sat\": 0.0, \"tv_paga_sat\": 0.2402738966874541}, {\"fecha\": \"2018-12-02T00:00:00\", \"tv_abierta\": 0.0, \"tv_paga\": 0.0, \"radio\": 7132.667732, \"impresiones\": 1425.748773, \"facebook\": 0.0, \"google\": 5859.443701, \"correo\": 2418.190998, \"ventas\": 103790.7, \"a\\u00f1o\": 2018, \"mes\": 12, \"correo_sat\": 0.7439381250895943, \"facebook_sat\": 0.06421584027338983, \"google_sat\": 0.48981958337754394, \"impresiones_sat\": 0.4034558989132407, \"radio_sat\": 0.5662093581015146, \"tv_abierta_sat\": 0.0, \"tv_paga_sat\": 0.135436757989267}, {\"fecha\": \"2018-12-09T00:00:00\", \"tv_abierta\": 0.0, \"tv_paga\": 0.0, \"radio\": 8383.112139, \"impresiones\": 3202.437423, \"facebook\": 3350.036795, \"google\": 6052.552099, \"correo\": 3442.324316, \"ventas\": 113124.8, \"a\\u00f1o\": 2018, \"mes\": 12, \"correo_sat\": 0.8038272090288289, \"facebook_sat\": 0.5512098067040249, \"google_sat\": 0.5710435977310655, \"impresiones_sat\": 0.6138023972703237, \"radio_sat\": 0.6036189883032642, \"tv_abierta_sat\": 0.0, \"tv_paga_sat\": 0.0}, {\"fecha\": \"2018-12-16T00:00:00\", \"tv_abierta\": 0.0, \"tv_paga\": 0.0, \"radio\": 0.0, \"impresiones\": 971.8465568, \"facebook\": 0.0, \"google\": 0.0, \"correo\": 681.6731111, \"ventas\": 82262.3, \"a\\u00f1o\": 2018, \"mes\": 12, \"correo_sat\": 0.5193356811287049, \"facebook_sat\": 0.3570912519428969, \"google_sat\": 0.3200757605745375, \"impresiones_sat\": 0.4168651086657645, \"radio_sat\": 0.19751790240085212, \"tv_abierta_sat\": 0.0, \"tv_paga_sat\": 0.0}, {\"fecha\": \"2018-12-23T00:00:00\", \"tv_abierta\": 13153.25867, \"tv_paga\": 0.0, \"radio\": 8818.084207, \"impresiones\": 2381.192298, \"facebook\": 4500.84969, \"google\": 8419.249802, \"correo\": 4317.896567, \"ventas\": 139661.1, \"a\\u00f1o\": 2018, \"mes\": 12, \"correo_sat\": 0.8317588014733638, \"facebook_sat\": 0.6509838909008744, \"google_sat\": 0.6072257033324725, \"impresiones_sat\": 0.5489999079581303, \"radio_sat\": 0.5865904100886482, \"tv_abierta_sat\": 0.6808830966200525, \"tv_paga_sat\": 0.0}, {\"fecha\": \"2018-12-30T00:00:00\", \"tv_abierta\": 0.0, \"tv_paga\": 12272.26343, \"radio\": 8904.759156, \"impresiones\": 2554.74664, \"facebook\": 3838.158361, \"google\": 6496.131439, \"correo\": 5216.641673, \"ventas\": 134603.2, \"a\\u00f1o\": 2018, \"mes\": 12, \"correo_sat\": 0.8620847485989709, \"facebook_sat\": 0.6910361206284732, \"google_sat\": 0.6148060104631541, \"impresiones_sat\": 0.5801452389638514, \"radio_sat\": 0.6186210546470324, \"tv_abierta_sat\": 0.0, \"tv_paga_sat\": 0.5213350226434984}, {\"fecha\": \"2019-01-06T00:00:00\", \"tv_abierta\": 14554.65399, \"tv_paga\": 0.0, \"radio\": 8583.415451, \"impresiones\": 0.0, \"facebook\": 4444.632003, \"google\": 9159.424721, \"correo\": 3969.809354, \"ventas\": 157426.1, \"a\\u00f1o\": 2019, \"mes\": 1, \"correo_sat\": 0.8318440414445201, \"facebook_sat\": 0.724187263728899, \"google_sat\": 0.6720996834403519, \"impresiones_sat\": 0.1883572302292891, \"radio_sat\": 0.6160461901821371, \"tv_abierta_sat\": 0.7024672320366598, \"tv_paga_sat\": 0.350430088237764}, {\"fecha\": \"2019-01-13T00:00:00\", \"tv_abierta\": 0.0, \"tv_paga\": 10813.12683, \"radio\": 0.0, \"impresiones\": 0.0, \"facebook\": 3392.028005, \"google\": 0.0, \"correo\": 1323.134047, \"ventas\": 104409.8, \"a\\u00f1o\": 2019, \"mes\": 1, \"correo_sat\": 0.6512694365619728, \"facebook_sat\": 0.7084852597614804, \"google_sat\": 0.4202281432385868, \"impresiones_sat\": 0.0373444745665303, \"radio_sat\": 0.20592793850196595, \"tv_abierta_sat\": 0.0, \"tv_paga_sat\": 0.5509383680060612}, {\"fecha\": \"2019-01-20T00:00:00\", \"tv_abierta\": 0.0, \"tv_paga\": 0.0, \"radio\": 0.0, \"impresiones\": 0.0, \"facebook\": 0.0, \"google\": 0.0, \"correo\": 838.2081473, \"ventas\": 85354.9, \"a\\u00f1o\": 2019, \"mes\": 1, \"correo_sat\": 0.5206619102782766, \"facebook_sat\": 0.5274908642047135, \"google_sat\": 0.1901115813945649, \"impresiones_sat\": 0.006416387580307731, \"radio_sat\": 0.03936113232240612, \"tv_abierta_sat\": 0.0, \"tv_paga_sat\": 0.37799236223359567}, {\"fecha\": \"2019-01-27T00:00:00\", \"tv_abierta\": 0.0, \"tv_paga\": 0.0, \"radio\": 0.0, \"impresiones\": 0.0, \"facebook\": 0.0, \"google\": 0.0, \"correo\": 1002.511655, \"ventas\": 78015.8, \"a\\u00f1o\": 2019, \"mes\": 1, \"correo_sat\": 0.5478128539153583, \"facebook_sat\": 0.34136549638785485, \"google_sat\": 0.06223391771199869, \"impresiones_sat\": 0.0009372170343950502, \"radio_sat\": 0.005639598744262953, \"tv_abierta_sat\": 0.0, \"tv_paga_sat\": 0.19057607994747922}, {\"fecha\": \"2019-02-03T00:00:00\", \"tv_abierta\": 0.0, \"tv_paga\": 0.0, \"radio\": 0.0, \"impresiones\": 0.0, \"facebook\": 0.0, \"google\": 0.0, \"correo\": 2302.988397, \"ventas\": 95700.1, \"a\\u00f1o\": 2019, \"mes\": 2, \"correo_sat\": 0.7286485864916307, \"facebook_sat\": 0.18336103646137825, \"google_sat\": 0.0, \"impresiones_sat\": 0.0, \"radio_sat\": 0.0, \"tv_abierta_sat\": 0.0, \"tv_paga_sat\": 0.10444224384356862}, {\"fecha\": \"2019-02-10T00:00:00\", \"tv_abierta\": 0.0, \"tv_paga\": 0.0, \"radio\": 0.0, \"impresiones\": 0.0, \"facebook\": 0.0, \"google\": 0.0, \"correo\": 735.7433044, \"ventas\": 78547.8, \"a\\u00f1o\": 2019, \"mes\": 2, \"correo_sat\": 0.5082197305383512, \"facebook_sat\": 0.08300354508681149, \"google_sat\": 0.0, \"impresiones_sat\": 0.0, \"radio_sat\": 0.0, \"tv_abierta_sat\": 0.0, \"tv_paga_sat\": 0.0}, {\"fecha\": \"2019-02-17T00:00:00\", \"tv_abierta\": 0.0, \"tv_paga\": 0.0, \"radio\": 0.0, \"impresiones\": 1826.592931, \"facebook\": 0.0, \"google\": 0.0, \"correo\": 913.3012405, \"ventas\": 80675.5, \"a\\u00f1o\": 2019, \"mes\": 2, \"correo_sat\": 0.5254299027306418, \"facebook_sat\": 0.02546357925990417, \"google_sat\": 0.0, \"impresiones_sat\": 0.457027290706883, \"radio_sat\": 0.0, \"tv_abierta_sat\": 0.0, \"tv_paga_sat\": 0.0}, {\"fecha\": \"2019-02-24T00:00:00\", \"tv_abierta\": 0.0, \"tv_paga\": 0.0, \"radio\": 0.0, \"impresiones\": 1352.708217, \"facebook\": 0.0, \"google\": 0.0, \"correo\": 809.77397, \"ventas\": 78482.6, \"a\\u00f1o\": 2019, \"mes\": 2, \"correo_sat\": 0.4990579527009677, \"facebook_sat\": 0.0, \"google_sat\": 0.0, \"impresiones_sat\": 0.4333511467320251, \"radio_sat\": 0.0, \"tv_abierta_sat\": 0.0, \"tv_paga_sat\": 0.0}, {\"fecha\": \"2019-03-03T00:00:00\", \"tv_abierta\": 13047.25383, \"tv_paga\": 0.0, \"radio\": 7828.362828, \"impresiones\": 2598.942187, \"facebook\": 4161.510848, \"google\": 7901.82817, \"correo\": 4906.943146, \"ventas\": 140127.1, \"a\\u00f1o\": 2019, \"mes\": 3, \"correo_sat\": 0.8484984943045848, \"facebook_sat\": 0.5977706982383091, \"google_sat\": 0.5642213440714374, \"impresiones_sat\": 0.5700977349897771, \"radio_sat\": 0.5505708713247224, \"tv_abierta_sat\": 0.6791223194595014, \"tv_paga_sat\": 0.0}, {\"fecha\": \"2019-03-10T00:00:00\", \"tv_abierta\": 14940.67635, \"tv_paga\": 12046.58877, \"radio\": 10044.0824, \"impresiones\": 4551.527451, \"facebook\": 5424.518582, \"google\": 8387.246876, \"correo\": 4591.72879, \"ventas\": 161274.5, \"a\\u00f1o\": 2019, \"mes\": 3, \"correo_sat\": 0.8484272682395827, \"facebook_sat\": 0.7243019610211076, \"google_sat\": 0.6469084709376899, \"impresiones_sat\": 0.6988129679253426, \"radio_sat\": 0.6389607638515337, \"tv_abierta_sat\": 0.707909182090627, \"tv_paga_sat\": 0.5167017242041204}, {\"fecha\": \"2019-03-17T00:00:00\", \"tv_abierta\": 0.0, \"tv_paga\": 12134.00375, \"radio\": 0.0, \"impresiones\": 2570.713804, \"facebook\": 3536.959388, \"google\": 0.0, \"correo\": 1285.362897, \"ventas\": 116369.7, \"a\\u00f1o\": 2019, \"mes\": 3, \"correo_sat\": 0.6521389594873331, \"facebook_sat\": 0.7128760126941092, \"google_sat\": 0.3931581113339705, \"impresiones_sat\": 0.6115654469966928, \"radio_sat\": 0.22242481666894984, \"tv_abierta_sat\": 0.0, \"tv_paga_sat\": 0.6163339244984882}, {\"fecha\": \"2019-03-24T00:00:00\", \"tv_abierta\": 0.0, \"tv_paga\": 0.0, \"radio\": 0.0, \"impresiones\": 1864.977557, \"facebook\": 0.0, \"google\": 0.0, \"correo\": 932.4887785, \"ventas\": 81936.5, \"a\\u00f1o\": 2019, \"mes\": 3, \"correo_sat\": 0.5440119547993847, \"facebook_sat\": 0.5354663111056703, \"google_sat\": 0.1863975102491909, \"impresiones_sat\": 0.5291492311745343, \"radio_sat\": 0.0441909219016034, \"tv_abierta_sat\": 0.0, \"tv_paga_sat\": 0.4431161254758013}, {\"fecha\": \"2019-03-31T00:00:00\", \"tv_abierta\": 0.0, \"tv_paga\": 0.0, \"radio\": 7934.598624, \"impresiones\": 0.0, \"facebook\": 0.0, \"google\": 0.0, \"correo\": 2514.905418, \"ventas\": 94516.1, \"a\\u00f1o\": 2019, \"mes\": 3, \"correo_sat\": 0.745054375159487, \"facebook_sat\": 0.34860299099103065, \"google_sat\": 0.05728790349561759, \"impresiones_sat\": 0.1587680001874566, \"radio_sat\": 0.5552207424720762, \"tv_abierta_sat\": 0.0, \"tv_paga_sat\": 0.2827084858187982}, {\"fecha\": \"2019-04-07T00:00:00\", \"tv_abierta\": 0.0, \"tv_paga\": 0.0, \"radio\": 7755.598288, \"impresiones\": 3078.758659, \"facebook\": 0.0, \"google\": 5899.359067, \"correo\": 3012.852028, \"ventas\": 114540.2, \"a\\u00f1o\": 2019, \"mes\": 4, \"correo_sat\": 0.7833221831627813, \"facebook_sat\": 0.19901291993940637, \"google_sat\": 0.491516251700468, \"impresiones_sat\": 0.5918823121067157, \"radio_sat\": 0.5858096343679906, \"tv_abierta_sat\": 0.0, \"tv_paga_sat\": 0.11572395839053483}, {\"fecha\": \"2019-04-14T00:00:00\", \"tv_abierta\": 0.0, \"tv_paga\": 0.0, \"radio\": 0.0, \"impresiones\": 0.0, \"facebook\": 0.0, \"google\": 0.0, \"correo\": 0.0, \"ventas\": 55268.4, \"a\\u00f1o\": 2019, \"mes\": 4, \"correo_sat\": 0.21637049404568962, \"facebook_sat\": 0.09129695867693058, \"google_sat\": 0.2547433319921435, \"impresiones_sat\": 0.19574375358601218, \"radio_sat\": 0.1860659118379955, \"tv_abierta_sat\": 0.0, \"tv_paga_sat\": 0.0}, {\"fecha\": \"2019-04-21T00:00:00\", \"tv_abierta\": 0.0, \"tv_paga\": 0.0, \"radio\": 0.0, \"impresiones\": 1514.501367, \"facebook\": 0.0, \"google\": 0.0, \"correo\": 757.2506835, \"ventas\": 76775.2, \"a\\u00f1o\": 2019, \"mes\": 4, \"correo_sat\": 0.46627453226258464, \"facebook_sat\": 0.026522706853301825, \"google_sat\": 0.10783910777024587, \"impresiones_sat\": 0.4248349819866712, \"radio_sat\": 0.035632097353717244, \"tv_abierta_sat\": 0.0, \"tv_paga_sat\": 0.0}, {\"fecha\": \"2019-04-28T00:00:00\", \"tv_abierta\": 0.0, \"tv_paga\": 0.0, \"radio\": 0.0, \"impresiones\": 1913.866007, \"facebook\": 0.0, \"google\": 0.0, \"correo\": 590.8604468, \"ventas\": 80849.8, \"a\\u00f1o\": 2019, \"mes\": 4, \"correo_sat\": 0.4225901050487615, \"facebook_sat\": 0.0, \"google_sat\": 0.04099130982666279, \"impresiones_sat\": 0.5014742832789996, \"radio_sat\": 0.005098467515661528, \"tv_abierta_sat\": 0.0, \"tv_paga_sat\": 0.0}, {\"fecha\": \"2019-05-05T00:00:00\", \"tv_abierta\": 0.0, \"tv_paga\": 0.0, \"radio\": 0.0, \"impresiones\": 926.9789257, \"facebook\": 0.0, \"google\": 0.0, \"correo\": 1052.204085, \"ventas\": 74565.6, \"a\\u00f1o\": 2019, \"mes\": 5, \"correo_sat\": 0.5536585860087739, \"facebook_sat\": 0.0, \"google_sat\": 0.0, \"impresiones_sat\": 0.37349988091091846, \"radio_sat\": 0.0, \"tv_abierta_sat\": 0.0, \"tv_paga_sat\": 0.0}, {\"fecha\": \"2019-05-12T00:00:00\", \"tv_abierta\": 0.0, \"tv_paga\": 0.0, \"radio\": 0.0, \"impresiones\": 0.0, \"facebook\": 0.0, \"google\": 0.0, \"correo\": 0.0, \"ventas\": 53651.8, \"a\\u00f1o\": 2019, \"mes\": 5, \"correo_sat\": 0.086555706943812, \"facebook_sat\": 0.0, \"google_sat\": 0.0, \"impresiones_sat\": 0.0908880228474789, \"radio_sat\": 0.0, \"tv_abierta_sat\": 0.0, \"tv_paga_sat\": 0.0}, {\"fecha\": \"2019-05-19T00:00:00\", \"tv_abierta\": 0.0, \"tv_paga\": 0.0, \"radio\": 0.0, \"impresiones\": 1081.880558, \"facebook\": 0.0, \"google\": 0.0, \"correo\": 1063.966361, \"ventas\": 81341.6, \"a\\u00f1o\": 2019, \"mes\": 5, \"correo_sat\": 0.5465052618784065, \"facebook_sat\": 0.0, \"google_sat\": 0.0, \"impresiones_sat\": 0.34008165175715555, \"radio_sat\": 0.0, \"tv_abierta_sat\": 0.0, \"tv_paga_sat\": 0.0}, {\"fecha\": \"2019-05-26T00:00:00\", \"tv_abierta\": 0.0, \"tv_paga\": 0.0, \"radio\": 8243.262274, \"impresiones\": 2096.376366, \"facebook\": 0.0, \"google\": 5927.910909, \"correo\": 2943.766987, \"ventas\": 100655.3, \"a\\u00f1o\": 2019, \"mes\": 5, \"correo_sat\": 0.77305396677112, \"facebook_sat\": 0.0, \"google_sat\": 0.4927229879681442, \"impresiones_sat\": 0.5127946747759616, \"radio_sat\": 0.5633133824826151, \"tv_abierta_sat\": 0.0, \"tv_paga_sat\": 0.0}, {\"fecha\": \"2019-06-02T00:00:00\", \"tv_abierta\": 12212.84443, \"tv_paga\": 0.0, \"radio\": 0.0, \"impresiones\": 1571.246382, \"facebook\": 3741.403015, \"google\": 6769.248234, \"correo\": 785.627917, \"ventas\": 108789.4, \"a\\u00f1o\": 2019, \"mes\": 6, \"correo_sat\": 0.5337312146066839, \"facebook_sat\": 0.571939185220198, \"google_sat\": 0.592276011420902, \"impresiones_sat\": 0.4738965405530552, \"radio_sat\": 0.1725263451913945, \"tv_abierta_sat\": 0.6645532550853124, \"tv_paga_sat\": 0.0}, {\"fecha\": \"2019-06-09T00:00:00\", \"tv_abierta\": 0.0, \"tv_paga\": 11494.89694, \"radio\": 0.0, \"impresiones\": 2511.898411, \"facebook\": 3464.168073, \"google\": 0.0, \"correo\": 2540.591709, \"ventas\": 115246.3, \"a\\u00f1o\": 2019, \"mes\": 6, \"correo_sat\": 0.7466955661404381, \"facebook_sat\": 0.650035180516241, \"google_sat\": 0.3393590928399079, \"impresiones_sat\": 0.5668732506975217, \"radio_sat\": 0.03260078359485869, \"tv_abierta_sat\": 0.0, \"tv_paga_sat\": 0.504988190318338}, {\"fecha\": \"2019-06-16T00:00:00\", \"tv_abierta\": 0.0, \"tv_paga\": 0.0, \"radio\": 0.0, \"impresiones\": 0.0, \"facebook\": 0.0, \"google\": 0.0, \"correo\": 0.0, \"ventas\": 65638.5, \"a\\u00f1o\": 2019, \"mes\": 6, \"correo_sat\": 0.18376959475549798, \"facebook_sat\": 0.4630436126332979, \"google_sat\": 0.1537241575091351, \"impresiones_sat\": 0.18025728417773318, \"radio_sat\": 0.005417317153366361, \"tv_abierta_sat\": 0.0, \"tv_paga_sat\": 0.3356839854606363}, {\"fecha\": \"2019-06-23T00:00:00\", \"tv_abierta\": 12771.64078, \"tv_paga\": 0.0, \"radio\": 8094.503776, \"impresiones\": 2347.668539, \"facebook\": 4295.957973, \"google\": 7760.083157, \"correo\": 3793.020033, \"ventas\": 141655.7, \"a\\u00f1o\": 2019, \"mes\": 6, \"correo_sat\": 0.8108758901385715, \"facebook_sat\": 0.6592287411978024, \"google_sat\": 0.5690702158917075, \"impresiones_sat\": 0.528014439062646, \"radio_sat\": 0.5588286135420483, \"tv_abierta_sat\": 0.6744520314996624, \"tv_paga_sat\": 0.20018653082332435}, {\"fecha\": \"2019-06-30T00:00:00\", \"tv_abierta\": 13537.72705, \"tv_paga\": 13562.95617, \"radio\": 8105.16348, \"impresiones\": 2695.618007, \"facebook\": 5132.313421, \"google\": 8684.473463, \"correo\": 4748.733985, \"ventas\": 156245.6, \"a\\u00f1o\": 2019, \"mes\": 6, \"correo_sat\": 0.8501637633079622, \"facebook_sat\": 0.7319733838152698, \"google_sat\": 0.6518851934124302, \"impresiones_sat\": 0.5884770233691202, \"radio_sat\": 0.5956485360346394, \"tv_abierta_sat\": 0.6871102723929075, \"tv_paga_sat\": 0.5703851788845692}, {\"fecha\": \"2019-07-07T00:00:00\", \"tv_abierta\": 0.0, \"tv_paga\": 10997.34848, \"radio\": 0.0, \"impresiones\": 1957.040866, \"facebook\": 0.0, \"google\": 0.0, \"correo\": 1072.839017, \"ventas\": 113050.4, \"a\\u00f1o\": 2019, \"mes\": 7, \"correo_sat\": 0.6213864142157363, \"facebook_sat\": 0.5590650264795031, \"google_sat\": 0.398385247418117, \"impresiones_sat\": 0.5331437718378321, \"radio_sat\": 0.19230819667187946, \"tv_abierta_sat\": 0.0, \"tv_paga_sat\": 0.6112300579477586}, {\"fecha\": \"2019-07-14T00:00:00\", \"tv_abierta\": 0.0, \"tv_paga\": 0.0, \"radio\": 0.0, \"impresiones\": 2154.814597, \"facebook\": 0.0, \"google\": 0.0, \"correo\": 1077.412415, \"ventas\": 82455.7, \"a\\u00f1o\": 2019, \"mes\": 7, \"correo_sat\": 0.5723570431243639, \"facebook_sat\": 0.3651886254962801, \"google_sat\": 0.18973519390529225, \"impresiones_sat\": 0.5422661175948853, \"radio_sat\": 0.037057287881526416, \"tv_abierta_sat\": 0.0, \"tv_paga_sat\": 0.4378098308578763}, {\"fecha\": \"2019-07-21T00:00:00\", \"tv_abierta\": 0.0, \"tv_paga\": 0.0, \"radio\": 0.0, \"impresiones\": 1353.941405, \"facebook\": 0.0, \"google\": 0.0, \"correo\": 959.6912981, \"ventas\": 76766.4, \"a\\u00f1o\": 2019, \"mes\": 7, \"correo_sat\": 0.5418272754386114, \"facebook_sat\": 0.20299172466074544, \"google_sat\": 0.05919788623129709, \"impresiones_sat\": 0.4514391857668354, \"radio_sat\": 0.005327044680437262, \"tv_abierta_sat\": 0.0, \"tv_paga_sat\": 0.278362900767723}, {\"fecha\": \"2019-07-28T00:00:00\", \"tv_abierta\": 0.0, \"tv_paga\": 0.0, \"radio\": 0.0, \"impresiones\": 0.0, \"facebook\": 0.0, \"google\": 0.0, \"correo\": 0.0, \"ventas\": 50235.3, \"a\\u00f1o\": 2019, \"mes\": 7, \"correo_sat\": 0.08270002853299543, \"facebook_sat\": 0.10574226744052226, \"google_sat\": 0.0, \"impresiones_sat\": 0.12135975560403635, \"radio_sat\": 0.0, \"tv_abierta_sat\": 0.0, \"tv_paga_sat\": 0.10603293944945258}, {\"fecha\": \"2019-08-04T00:00:00\", \"tv_abierta\": 0.0, \"tv_paga\": 0.0, \"radio\": 0.0, \"impresiones\": 1560.451343, \"facebook\": 0.0, \"google\": 0.0, \"correo\": 780.2293876, \"ventas\": 80588.5, \"a\\u00f1o\": 2019, \"mes\": 8, \"correo_sat\": 0.4695755739814591, \"facebook_sat\": 0.03803086926784777, \"google_sat\": 0.0, \"impresiones_sat\": 0.4259842430071161, \"radio_sat\": 0.0, \"tv_abierta_sat\": 0.0, \"tv_paga_sat\": 0.0}, {\"fecha\": \"2019-08-11T00:00:00\", \"tv_abierta\": 0.0, \"tv_paga\": 0.0, \"radio\": 0.0, \"impresiones\": 1812.350063, \"facebook\": 0.0, \"google\": 0.0, \"correo\": 2168.922572, \"ventas\": 99024.4, \"a\\u00f1o\": 2019, \"mes\": 8, \"correo_sat\": 0.7150599752643929, \"facebook_sat\": 0.0, \"google_sat\": 0.0, \"impresiones_sat\": 0.48972149414996824, \"radio_sat\": 0.0, \"tv_abierta_sat\": 0.0, \"tv_paga_sat\": 0.0}, {\"fecha\": \"2019-08-18T00:00:00\", \"tv_abierta\": 0.0, \"tv_paga\": 0.0, \"radio\": 0.0, \"impresiones\": 2189.399784, \"facebook\": 0.0, \"google\": 0.0, \"correo\": 1094.705062, \"ventas\": 80580.5, \"a\\u00f1o\": 2019, \"mes\": 8, \"correo_sat\": 0.5874861809477809, \"facebook_sat\": 0.0, \"google_sat\": 0.0, \"impresiones_sat\": 0.5391727217708832, \"radio_sat\": 0.0, \"tv_abierta_sat\": 0.0, \"tv_paga_sat\": 0.0}, {\"fecha\": \"2019-08-25T00:00:00\", \"tv_abierta\": 0.0, \"tv_paga\": 0.0, \"radio\": 0.0, \"impresiones\": 1121.921064, \"facebook\": 0.0, \"google\": 0.0, \"correo\": 597.9905969, \"ventas\": 74983.6, \"a\\u00f1o\": 2019, \"mes\": 8, \"correo_sat\": 0.4388491056918295, \"facebook_sat\": 0.0, \"google_sat\": 0.0, \"impresiones_sat\": 0.4163947791080613, \"radio_sat\": 0.0, \"tv_abierta_sat\": 0.0, \"tv_paga_sat\": 0.0}, {\"fecha\": \"2019-09-01T00:00:00\", \"tv_abierta\": 14136.19144, \"tv_paga\": 0.0, \"radio\": 7127.626067, \"impresiones\": 0.0, \"facebook\": 4252.459699, \"google\": 8225.767102, \"correo\": 3259.056377, \"ventas\": 122168.0, \"a\\u00f1o\": 2019, \"mes\": 9, \"correo_sat\": 0.7885381267715946, \"facebook_sat\": 0.6029577140415697, \"google_sat\": 0.5740732441441928, \"impresiones_sat\": 0.10704358987278394, \"radio_sat\": 0.5272734879870121, \"tv_abierta_sat\": 0.6963341793625304, \"tv_paga_sat\": 0.0}, {\"fecha\": \"2019-09-08T00:00:00\", \"tv_abierta\": 0.0, \"tv_paga\": 13820.01318, \"radio\": 7649.752382, \"impresiones\": 0.0, \"facebook\": 3806.761894, \"google\": 0.0, \"correo\": 4019.682347, \"ventas\": 110428.0, \"a\\u00f1o\": 2019, \"mes\": 9, \"correo_sat\": 0.8278952513272296, \"facebook_sat\": 0.673683381679438, \"google_sat\": 0.3227758179918755, \"impresiones_sat\": 0.01965055178895407, \"radio_sat\": 0.5793678791331893, \"tv_abierta_sat\": 0.0, \"tv_paga_sat\": 0.5508654313397724}, {\"fecha\": \"2019-09-15T00:00:00\", \"tv_abierta\": 0.0, \"tv_paga\": 0.0, \"radio\": 7748.900553, \"impresiones\": 0.0, \"facebook\": 0.0, \"google\": 0.0, \"correo\": 3122.828446, \"ventas\": 107139.2, \"a\\u00f1o\": 2019, \"mes\": 9, \"correo_sat\": 0.7952215419915435, \"facebook_sat\": 0.48940224405114424, \"google_sat\": 0.14423174407364625, \"impresiones_sat\": 0.003245358772456741, \"radio_sat\": 0.5893619398518335, \"tv_abierta_sat\": 0.0, \"tv_paga_sat\": 0.3779230526099795}, {\"fecha\": \"2019-09-22T00:00:00\", \"tv_abierta\": 0.0, \"tv_paga\": 0.0, \"radio\": 0.0, \"impresiones\": 1345.098888, \"facebook\": 0.0, \"google\": 0.0, \"correo\": 938.5527629, \"ventas\": 91300.6, \"a\\u00f1o\": 2019, \"mes\": 9, \"correo_sat\": 0.5750673729716466, \"facebook_sat\": 0.3079572288727143, \"google_sat\": 0.05624697717247321, \"impresiones_sat\": 0.38281039869087635, \"radio_sat\": 0.18829618981978977, \"tv_abierta_sat\": 0.0, \"tv_paga_sat\": 0.23131259484388533}, {\"fecha\": \"2019-09-29T00:00:00\", \"tv_abierta\": 0.0, \"tv_paga\": 0.0, \"radio\": 7409.997429, \"impresiones\": 0.0, \"facebook\": 0.0, \"google\": 0.0, \"correo\": 1990.307642, \"ventas\": 73258.2, \"a\\u00f1o\": 2019, \"mes\": 9, \"correo_sat\": 0.7009643391200875, \"facebook_sat\": 0.17122413268192002, \"google_sat\": 0.0, \"impresiones_sat\": 0.09431839846760771, \"radio_sat\": 0.5446906213993091, \"tv_abierta_sat\": 0.0, \"tv_paga_sat\": 0.12971787299864465}, {\"fecha\": \"2019-10-06T00:00:00\", \"tv_abierta\": 15737.44978, \"tv_paga\": 0.0, \"radio\": 7912.515954, \"impresiones\": 3273.723949, \"facebook\": 5071.363755, \"google\": 9341.060269, \"correo\": 3410.904343, \"ventas\": 152923.6, \"a\\u00f1o\": 2019, \"mes\": 10, \"correo_sat\": 0.8007629146166658, \"facebook_sat\": 0.6560009943421546, \"google_sat\": 0.6048315362573475, \"impresiones_sat\": 0.6041271189678437, \"radio_sat\": 0.5886053355077765, \"tv_abierta_sat\": 0.7185350980727048, \"tv_paga_sat\": 0.0}, {\"fecha\": \"2019-10-13T00:00:00\", \"tv_abierta\": 0.0, \"tv_paga\": 12745.98958, \"radio\": 0.0, \"impresiones\": 1721.560388, \"facebook\": 3570.814838, \"google\": 0.0, \"correo\": 1479.024515, \"ventas\": 115719.2, \"a\\u00f1o\": 2019, \"mes\": 10, \"correo_sat\": 0.663536846673052, \"facebook_sat\": 0.6820697877492843, \"google_sat\": 0.3511709510662657, \"impresiones_sat\": 0.5121266809011339, \"radio_sat\": 0.18727270097100512, \"tv_abierta_sat\": 0.0, \"tv_paga_sat\": 0.5307777657369454}, {\"fecha\": \"2019-10-20T00:00:00\", \"tv_abierta\": 0.0, \"tv_paga\": 0.0, \"radio\": 7539.872667, \"impresiones\": 0.0, \"facebook\": 0.0, \"google\": 0.0, \"correo\": 2342.772263, \"ventas\": 104643.0, \"a\\u00f1o\": 2019, \"mes\": 10, \"correo_sat\": 0.7360272528588052, \"facebook_sat\": 0.4955620742839528, \"google_sat\": 0.16064590552196098, \"impresiones_sat\": 0.14992436028310221, \"radio_sat\": 0.5489691392049089, \"tv_abierta_sat\": 0.0, \"tv_paga_sat\": 0.35909959960953}, {\"fecha\": \"2019-10-27T00:00:00\", \"tv_abierta\": 0.0, \"tv_paga\": 0.0, \"radio\": 0.0, \"impresiones\": 0.0, \"facebook\": 0.0, \"google\": 0.0, \"correo\": 1190.608003, \"ventas\": 92293.1, \"a\\u00f1o\": 2019, \"mes\": 10, \"correo_sat\": 0.6083638562378098, \"facebook_sat\": 0.3132343133497741, \"google_sat\": 0.06338981346756738, \"impresiones_sat\": 0.02870080021072533, \"radio_sat\": 0.16383419908277086, \"tv_abierta_sat\": 0.0, \"tv_paga_sat\": 0.2172413498910385}, {\"fecha\": \"2019-11-03T00:00:00\", \"tv_abierta\": 0.0, \"tv_paga\": 0.0, \"radio\": 6980.957551, \"impresiones\": 0.0, \"facebook\": 0.0, \"google\": 5997.0382, \"correo\": 3220.268719, \"ventas\": 99647.6, \"a\\u00f1o\": 2019, \"mes\": 11, \"correo_sat\": 0.7892135081887918, \"facebook_sat\": 0.17474983507373967, \"google_sat\": 0.49562104980545485, \"impresiones_sat\": 0.0049400859458035, \"radio_sat\": 0.5290261263987824, \"tv_abierta_sat\": 0.0, \"tv_paga_sat\": 0.1208551820224555}, {\"fecha\": \"2019-11-10T00:00:00\", \"tv_abierta\": 0.0, \"tv_paga\": 0.0, \"radio\": 0.0, \"impresiones\": 0.0, \"facebook\": 0.0, \"google\": 0.0, \"correo\": 1010.904894, \"ventas\": 80185.6, \"a\\u00f1o\": 2019, \"mes\": 11, \"correo_sat\": 0.5874769266677385, \"facebook_sat\": 0.08951097389663037, \"google_sat\": 0.2578735723615247, \"impresiones_sat\": 0.0006317530737241816, \"radio_sat\": 0.15365562919902567, \"tv_abierta_sat\": 0.0, \"tv_paga_sat\": 0.0}, {\"fecha\": \"2019-11-17T00:00:00\", \"tv_abierta\": 0.0, \"tv_paga\": 0.0, \"radio\": 0.0, \"impresiones\": 1231.09119, \"facebook\": 0.0, \"google\": 0.0, \"correo\": 615.5489413, \"ventas\": 72788.5, \"a\\u00f1o\": 2019, \"mes\": 11, \"correo_sat\": 0.4449767445586914, \"facebook_sat\": 0.026769783641351397, \"google_sat\": 0.10942927085971109, \"impresiones_sat\": 0.36195995212074006, \"radio_sat\": 0.027747089738878978, \"tv_abierta_sat\": 0.0, \"tv_paga_sat\": 0.0}, {\"fecha\": \"2019-11-24T00:00:00\", \"tv_abierta\": 0.0, \"tv_paga\": 0.0, \"radio\": 0.0, \"impresiones\": 1721.097524, \"facebook\": 0.0, \"google\": 0.0, \"correo\": 860.552507, \"ventas\": 84674.4, \"a\\u00f1o\": 2019, \"mes\": 11, \"correo_sat\": 0.5074058394567894, \"facebook_sat\": 0.0, \"google_sat\": 0.041641763905010475, \"impresiones_sat\": 0.4704550564567836, \"radio_sat\": 0.004591563186939488, \"tv_abierta_sat\": 0.0, \"tv_paga_sat\": 0.0}, {\"fecha\": \"2019-12-01T00:00:00\", \"tv_abierta\": 0.0, \"tv_paga\": 0.0, \"radio\": 0.0, \"impresiones\": 1454.965795, \"facebook\": 0.0, \"google\": 0.0, \"correo\": 789.7719727, \"ventas\": 76200.8, \"a\\u00f1o\": 2019, \"mes\": 12, \"correo_sat\": 0.49180391650946037, \"facebook_sat\": 0.0, \"google_sat\": 0.0, \"impresiones_sat\": 0.450467644257072, \"radio_sat\": 0.0, \"tv_abierta_sat\": 0.0, \"tv_paga_sat\": 0.0}, {\"fecha\": \"2019-12-08T00:00:00\", \"tv_abierta\": 0.0, \"tv_paga\": 0.0, \"radio\": 6715.183225, \"impresiones\": 0.0, \"facebook\": 0.0, \"google\": 0.0, \"correo\": 1079.293057, \"ventas\": 73539.9, \"a\\u00f1o\": 2019, \"mes\": 12, \"correo_sat\": 0.563133960010742, \"facebook_sat\": 0.0, \"google_sat\": 0.0, \"impresiones_sat\": 0.12105343229913536, \"radio_sat\": 0.5123962667870078, \"tv_abierta_sat\": 0.0, \"tv_paga_sat\": 0.0}, {\"fecha\": \"2019-12-15T00:00:00\", \"tv_abierta\": 12354.18923, \"tv_paga\": 0.0, \"radio\": 8273.950595, \"impresiones\": 1758.203902, \"facebook\": 4359.988375, \"google\": 7705.612541, \"correo\": 3198.480935, \"ventas\": 129474.8, \"a\\u00f1o\": 2019, \"mes\": 12, \"correo_sat\": 0.7872122872772094, \"facebook_sat\": 0.6089203212046734, \"google_sat\": 0.5580290835678064, \"impresiones_sat\": 0.45454701292980176, \"radio_sat\": 0.5942582496582948, \"tv_abierta_sat\": 0.6671135437073487, \"tv_paga_sat\": 0.0}, {\"fecha\": \"2019-12-22T00:00:00\", \"tv_abierta\": 0.0, \"tv_paga\": 10432.86188, \"radio\": 0.0, \"impresiones\": 2730.340502, \"facebook\": 0.0, \"google\": 0.0, \"correo\": 1365.176472, \"ventas\": 102507.8, \"a\\u00f1o\": 2019, \"mes\": 12, \"correo_sat\": 0.6453379912395276, \"facebook_sat\": 0.41957619815477354, \"google_sat\": 0.3086652206845951, \"impresiones_sat\": 0.5830042142732805, \"radio_sat\": 0.19141367951437518, \"tv_abierta_sat\": 0.0, \"tv_paga_sat\": 0.48076221429326205}, {\"fecha\": \"2019-12-29T00:00:00\", \"tv_abierta\": 15705.92872, \"tv_paga\": 0.0, \"radio\": 0.0, \"impresiones\": 2782.168607, \"facebook\": 4056.748142, \"google\": 8052.044172, \"correo\": 1820.419667, \"ventas\": 130965.7, \"a\\u00f1o\": 2019, \"mes\": 12, \"correo_sat\": 0.6863752982729288, \"facebook_sat\": 0.6408487802801336, \"google_sat\": 0.5963248463565701, \"impresiones_sat\": 0.6026774793214779, \"radio_sat\": 0.03685196792534036, \"tv_abierta_sat\": 0.718129436222249, \"tv_paga_sat\": 0.3144211182898135}, {\"fecha\": \"2020-01-05T00:00:00\", \"tv_abierta\": 0.0, \"tv_paga\": 12628.12278, \"radio\": 0.0, \"impresiones\": 2767.197714, \"facebook\": 3671.959616, \"google\": 0.0, \"correo\": 1383.598857, \"ventas\": 108433.0, \"a\\u00f1o\": 2020, \"mes\": 1, \"correo_sat\": 0.6330131401231478, \"facebook_sat\": 0.681501636939626, \"google_sat\": 0.34313403377015883, \"impresiones_sat\": 0.6047297760387093, \"radio_sat\": 0.005437375281750475, \"tv_abierta_sat\": 0.0, \"tv_paga_sat\": 0.574086110025513}, {\"fecha\": \"2020-01-12T00:00:00\", \"tv_abierta\": 0.0, \"tv_paga\": 0.0, \"radio\": 0.0, \"impresiones\": 1341.642463, \"facebook\": 0.0, \"google\": 0.0, \"correo\": 684.0655473, \"ventas\": 97023.2, \"a\\u00f1o\": 2020, \"mes\": 1, \"correo_sat\": 0.4741855265018752, \"facebook_sat\": 0.498347964893346, \"google_sat\": 0.14161703917987478, \"impresiones_sat\": 0.4667489552771939, \"radio_sat\": 0.0, \"tv_abierta_sat\": 0.0, \"tv_paga_sat\": 0.40035192367267347}, {\"fecha\": \"2020-01-19T00:00:00\", \"tv_abierta\": 12393.95412, \"tv_paga\": 0.0, \"radio\": 0.0, \"impresiones\": 2333.332505, \"facebook\": 3706.02476, \"google\": 7772.543576, \"correo\": 1166.666252, \"ventas\": 115097.2, \"a\\u00f1o\": 2020, \"mes\": 1, \"correo_sat\": 0.5802467188837909, \"facebook_sat\": 0.6408941703010769, \"google_sat\": 0.5711651010996335, \"impresiones_sat\": 0.5499906595252215, \"radio_sat\": 0.0, \"tv_abierta_sat\": 0.6678268070017698, \"tv_paga_sat\": 0.21566569305463787}, {\"fecha\": \"2020-01-26T00:00:00\", \"tv_abierta\": 0.0, \"tv_paga\": 12203.88358, \"radio\": 8316.925461, \"impresiones\": 0.0, \"facebook\": 0.0, \"google\": 6017.355381, \"correo\": 2550.619968, \"ventas\": 108629.1, \"a\\u00f1o\": 2020, \"mes\": 1, \"correo_sat\": 0.7485665090411445, \"facebook_sat\": 0.448424097893603, \"google_sat\": 0.5895449925170805, \"impresiones_sat\": 0.1702440863500987, \"radio_sat\": 0.5655005932896836, \"tv_abierta_sat\": 0.0, \"tv_paga_sat\": 0.5494020011231526}, {\"fecha\": \"2020-02-02T00:00:00\", \"tv_abierta\": 17785.02351, \"tv_paga\": 0.0, \"radio\": 0.0, \"impresiones\": 2895.860027, \"facebook\": 4241.375012, \"google\": 8729.787645, \"correo\": 1447.937655, \"ventas\": 148943.0, \"a\\u00f1o\": 2020, \"mes\": 2, \"correo_sat\": 0.65005176761825, \"facebook_sat\": 0.6542317139793056, \"google_sat\": 0.6596692399363947, \"impresiones_sat\": 0.5778351646372739, \"radio_sat\": 0.17380011789381755, \"tv_abierta_sat\": 0.7425988661990262, \"tv_paga_sat\": 0.3491592812952993}, {\"fecha\": \"2020-02-09T00:00:00\", \"tv_abierta\": 0.0, \"tv_paga\": 13818.3096, \"radio\": 0.0, \"impresiones\": 2268.064338, \"facebook\": 0.0, \"google\": 0.0, \"correo\": 2481.622236, \"ventas\": 120711.6, \"a\\u00f1o\": 2020, \"mes\": 2, \"correo_sat\": 0.7459257780401845, \"facebook_sat\": 0.46350247602944533, \"google_sat\": 0.4066785290712744, \"impresiones_sat\": 0.5604288352999998, \"radio_sat\": 0.03288253017538069, \"tv_abierta_sat\": 0.0, \"tv_paga_sat\": 0.5987291109929935}, {\"fecha\": \"2020-02-16T00:00:00\", \"tv_abierta\": 16794.3505, \"tv_paga\": 0.0, \"radio\": 8503.695433, \"impresiones\": 2458.413485, \"facebook\": 5059.715849, \"google\": 9550.96102, \"correo\": 5550.870019, \"ventas\": 165922.5, \"a\\u00f1o\": 2020, \"mes\": 2, \"correo_sat\": 0.8661989729976423, \"facebook_sat\": 0.6869989867520637, \"google_sat\": 0.6412459998334034, \"impresiones_sat\": 0.5739219626089372, \"radio_sat\": 0.5719584637906636, \"tv_abierta_sat\": 0.7314921104729379, \"tv_paga_sat\": 0.4249785470153615}, {\"fecha\": \"2020-02-23T00:00:00\", \"tv_abierta\": 0.0, \"tv_paga\": 15858.07208, \"radio\": 0.0, \"impresiones\": 1994.991758, \"facebook\": 3968.048722, \"google\": 0.0, \"correo\": 880.4927508, \"ventas\": 124412.4, \"a\\u00f1o\": 2020, \"mes\": 2, \"correo_sat\": 0.5977081397304972, \"facebook_sat\": 0.7089699265325505, \"google_sat\": 0.38143736439429654, \"impresiones_sat\": 0.5339041386232242, \"radio_sat\": 0.17701220788597288, \"tv_abierta_sat\": 0.0, \"tv_paga_sat\": 0.630759303619668}, {\"fecha\": \"2020-03-01T00:00:00\", \"tv_abierta\": 0.0, \"tv_paga\": 0.0, \"radio\": 7665.077812, \"impresiones\": 1958.606914, \"facebook\": 0.0, \"google\": 6090.961008, \"correo\": 2766.388393, \"ventas\": 122798.0, \"a\\u00f1o\": 2020, \"mes\": 3, \"correo_sat\": 0.763483541141778, \"facebook_sat\": 0.5277985771766943, \"google_sat\": 0.5441530783644289, \"impresiones_sat\": 0.5226737167379061, \"radio_sat\": 0.5524238884275513, \"tv_abierta_sat\": 0.0, \"tv_paga_sat\": 0.4583304807727447}, {\"fecha\": \"2020-03-08T00:00:00\", \"tv_abierta\": 0.0, \"tv_paga\": 0.0, \"radio\": 0.0, \"impresiones\": 0.0, \"facebook\": 0.0, \"google\": 0.0, \"correo\": 0.0, \"ventas\": 67900.8, \"a\\u00f1o\": 2020, \"mes\": 3, \"correo_sat\": 0.19775099831816495, \"facebook_sat\": 0.34164313800173424, \"google_sat\": 0.29682555692560864, \"impresiones_sat\": 0.15526034523092966, \"radio_sat\": 0.16631409964608154, \"tv_abierta_sat\": 0.0, \"tv_paga_sat\": 0.2566691195153626}, {\"fecha\": \"2020-03-15T00:00:00\", \"tv_abierta\": 12883.28206, \"tv_paga\": 0.0, \"radio\": 7304.978619, \"impresiones\": 0.0, \"facebook\": 3927.233823, \"google\": 7529.472315, \"correo\": 2805.070604, \"ventas\": 119092.2, \"a\\u00f1o\": 2020, \"mes\": 3, \"correo_sat\": 0.760580068727203, \"facebook_sat\": 0.6195167310536871, \"google_sat\": 0.5760072629078866, \"impresiones_sat\": 0.0298236159517086, \"radio_sat\": 0.540119364252385, \"tv_abierta_sat\": 0.6763600881010958, \"tv_paga_sat\": 0.1460536087717416}, {\"fecha\": \"2020-03-22T00:00:00\", \"tv_abierta\": 0.0, \"tv_paga\": 14054.04239, \"radio\": 8937.281785, \"impresiones\": 3348.173371, \"facebook\": 4080.522125, \"google\": 6155.984402, \"correo\": 3390.612446, \"ventas\": 134963.3, \"a\\u00f1o\": 2020, \"mes\": 3, \"correo_sat\": 0.8023726700104916, \"facebook_sat\": 0.6887801499262758, \"google_sat\": 0.5982456438946261, \"impresiones_sat\": 0.607517847539223, \"radio_sat\": 0.6136621142323082, \"tv_abierta_sat\": 0.0, \"tv_paga_sat\": 0.555016415908243}, {\"fecha\": \"2020-03-29T00:00:00\", \"tv_abierta\": 0.0, \"tv_paga\": 0.0, \"radio\": 8636.434059, \"impresiones\": 3143.480519, \"facebook\": 0.0, \"google\": 5967.224547, \"correo\": 2499.045277, \"ventas\": 122973.3, \"a\\u00f1o\": 2020, \"mes\": 3, \"correo_sat\": 0.757495867614014, \"facebook_sat\": 0.5023413680342383, \"google_sat\": 0.5981860760150053, \"impresiones_sat\": 0.6307908114409454, \"radio_sat\": 0.6164781799728373, \"tv_abierta_sat\": 0.0, \"tv_paga_sat\": 0.38187889124944235}, {\"fecha\": \"2020-04-05T00:00:00\", \"tv_abierta\": 0.0, \"tv_paga\": 0.0, \"radio\": 0.0, \"impresiones\": 0.0, \"facebook\": 0.0, \"google\": 0.0, \"correo\": 0.0, \"ventas\": 63780.2, \"a\\u00f1o\": 2020, \"mes\": 4, \"correo_sat\": 0.1926474025894508, \"facebook_sat\": 0.31245367797473944, \"google_sat\": 0.34488016396459226, \"impresiones_sat\": 0.22295629823183197, \"radio_sat\": 0.20622680816136862, \"tv_abierta_sat\": 0.0, \"tv_paga_sat\": 0.23431184588382084}, {\"fecha\": \"2020-04-12T00:00:00\", \"tv_abierta\": 15692.36022, \"tv_paga\": 0.0, \"radio\": 9273.745816, \"impresiones\": 2037.212843, \"facebook\": 4263.099627, \"google\": 9270.591896, \"correo\": 4461.708696, \"ventas\": 144472.2, \"a\\u00f1o\": 2020, \"mes\": 4, \"correo_sat\": 0.8344761113904964, \"facebook_sat\": 0.6341565135841184, \"google_sat\": 0.627683541109555, \"impresiones_sat\": 0.4967229105750314, \"radio_sat\": 0.59878708135959, \"tv_abierta_sat\": 0.7179544555062537, \"tv_paga_sat\": 0.13162539055945727}, {\"fecha\": \"2020-04-19T00:00:00\", \"tv_abierta\": 15396.42785, \"tv_paga\": 14535.75093, \"radio\": 0.0, \"impresiones\": 2484.199484, \"facebook\": 5577.108103, \"google\": 8187.659973, \"correo\": 1908.389017, \"ventas\": 141996.3, \"a\\u00f1o\": 2020, \"mes\": 4, \"correo_sat\": 0.7170012243365165, \"facebook_sat\": 0.7365958050965844, \"google_sat\": 0.6577648581847158, \"impresiones_sat\": 0.5672064904285894, \"radio_sat\": 0.1937229289898843, \"tv_abierta_sat\": 0.7140832999680558, \"tv_paga_sat\": 0.5633235024250376}, {\"fecha\": \"2020-04-26T00:00:00\", \"tv_abierta\": 0.0, \"tv_paga\": 11964.92964, \"radio\": 0.0, \"impresiones\": 0.0, \"facebook\": 0.0, \"google\": 0.0, \"correo\": 0.0, \"ventas\": 88186.0, \"a\\u00f1o\": 2020, \"mes\": 4, \"correo_sat\": 0.16209007214852147, \"facebook_sat\": 0.5622216150920204, \"google_sat\": 0.39916713271664656, \"impresiones_sat\": 0.18031917997273145, \"radio_sat\": 0.036527317812144564, \"tv_abierta_sat\": 0.0, \"tv_paga_sat\": 0.6297461894518037}, {\"fecha\": \"2020-05-03T00:00:00\", \"tv_abierta\": 0.0, \"tv_paga\": 0.0, \"radio\": 8243.702704, \"impresiones\": 1476.882597, \"facebook\": 0.0, \"google\": 6150.456161, \"correo\": 2632.056111, \"ventas\": 117351.0, \"a\\u00f1o\": 2020, \"mes\": 5, \"correo_sat\": 0.7486256224924173, \"facebook_sat\": 0.36774901049792524, \"google_sat\": 0.5541096191636548, \"impresiones_sat\": 0.4177006892838187, \"radio_sat\": 0.5644918648330043, \"tv_abierta_sat\": 0.0, \"tv_paga_sat\": 0.4572513534803538}, {\"fecha\": \"2020-05-10T00:00:00\", \"tv_abierta\": 13136.69147, \"tv_paga\": 0.0, \"radio\": 0.0, \"impresiones\": 0.0, \"facebook\": 3714.382926, \"google\": 7839.337274, \"correo\": 0.0, \"ventas\": 108044.6, \"a\\u00f1o\": 2020, \"mes\": 5, \"correo_sat\": 0.1852228757182289, \"facebook_sat\": 0.6148676518572929, \"google_sat\": 0.6296564266952381, \"impresiones_sat\": 0.10755810999848056, \"radio_sat\": 0.17253397271165746, \"tv_abierta_sat\": 0.6806091848277783, \"tv_paga_sat\": 0.2944321705121539}, {\"fecha\": \"2020-05-17T00:00:00\", \"tv_abierta\": 0.0, \"tv_paga\": 11284.96447, \"radio\": 0.0, \"impresiones\": 1585.892989, \"facebook\": 0.0, \"google\": 0.0, \"correo\": 792.9503325, \"ventas\": 100088.4, \"a\\u00f1o\": 2020, \"mes\": 5, \"correo_sat\": 0.47645392091266076, \"facebook_sat\": 0.42568717972168074, \"google_sat\": 0.3671864677930464, \"impresiones_sat\": 0.42887155801711446, \"radio_sat\": 0.032602468637087566, \"tv_abierta_sat\": 0.0, \"tv_paga_sat\": 0.5306415344989098}, {\"fecha\": \"2020-05-24T00:00:00\", \"tv_abierta\": 13109.00641, \"tv_paga\": 0.0, \"radio\": 0.0, \"impresiones\": 2071.882615, \"facebook\": 3989.98853, \"google\": 8025.245275, \"correo\": 1035.941307, \"ventas\": 130389.4, \"a\\u00f1o\": 2020, \"mes\": 5, \"correo_sat\": 0.5527436760324821, \"facebook_sat\": 0.6368610178914106, \"google_sat\": 0.6031983758807771, \"impresiones_sat\": 0.5194055990238354, \"radio_sat\": 0.005417605027606644, \"tv_abierta_sat\": 0.6801504063058145, \"tv_paga_sat\": 0.3315861872118909}, {\"fecha\": \"2020-05-31T00:00:00\", \"tv_abierta\": 0.0, \"tv_paga\": 11863.06111, \"radio\": 7490.513908, \"impresiones\": 3553.770006, \"facebook\": 3793.41635, \"google\": 6152.318871, \"correo\": 3841.391404, \"ventas\": 129975.7, \"a\\u00f1o\": 2020, \"mes\": 5, \"correo_sat\": 0.815471378546478, \"facebook_sat\": 0.6824355379407089, \"google_sat\": 0.6047237529652146, \"impresiones_sat\": 0.6452889742007352, \"radio_sat\": 0.5396320661971467, \"tv_abierta_sat\": 0.0, \"tv_paga_sat\": 0.5649427814842204}, {\"fecha\": \"2020-06-07T00:00:00\", \"tv_abierta\": 14314.89219, \"tv_paga\": 0.0, \"radio\": 0.0, \"impresiones\": 3539.383101, \"facebook\": 0.0, \"google\": 8194.747392, \"correo\": 1769.699305, \"ventas\": 131316.8, \"a\\u00f1o\": 2020, \"mes\": 6, \"correo_sat\": 0.6997030092654394, \"facebook_sat\": 0.49942444094421884, \"google_sat\": 0.6507950040465699, \"impresiones_sat\": 0.6594635689397073, \"radio_sat\": 0.1592811949912179, \"tv_abierta_sat\": 0.6989839079020168, \"tv_paga_sat\": 0.39143260861683354}, {\"fecha\": \"2020-06-14T00:00:00\", \"tv_abierta\": 15168.16422, \"tv_paga\": 12387.54832, \"radio\": 9391.425027, \"impresiones\": 0.0, \"facebook\": 5674.41, \"google\": 9315.044909, \"correo\": 3072.271392, \"ventas\": 147039.0, \"a\\u00f1o\": 2020, \"mes\": 6, \"correo_sat\": 0.7843405336305457, \"facebook_sat\": 0.7134364583035907, \"google_sat\": 0.6860603507302016, \"impresiones_sat\": 0.24549116080595268, \"radio_sat\": 0.6000427957626612, \"tv_abierta_sat\": 0.7110239619959201, \"tv_paga_sat\": 0.5758548044219428}, {\"fecha\": \"2020-06-21T00:00:00\", \"tv_abierta\": 16021.87724, \"tv_paga\": 14834.85764, \"radio\": 10469.13915, \"impresiones\": 3645.978231, \"facebook\": 0.0, \"google\": 9579.184457, \"correo\": 5412.180059, \"ventas\": 176683.4, \"a\\u00f1o\": 2020, \"mes\": 6, \"correo_sat\": 0.864336847318628, \"facebook_sat\": 0.5332718975863868, \"google_sat\": 0.6989580119317667, \"impresiones_sat\": 0.6343255666269436, \"radio_sat\": 0.6528720904389498, \"tv_abierta_sat\": 0.7221434246011537, \"tv_paga_sat\": 0.6654471589848764}, {\"fecha\": \"2020-06-28T00:00:00\", \"tv_abierta\": 0.0, \"tv_paga\": 14473.83948, \"radio\": 0.0, \"impresiones\": 1761.050479, \"facebook\": 3747.945337, \"google\": 0.0, \"correo\": 1357.023569, \"ventas\": 132674.3, \"a\\u00f1o\": 2020, \"mes\": 6, \"correo_sat\": 0.6682571663431301, \"facebook_sat\": 0.6514363042364039, \"google_sat\": 0.4460659725595464, \"impresiones_sat\": 0.5244506728205461, \"radio_sat\": 0.23265233607612842, \"tv_abierta_sat\": 0.0, \"tv_paga_sat\": 0.6881226349747381}, {\"fecha\": \"2020-07-05T00:00:00\", \"tv_abierta\": 0.0, \"tv_paga\": 0.0, \"radio\": 0.0, \"impresiones\": 0.0, \"facebook\": 0.0, \"google\": 0.0, \"correo\": 0.0, \"ventas\": 81065.6, \"a\\u00f1o\": 2020, \"mes\": 7, \"correo_sat\": 0.13330744246045328, \"facebook_sat\": 0.4604545320343961, \"google_sat\": 0.20871229955476633, \"impresiones_sat\": 0.1561689496355316, \"radio_sat\": 0.046715277835379945, \"tv_abierta_sat\": 0.0, \"tv_paga_sat\": 0.5221893740684033}, {\"fecha\": \"2020-07-12T00:00:00\", \"tv_abierta\": 0.0, \"tv_paga\": 0.0, \"radio\": 7475.067101, \"impresiones\": 1421.780827, \"facebook\": 0.0, \"google\": 5970.575767, \"correo\": 3114.418988, \"ventas\": 111824.4, \"a\\u00f1o\": 2020, \"mes\": 7, \"correo_sat\": 0.7786661917564228, \"facebook_sat\": 0.27674960429095674, \"google_sat\": 0.5116485628122662, \"impresiones_sat\": 0.4068969550280249, \"radio_sat\": 0.5405838935635998, \"tv_abierta_sat\": 0.0, \"tv_paga_sat\": 0.32210443981656156}, {\"fecha\": \"2020-07-19T00:00:00\", \"tv_abierta\": 0.0, \"tv_paga\": 0.0, \"radio\": 9729.70782, \"impresiones\": 1712.609546, \"facebook\": 0.0, \"google\": 6254.152304, \"correo\": 4248.714318, \"ventas\": 108866.7, \"a\\u00f1o\": 2020, \"mes\": 7, \"correo_sat\": 0.8347664138024111, \"facebook_sat\": 0.15085231239890345, \"google_sat\": 0.5781856799004611, \"impresiones_sat\": 0.4749150509040782, \"radio_sat\": 0.6312208793190002, \"tv_abierta_sat\": 0.0, \"tv_paga_sat\": 0.13502618824414164}, {\"fecha\": \"2020-07-26T00:00:00\", \"tv_abierta\": 0.0, \"tv_paga\": 0.0, \"radio\": 7911.748222, \"impresiones\": 1663.233815, \"facebook\": 0.0, \"google\": 6214.114461, \"correo\": 4088.58371, \"ventas\": 111609.1, \"a\\u00f1o\": 2020, \"mes\": 7, \"correo_sat\": 0.8330296868832129, \"facebook_sat\": 0.05854430685604971, \"google_sat\": 0.6004658883033828, \"impresiones_sat\": 0.47867008385377996, \"radio_sat\": 0.6023457127510555, \"tv_abierta_sat\": 0.0, \"tv_paga_sat\": 0.0}, {\"fecha\": \"2020-08-02T00:00:00\", \"tv_abierta\": 0.0, \"tv_paga\": 0.0, \"radio\": 0.0, \"impresiones\": 1804.142157, \"facebook\": 0.0, \"google\": 0.0, \"correo\": 902.0759973, \"ventas\": 71603.1, \"a\\u00f1o\": 2020, \"mes\": 8, \"correo_sat\": 0.5827663657985642, \"facebook_sat\": 0.028060438546646076, \"google_sat\": 0.3470283479242923, \"impresiones_sat\": 0.49635466034717346, \"radio_sat\": 0.19667621480101163, \"tv_abierta_sat\": 0.0, \"tv_paga_sat\": 0.0}, {\"fecha\": \"2020-08-09T00:00:00\", \"tv_abierta\": 15624.41527, \"tv_paga\": 0.0, \"radio\": 7510.208381, \"impresiones\": 3816.215997, \"facebook\": 0.0, \"google\": 8780.34302, \"correo\": 3068.817937, \"ventas\": 144521.3, \"a\\u00f1o\": 2020, \"mes\": 8, \"correo_sat\": 0.7807819334050385, \"facebook_sat\": 0.0, \"google_sat\": 0.6170530875225823, \"impresiones_sat\": 0.6580183833409006, \"radio_sat\": 0.5483350829427555, \"tv_abierta_sat\": 0.7170749527463279, \"tv_paga_sat\": 0.0}, {\"fecha\": \"2020-08-16T00:00:00\", \"tv_abierta\": 0.0, \"tv_paga\": 11966.32946, \"radio\": 9014.765424, \"impresiones\": 0.0, \"facebook\": 4176.319216, \"google\": 0.0, \"correo\": 3595.072219, \"ventas\": 111898.7, \"a\\u00f1o\": 2020, \"mes\": 8, \"correo_sat\": 0.8120123364691991, \"facebook_sat\": 0.5986244697954332, \"google_sat\": 0.3564053447998178, \"impresiones_sat\": 0.24425225077828075, \"radio_sat\": 0.6162534995520634, \"tv_abierta_sat\": 0.0, \"tv_paga_sat\": 0.5150322330520913}, {\"fecha\": \"2020-08-23T00:00:00\", \"tv_abierta\": 13876.81188, \"tv_paga\": 0.0, \"radio\": 0.0, \"impresiones\": 1754.620378, \"facebook\": 4710.912699, \"google\": 8319.410358, \"correo\": 3927.086051, \"ventas\": 150129.2, \"a\\u00f1o\": 2020, \"mes\": 8, \"correo_sat\": 0.8261232279609345, \"facebook_sat\": 0.7036836441563583, \"google_sat\": 0.6067743121755541, \"impresiones_sat\": 0.4631571737464438, \"radio_sat\": 0.2055383513658819, \"tv_abierta_sat\": 0.6924040975611176, \"tv_paga_sat\": 0.3447055440097833}, {\"fecha\": \"2020-08-30T00:00:00\", \"tv_abierta\": 0.0, \"tv_paga\": 10145.59881, \"radio\": 0.0, \"impresiones\": 0.0, \"facebook\": 0.0, \"google\": 0.0, \"correo\": 0.0, \"ventas\": 86062.7, \"a\\u00f1o\": 2020, \"mes\": 8, \"correo_sat\": 0.26627661451576534, \"facebook_sat\": 0.5243835800581089, \"google_sat\": 0.3530268368853175, \"impresiones_sat\": 0.12652299675243106, \"radio_sat\": 0.0401374732819806, \"tv_abierta_sat\": 0.0, \"tv_paga_sat\": 0.5372432040548121}, {\"fecha\": \"2020-09-06T00:00:00\", \"tv_abierta\": 0.0, \"tv_paga\": 0.0, \"radio\": 0.0, \"impresiones\": 0.0, \"facebook\": 0.0, \"google\": 0.0, \"correo\": 0.0, \"ventas\": 59912.7, \"a\\u00f1o\": 2020, \"mes\": 9, \"correo_sat\": 0.026863713819415366, \"facebook_sat\": 0.33856900586624933, \"google_sat\": 0.14563457269410826, \"impresiones_sat\": 0.02365243844525301, \"radio_sat\": 0.005921332315880515, \"tv_abierta_sat\": 0.0, \"tv_paga_sat\": 0.3651009918834184}, {\"fecha\": \"2020-09-13T00:00:00\", \"tv_abierta\": 0.0, \"tv_paga\": 0.0, \"radio\": 0.0, \"impresiones\": 1365.837494, \"facebook\": 0.0, \"google\": 0.0, \"correo\": 682.9187471, \"ventas\": 82390.6, \"a\\u00f1o\": 2020, \"mes\": 9, \"correo_sat\": 0.4352989924913038, \"facebook_sat\": 0.19201543230294035, \"google_sat\": 0.056850897489154076, \"impresiones_sat\": 0.38771524520240147, \"radio_sat\": 0.0, \"tv_abierta_sat\": 0.0, \"tv_paga_sat\": 0.18093995699810395}, {\"fecha\": \"2020-09-20T00:00:00\", \"tv_abierta\": 0.0, \"tv_paga\": 0.0, \"radio\": 0.0, \"impresiones\": 0.0, \"facebook\": 0.0, \"google\": 0.0, \"correo\": 0.0, \"ventas\": 55619.5, \"a\\u00f1o\": 2020, \"mes\": 9, \"correo_sat\": 0.055476469912602175, \"facebook_sat\": 0.09936888717382876, \"google_sat\": 0.0, \"impresiones_sat\": 0.09616016684894099, \"radio_sat\": 0.0, \"tv_abierta_sat\": 0.0, \"tv_paga_sat\": 0.09863062402947181}, {\"fecha\": \"2020-09-27T00:00:00\", \"tv_abierta\": 0.0, \"tv_paga\": 0.0, \"radio\": 7106.572773, \"impresiones\": 2723.619883, \"facebook\": 0.0, \"google\": 5870.165393, \"correo\": 2712.777492, \"ventas\": 97972.6, \"a\\u00f1o\": 2020, \"mes\": 9, \"correo_sat\": 0.7536169857990334, \"facebook_sat\": 0.03501760133892491, \"google_sat\": 0.4902764377601839, \"impresiones_sat\": 0.5600217169777394, \"radio_sat\": 0.5265360967761441, \"tv_abierta_sat\": 0.0, \"tv_paga_sat\": 0.0}, {\"fecha\": \"2020-10-04T00:00:00\", \"tv_abierta\": 15898.7683, \"tv_paga\": 0.0, \"radio\": 9061.042594, \"impresiones\": 2082.819395, \"facebook\": 0.0, \"google\": 8900.024276, \"correo\": 4296.997882, \"ventas\": 146738.1, \"a\\u00f1o\": 2020, \"mes\": 10, \"correo_sat\": 0.8352965327017675, \"facebook_sat\": 0.0, \"google_sat\": 0.6426566520511383, \"impresiones_sat\": 0.5399420691689482, \"radio_sat\": 0.6150428634968146, \"tv_abierta_sat\": 0.7205930492357344, \"tv_paga_sat\": 0.0}, {\"fecha\": \"2020-10-11T00:00:00\", \"tv_abierta\": 0.0, \"tv_paga\": 11957.77199, \"radio\": 0.0, \"impresiones\": 2208.985917, \"facebook\": 3537.273494, \"google\": 0.0, \"correo\": 1641.682022, \"ventas\": 115983.5, \"a\\u00f1o\": 2020, \"mes\": 10, \"correo_sat\": 0.6909487682958964, \"facebook_sat\": 0.5581513950628805, \"google_sat\": 0.38873792161005094, \"impresiones_sat\": 0.5485553934796059, \"radio_sat\": 0.20523551717713936, \"tv_abierta_sat\": 0.0, \"tv_paga_sat\": 0.5148535465692844}, {\"fecha\": \"2020-10-18T00:00:00\", \"tv_abierta\": 14060.05213, \"tv_paga\": 0.0, \"radio\": 0.0, \"impresiones\": 3223.639438, \"facebook\": 0.0, \"google\": 8215.30662, \"correo\": 1611.828234, \"ventas\": 133681.2, \"a\\u00f1o\": 2020, \"mes\": 10, \"correo_sat\": 0.6650472440350822, \"facebook_sat\": 0.36967145311313604, \"google_sat\": 0.6110455552989743, \"impresiones_sat\": 0.6281916615764377, \"radio_sat\": 0.04006604586135407, \"tv_abierta_sat\": 0.695190979807859, \"tv_paga_sat\": 0.3445439682293659}, {\"fecha\": \"2020-10-25T00:00:00\", \"tv_abierta\": 13322.51759, \"tv_paga\": 14461.82632, \"radio\": 9267.803205, \"impresiones\": 0.0, \"facebook\": 4829.178111, \"google\": 8315.625527, \"correo\": 3720.832981, \"ventas\": 144281.4, \"a\\u00f1o\": 2020, \"mes\": 10, \"correo_sat\": 0.8127601249395415, \"facebook_sat\": 0.6663175601434171, \"google_sat\": 0.6555334488663733, \"impresiones_sat\": 0.22110408532845904, \"radio_sat\": 0.592881494233629, \"tv_abierta_sat\": 0.6836548332457929, \"tv_paga_sat\": 0.6068926371620186}, {\"fecha\": \"2020-11-01T00:00:00\", \"tv_abierta\": 0.0, \"tv_paga\": 11244.5084, \"radio\": 7910.340394, \"impresiones\": 0.0, \"facebook\": 3537.216126, \"google\": 0.0, \"correo\": 2280.437958, \"ventas\": 111728.4, \"a\\u00f1o\": 2020, \"mes\": 11, \"correo_sat\": 0.7435175882131586, \"facebook_sat\": 0.6865479400368903, \"google_sat\": 0.39399404333440224, \"impresiones_sat\": 0.04536951746138413, \"radio_sat\": 0.5955158787980158, \"tv_abierta_sat\": 0.0, \"tv_paga_sat\": 0.638026340127661}, {\"fecha\": \"2020-11-08T00:00:00\", \"tv_abierta\": 0.0, \"tv_paga\": 0.0, \"radio\": 0.0, \"impresiones\": 0.0, \"facebook\": 0.0, \"google\": 0.0, \"correo\": 0.0, \"ventas\": 63405.6, \"a\\u00f1o\": 2020, \"mes\": 11, \"correo_sat\": 0.18125761586352473, \"facebook_sat\": 0.5041849381717618, \"google_sat\": 0.18692924527064209, \"impresiones_sat\": 0.007795226959007399, \"radio_sat\": 0.19222266462815613, \"tv_abierta_sat\": 0.0, \"tv_paga_sat\": 0.4472678741179379}, {\"fecha\": \"2020-11-15T00:00:00\", \"tv_abierta\": 0.0, \"tv_paga\": 0.0, \"radio\": 0.0, \"impresiones\": 1276.15208, \"facebook\": 0.0, \"google\": 0.0, \"correo\": 638.0760399, \"ventas\": 80953.8, \"a\\u00f1o\": 2020, \"mes\": 11, \"correo_sat\": 0.42371102103769964, \"facebook_sat\": 0.3207016144996874, \"google_sat\": 0.05682650349815588, \"impresiones_sat\": 0.3707715775445448, \"radio_sat\": 0.03703763970127346, \"tv_abierta_sat\": 0.0, \"tv_paga_sat\": 0.28612951721387}, {\"fecha\": \"2020-11-22T00:00:00\", \"tv_abierta\": 0.0, \"tv_paga\": 0.0, \"radio\": 7093.56714, \"impresiones\": 1240.900281, \"facebook\": 0.0, \"google\": 0.0, \"correo\": 1889.296564, \"ventas\": 92686.6, \"a\\u00f1o\": 2020, \"mes\": 11, \"correo_sat\": 0.685843297676332, \"facebook_sat\": 0.17118012181395567, \"google_sat\": 0.0, \"impresiones_sat\": 0.40142077578916374, \"radio_sat\": 0.5272504758786448, \"tv_abierta_sat\": 0.0, \"tv_paga_sat\": 0.10815823174643734}, {\"fecha\": \"2020-11-29T00:00:00\", \"tv_abierta\": 0.0, \"tv_paga\": 0.0, \"radio\": 0.0, \"impresiones\": 0.0, \"facebook\": 0.0, \"google\": 0.0, \"correo\": 0.0, \"ventas\": 45323.3, \"a\\u00f1o\": 2020, \"mes\": 11, \"correo_sat\": 0.14286866504985063, \"facebook_sat\": 0.08749786823865321, \"google_sat\": 0.0, \"impresiones_sat\": 0.10126390901705075, \"radio_sat\": 0.1521244212515777, \"tv_abierta_sat\": 0.0, \"tv_paga_sat\": 0.0}, {\"fecha\": \"2020-12-06T00:00:00\", \"tv_abierta\": 0.0, \"tv_paga\": 0.0, \"radio\": 9417.46947, \"impresiones\": 1383.775862, \"facebook\": 0.0, \"google\": 6066.159761, \"correo\": 3496.745267, \"ventas\": 109826.2, \"a\\u00f1o\": 2020, \"mes\": 12, \"correo_sat\": 0.7979640120133297, \"facebook_sat\": 0.026524580997122987, \"google_sat\": 0.49848595047831934, \"impresiones_sat\": 0.3963500218060473, \"radio_sat\": 0.600434787818647, \"tv_abierta_sat\": 0.0, \"tv_paga_sat\": 0.0}, {\"fecha\": \"2020-12-13T00:00:00\", \"tv_abierta\": 0.0, \"tv_paga\": 0.0, \"radio\": 0.0, \"impresiones\": 2129.987458, \"facebook\": 0.0, \"google\": 0.0, \"correo\": 1008.778784, \"ventas\": 84476.4, \"a\\u00f1o\": 2020, \"mes\": 12, \"correo_sat\": 0.5897337869476899, \"facebook_sat\": 0.0, \"google_sat\": 0.2600728119482415, \"impresiones_sat\": 0.5219511524107404, \"radio_sat\": 0.19541980500757136, \"tv_abierta_sat\": 0.0, \"tv_paga_sat\": 0.0}, {\"fecha\": \"2020-12-20T00:00:00\", \"tv_abierta\": 0.0, \"tv_paga\": 0.0, \"radio\": 7539.207439, \"impresiones\": 0.0, \"facebook\": 0.0, \"google\": 5734.143338, \"correo\": 1463.49831, \"ventas\": 76170.5, \"a\\u00f1o\": 2020, \"mes\": 12, \"correo_sat\": 0.6373451831308065, \"facebook_sat\": 0.0, \"google_sat\": 0.5154690615005292, \"impresiones_sat\": 0.15495189257353362, \"radio_sat\": 0.5492033854964754, \"tv_abierta_sat\": 0.0, \"tv_paga_sat\": 0.0}, {\"fecha\": \"2020-12-27T00:00:00\", \"tv_abierta\": 0.0, \"tv_paga\": 0.0, \"radio\": 0.0, \"impresiones\": 1137.529745, \"facebook\": 0.0, \"google\": 0.0, \"correo\": 516.7042719, \"ventas\": 76100.2, \"a\\u00f1o\": 2020, \"mes\": 12, \"correo_sat\": 0.41724723468372427, \"facebook_sat\": 0.0, \"google_sat\": 0.27336072069364814, \"impresiones_sat\": 0.3568787814505536, \"radio_sat\": 0.16451714459488478, \"tv_abierta_sat\": 0.0, \"tv_paga_sat\": 0.0}, {\"fecha\": \"2021-01-03T00:00:00\", \"tv_abierta\": 0.0, \"tv_paga\": 0.0, \"radio\": 0.0, \"impresiones\": 997.9487307, \"facebook\": 0.0, \"google\": 0.0, \"correo\": 498.9743654, \"ventas\": 78498.8, \"a\\u00f1o\": 2021, \"mes\": 1, \"correo_sat\": 0.381318746529685, \"facebook_sat\": 0.0, \"google_sat\": 0.1051365210991152, \"impresiones_sat\": 0.3561259549191704, \"radio_sat\": 0.029899612558202605, \"tv_abierta_sat\": 0.0, \"tv_paga_sat\": 0.0}, {\"fecha\": \"2021-01-10T00:00:00\", \"tv_abierta\": 0.0, \"tv_paga\": 0.0, \"radio\": 0.0, \"impresiones\": 1311.634663, \"facebook\": 0.0, \"google\": 0.0, \"correo\": 558.8220688, \"ventas\": 71046.1, \"a\\u00f1o\": 2021, \"mes\": 1, \"correo_sat\": 0.40341420021139646, \"facebook_sat\": 0.0, \"google_sat\": 0.03988911148973117, \"impresiones_sat\": 0.41081429180459395, \"radio_sat\": 0.004956919063237415, \"tv_abierta_sat\": 0.0, \"tv_paga_sat\": 0.0}, {\"fecha\": \"2021-01-17T00:00:00\", \"tv_abierta\": 0.0, \"tv_paga\": 0.0, \"radio\": 0.0, \"impresiones\": 0.0, \"facebook\": 0.0, \"google\": 0.0, \"correo\": 987.6134821, \"ventas\": 84474.0, \"a\\u00f1o\": 2021, \"mes\": 1, \"correo_sat\": 0.5377910704502832, \"facebook_sat\": 0.0, \"google_sat\": 0.0, \"impresiones_sat\": 0.10475874731738974, \"radio_sat\": 0.0, \"tv_abierta_sat\": 0.0, \"tv_paga_sat\": 0.0}, {\"fecha\": \"2021-01-24T00:00:00\", \"tv_abierta\": 0.0, \"tv_paga\": 0.0, \"radio\": 0.0, \"impresiones\": 0.0, \"facebook\": 0.0, \"google\": 0.0, \"correo\": 721.6060053, \"ventas\": 78854.8, \"a\\u00f1o\": 2021, \"mes\": 1, \"correo_sat\": 0.4740431702339648, \"facebook_sat\": 0.0, \"google_sat\": 0.0, \"impresiones_sat\": 0.01928141554923009, \"radio_sat\": 0.0, \"tv_abierta_sat\": 0.0, \"tv_paga_sat\": 0.0}, {\"fecha\": \"2021-01-31T00:00:00\", \"tv_abierta\": 0.0, \"tv_paga\": 0.0, \"radio\": 7253.389124, \"impresiones\": 0.0, \"facebook\": 0.0, \"google\": 0.0, \"correo\": 2617.615821, \"ventas\": 99924.2, \"a\\u00f1o\": 2021, \"mes\": 1, \"correo_sat\": 0.7509914396964026, \"facebook_sat\": 0.0, \"google_sat\": 0.0, \"impresiones_sat\": 0.003222632112548098, \"radio_sat\": 0.5316309369998603, \"tv_abierta_sat\": 0.0, \"tv_paga_sat\": 0.0}, {\"fecha\": \"2021-02-07T00:00:00\", \"tv_abierta\": 0.0, \"tv_paga\": 0.0, \"radio\": 7444.538388, \"impresiones\": 0.0, \"facebook\": 0.0, \"google\": 6067.148986, \"correo\": 2686.527754, \"ventas\": 113229.5, \"a\\u00f1o\": 2021, \"mes\": 2, \"correo_sat\": 0.7649849786747849, \"facebook_sat\": 0.0, \"google_sat\": 0.49852671496368195, \"impresiones_sat\": 0.0004813969373245733, \"radio_sat\": 0.5741857291158093, \"tv_abierta_sat\": 0.0, \"tv_paga_sat\": 0.0}, {\"fecha\": \"2021-02-14T00:00:00\", \"tv_abierta\": 16364.60875, \"tv_paga\": 0.0, \"radio\": 10125.7237, \"impresiones\": 0.0, \"facebook\": 0.0, \"google\": 9401.227475, \"correo\": 5658.230414, \"ventas\": 159772.7, \"a\\u00f1o\": 2021, \"mes\": 2, \"correo_sat\": 0.868750004804658, \"facebook_sat\": 0.0, \"google_sat\": 0.6542145365106735, \"impresiones_sat\": 0.0, \"radio_sat\": 0.6431760580711342, \"tv_abierta_sat\": 0.7263703755687807, \"tv_paga_sat\": 0.0}, {\"fecha\": \"2021-02-21T00:00:00\", \"tv_abierta\": 15476.37129, \"tv_paga\": 13228.70309, \"radio\": 0.0, \"impresiones\": 2726.284817, \"facebook\": 4798.159501, \"google\": 8142.709867, \"correo\": 1122.975551, \"ventas\": 142594.8, \"a\\u00f1o\": 2021, \"mes\": 2, \"correo_sat\": 0.6389798436287802, \"facebook_sat\": 0.6314725140505583, \"google_sat\": 0.6670272174142836, \"impresiones_sat\": 0.5567966530797328, \"radio_sat\": 0.2256093299821118, \"tv_abierta_sat\": 0.7151394946536229, \"tv_paga_sat\": 0.5400239769680397}, {\"fecha\": \"2021-02-28T00:00:00\", \"tv_abierta\": 0.0, \"tv_paga\": 11484.21997, \"radio\": 7430.871738, \"impresiones\": 2940.832964, \"facebook\": 0.0, \"google\": 0.0, \"correo\": 3485.438674, \"ventas\": 128860.5, \"a\\u00f1o\": 2021, \"mes\": 2, \"correo_sat\": 0.8023424684796743, \"facebook_sat\": 0.44306048103938284, \"google_sat\": 0.4146527508650909, \"impresiones_sat\": 0.6103251696641138, \"radio_sat\": 0.5473385473375797, \"tv_abierta_sat\": 0.0, \"tv_paga_sat\": 0.6154926996512052}, {\"fecha\": \"2021-03-07T00:00:00\", \"tv_abierta\": 0.0, \"tv_paga\": 0.0, \"radio\": 0.0, \"impresiones\": 0.0, \"facebook\": 0.0, \"google\": 0.0, \"correo\": 1472.433004, \"ventas\": 91318.6, \"a\\u00f1o\": 2021, \"mes\": 3, \"correo_sat\": 0.6630447567290927, \"facebook_sat\": 0.26972074702814614, \"google_sat\": 0.19025379352338695, \"impresiones_sat\": 0.20832832850976143, \"radio_sat\": 0.162928088850185, \"tv_abierta_sat\": 0.0, \"tv_paga_sat\": 0.44223880699430695}, {\"fecha\": \"2021-03-14T00:00:00\", \"tv_abierta\": 0.0, \"tv_paga\": 0.0, \"radio\": 6950.878411, \"impresiones\": 1652.984214, \"facebook\": 0.0, \"google\": 6287.798943, \"correo\": 4383.311693, \"ventas\": 109533.9, \"a\\u00f1o\": 2021, \"mes\": 3, \"correo_sat\": 0.8356652244590238, \"facebook_sat\": 0.1463738551497489, \"google_sat\": 0.5213652802230409, \"impresiones_sat\": 0.4462672158954959, \"radio_sat\": 0.5278804075294821, \"tv_abierta_sat\": 0.0, \"tv_paga_sat\": 0.2819879393188136}, {\"fecha\": \"2021-03-21T00:00:00\", \"tv_abierta\": 0.0, \"tv_paga\": 0.0, \"radio\": 0.0, \"impresiones\": 1669.733555, \"facebook\": 0.0, \"google\": 0.0, \"correo\": 638.8793243, \"ventas\": 85742.3, \"a\\u00f1o\": 2021, \"mes\": 3, \"correo_sat\": 0.525550929203422, \"facebook_sat\": 0.07373936956838044, \"google_sat\": 0.2670376228731221, \"impresiones_sat\": 0.47502072405919804, \"radio_sat\": 0.15305866164433038, \"tv_abierta_sat\": 0.0, \"tv_paga_sat\": 0.11020984595139476}, {\"fecha\": \"2021-03-28T00:00:00\", \"tv_abierta\": 15168.61005, \"tv_paga\": 0.0, \"radio\": 8822.850446, \"impresiones\": 2505.880692, \"facebook\": 0.0, \"google\": 9438.045438, \"correo\": 5345.957802, \"ventas\": 149580.5, \"a\\u00f1o\": 2021, \"mes\": 3, \"correo_sat\": 0.8592211091084632, \"facebook_sat\": 0.035643016902715645, \"google_sat\": 0.6262088335885381, \"impresiones_sat\": 0.5664601071963796, \"radio_sat\": 0.584904867075161, \"tv_abierta_sat\": 0.7110300011103704, \"tv_paga_sat\": 0.0}, {\"fecha\": \"2021-04-04T00:00:00\", \"tv_abierta\": 0.0, \"tv_paga\": 16677.10789, \"radio\": 10839.38641, \"impresiones\": 0.0, \"facebook\": 4164.390309, \"google\": 6391.030591, \"correo\": 3365.503286, \"ventas\": 135432.1, \"a\\u00f1o\": 2021, \"mes\": 4, \"correo_sat\": 0.8097158646545237, \"facebook_sat\": 0.5979369969575877, \"google_sat\": 0.6211559679163738, \"impresiones_sat\": 0.17988679569839144, \"radio_sat\": 0.658000882172883, \"tv_abierta_sat\": 0.0, \"tv_paga_sat\": 0.5967850550224124}, {\"fecha\": \"2021-04-11T00:00:00\", \"tv_abierta\": 14865.70462, \"tv_paga\": 0.0, \"radio\": 0.0, \"impresiones\": 0.0, \"facebook\": 0.0, \"google\": 8520.496768, \"correo\": 1830.864119, \"ventas\": 138670.8, \"a\\u00f1o\": 2021, \"mes\": 4, \"correo_sat\": 0.7046846550791425, \"facebook_sat\": 0.4084412564866214, \"google_sat\": 0.6621394960233353, \"impresiones_sat\": 0.03554288700911889, \"radio_sat\": 0.23677554977399706, \"tv_abierta_sat\": 0.7068679004803818, \"tv_paga_sat\": 0.4230039356730862}, {\"fecha\": \"2021-04-18T00:00:00\", \"tv_abierta\": 0.0, \"tv_paga\": 13247.7026, \"radio\": 9897.128235, \"impresiones\": 0.0, \"facebook\": 4173.917215, \"google\": 7127.131408, \"correo\": 4283.52, \"ventas\": 138549.2, \"a\\u00f1o\": 2021, \"mes\": 4, \"correo_sat\": 0.8334705926477359, \"facebook_sat\": 0.6442710759194671, \"google_sat\": 0.6504510944369497, \"impresiones_sat\": 0.006052919133966313, \"radio_sat\": 0.6152254316128278, \"tv_abierta_sat\": 0.0, \"tv_paga_sat\": 0.606119680667152}, {\"fecha\": \"2021-04-25T00:00:00\", \"tv_abierta\": 0.0, \"tv_paga\": 0.0, \"radio\": 0.0, \"impresiones\": 2007.339684, \"facebook\": 0.0, \"google\": 0.0, \"correo\": 1003.669842, \"ventas\": 108952.2, \"a\\u00f1o\": 2021, \"mes\": 4, \"correo_sat\": 0.6019308750048309, \"facebook_sat\": 0.45677345157004723, \"google_sat\": 0.38794654741237644, \"impresiones_sat\": 0.4807685341933907, \"radio_sat\": 0.20476589178507038, \"tv_abierta_sat\": 0.0, \"tv_paga_sat\": 0.43253622544938236}, {\"fecha\": \"2021-05-02T00:00:00\", \"tv_abierta\": 0.0, \"tv_paga\": 0.0, \"radio\": 0.0, \"impresiones\": 1282.629351, \"facebook\": 0.0, \"google\": 0.0, \"correo\": 494.8177039, \"ventas\": 78544.0, \"a\\u00f1o\": 2021, \"mes\": 5, \"correo_sat\": 0.4020867003200848, \"facebook_sat\": 0.2807734276213367, \"google_sat\": 0.1720243730858181, \"impresiones_sat\": 0.4274138655064251, \"radio_sat\": 0.03888720641753305, \"tv_abierta_sat\": 0.0, \"tv_paga_sat\": 0.22387808148102703}, {\"fecha\": \"2021-05-09T00:00:00\", \"tv_abierta\": 0.0, \"tv_paga\": 0.0, \"radio\": 0.0, \"impresiones\": 1887.83627, \"facebook\": 0.0, \"google\": 0.0, \"correo\": 943.922958, \"ventas\": 74055.4, \"a\\u00f1o\": 2021, \"mes\": 5, \"correo_sat\": 0.5269710546282318, \"facebook_sat\": 0.1534339720063186, \"google_sat\": 0.04910349882375366, \"impresiones_sat\": 0.4988349194914609, \"radio_sat\": 0.006497145122619636, \"tv_abierta_sat\": 0.0, \"tv_paga_sat\": 0.1250176068497422}, {\"fecha\": \"2021-05-16T00:00:00\", \"tv_abierta\": 0.0, \"tv_paga\": 0.0, \"radio\": 6421.189002, \"impresiones\": 0.0, \"facebook\": 0.0, \"google\": 0.0, \"correo\": 2209.41349, \"ventas\": 77052.6, \"a\\u00f1o\": 2021, \"mes\": 5, \"correo_sat\": 0.7200800238974054, \"facebook_sat\": 0.0647671962293482, \"google_sat\": 0.0, \"impresiones_sat\": 0.14327255982103398, \"radio_sat\": 0.5012068522073019, \"tv_abierta_sat\": 0.0, \"tv_paga_sat\": 0.0}, {\"fecha\": \"2021-05-23T00:00:00\", \"tv_abierta\": 0.0, \"tv_paga\": 0.0, \"radio\": 7855.985497, \"impresiones\": 2010.631305, \"facebook\": 0.0, \"google\": 6102.639384, \"correo\": 2613.370487, \"ventas\": 108884.1, \"a\\u00f1o\": 2021, \"mes\": 5, \"correo_sat\": 0.7583833246369418, \"facebook_sat\": 0.031150296718193055, \"google_sat\": 0.49998485021437006, \"impresiones_sat\": 0.4883909004926755, \"radio_sat\": 0.5819012297452196, \"tv_abierta_sat\": 0.0, \"tv_paga_sat\": 0.0}, {\"fecha\": \"2021-05-30T00:00:00\", \"tv_abierta\": 0.0, \"tv_paga\": 0.0, \"radio\": 0.0, \"impresiones\": 1164.358039, \"facebook\": 0.0, \"google\": 0.0, \"correo\": 582.1825654, \"ventas\": 77156.3, \"a\\u00f1o\": 2021, \"mes\": 5, \"correo_sat\": 0.47235567869141637, \"facebook_sat\": 0.0, \"google_sat\": 0.2612282368910196, \"impresiones_sat\": 0.41065993594906564, \"radio_sat\": 0.18364202929293086, \"tv_abierta_sat\": 0.0, \"tv_paga_sat\": 0.0}, {\"fecha\": \"2021-06-06T00:00:00\", \"tv_abierta\": 0.0, \"tv_paga\": 0.0, \"radio\": 7576.636484, \"impresiones\": 1832.587119, \"facebook\": 0.0, \"google\": 6164.125202, \"correo\": 3888.607246, \"ventas\": 105817.2, \"a\\u00f1o\": 2021, \"mes\": 6, \"correo_sat\": 0.816393006756325, \"facebook_sat\": 0.0, \"google_sat\": 0.5316275994538857, \"impresiones_sat\": 0.49017836263595166, \"radio_sat\": 0.5499573883780954, \"tv_abierta_sat\": 0.0, \"tv_paga_sat\": 0.0}, {\"fecha\": \"2021-06-13T00:00:00\", \"tv_abierta\": 0.0, \"tv_paga\": 0.0, \"radio\": 8016.903347, \"impresiones\": 1772.386963, \"facebook\": 3392.961893, \"google\": 6222.548234, \"correo\": 4122.308856, \"ventas\": 112185.8, \"a\\u00f1o\": 2021, \"mes\": 6, \"correo_sat\": 0.8327972337057958, \"facebook_sat\": 0.5478555542346998, \"google_sat\": 0.5869413656384421, \"impresiones_sat\": 0.494479227026105, \"radio_sat\": 0.5920659823836216, \"tv_abierta_sat\": 0.0, \"tv_paga_sat\": 0.0}, {\"fecha\": \"2021-06-20T00:00:00\", \"tv_abierta\": 14544.23175, \"tv_paga\": 0.0, \"radio\": 0.0, \"impresiones\": 2621.487855, \"facebook\": 3853.011002, \"google\": 8223.83163, \"correo\": 1396.107744, \"ventas\": 127897.0, \"a\\u00f1o\": 2021, \"mes\": 6, \"correo_sat\": 0.6612716202213557, \"facebook_sat\": 0.6596927866241625, \"google_sat\": 0.6471853079572063, \"impresiones_sat\": 0.5784775560673585, \"radio_sat\": 0.18946074418592368, \"tv_abierta_sat\": 0.7023174917806723, \"tv_paga_sat\": 0.0}, {\"fecha\": \"2021-06-27T00:00:00\", \"tv_abierta\": 0.0, \"tv_paga\": 11158.63018, \"radio\": 0.0, \"impresiones\": 1326.37852, \"facebook\": 3409.399095, \"google\": 0.0, \"correo\": 704.2579913, \"ventas\": 99232.3, \"a\\u00f1o\": 2021, \"mes\": 6, \"correo_sat\": 0.4850699311840617, \"facebook_sat\": 0.6792352397892504, \"google_sat\": 0.39344735935937586, \"impresiones_sat\": 0.45701130727960704, \"radio_sat\": 0.03640497971517058, \"tv_abierta_sat\": 0.0, \"tv_paga_sat\": 0.4975658783349282}, {\"fecha\": \"2021-07-04T00:00:00\", \"tv_abierta\": 0.0, \"tv_paga\": 0.0, \"radio\": 0.0, \"impresiones\": 0.0, \"facebook\": 0.0, \"google\": 0.0, \"correo\": 2427.395245, \"ventas\": 97818.3, \"a\\u00f1o\": 2021, \"mes\": 7, \"correo_sat\": 0.7371701456352672, \"facebook_sat\": 0.4957426067856997, \"google_sat\": 0.1759958119262565, \"impresiones_sat\": 0.12383556960689328, \"radio_sat\": 0.005269342178897362, \"tv_abierta_sat\": 0.0, \"tv_paga_sat\": 0.32909573604224013}, {\"fecha\": \"2021-07-11T00:00:00\", \"tv_abierta\": 12197.05028, \"tv_paga\": 0.0, \"radio\": 0.0, \"impresiones\": 0.0, \"facebook\": 0.0, \"google\": 7075.124136, \"correo\": 914.0073081, \"ventas\": 115706.2, \"a\\u00f1o\": 2021, \"mes\": 7, \"correo_sat\": 0.5541984788001701, \"facebook_sat\": 0.31338968962839214, \"google_sat\": 0.5493201001443936, \"impresiones_sat\": 0.023088029812330272, \"radio_sat\": 0.0, \"tv_abierta_sat\": 0.6642647149640972, \"tv_paga_sat\": 0.19547509583015485}, {\"fecha\": \"2021-07-18T00:00:00\", \"tv_abierta\": 13803.53923, \"tv_paga\": 0.0, \"radio\": 0.0, \"impresiones\": 0.0, \"facebook\": 0.0, \"google\": 7551.310281, \"correo\": 1372.44336, \"ventas\": 122945.4, \"a\\u00f1o\": 2021, \"mes\": 7, \"correo_sat\": 0.6212270349286959, \"facebook_sat\": 0.17485400746496838, \"google_sat\": 0.6222502031727571, \"impresiones_sat\": 0.0038465800517110574, \"radio_sat\": 0.0, \"tv_abierta_sat\": 0.6912753857131547, \"tv_paga_sat\": 0.1074209239243716}, {\"fecha\": \"2021-07-25T00:00:00\", \"tv_abierta\": 0.0, \"tv_paga\": 13014.14243, \"radio\": 0.0, \"impresiones\": 1162.016005, \"facebook\": 0.0, \"google\": 0.0, \"correo\": 1145.281694, \"ventas\": 97459.0, \"a\\u00f1o\": 2021, \"mes\": 7, \"correo_sat\": 0.5858697777930426, \"facebook_sat\": 0.0793996576111047, \"google_sat\": 0.36808901783536807, \"impresiones_sat\": 0.3489397725386053, \"radio_sat\": 0.0, \"tv_abierta_sat\": 0.0, \"tv_paga_sat\": 0.5359595274808775}, {\"fecha\": \"2021-08-01T00:00:00\", \"tv_abierta\": 0.0, \"tv_paga\": 0.0, \"radio\": 7698.337301, \"impresiones\": 2366.34938, \"facebook\": 0.0, \"google\": 0.0, \"correo\": 4718.478772, \"ventas\": 119184.1, \"a\\u00f1o\": 2021, \"mes\": 8, \"correo_sat\": 0.8442457291507465, \"facebook_sat\": 0.025590645019133784, \"google_sat\": 0.1708014784140264, \"impresiones_sat\": 0.5413695444941642, \"radio_sat\": 0.5464230322295763, \"tv_abierta_sat\": 0.0, \"tv_paga_sat\": 0.36390517770559144}, {\"fecha\": \"2021-08-08T00:00:00\", \"tv_abierta\": 0.0, \"tv_paga\": 0.0, \"radio\": 7021.523533, \"impresiones\": 1673.722517, \"facebook\": 0.0, \"google\": 5909.438545, \"correo\": 2869.860962, \"ventas\": 109834.0, \"a\\u00f1o\": 2021, \"mes\": 8, \"correo_sat\": 0.7847202758052978, \"facebook_sat\": 0.0, \"google_sat\": 0.505683471800453, \"impresiones_sat\": 0.4922808610556914, \"radio_sat\": 0.5639850026174048, \"tv_abierta_sat\": 0.0, \"tv_paga_sat\": 0.22080257036890835}, {\"fecha\": \"2021-08-15T00:00:00\", \"tv_abierta\": 12035.72938, \"tv_paga\": 0.0, \"radio\": 0.0, \"impresiones\": 0.0, \"facebook\": 3519.762547, \"google\": 6680.478226, \"correo\": 0.0, \"ventas\": 89447.4, \"a\\u00f1o\": 2021, \"mes\": 8, \"correo_sat\": 0.21777191177843558, \"facebook_sat\": 0.5569271506054067, \"google_sat\": 0.5896634570430551, \"impresiones_sat\": 0.14008433596255482, \"radio_sat\": 0.17291653594295994, \"tv_abierta_sat\": 0.6612888964615495, \"tv_paga_sat\": 0.12308480653083875}, {\"fecha\": \"2021-08-22T00:00:00\", \"tv_abierta\": 18164.39087, \"tv_paga\": 12513.84607, \"radio\": 0.0, \"impresiones\": 3414.316127, \"facebook\": 0.0, \"google\": 8429.301658, \"correo\": 1707.158063, \"ventas\": 131314.9, \"a\\u00f1o\": 2021, \"mes\": 8, \"correo_sat\": 0.6602408063464942, \"facebook_sat\": 0.36851582158355034, \"google_sat\": 0.653899123045955, \"impresiones_sat\": 0.6154915236066942, \"radio_sat\": 0.03268701535829858, \"tv_abierta_sat\": 0.7466125658830505, \"tv_paga_sat\": 0.5261974746336736}, {\"fecha\": \"2021-08-29T00:00:00\", \"tv_abierta\": 14159.23954, \"tv_paga\": 12451.42384, \"radio\": 0.0, \"impresiones\": 3275.084482, \"facebook\": 4305.628266, \"google\": 8685.538107, \"correo\": 1304.891652, \"ventas\": 146694.0, \"a\\u00f1o\": 2021, \"mes\": 8, \"correo_sat\": 0.6179420295190065, \"facebook_sat\": 0.643943768595037, \"google_sat\": 0.6765074029454583, \"impresiones_sat\": 0.6400371860224568, \"radio_sat\": 0.004618121304662084, \"tv_abierta_sat\": 0.6966785479671395, \"tv_paga_sat\": 0.6233725990041168}, {\"fecha\": \"2021-09-05T00:00:00\", \"tv_abierta\": 15870.62214, \"tv_paga\": 12147.8768, \"radio\": 0.0, \"impresiones\": 2183.057113, \"facebook\": 4410.60634, \"google\": 8008.928899, \"correo\": 1091.528556, \"ventas\": 138433.3, \"a\\u00f1o\": 2021, \"mes\": 9, \"correo_sat\": 0.5748955888429702, \"facebook_sat\": 0.7071530537211277, \"google_sat\": 0.6706909964969481, \"impresiones_sat\": 0.5660793081301295, \"radio_sat\": 0.0, \"tv_abierta_sat\": 0.7202361568142567, \"tv_paga_sat\": 0.6549271685532184}, {\"fecha\": \"2021-09-12T00:00:00\", \"tv_abierta\": 0.0, \"tv_paga\": 12675.05267, \"radio\": 8795.680572, \"impresiones\": 0.0, \"facebook\": 0.0, \"google\": 6419.741583, \"correo\": 3482.725272, \"ventas\": 140245.3, \"a\\u00f1o\": 2021, \"mes\": 9, \"correo_sat\": 0.8009713863675646, \"facebook_sat\": 0.5285458093348723, \"google_sat\": 0.6370215730244914, \"impresiones_sat\": 0.17971059278941034, \"radio_sat\": 0.5791987063161219, \"tv_abierta_sat\": 0.0, \"tv_paga_sat\": 0.6737343804456727}, {\"fecha\": \"2021-09-19T00:00:00\", \"tv_abierta\": 13329.98214, \"tv_paga\": 0.0, \"radio\": 0.0, \"impresiones\": 2505.05568, \"facebook\": 3756.298617, \"google\": 7631.781447, \"correo\": 1820.388546, \"ventas\": 133157.9, \"a\\u00f1o\": 2021, \"mes\": 9, \"correo_sat\": 0.7021044255543029, \"facebook_sat\": 0.6505851397595128, \"google_sat\": 0.6490605748620658, \"impresiones_sat\": 0.5436217045412982, \"radio_sat\": 0.1819840581129897, \"tv_abierta_sat\": 0.6837759625149692, \"tv_paga_sat\": 0.4887494615155739}, {\"fecha\": \"2021-09-26T00:00:00\", \"tv_abierta\": 0.0, \"tv_paga\": 11623.44129, \"radio\": 7549.779916, \"impresiones\": 0.0, \"facebook\": 0.0, \"google\": 0.0, \"correo\": 2173.509112, \"ventas\": 102372.4, \"a\\u00f1o\": 2021, \"mes\": 9, \"correo_sat\": 0.7242962480948395, \"facebook_sat\": 0.4599991642406363, \"google_sat\": 0.3871662162159941, \"impresiones_sat\": 0.1666119119468525, \"radio_sat\": 0.54902296194507, \"tv_abierta_sat\": 0.0, \"tv_paga_sat\": 0.589923358204783}, {\"fecha\": \"2021-10-03T00:00:00\", \"tv_abierta\": 0.0, \"tv_paga\": 0.0, \"radio\": 0.0, \"impresiones\": 1422.82151, \"facebook\": 0.0, \"google\": 0.0, \"correo\": 850.6948294, \"ventas\": 90301.7, \"a\\u00f1o\": 2021, \"mes\": 10, \"correo_sat\": 0.5366967842428542, \"facebook_sat\": 0.28340466707956147, \"google_sat\": 0.1686647050371392, \"impresiones_sat\": 0.4079471809332646, \"radio_sat\": 0.164417004880649, \"tv_abierta_sat\": 0.0, \"tv_paga_sat\": 0.3930795363773499}, {\"fecha\": \"2021-10-10T00:00:00\", \"tv_abierta\": 15872.81096, \"tv_paga\": 0.0, \"radio\": 7939.661289, \"impresiones\": 2518.88, \"facebook\": 0.0, \"google\": 8688.287477, \"correo\": 5195.985757, \"ventas\": 159041.1, \"a\\u00f1o\": 2021, \"mes\": 10, \"correo_sat\": 0.8558737682787088, \"facebook_sat\": 0.1439930698150669, \"google_sat\": 0.5965957049564132, \"impresiones_sat\": 0.5607020681390338, \"radio_sat\": 0.5601159159751271, \"tv_abierta_sat\": 0.720263943673705, \"tv_paga_sat\": 0.20197301979113103}, {\"fecha\": \"2021-10-17T00:00:00\", \"tv_abierta\": 0.0, \"tv_paga\": 13057.23109, \"radio\": 7878.190161, \"impresiones\": 1905.701646, \"facebook\": 4053.967907, \"google\": 6051.443745, \"correo\": 2622.642683, \"ventas\": 128392.9, \"a\\u00f1o\": 2021, \"mes\": 10, \"correo_sat\": 0.7730531773759922, \"facebook_sat\": 0.6016034986196834, \"google_sat\": 0.5991929336617218, \"impresiones_sat\": 0.5221285525785486, \"radio_sat\": 0.589936984313289, \"tv_abierta_sat\": 0.0, \"tv_paga_sat\": 0.5622043152122355}, {\"fecha\": \"2021-10-24T00:00:00\", \"tv_abierta\": 0.0, \"tv_paga\": 0.0, \"radio\": 0.0, \"impresiones\": 0.0, \"facebook\": 0.0, \"google\": 0.0, \"correo\": 994.9269219, \"ventas\": 90634.5, \"a\\u00f1o\": 2021, \"mes\": 10, \"correo_sat\": 0.5798822410301236, \"facebook_sat\": 0.4121368718950077, \"google_sat\": 0.3458276151131501, \"impresiones_sat\": 0.1549909203602605, \"radio_sat\": 0.18812858063505616, \"tv_abierta_sat\": 0.0, \"tv_paga_sat\": 0.3646706589959018}, {\"fecha\": \"2021-10-31T00:00:00\", \"tv_abierta\": 0.0, \"tv_paga\": 0.0, \"radio\": 0.0, \"impresiones\": 1088.82755, \"facebook\": 0.0, \"google\": 0.0, \"correo\": 544.4166887, \"ventas\": 72502.1, \"a\\u00f1o\": 2021, \"mes\": 10, \"correo_sat\": 0.41804647686530705, \"facebook_sat\": 0.23783677471821763, \"google_sat\": 0.15749785010770626, \"impresiones_sat\": 0.3474970310779561, \"radio_sat\": 0.03610107086590437, \"tv_abierta_sat\": 0.0, \"tv_paga_sat\": 0.22137179238685228}]}}, {\"mode\": \"vega-lite\"});\n",
       "</script>"
      ],
      "text/plain": [
       "alt.HConcatChart(...)"
      ]
     },
     "execution_count": 82,
     "metadata": {},
     "output_type": "execute_result"
    }
   ],
   "source": [
    "(chart_tv_abierta | chart_tv_paga | chart_google)"
   ]
  },
  {
   "cell_type": "code",
   "execution_count": 83,
   "id": "f8106d35",
   "metadata": {},
   "outputs": [
    {
     "data": {
      "text/html": [
       "\n",
       "<div id=\"altair-viz-f82707bb605a4c5d89465b13b6f6eb40\"></div>\n",
       "<script type=\"text/javascript\">\n",
       "  (function(spec, embedOpt){\n",
       "    let outputDiv = document.currentScript.previousElementSibling;\n",
       "    if (outputDiv.id !== \"altair-viz-f82707bb605a4c5d89465b13b6f6eb40\") {\n",
       "      outputDiv = document.getElementById(\"altair-viz-f82707bb605a4c5d89465b13b6f6eb40\");\n",
       "    }\n",
       "    const paths = {\n",
       "      \"vega\": \"https://cdn.jsdelivr.net/npm//vega@5?noext\",\n",
       "      \"vega-lib\": \"https://cdn.jsdelivr.net/npm//vega-lib?noext\",\n",
       "      \"vega-lite\": \"https://cdn.jsdelivr.net/npm//vega-lite@4.17.0?noext\",\n",
       "      \"vega-embed\": \"https://cdn.jsdelivr.net/npm//vega-embed@6?noext\",\n",
       "    };\n",
       "\n",
       "    function loadScript(lib) {\n",
       "      return new Promise(function(resolve, reject) {\n",
       "        var s = document.createElement('script');\n",
       "        s.src = paths[lib];\n",
       "        s.async = true;\n",
       "        s.onload = () => resolve(paths[lib]);\n",
       "        s.onerror = () => reject(`Error loading script: ${paths[lib]}`);\n",
       "        document.getElementsByTagName(\"head\")[0].appendChild(s);\n",
       "      });\n",
       "    }\n",
       "\n",
       "    function showError(err) {\n",
       "      outputDiv.innerHTML = `<div class=\"error\" style=\"color:red;\">${err}</div>`;\n",
       "      throw err;\n",
       "    }\n",
       "\n",
       "    function displayChart(vegaEmbed) {\n",
       "      vegaEmbed(outputDiv, spec, embedOpt)\n",
       "        .catch(err => showError(`Javascript Error: ${err.message}<br>This usually means there's a typo in your chart specification. See the javascript console for the full traceback.`));\n",
       "    }\n",
       "\n",
       "    if(typeof define === \"function\" && define.amd) {\n",
       "      requirejs.config({paths});\n",
       "      require([\"vega-embed\"], displayChart, err => showError(`Error loading script: ${err.message}`));\n",
       "    } else if (typeof vegaEmbed === \"function\") {\n",
       "      displayChart(vegaEmbed);\n",
       "    } else {\n",
       "      loadScript(\"vega\")\n",
       "        .then(() => loadScript(\"vega-lite\"))\n",
       "        .then(() => loadScript(\"vega-embed\"))\n",
       "        .catch(showError)\n",
       "        .then(() => displayChart(vegaEmbed));\n",
       "    }\n",
       "  })({\"config\": {\"view\": {\"continuousWidth\": 400, \"continuousHeight\": 300}}, \"hconcat\": [{\"mark\": {\"type\": \"circle\", \"fill\": \"#BE61CA\", \"size\": 40, \"stroke\": \"#000000\", \"strokeWidth\": 0.3}, \"encoding\": {\"x\": {\"field\": \"facebook\", \"title\": \"Inversi\\u00f3n\", \"type\": \"quantitative\"}, \"y\": {\"field\": \"facebook_sat\", \"title\": \"Saturaci\\u00f3n (Adbug)\", \"type\": \"quantitative\"}}, \"height\": 230, \"title\": \"Canal: Facebook\", \"width\": 230}, {\"mark\": {\"type\": \"circle\", \"fill\": \"#F13C59\", \"size\": 40, \"stroke\": \"#000000\", \"strokeWidth\": 0.3}, \"encoding\": {\"x\": {\"field\": \"impresiones\", \"title\": \"Inversi\\u00f3n\", \"type\": \"quantitative\"}, \"y\": {\"field\": \"impresiones_sat\", \"title\": \"Saturaci\\u00f3n (Adbug)\", \"type\": \"quantitative\"}}, \"height\": 230, \"title\": \"Canal: Impresiones\", \"width\": 230}, {\"mark\": {\"type\": \"circle\", \"fill\": \"#AADEA7\", \"size\": 40, \"stroke\": \"#000000\", \"strokeWidth\": 0.3}, \"encoding\": {\"x\": {\"field\": \"correo\", \"title\": \"Inversi\\u00f3n\", \"type\": \"quantitative\"}, \"y\": {\"field\": \"correo_sat\", \"title\": \"Saturaci\\u00f3n (Adbug)\", \"type\": \"quantitative\"}}, \"height\": 230, \"title\": \"Canal: Correo electr\\u00f3nico\", \"width\": 230}, {\"mark\": {\"type\": \"circle\", \"fill\": \"#FFEC21\", \"size\": 40, \"stroke\": \"#000000\", \"strokeWidth\": 0.3}, \"encoding\": {\"x\": {\"field\": \"radio\", \"title\": \"Inversi\\u00f3n\", \"type\": \"quantitative\"}, \"y\": {\"field\": \"radio_sat\", \"title\": \"Saturaci\\u00f3n (Adbug)\", \"type\": \"quantitative\"}}, \"height\": 230, \"title\": \"Canal: Radio\", \"width\": 230}], \"data\": {\"name\": \"data-cc98b47044e1097c8f70b9d95ab90b9e\"}, \"$schema\": \"https://vega.github.io/schema/vega-lite/v4.17.0.json\", \"datasets\": {\"data-cc98b47044e1097c8f70b9d95ab90b9e\": [{\"fecha\": \"2018-01-07T00:00:00\", \"tv_abierta\": 13637.75157, \"tv_paga\": 0.0, \"radio\": 0.0, \"impresiones\": 0.0, \"facebook\": 3996.635926, \"google\": 8049.170727, \"correo\": 0.0, \"ventas\": 97798.0, \"a\\u00f1o\": 2018, \"mes\": 1, \"correo_sat\": 0.0, \"facebook_sat\": 0.5880135908635442, \"google_sat\": 0.5687583653456677, \"impresiones_sat\": 0.0, \"radio_sat\": 0.0, \"tv_abierta_sat\": 0.6886907168410257, \"tv_paga_sat\": 0.0}, {\"fecha\": \"2018-01-14T00:00:00\", \"tv_abierta\": 0.0, \"tv_paga\": 0.0, \"radio\": 8665.516222, \"impresiones\": 3097.077969, \"facebook\": 3710.391593, \"google\": 6375.41784, \"correo\": 3532.606981, \"ventas\": 132451.9, \"a\\u00f1o\": 2018, \"mes\": 1, \"correo_sat\": 0.7990860798703251, \"facebook_sat\": 0.665291881434634, \"google_sat\": 0.6017552597996132, \"impresiones_sat\": 0.5879968698538136, \"radio_sat\": 0.5755606803209048, \"tv_abierta_sat\": 0.0, \"tv_paga_sat\": 0.0}, {\"fecha\": \"2018-01-21T00:00:00\", \"tv_abierta\": 0.0, \"tv_paga\": 0.0, \"radio\": 7874.545357, \"impresiones\": 3145.181754, \"facebook\": 0.0, \"google\": 6104.066477, \"correo\": 3648.381829, \"ventas\": 120226.6, \"a\\u00f1o\": 2018, \"mes\": 1, \"correo_sat\": 0.8152058774937366, \"facebook_sat\": 0.4799301686042652, \"google_sat\": 0.6054446824993767, \"impresiones_sat\": 0.6281305799243357, \"radio_sat\": 0.5920781137903003, \"tv_abierta_sat\": 0.0, \"tv_paga_sat\": 0.0}, {\"fecha\": \"2018-01-28T00:00:00\", \"tv_abierta\": 0.0, \"tv_paga\": 0.0, \"radio\": 0.0, \"impresiones\": 0.0, \"facebook\": 0.0, \"google\": 0.0, \"correo\": 1597.715205, \"ventas\": 88469.5, \"a\\u00f1o\": 2018, \"mes\": 1, \"correo_sat\": 0.6811031483859415, \"facebook_sat\": 0.2999340422672042, \"google_sat\": 0.3517558474473432, \"impresiones_sat\": 0.22105905247745303, \"radio_sat\": 0.19001930648937487, \"tv_abierta_sat\": 0.0, \"tv_paga_sat\": 0.0}, {\"fecha\": \"2018-02-04T00:00:00\", \"tv_abierta\": 0.0, \"tv_paga\": 0.0, \"radio\": 0.0, \"impresiones\": 2091.328917, \"facebook\": 0.0, \"google\": 0.0, \"correo\": 1045.664458, \"ventas\": 97970.7, \"a\\u00f1o\": 2018, \"mes\": 2, \"correo_sat\": 0.5727294672888513, \"facebook_sat\": 0.16590922379051012, \"google_sat\": 0.14621936914019065, \"impresiones_sat\": 0.502830783871475, \"radio_sat\": 0.0365326457922214, \"tv_abierta_sat\": 0.0, \"tv_paga_sat\": 0.0}, {\"fecha\": \"2018-02-11T00:00:00\", \"tv_abierta\": 12914.28609, \"tv_paga\": 0.0, \"radio\": 8099.648422, \"impresiones\": 2781.233263, \"facebook\": 4159.035281, \"google\": 8005.460683, \"correo\": 3479.813998, \"ventas\": 135276.5, \"a\\u00f1o\": 2018, \"mes\": 2, \"correo_sat\": 0.8007999483932106, \"facebook_sat\": 0.6120434211955663, \"google_sat\": 0.575542797378424, \"impresiones_sat\": 0.5920945126141214, \"radio_sat\": 0.5599949240284346, \"tv_abierta_sat\": 0.6768860149724536, \"tv_paga_sat\": 0.0}, {\"fecha\": \"2018-02-18T00:00:00\", \"tv_abierta\": 0.0, \"tv_paga\": 10299.58135, \"radio\": 0.0, \"impresiones\": 1425.55263, \"facebook\": 0.0, \"google\": 0.0, \"correo\": 834.3523032, \"ventas\": 96354.3, \"a\\u00f1o\": 2018, \"mes\": 2, \"correo_sat\": 0.5548289827145788, \"facebook_sat\": 0.41797613924738997, \"google_sat\": 0.3168703424814692, \"impresiones_sat\": 0.4738498964965712, \"radio_sat\": 0.1700316691471066, \"tv_abierta_sat\": 0.0, \"tv_paga_sat\": 0.4775534676229364}, {\"fecha\": \"2018-02-25T00:00:00\", \"tv_abierta\": 14560.64836, \"tv_paga\": 0.0, \"radio\": 8222.221482, \"impresiones\": 2614.337922, \"facebook\": 5505.51609, \"google\": 8996.380998, \"correo\": 3546.448674, \"ventas\": 153551.1, \"a\\u00f1o\": 2018, \"mes\": 2, \"correo_sat\": 0.8034585822889521, \"facebook_sat\": 0.6957020645182722, \"google_sat\": 0.6209416243141277, \"impresiones_sat\": 0.5755216988162013, \"radio_sat\": 0.568926753814389, \"tv_abierta_sat\": 0.7025532871943994, \"tv_paga_sat\": 0.3116562123692421}, {\"fecha\": \"2018-03-04T00:00:00\", \"tv_abierta\": 0.0, \"tv_paga\": 11595.63946, \"radio\": 0.0, \"impresiones\": 3135.248236, \"facebook\": 3676.22357, \"google\": 0.0, \"correo\": 3329.404332, \"ventas\": 121993.7, \"a\\u00f1o\": 2018, \"mes\": 3, \"correo_sat\": 0.8023996188479704, \"facebook_sat\": 0.7036403193559236, \"google_sat\": 0.36679593809442895, \"impresiones_sat\": 0.6258260264794574, \"radio_sat\": 0.1758133748176933, \"tv_abierta_sat\": 0.0, \"tv_paga_sat\": 0.5562180948185224}, {\"fecha\": \"2018-03-11T00:00:00\", \"tv_abierta\": 0.0, \"tv_paga\": 0.0, \"radio\": 7436.762482, \"impresiones\": 2232.781716, \"facebook\": 0.0, \"google\": 6001.148146, \"correo\": 3236.708503, \"ventas\": 113682.3, \"a\\u00f1o\": 2018, \"mes\": 3, \"correo_sat\": 0.7981502191035394, \"facebook_sat\": 0.5243317605561483, \"google_sat\": 0.538668726588498, \"impresiones_sat\": 0.5670568130366221, \"radio_sat\": 0.5449120714353435, \"tv_abierta_sat\": 0.0, \"tv_paga_sat\": 0.38302837771581943}, {\"fecha\": \"2018-03-18T00:00:00\", \"tv_abierta\": 0.0, \"tv_paga\": 0.0, \"radio\": 7138.180995, \"impresiones\": 0.0, \"facebook\": 0.0, \"google\": 0.0, \"correo\": 1654.49507, \"ventas\": 86404.4, \"a\\u00f1o\": 2018, \"mes\": 3, \"correo_sat\": 0.6840218284468157, \"facebook_sat\": 0.33852247916260975, \"google_sat\": 0.2922358902695147, \"impresiones_sat\": 0.18025250130494727, \"radio_sat\": 0.567206635125021, \"tv_abierta_sat\": 0.0, \"tv_paga_sat\": 0.2015873110808988}, {\"fecha\": \"2018-03-25T00:00:00\", \"tv_abierta\": 0.0, \"tv_paga\": 0.0, \"radio\": 0.0, \"impresiones\": 0.0, \"facebook\": 0.0, \"google\": 0.0, \"correo\": 0.0, \"ventas\": 49602.6, \"a\\u00f1o\": 2018, \"mes\": 3, \"correo_sat\": 0.1418018816662282, \"facebook_sat\": 0.1821540290404906, \"google_sat\": 0.10949605427948078, \"impresiones_sat\": 0.035546093022062054, \"radio_sat\": 0.17420145909861698, \"tv_abierta_sat\": 0.0, \"tv_paga_sat\": 0.11116023961635774}, {\"fecha\": \"2018-04-01T00:00:00\", \"tv_abierta\": 13700.77859, \"tv_paga\": 0.0, \"radio\": 8793.06718, \"impresiones\": 0.0, \"facebook\": 4443.067528, \"google\": 8934.868867, \"correo\": 3151.505201, \"ventas\": 127264.6, \"a\\u00f1o\": 2018, \"mes\": 4, \"correo_sat\": 0.7807344229660014, \"facebook_sat\": 0.6282661505900936, \"google_sat\": 0.6011950287103881, \"impresiones_sat\": 0.005994893787146588, \"radio_sat\": 0.5850803553543173, \"tv_abierta_sat\": 0.6896784058597722, \"tv_paga_sat\": 0.0}, {\"fecha\": \"2018-04-08T00:00:00\", \"tv_abierta\": 13427.87799, \"tv_paga\": 13193.2333, \"radio\": 0.0, \"impresiones\": 0.0, \"facebook\": 0.0, \"google\": 7424.44265, \"correo\": 0.0, \"ventas\": 114217.1, \"a\\u00f1o\": 2018, \"mes\": 4, \"correo_sat\": 0.21376084095037928, \"facebook_sat\": 0.43341861612041277, \"google_sat\": 0.6342655405530595, \"impresiones_sat\": 0.0008191999237648175, \"radio_sat\": 0.18508416663396232, \"tv_abierta_sat\": 0.6853560022001141, \"tv_paga_sat\": 0.5393569876501493}, {\"fecha\": \"2018-04-15T00:00:00\", \"tv_abierta\": 0.0, \"tv_paga\": 11443.57471, \"radio\": 0.0, \"impresiones\": 1821.595117, \"facebook\": 3504.210828, \"google\": 0.0, \"correo\": 1295.36348, \"ventas\": 108753.1, \"a\\u00f1o\": 2018, \"mes\": 4, \"correo_sat\": 0.5966304415351513, \"facebook_sat\": 0.61440837758393, \"google_sat\": 0.38013534829309076, \"impresiones_sat\": 0.4563474582835507, \"radio_sat\": 0.034699723297255534, \"tv_abierta_sat\": 0.0, \"tv_paga_sat\": 0.6147273440145855}, {\"fecha\": \"2018-04-22T00:00:00\", \"tv_abierta\": 14152.58026, \"tv_paga\": 0.0, \"radio\": 0.0, \"impresiones\": 0.0, \"facebook\": 4140.038678, \"google\": 8408.845651, \"correo\": 1544.362309, \"ventas\": 130480.8, \"a\\u00f1o\": 2018, \"mes\": 4, \"correo_sat\": 0.6493370610881943, \"facebook_sat\": 0.6892722679116166, \"google_sat\": 0.6145958163926891, \"impresiones_sat\": 0.12360060119894743, \"radio_sat\": 0.005776551419959279, \"tv_abierta_sat\": 0.6965791299185887, \"tv_paga_sat\": 0.4414415512315091}, {\"fecha\": \"2018-04-29T00:00:00\", \"tv_abierta\": 0.0, \"tv_paga\": 12774.76664, \"radio\": 0.0, \"impresiones\": 0.0, \"facebook\": 3602.449679, \"google\": 0.0, \"correo\": 1422.876833, \"ventas\": 107758.6, \"a\\u00f1o\": 2018, \"mes\": 4, \"correo_sat\": 0.6354766726482659, \"facebook_sat\": 0.6984646975078055, \"google_sat\": 0.3510779438300749, \"impresiones_sat\": 0.02314686016702769, \"radio_sat\": 0.0, \"tv_abierta_sat\": 0.0, \"tv_paga_sat\": 0.6039928486160766}, {\"fecha\": \"2018-05-06T00:00:00\", \"tv_abierta\": 13823.00898, \"tv_paga\": 0.0, \"radio\": 8301.612581, \"impresiones\": 2125.079769, \"facebook\": 0.0, \"google\": 10383.94204, \"correo\": 3401.831369, \"ventas\": 150136.2, \"a\\u00f1o\": 2018, \"mes\": 5, \"correo_sat\": 0.7985167466649777, \"facebook_sat\": 0.5181690105689207, \"google_sat\": 0.6520211718642436, \"impresiones_sat\": 0.49577464011916245, \"radio_sat\": 0.5650477283094136, \"tv_abierta_sat\": 0.6915761103605013, \"tv_paga_sat\": 0.4065253672982091}, {\"fecha\": \"2018-05-13T00:00:00\", \"tv_abierta\": 14869.70421, \"tv_paga\": 12103.71445, \"radio\": 0.0, \"impresiones\": 2236.994923, \"facebook\": 0.0, \"google\": 8344.402337, \"correo\": 1118.497461, \"ventas\": 141583.2, \"a\\u00f1o\": 2018, \"mes\": 5, \"correo_sat\": 0.6096773136475107, \"facebook_sat\": 0.3258701345547628, \"google_sat\": 0.6699507174595899, \"impresiones_sat\": 0.5446324839595013, \"radio_sat\": 0.1735356528600518, \"tv_abierta_sat\": 0.7069236381782074, \"tv_paga_sat\": 0.5748922877466889}, {\"fecha\": \"2018-05-20T00:00:00\", \"tv_abierta\": 15191.76484, \"tv_paga\": 14879.30689, \"radio\": 7729.403948, \"impresiones\": 2571.660781, \"facebook\": 5029.572236, \"google\": 8448.904232, \"correo\": 3585.492435, \"ventas\": 159181.4, \"a\\u00f1o\": 2018, \"mes\": 5, \"correo_sat\": 0.8060534349740271, \"facebook_sat\": 0.6689364601264498, \"google_sat\": 0.6753914361130688, \"impresiones_sat\": 0.5808682913254778, \"radio_sat\": 0.5542672882057259, \"tv_abierta_sat\": 0.711343304159511, \"tv_paga_sat\": 0.6655926724959611}, {\"fecha\": \"2018-05-27T00:00:00\", \"tv_abierta\": 0.0, \"tv_paga\": 12087.60028, \"radio\": 0.0, \"impresiones\": 2789.041931, \"facebook\": 0.0, \"google\": 0.0, \"correo\": 1394.527806, \"ventas\": 111287.5, \"a\\u00f1o\": 2018, \"mes\": 5, \"correo_sat\": 0.6536779015127842, \"facebook_sat\": 0.4806696630197754, \"google_sat\": 0.4238809851443189, \"impresiones_sat\": 0.6028700136625373, \"radio_sat\": 0.16735082494819228, \"tv_abierta_sat\": 0.0, \"tv_paga_sat\": 0.6655951550273055}, {\"fecha\": \"2018-06-03T00:00:00\", \"tv_abierta\": 12989.40303, \"tv_paga\": 0.0, \"radio\": 0.0, \"impresiones\": 2329.948052, \"facebook\": 3934.675968, \"google\": 8246.825876, \"correo\": 856.4664813, \"ventas\": 121703.6, \"a\\u00f1o\": 2018, \"mes\": 6, \"correo_sat\": 0.5256898670234026, \"facebook_sat\": 0.6453950555403154, \"google_sat\": 0.6131293798281255, \"impresiones_sat\": 0.5705796136320014, \"radio_sat\": 0.030630804882241118, \"tv_abierta_sat\": 0.6781531772980562, \"tv_paga_sat\": 0.49644707320424125}, {\"fecha\": \"2018-06-10T00:00:00\", \"tv_abierta\": 0.0, \"tv_paga\": 11127.99785, \"radio\": 0.0, \"impresiones\": 1898.59873, \"facebook\": 3712.523771, \"google\": 0.0, \"correo\": 1088.075352, \"ventas\": 101347.0, \"a\\u00f1o\": 2018, \"mes\": 6, \"correo_sat\": 0.5670346839098801, \"facebook_sat\": 0.6833348043387087, \"google_sat\": 0.3502494044990697, \"impresiones_sat\": 0.5233569700989081, \"radio_sat\": 0.005081335068967795, \"tv_abierta_sat\": 0.0, \"tv_paga_sat\": 0.5852802156590187}, {\"fecha\": \"2018-06-17T00:00:00\", \"tv_abierta\": 14366.12193, \"tv_paga\": 0.0, \"radio\": 7248.928504, \"impresiones\": 0.0, \"facebook\": 3973.921973, \"google\": 7911.972314, \"correo\": 1829.235299, \"ventas\": 110935.5, \"a\\u00f1o\": 2018, \"mes\": 6, \"correo_sat\": 0.6834830547107177, \"facebook_sat\": 0.7076882485039977, \"google_sat\": 0.5943825628492929, \"impresiones_sat\": 0.15564922236906334, \"radio_sat\": 0.5314777595949269, \"tv_abierta_sat\": 0.6997350220250451, \"tv_paga_sat\": 0.3825434544020162}, {\"fecha\": \"2018-06-24T00:00:00\", \"tv_abierta\": 0.0, \"tv_paga\": 10499.87566, \"radio\": 0.0, \"impresiones\": 0.0, \"facebook\": 3291.352352, \"google\": 0.0, \"correo\": 0.0, \"ventas\": 81706.3, \"a\\u00f1o\": 2018, \"mes\": 6, \"correo_sat\": 0.14155949072682328, \"facebook_sat\": 0.6969141916979523, \"google_sat\": 0.3413191369389259, \"impresiones_sat\": 0.029892202377871806, \"radio_sat\": 0.15493998156908978, \"tv_abierta_sat\": 0.0, \"tv_paga_sat\": 0.5400501084300411}, {\"fecha\": \"2018-07-01T00:00:00\", \"tv_abierta\": 0.0, \"tv_paga\": 0.0, \"radio\": 0.0, \"impresiones\": 0.0, \"facebook\": 0.0, \"google\": 0.0, \"correo\": 0.0, \"ventas\": 65427.1, \"a\\u00f1o\": 2018, \"mes\": 7, \"correo_sat\": 0.012408276872563824, \"facebook_sat\": 0.5120886652804167, \"google_sat\": 0.1394971529071639, \"impresiones_sat\": 0.004980055705501837, \"radio_sat\": 0.028781533997336465, \"tv_abierta_sat\": 0.0, \"tv_paga_sat\": 0.36772319560004163}, {\"fecha\": \"2018-07-08T00:00:00\", \"tv_abierta\": 0.0, \"tv_paga\": 0.0, \"radio\": 7300.219073, \"impresiones\": 2870.512659, \"facebook\": 0.0, \"google\": 6134.926946, \"correo\": 3771.823703, \"ventas\": 113258.0, \"a\\u00f1o\": 2018, \"mes\": 7, \"correo_sat\": 0.8094330962480255, \"facebook_sat\": 0.32762966196400173, \"google_sat\": 0.515164564311745, \"impresiones_sat\": 0.5696073058442246, \"radio_sat\": 0.5342742837622406, \"tv_abierta_sat\": 0.0, \"tv_paga_sat\": 0.18608252384898827}, {\"fecha\": \"2018-07-15T00:00:00\", \"tv_abierta\": 0.0, \"tv_paga\": 0.0, \"radio\": 0.0, \"impresiones\": 2154.626848, \"facebook\": 0.0, \"google\": 0.0, \"correo\": 1077.3185, \"ventas\": 77932.4, \"a\\u00f1o\": 2018, \"mes\": 7, \"correo_sat\": 0.6058831638901696, \"facebook_sat\": 0.1750235439242882, \"google_sat\": 0.26224787986534354, \"impresiones_sat\": 0.5485565068969932, \"radio_sat\": 0.15586540161269746, \"tv_abierta_sat\": 0.0, \"tv_paga_sat\": 0.10172438304437278}, {\"fecha\": \"2018-07-22T00:00:00\", \"tv_abierta\": 16561.6822, \"tv_paga\": 0.0, \"radio\": 8780.377997, \"impresiones\": 3527.997371, \"facebook\": 4730.113733, \"google\": 9135.531258, \"correo\": 4288.783334, \"ventas\": 150109.4, \"a\\u00f1o\": 2018, \"mes\": 7, \"correo_sat\": 0.8318210831834059, \"facebook_sat\": 0.6395645680618764, \"google_sat\": 0.618697595342067, \"impresiones_sat\": 0.6466299070175106, \"radio_sat\": 0.5840037842169942, \"tv_abierta_sat\": 0.7287431764137959, \"tv_paga_sat\": 0.0}, {\"fecha\": \"2018-07-29T00:00:00\", \"tv_abierta\": 0.0, \"tv_paga\": 12058.54301, \"radio\": 0.0, \"impresiones\": 0.0, \"facebook\": 0.0, \"google\": 0.0, \"correo\": 2140.949806, \"ventas\": 106343.1, \"a\\u00f1o\": 2018, \"mes\": 7, \"correo_sat\": 0.7360266783015863, \"facebook_sat\": 0.44739127022012576, \"google_sat\": 0.3645869734041677, \"impresiones_sat\": 0.23515065570360927, \"radio_sat\": 0.18494210649316054, \"tv_abierta_sat\": 0.0, \"tv_paga_sat\": 0.5169494039073427}, {\"fecha\": \"2018-08-05T00:00:00\", \"tv_abierta\": 0.0, \"tv_paga\": 0.0, \"radio\": 7438.658676, \"impresiones\": 1486.586917, \"facebook\": 0.0, \"google\": 5953.183042, \"correo\": 3044.839046, \"ventas\": 117513.9, \"a\\u00f1o\": 2018, \"mes\": 8, \"correo_sat\": 0.7845266193241553, \"facebook_sat\": 0.2669166427933828, \"google_sat\": 0.5376003898049801, \"impresiones_sat\": 0.4241920356088399, \"radio_sat\": 0.5454454741126561, \"tv_abierta_sat\": 0.0, \"tv_paga_sat\": 0.3464416108738937}, {\"fecha\": \"2018-08-12T00:00:00\", \"tv_abierta\": 0.0, \"tv_paga\": 0.0, \"radio\": 7107.988618, \"impresiones\": 0.0, \"facebook\": 0.0, \"google\": 0.0, \"correo\": 2918.726755, \"ventas\": 91512.0, \"a\\u00f1o\": 2018, \"mes\": 8, \"correo_sat\": 0.7809034843108659, \"facebook_sat\": 0.1445981939148486, \"google_sat\": 0.2913476391778718, \"impresiones_sat\": 0.11000104515857877, \"radio_sat\": 0.5663982003453986, \"tv_abierta_sat\": 0.0, \"tv_paga_sat\": 0.20796121407043494}, {\"fecha\": \"2018-08-19T00:00:00\", \"tv_abierta\": 0.0, \"tv_paga\": 0.0, \"radio\": 0.0, \"impresiones\": 1447.816996, \"facebook\": 0.0, \"google\": 0.0, \"correo\": 1151.556962, \"ventas\": 91414.6, \"a\\u00f1o\": 2018, \"mes\": 8, \"correo_sat\": 0.6106842971883546, \"facebook_sat\": 0.07276972300192011, \"google_sat\": 0.10871603451806205, \"impresiones_sat\": 0.4075135377212963, \"radio_sat\": 0.17368565140910333, \"tv_abierta_sat\": 0.0, \"tv_paga_sat\": 0.11508710313069524}, {\"fecha\": \"2018-08-26T00:00:00\", \"tv_abierta\": 0.0, \"tv_paga\": 0.0, \"radio\": 7238.167542, \"impresiones\": 0.0, \"facebook\": 0.0, \"google\": 0.0, \"correo\": 1683.584195, \"ventas\": 73999.2, \"a\\u00f1o\": 2018, \"mes\": 8, \"correo_sat\": 0.6683515976081988, \"facebook_sat\": 0.035155310668961624, \"google_sat\": 0.04134983766578663, \"impresiones_sat\": 0.1034143762415146, \"radio_sat\": 0.5384600947734491, \"tv_abierta_sat\": 0.0, \"tv_paga_sat\": 0.0}, {\"fecha\": \"2018-09-02T00:00:00\", \"tv_abierta\": 13634.69569, \"tv_paga\": 0.0, \"radio\": 0.0, \"impresiones\": 0.0, \"facebook\": 3841.604784, \"google\": 7444.677464, \"correo\": 1808.027464, \"ventas\": 108931.6, \"a\\u00f1o\": 2018, \"mes\": 9, \"correo_sat\": 0.6864645583147513, \"facebook_sat\": 0.5783971297175523, \"google_sat\": 0.5495165073703507, \"impresiones_sat\": 0.0190106831169667, \"radio_sat\": 0.15808786549584924, \"tv_abierta_sat\": 0.6886426686715825, \"tv_paga_sat\": 0.0}, {\"fecha\": \"2018-09-09T00:00:00\", \"tv_abierta\": 0.0, \"tv_paga\": 11940.31404, \"radio\": 7900.823677, \"impresiones\": 2535.857413, \"facebook\": 3611.570088, \"google\": 0.0, \"correo\": 2798.135449, \"ventas\": 115504.7, \"a\\u00f1o\": 2018, \"mes\": 9, \"correo_sat\": 0.7683832059514828, \"facebook_sat\": 0.6583162639397101, \"google_sat\": 0.30136283649641693, \"impresiones_sat\": 0.5395341987402987, \"radio_sat\": 0.5586887948859702, \"tv_abierta_sat\": 0.0, \"tv_paga_sat\": 0.5144886026638072}, {\"fecha\": \"2018-09-16T00:00:00\", \"tv_abierta\": 0.0, \"tv_paga\": 0.0, \"radio\": 0.0, \"impresiones\": 1540.216427, \"facebook\": 0.0, \"google\": 0.0, \"correo\": 945.080627, \"ventas\": 86720.9, \"a\\u00f1o\": 2018, \"mes\": 9, \"correo_sat\": 0.5684850912282089, \"facebook_sat\": 0.47215643944057967, \"google_sat\": 0.13234862131305006, \"impresiones_sat\": 0.4755093567307887, \"radio_sat\": 0.1698620417757695, \"tv_abierta_sat\": 0.0, \"tv_paga_sat\": 0.34421409299792494}, {\"fecha\": \"2018-09-23T00:00:00\", \"tv_abierta\": 0.0, \"tv_paga\": 0.0, \"radio\": 0.0, \"impresiones\": 1518.529147, \"facebook\": 0.0, \"google\": 0.0, \"correo\": 2580.622435, \"ventas\": 94272.2, \"a\\u00f1o\": 2018, \"mes\": 9, \"correo_sat\": 0.7503755994686447, \"facebook_sat\": 0.2934308505247384, \"google_sat\": 0.05117931331821712, \"impresiones_sat\": 0.46003966609749863, \"radio_sat\": 0.03128886792150613, \"tv_abierta_sat\": 0.0, \"tv_paga_sat\": 0.20634296904191216}, {\"fecha\": \"2018-09-30T00:00:00\", \"tv_abierta\": 0.0, \"tv_paga\": 0.0, \"radio\": 0.0, \"impresiones\": 1756.431636, \"facebook\": 0.0, \"google\": 0.0, \"correo\": 878.2207821, \"ventas\": 80369.1, \"a\\u00f1o\": 2018, \"mes\": 9, \"correo_sat\": 0.5492092244035869, \"facebook_sat\": 0.1616410048643878, \"google_sat\": 0.0, \"impresiones_sat\": 0.4878433564939169, \"radio_sat\": 0.005193441692615214, \"tv_abierta_sat\": 0.0, \"tv_paga_sat\": 0.11408745633374358}, {\"fecha\": \"2018-10-07T00:00:00\", \"tv_abierta\": 13548.51383, \"tv_paga\": 0.0, \"radio\": 0.0, \"impresiones\": 2441.123658, \"facebook\": 3878.351961, \"google\": 7454.641232, \"correo\": 1220.561829, \"ventas\": 112405.8, \"a\\u00f1o\": 2018, \"mes\": 10, \"correo_sat\": 0.5946748093469721, \"facebook_sat\": 0.5958840925488678, \"google_sat\": 0.5498475760188322, \"impresiones_sat\": 0.562350394866499, \"radio_sat\": 0.0, \"tv_abierta_sat\": 0.6872814812032065, \"tv_paga_sat\": 0.0}, {\"fecha\": \"2018-10-14T00:00:00\", \"tv_abierta\": 12765.66956, \"tv_paga\": 12667.96935, \"radio\": 0.0, \"impresiones\": 2232.185503, \"facebook\": 4421.91277, \"google\": 7563.803134, \"correo\": 1116.097403, \"ventas\": 123868.3, \"a\\u00f1o\": 2018, \"mes\": 10, \"correo_sat\": 0.577813384297648, \"facebook_sat\": 0.692306031164722, \"google_sat\": 0.6256492843701889, \"impresiones_sat\": 0.5544355441813965, \"radio_sat\": 0.0, \"tv_abierta_sat\": 0.6743493435689154, \"tv_paga_sat\": 0.529248305180351}, {\"fecha\": \"2018-10-21T00:00:00\", \"tv_abierta\": 12612.11377, \"tv_paga\": 11125.60096, \"radio\": 0.0, \"impresiones\": 1919.933745, \"facebook\": 0.0, \"google\": 7593.533831, \"correo\": 1427.951122, \"ventas\": 125138.4, \"a\\u00f1o\": 2018, \"mes\": 10, \"correo_sat\": 0.6312871663009071, \"facebook_sat\": 0.5077971911442802, \"google_sat\": 0.6472948183050614, \"impresiones_sat\": 0.5223760320148643, \"radio_sat\": 0.0, \"tv_abierta_sat\": 0.6716861870459909, \"tv_paga_sat\": 0.6069575621809735}, {\"fecha\": \"2018-10-28T00:00:00\", \"tv_abierta\": 12582.42731, \"tv_paga\": 12493.93642, \"radio\": 7719.560812, \"impresiones\": 0.0, \"facebook\": 0.0, \"google\": 7454.298299, \"correo\": 3467.469246, \"ventas\": 122350.8, \"a\\u00f1o\": 2018, \"mes\": 10, \"correo_sat\": 0.8013775077955484, \"facebook_sat\": 0.3238579509699545, \"google_sat\": 0.651614835791692, \"impresiones_sat\": 0.1551644228270847, \"radio_sat\": 0.5471052869401622, \"tv_abierta_sat\": 0.6711662948765971, \"tv_paga_sat\": 0.6520195724100412}, {\"fecha\": \"2018-11-04T00:00:00\", \"tv_abierta\": 16032.97044, \"tv_paga\": 0.0, \"radio\": 0.0, \"impresiones\": 0.0, \"facebook\": 4135.94682, \"google\": 8392.791179, \"correo\": 0.0, \"ventas\": 118957.8, \"a\\u00f1o\": 2018, \"mes\": 11, \"correo_sat\": 0.23556971215282319, \"facebook_sat\": 0.6295459754058363, \"google_sat\": 0.6685992031820157, \"impresiones_sat\": 0.02983207047121564, \"radio_sat\": 0.16335610444556872, \"tv_abierta_sat\": 0.7222822824687423, \"tv_paga_sat\": 0.481355438281865}, {\"fecha\": \"2018-11-11T00:00:00\", \"tv_abierta\": 0.0, \"tv_paga\": 14524.74395, \"radio\": 0.0, \"impresiones\": 0.0, \"facebook\": 0.0, \"google\": 0.0, \"correo\": 0.0, \"ventas\": 100474.1, \"a\\u00f1o\": 2018, \"mes\": 11, \"correo_sat\": 0.02295848513102971, \"facebook_sat\": 0.44102086901007975, \"google_sat\": 0.40969718623508633, \"impresiones_sat\": 0.004990678988432049, \"radio_sat\": 0.0305929909322634, \"tv_abierta_sat\": 0.0, \"tv_paga_sat\": 0.6270167248527855}, {\"fecha\": \"2018-11-18T00:00:00\", \"tv_abierta\": 0.0, \"tv_paga\": 0.0, \"radio\": 0.0, \"impresiones\": 1485.39244, \"facebook\": 0.0, \"google\": 0.0, \"correo\": 900.0352099, \"ventas\": 97053.9, \"a\\u00f1o\": 2018, \"mes\": 11, \"correo_sat\": 0.5037375606635887, \"facebook_sat\": 0.26058877743623465, \"google_sat\": 0.18432101932693498, \"impresiones_sat\": 0.4065948968121955, \"radio_sat\": 0.005074896998833177, \"tv_abierta_sat\": 0.0, \"tv_paga_sat\": 0.43606315692666325}, {\"fecha\": \"2018-11-25T00:00:00\", \"tv_abierta\": 0.0, \"tv_paga\": 0.0, \"radio\": 7475.655216, \"impresiones\": 0.0, \"facebook\": 0.0, \"google\": 0.0, \"correo\": 2055.962011, \"ventas\": 88471.9, \"a\\u00f1o\": 2018, \"mes\": 11, \"correo_sat\": 0.7052020542355428, \"facebook_sat\": 0.1287736667271871, \"google_sat\": 0.05732360225247818, \"impresiones_sat\": 0.10314114928389449, \"radio_sat\": 0.5391387368856827, \"tv_abierta_sat\": 0.0, \"tv_paga_sat\": 0.2402738966874541}, {\"fecha\": \"2018-12-02T00:00:00\", \"tv_abierta\": 0.0, \"tv_paga\": 0.0, \"radio\": 7132.667732, \"impresiones\": 1425.748773, \"facebook\": 0.0, \"google\": 5859.443701, \"correo\": 2418.190998, \"ventas\": 103790.7, \"a\\u00f1o\": 2018, \"mes\": 12, \"correo_sat\": 0.7439381250895943, \"facebook_sat\": 0.06421584027338983, \"google_sat\": 0.48981958337754394, \"impresiones_sat\": 0.4034558989132407, \"radio_sat\": 0.5662093581015146, \"tv_abierta_sat\": 0.0, \"tv_paga_sat\": 0.135436757989267}, {\"fecha\": \"2018-12-09T00:00:00\", \"tv_abierta\": 0.0, \"tv_paga\": 0.0, \"radio\": 8383.112139, \"impresiones\": 3202.437423, \"facebook\": 3350.036795, \"google\": 6052.552099, \"correo\": 3442.324316, \"ventas\": 113124.8, \"a\\u00f1o\": 2018, \"mes\": 12, \"correo_sat\": 0.8038272090288289, \"facebook_sat\": 0.5512098067040249, \"google_sat\": 0.5710435977310655, \"impresiones_sat\": 0.6138023972703237, \"radio_sat\": 0.6036189883032642, \"tv_abierta_sat\": 0.0, \"tv_paga_sat\": 0.0}, {\"fecha\": \"2018-12-16T00:00:00\", \"tv_abierta\": 0.0, \"tv_paga\": 0.0, \"radio\": 0.0, \"impresiones\": 971.8465568, \"facebook\": 0.0, \"google\": 0.0, \"correo\": 681.6731111, \"ventas\": 82262.3, \"a\\u00f1o\": 2018, \"mes\": 12, \"correo_sat\": 0.5193356811287049, \"facebook_sat\": 0.3570912519428969, \"google_sat\": 0.3200757605745375, \"impresiones_sat\": 0.4168651086657645, \"radio_sat\": 0.19751790240085212, \"tv_abierta_sat\": 0.0, \"tv_paga_sat\": 0.0}, {\"fecha\": \"2018-12-23T00:00:00\", \"tv_abierta\": 13153.25867, \"tv_paga\": 0.0, \"radio\": 8818.084207, \"impresiones\": 2381.192298, \"facebook\": 4500.84969, \"google\": 8419.249802, \"correo\": 4317.896567, \"ventas\": 139661.1, \"a\\u00f1o\": 2018, \"mes\": 12, \"correo_sat\": 0.8317588014733638, \"facebook_sat\": 0.6509838909008744, \"google_sat\": 0.6072257033324725, \"impresiones_sat\": 0.5489999079581303, \"radio_sat\": 0.5865904100886482, \"tv_abierta_sat\": 0.6808830966200525, \"tv_paga_sat\": 0.0}, {\"fecha\": \"2018-12-30T00:00:00\", \"tv_abierta\": 0.0, \"tv_paga\": 12272.26343, \"radio\": 8904.759156, \"impresiones\": 2554.74664, \"facebook\": 3838.158361, \"google\": 6496.131439, \"correo\": 5216.641673, \"ventas\": 134603.2, \"a\\u00f1o\": 2018, \"mes\": 12, \"correo_sat\": 0.8620847485989709, \"facebook_sat\": 0.6910361206284732, \"google_sat\": 0.6148060104631541, \"impresiones_sat\": 0.5801452389638514, \"radio_sat\": 0.6186210546470324, \"tv_abierta_sat\": 0.0, \"tv_paga_sat\": 0.5213350226434984}, {\"fecha\": \"2019-01-06T00:00:00\", \"tv_abierta\": 14554.65399, \"tv_paga\": 0.0, \"radio\": 8583.415451, \"impresiones\": 0.0, \"facebook\": 4444.632003, \"google\": 9159.424721, \"correo\": 3969.809354, \"ventas\": 157426.1, \"a\\u00f1o\": 2019, \"mes\": 1, \"correo_sat\": 0.8318440414445201, \"facebook_sat\": 0.724187263728899, \"google_sat\": 0.6720996834403519, \"impresiones_sat\": 0.1883572302292891, \"radio_sat\": 0.6160461901821371, \"tv_abierta_sat\": 0.7024672320366598, \"tv_paga_sat\": 0.350430088237764}, {\"fecha\": \"2019-01-13T00:00:00\", \"tv_abierta\": 0.0, \"tv_paga\": 10813.12683, \"radio\": 0.0, \"impresiones\": 0.0, \"facebook\": 3392.028005, \"google\": 0.0, \"correo\": 1323.134047, \"ventas\": 104409.8, \"a\\u00f1o\": 2019, \"mes\": 1, \"correo_sat\": 0.6512694365619728, \"facebook_sat\": 0.7084852597614804, \"google_sat\": 0.4202281432385868, \"impresiones_sat\": 0.0373444745665303, \"radio_sat\": 0.20592793850196595, \"tv_abierta_sat\": 0.0, \"tv_paga_sat\": 0.5509383680060612}, {\"fecha\": \"2019-01-20T00:00:00\", \"tv_abierta\": 0.0, \"tv_paga\": 0.0, \"radio\": 0.0, \"impresiones\": 0.0, \"facebook\": 0.0, \"google\": 0.0, \"correo\": 838.2081473, \"ventas\": 85354.9, \"a\\u00f1o\": 2019, \"mes\": 1, \"correo_sat\": 0.5206619102782766, \"facebook_sat\": 0.5274908642047135, \"google_sat\": 0.1901115813945649, \"impresiones_sat\": 0.006416387580307731, \"radio_sat\": 0.03936113232240612, \"tv_abierta_sat\": 0.0, \"tv_paga_sat\": 0.37799236223359567}, {\"fecha\": \"2019-01-27T00:00:00\", \"tv_abierta\": 0.0, \"tv_paga\": 0.0, \"radio\": 0.0, \"impresiones\": 0.0, \"facebook\": 0.0, \"google\": 0.0, \"correo\": 1002.511655, \"ventas\": 78015.8, \"a\\u00f1o\": 2019, \"mes\": 1, \"correo_sat\": 0.5478128539153583, \"facebook_sat\": 0.34136549638785485, \"google_sat\": 0.06223391771199869, \"impresiones_sat\": 0.0009372170343950502, \"radio_sat\": 0.005639598744262953, \"tv_abierta_sat\": 0.0, \"tv_paga_sat\": 0.19057607994747922}, {\"fecha\": \"2019-02-03T00:00:00\", \"tv_abierta\": 0.0, \"tv_paga\": 0.0, \"radio\": 0.0, \"impresiones\": 0.0, \"facebook\": 0.0, \"google\": 0.0, \"correo\": 2302.988397, \"ventas\": 95700.1, \"a\\u00f1o\": 2019, \"mes\": 2, \"correo_sat\": 0.7286485864916307, \"facebook_sat\": 0.18336103646137825, \"google_sat\": 0.0, \"impresiones_sat\": 0.0, \"radio_sat\": 0.0, \"tv_abierta_sat\": 0.0, \"tv_paga_sat\": 0.10444224384356862}, {\"fecha\": \"2019-02-10T00:00:00\", \"tv_abierta\": 0.0, \"tv_paga\": 0.0, \"radio\": 0.0, \"impresiones\": 0.0, \"facebook\": 0.0, \"google\": 0.0, \"correo\": 735.7433044, \"ventas\": 78547.8, \"a\\u00f1o\": 2019, \"mes\": 2, \"correo_sat\": 0.5082197305383512, \"facebook_sat\": 0.08300354508681149, \"google_sat\": 0.0, \"impresiones_sat\": 0.0, \"radio_sat\": 0.0, \"tv_abierta_sat\": 0.0, \"tv_paga_sat\": 0.0}, {\"fecha\": \"2019-02-17T00:00:00\", \"tv_abierta\": 0.0, \"tv_paga\": 0.0, \"radio\": 0.0, \"impresiones\": 1826.592931, \"facebook\": 0.0, \"google\": 0.0, \"correo\": 913.3012405, \"ventas\": 80675.5, \"a\\u00f1o\": 2019, \"mes\": 2, \"correo_sat\": 0.5254299027306418, \"facebook_sat\": 0.02546357925990417, \"google_sat\": 0.0, \"impresiones_sat\": 0.457027290706883, \"radio_sat\": 0.0, \"tv_abierta_sat\": 0.0, \"tv_paga_sat\": 0.0}, {\"fecha\": \"2019-02-24T00:00:00\", \"tv_abierta\": 0.0, \"tv_paga\": 0.0, \"radio\": 0.0, \"impresiones\": 1352.708217, \"facebook\": 0.0, \"google\": 0.0, \"correo\": 809.77397, \"ventas\": 78482.6, \"a\\u00f1o\": 2019, \"mes\": 2, \"correo_sat\": 0.4990579527009677, \"facebook_sat\": 0.0, \"google_sat\": 0.0, \"impresiones_sat\": 0.4333511467320251, \"radio_sat\": 0.0, \"tv_abierta_sat\": 0.0, \"tv_paga_sat\": 0.0}, {\"fecha\": \"2019-03-03T00:00:00\", \"tv_abierta\": 13047.25383, \"tv_paga\": 0.0, \"radio\": 7828.362828, \"impresiones\": 2598.942187, \"facebook\": 4161.510848, \"google\": 7901.82817, \"correo\": 4906.943146, \"ventas\": 140127.1, \"a\\u00f1o\": 2019, \"mes\": 3, \"correo_sat\": 0.8484984943045848, \"facebook_sat\": 0.5977706982383091, \"google_sat\": 0.5642213440714374, \"impresiones_sat\": 0.5700977349897771, \"radio_sat\": 0.5505708713247224, \"tv_abierta_sat\": 0.6791223194595014, \"tv_paga_sat\": 0.0}, {\"fecha\": \"2019-03-10T00:00:00\", \"tv_abierta\": 14940.67635, \"tv_paga\": 12046.58877, \"radio\": 10044.0824, \"impresiones\": 4551.527451, \"facebook\": 5424.518582, \"google\": 8387.246876, \"correo\": 4591.72879, \"ventas\": 161274.5, \"a\\u00f1o\": 2019, \"mes\": 3, \"correo_sat\": 0.8484272682395827, \"facebook_sat\": 0.7243019610211076, \"google_sat\": 0.6469084709376899, \"impresiones_sat\": 0.6988129679253426, \"radio_sat\": 0.6389607638515337, \"tv_abierta_sat\": 0.707909182090627, \"tv_paga_sat\": 0.5167017242041204}, {\"fecha\": \"2019-03-17T00:00:00\", \"tv_abierta\": 0.0, \"tv_paga\": 12134.00375, \"radio\": 0.0, \"impresiones\": 2570.713804, \"facebook\": 3536.959388, \"google\": 0.0, \"correo\": 1285.362897, \"ventas\": 116369.7, \"a\\u00f1o\": 2019, \"mes\": 3, \"correo_sat\": 0.6521389594873331, \"facebook_sat\": 0.7128760126941092, \"google_sat\": 0.3931581113339705, \"impresiones_sat\": 0.6115654469966928, \"radio_sat\": 0.22242481666894984, \"tv_abierta_sat\": 0.0, \"tv_paga_sat\": 0.6163339244984882}, {\"fecha\": \"2019-03-24T00:00:00\", \"tv_abierta\": 0.0, \"tv_paga\": 0.0, \"radio\": 0.0, \"impresiones\": 1864.977557, \"facebook\": 0.0, \"google\": 0.0, \"correo\": 932.4887785, \"ventas\": 81936.5, \"a\\u00f1o\": 2019, \"mes\": 3, \"correo_sat\": 0.5440119547993847, \"facebook_sat\": 0.5354663111056703, \"google_sat\": 0.1863975102491909, \"impresiones_sat\": 0.5291492311745343, \"radio_sat\": 0.0441909219016034, \"tv_abierta_sat\": 0.0, \"tv_paga_sat\": 0.4431161254758013}, {\"fecha\": \"2019-03-31T00:00:00\", \"tv_abierta\": 0.0, \"tv_paga\": 0.0, \"radio\": 7934.598624, \"impresiones\": 0.0, \"facebook\": 0.0, \"google\": 0.0, \"correo\": 2514.905418, \"ventas\": 94516.1, \"a\\u00f1o\": 2019, \"mes\": 3, \"correo_sat\": 0.745054375159487, \"facebook_sat\": 0.34860299099103065, \"google_sat\": 0.05728790349561759, \"impresiones_sat\": 0.1587680001874566, \"radio_sat\": 0.5552207424720762, \"tv_abierta_sat\": 0.0, \"tv_paga_sat\": 0.2827084858187982}, {\"fecha\": \"2019-04-07T00:00:00\", \"tv_abierta\": 0.0, \"tv_paga\": 0.0, \"radio\": 7755.598288, \"impresiones\": 3078.758659, \"facebook\": 0.0, \"google\": 5899.359067, \"correo\": 3012.852028, \"ventas\": 114540.2, \"a\\u00f1o\": 2019, \"mes\": 4, \"correo_sat\": 0.7833221831627813, \"facebook_sat\": 0.19901291993940637, \"google_sat\": 0.491516251700468, \"impresiones_sat\": 0.5918823121067157, \"radio_sat\": 0.5858096343679906, \"tv_abierta_sat\": 0.0, \"tv_paga_sat\": 0.11572395839053483}, {\"fecha\": \"2019-04-14T00:00:00\", \"tv_abierta\": 0.0, \"tv_paga\": 0.0, \"radio\": 0.0, \"impresiones\": 0.0, \"facebook\": 0.0, \"google\": 0.0, \"correo\": 0.0, \"ventas\": 55268.4, \"a\\u00f1o\": 2019, \"mes\": 4, \"correo_sat\": 0.21637049404568962, \"facebook_sat\": 0.09129695867693058, \"google_sat\": 0.2547433319921435, \"impresiones_sat\": 0.19574375358601218, \"radio_sat\": 0.1860659118379955, \"tv_abierta_sat\": 0.0, \"tv_paga_sat\": 0.0}, {\"fecha\": \"2019-04-21T00:00:00\", \"tv_abierta\": 0.0, \"tv_paga\": 0.0, \"radio\": 0.0, \"impresiones\": 1514.501367, \"facebook\": 0.0, \"google\": 0.0, \"correo\": 757.2506835, \"ventas\": 76775.2, \"a\\u00f1o\": 2019, \"mes\": 4, \"correo_sat\": 0.46627453226258464, \"facebook_sat\": 0.026522706853301825, \"google_sat\": 0.10783910777024587, \"impresiones_sat\": 0.4248349819866712, \"radio_sat\": 0.035632097353717244, \"tv_abierta_sat\": 0.0, \"tv_paga_sat\": 0.0}, {\"fecha\": \"2019-04-28T00:00:00\", \"tv_abierta\": 0.0, \"tv_paga\": 0.0, \"radio\": 0.0, \"impresiones\": 1913.866007, \"facebook\": 0.0, \"google\": 0.0, \"correo\": 590.8604468, \"ventas\": 80849.8, \"a\\u00f1o\": 2019, \"mes\": 4, \"correo_sat\": 0.4225901050487615, \"facebook_sat\": 0.0, \"google_sat\": 0.04099130982666279, \"impresiones_sat\": 0.5014742832789996, \"radio_sat\": 0.005098467515661528, \"tv_abierta_sat\": 0.0, \"tv_paga_sat\": 0.0}, {\"fecha\": \"2019-05-05T00:00:00\", \"tv_abierta\": 0.0, \"tv_paga\": 0.0, \"radio\": 0.0, \"impresiones\": 926.9789257, \"facebook\": 0.0, \"google\": 0.0, \"correo\": 1052.204085, \"ventas\": 74565.6, \"a\\u00f1o\": 2019, \"mes\": 5, \"correo_sat\": 0.5536585860087739, \"facebook_sat\": 0.0, \"google_sat\": 0.0, \"impresiones_sat\": 0.37349988091091846, \"radio_sat\": 0.0, \"tv_abierta_sat\": 0.0, \"tv_paga_sat\": 0.0}, {\"fecha\": \"2019-05-12T00:00:00\", \"tv_abierta\": 0.0, \"tv_paga\": 0.0, \"radio\": 0.0, \"impresiones\": 0.0, \"facebook\": 0.0, \"google\": 0.0, \"correo\": 0.0, \"ventas\": 53651.8, \"a\\u00f1o\": 2019, \"mes\": 5, \"correo_sat\": 0.086555706943812, \"facebook_sat\": 0.0, \"google_sat\": 0.0, \"impresiones_sat\": 0.0908880228474789, \"radio_sat\": 0.0, \"tv_abierta_sat\": 0.0, \"tv_paga_sat\": 0.0}, {\"fecha\": \"2019-05-19T00:00:00\", \"tv_abierta\": 0.0, \"tv_paga\": 0.0, \"radio\": 0.0, \"impresiones\": 1081.880558, \"facebook\": 0.0, \"google\": 0.0, \"correo\": 1063.966361, \"ventas\": 81341.6, \"a\\u00f1o\": 2019, \"mes\": 5, \"correo_sat\": 0.5465052618784065, \"facebook_sat\": 0.0, \"google_sat\": 0.0, \"impresiones_sat\": 0.34008165175715555, \"radio_sat\": 0.0, \"tv_abierta_sat\": 0.0, \"tv_paga_sat\": 0.0}, {\"fecha\": \"2019-05-26T00:00:00\", \"tv_abierta\": 0.0, \"tv_paga\": 0.0, \"radio\": 8243.262274, \"impresiones\": 2096.376366, \"facebook\": 0.0, \"google\": 5927.910909, \"correo\": 2943.766987, \"ventas\": 100655.3, \"a\\u00f1o\": 2019, \"mes\": 5, \"correo_sat\": 0.77305396677112, \"facebook_sat\": 0.0, \"google_sat\": 0.4927229879681442, \"impresiones_sat\": 0.5127946747759616, \"radio_sat\": 0.5633133824826151, \"tv_abierta_sat\": 0.0, \"tv_paga_sat\": 0.0}, {\"fecha\": \"2019-06-02T00:00:00\", \"tv_abierta\": 12212.84443, \"tv_paga\": 0.0, \"radio\": 0.0, \"impresiones\": 1571.246382, \"facebook\": 3741.403015, \"google\": 6769.248234, \"correo\": 785.627917, \"ventas\": 108789.4, \"a\\u00f1o\": 2019, \"mes\": 6, \"correo_sat\": 0.5337312146066839, \"facebook_sat\": 0.571939185220198, \"google_sat\": 0.592276011420902, \"impresiones_sat\": 0.4738965405530552, \"radio_sat\": 0.1725263451913945, \"tv_abierta_sat\": 0.6645532550853124, \"tv_paga_sat\": 0.0}, {\"fecha\": \"2019-06-09T00:00:00\", \"tv_abierta\": 0.0, \"tv_paga\": 11494.89694, \"radio\": 0.0, \"impresiones\": 2511.898411, \"facebook\": 3464.168073, \"google\": 0.0, \"correo\": 2540.591709, \"ventas\": 115246.3, \"a\\u00f1o\": 2019, \"mes\": 6, \"correo_sat\": 0.7466955661404381, \"facebook_sat\": 0.650035180516241, \"google_sat\": 0.3393590928399079, \"impresiones_sat\": 0.5668732506975217, \"radio_sat\": 0.03260078359485869, \"tv_abierta_sat\": 0.0, \"tv_paga_sat\": 0.504988190318338}, {\"fecha\": \"2019-06-16T00:00:00\", \"tv_abierta\": 0.0, \"tv_paga\": 0.0, \"radio\": 0.0, \"impresiones\": 0.0, \"facebook\": 0.0, \"google\": 0.0, \"correo\": 0.0, \"ventas\": 65638.5, \"a\\u00f1o\": 2019, \"mes\": 6, \"correo_sat\": 0.18376959475549798, \"facebook_sat\": 0.4630436126332979, \"google_sat\": 0.1537241575091351, \"impresiones_sat\": 0.18025728417773318, \"radio_sat\": 0.005417317153366361, \"tv_abierta_sat\": 0.0, \"tv_paga_sat\": 0.3356839854606363}, {\"fecha\": \"2019-06-23T00:00:00\", \"tv_abierta\": 12771.64078, \"tv_paga\": 0.0, \"radio\": 8094.503776, \"impresiones\": 2347.668539, \"facebook\": 4295.957973, \"google\": 7760.083157, \"correo\": 3793.020033, \"ventas\": 141655.7, \"a\\u00f1o\": 2019, \"mes\": 6, \"correo_sat\": 0.8108758901385715, \"facebook_sat\": 0.6592287411978024, \"google_sat\": 0.5690702158917075, \"impresiones_sat\": 0.528014439062646, \"radio_sat\": 0.5588286135420483, \"tv_abierta_sat\": 0.6744520314996624, \"tv_paga_sat\": 0.20018653082332435}, {\"fecha\": \"2019-06-30T00:00:00\", \"tv_abierta\": 13537.72705, \"tv_paga\": 13562.95617, \"radio\": 8105.16348, \"impresiones\": 2695.618007, \"facebook\": 5132.313421, \"google\": 8684.473463, \"correo\": 4748.733985, \"ventas\": 156245.6, \"a\\u00f1o\": 2019, \"mes\": 6, \"correo_sat\": 0.8501637633079622, \"facebook_sat\": 0.7319733838152698, \"google_sat\": 0.6518851934124302, \"impresiones_sat\": 0.5884770233691202, \"radio_sat\": 0.5956485360346394, \"tv_abierta_sat\": 0.6871102723929075, \"tv_paga_sat\": 0.5703851788845692}, {\"fecha\": \"2019-07-07T00:00:00\", \"tv_abierta\": 0.0, \"tv_paga\": 10997.34848, \"radio\": 0.0, \"impresiones\": 1957.040866, \"facebook\": 0.0, \"google\": 0.0, \"correo\": 1072.839017, \"ventas\": 113050.4, \"a\\u00f1o\": 2019, \"mes\": 7, \"correo_sat\": 0.6213864142157363, \"facebook_sat\": 0.5590650264795031, \"google_sat\": 0.398385247418117, \"impresiones_sat\": 0.5331437718378321, \"radio_sat\": 0.19230819667187946, \"tv_abierta_sat\": 0.0, \"tv_paga_sat\": 0.6112300579477586}, {\"fecha\": \"2019-07-14T00:00:00\", \"tv_abierta\": 0.0, \"tv_paga\": 0.0, \"radio\": 0.0, \"impresiones\": 2154.814597, \"facebook\": 0.0, \"google\": 0.0, \"correo\": 1077.412415, \"ventas\": 82455.7, \"a\\u00f1o\": 2019, \"mes\": 7, \"correo_sat\": 0.5723570431243639, \"facebook_sat\": 0.3651886254962801, \"google_sat\": 0.18973519390529225, \"impresiones_sat\": 0.5422661175948853, \"radio_sat\": 0.037057287881526416, \"tv_abierta_sat\": 0.0, \"tv_paga_sat\": 0.4378098308578763}, {\"fecha\": \"2019-07-21T00:00:00\", \"tv_abierta\": 0.0, \"tv_paga\": 0.0, \"radio\": 0.0, \"impresiones\": 1353.941405, \"facebook\": 0.0, \"google\": 0.0, \"correo\": 959.6912981, \"ventas\": 76766.4, \"a\\u00f1o\": 2019, \"mes\": 7, \"correo_sat\": 0.5418272754386114, \"facebook_sat\": 0.20299172466074544, \"google_sat\": 0.05919788623129709, \"impresiones_sat\": 0.4514391857668354, \"radio_sat\": 0.005327044680437262, \"tv_abierta_sat\": 0.0, \"tv_paga_sat\": 0.278362900767723}, {\"fecha\": \"2019-07-28T00:00:00\", \"tv_abierta\": 0.0, \"tv_paga\": 0.0, \"radio\": 0.0, \"impresiones\": 0.0, \"facebook\": 0.0, \"google\": 0.0, \"correo\": 0.0, \"ventas\": 50235.3, \"a\\u00f1o\": 2019, \"mes\": 7, \"correo_sat\": 0.08270002853299543, \"facebook_sat\": 0.10574226744052226, \"google_sat\": 0.0, \"impresiones_sat\": 0.12135975560403635, \"radio_sat\": 0.0, \"tv_abierta_sat\": 0.0, \"tv_paga_sat\": 0.10603293944945258}, {\"fecha\": \"2019-08-04T00:00:00\", \"tv_abierta\": 0.0, \"tv_paga\": 0.0, \"radio\": 0.0, \"impresiones\": 1560.451343, \"facebook\": 0.0, \"google\": 0.0, \"correo\": 780.2293876, \"ventas\": 80588.5, \"a\\u00f1o\": 2019, \"mes\": 8, \"correo_sat\": 0.4695755739814591, \"facebook_sat\": 0.03803086926784777, \"google_sat\": 0.0, \"impresiones_sat\": 0.4259842430071161, \"radio_sat\": 0.0, \"tv_abierta_sat\": 0.0, \"tv_paga_sat\": 0.0}, {\"fecha\": \"2019-08-11T00:00:00\", \"tv_abierta\": 0.0, \"tv_paga\": 0.0, \"radio\": 0.0, \"impresiones\": 1812.350063, \"facebook\": 0.0, \"google\": 0.0, \"correo\": 2168.922572, \"ventas\": 99024.4, \"a\\u00f1o\": 2019, \"mes\": 8, \"correo_sat\": 0.7150599752643929, \"facebook_sat\": 0.0, \"google_sat\": 0.0, \"impresiones_sat\": 0.48972149414996824, \"radio_sat\": 0.0, \"tv_abierta_sat\": 0.0, \"tv_paga_sat\": 0.0}, {\"fecha\": \"2019-08-18T00:00:00\", \"tv_abierta\": 0.0, \"tv_paga\": 0.0, \"radio\": 0.0, \"impresiones\": 2189.399784, \"facebook\": 0.0, \"google\": 0.0, \"correo\": 1094.705062, \"ventas\": 80580.5, \"a\\u00f1o\": 2019, \"mes\": 8, \"correo_sat\": 0.5874861809477809, \"facebook_sat\": 0.0, \"google_sat\": 0.0, \"impresiones_sat\": 0.5391727217708832, \"radio_sat\": 0.0, \"tv_abierta_sat\": 0.0, \"tv_paga_sat\": 0.0}, {\"fecha\": \"2019-08-25T00:00:00\", \"tv_abierta\": 0.0, \"tv_paga\": 0.0, \"radio\": 0.0, \"impresiones\": 1121.921064, \"facebook\": 0.0, \"google\": 0.0, \"correo\": 597.9905969, \"ventas\": 74983.6, \"a\\u00f1o\": 2019, \"mes\": 8, \"correo_sat\": 0.4388491056918295, \"facebook_sat\": 0.0, \"google_sat\": 0.0, \"impresiones_sat\": 0.4163947791080613, \"radio_sat\": 0.0, \"tv_abierta_sat\": 0.0, \"tv_paga_sat\": 0.0}, {\"fecha\": \"2019-09-01T00:00:00\", \"tv_abierta\": 14136.19144, \"tv_paga\": 0.0, \"radio\": 7127.626067, \"impresiones\": 0.0, \"facebook\": 4252.459699, \"google\": 8225.767102, \"correo\": 3259.056377, \"ventas\": 122168.0, \"a\\u00f1o\": 2019, \"mes\": 9, \"correo_sat\": 0.7885381267715946, \"facebook_sat\": 0.6029577140415697, \"google_sat\": 0.5740732441441928, \"impresiones_sat\": 0.10704358987278394, \"radio_sat\": 0.5272734879870121, \"tv_abierta_sat\": 0.6963341793625304, \"tv_paga_sat\": 0.0}, {\"fecha\": \"2019-09-08T00:00:00\", \"tv_abierta\": 0.0, \"tv_paga\": 13820.01318, \"radio\": 7649.752382, \"impresiones\": 0.0, \"facebook\": 3806.761894, \"google\": 0.0, \"correo\": 4019.682347, \"ventas\": 110428.0, \"a\\u00f1o\": 2019, \"mes\": 9, \"correo_sat\": 0.8278952513272296, \"facebook_sat\": 0.673683381679438, \"google_sat\": 0.3227758179918755, \"impresiones_sat\": 0.01965055178895407, \"radio_sat\": 0.5793678791331893, \"tv_abierta_sat\": 0.0, \"tv_paga_sat\": 0.5508654313397724}, {\"fecha\": \"2019-09-15T00:00:00\", \"tv_abierta\": 0.0, \"tv_paga\": 0.0, \"radio\": 7748.900553, \"impresiones\": 0.0, \"facebook\": 0.0, \"google\": 0.0, \"correo\": 3122.828446, \"ventas\": 107139.2, \"a\\u00f1o\": 2019, \"mes\": 9, \"correo_sat\": 0.7952215419915435, \"facebook_sat\": 0.48940224405114424, \"google_sat\": 0.14423174407364625, \"impresiones_sat\": 0.003245358772456741, \"radio_sat\": 0.5893619398518335, \"tv_abierta_sat\": 0.0, \"tv_paga_sat\": 0.3779230526099795}, {\"fecha\": \"2019-09-22T00:00:00\", \"tv_abierta\": 0.0, \"tv_paga\": 0.0, \"radio\": 0.0, \"impresiones\": 1345.098888, \"facebook\": 0.0, \"google\": 0.0, \"correo\": 938.5527629, \"ventas\": 91300.6, \"a\\u00f1o\": 2019, \"mes\": 9, \"correo_sat\": 0.5750673729716466, \"facebook_sat\": 0.3079572288727143, \"google_sat\": 0.05624697717247321, \"impresiones_sat\": 0.38281039869087635, \"radio_sat\": 0.18829618981978977, \"tv_abierta_sat\": 0.0, \"tv_paga_sat\": 0.23131259484388533}, {\"fecha\": \"2019-09-29T00:00:00\", \"tv_abierta\": 0.0, \"tv_paga\": 0.0, \"radio\": 7409.997429, \"impresiones\": 0.0, \"facebook\": 0.0, \"google\": 0.0, \"correo\": 1990.307642, \"ventas\": 73258.2, \"a\\u00f1o\": 2019, \"mes\": 9, \"correo_sat\": 0.7009643391200875, \"facebook_sat\": 0.17122413268192002, \"google_sat\": 0.0, \"impresiones_sat\": 0.09431839846760771, \"radio_sat\": 0.5446906213993091, \"tv_abierta_sat\": 0.0, \"tv_paga_sat\": 0.12971787299864465}, {\"fecha\": \"2019-10-06T00:00:00\", \"tv_abierta\": 15737.44978, \"tv_paga\": 0.0, \"radio\": 7912.515954, \"impresiones\": 3273.723949, \"facebook\": 5071.363755, \"google\": 9341.060269, \"correo\": 3410.904343, \"ventas\": 152923.6, \"a\\u00f1o\": 2019, \"mes\": 10, \"correo_sat\": 0.8007629146166658, \"facebook_sat\": 0.6560009943421546, \"google_sat\": 0.6048315362573475, \"impresiones_sat\": 0.6041271189678437, \"radio_sat\": 0.5886053355077765, \"tv_abierta_sat\": 0.7185350980727048, \"tv_paga_sat\": 0.0}, {\"fecha\": \"2019-10-13T00:00:00\", \"tv_abierta\": 0.0, \"tv_paga\": 12745.98958, \"radio\": 0.0, \"impresiones\": 1721.560388, \"facebook\": 3570.814838, \"google\": 0.0, \"correo\": 1479.024515, \"ventas\": 115719.2, \"a\\u00f1o\": 2019, \"mes\": 10, \"correo_sat\": 0.663536846673052, \"facebook_sat\": 0.6820697877492843, \"google_sat\": 0.3511709510662657, \"impresiones_sat\": 0.5121266809011339, \"radio_sat\": 0.18727270097100512, \"tv_abierta_sat\": 0.0, \"tv_paga_sat\": 0.5307777657369454}, {\"fecha\": \"2019-10-20T00:00:00\", \"tv_abierta\": 0.0, \"tv_paga\": 0.0, \"radio\": 7539.872667, \"impresiones\": 0.0, \"facebook\": 0.0, \"google\": 0.0, \"correo\": 2342.772263, \"ventas\": 104643.0, \"a\\u00f1o\": 2019, \"mes\": 10, \"correo_sat\": 0.7360272528588052, \"facebook_sat\": 0.4955620742839528, \"google_sat\": 0.16064590552196098, \"impresiones_sat\": 0.14992436028310221, \"radio_sat\": 0.5489691392049089, \"tv_abierta_sat\": 0.0, \"tv_paga_sat\": 0.35909959960953}, {\"fecha\": \"2019-10-27T00:00:00\", \"tv_abierta\": 0.0, \"tv_paga\": 0.0, \"radio\": 0.0, \"impresiones\": 0.0, \"facebook\": 0.0, \"google\": 0.0, \"correo\": 1190.608003, \"ventas\": 92293.1, \"a\\u00f1o\": 2019, \"mes\": 10, \"correo_sat\": 0.6083638562378098, \"facebook_sat\": 0.3132343133497741, \"google_sat\": 0.06338981346756738, \"impresiones_sat\": 0.02870080021072533, \"radio_sat\": 0.16383419908277086, \"tv_abierta_sat\": 0.0, \"tv_paga_sat\": 0.2172413498910385}, {\"fecha\": \"2019-11-03T00:00:00\", \"tv_abierta\": 0.0, \"tv_paga\": 0.0, \"radio\": 6980.957551, \"impresiones\": 0.0, \"facebook\": 0.0, \"google\": 5997.0382, \"correo\": 3220.268719, \"ventas\": 99647.6, \"a\\u00f1o\": 2019, \"mes\": 11, \"correo_sat\": 0.7892135081887918, \"facebook_sat\": 0.17474983507373967, \"google_sat\": 0.49562104980545485, \"impresiones_sat\": 0.0049400859458035, \"radio_sat\": 0.5290261263987824, \"tv_abierta_sat\": 0.0, \"tv_paga_sat\": 0.1208551820224555}, {\"fecha\": \"2019-11-10T00:00:00\", \"tv_abierta\": 0.0, \"tv_paga\": 0.0, \"radio\": 0.0, \"impresiones\": 0.0, \"facebook\": 0.0, \"google\": 0.0, \"correo\": 1010.904894, \"ventas\": 80185.6, \"a\\u00f1o\": 2019, \"mes\": 11, \"correo_sat\": 0.5874769266677385, \"facebook_sat\": 0.08951097389663037, \"google_sat\": 0.2578735723615247, \"impresiones_sat\": 0.0006317530737241816, \"radio_sat\": 0.15365562919902567, \"tv_abierta_sat\": 0.0, \"tv_paga_sat\": 0.0}, {\"fecha\": \"2019-11-17T00:00:00\", \"tv_abierta\": 0.0, \"tv_paga\": 0.0, \"radio\": 0.0, \"impresiones\": 1231.09119, \"facebook\": 0.0, \"google\": 0.0, \"correo\": 615.5489413, \"ventas\": 72788.5, \"a\\u00f1o\": 2019, \"mes\": 11, \"correo_sat\": 0.4449767445586914, \"facebook_sat\": 0.026769783641351397, \"google_sat\": 0.10942927085971109, \"impresiones_sat\": 0.36195995212074006, \"radio_sat\": 0.027747089738878978, \"tv_abierta_sat\": 0.0, \"tv_paga_sat\": 0.0}, {\"fecha\": \"2019-11-24T00:00:00\", \"tv_abierta\": 0.0, \"tv_paga\": 0.0, \"radio\": 0.0, \"impresiones\": 1721.097524, \"facebook\": 0.0, \"google\": 0.0, \"correo\": 860.552507, \"ventas\": 84674.4, \"a\\u00f1o\": 2019, \"mes\": 11, \"correo_sat\": 0.5074058394567894, \"facebook_sat\": 0.0, \"google_sat\": 0.041641763905010475, \"impresiones_sat\": 0.4704550564567836, \"radio_sat\": 0.004591563186939488, \"tv_abierta_sat\": 0.0, \"tv_paga_sat\": 0.0}, {\"fecha\": \"2019-12-01T00:00:00\", \"tv_abierta\": 0.0, \"tv_paga\": 0.0, \"radio\": 0.0, \"impresiones\": 1454.965795, \"facebook\": 0.0, \"google\": 0.0, \"correo\": 789.7719727, \"ventas\": 76200.8, \"a\\u00f1o\": 2019, \"mes\": 12, \"correo_sat\": 0.49180391650946037, \"facebook_sat\": 0.0, \"google_sat\": 0.0, \"impresiones_sat\": 0.450467644257072, \"radio_sat\": 0.0, \"tv_abierta_sat\": 0.0, \"tv_paga_sat\": 0.0}, {\"fecha\": \"2019-12-08T00:00:00\", \"tv_abierta\": 0.0, \"tv_paga\": 0.0, \"radio\": 6715.183225, \"impresiones\": 0.0, \"facebook\": 0.0, \"google\": 0.0, \"correo\": 1079.293057, \"ventas\": 73539.9, \"a\\u00f1o\": 2019, \"mes\": 12, \"correo_sat\": 0.563133960010742, \"facebook_sat\": 0.0, \"google_sat\": 0.0, \"impresiones_sat\": 0.12105343229913536, \"radio_sat\": 0.5123962667870078, \"tv_abierta_sat\": 0.0, \"tv_paga_sat\": 0.0}, {\"fecha\": \"2019-12-15T00:00:00\", \"tv_abierta\": 12354.18923, \"tv_paga\": 0.0, \"radio\": 8273.950595, \"impresiones\": 1758.203902, \"facebook\": 4359.988375, \"google\": 7705.612541, \"correo\": 3198.480935, \"ventas\": 129474.8, \"a\\u00f1o\": 2019, \"mes\": 12, \"correo_sat\": 0.7872122872772094, \"facebook_sat\": 0.6089203212046734, \"google_sat\": 0.5580290835678064, \"impresiones_sat\": 0.45454701292980176, \"radio_sat\": 0.5942582496582948, \"tv_abierta_sat\": 0.6671135437073487, \"tv_paga_sat\": 0.0}, {\"fecha\": \"2019-12-22T00:00:00\", \"tv_abierta\": 0.0, \"tv_paga\": 10432.86188, \"radio\": 0.0, \"impresiones\": 2730.340502, \"facebook\": 0.0, \"google\": 0.0, \"correo\": 1365.176472, \"ventas\": 102507.8, \"a\\u00f1o\": 2019, \"mes\": 12, \"correo_sat\": 0.6453379912395276, \"facebook_sat\": 0.41957619815477354, \"google_sat\": 0.3086652206845951, \"impresiones_sat\": 0.5830042142732805, \"radio_sat\": 0.19141367951437518, \"tv_abierta_sat\": 0.0, \"tv_paga_sat\": 0.48076221429326205}, {\"fecha\": \"2019-12-29T00:00:00\", \"tv_abierta\": 15705.92872, \"tv_paga\": 0.0, \"radio\": 0.0, \"impresiones\": 2782.168607, \"facebook\": 4056.748142, \"google\": 8052.044172, \"correo\": 1820.419667, \"ventas\": 130965.7, \"a\\u00f1o\": 2019, \"mes\": 12, \"correo_sat\": 0.6863752982729288, \"facebook_sat\": 0.6408487802801336, \"google_sat\": 0.5963248463565701, \"impresiones_sat\": 0.6026774793214779, \"radio_sat\": 0.03685196792534036, \"tv_abierta_sat\": 0.718129436222249, \"tv_paga_sat\": 0.3144211182898135}, {\"fecha\": \"2020-01-05T00:00:00\", \"tv_abierta\": 0.0, \"tv_paga\": 12628.12278, \"radio\": 0.0, \"impresiones\": 2767.197714, \"facebook\": 3671.959616, \"google\": 0.0, \"correo\": 1383.598857, \"ventas\": 108433.0, \"a\\u00f1o\": 2020, \"mes\": 1, \"correo_sat\": 0.6330131401231478, \"facebook_sat\": 0.681501636939626, \"google_sat\": 0.34313403377015883, \"impresiones_sat\": 0.6047297760387093, \"radio_sat\": 0.005437375281750475, \"tv_abierta_sat\": 0.0, \"tv_paga_sat\": 0.574086110025513}, {\"fecha\": \"2020-01-12T00:00:00\", \"tv_abierta\": 0.0, \"tv_paga\": 0.0, \"radio\": 0.0, \"impresiones\": 1341.642463, \"facebook\": 0.0, \"google\": 0.0, \"correo\": 684.0655473, \"ventas\": 97023.2, \"a\\u00f1o\": 2020, \"mes\": 1, \"correo_sat\": 0.4741855265018752, \"facebook_sat\": 0.498347964893346, \"google_sat\": 0.14161703917987478, \"impresiones_sat\": 0.4667489552771939, \"radio_sat\": 0.0, \"tv_abierta_sat\": 0.0, \"tv_paga_sat\": 0.40035192367267347}, {\"fecha\": \"2020-01-19T00:00:00\", \"tv_abierta\": 12393.95412, \"tv_paga\": 0.0, \"radio\": 0.0, \"impresiones\": 2333.332505, \"facebook\": 3706.02476, \"google\": 7772.543576, \"correo\": 1166.666252, \"ventas\": 115097.2, \"a\\u00f1o\": 2020, \"mes\": 1, \"correo_sat\": 0.5802467188837909, \"facebook_sat\": 0.6408941703010769, \"google_sat\": 0.5711651010996335, \"impresiones_sat\": 0.5499906595252215, \"radio_sat\": 0.0, \"tv_abierta_sat\": 0.6678268070017698, \"tv_paga_sat\": 0.21566569305463787}, {\"fecha\": \"2020-01-26T00:00:00\", \"tv_abierta\": 0.0, \"tv_paga\": 12203.88358, \"radio\": 8316.925461, \"impresiones\": 0.0, \"facebook\": 0.0, \"google\": 6017.355381, \"correo\": 2550.619968, \"ventas\": 108629.1, \"a\\u00f1o\": 2020, \"mes\": 1, \"correo_sat\": 0.7485665090411445, \"facebook_sat\": 0.448424097893603, \"google_sat\": 0.5895449925170805, \"impresiones_sat\": 0.1702440863500987, \"radio_sat\": 0.5655005932896836, \"tv_abierta_sat\": 0.0, \"tv_paga_sat\": 0.5494020011231526}, {\"fecha\": \"2020-02-02T00:00:00\", \"tv_abierta\": 17785.02351, \"tv_paga\": 0.0, \"radio\": 0.0, \"impresiones\": 2895.860027, \"facebook\": 4241.375012, \"google\": 8729.787645, \"correo\": 1447.937655, \"ventas\": 148943.0, \"a\\u00f1o\": 2020, \"mes\": 2, \"correo_sat\": 0.65005176761825, \"facebook_sat\": 0.6542317139793056, \"google_sat\": 0.6596692399363947, \"impresiones_sat\": 0.5778351646372739, \"radio_sat\": 0.17380011789381755, \"tv_abierta_sat\": 0.7425988661990262, \"tv_paga_sat\": 0.3491592812952993}, {\"fecha\": \"2020-02-09T00:00:00\", \"tv_abierta\": 0.0, \"tv_paga\": 13818.3096, \"radio\": 0.0, \"impresiones\": 2268.064338, \"facebook\": 0.0, \"google\": 0.0, \"correo\": 2481.622236, \"ventas\": 120711.6, \"a\\u00f1o\": 2020, \"mes\": 2, \"correo_sat\": 0.7459257780401845, \"facebook_sat\": 0.46350247602944533, \"google_sat\": 0.4066785290712744, \"impresiones_sat\": 0.5604288352999998, \"radio_sat\": 0.03288253017538069, \"tv_abierta_sat\": 0.0, \"tv_paga_sat\": 0.5987291109929935}, {\"fecha\": \"2020-02-16T00:00:00\", \"tv_abierta\": 16794.3505, \"tv_paga\": 0.0, \"radio\": 8503.695433, \"impresiones\": 2458.413485, \"facebook\": 5059.715849, \"google\": 9550.96102, \"correo\": 5550.870019, \"ventas\": 165922.5, \"a\\u00f1o\": 2020, \"mes\": 2, \"correo_sat\": 0.8661989729976423, \"facebook_sat\": 0.6869989867520637, \"google_sat\": 0.6412459998334034, \"impresiones_sat\": 0.5739219626089372, \"radio_sat\": 0.5719584637906636, \"tv_abierta_sat\": 0.7314921104729379, \"tv_paga_sat\": 0.4249785470153615}, {\"fecha\": \"2020-02-23T00:00:00\", \"tv_abierta\": 0.0, \"tv_paga\": 15858.07208, \"radio\": 0.0, \"impresiones\": 1994.991758, \"facebook\": 3968.048722, \"google\": 0.0, \"correo\": 880.4927508, \"ventas\": 124412.4, \"a\\u00f1o\": 2020, \"mes\": 2, \"correo_sat\": 0.5977081397304972, \"facebook_sat\": 0.7089699265325505, \"google_sat\": 0.38143736439429654, \"impresiones_sat\": 0.5339041386232242, \"radio_sat\": 0.17701220788597288, \"tv_abierta_sat\": 0.0, \"tv_paga_sat\": 0.630759303619668}, {\"fecha\": \"2020-03-01T00:00:00\", \"tv_abierta\": 0.0, \"tv_paga\": 0.0, \"radio\": 7665.077812, \"impresiones\": 1958.606914, \"facebook\": 0.0, \"google\": 6090.961008, \"correo\": 2766.388393, \"ventas\": 122798.0, \"a\\u00f1o\": 2020, \"mes\": 3, \"correo_sat\": 0.763483541141778, \"facebook_sat\": 0.5277985771766943, \"google_sat\": 0.5441530783644289, \"impresiones_sat\": 0.5226737167379061, \"radio_sat\": 0.5524238884275513, \"tv_abierta_sat\": 0.0, \"tv_paga_sat\": 0.4583304807727447}, {\"fecha\": \"2020-03-08T00:00:00\", \"tv_abierta\": 0.0, \"tv_paga\": 0.0, \"radio\": 0.0, \"impresiones\": 0.0, \"facebook\": 0.0, \"google\": 0.0, \"correo\": 0.0, \"ventas\": 67900.8, \"a\\u00f1o\": 2020, \"mes\": 3, \"correo_sat\": 0.19775099831816495, \"facebook_sat\": 0.34164313800173424, \"google_sat\": 0.29682555692560864, \"impresiones_sat\": 0.15526034523092966, \"radio_sat\": 0.16631409964608154, \"tv_abierta_sat\": 0.0, \"tv_paga_sat\": 0.2566691195153626}, {\"fecha\": \"2020-03-15T00:00:00\", \"tv_abierta\": 12883.28206, \"tv_paga\": 0.0, \"radio\": 7304.978619, \"impresiones\": 0.0, \"facebook\": 3927.233823, \"google\": 7529.472315, \"correo\": 2805.070604, \"ventas\": 119092.2, \"a\\u00f1o\": 2020, \"mes\": 3, \"correo_sat\": 0.760580068727203, \"facebook_sat\": 0.6195167310536871, \"google_sat\": 0.5760072629078866, \"impresiones_sat\": 0.0298236159517086, \"radio_sat\": 0.540119364252385, \"tv_abierta_sat\": 0.6763600881010958, \"tv_paga_sat\": 0.1460536087717416}, {\"fecha\": \"2020-03-22T00:00:00\", \"tv_abierta\": 0.0, \"tv_paga\": 14054.04239, \"radio\": 8937.281785, \"impresiones\": 3348.173371, \"facebook\": 4080.522125, \"google\": 6155.984402, \"correo\": 3390.612446, \"ventas\": 134963.3, \"a\\u00f1o\": 2020, \"mes\": 3, \"correo_sat\": 0.8023726700104916, \"facebook_sat\": 0.6887801499262758, \"google_sat\": 0.5982456438946261, \"impresiones_sat\": 0.607517847539223, \"radio_sat\": 0.6136621142323082, \"tv_abierta_sat\": 0.0, \"tv_paga_sat\": 0.555016415908243}, {\"fecha\": \"2020-03-29T00:00:00\", \"tv_abierta\": 0.0, \"tv_paga\": 0.0, \"radio\": 8636.434059, \"impresiones\": 3143.480519, \"facebook\": 0.0, \"google\": 5967.224547, \"correo\": 2499.045277, \"ventas\": 122973.3, \"a\\u00f1o\": 2020, \"mes\": 3, \"correo_sat\": 0.757495867614014, \"facebook_sat\": 0.5023413680342383, \"google_sat\": 0.5981860760150053, \"impresiones_sat\": 0.6307908114409454, \"radio_sat\": 0.6164781799728373, \"tv_abierta_sat\": 0.0, \"tv_paga_sat\": 0.38187889124944235}, {\"fecha\": \"2020-04-05T00:00:00\", \"tv_abierta\": 0.0, \"tv_paga\": 0.0, \"radio\": 0.0, \"impresiones\": 0.0, \"facebook\": 0.0, \"google\": 0.0, \"correo\": 0.0, \"ventas\": 63780.2, \"a\\u00f1o\": 2020, \"mes\": 4, \"correo_sat\": 0.1926474025894508, \"facebook_sat\": 0.31245367797473944, \"google_sat\": 0.34488016396459226, \"impresiones_sat\": 0.22295629823183197, \"radio_sat\": 0.20622680816136862, \"tv_abierta_sat\": 0.0, \"tv_paga_sat\": 0.23431184588382084}, {\"fecha\": \"2020-04-12T00:00:00\", \"tv_abierta\": 15692.36022, \"tv_paga\": 0.0, \"radio\": 9273.745816, \"impresiones\": 2037.212843, \"facebook\": 4263.099627, \"google\": 9270.591896, \"correo\": 4461.708696, \"ventas\": 144472.2, \"a\\u00f1o\": 2020, \"mes\": 4, \"correo_sat\": 0.8344761113904964, \"facebook_sat\": 0.6341565135841184, \"google_sat\": 0.627683541109555, \"impresiones_sat\": 0.4967229105750314, \"radio_sat\": 0.59878708135959, \"tv_abierta_sat\": 0.7179544555062537, \"tv_paga_sat\": 0.13162539055945727}, {\"fecha\": \"2020-04-19T00:00:00\", \"tv_abierta\": 15396.42785, \"tv_paga\": 14535.75093, \"radio\": 0.0, \"impresiones\": 2484.199484, \"facebook\": 5577.108103, \"google\": 8187.659973, \"correo\": 1908.389017, \"ventas\": 141996.3, \"a\\u00f1o\": 2020, \"mes\": 4, \"correo_sat\": 0.7170012243365165, \"facebook_sat\": 0.7365958050965844, \"google_sat\": 0.6577648581847158, \"impresiones_sat\": 0.5672064904285894, \"radio_sat\": 0.1937229289898843, \"tv_abierta_sat\": 0.7140832999680558, \"tv_paga_sat\": 0.5633235024250376}, {\"fecha\": \"2020-04-26T00:00:00\", \"tv_abierta\": 0.0, \"tv_paga\": 11964.92964, \"radio\": 0.0, \"impresiones\": 0.0, \"facebook\": 0.0, \"google\": 0.0, \"correo\": 0.0, \"ventas\": 88186.0, \"a\\u00f1o\": 2020, \"mes\": 4, \"correo_sat\": 0.16209007214852147, \"facebook_sat\": 0.5622216150920204, \"google_sat\": 0.39916713271664656, \"impresiones_sat\": 0.18031917997273145, \"radio_sat\": 0.036527317812144564, \"tv_abierta_sat\": 0.0, \"tv_paga_sat\": 0.6297461894518037}, {\"fecha\": \"2020-05-03T00:00:00\", \"tv_abierta\": 0.0, \"tv_paga\": 0.0, \"radio\": 8243.702704, \"impresiones\": 1476.882597, \"facebook\": 0.0, \"google\": 6150.456161, \"correo\": 2632.056111, \"ventas\": 117351.0, \"a\\u00f1o\": 2020, \"mes\": 5, \"correo_sat\": 0.7486256224924173, \"facebook_sat\": 0.36774901049792524, \"google_sat\": 0.5541096191636548, \"impresiones_sat\": 0.4177006892838187, \"radio_sat\": 0.5644918648330043, \"tv_abierta_sat\": 0.0, \"tv_paga_sat\": 0.4572513534803538}, {\"fecha\": \"2020-05-10T00:00:00\", \"tv_abierta\": 13136.69147, \"tv_paga\": 0.0, \"radio\": 0.0, \"impresiones\": 0.0, \"facebook\": 3714.382926, \"google\": 7839.337274, \"correo\": 0.0, \"ventas\": 108044.6, \"a\\u00f1o\": 2020, \"mes\": 5, \"correo_sat\": 0.1852228757182289, \"facebook_sat\": 0.6148676518572929, \"google_sat\": 0.6296564266952381, \"impresiones_sat\": 0.10755810999848056, \"radio_sat\": 0.17253397271165746, \"tv_abierta_sat\": 0.6806091848277783, \"tv_paga_sat\": 0.2944321705121539}, {\"fecha\": \"2020-05-17T00:00:00\", \"tv_abierta\": 0.0, \"tv_paga\": 11284.96447, \"radio\": 0.0, \"impresiones\": 1585.892989, \"facebook\": 0.0, \"google\": 0.0, \"correo\": 792.9503325, \"ventas\": 100088.4, \"a\\u00f1o\": 2020, \"mes\": 5, \"correo_sat\": 0.47645392091266076, \"facebook_sat\": 0.42568717972168074, \"google_sat\": 0.3671864677930464, \"impresiones_sat\": 0.42887155801711446, \"radio_sat\": 0.032602468637087566, \"tv_abierta_sat\": 0.0, \"tv_paga_sat\": 0.5306415344989098}, {\"fecha\": \"2020-05-24T00:00:00\", \"tv_abierta\": 13109.00641, \"tv_paga\": 0.0, \"radio\": 0.0, \"impresiones\": 2071.882615, \"facebook\": 3989.98853, \"google\": 8025.245275, \"correo\": 1035.941307, \"ventas\": 130389.4, \"a\\u00f1o\": 2020, \"mes\": 5, \"correo_sat\": 0.5527436760324821, \"facebook_sat\": 0.6368610178914106, \"google_sat\": 0.6031983758807771, \"impresiones_sat\": 0.5194055990238354, \"radio_sat\": 0.005417605027606644, \"tv_abierta_sat\": 0.6801504063058145, \"tv_paga_sat\": 0.3315861872118909}, {\"fecha\": \"2020-05-31T00:00:00\", \"tv_abierta\": 0.0, \"tv_paga\": 11863.06111, \"radio\": 7490.513908, \"impresiones\": 3553.770006, \"facebook\": 3793.41635, \"google\": 6152.318871, \"correo\": 3841.391404, \"ventas\": 129975.7, \"a\\u00f1o\": 2020, \"mes\": 5, \"correo_sat\": 0.815471378546478, \"facebook_sat\": 0.6824355379407089, \"google_sat\": 0.6047237529652146, \"impresiones_sat\": 0.6452889742007352, \"radio_sat\": 0.5396320661971467, \"tv_abierta_sat\": 0.0, \"tv_paga_sat\": 0.5649427814842204}, {\"fecha\": \"2020-06-07T00:00:00\", \"tv_abierta\": 14314.89219, \"tv_paga\": 0.0, \"radio\": 0.0, \"impresiones\": 3539.383101, \"facebook\": 0.0, \"google\": 8194.747392, \"correo\": 1769.699305, \"ventas\": 131316.8, \"a\\u00f1o\": 2020, \"mes\": 6, \"correo_sat\": 0.6997030092654394, \"facebook_sat\": 0.49942444094421884, \"google_sat\": 0.6507950040465699, \"impresiones_sat\": 0.6594635689397073, \"radio_sat\": 0.1592811949912179, \"tv_abierta_sat\": 0.6989839079020168, \"tv_paga_sat\": 0.39143260861683354}, {\"fecha\": \"2020-06-14T00:00:00\", \"tv_abierta\": 15168.16422, \"tv_paga\": 12387.54832, \"radio\": 9391.425027, \"impresiones\": 0.0, \"facebook\": 5674.41, \"google\": 9315.044909, \"correo\": 3072.271392, \"ventas\": 147039.0, \"a\\u00f1o\": 2020, \"mes\": 6, \"correo_sat\": 0.7843405336305457, \"facebook_sat\": 0.7134364583035907, \"google_sat\": 0.6860603507302016, \"impresiones_sat\": 0.24549116080595268, \"radio_sat\": 0.6000427957626612, \"tv_abierta_sat\": 0.7110239619959201, \"tv_paga_sat\": 0.5758548044219428}, {\"fecha\": \"2020-06-21T00:00:00\", \"tv_abierta\": 16021.87724, \"tv_paga\": 14834.85764, \"radio\": 10469.13915, \"impresiones\": 3645.978231, \"facebook\": 0.0, \"google\": 9579.184457, \"correo\": 5412.180059, \"ventas\": 176683.4, \"a\\u00f1o\": 2020, \"mes\": 6, \"correo_sat\": 0.864336847318628, \"facebook_sat\": 0.5332718975863868, \"google_sat\": 0.6989580119317667, \"impresiones_sat\": 0.6343255666269436, \"radio_sat\": 0.6528720904389498, \"tv_abierta_sat\": 0.7221434246011537, \"tv_paga_sat\": 0.6654471589848764}, {\"fecha\": \"2020-06-28T00:00:00\", \"tv_abierta\": 0.0, \"tv_paga\": 14473.83948, \"radio\": 0.0, \"impresiones\": 1761.050479, \"facebook\": 3747.945337, \"google\": 0.0, \"correo\": 1357.023569, \"ventas\": 132674.3, \"a\\u00f1o\": 2020, \"mes\": 6, \"correo_sat\": 0.6682571663431301, \"facebook_sat\": 0.6514363042364039, \"google_sat\": 0.4460659725595464, \"impresiones_sat\": 0.5244506728205461, \"radio_sat\": 0.23265233607612842, \"tv_abierta_sat\": 0.0, \"tv_paga_sat\": 0.6881226349747381}, {\"fecha\": \"2020-07-05T00:00:00\", \"tv_abierta\": 0.0, \"tv_paga\": 0.0, \"radio\": 0.0, \"impresiones\": 0.0, \"facebook\": 0.0, \"google\": 0.0, \"correo\": 0.0, \"ventas\": 81065.6, \"a\\u00f1o\": 2020, \"mes\": 7, \"correo_sat\": 0.13330744246045328, \"facebook_sat\": 0.4604545320343961, \"google_sat\": 0.20871229955476633, \"impresiones_sat\": 0.1561689496355316, \"radio_sat\": 0.046715277835379945, \"tv_abierta_sat\": 0.0, \"tv_paga_sat\": 0.5221893740684033}, {\"fecha\": \"2020-07-12T00:00:00\", \"tv_abierta\": 0.0, \"tv_paga\": 0.0, \"radio\": 7475.067101, \"impresiones\": 1421.780827, \"facebook\": 0.0, \"google\": 5970.575767, \"correo\": 3114.418988, \"ventas\": 111824.4, \"a\\u00f1o\": 2020, \"mes\": 7, \"correo_sat\": 0.7786661917564228, \"facebook_sat\": 0.27674960429095674, \"google_sat\": 0.5116485628122662, \"impresiones_sat\": 0.4068969550280249, \"radio_sat\": 0.5405838935635998, \"tv_abierta_sat\": 0.0, \"tv_paga_sat\": 0.32210443981656156}, {\"fecha\": \"2020-07-19T00:00:00\", \"tv_abierta\": 0.0, \"tv_paga\": 0.0, \"radio\": 9729.70782, \"impresiones\": 1712.609546, \"facebook\": 0.0, \"google\": 6254.152304, \"correo\": 4248.714318, \"ventas\": 108866.7, \"a\\u00f1o\": 2020, \"mes\": 7, \"correo_sat\": 0.8347664138024111, \"facebook_sat\": 0.15085231239890345, \"google_sat\": 0.5781856799004611, \"impresiones_sat\": 0.4749150509040782, \"radio_sat\": 0.6312208793190002, \"tv_abierta_sat\": 0.0, \"tv_paga_sat\": 0.13502618824414164}, {\"fecha\": \"2020-07-26T00:00:00\", \"tv_abierta\": 0.0, \"tv_paga\": 0.0, \"radio\": 7911.748222, \"impresiones\": 1663.233815, \"facebook\": 0.0, \"google\": 6214.114461, \"correo\": 4088.58371, \"ventas\": 111609.1, \"a\\u00f1o\": 2020, \"mes\": 7, \"correo_sat\": 0.8330296868832129, \"facebook_sat\": 0.05854430685604971, \"google_sat\": 0.6004658883033828, \"impresiones_sat\": 0.47867008385377996, \"radio_sat\": 0.6023457127510555, \"tv_abierta_sat\": 0.0, \"tv_paga_sat\": 0.0}, {\"fecha\": \"2020-08-02T00:00:00\", \"tv_abierta\": 0.0, \"tv_paga\": 0.0, \"radio\": 0.0, \"impresiones\": 1804.142157, \"facebook\": 0.0, \"google\": 0.0, \"correo\": 902.0759973, \"ventas\": 71603.1, \"a\\u00f1o\": 2020, \"mes\": 8, \"correo_sat\": 0.5827663657985642, \"facebook_sat\": 0.028060438546646076, \"google_sat\": 0.3470283479242923, \"impresiones_sat\": 0.49635466034717346, \"radio_sat\": 0.19667621480101163, \"tv_abierta_sat\": 0.0, \"tv_paga_sat\": 0.0}, {\"fecha\": \"2020-08-09T00:00:00\", \"tv_abierta\": 15624.41527, \"tv_paga\": 0.0, \"radio\": 7510.208381, \"impresiones\": 3816.215997, \"facebook\": 0.0, \"google\": 8780.34302, \"correo\": 3068.817937, \"ventas\": 144521.3, \"a\\u00f1o\": 2020, \"mes\": 8, \"correo_sat\": 0.7807819334050385, \"facebook_sat\": 0.0, \"google_sat\": 0.6170530875225823, \"impresiones_sat\": 0.6580183833409006, \"radio_sat\": 0.5483350829427555, \"tv_abierta_sat\": 0.7170749527463279, \"tv_paga_sat\": 0.0}, {\"fecha\": \"2020-08-16T00:00:00\", \"tv_abierta\": 0.0, \"tv_paga\": 11966.32946, \"radio\": 9014.765424, \"impresiones\": 0.0, \"facebook\": 4176.319216, \"google\": 0.0, \"correo\": 3595.072219, \"ventas\": 111898.7, \"a\\u00f1o\": 2020, \"mes\": 8, \"correo_sat\": 0.8120123364691991, \"facebook_sat\": 0.5986244697954332, \"google_sat\": 0.3564053447998178, \"impresiones_sat\": 0.24425225077828075, \"radio_sat\": 0.6162534995520634, \"tv_abierta_sat\": 0.0, \"tv_paga_sat\": 0.5150322330520913}, {\"fecha\": \"2020-08-23T00:00:00\", \"tv_abierta\": 13876.81188, \"tv_paga\": 0.0, \"radio\": 0.0, \"impresiones\": 1754.620378, \"facebook\": 4710.912699, \"google\": 8319.410358, \"correo\": 3927.086051, \"ventas\": 150129.2, \"a\\u00f1o\": 2020, \"mes\": 8, \"correo_sat\": 0.8261232279609345, \"facebook_sat\": 0.7036836441563583, \"google_sat\": 0.6067743121755541, \"impresiones_sat\": 0.4631571737464438, \"radio_sat\": 0.2055383513658819, \"tv_abierta_sat\": 0.6924040975611176, \"tv_paga_sat\": 0.3447055440097833}, {\"fecha\": \"2020-08-30T00:00:00\", \"tv_abierta\": 0.0, \"tv_paga\": 10145.59881, \"radio\": 0.0, \"impresiones\": 0.0, \"facebook\": 0.0, \"google\": 0.0, \"correo\": 0.0, \"ventas\": 86062.7, \"a\\u00f1o\": 2020, \"mes\": 8, \"correo_sat\": 0.26627661451576534, \"facebook_sat\": 0.5243835800581089, \"google_sat\": 0.3530268368853175, \"impresiones_sat\": 0.12652299675243106, \"radio_sat\": 0.0401374732819806, \"tv_abierta_sat\": 0.0, \"tv_paga_sat\": 0.5372432040548121}, {\"fecha\": \"2020-09-06T00:00:00\", \"tv_abierta\": 0.0, \"tv_paga\": 0.0, \"radio\": 0.0, \"impresiones\": 0.0, \"facebook\": 0.0, \"google\": 0.0, \"correo\": 0.0, \"ventas\": 59912.7, \"a\\u00f1o\": 2020, \"mes\": 9, \"correo_sat\": 0.026863713819415366, \"facebook_sat\": 0.33856900586624933, \"google_sat\": 0.14563457269410826, \"impresiones_sat\": 0.02365243844525301, \"radio_sat\": 0.005921332315880515, \"tv_abierta_sat\": 0.0, \"tv_paga_sat\": 0.3651009918834184}, {\"fecha\": \"2020-09-13T00:00:00\", \"tv_abierta\": 0.0, \"tv_paga\": 0.0, \"radio\": 0.0, \"impresiones\": 1365.837494, \"facebook\": 0.0, \"google\": 0.0, \"correo\": 682.9187471, \"ventas\": 82390.6, \"a\\u00f1o\": 2020, \"mes\": 9, \"correo_sat\": 0.4352989924913038, \"facebook_sat\": 0.19201543230294035, \"google_sat\": 0.056850897489154076, \"impresiones_sat\": 0.38771524520240147, \"radio_sat\": 0.0, \"tv_abierta_sat\": 0.0, \"tv_paga_sat\": 0.18093995699810395}, {\"fecha\": \"2020-09-20T00:00:00\", \"tv_abierta\": 0.0, \"tv_paga\": 0.0, \"radio\": 0.0, \"impresiones\": 0.0, \"facebook\": 0.0, \"google\": 0.0, \"correo\": 0.0, \"ventas\": 55619.5, \"a\\u00f1o\": 2020, \"mes\": 9, \"correo_sat\": 0.055476469912602175, \"facebook_sat\": 0.09936888717382876, \"google_sat\": 0.0, \"impresiones_sat\": 0.09616016684894099, \"radio_sat\": 0.0, \"tv_abierta_sat\": 0.0, \"tv_paga_sat\": 0.09863062402947181}, {\"fecha\": \"2020-09-27T00:00:00\", \"tv_abierta\": 0.0, \"tv_paga\": 0.0, \"radio\": 7106.572773, \"impresiones\": 2723.619883, \"facebook\": 0.0, \"google\": 5870.165393, \"correo\": 2712.777492, \"ventas\": 97972.6, \"a\\u00f1o\": 2020, \"mes\": 9, \"correo_sat\": 0.7536169857990334, \"facebook_sat\": 0.03501760133892491, \"google_sat\": 0.4902764377601839, \"impresiones_sat\": 0.5600217169777394, \"radio_sat\": 0.5265360967761441, \"tv_abierta_sat\": 0.0, \"tv_paga_sat\": 0.0}, {\"fecha\": \"2020-10-04T00:00:00\", \"tv_abierta\": 15898.7683, \"tv_paga\": 0.0, \"radio\": 9061.042594, \"impresiones\": 2082.819395, \"facebook\": 0.0, \"google\": 8900.024276, \"correo\": 4296.997882, \"ventas\": 146738.1, \"a\\u00f1o\": 2020, \"mes\": 10, \"correo_sat\": 0.8352965327017675, \"facebook_sat\": 0.0, \"google_sat\": 0.6426566520511383, \"impresiones_sat\": 0.5399420691689482, \"radio_sat\": 0.6150428634968146, \"tv_abierta_sat\": 0.7205930492357344, \"tv_paga_sat\": 0.0}, {\"fecha\": \"2020-10-11T00:00:00\", \"tv_abierta\": 0.0, \"tv_paga\": 11957.77199, \"radio\": 0.0, \"impresiones\": 2208.985917, \"facebook\": 3537.273494, \"google\": 0.0, \"correo\": 1641.682022, \"ventas\": 115983.5, \"a\\u00f1o\": 2020, \"mes\": 10, \"correo_sat\": 0.6909487682958964, \"facebook_sat\": 0.5581513950628805, \"google_sat\": 0.38873792161005094, \"impresiones_sat\": 0.5485553934796059, \"radio_sat\": 0.20523551717713936, \"tv_abierta_sat\": 0.0, \"tv_paga_sat\": 0.5148535465692844}, {\"fecha\": \"2020-10-18T00:00:00\", \"tv_abierta\": 14060.05213, \"tv_paga\": 0.0, \"radio\": 0.0, \"impresiones\": 3223.639438, \"facebook\": 0.0, \"google\": 8215.30662, \"correo\": 1611.828234, \"ventas\": 133681.2, \"a\\u00f1o\": 2020, \"mes\": 10, \"correo_sat\": 0.6650472440350822, \"facebook_sat\": 0.36967145311313604, \"google_sat\": 0.6110455552989743, \"impresiones_sat\": 0.6281916615764377, \"radio_sat\": 0.04006604586135407, \"tv_abierta_sat\": 0.695190979807859, \"tv_paga_sat\": 0.3445439682293659}, {\"fecha\": \"2020-10-25T00:00:00\", \"tv_abierta\": 13322.51759, \"tv_paga\": 14461.82632, \"radio\": 9267.803205, \"impresiones\": 0.0, \"facebook\": 4829.178111, \"google\": 8315.625527, \"correo\": 3720.832981, \"ventas\": 144281.4, \"a\\u00f1o\": 2020, \"mes\": 10, \"correo_sat\": 0.8127601249395415, \"facebook_sat\": 0.6663175601434171, \"google_sat\": 0.6555334488663733, \"impresiones_sat\": 0.22110408532845904, \"radio_sat\": 0.592881494233629, \"tv_abierta_sat\": 0.6836548332457929, \"tv_paga_sat\": 0.6068926371620186}, {\"fecha\": \"2020-11-01T00:00:00\", \"tv_abierta\": 0.0, \"tv_paga\": 11244.5084, \"radio\": 7910.340394, \"impresiones\": 0.0, \"facebook\": 3537.216126, \"google\": 0.0, \"correo\": 2280.437958, \"ventas\": 111728.4, \"a\\u00f1o\": 2020, \"mes\": 11, \"correo_sat\": 0.7435175882131586, \"facebook_sat\": 0.6865479400368903, \"google_sat\": 0.39399404333440224, \"impresiones_sat\": 0.04536951746138413, \"radio_sat\": 0.5955158787980158, \"tv_abierta_sat\": 0.0, \"tv_paga_sat\": 0.638026340127661}, {\"fecha\": \"2020-11-08T00:00:00\", \"tv_abierta\": 0.0, \"tv_paga\": 0.0, \"radio\": 0.0, \"impresiones\": 0.0, \"facebook\": 0.0, \"google\": 0.0, \"correo\": 0.0, \"ventas\": 63405.6, \"a\\u00f1o\": 2020, \"mes\": 11, \"correo_sat\": 0.18125761586352473, \"facebook_sat\": 0.5041849381717618, \"google_sat\": 0.18692924527064209, \"impresiones_sat\": 0.007795226959007399, \"radio_sat\": 0.19222266462815613, \"tv_abierta_sat\": 0.0, \"tv_paga_sat\": 0.4472678741179379}, {\"fecha\": \"2020-11-15T00:00:00\", \"tv_abierta\": 0.0, \"tv_paga\": 0.0, \"radio\": 0.0, \"impresiones\": 1276.15208, \"facebook\": 0.0, \"google\": 0.0, \"correo\": 638.0760399, \"ventas\": 80953.8, \"a\\u00f1o\": 2020, \"mes\": 11, \"correo_sat\": 0.42371102103769964, \"facebook_sat\": 0.3207016144996874, \"google_sat\": 0.05682650349815588, \"impresiones_sat\": 0.3707715775445448, \"radio_sat\": 0.03703763970127346, \"tv_abierta_sat\": 0.0, \"tv_paga_sat\": 0.28612951721387}, {\"fecha\": \"2020-11-22T00:00:00\", \"tv_abierta\": 0.0, \"tv_paga\": 0.0, \"radio\": 7093.56714, \"impresiones\": 1240.900281, \"facebook\": 0.0, \"google\": 0.0, \"correo\": 1889.296564, \"ventas\": 92686.6, \"a\\u00f1o\": 2020, \"mes\": 11, \"correo_sat\": 0.685843297676332, \"facebook_sat\": 0.17118012181395567, \"google_sat\": 0.0, \"impresiones_sat\": 0.40142077578916374, \"radio_sat\": 0.5272504758786448, \"tv_abierta_sat\": 0.0, \"tv_paga_sat\": 0.10815823174643734}, {\"fecha\": \"2020-11-29T00:00:00\", \"tv_abierta\": 0.0, \"tv_paga\": 0.0, \"radio\": 0.0, \"impresiones\": 0.0, \"facebook\": 0.0, \"google\": 0.0, \"correo\": 0.0, \"ventas\": 45323.3, \"a\\u00f1o\": 2020, \"mes\": 11, \"correo_sat\": 0.14286866504985063, \"facebook_sat\": 0.08749786823865321, \"google_sat\": 0.0, \"impresiones_sat\": 0.10126390901705075, \"radio_sat\": 0.1521244212515777, \"tv_abierta_sat\": 0.0, \"tv_paga_sat\": 0.0}, {\"fecha\": \"2020-12-06T00:00:00\", \"tv_abierta\": 0.0, \"tv_paga\": 0.0, \"radio\": 9417.46947, \"impresiones\": 1383.775862, \"facebook\": 0.0, \"google\": 6066.159761, \"correo\": 3496.745267, \"ventas\": 109826.2, \"a\\u00f1o\": 2020, \"mes\": 12, \"correo_sat\": 0.7979640120133297, \"facebook_sat\": 0.026524580997122987, \"google_sat\": 0.49848595047831934, \"impresiones_sat\": 0.3963500218060473, \"radio_sat\": 0.600434787818647, \"tv_abierta_sat\": 0.0, \"tv_paga_sat\": 0.0}, {\"fecha\": \"2020-12-13T00:00:00\", \"tv_abierta\": 0.0, \"tv_paga\": 0.0, \"radio\": 0.0, \"impresiones\": 2129.987458, \"facebook\": 0.0, \"google\": 0.0, \"correo\": 1008.778784, \"ventas\": 84476.4, \"a\\u00f1o\": 2020, \"mes\": 12, \"correo_sat\": 0.5897337869476899, \"facebook_sat\": 0.0, \"google_sat\": 0.2600728119482415, \"impresiones_sat\": 0.5219511524107404, \"radio_sat\": 0.19541980500757136, \"tv_abierta_sat\": 0.0, \"tv_paga_sat\": 0.0}, {\"fecha\": \"2020-12-20T00:00:00\", \"tv_abierta\": 0.0, \"tv_paga\": 0.0, \"radio\": 7539.207439, \"impresiones\": 0.0, \"facebook\": 0.0, \"google\": 5734.143338, \"correo\": 1463.49831, \"ventas\": 76170.5, \"a\\u00f1o\": 2020, \"mes\": 12, \"correo_sat\": 0.6373451831308065, \"facebook_sat\": 0.0, \"google_sat\": 0.5154690615005292, \"impresiones_sat\": 0.15495189257353362, \"radio_sat\": 0.5492033854964754, \"tv_abierta_sat\": 0.0, \"tv_paga_sat\": 0.0}, {\"fecha\": \"2020-12-27T00:00:00\", \"tv_abierta\": 0.0, \"tv_paga\": 0.0, \"radio\": 0.0, \"impresiones\": 1137.529745, \"facebook\": 0.0, \"google\": 0.0, \"correo\": 516.7042719, \"ventas\": 76100.2, \"a\\u00f1o\": 2020, \"mes\": 12, \"correo_sat\": 0.41724723468372427, \"facebook_sat\": 0.0, \"google_sat\": 0.27336072069364814, \"impresiones_sat\": 0.3568787814505536, \"radio_sat\": 0.16451714459488478, \"tv_abierta_sat\": 0.0, \"tv_paga_sat\": 0.0}, {\"fecha\": \"2021-01-03T00:00:00\", \"tv_abierta\": 0.0, \"tv_paga\": 0.0, \"radio\": 0.0, \"impresiones\": 997.9487307, \"facebook\": 0.0, \"google\": 0.0, \"correo\": 498.9743654, \"ventas\": 78498.8, \"a\\u00f1o\": 2021, \"mes\": 1, \"correo_sat\": 0.381318746529685, \"facebook_sat\": 0.0, \"google_sat\": 0.1051365210991152, \"impresiones_sat\": 0.3561259549191704, \"radio_sat\": 0.029899612558202605, \"tv_abierta_sat\": 0.0, \"tv_paga_sat\": 0.0}, {\"fecha\": \"2021-01-10T00:00:00\", \"tv_abierta\": 0.0, \"tv_paga\": 0.0, \"radio\": 0.0, \"impresiones\": 1311.634663, \"facebook\": 0.0, \"google\": 0.0, \"correo\": 558.8220688, \"ventas\": 71046.1, \"a\\u00f1o\": 2021, \"mes\": 1, \"correo_sat\": 0.40341420021139646, \"facebook_sat\": 0.0, \"google_sat\": 0.03988911148973117, \"impresiones_sat\": 0.41081429180459395, \"radio_sat\": 0.004956919063237415, \"tv_abierta_sat\": 0.0, \"tv_paga_sat\": 0.0}, {\"fecha\": \"2021-01-17T00:00:00\", \"tv_abierta\": 0.0, \"tv_paga\": 0.0, \"radio\": 0.0, \"impresiones\": 0.0, \"facebook\": 0.0, \"google\": 0.0, \"correo\": 987.6134821, \"ventas\": 84474.0, \"a\\u00f1o\": 2021, \"mes\": 1, \"correo_sat\": 0.5377910704502832, \"facebook_sat\": 0.0, \"google_sat\": 0.0, \"impresiones_sat\": 0.10475874731738974, \"radio_sat\": 0.0, \"tv_abierta_sat\": 0.0, \"tv_paga_sat\": 0.0}, {\"fecha\": \"2021-01-24T00:00:00\", \"tv_abierta\": 0.0, \"tv_paga\": 0.0, \"radio\": 0.0, \"impresiones\": 0.0, \"facebook\": 0.0, \"google\": 0.0, \"correo\": 721.6060053, \"ventas\": 78854.8, \"a\\u00f1o\": 2021, \"mes\": 1, \"correo_sat\": 0.4740431702339648, \"facebook_sat\": 0.0, \"google_sat\": 0.0, \"impresiones_sat\": 0.01928141554923009, \"radio_sat\": 0.0, \"tv_abierta_sat\": 0.0, \"tv_paga_sat\": 0.0}, {\"fecha\": \"2021-01-31T00:00:00\", \"tv_abierta\": 0.0, \"tv_paga\": 0.0, \"radio\": 7253.389124, \"impresiones\": 0.0, \"facebook\": 0.0, \"google\": 0.0, \"correo\": 2617.615821, \"ventas\": 99924.2, \"a\\u00f1o\": 2021, \"mes\": 1, \"correo_sat\": 0.7509914396964026, \"facebook_sat\": 0.0, \"google_sat\": 0.0, \"impresiones_sat\": 0.003222632112548098, \"radio_sat\": 0.5316309369998603, \"tv_abierta_sat\": 0.0, \"tv_paga_sat\": 0.0}, {\"fecha\": \"2021-02-07T00:00:00\", \"tv_abierta\": 0.0, \"tv_paga\": 0.0, \"radio\": 7444.538388, \"impresiones\": 0.0, \"facebook\": 0.0, \"google\": 6067.148986, \"correo\": 2686.527754, \"ventas\": 113229.5, \"a\\u00f1o\": 2021, \"mes\": 2, \"correo_sat\": 0.7649849786747849, \"facebook_sat\": 0.0, \"google_sat\": 0.49852671496368195, \"impresiones_sat\": 0.0004813969373245733, \"radio_sat\": 0.5741857291158093, \"tv_abierta_sat\": 0.0, \"tv_paga_sat\": 0.0}, {\"fecha\": \"2021-02-14T00:00:00\", \"tv_abierta\": 16364.60875, \"tv_paga\": 0.0, \"radio\": 10125.7237, \"impresiones\": 0.0, \"facebook\": 0.0, \"google\": 9401.227475, \"correo\": 5658.230414, \"ventas\": 159772.7, \"a\\u00f1o\": 2021, \"mes\": 2, \"correo_sat\": 0.868750004804658, \"facebook_sat\": 0.0, \"google_sat\": 0.6542145365106735, \"impresiones_sat\": 0.0, \"radio_sat\": 0.6431760580711342, \"tv_abierta_sat\": 0.7263703755687807, \"tv_paga_sat\": 0.0}, {\"fecha\": \"2021-02-21T00:00:00\", \"tv_abierta\": 15476.37129, \"tv_paga\": 13228.70309, \"radio\": 0.0, \"impresiones\": 2726.284817, \"facebook\": 4798.159501, \"google\": 8142.709867, \"correo\": 1122.975551, \"ventas\": 142594.8, \"a\\u00f1o\": 2021, \"mes\": 2, \"correo_sat\": 0.6389798436287802, \"facebook_sat\": 0.6314725140505583, \"google_sat\": 0.6670272174142836, \"impresiones_sat\": 0.5567966530797328, \"radio_sat\": 0.2256093299821118, \"tv_abierta_sat\": 0.7151394946536229, \"tv_paga_sat\": 0.5400239769680397}, {\"fecha\": \"2021-02-28T00:00:00\", \"tv_abierta\": 0.0, \"tv_paga\": 11484.21997, \"radio\": 7430.871738, \"impresiones\": 2940.832964, \"facebook\": 0.0, \"google\": 0.0, \"correo\": 3485.438674, \"ventas\": 128860.5, \"a\\u00f1o\": 2021, \"mes\": 2, \"correo_sat\": 0.8023424684796743, \"facebook_sat\": 0.44306048103938284, \"google_sat\": 0.4146527508650909, \"impresiones_sat\": 0.6103251696641138, \"radio_sat\": 0.5473385473375797, \"tv_abierta_sat\": 0.0, \"tv_paga_sat\": 0.6154926996512052}, {\"fecha\": \"2021-03-07T00:00:00\", \"tv_abierta\": 0.0, \"tv_paga\": 0.0, \"radio\": 0.0, \"impresiones\": 0.0, \"facebook\": 0.0, \"google\": 0.0, \"correo\": 1472.433004, \"ventas\": 91318.6, \"a\\u00f1o\": 2021, \"mes\": 3, \"correo_sat\": 0.6630447567290927, \"facebook_sat\": 0.26972074702814614, \"google_sat\": 0.19025379352338695, \"impresiones_sat\": 0.20832832850976143, \"radio_sat\": 0.162928088850185, \"tv_abierta_sat\": 0.0, \"tv_paga_sat\": 0.44223880699430695}, {\"fecha\": \"2021-03-14T00:00:00\", \"tv_abierta\": 0.0, \"tv_paga\": 0.0, \"radio\": 6950.878411, \"impresiones\": 1652.984214, \"facebook\": 0.0, \"google\": 6287.798943, \"correo\": 4383.311693, \"ventas\": 109533.9, \"a\\u00f1o\": 2021, \"mes\": 3, \"correo_sat\": 0.8356652244590238, \"facebook_sat\": 0.1463738551497489, \"google_sat\": 0.5213652802230409, \"impresiones_sat\": 0.4462672158954959, \"radio_sat\": 0.5278804075294821, \"tv_abierta_sat\": 0.0, \"tv_paga_sat\": 0.2819879393188136}, {\"fecha\": \"2021-03-21T00:00:00\", \"tv_abierta\": 0.0, \"tv_paga\": 0.0, \"radio\": 0.0, \"impresiones\": 1669.733555, \"facebook\": 0.0, \"google\": 0.0, \"correo\": 638.8793243, \"ventas\": 85742.3, \"a\\u00f1o\": 2021, \"mes\": 3, \"correo_sat\": 0.525550929203422, \"facebook_sat\": 0.07373936956838044, \"google_sat\": 0.2670376228731221, \"impresiones_sat\": 0.47502072405919804, \"radio_sat\": 0.15305866164433038, \"tv_abierta_sat\": 0.0, \"tv_paga_sat\": 0.11020984595139476}, {\"fecha\": \"2021-03-28T00:00:00\", \"tv_abierta\": 15168.61005, \"tv_paga\": 0.0, \"radio\": 8822.850446, \"impresiones\": 2505.880692, \"facebook\": 0.0, \"google\": 9438.045438, \"correo\": 5345.957802, \"ventas\": 149580.5, \"a\\u00f1o\": 2021, \"mes\": 3, \"correo_sat\": 0.8592211091084632, \"facebook_sat\": 0.035643016902715645, \"google_sat\": 0.6262088335885381, \"impresiones_sat\": 0.5664601071963796, \"radio_sat\": 0.584904867075161, \"tv_abierta_sat\": 0.7110300011103704, \"tv_paga_sat\": 0.0}, {\"fecha\": \"2021-04-04T00:00:00\", \"tv_abierta\": 0.0, \"tv_paga\": 16677.10789, \"radio\": 10839.38641, \"impresiones\": 0.0, \"facebook\": 4164.390309, \"google\": 6391.030591, \"correo\": 3365.503286, \"ventas\": 135432.1, \"a\\u00f1o\": 2021, \"mes\": 4, \"correo_sat\": 0.8097158646545237, \"facebook_sat\": 0.5979369969575877, \"google_sat\": 0.6211559679163738, \"impresiones_sat\": 0.17988679569839144, \"radio_sat\": 0.658000882172883, \"tv_abierta_sat\": 0.0, \"tv_paga_sat\": 0.5967850550224124}, {\"fecha\": \"2021-04-11T00:00:00\", \"tv_abierta\": 14865.70462, \"tv_paga\": 0.0, \"radio\": 0.0, \"impresiones\": 0.0, \"facebook\": 0.0, \"google\": 8520.496768, \"correo\": 1830.864119, \"ventas\": 138670.8, \"a\\u00f1o\": 2021, \"mes\": 4, \"correo_sat\": 0.7046846550791425, \"facebook_sat\": 0.4084412564866214, \"google_sat\": 0.6621394960233353, \"impresiones_sat\": 0.03554288700911889, \"radio_sat\": 0.23677554977399706, \"tv_abierta_sat\": 0.7068679004803818, \"tv_paga_sat\": 0.4230039356730862}, {\"fecha\": \"2021-04-18T00:00:00\", \"tv_abierta\": 0.0, \"tv_paga\": 13247.7026, \"radio\": 9897.128235, \"impresiones\": 0.0, \"facebook\": 4173.917215, \"google\": 7127.131408, \"correo\": 4283.52, \"ventas\": 138549.2, \"a\\u00f1o\": 2021, \"mes\": 4, \"correo_sat\": 0.8334705926477359, \"facebook_sat\": 0.6442710759194671, \"google_sat\": 0.6504510944369497, \"impresiones_sat\": 0.006052919133966313, \"radio_sat\": 0.6152254316128278, \"tv_abierta_sat\": 0.0, \"tv_paga_sat\": 0.606119680667152}, {\"fecha\": \"2021-04-25T00:00:00\", \"tv_abierta\": 0.0, \"tv_paga\": 0.0, \"radio\": 0.0, \"impresiones\": 2007.339684, \"facebook\": 0.0, \"google\": 0.0, \"correo\": 1003.669842, \"ventas\": 108952.2, \"a\\u00f1o\": 2021, \"mes\": 4, \"correo_sat\": 0.6019308750048309, \"facebook_sat\": 0.45677345157004723, \"google_sat\": 0.38794654741237644, \"impresiones_sat\": 0.4807685341933907, \"radio_sat\": 0.20476589178507038, \"tv_abierta_sat\": 0.0, \"tv_paga_sat\": 0.43253622544938236}, {\"fecha\": \"2021-05-02T00:00:00\", \"tv_abierta\": 0.0, \"tv_paga\": 0.0, \"radio\": 0.0, \"impresiones\": 1282.629351, \"facebook\": 0.0, \"google\": 0.0, \"correo\": 494.8177039, \"ventas\": 78544.0, \"a\\u00f1o\": 2021, \"mes\": 5, \"correo_sat\": 0.4020867003200848, \"facebook_sat\": 0.2807734276213367, \"google_sat\": 0.1720243730858181, \"impresiones_sat\": 0.4274138655064251, \"radio_sat\": 0.03888720641753305, \"tv_abierta_sat\": 0.0, \"tv_paga_sat\": 0.22387808148102703}, {\"fecha\": \"2021-05-09T00:00:00\", \"tv_abierta\": 0.0, \"tv_paga\": 0.0, \"radio\": 0.0, \"impresiones\": 1887.83627, \"facebook\": 0.0, \"google\": 0.0, \"correo\": 943.922958, \"ventas\": 74055.4, \"a\\u00f1o\": 2021, \"mes\": 5, \"correo_sat\": 0.5269710546282318, \"facebook_sat\": 0.1534339720063186, \"google_sat\": 0.04910349882375366, \"impresiones_sat\": 0.4988349194914609, \"radio_sat\": 0.006497145122619636, \"tv_abierta_sat\": 0.0, \"tv_paga_sat\": 0.1250176068497422}, {\"fecha\": \"2021-05-16T00:00:00\", \"tv_abierta\": 0.0, \"tv_paga\": 0.0, \"radio\": 6421.189002, \"impresiones\": 0.0, \"facebook\": 0.0, \"google\": 0.0, \"correo\": 2209.41349, \"ventas\": 77052.6, \"a\\u00f1o\": 2021, \"mes\": 5, \"correo_sat\": 0.7200800238974054, \"facebook_sat\": 0.0647671962293482, \"google_sat\": 0.0, \"impresiones_sat\": 0.14327255982103398, \"radio_sat\": 0.5012068522073019, \"tv_abierta_sat\": 0.0, \"tv_paga_sat\": 0.0}, {\"fecha\": \"2021-05-23T00:00:00\", \"tv_abierta\": 0.0, \"tv_paga\": 0.0, \"radio\": 7855.985497, \"impresiones\": 2010.631305, \"facebook\": 0.0, \"google\": 6102.639384, \"correo\": 2613.370487, \"ventas\": 108884.1, \"a\\u00f1o\": 2021, \"mes\": 5, \"correo_sat\": 0.7583833246369418, \"facebook_sat\": 0.031150296718193055, \"google_sat\": 0.49998485021437006, \"impresiones_sat\": 0.4883909004926755, \"radio_sat\": 0.5819012297452196, \"tv_abierta_sat\": 0.0, \"tv_paga_sat\": 0.0}, {\"fecha\": \"2021-05-30T00:00:00\", \"tv_abierta\": 0.0, \"tv_paga\": 0.0, \"radio\": 0.0, \"impresiones\": 1164.358039, \"facebook\": 0.0, \"google\": 0.0, \"correo\": 582.1825654, \"ventas\": 77156.3, \"a\\u00f1o\": 2021, \"mes\": 5, \"correo_sat\": 0.47235567869141637, \"facebook_sat\": 0.0, \"google_sat\": 0.2612282368910196, \"impresiones_sat\": 0.41065993594906564, \"radio_sat\": 0.18364202929293086, \"tv_abierta_sat\": 0.0, \"tv_paga_sat\": 0.0}, {\"fecha\": \"2021-06-06T00:00:00\", \"tv_abierta\": 0.0, \"tv_paga\": 0.0, \"radio\": 7576.636484, \"impresiones\": 1832.587119, \"facebook\": 0.0, \"google\": 6164.125202, \"correo\": 3888.607246, \"ventas\": 105817.2, \"a\\u00f1o\": 2021, \"mes\": 6, \"correo_sat\": 0.816393006756325, \"facebook_sat\": 0.0, \"google_sat\": 0.5316275994538857, \"impresiones_sat\": 0.49017836263595166, \"radio_sat\": 0.5499573883780954, \"tv_abierta_sat\": 0.0, \"tv_paga_sat\": 0.0}, {\"fecha\": \"2021-06-13T00:00:00\", \"tv_abierta\": 0.0, \"tv_paga\": 0.0, \"radio\": 8016.903347, \"impresiones\": 1772.386963, \"facebook\": 3392.961893, \"google\": 6222.548234, \"correo\": 4122.308856, \"ventas\": 112185.8, \"a\\u00f1o\": 2021, \"mes\": 6, \"correo_sat\": 0.8327972337057958, \"facebook_sat\": 0.5478555542346998, \"google_sat\": 0.5869413656384421, \"impresiones_sat\": 0.494479227026105, \"radio_sat\": 0.5920659823836216, \"tv_abierta_sat\": 0.0, \"tv_paga_sat\": 0.0}, {\"fecha\": \"2021-06-20T00:00:00\", \"tv_abierta\": 14544.23175, \"tv_paga\": 0.0, \"radio\": 0.0, \"impresiones\": 2621.487855, \"facebook\": 3853.011002, \"google\": 8223.83163, \"correo\": 1396.107744, \"ventas\": 127897.0, \"a\\u00f1o\": 2021, \"mes\": 6, \"correo_sat\": 0.6612716202213557, \"facebook_sat\": 0.6596927866241625, \"google_sat\": 0.6471853079572063, \"impresiones_sat\": 0.5784775560673585, \"radio_sat\": 0.18946074418592368, \"tv_abierta_sat\": 0.7023174917806723, \"tv_paga_sat\": 0.0}, {\"fecha\": \"2021-06-27T00:00:00\", \"tv_abierta\": 0.0, \"tv_paga\": 11158.63018, \"radio\": 0.0, \"impresiones\": 1326.37852, \"facebook\": 3409.399095, \"google\": 0.0, \"correo\": 704.2579913, \"ventas\": 99232.3, \"a\\u00f1o\": 2021, \"mes\": 6, \"correo_sat\": 0.4850699311840617, \"facebook_sat\": 0.6792352397892504, \"google_sat\": 0.39344735935937586, \"impresiones_sat\": 0.45701130727960704, \"radio_sat\": 0.03640497971517058, \"tv_abierta_sat\": 0.0, \"tv_paga_sat\": 0.4975658783349282}, {\"fecha\": \"2021-07-04T00:00:00\", \"tv_abierta\": 0.0, \"tv_paga\": 0.0, \"radio\": 0.0, \"impresiones\": 0.0, \"facebook\": 0.0, \"google\": 0.0, \"correo\": 2427.395245, \"ventas\": 97818.3, \"a\\u00f1o\": 2021, \"mes\": 7, \"correo_sat\": 0.7371701456352672, \"facebook_sat\": 0.4957426067856997, \"google_sat\": 0.1759958119262565, \"impresiones_sat\": 0.12383556960689328, \"radio_sat\": 0.005269342178897362, \"tv_abierta_sat\": 0.0, \"tv_paga_sat\": 0.32909573604224013}, {\"fecha\": \"2021-07-11T00:00:00\", \"tv_abierta\": 12197.05028, \"tv_paga\": 0.0, \"radio\": 0.0, \"impresiones\": 0.0, \"facebook\": 0.0, \"google\": 7075.124136, \"correo\": 914.0073081, \"ventas\": 115706.2, \"a\\u00f1o\": 2021, \"mes\": 7, \"correo_sat\": 0.5541984788001701, \"facebook_sat\": 0.31338968962839214, \"google_sat\": 0.5493201001443936, \"impresiones_sat\": 0.023088029812330272, \"radio_sat\": 0.0, \"tv_abierta_sat\": 0.6642647149640972, \"tv_paga_sat\": 0.19547509583015485}, {\"fecha\": \"2021-07-18T00:00:00\", \"tv_abierta\": 13803.53923, \"tv_paga\": 0.0, \"radio\": 0.0, \"impresiones\": 0.0, \"facebook\": 0.0, \"google\": 7551.310281, \"correo\": 1372.44336, \"ventas\": 122945.4, \"a\\u00f1o\": 2021, \"mes\": 7, \"correo_sat\": 0.6212270349286959, \"facebook_sat\": 0.17485400746496838, \"google_sat\": 0.6222502031727571, \"impresiones_sat\": 0.0038465800517110574, \"radio_sat\": 0.0, \"tv_abierta_sat\": 0.6912753857131547, \"tv_paga_sat\": 0.1074209239243716}, {\"fecha\": \"2021-07-25T00:00:00\", \"tv_abierta\": 0.0, \"tv_paga\": 13014.14243, \"radio\": 0.0, \"impresiones\": 1162.016005, \"facebook\": 0.0, \"google\": 0.0, \"correo\": 1145.281694, \"ventas\": 97459.0, \"a\\u00f1o\": 2021, \"mes\": 7, \"correo_sat\": 0.5858697777930426, \"facebook_sat\": 0.0793996576111047, \"google_sat\": 0.36808901783536807, \"impresiones_sat\": 0.3489397725386053, \"radio_sat\": 0.0, \"tv_abierta_sat\": 0.0, \"tv_paga_sat\": 0.5359595274808775}, {\"fecha\": \"2021-08-01T00:00:00\", \"tv_abierta\": 0.0, \"tv_paga\": 0.0, \"radio\": 7698.337301, \"impresiones\": 2366.34938, \"facebook\": 0.0, \"google\": 0.0, \"correo\": 4718.478772, \"ventas\": 119184.1, \"a\\u00f1o\": 2021, \"mes\": 8, \"correo_sat\": 0.8442457291507465, \"facebook_sat\": 0.025590645019133784, \"google_sat\": 0.1708014784140264, \"impresiones_sat\": 0.5413695444941642, \"radio_sat\": 0.5464230322295763, \"tv_abierta_sat\": 0.0, \"tv_paga_sat\": 0.36390517770559144}, {\"fecha\": \"2021-08-08T00:00:00\", \"tv_abierta\": 0.0, \"tv_paga\": 0.0, \"radio\": 7021.523533, \"impresiones\": 1673.722517, \"facebook\": 0.0, \"google\": 5909.438545, \"correo\": 2869.860962, \"ventas\": 109834.0, \"a\\u00f1o\": 2021, \"mes\": 8, \"correo_sat\": 0.7847202758052978, \"facebook_sat\": 0.0, \"google_sat\": 0.505683471800453, \"impresiones_sat\": 0.4922808610556914, \"radio_sat\": 0.5639850026174048, \"tv_abierta_sat\": 0.0, \"tv_paga_sat\": 0.22080257036890835}, {\"fecha\": \"2021-08-15T00:00:00\", \"tv_abierta\": 12035.72938, \"tv_paga\": 0.0, \"radio\": 0.0, \"impresiones\": 0.0, \"facebook\": 3519.762547, \"google\": 6680.478226, \"correo\": 0.0, \"ventas\": 89447.4, \"a\\u00f1o\": 2021, \"mes\": 8, \"correo_sat\": 0.21777191177843558, \"facebook_sat\": 0.5569271506054067, \"google_sat\": 0.5896634570430551, \"impresiones_sat\": 0.14008433596255482, \"radio_sat\": 0.17291653594295994, \"tv_abierta_sat\": 0.6612888964615495, \"tv_paga_sat\": 0.12308480653083875}, {\"fecha\": \"2021-08-22T00:00:00\", \"tv_abierta\": 18164.39087, \"tv_paga\": 12513.84607, \"radio\": 0.0, \"impresiones\": 3414.316127, \"facebook\": 0.0, \"google\": 8429.301658, \"correo\": 1707.158063, \"ventas\": 131314.9, \"a\\u00f1o\": 2021, \"mes\": 8, \"correo_sat\": 0.6602408063464942, \"facebook_sat\": 0.36851582158355034, \"google_sat\": 0.653899123045955, \"impresiones_sat\": 0.6154915236066942, \"radio_sat\": 0.03268701535829858, \"tv_abierta_sat\": 0.7466125658830505, \"tv_paga_sat\": 0.5261974746336736}, {\"fecha\": \"2021-08-29T00:00:00\", \"tv_abierta\": 14159.23954, \"tv_paga\": 12451.42384, \"radio\": 0.0, \"impresiones\": 3275.084482, \"facebook\": 4305.628266, \"google\": 8685.538107, \"correo\": 1304.891652, \"ventas\": 146694.0, \"a\\u00f1o\": 2021, \"mes\": 8, \"correo_sat\": 0.6179420295190065, \"facebook_sat\": 0.643943768595037, \"google_sat\": 0.6765074029454583, \"impresiones_sat\": 0.6400371860224568, \"radio_sat\": 0.004618121304662084, \"tv_abierta_sat\": 0.6966785479671395, \"tv_paga_sat\": 0.6233725990041168}, {\"fecha\": \"2021-09-05T00:00:00\", \"tv_abierta\": 15870.62214, \"tv_paga\": 12147.8768, \"radio\": 0.0, \"impresiones\": 2183.057113, \"facebook\": 4410.60634, \"google\": 8008.928899, \"correo\": 1091.528556, \"ventas\": 138433.3, \"a\\u00f1o\": 2021, \"mes\": 9, \"correo_sat\": 0.5748955888429702, \"facebook_sat\": 0.7071530537211277, \"google_sat\": 0.6706909964969481, \"impresiones_sat\": 0.5660793081301295, \"radio_sat\": 0.0, \"tv_abierta_sat\": 0.7202361568142567, \"tv_paga_sat\": 0.6549271685532184}, {\"fecha\": \"2021-09-12T00:00:00\", \"tv_abierta\": 0.0, \"tv_paga\": 12675.05267, \"radio\": 8795.680572, \"impresiones\": 0.0, \"facebook\": 0.0, \"google\": 6419.741583, \"correo\": 3482.725272, \"ventas\": 140245.3, \"a\\u00f1o\": 2021, \"mes\": 9, \"correo_sat\": 0.8009713863675646, \"facebook_sat\": 0.5285458093348723, \"google_sat\": 0.6370215730244914, \"impresiones_sat\": 0.17971059278941034, \"radio_sat\": 0.5791987063161219, \"tv_abierta_sat\": 0.0, \"tv_paga_sat\": 0.6737343804456727}, {\"fecha\": \"2021-09-19T00:00:00\", \"tv_abierta\": 13329.98214, \"tv_paga\": 0.0, \"radio\": 0.0, \"impresiones\": 2505.05568, \"facebook\": 3756.298617, \"google\": 7631.781447, \"correo\": 1820.388546, \"ventas\": 133157.9, \"a\\u00f1o\": 2021, \"mes\": 9, \"correo_sat\": 0.7021044255543029, \"facebook_sat\": 0.6505851397595128, \"google_sat\": 0.6490605748620658, \"impresiones_sat\": 0.5436217045412982, \"radio_sat\": 0.1819840581129897, \"tv_abierta_sat\": 0.6837759625149692, \"tv_paga_sat\": 0.4887494615155739}, {\"fecha\": \"2021-09-26T00:00:00\", \"tv_abierta\": 0.0, \"tv_paga\": 11623.44129, \"radio\": 7549.779916, \"impresiones\": 0.0, \"facebook\": 0.0, \"google\": 0.0, \"correo\": 2173.509112, \"ventas\": 102372.4, \"a\\u00f1o\": 2021, \"mes\": 9, \"correo_sat\": 0.7242962480948395, \"facebook_sat\": 0.4599991642406363, \"google_sat\": 0.3871662162159941, \"impresiones_sat\": 0.1666119119468525, \"radio_sat\": 0.54902296194507, \"tv_abierta_sat\": 0.0, \"tv_paga_sat\": 0.589923358204783}, {\"fecha\": \"2021-10-03T00:00:00\", \"tv_abierta\": 0.0, \"tv_paga\": 0.0, \"radio\": 0.0, \"impresiones\": 1422.82151, \"facebook\": 0.0, \"google\": 0.0, \"correo\": 850.6948294, \"ventas\": 90301.7, \"a\\u00f1o\": 2021, \"mes\": 10, \"correo_sat\": 0.5366967842428542, \"facebook_sat\": 0.28340466707956147, \"google_sat\": 0.1686647050371392, \"impresiones_sat\": 0.4079471809332646, \"radio_sat\": 0.164417004880649, \"tv_abierta_sat\": 0.0, \"tv_paga_sat\": 0.3930795363773499}, {\"fecha\": \"2021-10-10T00:00:00\", \"tv_abierta\": 15872.81096, \"tv_paga\": 0.0, \"radio\": 7939.661289, \"impresiones\": 2518.88, \"facebook\": 0.0, \"google\": 8688.287477, \"correo\": 5195.985757, \"ventas\": 159041.1, \"a\\u00f1o\": 2021, \"mes\": 10, \"correo_sat\": 0.8558737682787088, \"facebook_sat\": 0.1439930698150669, \"google_sat\": 0.5965957049564132, \"impresiones_sat\": 0.5607020681390338, \"radio_sat\": 0.5601159159751271, \"tv_abierta_sat\": 0.720263943673705, \"tv_paga_sat\": 0.20197301979113103}, {\"fecha\": \"2021-10-17T00:00:00\", \"tv_abierta\": 0.0, \"tv_paga\": 13057.23109, \"radio\": 7878.190161, \"impresiones\": 1905.701646, \"facebook\": 4053.967907, \"google\": 6051.443745, \"correo\": 2622.642683, \"ventas\": 128392.9, \"a\\u00f1o\": 2021, \"mes\": 10, \"correo_sat\": 0.7730531773759922, \"facebook_sat\": 0.6016034986196834, \"google_sat\": 0.5991929336617218, \"impresiones_sat\": 0.5221285525785486, \"radio_sat\": 0.589936984313289, \"tv_abierta_sat\": 0.0, \"tv_paga_sat\": 0.5622043152122355}, {\"fecha\": \"2021-10-24T00:00:00\", \"tv_abierta\": 0.0, \"tv_paga\": 0.0, \"radio\": 0.0, \"impresiones\": 0.0, \"facebook\": 0.0, \"google\": 0.0, \"correo\": 994.9269219, \"ventas\": 90634.5, \"a\\u00f1o\": 2021, \"mes\": 10, \"correo_sat\": 0.5798822410301236, \"facebook_sat\": 0.4121368718950077, \"google_sat\": 0.3458276151131501, \"impresiones_sat\": 0.1549909203602605, \"radio_sat\": 0.18812858063505616, \"tv_abierta_sat\": 0.0, \"tv_paga_sat\": 0.3646706589959018}, {\"fecha\": \"2021-10-31T00:00:00\", \"tv_abierta\": 0.0, \"tv_paga\": 0.0, \"radio\": 0.0, \"impresiones\": 1088.82755, \"facebook\": 0.0, \"google\": 0.0, \"correo\": 544.4166887, \"ventas\": 72502.1, \"a\\u00f1o\": 2021, \"mes\": 10, \"correo_sat\": 0.41804647686530705, \"facebook_sat\": 0.23783677471821763, \"google_sat\": 0.15749785010770626, \"impresiones_sat\": 0.3474970310779561, \"radio_sat\": 0.03610107086590437, \"tv_abierta_sat\": 0.0, \"tv_paga_sat\": 0.22137179238685228}]}}, {\"mode\": \"vega-lite\"});\n",
       "</script>"
      ],
      "text/plain": [
       "alt.HConcatChart(...)"
      ]
     },
     "execution_count": 83,
     "metadata": {},
     "output_type": "execute_result"
    }
   ],
   "source": [
    "(chart_facebook | chart_impresiones | chart_correo | chart_radio)"
   ]
  },
  {
   "cell_type": "markdown",
   "id": "c3dc96c2",
   "metadata": {},
   "source": [
    "## 🔎 Interpretación al último año"
   ]
  },
  {
   "cell_type": "markdown",
   "id": "a7d86ed8",
   "metadata": {},
   "source": [
    "- Los siguientes pasos son para formatear la data a una estructura sencilla de interpretar por Altair. Esto para lograr un gráfico interactivo que permita analizar las categorías seleccionadas únicamente."
   ]
  },
  {
   "cell_type": "code",
   "execution_count": 84,
   "id": "77327605",
   "metadata": {},
   "outputs": [],
   "source": [
    "data_melt_named_sales = data_names_dates.melt(id_vars=['fecha','año','mes'], var_name='categoria',value_vars=data.columns[1:9],value_name='monto')"
   ]
  },
  {
   "cell_type": "code",
   "execution_count": 85,
   "id": "1d72dfb2",
   "metadata": {},
   "outputs": [],
   "source": [
    "data_melt_named_sales_2020 = data_melt_named_sales[data_melt_named_sales.año==2020].drop(['fecha','año'], axis=1)"
   ]
  },
  {
   "cell_type": "code",
   "execution_count": 86,
   "id": "db6c5742",
   "metadata": {},
   "outputs": [],
   "source": [
    "data_melt_named_sales_2020_g = data_melt_named_sales_2020.groupby(by=['mes','categoria'])[['monto']].sum().reset_index()"
   ]
  },
  {
   "cell_type": "code",
   "execution_count": 87,
   "id": "8be177ab",
   "metadata": {},
   "outputs": [],
   "source": [
    "df_no_sales = data_melt_named_sales_2020_g[data_melt_named_sales_2020_g.categoria != 'ventas']"
   ]
  },
  {
   "cell_type": "code",
   "execution_count": 88,
   "id": "a75574ab",
   "metadata": {},
   "outputs": [],
   "source": [
    "df_sales = data_melt_named_sales_2020_g[data_melt_named_sales_2020_g.categoria == 'ventas']"
   ]
  },
  {
   "cell_type": "code",
   "execution_count": 89,
   "id": "cf6a1072",
   "metadata": {},
   "outputs": [],
   "source": [
    "multi_select = alt.selection_multi(fields=['categoria'], bind='legend')"
   ]
  },
  {
   "cell_type": "code",
   "execution_count": 90,
   "id": "2badd9af",
   "metadata": {},
   "outputs": [],
   "source": [
    "upper = alt.Chart(df_no_sales).mark_line(point = True).encode(\n",
    "    x = alt.X(\"mes:O\", title=\"\", axis=alt.Axis(labels=False),sort=['Enero','Febrero','Marzo','Abril','Mayo','Junio','Julio','Agosto','Septiembre','Octubre','Noviembre','Diciembre']),\n",
    "    y = alt.Y(\"monto:Q\", title='Inversión',axis=alt.Axis(titlePadding=15)),\n",
    "    tooltip=[alt.Tooltip('monto:Q',title='Monto:',format='~s')],\n",
    "    color=alt.Color('categoria:N', scale=alt.Scale(scheme='dark2')),\n",
    "    opacity=alt.condition(multi_select, alt.value(1), alt.value(0.2))\n",
    ").add_selection(\n",
    "    multi_select\n",
    ").properties(\n",
    "    title=\"Inversiones y ventas totales (2020)\",\n",
    "    width=650,\n",
    "    height=200,\n",
    ").interactive()"
   ]
  },
  {
   "cell_type": "code",
   "execution_count": 91,
   "id": "1c540ad9",
   "metadata": {},
   "outputs": [],
   "source": [
    "lower = alt.Chart(df_sales).mark_area().encode(\n",
    "    x = alt.X(\"mes:O\", title=\"\",axis=alt.Axis(labelFontSize=12), sort=['Enero','Febrero','Marzo','Abril','Mayo','Junio','Julio','Agosto','Septiembre','Octubre','Noviembre','Diciembre']),\n",
    "    y = alt.Y(\"monto:Q\",title='Ventas',axis=alt.Axis(titlePadding=15)),\n",
    "    tooltip=[alt.Tooltip('monto:Q',title='Monto:',format='~s')],\n",
    "    color=alt.Color('categoria:N', scale=alt.Scale(scheme='dark2'),legend=alt.Legend(title=\"Categorias:\")),\n",
    "    opacity=alt.condition(multi_select, alt.value(1), alt.value(0.1))\n",
    ").properties(\n",
    "    title=\"\",\n",
    "    width=650,\n",
    "    height=100,\n",
    ")"
   ]
  },
  {
   "cell_type": "code",
   "execution_count": 92,
   "id": "18f00b70",
   "metadata": {},
   "outputs": [
    {
     "data": {
      "text/html": [
       "\n",
       "<div id=\"altair-viz-bda51c9adfed47678ed49d1dc21ce2b9\"></div>\n",
       "<script type=\"text/javascript\">\n",
       "  (function(spec, embedOpt){\n",
       "    let outputDiv = document.currentScript.previousElementSibling;\n",
       "    if (outputDiv.id !== \"altair-viz-bda51c9adfed47678ed49d1dc21ce2b9\") {\n",
       "      outputDiv = document.getElementById(\"altair-viz-bda51c9adfed47678ed49d1dc21ce2b9\");\n",
       "    }\n",
       "    const paths = {\n",
       "      \"vega\": \"https://cdn.jsdelivr.net/npm//vega@5?noext\",\n",
       "      \"vega-lib\": \"https://cdn.jsdelivr.net/npm//vega-lib?noext\",\n",
       "      \"vega-lite\": \"https://cdn.jsdelivr.net/npm//vega-lite@4.17.0?noext\",\n",
       "      \"vega-embed\": \"https://cdn.jsdelivr.net/npm//vega-embed@6?noext\",\n",
       "    };\n",
       "\n",
       "    function loadScript(lib) {\n",
       "      return new Promise(function(resolve, reject) {\n",
       "        var s = document.createElement('script');\n",
       "        s.src = paths[lib];\n",
       "        s.async = true;\n",
       "        s.onload = () => resolve(paths[lib]);\n",
       "        s.onerror = () => reject(`Error loading script: ${paths[lib]}`);\n",
       "        document.getElementsByTagName(\"head\")[0].appendChild(s);\n",
       "      });\n",
       "    }\n",
       "\n",
       "    function showError(err) {\n",
       "      outputDiv.innerHTML = `<div class=\"error\" style=\"color:red;\">${err}</div>`;\n",
       "      throw err;\n",
       "    }\n",
       "\n",
       "    function displayChart(vegaEmbed) {\n",
       "      vegaEmbed(outputDiv, spec, embedOpt)\n",
       "        .catch(err => showError(`Javascript Error: ${err.message}<br>This usually means there's a typo in your chart specification. See the javascript console for the full traceback.`));\n",
       "    }\n",
       "\n",
       "    if(typeof define === \"function\" && define.amd) {\n",
       "      requirejs.config({paths});\n",
       "      require([\"vega-embed\"], displayChart, err => showError(`Error loading script: ${err.message}`));\n",
       "    } else if (typeof vegaEmbed === \"function\") {\n",
       "      displayChart(vegaEmbed);\n",
       "    } else {\n",
       "      loadScript(\"vega\")\n",
       "        .then(() => loadScript(\"vega-lite\"))\n",
       "        .then(() => loadScript(\"vega-embed\"))\n",
       "        .catch(showError)\n",
       "        .then(() => displayChart(vegaEmbed));\n",
       "    }\n",
       "  })({\"config\": {\"view\": {\"continuousWidth\": 400, \"continuousHeight\": 300}, \"title\": {\"anchor\": \"start\", \"dy\": -15, \"fontSize\": 15}}, \"vconcat\": [{\"data\": {\"name\": \"data-bf9e17f96d9d00c75a0d5c211c09ece3\"}, \"mark\": {\"type\": \"line\", \"point\": true}, \"encoding\": {\"color\": {\"field\": \"categoria\", \"scale\": {\"scheme\": \"dark2\"}, \"type\": \"nominal\"}, \"opacity\": {\"condition\": {\"value\": 1, \"selection\": \"selector002\"}, \"value\": 0.2}, \"tooltip\": [{\"field\": \"monto\", \"format\": \"~s\", \"title\": \"Monto:\", \"type\": \"quantitative\"}], \"x\": {\"axis\": {\"labels\": false}, \"field\": \"mes\", \"sort\": [\"Enero\", \"Febrero\", \"Marzo\", \"Abril\", \"Mayo\", \"Junio\", \"Julio\", \"Agosto\", \"Septiembre\", \"Octubre\", \"Noviembre\", \"Diciembre\"], \"title\": \"\", \"type\": \"ordinal\"}, \"y\": {\"axis\": {\"titlePadding\": 15}, \"field\": \"monto\", \"title\": \"Inversi\\u00f3n\", \"type\": \"quantitative\"}}, \"height\": 200, \"selection\": {\"selector002\": {\"type\": \"multi\", \"fields\": [\"categoria\"], \"bind\": \"legend\"}, \"selector003\": {\"type\": \"interval\", \"bind\": \"scales\", \"encodings\": [\"x\", \"y\"]}}, \"title\": \"Inversiones y ventas totales (2020)\", \"width\": 650}, {\"data\": {\"name\": \"data-a773534fb805370413b17f4b256cfb5a\"}, \"mark\": \"area\", \"encoding\": {\"color\": {\"field\": \"categoria\", \"legend\": {\"title\": \"Categorias:\"}, \"scale\": {\"scheme\": \"dark2\"}, \"type\": \"nominal\"}, \"opacity\": {\"condition\": {\"value\": 1, \"selection\": \"selector002\"}, \"value\": 0.1}, \"tooltip\": [{\"field\": \"monto\", \"format\": \"~s\", \"title\": \"Monto:\", \"type\": \"quantitative\"}], \"x\": {\"axis\": {\"labelFontSize\": 12}, \"field\": \"mes\", \"sort\": [\"Enero\", \"Febrero\", \"Marzo\", \"Abril\", \"Mayo\", \"Junio\", \"Julio\", \"Agosto\", \"Septiembre\", \"Octubre\", \"Noviembre\", \"Diciembre\"], \"title\": \"\", \"type\": \"ordinal\"}, \"y\": {\"axis\": {\"titlePadding\": 15}, \"field\": \"monto\", \"title\": \"Ventas\", \"type\": \"quantitative\"}}, \"height\": 100, \"title\": \"\", \"width\": 650}], \"$schema\": \"https://vega.github.io/schema/vega-lite/v4.17.0.json\", \"datasets\": {\"data-bf9e17f96d9d00c75a0d5c211c09ece3\": [{\"mes\": \"Abril\", \"categoria\": \"correo\", \"monto\": 6370.097712999999}, {\"mes\": \"Abril\", \"categoria\": \"facebook\", \"monto\": 9840.207729999998}, {\"mes\": \"Abril\", \"categoria\": \"google\", \"monto\": 17458.251869}, {\"mes\": \"Abril\", \"categoria\": \"impresiones\", \"monto\": 4521.412327}, {\"mes\": \"Abril\", \"categoria\": \"radio\", \"monto\": 9273.745816}, {\"mes\": \"Abril\", \"categoria\": \"tv_abierta\", \"monto\": 31088.788070000002}, {\"mes\": \"Abril\", \"categoria\": \"tv_paga\", \"monto\": 26500.68057}, {\"mes\": \"Agosto\", \"categoria\": \"correo\", \"monto\": 11493.0522043}, {\"mes\": \"Agosto\", \"categoria\": \"facebook\", \"monto\": 8887.231915}, {\"mes\": \"Agosto\", \"categoria\": \"google\", \"monto\": 17099.753378}, {\"mes\": \"Agosto\", \"categoria\": \"impresiones\", \"monto\": 7374.978532}, {\"mes\": \"Agosto\", \"categoria\": \"radio\", \"monto\": 16524.973805}, {\"mes\": \"Agosto\", \"categoria\": \"tv_abierta\", \"monto\": 29501.22715}, {\"mes\": \"Agosto\", \"categoria\": \"tv_paga\", \"monto\": 22111.92827}, {\"mes\": \"Diciembre\", \"categoria\": \"correo\", \"monto\": 6485.7266328999995}, {\"mes\": \"Diciembre\", \"categoria\": \"facebook\", \"monto\": 0.0}, {\"mes\": \"Diciembre\", \"categoria\": \"google\", \"monto\": 11800.303099}, {\"mes\": \"Diciembre\", \"categoria\": \"impresiones\", \"monto\": 4651.293065}, {\"mes\": \"Diciembre\", \"categoria\": \"radio\", \"monto\": 16956.676909}, {\"mes\": \"Diciembre\", \"categoria\": \"tv_abierta\", \"monto\": 0.0}, {\"mes\": \"Diciembre\", \"categoria\": \"tv_paga\", \"monto\": 0.0}, {\"mes\": \"Enero\", \"categoria\": \"correo\", \"monto\": 5784.9506243}, {\"mes\": \"Enero\", \"categoria\": \"facebook\", \"monto\": 7377.984376}, {\"mes\": \"Enero\", \"categoria\": \"google\", \"monto\": 13789.898957000001}, {\"mes\": \"Enero\", \"categoria\": \"impresiones\", \"monto\": 6442.172681999999}, {\"mes\": \"Enero\", \"categoria\": \"radio\", \"monto\": 8316.925461}, {\"mes\": \"Enero\", \"categoria\": \"tv_abierta\", \"monto\": 12393.95412}, {\"mes\": \"Enero\", \"categoria\": \"tv_paga\", \"monto\": 24832.00636}, {\"mes\": \"Febrero\", \"categoria\": \"correo\", \"monto\": 10360.922660799999}, {\"mes\": \"Febrero\", \"categoria\": \"facebook\", \"monto\": 13269.139583}, {\"mes\": \"Febrero\", \"categoria\": \"google\", \"monto\": 18280.748665}, {\"mes\": \"Febrero\", \"categoria\": \"impresiones\", \"monto\": 9617.329608}, {\"mes\": \"Febrero\", \"categoria\": \"radio\", \"monto\": 8503.695433}, {\"mes\": \"Febrero\", \"categoria\": \"tv_abierta\", \"monto\": 34579.37401}, {\"mes\": \"Febrero\", \"categoria\": \"tv_paga\", \"monto\": 29676.38168}, {\"mes\": \"Julio\", \"categoria\": \"correo\", \"monto\": 11451.717015999999}, {\"mes\": \"Julio\", \"categoria\": \"facebook\", \"monto\": 0.0}, {\"mes\": \"Julio\", \"categoria\": \"google\", \"monto\": 18438.842532000002}, {\"mes\": \"Julio\", \"categoria\": \"impresiones\", \"monto\": 4797.624188}, {\"mes\": \"Julio\", \"categoria\": \"radio\", \"monto\": 25116.523143}, {\"mes\": \"Julio\", \"categoria\": \"tv_abierta\", \"monto\": 0.0}, {\"mes\": \"Julio\", \"categoria\": \"tv_paga\", \"monto\": 0.0}, {\"mes\": \"Junio\", \"categoria\": \"correo\", \"monto\": 11611.174325}, {\"mes\": \"Junio\", \"categoria\": \"facebook\", \"monto\": 9422.355337}, {\"mes\": \"Junio\", \"categoria\": \"google\", \"monto\": 27088.976757999997}, {\"mes\": \"Junio\", \"categoria\": \"impresiones\", \"monto\": 8946.411811}, {\"mes\": \"Junio\", \"categoria\": \"radio\", \"monto\": 19860.564177}, {\"mes\": \"Junio\", \"categoria\": \"tv_abierta\", \"monto\": 45504.93365}, {\"mes\": \"Junio\", \"categoria\": \"tv_paga\", \"monto\": 41696.24544}, {\"mes\": \"Marzo\", \"categoria\": \"correo\", \"monto\": 11461.11672}, {\"mes\": \"Marzo\", \"categoria\": \"facebook\", \"monto\": 8007.755948}, {\"mes\": \"Marzo\", \"categoria\": \"google\", \"monto\": 25743.642272}, {\"mes\": \"Marzo\", \"categoria\": \"impresiones\", \"monto\": 8450.260804}, {\"mes\": \"Marzo\", \"categoria\": \"radio\", \"monto\": 32543.772275}, {\"mes\": \"Marzo\", \"categoria\": \"tv_abierta\", \"monto\": 12883.28206}, {\"mes\": \"Marzo\", \"categoria\": \"tv_paga\", \"monto\": 14054.04239}, {\"mes\": \"Mayo\", \"categoria\": \"correo\", \"monto\": 8302.3391545}, {\"mes\": \"Mayo\", \"categoria\": \"facebook\", \"monto\": 11497.787806}, {\"mes\": \"Mayo\", \"categoria\": \"google\", \"monto\": 28167.357581}, {\"mes\": \"Mayo\", \"categoria\": \"impresiones\", \"monto\": 8688.428207}, {\"mes\": \"Mayo\", \"categoria\": \"radio\", \"monto\": 15734.216612}, {\"mes\": \"Mayo\", \"categoria\": \"tv_abierta\", \"monto\": 26245.69788}, {\"mes\": \"Mayo\", \"categoria\": \"tv_paga\", \"monto\": 23148.02558}, {\"mes\": \"Noviembre\", \"categoria\": \"correo\", \"monto\": 4807.8105619}, {\"mes\": \"Noviembre\", \"categoria\": \"facebook\", \"monto\": 3537.216126}, {\"mes\": \"Noviembre\", \"categoria\": \"google\", \"monto\": 0.0}, {\"mes\": \"Noviembre\", \"categoria\": \"impresiones\", \"monto\": 2517.052361}, {\"mes\": \"Noviembre\", \"categoria\": \"radio\", \"monto\": 15003.907534}, {\"mes\": \"Noviembre\", \"categoria\": \"tv_abierta\", \"monto\": 0.0}, {\"mes\": \"Noviembre\", \"categoria\": \"tv_paga\", \"monto\": 11244.5084}, {\"mes\": \"Octubre\", \"categoria\": \"correo\", \"monto\": 11271.341119}, {\"mes\": \"Octubre\", \"categoria\": \"facebook\", \"monto\": 8366.451605}, {\"mes\": \"Octubre\", \"categoria\": \"google\", \"monto\": 25430.956423}, {\"mes\": \"Octubre\", \"categoria\": \"impresiones\", \"monto\": 7515.444750000001}, {\"mes\": \"Octubre\", \"categoria\": \"radio\", \"monto\": 18328.845799000002}, {\"mes\": \"Octubre\", \"categoria\": \"tv_abierta\", \"monto\": 43281.338019999996}, {\"mes\": \"Octubre\", \"categoria\": \"tv_paga\", \"monto\": 26419.59831}, {\"mes\": \"Septiembre\", \"categoria\": \"correo\", \"monto\": 3395.6962391}, {\"mes\": \"Septiembre\", \"categoria\": \"facebook\", \"monto\": 0.0}, {\"mes\": \"Septiembre\", \"categoria\": \"google\", \"monto\": 5870.165393}, {\"mes\": \"Septiembre\", \"categoria\": \"impresiones\", \"monto\": 4089.4573769999997}, {\"mes\": \"Septiembre\", \"categoria\": \"radio\", \"monto\": 7106.572773}, {\"mes\": \"Septiembre\", \"categoria\": \"tv_abierta\", \"monto\": 0.0}, {\"mes\": \"Septiembre\", \"categoria\": \"tv_paga\", \"monto\": 0.0}], \"data-a773534fb805370413b17f4b256cfb5a\": [{\"mes\": \"Abril\", \"categoria\": \"ventas\", \"monto\": 438434.7}, {\"mes\": \"Agosto\", \"categoria\": \"ventas\", \"monto\": 564215.0}, {\"mes\": \"Diciembre\", \"categoria\": \"ventas\", \"monto\": 346573.3}, {\"mes\": \"Enero\", \"categoria\": \"ventas\", \"monto\": 429182.5}, {\"mes\": \"Febrero\", \"categoria\": \"ventas\", \"monto\": 559989.5}, {\"mes\": \"Julio\", \"categoria\": \"ventas\", \"monto\": 413365.8}, {\"mes\": \"Junio\", \"categoria\": \"ventas\", \"monto\": 587713.5}, {\"mes\": \"Marzo\", \"categoria\": \"ventas\", \"monto\": 567727.6}, {\"mes\": \"Mayo\", \"categoria\": \"ventas\", \"monto\": 585849.1}, {\"mes\": \"Noviembre\", \"categoria\": \"ventas\", \"monto\": 394097.7}, {\"mes\": \"Octubre\", \"categoria\": \"ventas\", \"monto\": 540684.2}, {\"mes\": \"Septiembre\", \"categoria\": \"ventas\", \"monto\": 295895.4}]}}, {\"mode\": \"vega-lite\"});\n",
       "</script>"
      ],
      "text/plain": [
       "alt.VConcatChart(...)"
      ]
     },
     "execution_count": 92,
     "metadata": {},
     "output_type": "execute_result"
    }
   ],
   "source": [
    "alt.vconcat(upper, lower).configure_title(\n",
    "    fontSize = 15,\n",
    "    anchor = 'start',\n",
    "    dy=-15,\n",
    ")"
   ]
  },
  {
   "cell_type": "markdown",
   "id": "3721b36d",
   "metadata": {},
   "source": [
    "☝️ **NOTA:** *El siguiente gráfico contiene unaleyenda interactiva. Se puede hacer click en la categoria y manter pulsado shift para seleccionar alguna otra.*"
   ]
  },
  {
   "cell_type": "markdown",
   "id": "9f7c035b",
   "metadata": {},
   "source": [
    "## <p style=\"background: linear-gradient(to right,#023e8a, #ade8f4); color:white; font-size:150%; text-align:Center; border-radius: 20px 20px; margin: 0px 0px 0px 0px\">  📝 Conclusiones  </p>"
   ]
  },
  {
   "cell_type": "markdown",
   "id": "69c4559c",
   "metadata": {},
   "source": [
    "- Se afirma que los **presupuestos de Facebook, Impresiones, Email/Correo electrónico y Radio** todavía tienen un **impacto representativo en las ventas** por no estar muy saturados.\n",
    "- Pese a que las inversiones en **TV abierta** se encuentran **casi saturadas**, siguen siendo inversiones que **impactan a las ventas generadas** en cada mes y año.\n",
    "- El canal de **TV de paga es el más saturado de todos** los demás canales. Es conveniente ir **reduciendo sus inversiones paulatinamente** para no perder presencia tan bruscamente en dicho canal."
   ]
  }
 ],
 "metadata": {
  "kernelspec": {
   "display_name": "Python 3 (ipykernel)",
   "language": "python",
   "name": "python3"
  },
  "language_info": {
   "codemirror_mode": {
    "name": "ipython",
    "version": 3
   },
   "file_extension": ".py",
   "mimetype": "text/x-python",
   "name": "python",
   "nbconvert_exporter": "python",
   "pygments_lexer": "ipython3",
   "version": "3.9.5"
  }
 },
 "nbformat": 4,
 "nbformat_minor": 5
}
