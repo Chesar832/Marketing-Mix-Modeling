{
 "cells": [
  {
   "cell_type": "markdown",
   "id": "1833cb7c",
   "metadata": {},
   "source": [
    "# Marketing Modeling Mix in Python"
   ]
  },
  {
   "attachments": {},
   "cell_type": "markdown",
   "id": "e7dccfef",
   "metadata": {},
   "source": [
    "![image.png](img/marketing_banner.png)"
   ]
  },
  {
   "cell_type": "markdown",
   "id": "60ee97b0",
   "metadata": {},
   "source": [
    "*El presente tiene por objetivo analizar la data proporcionada por Kaggle para el área de Marketing; se busca encontrar \"**Qué inversión publicitaria impulsa en mayor porporción a las ventas**\"*"
   ]
  },
  {
   "cell_type": "markdown",
   "id": "a60c2ade",
   "metadata": {},
   "source": [
    "## 📤 Librerias"
   ]
  },
  {
   "cell_type": "code",
   "execution_count": 2,
   "id": "ecbd7ab9",
   "metadata": {},
   "outputs": [],
   "source": [
    "import pandas as pd\n",
    "import numpy as np\n",
    "import datetime as dt\n",
    "from pandas_profiling import ProfileReport\n",
    "import altair as alt"
   ]
  },
  {
   "cell_type": "markdown",
   "id": "1453a138",
   "metadata": {},
   "source": [
    "## 💾 Carga de datos"
   ]
  },
  {
   "cell_type": "code",
   "execution_count": null,
   "id": "07cb418d",
   "metadata": {},
   "outputs": [],
   "source": []
  }
 ],
 "metadata": {
  "kernelspec": {
   "display_name": "Python 3 (ipykernel)",
   "language": "python",
   "name": "python3"
  },
  "language_info": {
   "codemirror_mode": {
    "name": "ipython",
    "version": 3
   },
   "file_extension": ".py",
   "mimetype": "text/x-python",
   "name": "python",
   "nbconvert_exporter": "python",
   "pygments_lexer": "ipython3",
   "version": "3.9.5"
  }
 },
 "nbformat": 4,
 "nbformat_minor": 5
}
