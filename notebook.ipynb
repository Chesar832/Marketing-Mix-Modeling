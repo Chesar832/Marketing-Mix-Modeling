{
 "cells": [
  {
   "cell_type": "markdown",
   "id": "1833cb7c",
   "metadata": {},
   "source": [
    "# Marketing Modeling Mix in Python"
   ]
  },
  {
   "cell_type": "markdown",
   "id": "e7dccfef",
   "metadata": {},
   "source": [
    "![image.png](https://github.com/Chesar832/Marketing_modeling_mix/blob/main/img/marketing_banner.png?raw=true)"
   ]
  },
  {
   "cell_type": "markdown",
   "id": "60ee97b0",
   "metadata": {},
   "source": [
    "*El presente tiene por objetivo analizar la data proporcionada por Kaggle para el área de Marketing; se busca encontrar \"**Qué inversión publicitaria impulsa en mayor porporción a las ventas**\"*"
   ]
  },
  {
   "cell_type": "markdown",
   "id": "a60c2ade",
   "metadata": {},
   "source": [
    "## 📤 Librerias"
   ]
  },
  {
   "cell_type": "code",
   "execution_count": 1,
   "id": "ecbd7ab9",
   "metadata": {},
   "outputs": [],
   "source": [
    "import pandas as pd\n",
    "import numpy as np\n",
    "import datetime as dt\n",
    "from pandas_profiling import ProfileReport\n",
    "import altair as alt"
   ]
  },
  {
   "cell_type": "markdown",
   "id": "1453a138",
   "metadata": {},
   "source": [
    "## 💾 Carga de datos"
   ]
  },
  {
   "cell_type": "code",
   "execution_count": 2,
   "id": "07cb418d",
   "metadata": {},
   "outputs": [],
   "source": [
    "mrk_data = pd.read_csv('data/new_dataset.csv', delimiter=';')"
   ]
  },
  {
   "cell_type": "code",
   "execution_count": 3,
   "id": "57416643",
   "metadata": {},
   "outputs": [
    {
     "data": {
      "text/html": [
       "<div>\n",
       "<style scoped>\n",
       "    .dataframe tbody tr th:only-of-type {\n",
       "        vertical-align: middle;\n",
       "    }\n",
       "\n",
       "    .dataframe tbody tr th {\n",
       "        vertical-align: top;\n",
       "    }\n",
       "\n",
       "    .dataframe thead th {\n",
       "        text-align: right;\n",
       "    }\n",
       "</style>\n",
       "<table border=\"1\" class=\"dataframe\">\n",
       "  <thead>\n",
       "    <tr style=\"text-align: right;\">\n",
       "      <th></th>\n",
       "      <th>WeekDate</th>\n",
       "      <th>Influencer</th>\n",
       "      <th>TV</th>\n",
       "      <th>Radio</th>\n",
       "      <th>Social Media</th>\n",
       "      <th>Sales</th>\n",
       "    </tr>\n",
       "  </thead>\n",
       "  <tbody>\n",
       "    <tr>\n",
       "      <th>0</th>\n",
       "      <td>30/12/2017</td>\n",
       "      <td>Macro</td>\n",
       "      <td>444</td>\n",
       "      <td>157.102423</td>\n",
       "      <td>23.130040</td>\n",
       "      <td>1575.835702</td>\n",
       "    </tr>\n",
       "    <tr>\n",
       "      <th>1</th>\n",
       "      <td>30/12/2017</td>\n",
       "      <td>Mega</td>\n",
       "      <td>195</td>\n",
       "      <td>71.755979</td>\n",
       "      <td>18.409851</td>\n",
       "      <td>704.004553</td>\n",
       "    </tr>\n",
       "    <tr>\n",
       "      <th>2</th>\n",
       "      <td>30/12/2017</td>\n",
       "      <td>Micro</td>\n",
       "      <td>271</td>\n",
       "      <td>86.655446</td>\n",
       "      <td>17.237855</td>\n",
       "      <td>975.461079</td>\n",
       "    </tr>\n",
       "    <tr>\n",
       "      <th>3</th>\n",
       "      <td>30/12/2017</td>\n",
       "      <td>Nano</td>\n",
       "      <td>354</td>\n",
       "      <td>123.827561</td>\n",
       "      <td>21.400000</td>\n",
       "      <td>1257.769598</td>\n",
       "    </tr>\n",
       "    <tr>\n",
       "      <th>4</th>\n",
       "      <td>6/01/2018</td>\n",
       "      <td>Macro</td>\n",
       "      <td>268</td>\n",
       "      <td>90.588322</td>\n",
       "      <td>12.709750</td>\n",
       "      <td>943.382384</td>\n",
       "    </tr>\n",
       "  </tbody>\n",
       "</table>\n",
       "</div>"
      ],
      "text/plain": [
       "     WeekDate Influencer   TV       Radio  Social Media        Sales\n",
       "0  30/12/2017      Macro  444  157.102423     23.130040  1575.835702\n",
       "1  30/12/2017       Mega  195   71.755979     18.409851   704.004553\n",
       "2  30/12/2017      Micro  271   86.655446     17.237855   975.461079\n",
       "3  30/12/2017       Nano  354  123.827561     21.400000  1257.769598\n",
       "4   6/01/2018      Macro  268   90.588322     12.709750   943.382384"
      ]
     },
     "execution_count": 3,
     "metadata": {},
     "output_type": "execute_result"
    }
   ],
   "source": [
    "mrk_data.head(5)"
   ]
  },
  {
   "cell_type": "markdown",
   "id": "11e0005f",
   "metadata": {},
   "source": [
    "## 📊 EDA"
   ]
  },
  {
   "cell_type": "markdown",
   "id": "acdd30ee",
   "metadata": {},
   "source": [
    "El [dataset](https://docs.google.com/spreadsheets/d/1d_XEzDSvhkfWHeNj3Ux5Y5KerjYGEDDB/edit?usp=sharing&ouid=100459174823708459699&rtpof=true&sd=true) con el que se va a trabajar contiene las siguientes variables:"
   ]
  },
  {
   "cell_type": "markdown",
   "id": "bcb27ccb",
   "metadata": {},
   "source": [
    "|  **VARIABLE**  |                                          **DESCRIPCIÓN**                                      |\n",
    "| :---           |                                                                                               | \n",
    "| WeekDate       | Fecha de la semana en la que se culminó la promoción                                          |\n",
    "| TV             | Presupuesto de promoción televisiva *(en millones)*                                           |\n",
    "| Social Media   | Presupuesto de promoción de redes sociales *(en millones)*                                    |\n",
    "| Radio          | Presupuesto de promoción radiofónica *(en millones)*                                          |\n",
    "| Influencer     | Tipo de influencer con el que colabora en la promoción (Mega, Macro, Nano o Micro influencer) |\n",
    "| Sales          | Ventas obtenidas *(en millones)*                                                              |"
   ]
  },
  {
   "cell_type": "code",
   "execution_count": 4,
   "id": "73260ddb",
   "metadata": {
    "scrolled": true
   },
   "outputs": [
    {
     "name": "stdout",
     "output_type": "stream",
     "text": [
      "<class 'pandas.core.frame.DataFrame'>\n",
      "RangeIndex: 655 entries, 0 to 654\n",
      "Data columns (total 6 columns):\n",
      " #   Column        Non-Null Count  Dtype  \n",
      "---  ------        --------------  -----  \n",
      " 0   WeekDate      655 non-null    object \n",
      " 1   Influencer    655 non-null    object \n",
      " 2   TV            655 non-null    int64  \n",
      " 3   Radio         655 non-null    float64\n",
      " 4   Social Media  655 non-null    float64\n",
      " 5   Sales         655 non-null    float64\n",
      "dtypes: float64(3), int64(1), object(2)\n",
      "memory usage: 30.8+ KB\n"
     ]
    }
   ],
   "source": [
    "mrk_data.info()"
   ]
  },
  {
   "cell_type": "markdown",
   "id": "a5e0cba0",
   "metadata": {},
   "source": [
    "Observaciones:\n",
    "1. No existen valores nulos en ningún registro.\n",
    "2. Se tienen únicamente 655 registros.\n",
    "3. Las variable WeekDate tiene un formato incorrecto para la realización del análisis."
   ]
  },
  {
   "cell_type": "markdown",
   "id": "edcead1d",
   "metadata": {},
   "source": [
    "### Corrigiendo formatos"
   ]
  },
  {
   "cell_type": "code",
   "execution_count": 5,
   "id": "c147a508",
   "metadata": {},
   "outputs": [],
   "source": [
    "mrk_data['WeekDate'] = pd.to_datetime(mrk_data['WeekDate'])"
   ]
  },
  {
   "cell_type": "code",
   "execution_count": 6,
   "id": "ff411db8",
   "metadata": {
    "scrolled": true
   },
   "outputs": [
    {
     "name": "stdout",
     "output_type": "stream",
     "text": [
      "<class 'pandas.core.frame.DataFrame'>\n",
      "RangeIndex: 655 entries, 0 to 654\n",
      "Data columns (total 6 columns):\n",
      " #   Column        Non-Null Count  Dtype         \n",
      "---  ------        --------------  -----         \n",
      " 0   WeekDate      655 non-null    datetime64[ns]\n",
      " 1   Influencer    655 non-null    object        \n",
      " 2   TV            655 non-null    int64         \n",
      " 3   Radio         655 non-null    float64       \n",
      " 4   Social Media  655 non-null    float64       \n",
      " 5   Sales         655 non-null    float64       \n",
      "dtypes: datetime64[ns](1), float64(3), int64(1), object(1)\n",
      "memory usage: 30.8+ KB\n"
     ]
    }
   ],
   "source": [
    "mrk_data.info()"
   ]
  },
  {
   "cell_type": "markdown",
   "id": "e4f421a6",
   "metadata": {},
   "source": [
    "Ahora el formato de la variable Weekdate es el adecuado."
   ]
  },
  {
   "cell_type": "markdown",
   "id": "4d3a8609",
   "metadata": {},
   "source": [
    "### Generando el reporte"
   ]
  },
  {
   "cell_type": "code",
   "execution_count": 8,
   "id": "f56d4bca",
   "metadata": {},
   "outputs": [
    {
     "data": {
      "application/vnd.jupyter.widget-view+json": {
       "model_id": "023e235101f44f7ca214cdf23c7adf43",
       "version_major": 2,
       "version_minor": 0
      },
      "text/plain": [
       "Summarize dataset:   0%|          | 0/5 [00:00<?, ?it/s]"
      ]
     },
     "metadata": {},
     "output_type": "display_data"
    },
    {
     "data": {
      "application/vnd.jupyter.widget-view+json": {
       "model_id": "d193a149cf0a48b1a8028eda9f370f18",
       "version_major": 2,
       "version_minor": 0
      },
      "text/plain": [
       "Generate report structure:   0%|          | 0/1 [00:00<?, ?it/s]"
      ]
     },
     "metadata": {},
     "output_type": "display_data"
    },
    {
     "data": {
      "application/vnd.jupyter.widget-view+json": {
       "model_id": "cd43f7dbe7364f93bbfb4305e943375c",
       "version_major": 2,
       "version_minor": 0
      },
      "text/plain": [
       "Render HTML:   0%|          | 0/1 [00:00<?, ?it/s]"
      ]
     },
     "metadata": {},
     "output_type": "display_data"
    },
    {
     "data": {
      "application/vnd.jupyter.widget-view+json": {
       "model_id": "968eaf939e514472a474250a6f0bf362",
       "version_major": 2,
       "version_minor": 0
      },
      "text/plain": [
       "Export report to file:   0%|          | 0/1 [00:00<?, ?it/s]"
      ]
     },
     "metadata": {},
     "output_type": "display_data"
    }
   ],
   "source": [
    "report = ProfileReport(mrk_data, title=\"Marketing modeling mix\", explorative=True)\n",
    "report.to_file(\"marketing-report.html\")"
   ]
  },
  {
   "cell_type": "markdown",
   "id": "be88e1b1",
   "metadata": {},
   "source": [
    "Del reporte generado:\n",
    "- Ninguna variable contiene valores faltantes.\n",
    "- No existen filas que contengan valores duplicados.\n",
    "- Las variables TV e influencer están fuertemente correlacionadas(esto puede ser ocasionado por la naturaleza publicitaria de los influencers en los medios audiovisuales).\n",
    "- La distribución de los tipos de influencers es casi simétrica.\n",
    "- La distribución de los presupuestos de publicidad televisiva, radiofónica, por redes sociales y las ventas es casi simétrica.\n",
    "- Los presupuestos para marketing televisivo están más fuertemente relacionados a las ventas generadas que las otras variables."
   ]
  },
  {
   "cell_type": "markdown",
   "id": "497aae84",
   "metadata": {},
   "source": [
    "## ✂ División del dataset"
   ]
  },
  {
   "cell_type": "code",
   "execution_count": null,
   "id": "f53a7803",
   "metadata": {},
   "outputs": [],
   "source": []
  }
 ],
 "metadata": {
  "kernelspec": {
   "display_name": "Python 3 (ipykernel)",
   "language": "python",
   "name": "python3"
  },
  "language_info": {
   "codemirror_mode": {
    "name": "ipython",
    "version": 3
   },
   "file_extension": ".py",
   "mimetype": "text/x-python",
   "name": "python",
   "nbconvert_exporter": "python",
   "pygments_lexer": "ipython3",
   "version": "3.9.5"
  }
 },
 "nbformat": 4,
 "nbformat_minor": 5
}
