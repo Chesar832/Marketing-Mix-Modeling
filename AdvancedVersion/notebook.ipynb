{
 "cells": [
  {
   "cell_type": "markdown",
   "id": "4909e73d",
   "metadata": {},
   "source": [
    "# Marketing Mix Modeling in Python"
   ]
  },
  {
   "cell_type": "markdown",
   "id": "2f583229",
   "metadata": {},
   "source": [
    "![banner_marketing.png](https://github.com/Chesar832/Marketing_modeling_mix/blob/main/AdvancedVersion/img/banner_marketing.png?raw=true)"
   ]
  },
  {
   "cell_type": "markdown",
   "id": "aff43e1b",
   "metadata": {},
   "source": [
    "*El presente tiene por objetivo analizar la data proporcionada por Kaggle para el área de Marketing; se busca encontrar \"**Qué inversión publicitaria impulsa en mayor porporción a las ventas**\"*"
   ]
  },
  {
   "cell_type": "markdown",
   "id": "5f65b2ab",
   "metadata": {},
   "source": [
    "## 📤 Librerias"
   ]
  },
  {
   "cell_type": "code",
   "execution_count": 1,
   "id": "86f13ab3",
   "metadata": {},
   "outputs": [],
   "source": [
    "import pandas as pd\n",
    "import numpy as np\n",
    "import datetime as dt\n",
    "from pandas_profiling import ProfileReport\n",
    "import altair as alt"
   ]
  },
  {
   "cell_type": "markdown",
   "id": "a777f273",
   "metadata": {},
   "source": [
    "## 💾 Carga de datos"
   ]
  },
  {
   "cell_type": "code",
   "execution_count": 2,
   "id": "1e1c3f47",
   "metadata": {},
   "outputs": [],
   "source": [
    "mrk_data = pd.read_csv('data/new_dataset.csv', delimiter=';')"
   ]
  },
  {
   "cell_type": "code",
   "execution_count": 3,
   "id": "5de16194",
   "metadata": {},
   "outputs": [
    {
     "data": {
      "text/html": [
       "<div>\n",
       "<style scoped>\n",
       "    .dataframe tbody tr th:only-of-type {\n",
       "        vertical-align: middle;\n",
       "    }\n",
       "\n",
       "    .dataframe tbody tr th {\n",
       "        vertical-align: top;\n",
       "    }\n",
       "\n",
       "    .dataframe thead th {\n",
       "        text-align: right;\n",
       "    }\n",
       "</style>\n",
       "<table border=\"1\" class=\"dataframe\">\n",
       "  <thead>\n",
       "    <tr style=\"text-align: right;\">\n",
       "      <th></th>\n",
       "      <th>WeekDate</th>\n",
       "      <th>Influencer</th>\n",
       "      <th>TV</th>\n",
       "      <th>Radio</th>\n",
       "      <th>Social Media</th>\n",
       "      <th>Sales</th>\n",
       "    </tr>\n",
       "  </thead>\n",
       "  <tbody>\n",
       "    <tr>\n",
       "      <th>570</th>\n",
       "      <td>19/09/2020</td>\n",
       "      <td>Micro</td>\n",
       "      <td>421</td>\n",
       "      <td>142.202630</td>\n",
       "      <td>25.976138</td>\n",
       "      <td>1497.541283</td>\n",
       "    </tr>\n",
       "    <tr>\n",
       "      <th>6</th>\n",
       "      <td>6/01/2018</td>\n",
       "      <td>Micro</td>\n",
       "      <td>355</td>\n",
       "      <td>113.528701</td>\n",
       "      <td>24.262875</td>\n",
       "      <td>1269.989343</td>\n",
       "    </tr>\n",
       "    <tr>\n",
       "      <th>364</th>\n",
       "      <td>28/09/2019</td>\n",
       "      <td>Macro</td>\n",
       "      <td>252</td>\n",
       "      <td>77.420116</td>\n",
       "      <td>11.135351</td>\n",
       "      <td>908.435843</td>\n",
       "    </tr>\n",
       "    <tr>\n",
       "      <th>573</th>\n",
       "      <td>26/09/2020</td>\n",
       "      <td>Mega</td>\n",
       "      <td>418</td>\n",
       "      <td>150.860655</td>\n",
       "      <td>28.777353</td>\n",
       "      <td>1481.532251</td>\n",
       "    </tr>\n",
       "    <tr>\n",
       "      <th>349</th>\n",
       "      <td>31/08/2019</td>\n",
       "      <td>Mega</td>\n",
       "      <td>379</td>\n",
       "      <td>114.706799</td>\n",
       "      <td>29.513674</td>\n",
       "      <td>1347.478712</td>\n",
       "    </tr>\n",
       "  </tbody>\n",
       "</table>\n",
       "</div>"
      ],
      "text/plain": [
       "       WeekDate Influencer   TV       Radio  Social Media        Sales\n",
       "570  19/09/2020      Micro  421  142.202630     25.976138  1497.541283\n",
       "6     6/01/2018      Micro  355  113.528701     24.262875  1269.989343\n",
       "364  28/09/2019      Macro  252   77.420116     11.135351   908.435843\n",
       "573  26/09/2020       Mega  418  150.860655     28.777353  1481.532251\n",
       "349  31/08/2019       Mega  379  114.706799     29.513674  1347.478712"
      ]
     },
     "execution_count": 3,
     "metadata": {},
     "output_type": "execute_result"
    }
   ],
   "source": [
    "mrk_data.sample(5)"
   ]
  },
  {
   "cell_type": "markdown",
   "id": "e7c2e255",
   "metadata": {},
   "source": [
    "# 📊 EDA"
   ]
  },
  {
   "cell_type": "markdown",
   "id": "66045854",
   "metadata": {},
   "source": [
    "El [dataset](https://docs.google.com/spreadsheets/d/1d_XEzDSvhkfWHeNj3Ux5Y5KerjYGEDDB/edit?usp=sharing&ouid=100459174823708459699&rtpof=true&sd=true) con el que se va a trabajar contiene las siguientes variables:"
   ]
  },
  {
   "cell_type": "markdown",
   "id": "b82b03d7",
   "metadata": {},
   "source": [
    "|  **VARIABLE**  |                                          **DESCRIPCIÓN**                                      |\n",
    "| :---           |                                                                                               | \n",
    "| WeekDate       | Fecha de la semana en la que se culminó la promoción                                          |\n",
    "| TV             | Presupuesto de promoción televisiva *(en millones)*                                           |\n",
    "| Social Media   | Presupuesto de promoción de redes sociales *(en millones)*                                    |\n",
    "| Radio          | Presupuesto de promoción radiofónica *(en millones)*                                          |\n",
    "| Influencer     | Tipo de influencer con el que colabora en la promoción (Mega, Macro, Nano o Micro influencer) |\n",
    "| Sales          | Ventas obtenidas *(en millones)*                                                              |"
   ]
  },
  {
   "cell_type": "code",
   "execution_count": 4,
   "id": "38bac915",
   "metadata": {},
   "outputs": [
    {
     "name": "stdout",
     "output_type": "stream",
     "text": [
      "<class 'pandas.core.frame.DataFrame'>\n",
      "RangeIndex: 655 entries, 0 to 654\n",
      "Data columns (total 6 columns):\n",
      " #   Column        Non-Null Count  Dtype  \n",
      "---  ------        --------------  -----  \n",
      " 0   WeekDate      655 non-null    object \n",
      " 1   Influencer    655 non-null    object \n",
      " 2   TV            655 non-null    int64  \n",
      " 3   Radio         655 non-null    float64\n",
      " 4   Social Media  655 non-null    float64\n",
      " 5   Sales         655 non-null    float64\n",
      "dtypes: float64(3), int64(1), object(2)\n",
      "memory usage: 30.8+ KB\n"
     ]
    }
   ],
   "source": [
    "mrk_data.info()"
   ]
  },
  {
   "cell_type": "markdown",
   "id": "1b6d0fa5",
   "metadata": {},
   "source": [
    "### Corrigiendo formatos"
   ]
  },
  {
   "cell_type": "code",
   "execution_count": 5,
   "id": "f8600e41",
   "metadata": {},
   "outputs": [],
   "source": [
    "mrk_data['WeekDate'] = pd.to_datetime(mrk_data['WeekDate'])"
   ]
  },
  {
   "cell_type": "markdown",
   "id": "473926ba",
   "metadata": {},
   "source": [
    "### Generando el reporte general"
   ]
  },
  {
   "cell_type": "code",
   "execution_count": 6,
   "id": "31473b48",
   "metadata": {
    "scrolled": false
   },
   "outputs": [
    {
     "data": {
      "application/vnd.jupyter.widget-view+json": {
       "model_id": "344b62feef0f483fa345b618e7370fa3",
       "version_major": 2,
       "version_minor": 0
      },
      "text/plain": [
       "Summarize dataset:   0%|          | 0/5 [00:00<?, ?it/s]"
      ]
     },
     "metadata": {},
     "output_type": "display_data"
    },
    {
     "data": {
      "application/vnd.jupyter.widget-view+json": {
       "model_id": "f16e777560484134aa05f1a8d6ddabc6",
       "version_major": 2,
       "version_minor": 0
      },
      "text/plain": [
       "Generate report structure:   0%|          | 0/1 [00:00<?, ?it/s]"
      ]
     },
     "metadata": {},
     "output_type": "display_data"
    },
    {
     "data": {
      "application/vnd.jupyter.widget-view+json": {
       "model_id": "445e2b57b6194b51a4830b8b2b7e020d",
       "version_major": 2,
       "version_minor": 0
      },
      "text/plain": [
       "Render HTML:   0%|          | 0/1 [00:00<?, ?it/s]"
      ]
     },
     "metadata": {},
     "output_type": "display_data"
    },
    {
     "data": {
      "application/vnd.jupyter.widget-view+json": {
       "model_id": "88b61aa9c9e24a41a9178de22c99cd72",
       "version_major": 2,
       "version_minor": 0
      },
      "text/plain": [
       "Export report to file:   0%|          | 0/1 [00:00<?, ?it/s]"
      ]
     },
     "metadata": {},
     "output_type": "display_data"
    }
   ],
   "source": [
    "report = ProfileReport(mrk_data, title=\"Marketing modeling mix\", explorative=True)\n",
    "report.to_file(\"marketing-report.html\")"
   ]
  },
  {
   "cell_type": "markdown",
   "id": "57dde7f0",
   "metadata": {},
   "source": [
    "Del reporte generado:\n",
    "- Ninguna variable contiene valores faltantes.\n",
    "- No existen filas que contengan valores duplicados.\n",
    "- Las variables TV e influencer están fuertemente correlacionadas(esto puede ser ocasionado por la naturaleza publicitaria de los influencers en los medios audiovisuales).\n",
    "- La distribución de los tipos de influencers es casi simétrica.\n",
    "- La distribución de los presupuestos de publicidad televisiva, radiofónica, por redes sociales y las ventas es casi simétrica.\n",
    "- Los presupuestos para marketing televisivo están más fuertemente relacionados a las ventas generadas que las otras variables."
   ]
  },
  {
   "cell_type": "markdown",
   "id": "d9ed859b",
   "metadata": {},
   "source": [
    "### Análisis bivariante"
   ]
  },
  {
   "cell_type": "markdown",
   "id": "cfa2d5dc",
   "metadata": {},
   "source": [
    "#### Análisis Bivariante Con respecto a las Ventas"
   ]
  },
  {
   "cell_type": "code",
   "execution_count": 7,
   "id": "2f130b59",
   "metadata": {
    "scrolled": true
   },
   "outputs": [
    {
     "data": {
      "text/html": [
       "\n",
       "<div id=\"altair-viz-02aaee3e012442f3bed40f6e4aa74134\"></div>\n",
       "<script type=\"text/javascript\">\n",
       "  (function(spec, embedOpt){\n",
       "    let outputDiv = document.currentScript.previousElementSibling;\n",
       "    if (outputDiv.id !== \"altair-viz-02aaee3e012442f3bed40f6e4aa74134\") {\n",
       "      outputDiv = document.getElementById(\"altair-viz-02aaee3e012442f3bed40f6e4aa74134\");\n",
       "    }\n",
       "    const paths = {\n",
       "      \"vega\": \"https://cdn.jsdelivr.net/npm//vega@5?noext\",\n",
       "      \"vega-lib\": \"https://cdn.jsdelivr.net/npm//vega-lib?noext\",\n",
       "      \"vega-lite\": \"https://cdn.jsdelivr.net/npm//vega-lite@4.17.0?noext\",\n",
       "      \"vega-embed\": \"https://cdn.jsdelivr.net/npm//vega-embed@6?noext\",\n",
       "    };\n",
       "\n",
       "    function loadScript(lib) {\n",
       "      return new Promise(function(resolve, reject) {\n",
       "        var s = document.createElement('script');\n",
       "        s.src = paths[lib];\n",
       "        s.async = true;\n",
       "        s.onload = () => resolve(paths[lib]);\n",
       "        s.onerror = () => reject(`Error loading script: ${paths[lib]}`);\n",
       "        document.getElementsByTagName(\"head\")[0].appendChild(s);\n",
       "      });\n",
       "    }\n",
       "\n",
       "    function showError(err) {\n",
       "      outputDiv.innerHTML = `<div class=\"error\" style=\"color:red;\">${err}</div>`;\n",
       "      throw err;\n",
       "    }\n",
       "\n",
       "    function displayChart(vegaEmbed) {\n",
       "      vegaEmbed(outputDiv, spec, embedOpt)\n",
       "        .catch(err => showError(`Javascript Error: ${err.message}<br>This usually means there's a typo in your chart specification. See the javascript console for the full traceback.`));\n",
       "    }\n",
       "\n",
       "    if(typeof define === \"function\" && define.amd) {\n",
       "      requirejs.config({paths});\n",
       "      require([\"vega-embed\"], displayChart, err => showError(`Error loading script: ${err.message}`));\n",
       "    } else if (typeof vegaEmbed === \"function\") {\n",
       "      displayChart(vegaEmbed);\n",
       "    } else {\n",
       "      loadScript(\"vega\")\n",
       "        .then(() => loadScript(\"vega-lite\"))\n",
       "        .then(() => loadScript(\"vega-embed\"))\n",
       "        .catch(showError)\n",
       "        .then(() => displayChart(vegaEmbed));\n",
       "    }\n",
       "  })({\"config\": {\"view\": {\"continuousWidth\": 400, \"continuousHeight\": 300}}, \"repeat\": {\"column\": [\"Radio\", \"TV\", \"Social Media\"], \"row\": [\"Sales\"]}, \"spec\": {\"data\": {\"name\": \"data-f97c6951fa2ea3c43cc84aa6da561ee4\"}, \"mark\": {\"type\": \"circle\", \"size\": 40, \"stroke\": \"#000000\", \"strokeWidth\": 0.2}, \"encoding\": {\"color\": {\"field\": \"Influencer\", \"type\": \"nominal\"}, \"tooltip\": [{\"field\": \"Sales\", \"format\": \"~s\", \"title\": \"Ventas generadas\", \"type\": \"quantitative\"}], \"x\": {\"field\": {\"repeat\": \"column\"}, \"type\": \"quantitative\"}, \"y\": {\"field\": {\"repeat\": \"row\"}, \"type\": \"quantitative\"}}, \"height\": 230, \"selection\": {\"selector001\": {\"type\": \"interval\", \"bind\": \"scales\", \"encodings\": [\"x\", \"y\"]}}, \"width\": 200}, \"$schema\": \"https://vega.github.io/schema/vega-lite/v4.17.0.json\", \"datasets\": {\"data-f97c6951fa2ea3c43cc84aa6da561ee4\": [{\"WeekDate\": \"2017-12-30T00:00:00\", \"Influencer\": \"Macro\", \"TV\": 444, \"Radio\": 157.1024227, \"Social Media\": 23.13004, \"Sales\": 1575.835702}, {\"WeekDate\": \"2017-12-30T00:00:00\", \"Influencer\": \"Mega\", \"TV\": 195, \"Radio\": 71.75597949, \"Social Media\": 18.40985062, \"Sales\": 704.0045526}, {\"WeekDate\": \"2017-12-30T00:00:00\", \"Influencer\": \"Micro\", \"TV\": 271, \"Radio\": 86.65544617, \"Social Media\": 17.2378549, \"Sales\": 975.4610786}, {\"WeekDate\": \"2017-12-30T00:00:00\", \"Influencer\": \"Nano\", \"TV\": 354, \"Radio\": 123.8275614, \"Social Media\": 21.4, \"Sales\": 1257.769598}, {\"WeekDate\": \"2018-06-01T00:00:00\", \"Influencer\": \"Macro\", \"TV\": 268, \"Radio\": 90.58832152, \"Social Media\": 12.70975006, \"Sales\": 943.3823836}, {\"WeekDate\": \"2018-06-01T00:00:00\", \"Influencer\": \"Mega\", \"TV\": 280, \"Radio\": 127.658263, \"Social Media\": 20.51544728, \"Sales\": 1258.72934}, {\"WeekDate\": \"2018-06-01T00:00:00\", \"Influencer\": \"Micro\", \"TV\": 355, \"Radio\": 113.528701, \"Social Media\": 24.26287489, \"Sales\": 1269.989343}, {\"WeekDate\": \"2018-06-01T00:00:00\", \"Influencer\": \"Nano\", \"TV\": 249, \"Radio\": 141.496415, \"Social Media\": 30.34731327, \"Sales\": 1230.376084}, {\"WeekDate\": \"2018-01-13T00:00:00\", \"Influencer\": \"Macro\", \"TV\": 336, \"Radio\": 105.4747164, \"Social Media\": 23.16851943, \"Sales\": 1278.452118}, {\"WeekDate\": \"2018-01-13T00:00:00\", \"Influencer\": \"Mega\", \"TV\": 382, \"Radio\": 176.8100559, \"Social Media\": 36.10152768, \"Sales\": 1678.18861}, {\"WeekDate\": \"2018-01-13T00:00:00\", \"Influencer\": \"Micro\", \"TV\": 448, \"Radio\": 167.7287508, \"Social Media\": 33.7330322, \"Sales\": 1605.346979}, {\"WeekDate\": \"2018-01-13T00:00:00\", \"Influencer\": \"Nano\", \"TV\": 436, \"Radio\": 151.7038962, \"Social Media\": 26.15417293, \"Sales\": 1546.377709}, {\"WeekDate\": \"2018-01-20T00:00:00\", \"Influencer\": \"Macro\", \"TV\": 298, \"Radio\": 104.1782443, \"Social Media\": 15.75014903, \"Sales\": 1117.278653}, {\"WeekDate\": \"2018-01-20T00:00:00\", \"Influencer\": \"Mega\", \"TV\": 386, \"Radio\": 154.9140631, \"Social Media\": 28.08090285, \"Sales\": 1362.340813}, {\"WeekDate\": \"2018-01-20T00:00:00\", \"Influencer\": \"Micro\", \"TV\": 330, \"Radio\": 145.5530077, \"Social Media\": 24.99879756, \"Sales\": 1510.433656}, {\"WeekDate\": \"2018-01-20T00:00:00\", \"Influencer\": \"Nano\", \"TV\": 450, \"Radio\": 170.0861003, \"Social Media\": 25.94448276, \"Sales\": 1601.033347}, {\"WeekDate\": \"2018-01-27T00:00:00\", \"Influencer\": \"Macro\", \"TV\": 309, \"Radio\": 113.1879305, \"Social Media\": 21.58470614, \"Sales\": 1096.079007}, {\"WeekDate\": \"2018-01-27T00:00:00\", \"Influencer\": \"Mega\", \"TV\": 378, \"Radio\": 122.5530341, \"Social Media\": 23.1929835, \"Sales\": 1340.833512}, {\"WeekDate\": \"2018-01-27T00:00:00\", \"Influencer\": \"Micro\", \"TV\": 344, \"Radio\": 116.523488, \"Social Media\": 22.68971497, \"Sales\": 1231.195493}, {\"WeekDate\": \"2018-01-27T00:00:00\", \"Influencer\": \"Nano\", \"TV\": 501, \"Radio\": 180.8244953, \"Social Media\": 31.61268514, \"Sales\": 1784.573855}, {\"WeekDate\": \"2018-03-02T00:00:00\", \"Influencer\": \"Macro\", \"TV\": 321, \"Radio\": 107.5406357, \"Social Media\": 10.41843484, \"Sales\": 1199.896022}, {\"WeekDate\": \"2018-03-02T00:00:00\", \"Influencer\": \"Mega\", \"TV\": 428, \"Radio\": 112.5658383, \"Social Media\": 25.45885063, \"Sales\": 1526.01471}, {\"WeekDate\": \"2018-03-02T00:00:00\", \"Influencer\": \"Micro\", \"TV\": 365, \"Radio\": 160.6509604, \"Social Media\": 28.54486796, \"Sales\": 1621.801265}, {\"WeekDate\": \"2018-03-02T00:00:00\", \"Influencer\": \"Nano\", \"TV\": 403, \"Radio\": 135.7541108, \"Social Media\": 25.23902569, \"Sales\": 1439.342491}, {\"WeekDate\": \"2018-10-02T00:00:00\", \"Influencer\": \"Macro\", \"TV\": 441, \"Radio\": 145.8451531, \"Social Media\": 22.47494314, \"Sales\": 1608.678877}, {\"WeekDate\": \"2018-10-02T00:00:00\", \"Influencer\": \"Mega\", \"TV\": 355, \"Radio\": 117.2616801, \"Social Media\": 22.17722398, \"Sales\": 1267.406676}, {\"WeekDate\": \"2018-10-02T00:00:00\", \"Influencer\": \"Micro\", \"TV\": 272, \"Radio\": 56.15417959, \"Social Media\": 18.07903967, \"Sales\": 970.1738748}, {\"WeekDate\": \"2018-10-02T00:00:00\", \"Influencer\": \"Nano\", \"TV\": 430, \"Radio\": 110.69003, \"Social Media\": 24.7680291, \"Sales\": 1253.411666}, {\"WeekDate\": \"2018-02-17T00:00:00\", \"Influencer\": \"Macro\", \"TV\": 290, \"Radio\": 107.8279056, \"Social Media\": 16.98780737, \"Sales\": 1234.751862}, {\"WeekDate\": \"2018-02-17T00:00:00\", \"Influencer\": \"Mega\", \"TV\": 363, \"Radio\": 139.1196612, \"Social Media\": 26.46584966, \"Sales\": 1290.083759}, {\"WeekDate\": \"2018-02-17T00:00:00\", \"Influencer\": \"Micro\", \"TV\": 414, \"Radio\": 141.0836903, \"Social Media\": 26.64627698, \"Sales\": 1213.49494}, {\"WeekDate\": \"2018-02-17T00:00:00\", \"Influencer\": \"Nano\", \"TV\": 374, \"Radio\": 117.3471745, \"Social Media\": 27.0414123, \"Sales\": 1334.236026}, {\"WeekDate\": \"2018-02-24T00:00:00\", \"Influencer\": \"Macro\", \"TV\": 338, \"Radio\": 107.8396513, \"Social Media\": 17.37144731, \"Sales\": 1125.26392}, {\"WeekDate\": \"2018-02-24T00:00:00\", \"Influencer\": \"Mega\", \"TV\": 418, \"Radio\": 144.941421, \"Social Media\": 19.99718084, \"Sales\": 1126.749314}, {\"WeekDate\": \"2018-02-24T00:00:00\", \"Influencer\": \"Micro\", \"TV\": 405, \"Radio\": 150.158571, \"Social Media\": 31.33047078, \"Sales\": 1437.826514}, {\"WeekDate\": \"2018-02-24T00:00:00\", \"Influencer\": \"Nano\", \"TV\": 389, \"Radio\": 123.2532335, \"Social Media\": 22.91711386, \"Sales\": 1289.141371}, {\"WeekDate\": \"2018-03-03T00:00:00\", \"Influencer\": \"Macro\", \"TV\": 459, \"Radio\": 161.3856512, \"Social Media\": 28.41025319, \"Sales\": 1614.742036}, {\"WeekDate\": \"2018-03-03T00:00:00\", \"Influencer\": \"Mega\", \"TV\": 363, \"Radio\": 128.0085273, \"Social Media\": 22.8342181, \"Sales\": 1230.180867}, {\"WeekDate\": \"2018-03-03T00:00:00\", \"Influencer\": \"Micro\", \"TV\": 458, \"Radio\": 151.2902159, \"Social Media\": 21.91568745, \"Sales\": 1639.472868}, {\"WeekDate\": \"2018-03-03T00:00:00\", \"Influencer\": \"Nano\", \"TV\": 314, \"Radio\": 115.5130833, \"Social Media\": 17.02722711, \"Sales\": 1113.118283}, {\"WeekDate\": \"2018-10-03T00:00:00\", \"Influencer\": \"Macro\", \"TV\": 286, \"Radio\": 92.10302591, \"Social Media\": 19.02125085, \"Sales\": 1022.702461}, {\"WeekDate\": \"2018-10-03T00:00:00\", \"Influencer\": \"Mega\", \"TV\": 400, \"Radio\": 129.1194499, \"Social Media\": 27.53874768, \"Sales\": 1421.902766}, {\"WeekDate\": \"2018-10-03T00:00:00\", \"Influencer\": \"Micro\", \"TV\": 440, \"Radio\": 140.0982366, \"Social Media\": 21.15007279, \"Sales\": 1558.250644}, {\"WeekDate\": \"2018-10-03T00:00:00\", \"Influencer\": \"Nano\", \"TV\": 368, \"Radio\": 119.5293299, \"Social Media\": 26.15051856, \"Sales\": 1308.844785}, {\"WeekDate\": \"2018-03-17T00:00:00\", \"Influencer\": \"Macro\", \"TV\": 461, \"Radio\": 142.8415985, \"Social Media\": 18.34971124, \"Sales\": 1639.651435}, {\"WeekDate\": \"2018-03-17T00:00:00\", \"Influencer\": \"Mega\", \"TV\": 377, \"Radio\": 125.8009439, \"Social Media\": 17.13192422, \"Sales\": 1342.789387}, {\"WeekDate\": \"2018-03-17T00:00:00\", \"Influencer\": \"Micro\", \"TV\": 213, \"Radio\": 71.40880062, \"Social Media\": 20.82348172, \"Sales\": 757.5915039}, {\"WeekDate\": \"2018-03-17T00:00:00\", \"Influencer\": \"Nano\", \"TV\": 344, \"Radio\": 90.15298902, \"Social Media\": 19.00909132, \"Sales\": 1226.491449}, {\"WeekDate\": \"2018-03-24T00:00:00\", \"Influencer\": \"Macro\", \"TV\": 506, \"Radio\": 191.22767, \"Social Media\": 36.47137383, \"Sales\": 1805.266542}, {\"WeekDate\": \"2018-03-24T00:00:00\", \"Influencer\": \"Mega\", \"TV\": 327, \"Radio\": 110.4499558, \"Social Media\": 18.62096888, \"Sales\": 1168.666404}, {\"WeekDate\": \"2018-03-24T00:00:00\", \"Influencer\": \"Micro\", \"TV\": 417, \"Radio\": 169.4362059, \"Social Media\": 28.88192697, \"Sales\": 1486.2154}, {\"WeekDate\": \"2018-03-24T00:00:00\", \"Influencer\": \"Nano\", \"TV\": 452, \"Radio\": 168.9431292, \"Social Media\": 30.81884962, \"Sales\": 1597.888999}, {\"WeekDate\": \"2018-03-31T00:00:00\", \"Influencer\": \"Macro\", \"TV\": 347, \"Radio\": 126.8235792, \"Social Media\": 25.36852446, \"Sales\": 1216.889647}, {\"WeekDate\": \"2018-03-31T00:00:00\", \"Influencer\": \"Mega\", \"TV\": 407, \"Radio\": 117.4638842, \"Social Media\": 23.32821516, \"Sales\": 1452.394663}, {\"WeekDate\": \"2018-03-31T00:00:00\", \"Influencer\": \"Micro\", \"TV\": 294, \"Radio\": 109.1783218, \"Social Media\": 16.10018116, \"Sales\": 1052.209089}, {\"WeekDate\": \"2018-03-31T00:00:00\", \"Influencer\": \"Nano\", \"TV\": 339, \"Radio\": 121.0786589, \"Social Media\": 25.16245918, \"Sales\": 1212.787138}, {\"WeekDate\": \"2018-07-04T00:00:00\", \"Influencer\": \"Macro\", \"TV\": 409, \"Radio\": 142.9745549, \"Social Media\": 32.43791764, \"Sales\": 1458.099198}, {\"WeekDate\": \"2018-07-04T00:00:00\", \"Influencer\": \"Mega\", \"TV\": 327, \"Radio\": 101.1168069, \"Social Media\": 17.0117371, \"Sales\": 1165.606225}, {\"WeekDate\": \"2018-07-04T00:00:00\", \"Influencer\": \"Micro\", \"TV\": 487, \"Radio\": 162.0082631, \"Social Media\": 24.56801071, \"Sales\": 1737.919579}, {\"WeekDate\": \"2018-07-04T00:00:00\", \"Influencer\": \"Nano\", \"TV\": 220, \"Radio\": 57.13788102, \"Social Media\": 14.86228729, \"Sales\": 784.7292614}, {\"WeekDate\": \"2018-04-14T00:00:00\", \"Influencer\": \"Macro\", \"TV\": 311, \"Radio\": 112.3102335, \"Social Media\": 23.59506214, \"Sales\": 1107.162763}, {\"WeekDate\": \"2018-04-14T00:00:00\", \"Influencer\": \"Mega\", \"TV\": 572, \"Radio\": 192.4402273, \"Social Media\": 32.65515383, \"Sales\": 2053.351727}, {\"WeekDate\": \"2018-04-14T00:00:00\", \"Influencer\": \"Micro\", \"TV\": 287, \"Radio\": 109.8306722, \"Social Media\": 24.80905726, \"Sales\": 1032.507751}, {\"WeekDate\": \"2018-04-14T00:00:00\", \"Influencer\": \"Nano\", \"TV\": 314, \"Radio\": 96.22134004, \"Social Media\": 20.1821608, \"Sales\": 1113.04724}, {\"WeekDate\": \"2018-04-21T00:00:00\", \"Influencer\": \"Macro\", \"TV\": 365, \"Radio\": 128.569658, \"Social Media\": 33.22162716, \"Sales\": 1296.449805}, {\"WeekDate\": \"2018-04-21T00:00:00\", \"Influencer\": \"Mega\", \"TV\": 369, \"Radio\": 122.240269, \"Social Media\": 23.81535241, \"Sales\": 1318.392268}, {\"WeekDate\": \"2018-04-21T00:00:00\", \"Influencer\": \"Micro\", \"TV\": 328, \"Radio\": 115.8234835, \"Social Media\": 25.07535843, \"Sales\": 1168.257846}, {\"WeekDate\": \"2018-04-21T00:00:00\", \"Influencer\": \"Nano\", \"TV\": 442, \"Radio\": 140.7625668, \"Social Media\": 22.55051108, \"Sales\": 1572.411257}, {\"WeekDate\": \"2018-04-28T00:00:00\", \"Influencer\": \"Macro\", \"TV\": 415, \"Radio\": 140.4394957, \"Social Media\": 33.77778266, \"Sales\": 1484.85966}, {\"WeekDate\": \"2018-04-28T00:00:00\", \"Influencer\": \"Mega\", \"TV\": 327, \"Radio\": 111.1929681, \"Social Media\": 23.53591594, \"Sales\": 1166.945407}, {\"WeekDate\": \"2018-04-28T00:00:00\", \"Influencer\": \"Micro\", \"TV\": 377, \"Radio\": 128.1430201, \"Social Media\": 26.81116973, \"Sales\": 1336.320144}, {\"WeekDate\": \"2018-04-28T00:00:00\", \"Influencer\": \"Nano\", \"TV\": 428, \"Radio\": 127.3984132, \"Social Media\": 27.4726007, \"Sales\": 1525.964281}, {\"WeekDate\": \"2018-05-05T00:00:00\", \"Influencer\": \"Macro\", \"TV\": 399, \"Radio\": 114.0362347, \"Social Media\": 17.79760854, \"Sales\": 1433.789838}, {\"WeekDate\": \"2018-05-05T00:00:00\", \"Influencer\": \"Mega\", \"TV\": 527, \"Radio\": 184.199687, \"Social Media\": 37.21891694, \"Sales\": 1883.424565}, {\"WeekDate\": \"2018-05-05T00:00:00\", \"Influencer\": \"Micro\", \"TV\": 435, \"Radio\": 139.926142, \"Social Media\": 25.64797755, \"Sales\": 1561.161303}, {\"WeekDate\": \"2018-05-05T00:00:00\", \"Influencer\": \"Nano\", \"TV\": 323, \"Radio\": 111.7571796, \"Social Media\": 17.90575747, \"Sales\": 1149.766879}, {\"WeekDate\": \"2018-12-05T00:00:00\", \"Influencer\": \"Macro\", \"TV\": 341, \"Radio\": 120.952541, \"Social Media\": 25.92168118, \"Sales\": 1217.77612}, {\"WeekDate\": \"2018-12-05T00:00:00\", \"Influencer\": \"Mega\", \"TV\": 324, \"Radio\": 111.068788, \"Social Media\": 27.07576216, \"Sales\": 1152.333287}, {\"WeekDate\": \"2018-12-05T00:00:00\", \"Influencer\": \"Micro\", \"TV\": 306, \"Radio\": 93.69054058, \"Social Media\": 17.49250092, \"Sales\": 1086.458788}, {\"WeekDate\": \"2018-12-05T00:00:00\", \"Influencer\": \"Nano\", \"TV\": 427, \"Radio\": 153.1771697, \"Social Media\": 26.11656295, \"Sales\": 1512.16826}, {\"WeekDate\": \"2018-05-19T00:00:00\", \"Influencer\": \"Macro\", \"TV\": 414, \"Radio\": 164.5958226, \"Social Media\": 29.17054742, \"Sales\": 1469.087759}, {\"WeekDate\": \"2018-05-19T00:00:00\", \"Influencer\": \"Mega\", \"TV\": 293, \"Radio\": 105.7662769, \"Social Media\": 10.83855196, \"Sales\": 1030.804959}, {\"WeekDate\": \"2018-05-19T00:00:00\", \"Influencer\": \"Micro\", \"TV\": 388, \"Radio\": 129.5592208, \"Social Media\": 19.07779231, \"Sales\": 1360.610045}, {\"WeekDate\": \"2018-05-19T00:00:00\", \"Influencer\": \"Nano\", \"TV\": 407, \"Radio\": 144.4520902, \"Social Media\": 15.85311346, \"Sales\": 1456.4027}, {\"WeekDate\": \"2018-05-26T00:00:00\", \"Influencer\": \"Macro\", \"TV\": 434, \"Radio\": 146.0254444, \"Social Media\": 27.17372725, \"Sales\": 1539.965205}, {\"WeekDate\": \"2018-05-26T00:00:00\", \"Influencer\": \"Mega\", \"TV\": 389, \"Radio\": 130.3539282, \"Social Media\": 28.46704166, \"Sales\": 1393.859935}, {\"WeekDate\": \"2018-05-26T00:00:00\", \"Influencer\": \"Micro\", \"TV\": 459, \"Radio\": 160.953342, \"Social Media\": 14.17505069, \"Sales\": 1622.260553}, {\"WeekDate\": \"2018-05-26T00:00:00\", \"Influencer\": \"Nano\", \"TV\": 440, \"Radio\": 128.9701039, \"Social Media\": 23.04274315, \"Sales\": 1568.129602}, {\"WeekDate\": \"2018-02-06T00:00:00\", \"Influencer\": \"Macro\", \"TV\": 418, \"Radio\": 140.0506936, \"Social Media\": 25.02465683, \"Sales\": 1485.157206}, {\"WeekDate\": \"2018-02-06T00:00:00\", \"Influencer\": \"Mega\", \"TV\": 526, \"Radio\": 177.1253888, \"Social Media\": 32.3916016, \"Sales\": 1875.871682}, {\"WeekDate\": \"2018-02-06T00:00:00\", \"Influencer\": \"Micro\", \"TV\": 392, \"Radio\": 129.9568498, \"Social Media\": 24.4568652, \"Sales\": 1397.894878}, {\"WeekDate\": \"2018-02-06T00:00:00\", \"Influencer\": \"Nano\", \"TV\": 393, \"Radio\": 164.4566336, \"Social Media\": 40.88062476, \"Sales\": 1399.72411}, {\"WeekDate\": \"2018-09-06T00:00:00\", \"Influencer\": \"Macro\", \"TV\": 255, \"Radio\": 89.61003278, \"Social Media\": 17.91340441, \"Sales\": 916.6173655}, {\"WeekDate\": \"2018-09-06T00:00:00\", \"Influencer\": \"Mega\", \"TV\": 303, \"Radio\": 120.7260423, \"Social Media\": 18.97494723, \"Sales\": 1073.226043}, {\"WeekDate\": \"2018-09-06T00:00:00\", \"Influencer\": \"Micro\", \"TV\": 486, \"Radio\": 162.2684667, \"Social Media\": 34.21820681, \"Sales\": 1715.992132}, {\"WeekDate\": \"2018-09-06T00:00:00\", \"Influencer\": \"Nano\", \"TV\": 437, \"Radio\": 145.0011825, \"Social Media\": 30.46395573, \"Sales\": 1570.648283}, {\"WeekDate\": \"2018-06-16T00:00:00\", \"Influencer\": \"Macro\", \"TV\": 345, \"Radio\": 132.8481953, \"Social Media\": 30.57232076, \"Sales\": 1234.789545}, {\"WeekDate\": \"2018-06-16T00:00:00\", \"Influencer\": \"Mega\", \"TV\": 459, \"Radio\": 165.4924646, \"Social Media\": 27.34184848, \"Sales\": 1637.431982}, {\"WeekDate\": \"2018-06-16T00:00:00\", \"Influencer\": \"Micro\", \"TV\": 388, \"Radio\": 133.5874196, \"Social Media\": 21.2980687, \"Sales\": 1369.331665}, {\"WeekDate\": \"2018-06-16T00:00:00\", \"Influencer\": \"Nano\", \"TV\": 373, \"Radio\": 122.333868, \"Social Media\": 25.19619254, \"Sales\": 1330.280101}, {\"WeekDate\": \"2018-06-23T00:00:00\", \"Influencer\": \"Macro\", \"TV\": 387, \"Radio\": 160.3474743, \"Social Media\": 27.98454803, \"Sales\": 1384.513467}, {\"WeekDate\": \"2018-06-23T00:00:00\", \"Influencer\": \"Mega\", \"TV\": 390, \"Radio\": 125.3407707, \"Social Media\": 21.54372211, \"Sales\": 1384.572528}, {\"WeekDate\": \"2018-06-23T00:00:00\", \"Influencer\": \"Micro\", \"TV\": 472, \"Radio\": 133.4053602, \"Social Media\": 33.56722186, \"Sales\": 1675.502959}, {\"WeekDate\": \"2018-06-23T00:00:00\", \"Influencer\": \"Nano\", \"TV\": 420, \"Radio\": 144.0425432, \"Social Media\": 23.4396649, \"Sales\": 1509.957925}, {\"WeekDate\": \"2018-06-30T00:00:00\", \"Influencer\": \"Macro\", \"TV\": 438, \"Radio\": 151.2703042, \"Social Media\": 34.91294573, \"Sales\": 1574.744991}, {\"WeekDate\": \"2018-06-30T00:00:00\", \"Influencer\": \"Mega\", \"TV\": 388, \"Radio\": 150.3226137, \"Social Media\": 27.60127162, \"Sales\": 1373.972636}, {\"WeekDate\": \"2018-06-30T00:00:00\", \"Influencer\": \"Micro\", \"TV\": 387, \"Radio\": 123.3837143, \"Social Media\": 15.45360366, \"Sales\": 1381.389894}, {\"WeekDate\": \"2018-06-30T00:00:00\", \"Influencer\": \"Nano\", \"TV\": 257, \"Radio\": 70.52270387, \"Social Media\": 20.0502229, \"Sales\": 922.0056437}, {\"WeekDate\": \"2018-07-07T00:00:00\", \"Influencer\": \"Macro\", \"TV\": 459, \"Radio\": 167.0551163, \"Social Media\": 27.11277006, \"Sales\": 1628.523639}, {\"WeekDate\": \"2018-07-07T00:00:00\", \"Influencer\": \"Mega\", \"TV\": 290, \"Radio\": 101.3515222, \"Social Media\": 24.28991463, \"Sales\": 1022.023525}, {\"WeekDate\": \"2018-07-07T00:00:00\", \"Influencer\": \"Micro\", \"TV\": 325, \"Radio\": 104.3805934, \"Social Media\": 18.22709843, \"Sales\": 1153.399663}, {\"WeekDate\": \"2018-07-07T00:00:00\", \"Influencer\": \"Nano\", \"TV\": 416, \"Radio\": 132.6149948, \"Social Media\": 24.2148094, \"Sales\": 1484.446184}, {\"WeekDate\": \"2018-07-14T00:00:00\", \"Influencer\": \"Macro\", \"TV\": 381, \"Radio\": 126.1733232, \"Social Media\": 28.69251416, \"Sales\": 1361.512909}, {\"WeekDate\": \"2018-07-14T00:00:00\", \"Influencer\": \"Mega\", \"TV\": 322, \"Radio\": 119.3563051, \"Social Media\": 22.50203942, \"Sales\": 1150.044918}, {\"WeekDate\": \"2018-07-14T00:00:00\", \"Influencer\": \"Micro\", \"TV\": 377, \"Radio\": 127.0144646, \"Social Media\": 20.87156621, \"Sales\": 1342.092278}, {\"WeekDate\": \"2018-07-14T00:00:00\", \"Influencer\": \"Nano\", \"TV\": 476, \"Radio\": 169.1508243, \"Social Media\": 24.17161469, \"Sales\": 1690.795857}, {\"WeekDate\": \"2018-07-21T00:00:00\", \"Influencer\": \"Macro\", \"TV\": 374, \"Radio\": 123.3498725, \"Social Media\": 29.47041814, \"Sales\": 1342.006082}, {\"WeekDate\": \"2018-07-21T00:00:00\", \"Influencer\": \"Mega\", \"TV\": 231, \"Radio\": 100.6431352, \"Social Media\": 16.74154917, \"Sales\": 821.0469896}, {\"WeekDate\": \"2018-07-21T00:00:00\", \"Influencer\": \"Micro\", \"TV\": 393, \"Radio\": 113.0177978, \"Social Media\": 28.47441918, \"Sales\": 1401.428063}, {\"WeekDate\": \"2018-07-21T00:00:00\", \"Influencer\": \"Nano\", \"TV\": 394, \"Radio\": 134.2725709, \"Social Media\": 21.80904101, \"Sales\": 1409.25647}, {\"WeekDate\": \"2018-07-28T00:00:00\", \"Influencer\": \"Macro\", \"TV\": 419, \"Radio\": 147.5010784, \"Social Media\": 19.58354438, \"Sales\": 1494.596366}, {\"WeekDate\": \"2018-07-28T00:00:00\", \"Influencer\": \"Mega\", \"TV\": 289, \"Radio\": 95.66135964, \"Social Media\": 24.21701063, \"Sales\": 1029.525337}, {\"WeekDate\": \"2018-07-28T00:00:00\", \"Influencer\": \"Micro\", \"TV\": 455, \"Radio\": 153.0635731, \"Social Media\": 29.86227465, \"Sales\": 1614.398262}, {\"WeekDate\": \"2018-07-28T00:00:00\", \"Influencer\": \"Nano\", \"TV\": 338, \"Radio\": 108.0810495, \"Social Media\": 24.39277699, \"Sales\": 1204.856615}, {\"WeekDate\": \"2018-04-08T00:00:00\", \"Influencer\": \"Macro\", \"TV\": 419, \"Radio\": 160.2811691, \"Social Media\": 23.95664134, \"Sales\": 1488.845457}, {\"WeekDate\": \"2018-04-08T00:00:00\", \"Influencer\": \"Mega\", \"TV\": 440, \"Radio\": 136.3863691, \"Social Media\": 23.68900122, \"Sales\": 1553.501423}, {\"WeekDate\": \"2018-04-08T00:00:00\", \"Influencer\": \"Micro\", \"TV\": 444, \"Radio\": 175.9302261, \"Social Media\": 29.19339399, \"Sales\": 1566.936667}, {\"WeekDate\": \"2018-04-08T00:00:00\", \"Influencer\": \"Nano\", \"TV\": 363, \"Radio\": 127.3763365, \"Social Media\": 16.45416657, \"Sales\": 1283.791649}, {\"WeekDate\": \"2018-11-08T00:00:00\", \"Influencer\": \"Macro\", \"TV\": 367, \"Radio\": 117.092382, \"Social Media\": 18.9803049, \"Sales\": 1304.702233}, {\"WeekDate\": \"2018-11-08T00:00:00\", \"Influencer\": \"Mega\", \"TV\": 432, \"Radio\": 144.4464304, \"Social Media\": 27.24686457, \"Sales\": 1527.483794}, {\"WeekDate\": \"2018-11-08T00:00:00\", \"Influencer\": \"Micro\", \"TV\": 577, \"Radio\": 203.2096695, \"Social Media\": 44.79938001, \"Sales\": 2044.565106}, {\"WeekDate\": \"2018-11-08T00:00:00\", \"Influencer\": \"Nano\", \"TV\": 269, \"Radio\": 86.09691939, \"Social Media\": 22.16122721, \"Sales\": 950.5170657}, {\"WeekDate\": \"2018-08-18T00:00:00\", \"Influencer\": \"Macro\", \"TV\": 313, \"Radio\": 95.53598878, \"Social Media\": 20.24316423, \"Sales\": 1101.486666}, {\"WeekDate\": \"2018-08-18T00:00:00\", \"Influencer\": \"Mega\", \"TV\": 351, \"Radio\": 108.6818702, \"Social Media\": 17.62087472, \"Sales\": 1268.659909}, {\"WeekDate\": \"2018-08-18T00:00:00\", \"Influencer\": \"Micro\", \"TV\": 370, \"Radio\": 136.9982746, \"Social Media\": 20.86696519, \"Sales\": 1318.161769}, {\"WeekDate\": \"2018-08-18T00:00:00\", \"Influencer\": \"Nano\", \"TV\": 261, \"Radio\": 81.76380071, \"Social Media\": 22.95880823, \"Sales\": 917.3251705}, {\"WeekDate\": \"2018-08-25T00:00:00\", \"Influencer\": \"Macro\", \"TV\": 409, \"Radio\": 138.3491352, \"Social Media\": 27.78454762, \"Sales\": 1452.070741}, {\"WeekDate\": \"2018-08-25T00:00:00\", \"Influencer\": \"Mega\", \"TV\": 268, \"Radio\": 102.1140196, \"Social Media\": 19.22689438, \"Sales\": 950.7726092}, {\"WeekDate\": \"2018-08-25T00:00:00\", \"Influencer\": \"Micro\", \"TV\": 423, \"Radio\": 139.0984106, \"Social Media\": 30.59261092, \"Sales\": 1511.385783}, {\"WeekDate\": \"2018-08-25T00:00:00\", \"Influencer\": \"Nano\", \"TV\": 485, \"Radio\": 147.5008953, \"Social Media\": 24.13739417, \"Sales\": 1726.130034}, {\"WeekDate\": \"2018-01-09T00:00:00\", \"Influencer\": \"Macro\", \"TV\": 357, \"Radio\": 111.8525087, \"Social Media\": 28.19214785, \"Sales\": 1256.147491}, {\"WeekDate\": \"2018-01-09T00:00:00\", \"Influencer\": \"Mega\", \"TV\": 393, \"Radio\": 146.0477601, \"Social Media\": 37.94215232, \"Sales\": 1407.459838}, {\"WeekDate\": \"2018-01-09T00:00:00\", \"Influencer\": \"Micro\", \"TV\": 417, \"Radio\": 138.0421737, \"Social Media\": 22.66631044, \"Sales\": 1483.610563}, {\"WeekDate\": \"2018-01-09T00:00:00\", \"Influencer\": \"Nano\", \"TV\": 412, \"Radio\": 114.8388083, \"Social Media\": 22.24172215, \"Sales\": 1452.400878}, {\"WeekDate\": \"2018-08-09T00:00:00\", \"Influencer\": \"Macro\", \"TV\": 410, \"Radio\": 135.4299801, \"Social Media\": 27.34730292, \"Sales\": 1458.460013}, {\"WeekDate\": \"2018-08-09T00:00:00\", \"Influencer\": \"Mega\", \"TV\": 336, \"Radio\": 132.8860092, \"Social Media\": 24.02931784, \"Sales\": 1178.215115}, {\"WeekDate\": \"2018-08-09T00:00:00\", \"Influencer\": \"Micro\", \"TV\": 381, \"Radio\": 132.4010212, \"Social Media\": 33.44039045, \"Sales\": 1357.921625}, {\"WeekDate\": \"2018-08-09T00:00:00\", \"Influencer\": \"Nano\", \"TV\": 252, \"Radio\": 73.90370034, \"Social Media\": 19.11915197, \"Sales\": 889.5977627}, {\"WeekDate\": \"2018-09-15T00:00:00\", \"Influencer\": \"Macro\", \"TV\": 313, \"Radio\": 108.2583648, \"Social Media\": 21.28996396, \"Sales\": 1120.28481}, {\"WeekDate\": \"2018-09-15T00:00:00\", \"Influencer\": \"Mega\", \"TV\": 491, \"Radio\": 164.1092346, \"Social Media\": 29.03645666, \"Sales\": 1754.252459}, {\"WeekDate\": \"2018-09-15T00:00:00\", \"Influencer\": \"Micro\", \"TV\": 387, \"Radio\": 135.743909, \"Social Media\": 25.28653095, \"Sales\": 1378.604382}, {\"WeekDate\": \"2018-09-15T00:00:00\", \"Influencer\": \"Nano\", \"TV\": 457, \"Radio\": 156.1174071, \"Social Media\": 29.17146189, \"Sales\": 1634.414809}, {\"WeekDate\": \"2018-09-22T00:00:00\", \"Influencer\": \"Macro\", \"TV\": 375, \"Radio\": 119.3113399, \"Social Media\": 21.84203756, \"Sales\": 1340.689926}, {\"WeekDate\": \"2018-09-22T00:00:00\", \"Influencer\": \"Mega\", \"TV\": 412, \"Radio\": 133.2446519, \"Social Media\": 33.72142119, \"Sales\": 1470.762336}, {\"WeekDate\": \"2018-09-22T00:00:00\", \"Influencer\": \"Micro\", \"TV\": 421, \"Radio\": 132.5657313, \"Social Media\": 33.94373007, \"Sales\": 1498.721923}, {\"WeekDate\": \"2018-09-22T00:00:00\", \"Influencer\": \"Nano\", \"TV\": 293, \"Radio\": 86.15143453, \"Social Media\": 21.44783187, \"Sales\": 1045.289811}, {\"WeekDate\": \"2018-09-29T00:00:00\", \"Influencer\": \"Macro\", \"TV\": 386, \"Radio\": 111.9613962, \"Social Media\": 19.53393856, \"Sales\": 1360.625919}, {\"WeekDate\": \"2018-09-29T00:00:00\", \"Influencer\": \"Mega\", \"TV\": 363, \"Radio\": 124.8521975, \"Social Media\": 28.56001033, \"Sales\": 1285.38867}, {\"WeekDate\": \"2018-09-29T00:00:00\", \"Influencer\": \"Micro\", \"TV\": 328, \"Radio\": 101.4317587, \"Social Media\": 18.66969405, \"Sales\": 1170.302777}, {\"WeekDate\": \"2018-09-29T00:00:00\", \"Influencer\": \"Nano\", \"TV\": 286, \"Radio\": 97.89997417, \"Social Media\": 21.61006038, \"Sales\": 1026.926978}, {\"WeekDate\": \"2018-06-10T00:00:00\", \"Influencer\": \"Macro\", \"TV\": 435, \"Radio\": 138.2787479, \"Social Media\": 17.06116215, \"Sales\": 1551.815427}, {\"WeekDate\": \"2018-06-10T00:00:00\", \"Influencer\": \"Mega\", \"TV\": 382, \"Radio\": 129.3732916, \"Social Media\": 26.01012602, \"Sales\": 1361.563324}, {\"WeekDate\": \"2018-06-10T00:00:00\", \"Influencer\": \"Micro\", \"TV\": 267, \"Radio\": 79.25013002, \"Social Media\": 20.5980451, \"Sales\": 940.1204359}, {\"WeekDate\": \"2018-06-10T00:00:00\", \"Influencer\": \"Nano\", \"TV\": 420, \"Radio\": 122.4620978, \"Social Media\": 14.4491108, \"Sales\": 1481.417652}, {\"WeekDate\": \"2018-10-13T00:00:00\", \"Influencer\": \"Macro\", \"TV\": 360, \"Radio\": 114.4285102, \"Social Media\": 33.580507, \"Sales\": 1285.976576}, {\"WeekDate\": \"2018-10-13T00:00:00\", \"Influencer\": \"Mega\", \"TV\": 413, \"Radio\": 133.9181176, \"Social Media\": 33.06366331, \"Sales\": 1474.780508}, {\"WeekDate\": \"2018-10-13T00:00:00\", \"Influencer\": \"Micro\", \"TV\": 418, \"Radio\": 149.5431301, \"Social Media\": 24.069152, \"Sales\": 1490.888419}, {\"WeekDate\": \"2018-10-13T00:00:00\", \"Influencer\": \"Nano\", \"TV\": 261, \"Radio\": 108.6182373, \"Social Media\": 21.25532927, \"Sales\": 919.4719271}, {\"WeekDate\": \"2018-10-20T00:00:00\", \"Influencer\": \"Macro\", \"TV\": 331, \"Radio\": 103.4803651, \"Social Media\": 22.54983636, \"Sales\": 1180.148032}, {\"WeekDate\": \"2018-10-20T00:00:00\", \"Influencer\": \"Mega\", \"TV\": 474, \"Radio\": 134.4060043, \"Social Media\": 28.05816226, \"Sales\": 1682.839914}, {\"WeekDate\": \"2018-10-20T00:00:00\", \"Influencer\": \"Micro\", \"TV\": 280, \"Radio\": 104.1087828, \"Social Media\": 20.9373195, \"Sales\": 990.2242058}, {\"WeekDate\": \"2018-10-20T00:00:00\", \"Influencer\": \"Nano\", \"TV\": 299, \"Radio\": 114.8941259, \"Social Media\": 26.1683968, \"Sales\": 1060.492048}, {\"WeekDate\": \"2018-10-27T00:00:00\", \"Influencer\": \"Macro\", \"TV\": 443, \"Radio\": 145.4842155, \"Social Media\": 29.85894888, \"Sales\": 1571.284525}, {\"WeekDate\": \"2018-10-27T00:00:00\", \"Influencer\": \"Mega\", \"TV\": 480, \"Radio\": 153.911978, \"Social Media\": 29.14540074, \"Sales\": 1700.004822}, {\"WeekDate\": \"2018-10-27T00:00:00\", \"Influencer\": \"Micro\", \"TV\": 317, \"Radio\": 80.00004126, \"Social Media\": 19.9222618, \"Sales\": 1121.040851}, {\"WeekDate\": \"2018-10-27T00:00:00\", \"Influencer\": \"Nano\", \"TV\": 398, \"Radio\": 137.3774374, \"Social Media\": 20.42328279, \"Sales\": 1410.100673}, {\"WeekDate\": \"2018-03-11T00:00:00\", \"Influencer\": \"Macro\", \"TV\": 377, \"Radio\": 151.3943581, \"Social Media\": 28.4731057, \"Sales\": 1341.309768}, {\"WeekDate\": \"2018-03-11T00:00:00\", \"Influencer\": \"Mega\", \"TV\": 339, \"Radio\": 129.8751256, \"Social Media\": 18.2439351, \"Sales\": 1204.021122}, {\"WeekDate\": \"2018-03-11T00:00:00\", \"Influencer\": \"Micro\", \"TV\": 440, \"Radio\": 166.5891613, \"Social Media\": 26.12531889, \"Sales\": 1555.572237}, {\"WeekDate\": \"2018-03-11T00:00:00\", \"Influencer\": \"Nano\", \"TV\": 409, \"Radio\": 125.2726464, \"Social Media\": 30.69657839, \"Sales\": 1458.354482}, {\"WeekDate\": \"2018-10-11T00:00:00\", \"Influencer\": \"Macro\", \"TV\": 322, \"Radio\": 89.10144241, \"Social Media\": 15.06144017, \"Sales\": 1141.11742}, {\"WeekDate\": \"2018-10-11T00:00:00\", \"Influencer\": \"Mega\", \"TV\": 397, \"Radio\": 126.3592672, \"Social Media\": 20.65754155, \"Sales\": 1395.896488}, {\"WeekDate\": \"2018-10-11T00:00:00\", \"Influencer\": \"Micro\", \"TV\": 306, \"Radio\": 124.5484982, \"Social Media\": 29.03807097, \"Sales\": 1088.981313}, {\"WeekDate\": \"2018-10-11T00:00:00\", \"Influencer\": \"Nano\", \"TV\": 251, \"Radio\": 64.58984973, \"Social Media\": 18.16026918, \"Sales\": 892.0662647}, {\"WeekDate\": \"2018-11-17T00:00:00\", \"Influencer\": \"Macro\", \"TV\": 582, \"Radio\": 195.6388978, \"Social Media\": 31.64723359, \"Sales\": 2061.018042}, {\"WeekDate\": \"2018-11-17T00:00:00\", \"Influencer\": \"Mega\", \"TV\": 313, \"Radio\": 108.2546761, \"Social Media\": 23.34564824, \"Sales\": 1128.584352}, {\"WeekDate\": \"2018-11-17T00:00:00\", \"Influencer\": \"Micro\", \"TV\": 269, \"Radio\": 99.58465349, \"Social Media\": 21.15601422, \"Sales\": 957.3251723}, {\"WeekDate\": \"2018-11-17T00:00:00\", \"Influencer\": \"Nano\", \"TV\": 411, \"Radio\": 145.0321729, \"Social Media\": 24.27939633, \"Sales\": 1447.015523}, {\"WeekDate\": \"2018-11-24T00:00:00\", \"Influencer\": \"Macro\", \"TV\": 354, \"Radio\": 128.0005043, \"Social Media\": 15.4130639, \"Sales\": 1274.878933}, {\"WeekDate\": \"2018-11-24T00:00:00\", \"Influencer\": \"Mega\", \"TV\": 331, \"Radio\": 112.0069161, \"Social Media\": 27.69311909, \"Sales\": 1190.928026}, {\"WeekDate\": \"2018-11-24T00:00:00\", \"Influencer\": \"Micro\", \"TV\": 266, \"Radio\": 95.74934382, \"Social Media\": 13.55994157, \"Sales\": 941.7599053}, {\"WeekDate\": \"2018-11-24T00:00:00\", \"Influencer\": \"Nano\", \"TV\": 380, \"Radio\": 112.4605139, \"Social Media\": 15.41398792, \"Sales\": 1336.110908}, {\"WeekDate\": \"2018-01-12T00:00:00\", \"Influencer\": \"Macro\", \"TV\": 483, \"Radio\": 153.2792907, \"Social Media\": 23.2814706, \"Sales\": 1721.723788}, {\"WeekDate\": \"2018-01-12T00:00:00\", \"Influencer\": \"Mega\", \"TV\": 451, \"Radio\": 135.725488, \"Social Media\": 23.44411694, \"Sales\": 1603.676806}, {\"WeekDate\": \"2018-01-12T00:00:00\", \"Influencer\": \"Micro\", \"TV\": 454, \"Radio\": 166.5569082, \"Social Media\": 21.33960495, \"Sales\": 1614.274007}, {\"WeekDate\": \"2018-01-12T00:00:00\", \"Influencer\": \"Nano\", \"TV\": 461, \"Radio\": 171.79008, \"Social Media\": 32.02263406, \"Sales\": 1633.714525}, {\"WeekDate\": \"2018-08-12T00:00:00\", \"Influencer\": \"Macro\", \"TV\": 494, \"Radio\": 149.1949555, \"Social Media\": 31.19985335, \"Sales\": 1763.277019}, {\"WeekDate\": \"2018-08-12T00:00:00\", \"Influencer\": \"Mega\", \"TV\": 352, \"Radio\": 103.5773238, \"Social Media\": 24.04117972, \"Sales\": 1243.612959}, {\"WeekDate\": \"2018-08-12T00:00:00\", \"Influencer\": \"Micro\", \"TV\": 403, \"Radio\": 138.8612276, \"Social Media\": 22.36739527, \"Sales\": 1442.635395}, {\"WeekDate\": \"2018-08-12T00:00:00\", \"Influencer\": \"Nano\", \"TV\": 386, \"Radio\": 158.3694347, \"Social Media\": 23.23948914, \"Sales\": 1388.225606}, {\"WeekDate\": \"2018-12-15T00:00:00\", \"Influencer\": \"Macro\", \"TV\": 487, \"Radio\": 162.502121, \"Social Media\": 23.47904238, \"Sales\": 1733.539495}, {\"WeekDate\": \"2018-12-15T00:00:00\", \"Influencer\": \"Mega\", \"TV\": 422, \"Radio\": 153.3468801, \"Social Media\": 30.00558411, \"Sales\": 1499.883204}, {\"WeekDate\": \"2018-12-15T00:00:00\", \"Influencer\": \"Micro\", \"TV\": 260, \"Radio\": 101.5250948, \"Social Media\": 16.59519027, \"Sales\": 925.286509}, {\"WeekDate\": \"2018-12-15T00:00:00\", \"Influencer\": \"Nano\", \"TV\": 279, \"Radio\": 117.4517095, \"Social Media\": 25.46303256, \"Sales\": 995.6119433}, {\"WeekDate\": \"2018-12-22T00:00:00\", \"Influencer\": \"Macro\", \"TV\": 275, \"Radio\": 108.4853921, \"Social Media\": 21.37913433, \"Sales\": 971.2405965}, {\"WeekDate\": \"2018-12-22T00:00:00\", \"Influencer\": \"Mega\", \"TV\": 462, \"Radio\": 148.5187605, \"Social Media\": 25.96122139, \"Sales\": 1651.463064}, {\"WeekDate\": \"2018-12-22T00:00:00\", \"Influencer\": \"Micro\", \"TV\": 546, \"Radio\": 182.7583305, \"Social Media\": 29.17998662, \"Sales\": 1954.873433}, {\"WeekDate\": \"2018-12-22T00:00:00\", \"Influencer\": \"Nano\", \"TV\": 445, \"Radio\": 128.8587656, \"Social Media\": 18.62390878, \"Sales\": 1587.975097}, {\"WeekDate\": \"2018-12-29T00:00:00\", \"Influencer\": \"Macro\", \"TV\": 243, \"Radio\": 95.60021741, \"Social Media\": 17.01025171, \"Sales\": 861.8122927}, {\"WeekDate\": \"2018-12-29T00:00:00\", \"Influencer\": \"Mega\", \"TV\": 342, \"Radio\": 100.7702057, \"Social Media\": 21.73992736, \"Sales\": 1217.039291}, {\"WeekDate\": \"2018-12-29T00:00:00\", \"Influencer\": \"Micro\", \"TV\": 458, \"Radio\": 151.0976772, \"Social Media\": 26.31133381, \"Sales\": 1629.946961}, {\"WeekDate\": \"2018-12-29T00:00:00\", \"Influencer\": \"Nano\", \"TV\": 433, \"Radio\": 148.2030886, \"Social Media\": 28.00363406, \"Sales\": 1531.549038}, {\"WeekDate\": \"2019-05-01T00:00:00\", \"Influencer\": \"Macro\", \"TV\": 382, \"Radio\": 112.3417519, \"Social Media\": 29.69070501, \"Sales\": 1364.791396}, {\"WeekDate\": \"2019-05-01T00:00:00\", \"Influencer\": \"Mega\", \"TV\": 261, \"Radio\": 92.58761802, \"Social Media\": 19.89671886, \"Sales\": 930.3248658}, {\"WeekDate\": \"2019-05-01T00:00:00\", \"Influencer\": \"Micro\", \"TV\": 389, \"Radio\": 160.8450751, \"Social Media\": 27.32518523, \"Sales\": 1377.795407}, {\"WeekDate\": \"2019-05-01T00:00:00\", \"Influencer\": \"Nano\", \"TV\": 430, \"Radio\": 123.2955148, \"Social Media\": 21.13646929, \"Sales\": 1529.894857}, {\"WeekDate\": \"2019-12-01T00:00:00\", \"Influencer\": \"Macro\", \"TV\": 348, \"Radio\": 130.4787284, \"Social Media\": 23.43186189, \"Sales\": 1245.252341}, {\"WeekDate\": \"2019-12-01T00:00:00\", \"Influencer\": \"Mega\", \"TV\": 358, \"Radio\": 122.8036143, \"Social Media\": 27.17067372, \"Sales\": 1267.028011}, {\"WeekDate\": \"2019-12-01T00:00:00\", \"Influencer\": \"Micro\", \"TV\": 455, \"Radio\": 161.0915711, \"Social Media\": 30.10583971, \"Sales\": 1615.406208}, {\"WeekDate\": \"2019-12-01T00:00:00\", \"Influencer\": \"Nano\", \"TV\": 360, \"Radio\": 117.9782658, \"Social Media\": 16.73511413, \"Sales\": 1280.292934}, {\"WeekDate\": \"2019-01-19T00:00:00\", \"Influencer\": \"Macro\", \"TV\": 427, \"Radio\": 125.3300973, \"Social Media\": 14.11799545, \"Sales\": 1536.231501}, {\"WeekDate\": \"2019-01-19T00:00:00\", \"Influencer\": \"Mega\", \"TV\": 392, \"Radio\": 143.9407348, \"Social Media\": 22.73753119, \"Sales\": 1408.383798}, {\"WeekDate\": \"2019-01-19T00:00:00\", \"Influencer\": \"Micro\", \"TV\": 282, \"Radio\": 87.4697072, \"Social Media\": 15.81751474, \"Sales\": 1008.509951}, {\"WeekDate\": \"2019-01-19T00:00:00\", \"Influencer\": \"Nano\", \"TV\": 369, \"Radio\": 95.49914827, \"Social Media\": 15.78791974, \"Sales\": 1305.843537}, {\"WeekDate\": \"2019-01-26T00:00:00\", \"Influencer\": \"Macro\", \"TV\": 339, \"Radio\": 121.7109527, \"Social Media\": 23.77055246, \"Sales\": 1201.094761}, {\"WeekDate\": \"2019-01-26T00:00:00\", \"Influencer\": \"Mega\", \"TV\": 417, \"Radio\": 136.6111373, \"Social Media\": 21.30072641, \"Sales\": 1498.258922}, {\"WeekDate\": \"2019-01-26T00:00:00\", \"Influencer\": \"Micro\", \"TV\": 237, \"Radio\": 99.26528281, \"Social Media\": 17.9457474, \"Sales\": 847.2080915}, {\"WeekDate\": \"2019-01-26T00:00:00\", \"Influencer\": \"Nano\", \"TV\": 346, \"Radio\": 108.6544645, \"Social Media\": 16.94753393, \"Sales\": 1225.204191}, {\"WeekDate\": \"2019-02-02T00:00:00\", \"Influencer\": \"Macro\", \"TV\": 327, \"Radio\": 127.1331255, \"Social Media\": 21.74467875, \"Sales\": 1165.674676}, {\"WeekDate\": \"2019-02-02T00:00:00\", \"Influencer\": \"Mega\", \"TV\": 333, \"Radio\": 114.7392661, \"Social Media\": 21.34645388, \"Sales\": 1186.981266}, {\"WeekDate\": \"2019-02-02T00:00:00\", \"Influencer\": \"Micro\", \"TV\": 409, \"Radio\": 166.786771, \"Social Media\": 27.96989728, \"Sales\": 1447.839702}, {\"WeekDate\": \"2019-02-02T00:00:00\", \"Influencer\": \"Nano\", \"TV\": 452, \"Radio\": 142.0833456, \"Social Media\": 28.12819557, \"Sales\": 1603.791611}, {\"WeekDate\": \"2019-09-02T00:00:00\", \"Influencer\": \"Macro\", \"TV\": 407, \"Radio\": 156.8863061, \"Social Media\": 20.76928357, \"Sales\": 1454.851241}, {\"WeekDate\": \"2019-09-02T00:00:00\", \"Influencer\": \"Mega\", \"TV\": 420, \"Radio\": 151.5130687, \"Social Media\": 31.95702628, \"Sales\": 1492.373878}, {\"WeekDate\": \"2019-09-02T00:00:00\", \"Influencer\": \"Micro\", \"TV\": 499, \"Radio\": 146.0079283, \"Social Media\": 21.96319459, \"Sales\": 1781.760635}, {\"WeekDate\": \"2019-09-02T00:00:00\", \"Influencer\": \"Nano\", \"TV\": 300, \"Radio\": 116.7224307, \"Social Media\": 18.77506114, \"Sales\": 1076.278297}, {\"WeekDate\": \"2019-02-16T00:00:00\", \"Influencer\": \"Macro\", \"TV\": 376, \"Radio\": 139.8665075, \"Social Media\": 28.62230254, \"Sales\": 1321.67414}, {\"WeekDate\": \"2019-02-16T00:00:00\", \"Influencer\": \"Mega\", \"TV\": 385, \"Radio\": 127.6552423, \"Social Media\": 24.14861018, \"Sales\": 1362.225025}, {\"WeekDate\": \"2019-02-16T00:00:00\", \"Influencer\": \"Micro\", \"TV\": 447, \"Radio\": 136.6626809, \"Social Media\": 23.47043795, \"Sales\": 1591.617805}, {\"WeekDate\": \"2019-02-16T00:00:00\", \"Influencer\": \"Nano\", \"TV\": 277, \"Radio\": 84.78330963, \"Social Media\": 20.2773726, \"Sales\": 978.8768893}, {\"WeekDate\": \"2019-02-23T00:00:00\", \"Influencer\": \"Macro\", \"TV\": 409, \"Radio\": 131.8317461, \"Social Media\": 26.18097553, \"Sales\": 1463.364788}, {\"WeekDate\": \"2019-02-23T00:00:00\", \"Influencer\": \"Mega\", \"TV\": 466, \"Radio\": 145.5362016, \"Social Media\": 22.40863383, \"Sales\": 1632.173686}, {\"WeekDate\": \"2019-02-23T00:00:00\", \"Influencer\": \"Micro\", \"TV\": 394, \"Radio\": 119.3901082, \"Social Media\": 19.03847569, \"Sales\": 1399.938304}, {\"WeekDate\": \"2019-02-23T00:00:00\", \"Influencer\": \"Nano\", \"TV\": 441, \"Radio\": 137.9481155, \"Social Media\": 26.33894641, \"Sales\": 1566.771283}, {\"WeekDate\": \"2019-02-03T00:00:00\", \"Influencer\": \"Macro\", \"TV\": 386, \"Radio\": 119.9167711, \"Social Media\": 26.8516111, \"Sales\": 1380.453572}, {\"WeekDate\": \"2019-02-03T00:00:00\", \"Influencer\": \"Mega\", \"TV\": 347, \"Radio\": 114.907905, \"Social Media\": 21.32790628, \"Sales\": 1226.880953}, {\"WeekDate\": \"2019-02-03T00:00:00\", \"Influencer\": \"Micro\", \"TV\": 507, \"Radio\": 150.9988431, \"Social Media\": 27.79597775, \"Sales\": 1798.841115}, {\"WeekDate\": \"2019-02-03T00:00:00\", \"Influencer\": \"Nano\", \"TV\": 461, \"Radio\": 159.8362473, \"Social Media\": 24.5990832, \"Sales\": 1640.029557}, {\"WeekDate\": \"2019-09-03T00:00:00\", \"Influencer\": \"Macro\", \"TV\": 406, \"Radio\": 137.8116208, \"Social Media\": 23.95412126, \"Sales\": 1444.532438}, {\"WeekDate\": \"2019-09-03T00:00:00\", \"Influencer\": \"Mega\", \"TV\": 462, \"Radio\": 171.0772339, \"Social Media\": 22.82081697, \"Sales\": 1648.160236}, {\"WeekDate\": \"2019-09-03T00:00:00\", \"Influencer\": \"Micro\", \"TV\": 395, \"Radio\": 110.8028173, \"Social Media\": 26.75556759, \"Sales\": 1416.890744}, {\"WeekDate\": \"2019-09-03T00:00:00\", \"Influencer\": \"Nano\", \"TV\": 300, \"Radio\": 89.53486762, \"Social Media\": 20.42020624, \"Sales\": 1060.91534}, {\"WeekDate\": \"2019-03-16T00:00:00\", \"Influencer\": \"Macro\", \"TV\": 327, \"Radio\": 104.0857662, \"Social Media\": 17.99395176, \"Sales\": 1178.727214}, {\"WeekDate\": \"2019-03-16T00:00:00\", \"Influencer\": \"Mega\", \"TV\": 324, \"Radio\": 81.41275923, \"Social Media\": 12.96449987, \"Sales\": 1149.909381}, {\"WeekDate\": \"2019-03-16T00:00:00\", \"Influencer\": \"Micro\", \"TV\": 357, \"Radio\": 113.3878687, \"Social Media\": 19.708656, \"Sales\": 1283.510325}, {\"WeekDate\": \"2019-03-16T00:00:00\", \"Influencer\": \"Nano\", \"TV\": 397, \"Radio\": 122.6464424, \"Social Media\": 17.68574663, \"Sales\": 1421.338538}, {\"WeekDate\": \"2019-03-23T00:00:00\", \"Influencer\": \"Macro\", \"TV\": 356, \"Radio\": 117.4671354, \"Social Media\": 20.01837061, \"Sales\": 1256.626595}, {\"WeekDate\": \"2019-03-23T00:00:00\", \"Influencer\": \"Mega\", \"TV\": 372, \"Radio\": 129.9996891, \"Social Media\": 17.80871331, \"Sales\": 1331.082614}, {\"WeekDate\": \"2019-03-23T00:00:00\", \"Influencer\": \"Micro\", \"TV\": 336, \"Radio\": 106.6358567, \"Social Media\": 15.67351767, \"Sales\": 1196.298379}, {\"WeekDate\": \"2019-03-23T00:00:00\", \"Influencer\": \"Nano\", \"TV\": 436, \"Radio\": 170.3614779, \"Social Media\": 32.27354202, \"Sales\": 1556.66404}, {\"WeekDate\": \"2019-03-30T00:00:00\", \"Influencer\": \"Macro\", \"TV\": 373, \"Radio\": 132.5452408, \"Social Media\": 32.72538333, \"Sales\": 1332.858123}, {\"WeekDate\": \"2019-03-30T00:00:00\", \"Influencer\": \"Mega\", \"TV\": 356, \"Radio\": 106.352396, \"Social Media\": 22.3456336, \"Sales\": 1260.446255}, {\"WeekDate\": \"2019-03-30T00:00:00\", \"Influencer\": \"Micro\", \"TV\": 340, \"Radio\": 118.641978, \"Social Media\": 21.07839741, \"Sales\": 1214.68112}, {\"WeekDate\": \"2019-03-30T00:00:00\", \"Influencer\": \"Nano\", \"TV\": 330, \"Radio\": 127.6514176, \"Social Media\": 25.64056129, \"Sales\": 1162.637421}, {\"WeekDate\": \"2019-06-04T00:00:00\", \"Influencer\": \"Macro\", \"TV\": 329, \"Radio\": 121.5368075, \"Social Media\": 27.13392203, \"Sales\": 1164.92162}, {\"WeekDate\": \"2019-06-04T00:00:00\", \"Influencer\": \"Mega\", \"TV\": 537, \"Radio\": 174.7413784, \"Social Media\": 22.45352558, \"Sales\": 1919.911941}, {\"WeekDate\": \"2019-06-04T00:00:00\", \"Influencer\": \"Micro\", \"TV\": 356, \"Radio\": 111.9728342, \"Social Media\": 22.77827204, \"Sales\": 1268.440519}, {\"WeekDate\": \"2019-06-04T00:00:00\", \"Influencer\": \"Nano\", \"TV\": 386, \"Radio\": 109.6466924, \"Social Media\": 22.0594301, \"Sales\": 1381.458599}, {\"WeekDate\": \"2019-04-13T00:00:00\", \"Influencer\": \"Macro\", \"TV\": 329, \"Radio\": 100.817182, \"Social Media\": 22.11163986, \"Sales\": 1177.826085}, {\"WeekDate\": \"2019-04-13T00:00:00\", \"Influencer\": \"Mega\", \"TV\": 349, \"Radio\": 127.7913056, \"Social Media\": 22.58485747, \"Sales\": 1243.210162}, {\"WeekDate\": \"2019-04-13T00:00:00\", \"Influencer\": \"Micro\", \"TV\": 404, \"Radio\": 156.7011839, \"Social Media\": 16.53956085, \"Sales\": 1431.382907}, {\"WeekDate\": \"2019-04-13T00:00:00\", \"Influencer\": \"Nano\", \"TV\": 451, \"Radio\": 146.150628, \"Social Media\": 31.64690611, \"Sales\": 1609.833779}, {\"WeekDate\": \"2019-04-20T00:00:00\", \"Influencer\": \"Macro\", \"TV\": 222, \"Radio\": 88.03728963, \"Social Media\": 15.02791921, \"Sales\": 787.5699381}, {\"WeekDate\": \"2019-04-20T00:00:00\", \"Influencer\": \"Mega\", \"TV\": 360, \"Radio\": 97.84388169, \"Social Media\": 25.86156653, \"Sales\": 1291.359328}, {\"WeekDate\": \"2019-04-20T00:00:00\", \"Influencer\": \"Micro\", \"TV\": 361, \"Radio\": 147.3112772, \"Social Media\": 19.54093708, \"Sales\": 1296.979135}, {\"WeekDate\": \"2019-04-20T00:00:00\", \"Influencer\": \"Nano\", \"TV\": 343, \"Radio\": 126.6254268, \"Social Media\": 24.94503281, \"Sales\": 1221.700683}, {\"WeekDate\": \"2019-04-27T00:00:00\", \"Influencer\": \"Macro\", \"TV\": 384, \"Radio\": 129.4077587, \"Social Media\": 30.24950829, \"Sales\": 1358.049626}, {\"WeekDate\": \"2019-04-27T00:00:00\", \"Influencer\": \"Mega\", \"TV\": 294, \"Radio\": 99.96669918, \"Social Media\": 14.59165703, \"Sales\": 1033.625448}, {\"WeekDate\": \"2019-04-27T00:00:00\", \"Influencer\": \"Micro\", \"TV\": 376, \"Radio\": 134.1080037, \"Social Media\": 19.18688879, \"Sales\": 1340.762487}, {\"WeekDate\": \"2019-04-27T00:00:00\", \"Influencer\": \"Nano\", \"TV\": 337, \"Radio\": 120.1328618, \"Social Media\": 18.64907779, \"Sales\": 1200.231736}, {\"WeekDate\": \"2019-04-05T00:00:00\", \"Influencer\": \"Macro\", \"TV\": 418, \"Radio\": 137.7812511, \"Social Media\": 26.40558267, \"Sales\": 1491.730971}, {\"WeekDate\": \"2019-04-05T00:00:00\", \"Influencer\": \"Mega\", \"TV\": 353, \"Radio\": 114.7632233, \"Social Media\": 26.70488839, \"Sales\": 1263.575942}, {\"WeekDate\": \"2019-04-05T00:00:00\", \"Influencer\": \"Micro\", \"TV\": 239, \"Radio\": 99.5061632, \"Social Media\": 21.06215453, \"Sales\": 848.3886857}, {\"WeekDate\": \"2019-04-05T00:00:00\", \"Influencer\": \"Nano\", \"TV\": 369, \"Radio\": 130.830257, \"Social Media\": 20.48105321, \"Sales\": 1296.354173}, {\"WeekDate\": \"2019-11-05T00:00:00\", \"Influencer\": \"Macro\", \"TV\": 302, \"Radio\": 75.02765281, \"Social Media\": 21.29097283, \"Sales\": 1064.960639}, {\"WeekDate\": \"2019-11-05T00:00:00\", \"Influencer\": \"Mega\", \"TV\": 404, \"Radio\": 146.1553421, \"Social Media\": 32.70018177, \"Sales\": 1437.081304}, {\"WeekDate\": \"2019-11-05T00:00:00\", \"Influencer\": \"Micro\", \"TV\": 336, \"Radio\": 117.2946918, \"Social Media\": 17.91169459, \"Sales\": 1186.763601}, {\"WeekDate\": \"2019-11-05T00:00:00\", \"Influencer\": \"Nano\", \"TV\": 416, \"Radio\": 129.4805106, \"Social Media\": 27.44932735, \"Sales\": 1484.239054}, {\"WeekDate\": \"2019-05-18T00:00:00\", \"Influencer\": \"Macro\", \"TV\": 465, \"Radio\": 154.5030955, \"Social Media\": 33.01290862, \"Sales\": 1647.170925}, {\"WeekDate\": \"2019-05-18T00:00:00\", \"Influencer\": \"Mega\", \"TV\": 538, \"Radio\": 213.556056, \"Social Media\": 37.67373641, \"Sales\": 1916.827122}, {\"WeekDate\": \"2019-05-18T00:00:00\", \"Influencer\": \"Micro\", \"TV\": 435, \"Radio\": 151.9405152, \"Social Media\": 23.29724214, \"Sales\": 1547.906433}, {\"WeekDate\": \"2019-05-18T00:00:00\", \"Influencer\": \"Nano\", \"TV\": 369, \"Radio\": 112.666905, \"Social Media\": 21.34502288, \"Sales\": 1315.666159}, {\"WeekDate\": \"2019-05-25T00:00:00\", \"Influencer\": \"Macro\", \"TV\": 475, \"Radio\": 141.9154698, \"Social Media\": 26.78345811, \"Sales\": 1698.431513}, {\"WeekDate\": \"2019-05-25T00:00:00\", \"Influencer\": \"Mega\", \"TV\": 299, \"Radio\": 109.1170847, \"Social Media\": 20.2781546, \"Sales\": 1053.072563}, {\"WeekDate\": \"2019-05-25T00:00:00\", \"Influencer\": \"Micro\", \"TV\": 443, \"Radio\": 163.0666101, \"Social Media\": 27.78352338, \"Sales\": 1574.581672}, {\"WeekDate\": \"2019-05-25T00:00:00\", \"Influencer\": \"Nano\", \"TV\": 343, \"Radio\": 124.1957698, \"Social Media\": 21.57472116, \"Sales\": 1217.638907}, {\"WeekDate\": \"2019-01-06T00:00:00\", \"Influencer\": \"Macro\", \"TV\": 325, \"Radio\": 135.8062482, \"Social Media\": 22.23708735, \"Sales\": 1156.666144}, {\"WeekDate\": \"2019-01-06T00:00:00\", \"Influencer\": \"Mega\", \"TV\": 536, \"Radio\": 209.2017812, \"Social Media\": 42.79956097, \"Sales\": 1902.501228}, {\"WeekDate\": \"2019-01-06T00:00:00\", \"Influencer\": \"Micro\", \"TV\": 450, \"Radio\": 148.3671783, \"Social Media\": 22.61686701, \"Sales\": 1601.835797}, {\"WeekDate\": \"2019-01-06T00:00:00\", \"Influencer\": \"Nano\", \"TV\": 370, \"Radio\": 119.9313331, \"Social Media\": 20.76050529, \"Sales\": 1326.342729}, {\"WeekDate\": \"2019-08-06T00:00:00\", \"Influencer\": \"Macro\", \"TV\": 302, \"Radio\": 102.5981495, \"Social Media\": 19.72372663, \"Sales\": 1071.669206}, {\"WeekDate\": \"2019-08-06T00:00:00\", \"Influencer\": \"Mega\", \"TV\": 453, \"Radio\": 152.0376697, \"Social Media\": 28.0738701, \"Sales\": 1606.311133}, {\"WeekDate\": \"2019-08-06T00:00:00\", \"Influencer\": \"Micro\", \"TV\": 350, \"Radio\": 134.3772448, \"Social Media\": 35.05307654, \"Sales\": 1241.127005}, {\"WeekDate\": \"2019-08-06T00:00:00\", \"Influencer\": \"Nano\", \"TV\": 382, \"Radio\": 113.1701274, \"Social Media\": 25.09804028, \"Sales\": 1358.155538}, {\"WeekDate\": \"2019-06-15T00:00:00\", \"Influencer\": \"Macro\", \"TV\": 383, \"Radio\": 114.5907763, \"Social Media\": 26.35405383, \"Sales\": 1355.756908}, {\"WeekDate\": \"2019-06-15T00:00:00\", \"Influencer\": \"Mega\", \"TV\": 412, \"Radio\": 135.8778636, \"Social Media\": 32.44484813, \"Sales\": 1471.360249}, {\"WeekDate\": \"2019-06-15T00:00:00\", \"Influencer\": \"Micro\", \"TV\": 394, \"Radio\": 144.9109468, \"Social Media\": 25.42577054, \"Sales\": 1409.063431}, {\"WeekDate\": \"2019-06-15T00:00:00\", \"Influencer\": \"Nano\", \"TV\": 217, \"Radio\": 74.77104887, \"Social Media\": 11.16550316, \"Sales\": 779.7223266}, {\"WeekDate\": \"2019-06-22T00:00:00\", \"Influencer\": \"Macro\", \"TV\": 311, \"Radio\": 107.5849511, \"Social Media\": 16.23699532, \"Sales\": 1117.03895}, {\"WeekDate\": \"2019-06-22T00:00:00\", \"Influencer\": \"Mega\", \"TV\": 378, \"Radio\": 118.2348156, \"Social Media\": 14.71890704, \"Sales\": 1335.989578}, {\"WeekDate\": \"2019-06-22T00:00:00\", \"Influencer\": \"Micro\", \"TV\": 352, \"Radio\": 116.5220571, \"Social Media\": 30.58162111, \"Sales\": 1257.478118}, {\"WeekDate\": \"2019-06-22T00:00:00\", \"Influencer\": \"Nano\", \"TV\": 387, \"Radio\": 143.3299543, \"Social Media\": 24.61593172, \"Sales\": 1372.826333}, {\"WeekDate\": \"2019-06-29T00:00:00\", \"Influencer\": \"Macro\", \"TV\": 292, \"Radio\": 98.10329227, \"Social Media\": 13.64467411, \"Sales\": 1033.984768}, {\"WeekDate\": \"2019-06-29T00:00:00\", \"Influencer\": \"Mega\", \"TV\": 281, \"Radio\": 100.8467854, \"Social Media\": 22.28945569, \"Sales\": 1012.194985}, {\"WeekDate\": \"2019-06-29T00:00:00\", \"Influencer\": \"Micro\", \"TV\": 315, \"Radio\": 116.7008424, \"Social Media\": 15.53419763, \"Sales\": 1127.847509}, {\"WeekDate\": \"2019-06-29T00:00:00\", \"Influencer\": \"Nano\", \"TV\": 456, \"Radio\": 163.5601691, \"Social Media\": 22.56632861, \"Sales\": 1624.008455}, {\"WeekDate\": \"2019-06-07T00:00:00\", \"Influencer\": \"Macro\", \"TV\": 404, \"Radio\": 124.6036611, \"Social Media\": 22.16537737, \"Sales\": 1431.646608}, {\"WeekDate\": \"2019-06-07T00:00:00\", \"Influencer\": \"Mega\", \"TV\": 406, \"Radio\": 117.5821201, \"Social Media\": 30.3967311, \"Sales\": 1436.218726}, {\"WeekDate\": \"2019-06-07T00:00:00\", \"Influencer\": \"Micro\", \"TV\": 212, \"Radio\": 67.73397896, \"Social Media\": 15.38550182, \"Sales\": 749.079033}, {\"WeekDate\": \"2019-06-07T00:00:00\", \"Influencer\": \"Nano\", \"TV\": 374, \"Radio\": 117.9442399, \"Social Media\": 24.04258237, \"Sales\": 1336.451245}, {\"WeekDate\": \"2019-07-13T00:00:00\", \"Influencer\": \"Macro\", \"TV\": 337, \"Radio\": 107.2395291, \"Social Media\": 15.15114434, \"Sales\": 1210.8276}, {\"WeekDate\": \"2019-07-13T00:00:00\", \"Influencer\": \"Mega\", \"TV\": 430, \"Radio\": 149.9768868, \"Social Media\": 26.85910562, \"Sales\": 1534.993964}, {\"WeekDate\": \"2019-07-13T00:00:00\", \"Influencer\": \"Micro\", \"TV\": 345, \"Radio\": 127.8188543, \"Social Media\": 25.08029218, \"Sales\": 1222.817092}, {\"WeekDate\": \"2019-07-13T00:00:00\", \"Influencer\": \"Nano\", \"TV\": 420, \"Radio\": 150.9383973, \"Social Media\": 30.55433444, \"Sales\": 1501.570248}, {\"WeekDate\": \"2019-07-20T00:00:00\", \"Influencer\": \"Macro\", \"TV\": 445, \"Radio\": 146.2173651, \"Social Media\": 37.66927759, \"Sales\": 1587.278951}, {\"WeekDate\": \"2019-07-20T00:00:00\", \"Influencer\": \"Mega\", \"TV\": 419, \"Radio\": 143.7253357, \"Social Media\": 30.71385308, \"Sales\": 1494.771653}, {\"WeekDate\": \"2019-07-20T00:00:00\", \"Influencer\": \"Micro\", \"TV\": 309, \"Radio\": 92.14753969, \"Social Media\": 19.68867509, \"Sales\": 1112.527039}, {\"WeekDate\": \"2019-07-20T00:00:00\", \"Influencer\": \"Nano\", \"TV\": 470, \"Radio\": 158.0246134, \"Social Media\": 27.5689625, \"Sales\": 1673.418909}, {\"WeekDate\": \"2019-07-27T00:00:00\", \"Influencer\": \"Macro\", \"TV\": 467, \"Radio\": 147.9220719, \"Social Media\": 20.63204999, \"Sales\": 1670.867534}, {\"WeekDate\": \"2019-07-27T00:00:00\", \"Influencer\": \"Mega\", \"TV\": 429, \"Radio\": 141.6966596, \"Social Media\": 26.08107452, \"Sales\": 1518.596208}, {\"WeekDate\": \"2019-07-27T00:00:00\", \"Influencer\": \"Micro\", \"TV\": 433, \"Radio\": 149.4534437, \"Social Media\": 26.85354321, \"Sales\": 1538.254095}, {\"WeekDate\": \"2019-07-27T00:00:00\", \"Influencer\": \"Nano\", \"TV\": 351, \"Radio\": 124.7192849, \"Social Media\": 30.47604786, \"Sales\": 1253.686203}, {\"WeekDate\": \"2019-03-08T00:00:00\", \"Influencer\": \"Macro\", \"TV\": 328, \"Radio\": 106.4595561, \"Social Media\": 26.12411839, \"Sales\": 1170.61422}, {\"WeekDate\": \"2019-03-08T00:00:00\", \"Influencer\": \"Mega\", \"TV\": 296, \"Radio\": 97.44274725, \"Social Media\": 14.10384072, \"Sales\": 1063.460987}, {\"WeekDate\": \"2019-03-08T00:00:00\", \"Influencer\": \"Micro\", \"TV\": 575, \"Radio\": 203.6466506, \"Social Media\": 29.70435458, \"Sales\": 2052.839404}, {\"WeekDate\": \"2019-03-08T00:00:00\", \"Influencer\": \"Nano\", \"TV\": 320, \"Radio\": 112.7357809, \"Social Media\": 28.04080566, \"Sales\": 1140.401857}, {\"WeekDate\": \"2019-10-08T00:00:00\", \"Influencer\": \"Macro\", \"TV\": 469, \"Radio\": 150.6349581, \"Social Media\": 28.44228352, \"Sales\": 1674.396455}, {\"WeekDate\": \"2019-10-08T00:00:00\", \"Influencer\": \"Mega\", \"TV\": 450, \"Radio\": 126.6055151, \"Social Media\": 20.37327239, \"Sales\": 1603.566344}, {\"WeekDate\": \"2019-10-08T00:00:00\", \"Influencer\": \"Micro\", \"TV\": 338, \"Radio\": 122.200029, \"Social Media\": 26.78989284, \"Sales\": 1200.730286}, {\"WeekDate\": \"2019-10-08T00:00:00\", \"Influencer\": \"Nano\", \"TV\": 463, \"Radio\": 141.0753885, \"Social Media\": 18.30448591, \"Sales\": 1657.377736}, {\"WeekDate\": \"2019-08-17T00:00:00\", \"Influencer\": \"Macro\", \"TV\": 383, \"Radio\": 130.512439, \"Social Media\": 24.43461545, \"Sales\": 1358.542859}, {\"WeekDate\": \"2019-08-17T00:00:00\", \"Influencer\": \"Mega\", \"TV\": 364, \"Radio\": 124.166035, \"Social Media\": 22.09117832, \"Sales\": 1273.632054}, {\"WeekDate\": \"2019-08-17T00:00:00\", \"Influencer\": \"Micro\", \"TV\": 320, \"Radio\": 113.631058, \"Social Media\": 19.48909179, \"Sales\": 1137.12903}, {\"WeekDate\": \"2019-08-17T00:00:00\", \"Influencer\": \"Nano\", \"TV\": 295, \"Radio\": 92.63559261, \"Social Media\": 9.758487568, \"Sales\": 1050.115844}, {\"WeekDate\": \"2019-08-24T00:00:00\", \"Influencer\": \"Macro\", \"TV\": 349, \"Radio\": 111.8731599, \"Social Media\": 20.77435024, \"Sales\": 1227.042094}, {\"WeekDate\": \"2019-08-24T00:00:00\", \"Influencer\": \"Mega\", \"TV\": 364, \"Radio\": 121.155904, \"Social Media\": 23.34834871, \"Sales\": 1294.366797}, {\"WeekDate\": \"2019-08-24T00:00:00\", \"Influencer\": \"Micro\", \"TV\": 314, \"Radio\": 100.7141078, \"Social Media\": 25.72188711, \"Sales\": 1119.93221}, {\"WeekDate\": \"2019-08-24T00:00:00\", \"Influencer\": \"Nano\", \"TV\": 403, \"Radio\": 150.392447, \"Social Media\": 29.85697131, \"Sales\": 1438.831698}, {\"WeekDate\": \"2019-08-31T00:00:00\", \"Influencer\": \"Macro\", \"TV\": 388, \"Radio\": 148.8901594, \"Social Media\": 30.56212077, \"Sales\": 1391.284778}, {\"WeekDate\": \"2019-08-31T00:00:00\", \"Influencer\": \"Mega\", \"TV\": 379, \"Radio\": 114.7067988, \"Social Media\": 29.51367383, \"Sales\": 1347.478712}, {\"WeekDate\": \"2019-08-31T00:00:00\", \"Influencer\": \"Micro\", \"TV\": 421, \"Radio\": 153.5270603, \"Social Media\": 23.02644252, \"Sales\": 1490.404198}, {\"WeekDate\": \"2019-08-31T00:00:00\", \"Influencer\": \"Nano\", \"TV\": 480, \"Radio\": 168.3380718, \"Social Media\": 27.77340683, \"Sales\": 1715.778269}, {\"WeekDate\": \"2019-07-09T00:00:00\", \"Influencer\": \"Macro\", \"TV\": 448, \"Radio\": 157.2325447, \"Social Media\": 28.79863417, \"Sales\": 1601.179365}, {\"WeekDate\": \"2019-07-09T00:00:00\", \"Influencer\": \"Mega\", \"TV\": 400, \"Radio\": 135.1902501, \"Social Media\": 15.33914335, \"Sales\": 1421.306867}, {\"WeekDate\": \"2019-07-09T00:00:00\", \"Influencer\": \"Micro\", \"TV\": 354, \"Radio\": 114.689195, \"Social Media\": 18.4529517, \"Sales\": 1270.033922}, {\"WeekDate\": \"2019-07-09T00:00:00\", \"Influencer\": \"Nano\", \"TV\": 320, \"Radio\": 105.0660032, \"Social Media\": 17.38623756, \"Sales\": 1134.445506}, {\"WeekDate\": \"2019-09-14T00:00:00\", \"Influencer\": \"Macro\", \"TV\": 296, \"Radio\": 101.6449308, \"Social Media\": 24.68968254, \"Sales\": 1042.903058}, {\"WeekDate\": \"2019-09-14T00:00:00\", \"Influencer\": \"Mega\", \"TV\": 400, \"Radio\": 163.0342314, \"Social Media\": 32.33052556, \"Sales\": 1434.784612}, {\"WeekDate\": \"2019-09-14T00:00:00\", \"Influencer\": \"Micro\", \"TV\": 435, \"Radio\": 145.2410992, \"Social Media\": 18.94480015, \"Sales\": 1550.19596}, {\"WeekDate\": \"2019-09-14T00:00:00\", \"Influencer\": \"Nano\", \"TV\": 269, \"Radio\": 97.04203833, \"Social Media\": 18.49614258, \"Sales\": 952.1164619}, {\"WeekDate\": \"2019-09-21T00:00:00\", \"Influencer\": \"Macro\", \"TV\": 513, \"Radio\": 164.614768, \"Social Media\": 30.36012981, \"Sales\": 1838.544161}, {\"WeekDate\": \"2019-09-21T00:00:00\", \"Influencer\": \"Mega\", \"TV\": 480, \"Radio\": 172.1626102, \"Social Media\": 34.85653682, \"Sales\": 1712.343672}, {\"WeekDate\": \"2019-09-21T00:00:00\", \"Influencer\": \"Micro\", \"TV\": 357, \"Radio\": 119.7600918, \"Social Media\": 19.48408973, \"Sales\": 1260.283946}, {\"WeekDate\": \"2019-09-21T00:00:00\", \"Influencer\": \"Nano\", \"TV\": 306, \"Radio\": 110.8132567, \"Social Media\": 21.08806791, \"Sales\": 1084.040508}, {\"WeekDate\": \"2019-09-28T00:00:00\", \"Influencer\": \"Macro\", \"TV\": 252, \"Radio\": 77.42011559, \"Social Media\": 11.13535129, \"Sales\": 908.4358433}, {\"WeekDate\": \"2019-09-28T00:00:00\", \"Influencer\": \"Mega\", \"TV\": 390, \"Radio\": 138.738405, \"Social Media\": 29.09973627, \"Sales\": 1387.767088}, {\"WeekDate\": \"2019-09-28T00:00:00\", \"Influencer\": \"Micro\", \"TV\": 408, \"Radio\": 130.1349798, \"Social Media\": 25.81204981, \"Sales\": 1446.775435}, {\"WeekDate\": \"2019-09-28T00:00:00\", \"Influencer\": \"Nano\", \"TV\": 451, \"Radio\": 153.6709345, \"Social Media\": 24.63982756, \"Sales\": 1620.610392}, {\"WeekDate\": \"2019-05-10T00:00:00\", \"Influencer\": \"Macro\", \"TV\": 370, \"Radio\": 134.3939031, \"Social Media\": 21.3785569, \"Sales\": 1320.769576}, {\"WeekDate\": \"2019-05-10T00:00:00\", \"Influencer\": \"Mega\", \"TV\": 247, \"Radio\": 75.52064405, \"Social Media\": 18.86047819, \"Sales\": 877.6615036}, {\"WeekDate\": \"2019-05-10T00:00:00\", \"Influencer\": \"Micro\", \"TV\": 351, \"Radio\": 131.6839014, \"Social Media\": 22.79245103, \"Sales\": 1239.946736}, {\"WeekDate\": \"2019-05-10T00:00:00\", \"Influencer\": \"Nano\", \"TV\": 333, \"Radio\": 119.4831662, \"Social Media\": 21.40268093, \"Sales\": 1182.025977}, {\"WeekDate\": \"2019-12-10T00:00:00\", \"Influencer\": \"Macro\", \"TV\": 392, \"Radio\": 121.1105507, \"Social Media\": 15.3478487, \"Sales\": 1398.519511}, {\"WeekDate\": \"2019-12-10T00:00:00\", \"Influencer\": \"Mega\", \"TV\": 384, \"Radio\": 115.6965044, \"Social Media\": 21.74352008, \"Sales\": 1366.731782}, {\"WeekDate\": \"2019-12-10T00:00:00\", \"Influencer\": \"Micro\", \"TV\": 340, \"Radio\": 109.2198215, \"Social Media\": 19.35121179, \"Sales\": 1209.758603}, {\"WeekDate\": \"2019-12-10T00:00:00\", \"Influencer\": \"Nano\", \"TV\": 393, \"Radio\": 140.7145277, \"Social Media\": 23.78150444, \"Sales\": 1406.690887}, {\"WeekDate\": \"2019-10-19T00:00:00\", \"Influencer\": \"Macro\", \"TV\": 473, \"Radio\": 158.9595697, \"Social Media\": 33.03678146, \"Sales\": 1691.302495}, {\"WeekDate\": \"2019-10-19T00:00:00\", \"Influencer\": \"Mega\", \"TV\": 351, \"Radio\": 116.7657469, \"Social Media\": 21.6989664, \"Sales\": 1253.841796}, {\"WeekDate\": \"2019-10-19T00:00:00\", \"Influencer\": \"Micro\", \"TV\": 323, \"Radio\": 111.2920373, \"Social Media\": 12.72546998, \"Sales\": 1146.942829}, {\"WeekDate\": \"2019-10-19T00:00:00\", \"Influencer\": \"Nano\", \"TV\": 397, \"Radio\": 130.1923514, \"Social Media\": 23.05162135, \"Sales\": 1426.691068}, {\"WeekDate\": \"2019-10-26T00:00:00\", \"Influencer\": \"Macro\", \"TV\": 425, \"Radio\": 139.4633237, \"Social Media\": 24.49789063, \"Sales\": 1509.599508}, {\"WeekDate\": \"2019-10-26T00:00:00\", \"Influencer\": \"Mega\", \"TV\": 415, \"Radio\": 146.3491002, \"Social Media\": 17.90004589, \"Sales\": 1470.190029}, {\"WeekDate\": \"2019-10-26T00:00:00\", \"Influencer\": \"Micro\", \"TV\": 245, \"Radio\": 74.10707987, \"Social Media\": 13.097764, \"Sales\": 859.9748635}, {\"WeekDate\": \"2019-10-26T00:00:00\", \"Influencer\": \"Nano\", \"TV\": 446, \"Radio\": 152.4207184, \"Social Media\": 23.92944811, \"Sales\": 1594.75213}, {\"WeekDate\": \"2019-02-11T00:00:00\", \"Influencer\": \"Macro\", \"TV\": 370, \"Radio\": 120.4092412, \"Social Media\": 21.54093963, \"Sales\": 1312.402417}, {\"WeekDate\": \"2019-02-11T00:00:00\", \"Influencer\": \"Mega\", \"TV\": 348, \"Radio\": 119.4851583, \"Social Media\": 24.31565077, \"Sales\": 1239.884619}, {\"WeekDate\": \"2019-02-11T00:00:00\", \"Influencer\": \"Micro\", \"TV\": 366, \"Radio\": 97.80593051, \"Social Media\": 16.18469967, \"Sales\": 1309.895493}, {\"WeekDate\": \"2019-02-11T00:00:00\", \"Influencer\": \"Nano\", \"TV\": 365, \"Radio\": 130.8143763, \"Social Media\": 16.00239426, \"Sales\": 1288.709611}, {\"WeekDate\": \"2019-09-11T00:00:00\", \"Influencer\": \"Macro\", \"TV\": 355, \"Radio\": 115.5580246, \"Social Media\": 21.81448164, \"Sales\": 1263.893688}, {\"WeekDate\": \"2019-09-11T00:00:00\", \"Influencer\": \"Mega\", \"TV\": 418, \"Radio\": 153.6727423, \"Social Media\": 17.12172878, \"Sales\": 1480.529864}, {\"WeekDate\": \"2019-09-11T00:00:00\", \"Influencer\": \"Micro\", \"TV\": 365, \"Radio\": 144.5796933, \"Social Media\": 16.54965254, \"Sales\": 1289.341518}, {\"WeekDate\": \"2019-09-11T00:00:00\", \"Influencer\": \"Nano\", \"TV\": 338, \"Radio\": 116.5953784, \"Social Media\": 18.61839543, \"Sales\": 1195.810908}, {\"WeekDate\": \"2019-11-16T00:00:00\", \"Influencer\": \"Macro\", \"TV\": 454, \"Radio\": 159.1006839, \"Social Media\": 21.62250534, \"Sales\": 1604.991397}, {\"WeekDate\": \"2019-11-16T00:00:00\", \"Influencer\": \"Mega\", \"TV\": 408, \"Radio\": 154.4274418, \"Social Media\": 22.44117944, \"Sales\": 1453.533199}, {\"WeekDate\": \"2019-11-16T00:00:00\", \"Influencer\": \"Micro\", \"TV\": 415, \"Radio\": 127.8194465, \"Social Media\": 27.505984, \"Sales\": 1466.932867}, {\"WeekDate\": \"2019-11-16T00:00:00\", \"Influencer\": \"Nano\", \"TV\": 399, \"Radio\": 111.0222588, \"Social Media\": 28.50902159, \"Sales\": 1420.639608}, {\"WeekDate\": \"2019-11-23T00:00:00\", \"Influencer\": \"Macro\", \"TV\": 277, \"Radio\": 106.7641945, \"Social Media\": 20.07645283, \"Sales\": 985.8775542}, {\"WeekDate\": \"2019-11-23T00:00:00\", \"Influencer\": \"Mega\", \"TV\": 369, \"Radio\": 117.0539057, \"Social Media\": 26.30907211, \"Sales\": 1322.841142}, {\"WeekDate\": \"2019-11-23T00:00:00\", \"Influencer\": \"Micro\", \"TV\": 324, \"Radio\": 110.4334316, \"Social Media\": 16.39615243, \"Sales\": 1152.071365}, {\"WeekDate\": \"2019-11-23T00:00:00\", \"Influencer\": \"Nano\", \"TV\": 345, \"Radio\": 103.4314711, \"Social Media\": 16.87113984, \"Sales\": 1220.853932}, {\"WeekDate\": \"2019-11-30T00:00:00\", \"Influencer\": \"Macro\", \"TV\": 448, \"Radio\": 143.4830253, \"Social Media\": 35.52664259, \"Sales\": 1603.637991}, {\"WeekDate\": \"2019-11-30T00:00:00\", \"Influencer\": \"Mega\", \"TV\": 257, \"Radio\": 93.75005961, \"Social Media\": 27.34763152, \"Sales\": 918.1423875}, {\"WeekDate\": \"2019-11-30T00:00:00\", \"Influencer\": \"Micro\", \"TV\": 408, \"Radio\": 137.1864104, \"Social Media\": 29.01247533, \"Sales\": 1457.57336}, {\"WeekDate\": \"2019-11-30T00:00:00\", \"Influencer\": \"Nano\", \"TV\": 463, \"Radio\": 160.6685895, \"Social Media\": 28.38685352, \"Sales\": 1639.67716}, {\"WeekDate\": \"2019-07-12T00:00:00\", \"Influencer\": \"Macro\", \"TV\": 395, \"Radio\": 125.0473321, \"Social Media\": 12.63085142, \"Sales\": 1406.155093}, {\"WeekDate\": \"2019-07-12T00:00:00\", \"Influencer\": \"Mega\", \"TV\": 327, \"Radio\": 114.993831, \"Social Media\": 16.2664609, \"Sales\": 1164.441359}, {\"WeekDate\": \"2019-07-12T00:00:00\", \"Influencer\": \"Micro\", \"TV\": 487, \"Radio\": 145.1079669, \"Social Media\": 27.60771191, \"Sales\": 1740.307217}, {\"WeekDate\": \"2019-07-12T00:00:00\", \"Influencer\": \"Nano\", \"TV\": 332, \"Radio\": 106.8776653, \"Social Media\": 17.04147773, \"Sales\": 1188.777515}, {\"WeekDate\": \"2019-12-14T00:00:00\", \"Influencer\": \"Macro\", \"TV\": 442, \"Radio\": 145.8253174, \"Social Media\": 28.70195195, \"Sales\": 1578.734806}, {\"WeekDate\": \"2019-12-14T00:00:00\", \"Influencer\": \"Mega\", \"TV\": 435, \"Radio\": 157.4424753, \"Social Media\": 29.80984653, \"Sales\": 1554.909872}, {\"WeekDate\": \"2019-12-14T00:00:00\", \"Influencer\": \"Micro\", \"TV\": 439, \"Radio\": 150.4749452, \"Social Media\": 23.60764384, \"Sales\": 1562.855362}, {\"WeekDate\": \"2019-12-14T00:00:00\", \"Influencer\": \"Nano\", \"TV\": 434, \"Radio\": 136.0749564, \"Social Media\": 24.80215444, \"Sales\": 1536.399179}, {\"WeekDate\": \"2019-12-21T00:00:00\", \"Influencer\": \"Macro\", \"TV\": 450, \"Radio\": 149.8612078, \"Social Media\": 28.04073199, \"Sales\": 1621.511685}, {\"WeekDate\": \"2019-12-21T00:00:00\", \"Influencer\": \"Mega\", \"TV\": 397, \"Radio\": 114.0408136, \"Social Media\": 17.62996425, \"Sales\": 1407.619218}, {\"WeekDate\": \"2019-12-21T00:00:00\", \"Influencer\": \"Micro\", \"TV\": 367, \"Radio\": 132.8746027, \"Social Media\": 19.19790377, \"Sales\": 1304.114866}, {\"WeekDate\": \"2019-12-21T00:00:00\", \"Influencer\": \"Nano\", \"TV\": 314, \"Radio\": 130.76054, \"Social Media\": 20.33381306, \"Sales\": 1114.384048}, {\"WeekDate\": \"2019-12-28T00:00:00\", \"Influencer\": \"Macro\", \"TV\": 407, \"Radio\": 120.9382067, \"Social Media\": 24.94822303, \"Sales\": 1451.278544}, {\"WeekDate\": \"2019-12-28T00:00:00\", \"Influencer\": \"Mega\", \"TV\": 340, \"Radio\": 103.3118531, \"Social Media\": 18.55054018, \"Sales\": 1203.128912}, {\"WeekDate\": \"2019-12-28T00:00:00\", \"Influencer\": \"Micro\", \"TV\": 328, \"Radio\": 122.7555791, \"Social Media\": 22.20773864, \"Sales\": 1167.759705}, {\"WeekDate\": \"2019-12-28T00:00:00\", \"Influencer\": \"Nano\", \"TV\": 470, \"Radio\": 141.5062132, \"Social Media\": 12.84918757, \"Sales\": 1669.992475}, {\"WeekDate\": \"2020-04-01T00:00:00\", \"Influencer\": \"Macro\", \"TV\": 425, \"Radio\": 128.7152955, \"Social Media\": 17.92368534, \"Sales\": 1517.118316}, {\"WeekDate\": \"2020-04-01T00:00:00\", \"Influencer\": \"Mega\", \"TV\": 386, \"Radio\": 126.5147217, \"Social Media\": 24.20900847, \"Sales\": 1378.664836}, {\"WeekDate\": \"2020-04-01T00:00:00\", \"Influencer\": \"Micro\", \"TV\": 421, \"Radio\": 141.0864715, \"Social Media\": 36.18200695, \"Sales\": 1507.377264}, {\"WeekDate\": \"2020-04-01T00:00:00\", \"Influencer\": \"Nano\", \"TV\": 330, \"Radio\": 116.9827551, \"Social Media\": 27.05793282, \"Sales\": 1175.70874}, {\"WeekDate\": \"2020-11-01T00:00:00\", \"Influencer\": \"Macro\", \"TV\": 471, \"Radio\": 146.2730089, \"Social Media\": 25.5527485, \"Sales\": 1678.817172}, {\"WeekDate\": \"2020-11-01T00:00:00\", \"Influencer\": \"Mega\", \"TV\": 213, \"Radio\": 68.25255398, \"Social Media\": 11.90963633, \"Sales\": 773.2664095}, {\"WeekDate\": \"2020-11-01T00:00:00\", \"Influencer\": \"Micro\", \"TV\": 250, \"Radio\": 72.37552223, \"Social Media\": 18.07315885, \"Sales\": 890.2709454}, {\"WeekDate\": \"2020-11-01T00:00:00\", \"Influencer\": \"Nano\", \"TV\": 412, \"Radio\": 147.4801049, \"Social Media\": 25.61607596, \"Sales\": 1469.221986}, {\"WeekDate\": \"2020-01-18T00:00:00\", \"Influencer\": \"Macro\", \"TV\": 419, \"Radio\": 146.6904385, \"Social Media\": 20.67044178, \"Sales\": 1493.793731}, {\"WeekDate\": \"2020-01-18T00:00:00\", \"Influencer\": \"Mega\", \"TV\": 365, \"Radio\": 107.9065446, \"Social Media\": 16.32690111, \"Sales\": 1300.573321}, {\"WeekDate\": \"2020-01-18T00:00:00\", \"Influencer\": \"Micro\", \"TV\": 434, \"Radio\": 149.086374, \"Social Media\": 27.12029821, \"Sales\": 1542.463303}, {\"WeekDate\": \"2020-01-18T00:00:00\", \"Influencer\": \"Nano\", \"TV\": 300, \"Radio\": 100.7371915, \"Social Media\": 13.65159924, \"Sales\": 1073.817095}, {\"WeekDate\": \"2020-01-25T00:00:00\", \"Influencer\": \"Macro\", \"TV\": 358, \"Radio\": 122.675249, \"Social Media\": 20.41814881, \"Sales\": 1273.767844}, {\"WeekDate\": \"2020-01-25T00:00:00\", \"Influencer\": \"Mega\", \"TV\": 276, \"Radio\": 99.6091728, \"Social Media\": 18.07460504, \"Sales\": 972.5691591}, {\"WeekDate\": \"2020-01-25T00:00:00\", \"Influencer\": \"Micro\", \"TV\": 381, \"Radio\": 114.5904585, \"Social Media\": 18.69661623, \"Sales\": 1360.620201}, {\"WeekDate\": \"2020-01-25T00:00:00\", \"Influencer\": \"Nano\", \"TV\": 400, \"Radio\": 147.2314487, \"Social Media\": 29.45887641, \"Sales\": 1425.399818}, {\"WeekDate\": \"2020-01-02T00:00:00\", \"Influencer\": \"Macro\", \"TV\": 456, \"Radio\": 167.4860675, \"Social Media\": 35.07377213, \"Sales\": 1615.158922}, {\"WeekDate\": \"2020-01-02T00:00:00\", \"Influencer\": \"Mega\", \"TV\": 291, \"Radio\": 86.762552, \"Social Media\": 17.46589242, \"Sales\": 1032.859885}, {\"WeekDate\": \"2020-01-02T00:00:00\", \"Influencer\": \"Micro\", \"TV\": 432, \"Radio\": 150.8002317, \"Social Media\": 26.57930086, \"Sales\": 1536.122689}, {\"WeekDate\": \"2020-01-02T00:00:00\", \"Influencer\": \"Nano\", \"TV\": 480, \"Radio\": 164.9774118, \"Social Media\": 32.60266004, \"Sales\": 1702.044949}, {\"WeekDate\": \"2020-08-02T00:00:00\", \"Influencer\": \"Macro\", \"TV\": 359, \"Radio\": 146.0710057, \"Social Media\": 20.86010451, \"Sales\": 1260.613487}, {\"WeekDate\": \"2020-08-02T00:00:00\", \"Influencer\": \"Mega\", \"TV\": 382, \"Radio\": 117.3353329, \"Social Media\": 16.1349961, \"Sales\": 1361.452054}, {\"WeekDate\": \"2020-08-02T00:00:00\", \"Influencer\": \"Micro\", \"TV\": 401, \"Radio\": 160.2313555, \"Social Media\": 30.7826965, \"Sales\": 1429.113951}, {\"WeekDate\": \"2020-08-02T00:00:00\", \"Influencer\": \"Nano\", \"TV\": 419, \"Radio\": 123.1602763, \"Social Media\": 24.69179322, \"Sales\": 1499.911477}, {\"WeekDate\": \"2020-02-15T00:00:00\", \"Influencer\": \"Macro\", \"TV\": 414, \"Radio\": 138.9869123, \"Social Media\": 26.39140428, \"Sales\": 1489.804326}, {\"WeekDate\": \"2020-02-15T00:00:00\", \"Influencer\": \"Mega\", \"TV\": 439, \"Radio\": 151.1125455, \"Social Media\": 15.12334235, \"Sales\": 1566.06401}, {\"WeekDate\": \"2020-02-15T00:00:00\", \"Influencer\": \"Micro\", \"TV\": 344, \"Radio\": 116.0151422, \"Social Media\": 21.49666037, \"Sales\": 1231.24146}, {\"WeekDate\": \"2020-02-15T00:00:00\", \"Influencer\": \"Nano\", \"TV\": 358, \"Radio\": 114.7671911, \"Social Media\": 17.50349359, \"Sales\": 1270.561861}, {\"WeekDate\": \"2020-02-22T00:00:00\", \"Influencer\": \"Macro\", \"TV\": 323, \"Radio\": 65.65193923, \"Social Media\": 10.34786442, \"Sales\": 1146.55981}, {\"WeekDate\": \"2020-02-22T00:00:00\", \"Influencer\": \"Mega\", \"TV\": 397, \"Radio\": 135.3945388, \"Social Media\": 20.90501268, \"Sales\": 1421.30557}, {\"WeekDate\": \"2020-02-22T00:00:00\", \"Influencer\": \"Micro\", \"TV\": 367, \"Radio\": 128.8951319, \"Social Media\": 29.27052347, \"Sales\": 1307.523507}, {\"WeekDate\": \"2020-02-22T00:00:00\", \"Influencer\": \"Nano\", \"TV\": 495, \"Radio\": 163.8762596, \"Social Media\": 24.62407506, \"Sales\": 1754.093045}, {\"WeekDate\": \"2020-02-29T00:00:00\", \"Influencer\": \"Macro\", \"TV\": 207, \"Radio\": 69.31127436, \"Social Media\": 10.00000644, \"Sales\": 744.6865058}, {\"WeekDate\": \"2020-02-29T00:00:00\", \"Influencer\": \"Mega\", \"TV\": 309, \"Radio\": 101.1014147, \"Social Media\": 20.43745187, \"Sales\": 1111.79488}, {\"WeekDate\": \"2020-02-29T00:00:00\", \"Influencer\": \"Micro\", \"TV\": 356, \"Radio\": 111.8081706, \"Social Media\": 26.1762919, \"Sales\": 1252.549557}, {\"WeekDate\": \"2020-02-29T00:00:00\", \"Influencer\": \"Nano\", \"TV\": 443, \"Radio\": 154.1698689, \"Social Media\": 36.02682702, \"Sales\": 1569.158076}, {\"WeekDate\": \"2020-07-03T00:00:00\", \"Influencer\": \"Macro\", \"TV\": 412, \"Radio\": 140.670292, \"Social Media\": 17.56088347, \"Sales\": 1478.439329}, {\"WeekDate\": \"2020-07-03T00:00:00\", \"Influencer\": \"Mega\", \"TV\": 445, \"Radio\": 172.9371719, \"Social Media\": 22.89236014, \"Sales\": 1575.857339}, {\"WeekDate\": \"2020-07-03T00:00:00\", \"Influencer\": \"Micro\", \"TV\": 447, \"Radio\": 151.6365891, \"Social Media\": 25.70949847, \"Sales\": 1589.799804}, {\"WeekDate\": \"2020-07-03T00:00:00\", \"Influencer\": \"Nano\", \"TV\": 345, \"Radio\": 136.0371165, \"Social Media\": 28.8340448, \"Sales\": 1212.076916}, {\"WeekDate\": \"2020-03-14T00:00:00\", \"Influencer\": \"Macro\", \"TV\": 343, \"Radio\": 101.9345799, \"Social Media\": 15.76456536, \"Sales\": 1228.809235}, {\"WeekDate\": \"2020-03-14T00:00:00\", \"Influencer\": \"Mega\", \"TV\": 224, \"Radio\": 83.77558789, \"Social Media\": 21.14038384, \"Sales\": 802.5892644}, {\"WeekDate\": \"2020-03-14T00:00:00\", \"Influencer\": \"Micro\", \"TV\": 370, \"Radio\": 125.4065477, \"Social Media\": 27.39948673, \"Sales\": 1314.828914}, {\"WeekDate\": \"2020-03-14T00:00:00\", \"Influencer\": \"Nano\", \"TV\": 389, \"Radio\": 147.6635844, \"Social Media\": 19.16616687, \"Sales\": 1394.611158}, {\"WeekDate\": \"2020-03-21T00:00:00\", \"Influencer\": \"Macro\", \"TV\": 352, \"Radio\": 127.9364492, \"Social Media\": 25.32186652, \"Sales\": 1255.813425}, {\"WeekDate\": \"2020-03-21T00:00:00\", \"Influencer\": \"Mega\", \"TV\": 327, \"Radio\": 105.9490622, \"Social Media\": 17.11827008, \"Sales\": 1158.902901}, {\"WeekDate\": \"2020-03-21T00:00:00\", \"Influencer\": \"Micro\", \"TV\": 360, \"Radio\": 127.7227312, \"Social Media\": 25.93935598, \"Sales\": 1275.382318}, {\"WeekDate\": \"2020-03-21T00:00:00\", \"Influencer\": \"Nano\", \"TV\": 366, \"Radio\": 124.5328311, \"Social Media\": 19.32408266, \"Sales\": 1298.281807}, {\"WeekDate\": \"2020-03-28T00:00:00\", \"Influencer\": \"Macro\", \"TV\": 471, \"Radio\": 145.6028314, \"Social Media\": 19.06268709, \"Sales\": 1678.513552}, {\"WeekDate\": \"2020-03-28T00:00:00\", \"Influencer\": \"Mega\", \"TV\": 400, \"Radio\": 149.3700504, \"Social Media\": 31.42156564, \"Sales\": 1427.354951}, {\"WeekDate\": \"2020-03-28T00:00:00\", \"Influencer\": \"Micro\", \"TV\": 413, \"Radio\": 136.4664579, \"Social Media\": 19.020936, \"Sales\": 1481.259017}, {\"WeekDate\": \"2020-03-28T00:00:00\", \"Influencer\": \"Nano\", \"TV\": 286, \"Radio\": 89.01157043, \"Social Media\": 17.6925701, \"Sales\": 1014.327965}, {\"WeekDate\": \"2020-04-04T00:00:00\", \"Influencer\": \"Macro\", \"TV\": 342, \"Radio\": 146.578553, \"Social Media\": 31.68132434, \"Sales\": 1221.885608}, {\"WeekDate\": \"2020-04-04T00:00:00\", \"Influencer\": \"Mega\", \"TV\": 446, \"Radio\": 155.9127616, \"Social Media\": 25.40094396, \"Sales\": 1583.688338}, {\"WeekDate\": \"2020-04-04T00:00:00\", \"Influencer\": \"Micro\", \"TV\": 379, \"Radio\": 104.1050071, \"Social Media\": 14.43320884, \"Sales\": 1347.677072}, {\"WeekDate\": \"2020-04-04T00:00:00\", \"Influencer\": \"Nano\", \"TV\": 281, \"Radio\": 86.73680751, \"Social Media\": 12.46427851, \"Sales\": 1007.805421}, {\"WeekDate\": \"2020-11-04T00:00:00\", \"Influencer\": \"Macro\", \"TV\": 385, \"Radio\": 119.6639792, \"Social Media\": 27.20311888, \"Sales\": 1374.739369}, {\"WeekDate\": \"2020-11-04T00:00:00\", \"Influencer\": \"Mega\", \"TV\": 455, \"Radio\": 152.1667817, \"Social Media\": 26.74780436, \"Sales\": 1624.861466}, {\"WeekDate\": \"2020-11-04T00:00:00\", \"Influencer\": \"Micro\", \"TV\": 199, \"Radio\": 86.0839678, \"Social Media\": 14.66526583, \"Sales\": 709.0752108}, {\"WeekDate\": \"2020-11-04T00:00:00\", \"Influencer\": \"Nano\", \"TV\": 400, \"Radio\": 113.990293, \"Social Media\": 19.69278499, \"Sales\": 1424.650689}, {\"WeekDate\": \"2020-04-18T00:00:00\", \"Influencer\": \"Macro\", \"TV\": 409, \"Radio\": 146.9655151, \"Social Media\": 32.37369355, \"Sales\": 1456.445062}, {\"WeekDate\": \"2020-04-18T00:00:00\", \"Influencer\": \"Mega\", \"TV\": 380, \"Radio\": 134.884131, \"Social Media\": 18.3570957, \"Sales\": 1360.47784}, {\"WeekDate\": \"2020-04-18T00:00:00\", \"Influencer\": \"Micro\", \"TV\": 386, \"Radio\": 142.9035501, \"Social Media\": 27.90614053, \"Sales\": 1366.150527}, {\"WeekDate\": \"2020-04-18T00:00:00\", \"Influencer\": \"Nano\", \"TV\": 411, \"Radio\": 134.9497068, \"Social Media\": 25.17285398, \"Sales\": 1466.631903}, {\"WeekDate\": \"2020-04-25T00:00:00\", \"Influencer\": \"Macro\", \"TV\": 410, \"Radio\": 111.6487735, \"Social Media\": 21.44945087, \"Sales\": 1455.065511}, {\"WeekDate\": \"2020-04-25T00:00:00\", \"Influencer\": \"Mega\", \"TV\": 359, \"Radio\": 105.2072377, \"Social Media\": 25.41003222, \"Sales\": 1288.089606}, {\"WeekDate\": \"2020-04-25T00:00:00\", \"Influencer\": \"Micro\", \"TV\": 361, \"Radio\": 110.7980828, \"Social Media\": 24.81215626, \"Sales\": 1294.033102}, {\"WeekDate\": \"2020-04-25T00:00:00\", \"Influencer\": \"Nano\", \"TV\": 318, \"Radio\": 117.8825032, \"Social Media\": 23.3629933, \"Sales\": 1124.197387}, {\"WeekDate\": \"2020-02-05T00:00:00\", \"Influencer\": \"Macro\", \"TV\": 477, \"Radio\": 141.7001992, \"Social Media\": 24.45324419, \"Sales\": 1684.198877}, {\"WeekDate\": \"2020-02-05T00:00:00\", \"Influencer\": \"Mega\", \"TV\": 513, \"Radio\": 176.1377606, \"Social Media\": 30.10415878, \"Sales\": 1817.230969}, {\"WeekDate\": \"2020-02-05T00:00:00\", \"Influencer\": \"Micro\", \"TV\": 405, \"Radio\": 129.7540748, \"Social Media\": 25.70390674, \"Sales\": 1435.336333}, {\"WeekDate\": \"2020-02-05T00:00:00\", \"Influencer\": \"Nano\", \"TV\": 442, \"Radio\": 137.9822836, \"Social Media\": 33.1541082, \"Sales\": 1563.63027}, {\"WeekDate\": \"2020-09-05T00:00:00\", \"Influencer\": \"Macro\", \"TV\": 401, \"Radio\": 135.1504739, \"Social Media\": 19.70520639, \"Sales\": 1419.243631}, {\"WeekDate\": \"2020-09-05T00:00:00\", \"Influencer\": \"Mega\", \"TV\": 386, \"Radio\": 177.6079375, \"Social Media\": 22.4236796, \"Sales\": 1382.196127}, {\"WeekDate\": \"2020-09-05T00:00:00\", \"Influencer\": \"Micro\", \"TV\": 351, \"Radio\": 119.2123076, \"Social Media\": 20.39318941, \"Sales\": 1251.346337}, {\"WeekDate\": \"2020-09-05T00:00:00\", \"Influencer\": \"Nano\", \"TV\": 424, \"Radio\": 152.0509822, \"Social Media\": 16.57331034, \"Sales\": 1518.505496}, {\"WeekDate\": \"2020-05-16T00:00:00\", \"Influencer\": \"Macro\", \"TV\": 364, \"Radio\": 115.978268, \"Social Media\": 20.86727857, \"Sales\": 1301.5568}, {\"WeekDate\": \"2020-05-16T00:00:00\", \"Influencer\": \"Mega\", \"TV\": 411, \"Radio\": 119.5424776, \"Social Media\": 22.99284766, \"Sales\": 1468.77541}, {\"WeekDate\": \"2020-05-16T00:00:00\", \"Influencer\": \"Micro\", \"TV\": 353, \"Radio\": 95.80868248, \"Social Media\": 11.22759936, \"Sales\": 1252.466076}, {\"WeekDate\": \"2020-05-16T00:00:00\", \"Influencer\": \"Nano\", \"TV\": 327, \"Radio\": 118.0769909, \"Social Media\": 19.32519974, \"Sales\": 1166.653271}, {\"WeekDate\": \"2020-05-23T00:00:00\", \"Influencer\": \"Macro\", \"TV\": 345, \"Radio\": 106.5792162, \"Social Media\": 22.8757704, \"Sales\": 1225.782056}, {\"WeekDate\": \"2020-05-23T00:00:00\", \"Influencer\": \"Mega\", \"TV\": 377, \"Radio\": 130.1370165, \"Social Media\": 23.11620752, \"Sales\": 1352.628282}, {\"WeekDate\": \"2020-05-23T00:00:00\", \"Influencer\": \"Micro\", \"TV\": 285, \"Radio\": 117.9446571, \"Social Media\": 20.40326459, \"Sales\": 1019.987716}, {\"WeekDate\": \"2020-05-23T00:00:00\", \"Influencer\": \"Nano\", \"TV\": 460, \"Radio\": 128.8607163, \"Social Media\": 18.37299004, \"Sales\": 1642.209427}, {\"WeekDate\": \"2020-05-30T00:00:00\", \"Influencer\": \"Macro\", \"TV\": 328, \"Radio\": 118.244391, \"Social Media\": 17.8984698, \"Sales\": 1174.835125}, {\"WeekDate\": \"2020-05-30T00:00:00\", \"Influencer\": \"Mega\", \"TV\": 377, \"Radio\": 110.6841311, \"Social Media\": 19.77379846, \"Sales\": 1353.936309}, {\"WeekDate\": \"2020-05-30T00:00:00\", \"Influencer\": \"Micro\", \"TV\": 215, \"Radio\": 72.88030481, \"Social Media\": 4.740289765, \"Sales\": 756.773406}, {\"WeekDate\": \"2020-05-30T00:00:00\", \"Influencer\": \"Nano\", \"TV\": 333, \"Radio\": 101.3753439, \"Social Media\": 17.19693478, \"Sales\": 1196.553891}, {\"WeekDate\": \"2020-06-06T00:00:00\", \"Influencer\": \"Macro\", \"TV\": 291, \"Radio\": 98.30314059, \"Social Media\": 15.6338085, \"Sales\": 1030.73728}, {\"WeekDate\": \"2020-06-06T00:00:00\", \"Influencer\": \"Mega\", \"TV\": 435, \"Radio\": 132.8783424, \"Social Media\": 31.1862159, \"Sales\": 1550.066211}, {\"WeekDate\": \"2020-06-06T00:00:00\", \"Influencer\": \"Micro\", \"TV\": 210, \"Radio\": 62.33352278, \"Social Media\": 15.15021568, \"Sales\": 727.605887}, {\"WeekDate\": \"2020-06-06T00:00:00\", \"Influencer\": \"Nano\", \"TV\": 274, \"Radio\": 84.91999459, \"Social Media\": 25.23816438, \"Sales\": 997.6759137}, {\"WeekDate\": \"2020-06-13T00:00:00\", \"Influencer\": \"Macro\", \"TV\": 437, \"Radio\": 141.3283487, \"Social Media\": 22.5406884, \"Sales\": 1560.811832}, {\"WeekDate\": \"2020-06-13T00:00:00\", \"Influencer\": \"Mega\", \"TV\": 392, \"Radio\": 123.2025729, \"Social Media\": 26.45998537, \"Sales\": 1394.821813}, {\"WeekDate\": \"2020-06-13T00:00:00\", \"Influencer\": \"Micro\", \"TV\": 457, \"Radio\": 158.40592, \"Social Media\": 33.02581858, \"Sales\": 1622.401258}, {\"WeekDate\": \"2020-06-13T00:00:00\", \"Influencer\": \"Nano\", \"TV\": 323, \"Radio\": 99.73470972, \"Social Media\": 18.08954407, \"Sales\": 1134.464688}, {\"WeekDate\": \"2020-06-20T00:00:00\", \"Influencer\": \"Macro\", \"TV\": 325, \"Radio\": 107.9344478, \"Social Media\": 20.84364641, \"Sales\": 1167.093993}, {\"WeekDate\": \"2020-06-20T00:00:00\", \"Influencer\": \"Mega\", \"TV\": 464, \"Radio\": 138.9191474, \"Social Media\": 37.15250918, \"Sales\": 1656.488986}, {\"WeekDate\": \"2020-06-20T00:00:00\", \"Influencer\": \"Micro\", \"TV\": 380, \"Radio\": 119.0907731, \"Social Media\": 23.29675154, \"Sales\": 1341.943403}, {\"WeekDate\": \"2020-06-20T00:00:00\", \"Influencer\": \"Nano\", \"TV\": 453, \"Radio\": 150.8330561, \"Social Media\": 28.40174282, \"Sales\": 1610.994779}, {\"WeekDate\": \"2020-06-27T00:00:00\", \"Influencer\": \"Macro\", \"TV\": 358, \"Radio\": 127.6873229, \"Social Media\": 23.3042252, \"Sales\": 1269.821607}, {\"WeekDate\": \"2020-06-27T00:00:00\", \"Influencer\": \"Mega\", \"TV\": 347, \"Radio\": 107.2065384, \"Social Media\": 18.09130293, \"Sales\": 1240.225215}, {\"WeekDate\": \"2020-06-27T00:00:00\", \"Influencer\": \"Micro\", \"TV\": 452, \"Radio\": 134.3016472, \"Social Media\": 26.50933216, \"Sales\": 1612.859802}, {\"WeekDate\": \"2020-06-27T00:00:00\", \"Influencer\": \"Nano\", \"TV\": 459, \"Radio\": 150.6764863, \"Social Media\": 24.8702213, \"Sales\": 1630.449218}, {\"WeekDate\": \"2020-04-07T00:00:00\", \"Influencer\": \"Macro\", \"TV\": 446, \"Radio\": 152.5054367, \"Social Media\": 26.01904637, \"Sales\": 1583.507261}, {\"WeekDate\": \"2020-04-07T00:00:00\", \"Influencer\": \"Mega\", \"TV\": 332, \"Radio\": 122.8230299, \"Social Media\": 21.80771174, \"Sales\": 1185.642011}, {\"WeekDate\": \"2020-04-07T00:00:00\", \"Influencer\": \"Micro\", \"TV\": 425, \"Radio\": 156.8659188, \"Social Media\": 28.70877822, \"Sales\": 1510.468216}, {\"WeekDate\": \"2020-04-07T00:00:00\", \"Influencer\": \"Nano\", \"TV\": 441, \"Radio\": 151.9472996, \"Social Media\": 25.68819988, \"Sales\": 1575.535491}, {\"WeekDate\": \"2020-11-07T00:00:00\", \"Influencer\": \"Macro\", \"TV\": 452, \"Radio\": 151.4452371, \"Social Media\": 29.07050259, \"Sales\": 1620.644478}, {\"WeekDate\": \"2020-11-07T00:00:00\", \"Influencer\": \"Mega\", \"TV\": 296, \"Radio\": 120.3313556, \"Social Media\": 28.1300126, \"Sales\": 1048.769292}, {\"WeekDate\": \"2020-11-07T00:00:00\", \"Influencer\": \"Micro\", \"TV\": 259, \"Radio\": 101.015192, \"Social Media\": 22.19369514, \"Sales\": 922.7666996}, {\"WeekDate\": \"2020-11-07T00:00:00\", \"Influencer\": \"Nano\", \"TV\": 403, \"Radio\": 126.986102, \"Social Media\": 23.77154355, \"Sales\": 1438.740879}, {\"WeekDate\": \"2020-07-18T00:00:00\", \"Influencer\": \"Macro\", \"TV\": 396, \"Radio\": 158.1923733, \"Social Media\": 34.61598255, \"Sales\": 1391.473658}, {\"WeekDate\": \"2020-07-18T00:00:00\", \"Influencer\": \"Mega\", \"TV\": 366, \"Radio\": 133.5487233, \"Social Media\": 25.61205775, \"Sales\": 1307.069293}, {\"WeekDate\": \"2020-07-18T00:00:00\", \"Influencer\": \"Micro\", \"TV\": 394, \"Radio\": 125.7181408, \"Social Media\": 25.87937242, \"Sales\": 1407.567889}, {\"WeekDate\": \"2020-07-18T00:00:00\", \"Influencer\": \"Nano\", \"TV\": 369, \"Radio\": 130.4111992, \"Social Media\": 21.4735305, \"Sales\": 1303.211121}, {\"WeekDate\": \"2020-07-25T00:00:00\", \"Influencer\": \"Macro\", \"TV\": 269, \"Radio\": 100.4160215, \"Social Media\": 23.17424933, \"Sales\": 961.3829209}, {\"WeekDate\": \"2020-07-25T00:00:00\", \"Influencer\": \"Mega\", \"TV\": 375, \"Radio\": 142.7414354, \"Social Media\": 17.56572823, \"Sales\": 1315.722755}, {\"WeekDate\": \"2020-07-25T00:00:00\", \"Influencer\": \"Micro\", \"TV\": 343, \"Radio\": 115.7230207, \"Social Media\": 20.74867813, \"Sales\": 1228.452202}, {\"WeekDate\": \"2020-07-25T00:00:00\", \"Influencer\": \"Nano\", \"TV\": 465, \"Radio\": 146.9004714, \"Social Media\": 30.64795024, \"Sales\": 1649.34296}, {\"WeekDate\": \"2020-01-08T00:00:00\", \"Influencer\": \"Macro\", \"TV\": 452, \"Radio\": 155.1240473, \"Social Media\": 32.45740266, \"Sales\": 1601.82838}, {\"WeekDate\": \"2020-01-08T00:00:00\", \"Influencer\": \"Mega\", \"TV\": 436, \"Radio\": 146.2947955, \"Social Media\": 27.60417614, \"Sales\": 1555.419716}, {\"WeekDate\": \"2020-01-08T00:00:00\", \"Influencer\": \"Micro\", \"TV\": 417, \"Radio\": 144.9492409, \"Social Media\": 21.15246342, \"Sales\": 1482.750629}, {\"WeekDate\": \"2020-01-08T00:00:00\", \"Influencer\": \"Nano\", \"TV\": 415, \"Radio\": 130.3370039, \"Social Media\": 30.72888037, \"Sales\": 1472.326899}, {\"WeekDate\": \"2020-08-08T00:00:00\", \"Influencer\": \"Macro\", \"TV\": 320, \"Radio\": 91.2782956, \"Social Media\": 15.70425984, \"Sales\": 1134.055774}, {\"WeekDate\": \"2020-08-08T00:00:00\", \"Influencer\": \"Mega\", \"TV\": 331, \"Radio\": 97.85298709, \"Social Media\": 17.90388679, \"Sales\": 1171.627051}, {\"WeekDate\": \"2020-08-08T00:00:00\", \"Influencer\": \"Micro\", \"TV\": 457, \"Radio\": 164.0909329, \"Social Media\": 26.91364131, \"Sales\": 1608.358428}, {\"WeekDate\": \"2020-08-08T00:00:00\", \"Influencer\": \"Nano\", \"TV\": 448, \"Radio\": 154.1848604, \"Social Media\": 21.93726939, \"Sales\": 1593.840395}, {\"WeekDate\": \"2020-08-15T00:00:00\", \"Influencer\": \"Macro\", \"TV\": 390, \"Radio\": 104.3408545, \"Social Media\": 23.45548133, \"Sales\": 1379.151806}, {\"WeekDate\": \"2020-08-15T00:00:00\", \"Influencer\": \"Mega\", \"TV\": 492, \"Radio\": 147.9284437, \"Social Media\": 26.50344728, \"Sales\": 1752.470392}, {\"WeekDate\": \"2020-08-15T00:00:00\", \"Influencer\": \"Micro\", \"TV\": 404, \"Radio\": 142.4543424, \"Social Media\": 19.27282338, \"Sales\": 1434.446366}, {\"WeekDate\": \"2020-08-15T00:00:00\", \"Influencer\": \"Nano\", \"TV\": 249, \"Radio\": 75.65864647, \"Social Media\": 14.13498236, \"Sales\": 874.7200834}, {\"WeekDate\": \"2020-08-22T00:00:00\", \"Influencer\": \"Macro\", \"TV\": 517, \"Radio\": 161.7270344, \"Social Media\": 25.57337645, \"Sales\": 1827.633271}, {\"WeekDate\": \"2020-08-22T00:00:00\", \"Influencer\": \"Mega\", \"TV\": 285, \"Radio\": 93.35171293, \"Social Media\": 15.17689387, \"Sales\": 1015.272385}, {\"WeekDate\": \"2020-08-22T00:00:00\", \"Influencer\": \"Micro\", \"TV\": 386, \"Radio\": 104.9044261, \"Social Media\": 25.99043904, \"Sales\": 1368.965696}, {\"WeekDate\": \"2020-08-22T00:00:00\", \"Influencer\": \"Nano\", \"TV\": 194, \"Radio\": 71.37551159, \"Social Media\": 10.33267404, \"Sales\": 701.0822927}, {\"WeekDate\": \"2020-08-29T00:00:00\", \"Influencer\": \"Macro\", \"TV\": 455, \"Radio\": 142.2317685, \"Social Media\": 28.53574255, \"Sales\": 1629.557615}, {\"WeekDate\": \"2020-08-29T00:00:00\", \"Influencer\": \"Mega\", \"TV\": 446, \"Radio\": 119.639233, \"Social Media\": 25.81024962, \"Sales\": 1585.183327}, {\"WeekDate\": \"2020-08-29T00:00:00\", \"Influencer\": \"Micro\", \"TV\": 403, \"Radio\": 155.5409861, \"Social Media\": 26.4521372, \"Sales\": 1433.712042}, {\"WeekDate\": \"2020-08-29T00:00:00\", \"Influencer\": \"Nano\", \"TV\": 333, \"Radio\": 122.1161898, \"Social Media\": 19.18291126, \"Sales\": 1175.717101}, {\"WeekDate\": \"2020-05-09T00:00:00\", \"Influencer\": \"Macro\", \"TV\": 357, \"Radio\": 103.9925746, \"Social Media\": 24.76225421, \"Sales\": 1271.983499}, {\"WeekDate\": \"2020-05-09T00:00:00\", \"Influencer\": \"Mega\", \"TV\": 420, \"Radio\": 143.413371, \"Social Media\": 23.29640985, \"Sales\": 1490.121696}, {\"WeekDate\": \"2020-05-09T00:00:00\", \"Influencer\": \"Micro\", \"TV\": 340, \"Radio\": 117.9937205, \"Social Media\": 23.66705528, \"Sales\": 1214.359513}, {\"WeekDate\": \"2020-05-09T00:00:00\", \"Influencer\": \"Nano\", \"TV\": 179, \"Radio\": 54.2909099, \"Social Media\": 18.24719876, \"Sales\": 640.377837}, {\"WeekDate\": \"2020-12-09T00:00:00\", \"Influencer\": \"Macro\", \"TV\": 368, \"Radio\": 101.1522821, \"Social Media\": 15.46334156, \"Sales\": 1300.75915}, {\"WeekDate\": \"2020-12-09T00:00:00\", \"Influencer\": \"Mega\", \"TV\": 251, \"Radio\": 73.94771298, \"Social Media\": 22.70634712, \"Sales\": 888.0776532}, {\"WeekDate\": \"2020-12-09T00:00:00\", \"Influencer\": \"Micro\", \"TV\": 399, \"Radio\": 117.8017165, \"Social Media\": 18.93990982, \"Sales\": 1430.93001}, {\"WeekDate\": \"2020-12-09T00:00:00\", \"Influencer\": \"Nano\", \"TV\": 404, \"Radio\": 164.5394415, \"Social Media\": 23.72818935, \"Sales\": 1439.82487}, {\"WeekDate\": \"2020-09-19T00:00:00\", \"Influencer\": \"Macro\", \"TV\": 249, \"Radio\": 84.76336552, \"Social Media\": 19.84350142, \"Sales\": 893.289881}, {\"WeekDate\": \"2020-09-19T00:00:00\", \"Influencer\": \"Mega\", \"TV\": 289, \"Radio\": 119.7083626, \"Social Media\": 25.18667025, \"Sales\": 1038.048216}, {\"WeekDate\": \"2020-09-19T00:00:00\", \"Influencer\": \"Micro\", \"TV\": 421, \"Radio\": 142.2026301, \"Social Media\": 25.9761376, \"Sales\": 1497.541283}, {\"WeekDate\": \"2020-09-19T00:00:00\", \"Influencer\": \"Nano\", \"TV\": 384, \"Radio\": 119.4883693, \"Social Media\": 28.36207211, \"Sales\": 1360.644449}, {\"WeekDate\": \"2020-09-26T00:00:00\", \"Influencer\": \"Macro\", \"TV\": 348, \"Radio\": 105.803603, \"Social Media\": 18.65980133, \"Sales\": 1235.595226}, {\"WeekDate\": \"2020-09-26T00:00:00\", \"Influencer\": \"Mega\", \"TV\": 418, \"Radio\": 150.860655, \"Social Media\": 28.7773534, \"Sales\": 1481.532251}, {\"WeekDate\": \"2020-09-26T00:00:00\", \"Influencer\": \"Micro\", \"TV\": 364, \"Radio\": 114.1155441, \"Social Media\": 24.81320554, \"Sales\": 1289.100231}, {\"WeekDate\": \"2020-09-26T00:00:00\", \"Influencer\": \"Nano\", \"TV\": 422, \"Radio\": 131.3871651, \"Social Media\": 13.31095649, \"Sales\": 1499.891746}, {\"WeekDate\": \"2020-03-10T00:00:00\", \"Influencer\": \"Macro\", \"TV\": 429, \"Radio\": 145.7844708, \"Social Media\": 24.94006032, \"Sales\": 1525.450309}, {\"WeekDate\": \"2020-03-10T00:00:00\", \"Influencer\": \"Mega\", \"TV\": 290, \"Radio\": 96.06805649, \"Social Media\": 18.51938722, \"Sales\": 1037.578476}, {\"WeekDate\": \"2020-03-10T00:00:00\", \"Influencer\": \"Micro\", \"TV\": 424, \"Radio\": 110.5749113, \"Social Media\": 15.53950209, \"Sales\": 1513.338117}, {\"WeekDate\": \"2020-03-10T00:00:00\", \"Influencer\": \"Nano\", \"TV\": 358, \"Radio\": 140.0936057, \"Social Media\": 27.04537915, \"Sales\": 1274.283523}, {\"WeekDate\": \"2020-10-10T00:00:00\", \"Influencer\": \"Macro\", \"TV\": 337, \"Radio\": 130.3947391, \"Social Media\": 18.02527783, \"Sales\": 1185.007911}, {\"WeekDate\": \"2020-10-10T00:00:00\", \"Influencer\": \"Mega\", \"TV\": 321, \"Radio\": 76.286356, \"Social Media\": 11.02165623, \"Sales\": 1151.810751}, {\"WeekDate\": \"2020-10-10T00:00:00\", \"Influencer\": \"Micro\", \"TV\": 366, \"Radio\": 105.6006637, \"Social Media\": 18.23595682, \"Sales\": 1300.405574}, {\"WeekDate\": \"2020-10-10T00:00:00\", \"Influencer\": \"Nano\", \"TV\": 493, \"Radio\": 176.8063955, \"Social Media\": 27.60208853, \"Sales\": 1745.752692}, {\"WeekDate\": \"2020-10-17T00:00:00\", \"Influencer\": \"Macro\", \"TV\": 361, \"Radio\": 123.6020291, \"Social Media\": 21.93153133, \"Sales\": 1282.098287}, {\"WeekDate\": \"2020-10-17T00:00:00\", \"Influencer\": \"Mega\", \"TV\": 350, \"Radio\": 108.5178379, \"Social Media\": 20.12420227, \"Sales\": 1237.601766}, {\"WeekDate\": \"2020-10-17T00:00:00\", \"Influencer\": \"Micro\", \"TV\": 254, \"Radio\": 98.80513539, \"Social Media\": 20.20722224, \"Sales\": 923.7274261}, {\"WeekDate\": \"2020-10-17T00:00:00\", \"Influencer\": \"Nano\", \"TV\": 421, \"Radio\": 152.9747604, \"Social Media\": 26.38943494, \"Sales\": 1506.706605}, {\"WeekDate\": \"2020-10-24T00:00:00\", \"Influencer\": \"Macro\", \"TV\": 428, \"Radio\": 171.4853868, \"Social Media\": 27.98643075, \"Sales\": 1531.447009}, {\"WeekDate\": \"2020-10-24T00:00:00\", \"Influencer\": \"Mega\", \"TV\": 251, \"Radio\": 89.18197729, \"Social Media\": 7.775524934, \"Sales\": 900.7804509}, {\"WeekDate\": \"2020-10-24T00:00:00\", \"Influencer\": \"Micro\", \"TV\": 347, \"Radio\": 111.1039646, \"Social Media\": 23.02705587, \"Sales\": 1231.702145}, {\"WeekDate\": \"2020-10-24T00:00:00\", \"Influencer\": \"Nano\", \"TV\": 473, \"Radio\": 140.0756374, \"Social Media\": 30.75176642, \"Sales\": 1681.736613}, {\"WeekDate\": \"2020-10-31T00:00:00\", \"Influencer\": \"Macro\", \"TV\": 451, \"Radio\": 142.5903208, \"Social Media\": 35.23786901, \"Sales\": 1605.544927}, {\"WeekDate\": \"2020-10-31T00:00:00\", \"Influencer\": \"Mega\", \"TV\": 305, \"Radio\": 94.34393034, \"Social Media\": 16.46026177, \"Sales\": 1070.694402}, {\"WeekDate\": \"2020-10-31T00:00:00\", \"Influencer\": \"Micro\", \"TV\": 507, \"Radio\": 158.0036939, \"Social Media\": 16.74556316, \"Sales\": 1802.785431}, {\"WeekDate\": \"2020-10-31T00:00:00\", \"Influencer\": \"Nano\", \"TV\": 446, \"Radio\": 143.5735921, \"Social Media\": 29.87371878, \"Sales\": 1585.679073}, {\"WeekDate\": \"2020-07-11T00:00:00\", \"Influencer\": \"Macro\", \"TV\": 489, \"Radio\": 132.857175, \"Social Media\": 19.52221261, \"Sales\": 1743.817927}, {\"WeekDate\": \"2020-07-11T00:00:00\", \"Influencer\": \"Mega\", \"TV\": 252, \"Radio\": 95.70036329, \"Social Media\": 13.49154126, \"Sales\": 911.7825306}, {\"WeekDate\": \"2020-07-11T00:00:00\", \"Influencer\": \"Micro\", \"TV\": 447, \"Radio\": 155.486617, \"Social Media\": 25.33727232, \"Sales\": 1589.263007}, {\"WeekDate\": \"2020-07-11T00:00:00\", \"Influencer\": \"Nano\", \"TV\": 314, \"Radio\": 109.0181262, \"Social Media\": 17.1771843, \"Sales\": 1110.805958}, {\"WeekDate\": \"2020-11-14T00:00:00\", \"Influencer\": \"Macro\", \"TV\": 460, \"Radio\": 151.5353612, \"Social Media\": 23.83290116, \"Sales\": 1630.728464}, {\"WeekDate\": \"2020-11-14T00:00:00\", \"Influencer\": \"Mega\", \"TV\": 254, \"Radio\": 81.12293886, \"Social Media\": 22.55075999, \"Sales\": 906.9796282}, {\"WeekDate\": \"2020-11-14T00:00:00\", \"Influencer\": \"Micro\", \"TV\": 349, \"Radio\": 117.316787, \"Social Media\": 14.53767556, \"Sales\": 1244.426574}, {\"WeekDate\": \"2020-11-14T00:00:00\", \"Influencer\": \"Nano\", \"TV\": 381, \"Radio\": 116.5357272, \"Social Media\": 20.12290578, \"Sales\": 1351.208833}, {\"WeekDate\": \"2020-11-21T00:00:00\", \"Influencer\": \"Macro\", \"TV\": 428, \"Radio\": 130.5130528, \"Social Media\": 26.65747655, \"Sales\": 1524.674321}, {\"WeekDate\": \"2020-11-21T00:00:00\", \"Influencer\": \"Mega\", \"TV\": 475, \"Radio\": 145.0930058, \"Social Media\": 33.66348529, \"Sales\": 1691.856747}, {\"WeekDate\": \"2020-11-21T00:00:00\", \"Influencer\": \"Micro\", \"TV\": 343, \"Radio\": 115.695315, \"Social Media\": 14.42493079, \"Sales\": 1220.237855}, {\"WeekDate\": \"2020-11-21T00:00:00\", \"Influencer\": \"Nano\", \"TV\": 412, \"Radio\": 131.7836006, \"Social Media\": 27.38586752, \"Sales\": 1469.630884}, {\"WeekDate\": \"2020-11-28T00:00:00\", \"Influencer\": \"Macro\", \"TV\": 509, \"Radio\": 156.6224729, \"Social Media\": 26.03597951, \"Sales\": 1804.306786}, {\"WeekDate\": \"2020-11-28T00:00:00\", \"Influencer\": \"Mega\", \"TV\": 471, \"Radio\": 137.8424834, \"Social Media\": 20.83776105, \"Sales\": 1666.783563}, {\"WeekDate\": \"2020-11-28T00:00:00\", \"Influencer\": \"Micro\", \"TV\": 441, \"Radio\": 127.7096679, \"Social Media\": 27.2248058, \"Sales\": 1561.479683}, {\"WeekDate\": \"2020-11-28T00:00:00\", \"Influencer\": \"Nano\", \"TV\": 416, \"Radio\": 137.5399477, \"Social Media\": 24.95770964, \"Sales\": 1479.90123}, {\"WeekDate\": \"2020-05-12T00:00:00\", \"Influencer\": \"Macro\", \"TV\": 257, \"Radio\": 100.7781873, \"Social Media\": 20.84787718, \"Sales\": 908.415902}, {\"WeekDate\": \"2020-05-12T00:00:00\", \"Influencer\": \"Mega\", \"TV\": 362, \"Radio\": 101.3066198, \"Social Media\": 20.14779408, \"Sales\": 1277.011468}, {\"WeekDate\": \"2020-05-12T00:00:00\", \"Influencer\": \"Micro\", \"TV\": 423, \"Radio\": 137.497851, \"Social Media\": 20.49214781, \"Sales\": 1506.86928}, {\"WeekDate\": \"2020-05-12T00:00:00\", \"Influencer\": \"Nano\", \"TV\": 431, \"Radio\": 148.1982556, \"Social Media\": 23.19108602, \"Sales\": 1525.242824}, {\"WeekDate\": \"2020-12-12T00:00:00\", \"Influencer\": \"Macro\", \"TV\": 453, \"Radio\": 156.4317894, \"Social Media\": 21.79292688, \"Sales\": 1618.785265}, {\"WeekDate\": \"2020-12-12T00:00:00\", \"Influencer\": \"Mega\", \"TV\": 346, \"Radio\": 107.9490791, \"Social Media\": 17.29446336, \"Sales\": 1234.496079}, {\"WeekDate\": \"2020-12-12T00:00:00\", \"Influencer\": \"Micro\", \"TV\": 458, \"Radio\": 135.417782, \"Social Media\": 25.98888725, \"Sales\": 1631.240705}, {\"WeekDate\": \"2020-12-12T00:00:00\", \"Influencer\": \"Nano\", \"TV\": 290, \"Radio\": 101.9861079, \"Social Media\": 20.30160972, \"Sales\": 1038.513492}, {\"WeekDate\": \"2020-12-19T00:00:00\", \"Influencer\": \"Macro\", \"TV\": 254, \"Radio\": 71.54097462, \"Social Media\": 19.1731418, \"Sales\": 914.2806753}, {\"WeekDate\": \"2020-12-19T00:00:00\", \"Influencer\": \"Mega\", \"TV\": 371, \"Radio\": 141.5515678, \"Social Media\": 21.29483592, \"Sales\": 1304.920784}, {\"WeekDate\": \"2020-12-19T00:00:00\", \"Influencer\": \"Micro\", \"TV\": 325, \"Radio\": 96.21444761, \"Social Media\": 17.31488248, \"Sales\": 1170.504623}, {\"WeekDate\": \"2020-12-19T00:00:00\", \"Influencer\": \"Nano\", \"TV\": 402, \"Radio\": 137.567629, \"Social Media\": 24.4643395, \"Sales\": 1443.048608}, {\"WeekDate\": \"2020-12-26T00:00:00\", \"Influencer\": \"Macro\", \"TV\": 352, \"Radio\": 99.70953624, \"Social Media\": 16.47930097, \"Sales\": 1257.082405}, {\"WeekDate\": \"2020-12-26T00:00:00\", \"Influencer\": \"Mega\", \"TV\": 399, \"Radio\": 127.771541, \"Social Media\": 33.76685666, \"Sales\": 1429.943395}, {\"WeekDate\": \"2020-12-26T00:00:00\", \"Influencer\": \"Micro\", \"TV\": 403, \"Radio\": 143.9715502, \"Social Media\": 21.36524989, \"Sales\": 1440.668229}, {\"WeekDate\": \"2020-12-26T00:00:00\", \"Influencer\": \"Nano\", \"TV\": 323, \"Radio\": 91.84588648, \"Social Media\": 17.93376874, \"Sales\": 1150.897542}, {\"WeekDate\": \"2021-02-01T00:00:00\", \"Influencer\": \"Macro\", \"TV\": 379, \"Radio\": 111.1265981, \"Social Media\": 19.05005122, \"Sales\": 1350.609231}, {\"WeekDate\": \"2021-02-01T00:00:00\", \"Influencer\": \"Mega\", \"TV\": 412, \"Radio\": 144.8441732, \"Social Media\": 22.17130225, \"Sales\": 1470.422172}, {\"WeekDate\": \"2021-02-01T00:00:00\", \"Influencer\": \"Micro\", \"TV\": 438, \"Radio\": 134.1310915, \"Social Media\": 19.9235542, \"Sales\": 1561.462044}, {\"WeekDate\": \"2021-02-01T00:00:00\", \"Influencer\": \"Nano\", \"TV\": 303, \"Radio\": 102.1347498, \"Social Media\": 18.41434819, \"Sales\": 1085.490333}, {\"WeekDate\": \"2021-09-01T00:00:00\", \"Influencer\": \"Macro\", \"TV\": 396, \"Radio\": 142.7736266, \"Social Media\": 20.15257753, \"Sales\": 1418.056183}, {\"WeekDate\": \"2021-09-01T00:00:00\", \"Influencer\": \"Mega\", \"TV\": 302, \"Radio\": 121.7895626, \"Social Media\": 19.93844962, \"Sales\": 1074.9715}, {\"WeekDate\": \"2021-09-01T00:00:00\", \"Influencer\": \"Micro\", \"TV\": 433, \"Radio\": 146.4779587, \"Social Media\": 18.96402473, \"Sales\": 1543.17819}, {\"WeekDate\": \"2021-09-01T00:00:00\", \"Influencer\": \"Nano\", \"TV\": 307, \"Radio\": 98.51956827, \"Social Media\": 18.77646318, \"Sales\": 1087.737184}, {\"WeekDate\": \"2021-01-16T00:00:00\", \"Influencer\": \"Macro\", \"TV\": 401, \"Radio\": 137.2358581, \"Social Media\": 21.35734638, \"Sales\": 1425.5561}, {\"WeekDate\": \"2021-01-16T00:00:00\", \"Influencer\": \"Mega\", \"TV\": 275, \"Radio\": 75.34940897, \"Social Media\": 14.91018441, \"Sales\": 977.4826108}, {\"WeekDate\": \"2021-01-16T00:00:00\", \"Influencer\": \"Micro\", \"TV\": 387, \"Radio\": 125.185702, \"Social Media\": 28.2634261, \"Sales\": 1372.775363}, {\"WeekDate\": \"2021-01-16T00:00:00\", \"Influencer\": \"Nano\", \"TV\": 418, \"Radio\": 136.7521585, \"Social Media\": 26.01610565, \"Sales\": 1486.212581}, {\"WeekDate\": \"2021-01-23T00:00:00\", \"Influencer\": \"Macro\", \"TV\": 263, \"Radio\": 78.84396313, \"Social Media\": 9.035467841, \"Sales\": 936.8838202}, {\"WeekDate\": \"2021-01-23T00:00:00\", \"Influencer\": \"Mega\", \"TV\": 386, \"Radio\": 136.9293593, \"Social Media\": 27.10503624, \"Sales\": 1367.972488}, {\"WeekDate\": \"2021-01-23T00:00:00\", \"Influencer\": \"Micro\", \"TV\": 401, \"Radio\": 142.0091143, \"Social Media\": 23.24985462, \"Sales\": 1420.465583}, {\"WeekDate\": \"2021-01-23T00:00:00\", \"Influencer\": \"Nano\", \"TV\": 340, \"Radio\": 110.4086759, \"Social Media\": 17.55439305, \"Sales\": 1201.253186}, {\"WeekDate\": \"2021-01-30T00:00:00\", \"Influencer\": \"Mega\", \"TV\": 357, \"Radio\": 126.1120813, \"Social Media\": 23.79424939, \"Sales\": 1282.504106}, {\"WeekDate\": \"2021-01-30T00:00:00\", \"Influencer\": \"Micro\", \"TV\": 374, \"Radio\": 152.9161995, \"Social Media\": 30.23781556, \"Sales\": 1336.125288}, {\"WeekDate\": \"2021-01-30T00:00:00\", \"Influencer\": \"Nano\", \"TV\": 373, \"Radio\": 127.5419538, \"Social Media\": 17.69667007, \"Sales\": 1320.703572}, {\"WeekDate\": \"2021-06-02T00:00:00\", \"Influencer\": \"Mega\", \"TV\": 384, \"Radio\": 128.0337588, \"Social Media\": 30.445512, \"Sales\": 1365.262445}, {\"WeekDate\": \"2021-06-02T00:00:00\", \"Influencer\": \"Micro\", \"TV\": 301, \"Radio\": 92.55907963, \"Social Media\": 14.47233623, \"Sales\": 1075.6838}, {\"WeekDate\": \"2021-06-02T00:00:00\", \"Influencer\": \"Nano\", \"TV\": 310, \"Radio\": 87.2888276, \"Social Media\": 23.30425164, \"Sales\": 1106.155335}, {\"WeekDate\": \"2021-02-13T00:00:00\", \"Influencer\": \"Mega\", \"TV\": 291, \"Radio\": 106.7541758, \"Social Media\": 24.46378483, \"Sales\": 1042.025095}, {\"WeekDate\": \"2021-02-13T00:00:00\", \"Influencer\": \"Micro\", \"TV\": 289, \"Radio\": 83.26109307, \"Social Media\": 12.90508237, \"Sales\": 1025.924026}, {\"WeekDate\": \"2021-02-20T00:00:00\", \"Influencer\": \"Mega\", \"TV\": 272, \"Radio\": 126.5992581, \"Social Media\": 19.1341798, \"Sales\": 969.8616316}, {\"WeekDate\": \"2021-02-20T00:00:00\", \"Influencer\": \"Micro\", \"TV\": 211, \"Radio\": 58.53798122, \"Social Media\": 16.4341252, \"Sales\": 765.3271016}, {\"WeekDate\": \"2021-02-27T00:00:00\", \"Influencer\": \"Mega\", \"TV\": 168, \"Radio\": 56.47973828, \"Social Media\": 9.523363271, \"Sales\": 590.3360164}]}}, {\"mode\": \"vega-lite\"});\n",
       "</script>"
      ],
      "text/plain": [
       "alt.RepeatChart(...)"
      ]
     },
     "execution_count": 7,
     "metadata": {},
     "output_type": "execute_result"
    }
   ],
   "source": [
    "alt.Chart(mrk_data).mark_circle(size=40,stroke='#000000', strokeWidth=0.2).encode(\n",
    "    alt.X(alt.repeat(\"column\"), type='quantitative'),\n",
    "    alt.Y(alt.repeat(\"row\"), type='quantitative'),\n",
    "    color='Influencer:N',\n",
    "    tooltip=[alt.Tooltip('Sales', title='Ventas generadas',format='~s')]\n",
    ").properties(\n",
    "    width=200,\n",
    "    height=230\n",
    ").repeat(\n",
    "    row=['Sales'],\n",
    "    column=['Radio', 'TV', 'Social Media']\n",
    ").interactive()"
   ]
  },
  {
   "cell_type": "markdown",
   "id": "d32cd896",
   "metadata": {},
   "source": [
    "→ Los 3 features de Radio, TV y Social Media están relacionados de manera lineal. </br>\n",
    "→ Los presupuestos destinados a publicidad televisiva están más fuertemente relacionados a las ventas generadas en esa campaña de publicidad.</br>\n",
    "→ Las 3 variables tienen una relacón de tipo lineal con las ventas obtenidas."
   ]
  },
  {
   "cell_type": "code",
   "execution_count": 8,
   "id": "064a4dc4",
   "metadata": {},
   "outputs": [
    {
     "data": {
      "text/html": [
       "<div>\n",
       "<style scoped>\n",
       "    .dataframe tbody tr th:only-of-type {\n",
       "        vertical-align: middle;\n",
       "    }\n",
       "\n",
       "    .dataframe tbody tr th {\n",
       "        vertical-align: top;\n",
       "    }\n",
       "\n",
       "    .dataframe thead th {\n",
       "        text-align: right;\n",
       "    }\n",
       "</style>\n",
       "<table border=\"1\" class=\"dataframe\">\n",
       "  <thead>\n",
       "    <tr style=\"text-align: right;\">\n",
       "      <th></th>\n",
       "      <th>Influencer</th>\n",
       "      <th>Radio</th>\n",
       "      <th>TV</th>\n",
       "      <th>Social Media</th>\n",
       "      <th>Sales</th>\n",
       "    </tr>\n",
       "  </thead>\n",
       "  <tbody>\n",
       "    <tr>\n",
       "      <th>0</th>\n",
       "      <td>Macro</td>\n",
       "      <td>20538.879787</td>\n",
       "      <td>61488</td>\n",
       "      <td>3770.103797</td>\n",
       "      <td>219282.846473</td>\n",
       "    </tr>\n",
       "    <tr>\n",
       "      <th>1</th>\n",
       "      <td>Mega</td>\n",
       "      <td>20932.175593</td>\n",
       "      <td>61846</td>\n",
       "      <td>3899.961651</td>\n",
       "      <td>220326.277957</td>\n",
       "    </tr>\n",
       "    <tr>\n",
       "      <th>2</th>\n",
       "      <td>Micro</td>\n",
       "      <td>20983.456725</td>\n",
       "      <td>61979</td>\n",
       "      <td>3774.083487</td>\n",
       "      <td>220964.077721</td>\n",
       "    </tr>\n",
       "    <tr>\n",
       "      <th>3</th>\n",
       "      <td>Nano</td>\n",
       "      <td>20501.993612</td>\n",
       "      <td>61340</td>\n",
       "      <td>3733.037354</td>\n",
       "      <td>218229.303096</td>\n",
       "    </tr>\n",
       "  </tbody>\n",
       "</table>\n",
       "</div>"
      ],
      "text/plain": [
       "  Influencer         Radio     TV  Social Media          Sales\n",
       "0      Macro  20538.879787  61488   3770.103797  219282.846473\n",
       "1       Mega  20932.175593  61846   3899.961651  220326.277957\n",
       "2      Micro  20983.456725  61979   3774.083487  220964.077721\n",
       "3       Nano  20501.993612  61340   3733.037354  218229.303096"
      ]
     },
     "execution_count": 8,
     "metadata": {},
     "output_type": "execute_result"
    }
   ],
   "source": [
    "table_temp_01 = pd.DataFrame(mrk_data.groupby('Influencer')[['Radio','TV','Social Media','Sales']].sum())\n",
    "table_temp_01 = table_temp_01.reset_index()\n",
    "table_temp_01"
   ]
  },
  {
   "cell_type": "code",
   "execution_count": 9,
   "id": "dab70a1f",
   "metadata": {},
   "outputs": [],
   "source": [
    "bars_01 = alt.Chart(table_temp_01).mark_bar().encode(\n",
    "    x=alt.X('Influencer:O', title='', axis=None),\n",
    "    y=alt.Y('Sales:Q',title='Ventas en Millones', stack=None, axis=alt.Axis(titlePadding=20, titleAnchor='middle' ,labelFontSize=12, grid=False)),\n",
    "    color=\"Influencer:N\",\n",
    "    tooltip = [alt.Tooltip('Influencer:O',title= 'Tipo de influencer'),\n",
    "               alt.Tooltip('Sales:Q', title = 'Ventas en Millones de dólares',format='~s')],\n",
    ")"
   ]
  },
  {
   "cell_type": "code",
   "execution_count": 10,
   "id": "e2dc4348",
   "metadata": {},
   "outputs": [],
   "source": [
    "labels_01 = bars_01.mark_text(size=15,dy = -10).encode(\n",
    "    text = alt.Text('Sales:Q', format = \"~s\"),\n",
    ")"
   ]
  },
  {
   "cell_type": "code",
   "execution_count": 11,
   "id": "f532547d",
   "metadata": {},
   "outputs": [],
   "source": [
    "chart_01 = bars_01 + labels_01"
   ]
  },
  {
   "cell_type": "code",
   "execution_count": 12,
   "id": "6fcb25bb",
   "metadata": {},
   "outputs": [
    {
     "data": {
      "text/html": [
       "\n",
       "<div id=\"altair-viz-d08702e558704f989c039919f8622289\"></div>\n",
       "<script type=\"text/javascript\">\n",
       "  (function(spec, embedOpt){\n",
       "    let outputDiv = document.currentScript.previousElementSibling;\n",
       "    if (outputDiv.id !== \"altair-viz-d08702e558704f989c039919f8622289\") {\n",
       "      outputDiv = document.getElementById(\"altair-viz-d08702e558704f989c039919f8622289\");\n",
       "    }\n",
       "    const paths = {\n",
       "      \"vega\": \"https://cdn.jsdelivr.net/npm//vega@5?noext\",\n",
       "      \"vega-lib\": \"https://cdn.jsdelivr.net/npm//vega-lib?noext\",\n",
       "      \"vega-lite\": \"https://cdn.jsdelivr.net/npm//vega-lite@4.17.0?noext\",\n",
       "      \"vega-embed\": \"https://cdn.jsdelivr.net/npm//vega-embed@6?noext\",\n",
       "    };\n",
       "\n",
       "    function loadScript(lib) {\n",
       "      return new Promise(function(resolve, reject) {\n",
       "        var s = document.createElement('script');\n",
       "        s.src = paths[lib];\n",
       "        s.async = true;\n",
       "        s.onload = () => resolve(paths[lib]);\n",
       "        s.onerror = () => reject(`Error loading script: ${paths[lib]}`);\n",
       "        document.getElementsByTagName(\"head\")[0].appendChild(s);\n",
       "      });\n",
       "    }\n",
       "\n",
       "    function showError(err) {\n",
       "      outputDiv.innerHTML = `<div class=\"error\" style=\"color:red;\">${err}</div>`;\n",
       "      throw err;\n",
       "    }\n",
       "\n",
       "    function displayChart(vegaEmbed) {\n",
       "      vegaEmbed(outputDiv, spec, embedOpt)\n",
       "        .catch(err => showError(`Javascript Error: ${err.message}<br>This usually means there's a typo in your chart specification. See the javascript console for the full traceback.`));\n",
       "    }\n",
       "\n",
       "    if(typeof define === \"function\" && define.amd) {\n",
       "      requirejs.config({paths});\n",
       "      require([\"vega-embed\"], displayChart, err => showError(`Error loading script: ${err.message}`));\n",
       "    } else if (typeof vegaEmbed === \"function\") {\n",
       "      displayChart(vegaEmbed);\n",
       "    } else {\n",
       "      loadScript(\"vega\")\n",
       "        .then(() => loadScript(\"vega-lite\"))\n",
       "        .then(() => loadScript(\"vega-embed\"))\n",
       "        .catch(showError)\n",
       "        .then(() => displayChart(vegaEmbed));\n",
       "    }\n",
       "  })({\"config\": {\"view\": {\"continuousWidth\": 400, \"continuousHeight\": 300, \"strokeWidth\": 0}, \"title\": {\"anchor\": \"middle\", \"fontSize\": 14}}, \"layer\": [{\"mark\": \"bar\", \"encoding\": {\"color\": {\"field\": \"Influencer\", \"type\": \"nominal\"}, \"tooltip\": [{\"field\": \"Influencer\", \"title\": \"Tipo de influencer\", \"type\": \"ordinal\"}, {\"field\": \"Sales\", \"format\": \"~s\", \"title\": \"Ventas en Millones de d\\u00f3lares\", \"type\": \"quantitative\"}], \"x\": {\"axis\": null, \"field\": \"Influencer\", \"title\": \"\", \"type\": \"ordinal\"}, \"y\": {\"axis\": {\"grid\": false, \"labelFontSize\": 12, \"titleAnchor\": \"middle\", \"titlePadding\": 20}, \"field\": \"Sales\", \"stack\": null, \"title\": \"Ventas en Millones\", \"type\": \"quantitative\"}}}, {\"mark\": {\"type\": \"text\", \"dy\": -10, \"size\": 15}, \"encoding\": {\"color\": {\"field\": \"Influencer\", \"type\": \"nominal\"}, \"text\": {\"field\": \"Sales\", \"format\": \"~s\", \"type\": \"quantitative\"}, \"tooltip\": [{\"field\": \"Influencer\", \"title\": \"Tipo de influencer\", \"type\": \"ordinal\"}, {\"field\": \"Sales\", \"format\": \"~s\", \"title\": \"Ventas en Millones de d\\u00f3lares\", \"type\": \"quantitative\"}], \"x\": {\"axis\": null, \"field\": \"Influencer\", \"title\": \"\", \"type\": \"ordinal\"}, \"y\": {\"axis\": {\"grid\": false, \"labelFontSize\": 12, \"titleAnchor\": \"middle\", \"titlePadding\": 20}, \"field\": \"Sales\", \"stack\": null, \"title\": \"Ventas en Millones\", \"type\": \"quantitative\"}}}], \"data\": {\"name\": \"data-aa5331375a54805935c34b64c7e8664c\"}, \"height\": 300, \"title\": \"Ventas totales en millones de d\\u00f3lares por tipo de influencer\", \"width\": 400, \"$schema\": \"https://vega.github.io/schema/vega-lite/v4.17.0.json\", \"datasets\": {\"data-aa5331375a54805935c34b64c7e8664c\": [{\"Influencer\": \"Macro\", \"Radio\": 20538.8797865, \"TV\": 61488, \"Social Media\": 3770.103797351, \"Sales\": 219282.8464731}, {\"Influencer\": \"Mega\", \"Radio\": 20932.17559345, \"TV\": 61846, \"Social Media\": 3899.961650645, \"Sales\": 220326.277957}, {\"Influencer\": \"Micro\", \"Radio\": 20983.45672521, \"TV\": 61979, \"Social Media\": 3774.083487435, \"Sales\": 220964.0777208}, {\"Influencer\": \"Nano\", \"Radio\": 20501.99361231, \"TV\": 61340, \"Social Media\": 3733.037353528, \"Sales\": 218229.3030957}]}}, {\"mode\": \"vega-lite\"});\n",
       "</script>"
      ],
      "text/plain": [
       "alt.LayerChart(...)"
      ]
     },
     "execution_count": 12,
     "metadata": {},
     "output_type": "execute_result"
    }
   ],
   "source": [
    "chart_01.properties(\n",
    "    title = 'Ventas totales en millones de dólares por tipo de influencer',\n",
    "    width = 400,\n",
    "    height = 300\n",
    ").configure_title(\n",
    "    fontSize = 14,\n",
    "    anchor = 'middle'\n",
    ").configure_view(\n",
    "    strokeWidth=0\n",
    ")"
   ]
  },
  {
   "cell_type": "markdown",
   "id": "27711b8d",
   "metadata": {},
   "source": [
    "→ **No existe una diferencia representativa determinada por el tipo de influencer** con el que se realiza la estrategia publicitaria."
   ]
  },
  {
   "cell_type": "code",
   "execution_count": 13,
   "id": "3ea6bec3",
   "metadata": {},
   "outputs": [],
   "source": [
    "table_temp_02= pd.DataFrame(mrk_data, columns=['WeekDate','Sales'])\n",
    "table_temp_02['Month'] = table_temp_02.apply(lambda x: x['WeekDate'].month , axis=1)\n",
    "table_temp_02 = table_temp_02.sort_values('Month')\n",
    "table_temp_02['Month'] = table_temp_02.apply(lambda x: x['WeekDate'].month_name() , axis=1)"
   ]
  },
  {
   "cell_type": "code",
   "execution_count": 14,
   "id": "9d32e27a",
   "metadata": {},
   "outputs": [],
   "source": [
    "dict_months = { \n",
    "    'January':'Enero',\n",
    "    'February':'Febrero',\n",
    "    'March':'Marzo',\n",
    "    'April':'Abril',\n",
    "    'May':'Mayo',\n",
    "    'June':'Junio',\n",
    "    'July':'Julio',\n",
    "    'August':'Agosto',\n",
    "    'September':'Septiembre',\n",
    "    'October':'Octubre',\n",
    "    'November':'Noviembre',\n",
    "    'December':'Diciembre'\n",
    "}"
   ]
  },
  {
   "cell_type": "code",
   "execution_count": 15,
   "id": "cd628662",
   "metadata": {},
   "outputs": [],
   "source": [
    "table_temp_02['year'] = table_temp_02.apply(lambda x: x['WeekDate'].year , axis=1)\n",
    "table_temp_02 = table_temp_02.replace({'Month':dict_months})"
   ]
  },
  {
   "cell_type": "code",
   "execution_count": 16,
   "id": "78a38a3f",
   "metadata": {},
   "outputs": [],
   "source": [
    "table_temp_02 = table_temp_02.pivot_table(values='Sales',index='Month',columns='year', fill_value=0, sort=False).reset_index()\n",
    "table_temp_02 = table_temp_02.melt(id_vars=['Month'],value_vars=[2017,2018,2019,2020,2021], var_name='NameYear', value_name='Sales')"
   ]
  },
  {
   "cell_type": "code",
   "execution_count": 17,
   "id": "fe88eae9",
   "metadata": {
    "scrolled": true
   },
   "outputs": [
    {
     "data": {
      "text/html": [
       "\n",
       "<div id=\"altair-viz-291f82c037454d278514f0694db56832\"></div>\n",
       "<script type=\"text/javascript\">\n",
       "  (function(spec, embedOpt){\n",
       "    let outputDiv = document.currentScript.previousElementSibling;\n",
       "    if (outputDiv.id !== \"altair-viz-291f82c037454d278514f0694db56832\") {\n",
       "      outputDiv = document.getElementById(\"altair-viz-291f82c037454d278514f0694db56832\");\n",
       "    }\n",
       "    const paths = {\n",
       "      \"vega\": \"https://cdn.jsdelivr.net/npm//vega@5?noext\",\n",
       "      \"vega-lib\": \"https://cdn.jsdelivr.net/npm//vega-lib?noext\",\n",
       "      \"vega-lite\": \"https://cdn.jsdelivr.net/npm//vega-lite@4.17.0?noext\",\n",
       "      \"vega-embed\": \"https://cdn.jsdelivr.net/npm//vega-embed@6?noext\",\n",
       "    };\n",
       "\n",
       "    function loadScript(lib) {\n",
       "      return new Promise(function(resolve, reject) {\n",
       "        var s = document.createElement('script');\n",
       "        s.src = paths[lib];\n",
       "        s.async = true;\n",
       "        s.onload = () => resolve(paths[lib]);\n",
       "        s.onerror = () => reject(`Error loading script: ${paths[lib]}`);\n",
       "        document.getElementsByTagName(\"head\")[0].appendChild(s);\n",
       "      });\n",
       "    }\n",
       "\n",
       "    function showError(err) {\n",
       "      outputDiv.innerHTML = `<div class=\"error\" style=\"color:red;\">${err}</div>`;\n",
       "      throw err;\n",
       "    }\n",
       "\n",
       "    function displayChart(vegaEmbed) {\n",
       "      vegaEmbed(outputDiv, spec, embedOpt)\n",
       "        .catch(err => showError(`Javascript Error: ${err.message}<br>This usually means there's a typo in your chart specification. See the javascript console for the full traceback.`));\n",
       "    }\n",
       "\n",
       "    if(typeof define === \"function\" && define.amd) {\n",
       "      requirejs.config({paths});\n",
       "      require([\"vega-embed\"], displayChart, err => showError(`Error loading script: ${err.message}`));\n",
       "    } else if (typeof vegaEmbed === \"function\") {\n",
       "      displayChart(vegaEmbed);\n",
       "    } else {\n",
       "      loadScript(\"vega\")\n",
       "        .then(() => loadScript(\"vega-lite\"))\n",
       "        .then(() => loadScript(\"vega-embed\"))\n",
       "        .catch(showError)\n",
       "        .then(() => displayChart(vegaEmbed));\n",
       "    }\n",
       "  })({\"config\": {\"view\": {\"continuousWidth\": 400, \"continuousHeight\": 300}}, \"data\": {\"name\": \"data-0144f163eb82caae046ee7ed672ec9ba\"}, \"mark\": {\"type\": \"line\", \"point\": true, \"size\": 3}, \"encoding\": {\"color\": {\"field\": \"NameYear\", \"type\": \"nominal\"}, \"tooltip\": [{\"field\": \"Sales\", \"type\": \"quantitative\"}], \"x\": {\"field\": \"Month\", \"sort\": [\"Enero\", \"Febrero\", \"Marzo\", \"Abril\", \"Mayo\", \"Junio\", \"Julio\", \"Agosto\", \"Septiembre\", \"Octubre\", \"Noviembre\", \"Diciembre\"], \"title\": \"\", \"type\": \"ordinal\"}, \"y\": {\"field\": \"Sales\", \"title\": \"Ventas en Millones de D\\u00f3lares\", \"type\": \"quantitative\"}}, \"height\": 250, \"title\": \"Ventas obtenidas por Mes\", \"transform\": [{\"window\": [{\"op\": \"rank\", \"field\": \"\", \"as\": \"rank\"}], \"groupby\": [\"Month\"]}], \"width\": 500, \"$schema\": \"https://vega.github.io/schema/vega-lite/v4.17.0.json\", \"datasets\": {\"data-0144f163eb82caae046ee7ed672ec9ba\": [{\"Month\": \"Enero\", \"NameYear\": 2017, \"Sales\": 0.0}, {\"Month\": \"Febrero\", \"NameYear\": 2017, \"Sales\": 0.0}, {\"Month\": \"Marzo\", \"NameYear\": 2017, \"Sales\": 0.0}, {\"Month\": \"Abril\", \"NameYear\": 2017, \"Sales\": 0.0}, {\"Month\": \"Mayo\", \"NameYear\": 2017, \"Sales\": 0.0}, {\"Month\": \"Junio\", \"NameYear\": 2017, \"Sales\": 0.0}, {\"Month\": \"Julio\", \"NameYear\": 2017, \"Sales\": 0.0}, {\"Month\": \"Agosto\", \"NameYear\": 2017, \"Sales\": 0.0}, {\"Month\": \"Septiembre\", \"NameYear\": 2017, \"Sales\": 0.0}, {\"Month\": \"Octubre\", \"NameYear\": 2017, \"Sales\": 0.0}, {\"Month\": \"Noviembre\", \"NameYear\": 2017, \"Sales\": 0.0}, {\"Month\": \"Diciembre\", \"NameYear\": 2017, \"Sales\": 1128.2677328}, {\"Month\": \"Enero\", \"NameYear\": 2018, \"Sales\": 1466.2570824}, {\"Month\": \"Febrero\", \"NameYear\": 2018, \"Sales\": 1350.8496318333334}, {\"Month\": \"Marzo\", \"NameYear\": 2018, \"Sales\": 1370.9444919958332}, {\"Month\": \"Abril\", \"NameYear\": 2018, \"Sales\": 1379.2965840625}, {\"Month\": \"Mayo\", \"NameYear\": 2018, \"Sales\": 1455.7719452499998}, {\"Month\": \"Junio\", \"NameYear\": 2018, \"Sales\": 1340.79436631}, {\"Month\": \"Julio\", \"NameYear\": 2018, \"Sales\": 1314.81537105}, {\"Month\": \"Agosto\", \"NameYear\": 2018, \"Sales\": 1310.496136025}, {\"Month\": \"Septiembre\", \"NameYear\": 2018, \"Sales\": 1335.17178896875}, {\"Month\": \"Octubre\", \"NameYear\": 2018, \"Sales\": 1284.0285723499999}, {\"Month\": \"Noviembre\", \"NameYear\": 2018, \"Sales\": 1347.0740883583333}, {\"Month\": \"Diciembre\", \"NameYear\": 2018, \"Sales\": 1345.55983621875}, {\"Month\": \"Enero\", \"NameYear\": 2019, \"Sales\": 1334.8400542083334}, {\"Month\": \"Febrero\", \"NameYear\": 2019, \"Sales\": 1395.901325615}, {\"Month\": \"Marzo\", \"NameYear\": 2019, \"Sales\": 1298.2560295624999}, {\"Month\": \"Abril\", \"NameYear\": 2019, \"Sales\": 1243.2863178625}, {\"Month\": \"Mayo\", \"NameYear\": 2019, \"Sales\": 1362.156600775}, {\"Month\": \"Junio\", \"NameYear\": 2019, \"Sales\": 1279.2699950800002}, {\"Month\": \"Julio\", \"NameYear\": 2019, \"Sales\": 1412.312817}, {\"Month\": \"Agosto\", \"NameYear\": 2019, \"Sales\": 1320.1125890624999}, {\"Month\": \"Septiembre\", \"NameYear\": 2019, \"Sales\": 1368.5058301749998}, {\"Month\": \"Octubre\", \"NameYear\": 2019, \"Sales\": 1424.1137949583333}, {\"Month\": \"Noviembre\", \"NameYear\": 2019, \"Sales\": 1338.73853504375}, {\"Month\": \"Diciembre\", \"NameYear\": 2019, \"Sales\": 1398.11844745}, {\"Month\": \"Enero\", \"NameYear\": 2020, \"Sales\": 1402.59478381875}, {\"Month\": \"Febrero\", \"NameYear\": 2020, \"Sales\": 1397.85869105}, {\"Month\": \"Marzo\", \"NameYear\": 2020, \"Sales\": 1292.582808275}, {\"Month\": \"Abril\", \"NameYear\": 2020, \"Sales\": 1370.3084756}, {\"Month\": \"Mayo\", \"NameYear\": 2020, \"Sales\": 1237.3269894}, {\"Month\": \"Junio\", \"NameYear\": 2020, \"Sales\": 1346.7788678562501}, {\"Month\": \"Julio\", \"NameYear\": 2020, \"Sales\": 1361.00410059375}, {\"Month\": \"Agosto\", \"NameYear\": 2020, \"Sales\": 1361.844249705}, {\"Month\": \"Septiembre\", \"NameYear\": 2020, \"Sales\": 1322.2445728333335}, {\"Month\": \"Octubre\", \"NameYear\": 2020, \"Sales\": 1358.9675664375}, {\"Month\": \"Noviembre\", \"NameYear\": 2020, \"Sales\": 1355.3349651874998}, {\"Month\": \"Diciembre\", \"NameYear\": 2020, \"Sales\": 1293.37334284375}, {\"Month\": \"Enero\", \"NameYear\": 2021, \"Sales\": 1284.3576998181818}, {\"Month\": \"Febrero\", \"NameYear\": 2021, \"Sales\": 1095.7175167333332}, {\"Month\": \"Marzo\", \"NameYear\": 2021, \"Sales\": 0.0}, {\"Month\": \"Abril\", \"NameYear\": 2021, \"Sales\": 0.0}, {\"Month\": \"Mayo\", \"NameYear\": 2021, \"Sales\": 0.0}, {\"Month\": \"Junio\", \"NameYear\": 2021, \"Sales\": 1182.3671933333333}, {\"Month\": \"Julio\", \"NameYear\": 2021, \"Sales\": 0.0}, {\"Month\": \"Agosto\", \"NameYear\": 2021, \"Sales\": 0.0}, {\"Month\": \"Septiembre\", \"NameYear\": 2021, \"Sales\": 1280.98576425}, {\"Month\": \"Octubre\", \"NameYear\": 2021, \"Sales\": 0.0}, {\"Month\": \"Noviembre\", \"NameYear\": 2021, \"Sales\": 0.0}, {\"Month\": \"Diciembre\", \"NameYear\": 2021, \"Sales\": 0.0}]}}, {\"mode\": \"vega-lite\"});\n",
       "</script>"
      ],
      "text/plain": [
       "alt.Chart(...)"
      ]
     },
     "execution_count": 17,
     "metadata": {},
     "output_type": "execute_result"
    }
   ],
   "source": [
    "alt.Chart(table_temp_02).mark_line(point = True, size=3).encode(\n",
    "    x = alt.X(\"Month:O\", title=\"\", sort=['Enero','Febrero','Marzo','Abril','Mayo','Junio','Julio','Agosto','Septiembre','Octubre','Noviembre','Diciembre']),\n",
    "    y=alt.Y(\"Sales:Q\", title='Ventas en Millones de Dólares'),\n",
    "    tooltip=[alt.Tooltip('Sales')],\n",
    "    color=alt.Color(\"NameYear:N\")\n",
    ").transform_window(\n",
    "    rank=\"rank()\",\n",
    "    groupby=[\"Month\"]\n",
    ").properties(\n",
    "    title=\"Ventas obtenidas por Mes\",\n",
    "    width=500,\n",
    "    height=250,\n",
    ")"
   ]
  },
  {
   "cell_type": "markdown",
   "id": "2c450231",
   "metadata": {},
   "source": [
    "1. Los datos contienen únicamente las **ventas obtendidas en el último mes del año 2017**.\n",
    "2. El año 2021 tiene solamente registra **ventas en los meses de Enero, Febrero, Junio y Septiembre**.\n",
    "3. Los años **2018, 2019 y 2020** tienen unas ventas más **uniformes** que los años 2017 y 2021."
   ]
  },
  {
   "cell_type": "markdown",
   "id": "aa953573",
   "metadata": {},
   "source": [
    "#### Análisis Multivariante"
   ]
  },
  {
   "cell_type": "code",
   "execution_count": 18,
   "id": "62f7cf92",
   "metadata": {},
   "outputs": [],
   "source": [
    "corr_table = mrk_data.corr()\n",
    "corr_table = corr_table.reset_index()\n",
    "corr_table = corr_table.melt('index')\n",
    "corr_table.columns = ['variable1','variable2','correlacion']\n",
    "corr_table['corrRedondeado'] = corr_table.apply(lambda x: round(x['correlacion'], 2), axis=1 )"
   ]
  },
  {
   "cell_type": "code",
   "execution_count": 19,
   "id": "0d42e309",
   "metadata": {},
   "outputs": [],
   "source": [
    "base = alt.Chart(corr_table).mark_rect().encode(\n",
    "    x=alt.X('variable1:O',title='',axis=alt.Axis(labelFontSize=12, labelFontWeight='bold')),\n",
    "    y=alt.Y('variable2:O',title='',axis=alt.Axis(labelFontSize=12, labelFontWeight='bold')),\n",
    "    color=alt.Color('correlacion:Q', scale=alt.Scale(scheme='purples')),\n",
    "    tooltip=['variable1','variable2','correlacion']\n",
    ").properties(\n",
    "    width=300,\n",
    "    height=300\n",
    ")"
   ]
  },
  {
   "cell_type": "code",
   "execution_count": 20,
   "id": "e1b05079",
   "metadata": {},
   "outputs": [],
   "source": [
    "base = alt.Chart(corr_table).mark_rect().encode(\n",
    "    x=alt.X('variable1:O',title='',axis=alt.Axis(labelFontSize=12, labelFontWeight='bold')),\n",
    "    y=alt.Y('variable2:O',title='',axis=alt.Axis(labelFontSize=12, labelFontWeight='bold')),\n",
    "    color=alt.Color('correlacion:Q', scale=alt.Scale(scheme='purples')),\n",
    "    tooltip=['variable1','variable2','correlacion']\n",
    ").properties(\n",
    "    width=300,\n",
    "    height=300\n",
    ")"
   ]
  },
  {
   "cell_type": "code",
   "execution_count": 21,
   "id": "872f41b7",
   "metadata": {},
   "outputs": [],
   "source": [
    "text = base.mark_text().encode(\n",
    "    text='corrRedondeado',\n",
    "    color=alt.condition(\n",
    "        alt.datum.corrRedondeado > 0.8, \n",
    "        alt.value('white'),\n",
    "        alt.value('black')\n",
    "    )\n",
    ")"
   ]
  },
  {
   "cell_type": "code",
   "execution_count": 22,
   "id": "203b1a9d",
   "metadata": {
    "scrolled": false
   },
   "outputs": [
    {
     "data": {
      "text/html": [
       "\n",
       "<div id=\"altair-viz-8e2b1212f4df448fb2f74555c59524bd\"></div>\n",
       "<script type=\"text/javascript\">\n",
       "  (function(spec, embedOpt){\n",
       "    let outputDiv = document.currentScript.previousElementSibling;\n",
       "    if (outputDiv.id !== \"altair-viz-8e2b1212f4df448fb2f74555c59524bd\") {\n",
       "      outputDiv = document.getElementById(\"altair-viz-8e2b1212f4df448fb2f74555c59524bd\");\n",
       "    }\n",
       "    const paths = {\n",
       "      \"vega\": \"https://cdn.jsdelivr.net/npm//vega@5?noext\",\n",
       "      \"vega-lib\": \"https://cdn.jsdelivr.net/npm//vega-lib?noext\",\n",
       "      \"vega-lite\": \"https://cdn.jsdelivr.net/npm//vega-lite@4.17.0?noext\",\n",
       "      \"vega-embed\": \"https://cdn.jsdelivr.net/npm//vega-embed@6?noext\",\n",
       "    };\n",
       "\n",
       "    function loadScript(lib) {\n",
       "      return new Promise(function(resolve, reject) {\n",
       "        var s = document.createElement('script');\n",
       "        s.src = paths[lib];\n",
       "        s.async = true;\n",
       "        s.onload = () => resolve(paths[lib]);\n",
       "        s.onerror = () => reject(`Error loading script: ${paths[lib]}`);\n",
       "        document.getElementsByTagName(\"head\")[0].appendChild(s);\n",
       "      });\n",
       "    }\n",
       "\n",
       "    function showError(err) {\n",
       "      outputDiv.innerHTML = `<div class=\"error\" style=\"color:red;\">${err}</div>`;\n",
       "      throw err;\n",
       "    }\n",
       "\n",
       "    function displayChart(vegaEmbed) {\n",
       "      vegaEmbed(outputDiv, spec, embedOpt)\n",
       "        .catch(err => showError(`Javascript Error: ${err.message}<br>This usually means there's a typo in your chart specification. See the javascript console for the full traceback.`));\n",
       "    }\n",
       "\n",
       "    if(typeof define === \"function\" && define.amd) {\n",
       "      requirejs.config({paths});\n",
       "      require([\"vega-embed\"], displayChart, err => showError(`Error loading script: ${err.message}`));\n",
       "    } else if (typeof vegaEmbed === \"function\") {\n",
       "      displayChart(vegaEmbed);\n",
       "    } else {\n",
       "      loadScript(\"vega\")\n",
       "        .then(() => loadScript(\"vega-lite\"))\n",
       "        .then(() => loadScript(\"vega-embed\"))\n",
       "        .catch(showError)\n",
       "        .then(() => displayChart(vegaEmbed));\n",
       "    }\n",
       "  })({\"config\": {\"view\": {\"continuousWidth\": 400, \"continuousHeight\": 300}}, \"layer\": [{\"mark\": \"rect\", \"encoding\": {\"color\": {\"field\": \"correlacion\", \"scale\": {\"scheme\": \"purples\"}, \"type\": \"quantitative\"}, \"tooltip\": [{\"field\": \"variable1\", \"type\": \"nominal\"}, {\"field\": \"variable2\", \"type\": \"nominal\"}, {\"field\": \"correlacion\", \"type\": \"quantitative\"}], \"x\": {\"axis\": {\"labelFontSize\": 12, \"labelFontWeight\": \"bold\"}, \"field\": \"variable1\", \"title\": \"\", \"type\": \"ordinal\"}, \"y\": {\"axis\": {\"labelFontSize\": 12, \"labelFontWeight\": \"bold\"}, \"field\": \"variable2\", \"title\": \"\", \"type\": \"ordinal\"}}, \"height\": 300, \"width\": 300}, {\"mark\": \"text\", \"encoding\": {\"color\": {\"condition\": {\"value\": \"white\", \"test\": \"(datum.corrRedondeado > 0.8)\"}, \"value\": \"black\"}, \"text\": {\"field\": \"corrRedondeado\", \"type\": \"quantitative\"}, \"tooltip\": [{\"field\": \"variable1\", \"type\": \"nominal\"}, {\"field\": \"variable2\", \"type\": \"nominal\"}, {\"field\": \"correlacion\", \"type\": \"quantitative\"}], \"x\": {\"axis\": {\"labelFontSize\": 12, \"labelFontWeight\": \"bold\"}, \"field\": \"variable1\", \"title\": \"\", \"type\": \"ordinal\"}, \"y\": {\"axis\": {\"labelFontSize\": 12, \"labelFontWeight\": \"bold\"}, \"field\": \"variable2\", \"title\": \"\", \"type\": \"ordinal\"}}, \"height\": 300, \"width\": 300}], \"data\": {\"name\": \"data-e588122497b1976213da01ff0158ce02\"}, \"$schema\": \"https://vega.github.io/schema/vega-lite/v4.17.0.json\", \"datasets\": {\"data-e588122497b1976213da01ff0158ce02\": [{\"variable1\": \"TV\", \"variable2\": \"TV\", \"correlacion\": 1.0, \"corrRedondeado\": 1.0}, {\"variable1\": \"Radio\", \"variable2\": \"TV\", \"correlacion\": 0.8600471919801229, \"corrRedondeado\": 0.86}, {\"variable1\": \"Social Media\", \"variable2\": \"TV\", \"correlacion\": 0.5550550102322347, \"corrRedondeado\": 0.56}, {\"variable1\": \"Sales\", \"variable2\": \"TV\", \"correlacion\": 0.9890379335644763, \"corrRedondeado\": 0.99}, {\"variable1\": \"TV\", \"variable2\": \"Radio\", \"correlacion\": 0.8600471919801229, \"corrRedondeado\": 0.86}, {\"variable1\": \"Radio\", \"variable2\": \"Radio\", \"correlacion\": 1.0, \"corrRedondeado\": 1.0}, {\"variable1\": \"Social Media\", \"variable2\": \"Radio\", \"correlacion\": 0.6254814108957827, \"corrRedondeado\": 0.63}, {\"variable1\": \"Sales\", \"variable2\": \"Radio\", \"correlacion\": 0.8678542765705659, \"corrRedondeado\": 0.87}, {\"variable1\": \"TV\", \"variable2\": \"Social Media\", \"correlacion\": 0.5550550102322347, \"corrRedondeado\": 0.56}, {\"variable1\": \"Radio\", \"variable2\": \"Social Media\", \"correlacion\": 0.6254814108957827, \"corrRedondeado\": 0.63}, {\"variable1\": \"Social Media\", \"variable2\": \"Social Media\", \"correlacion\": 1.0, \"corrRedondeado\": 1.0}, {\"variable1\": \"Sales\", \"variable2\": \"Social Media\", \"correlacion\": 0.5635299297679913, \"corrRedondeado\": 0.56}, {\"variable1\": \"TV\", \"variable2\": \"Sales\", \"correlacion\": 0.9890379335644763, \"corrRedondeado\": 0.99}, {\"variable1\": \"Radio\", \"variable2\": \"Sales\", \"correlacion\": 0.8678542765705659, \"corrRedondeado\": 0.87}, {\"variable1\": \"Social Media\", \"variable2\": \"Sales\", \"correlacion\": 0.5635299297679913, \"corrRedondeado\": 0.56}, {\"variable1\": \"Sales\", \"variable2\": \"Sales\", \"correlacion\": 1.0, \"corrRedondeado\": 1.0}]}}, {\"mode\": \"vega-lite\"});\n",
       "</script>"
      ],
      "text/plain": [
       "alt.LayerChart(...)"
      ]
     },
     "execution_count": 22,
     "metadata": {},
     "output_type": "execute_result"
    }
   ],
   "source": [
    "base + text"
   ]
  },
  {
   "cell_type": "markdown",
   "id": "381a8c5e",
   "metadata": {},
   "source": [
    "→ El presupuesto de publicidad televisiva está **fuertemente relaciando** al de publicidad radiofónica."
   ]
  },
  {
   "cell_type": "markdown",
   "id": "5e41a722",
   "metadata": {},
   "source": [
    "#### Estadísticas Descriptivas"
   ]
  },
  {
   "cell_type": "code",
   "execution_count": 23,
   "id": "e9a40f6a",
   "metadata": {
    "scrolled": true
   },
   "outputs": [
    {
     "data": {
      "text/html": [
       "<div>\n",
       "<style scoped>\n",
       "    .dataframe tbody tr th:only-of-type {\n",
       "        vertical-align: middle;\n",
       "    }\n",
       "\n",
       "    .dataframe tbody tr th {\n",
       "        vertical-align: top;\n",
       "    }\n",
       "\n",
       "    .dataframe thead th {\n",
       "        text-align: right;\n",
       "    }\n",
       "</style>\n",
       "<table border=\"1\" class=\"dataframe\">\n",
       "  <thead>\n",
       "    <tr style=\"text-align: right;\">\n",
       "      <th></th>\n",
       "      <th>count</th>\n",
       "      <th>mean</th>\n",
       "      <th>std</th>\n",
       "      <th>min</th>\n",
       "      <th>25%</th>\n",
       "      <th>50%</th>\n",
       "      <th>75%</th>\n",
       "      <th>max</th>\n",
       "    </tr>\n",
       "  </thead>\n",
       "  <tbody>\n",
       "    <tr>\n",
       "      <th>TV</th>\n",
       "      <td>655.0</td>\n",
       "      <td>376.569466</td>\n",
       "      <td>70.095769</td>\n",
       "      <td>168.000000</td>\n",
       "      <td>330.000000</td>\n",
       "      <td>381.000000</td>\n",
       "      <td>426.000000</td>\n",
       "      <td>582.000000</td>\n",
       "    </tr>\n",
       "    <tr>\n",
       "      <th>Radio</th>\n",
       "      <td>655.0</td>\n",
       "      <td>126.651154</td>\n",
       "      <td>25.916728</td>\n",
       "      <td>54.290910</td>\n",
       "      <td>109.738682</td>\n",
       "      <td>127.398413</td>\n",
       "      <td>145.510209</td>\n",
       "      <td>213.556056</td>\n",
       "    </tr>\n",
       "    <tr>\n",
       "      <th>Social Media</th>\n",
       "      <td>655.0</td>\n",
       "      <td>23.171277</td>\n",
       "      <td>5.787302</td>\n",
       "      <td>4.740290</td>\n",
       "      <td>19.029863</td>\n",
       "      <td>23.026443</td>\n",
       "      <td>27.066847</td>\n",
       "      <td>44.799380</td>\n",
       "    </tr>\n",
       "    <tr>\n",
       "      <th>Sales</th>\n",
       "      <td>655.0</td>\n",
       "      <td>1341.683214</td>\n",
       "      <td>248.858195</td>\n",
       "      <td>590.336016</td>\n",
       "      <td>1178.471164</td>\n",
       "      <td>1357.921625</td>\n",
       "      <td>1518.550852</td>\n",
       "      <td>2061.018042</td>\n",
       "    </tr>\n",
       "  </tbody>\n",
       "</table>\n",
       "</div>"
      ],
      "text/plain": [
       "              count         mean         std         min          25%  \\\n",
       "TV            655.0   376.569466   70.095769  168.000000   330.000000   \n",
       "Radio         655.0   126.651154   25.916728   54.290910   109.738682   \n",
       "Social Media  655.0    23.171277    5.787302    4.740290    19.029863   \n",
       "Sales         655.0  1341.683214  248.858195  590.336016  1178.471164   \n",
       "\n",
       "                      50%          75%          max  \n",
       "TV             381.000000   426.000000   582.000000  \n",
       "Radio          127.398413   145.510209   213.556056  \n",
       "Social Media    23.026443    27.066847    44.799380  \n",
       "Sales         1357.921625  1518.550852  2061.018042  "
      ]
     },
     "execution_count": 23,
     "metadata": {},
     "output_type": "execute_result"
    }
   ],
   "source": [
    "mrk_data.describe().T"
   ]
  },
  {
   "cell_type": "markdown",
   "id": "3bd78f38",
   "metadata": {},
   "source": [
    "## ML"
   ]
  },
  {
   "cell_type": "code",
   "execution_count": null,
   "id": "de816d48",
   "metadata": {},
   "outputs": [],
   "source": []
  },
  {
   "cell_type": "code",
   "execution_count": null,
   "id": "2a3a72d2",
   "metadata": {},
   "outputs": [],
   "source": []
  },
  {
   "cell_type": "code",
   "execution_count": null,
   "id": "f83d3230",
   "metadata": {},
   "outputs": [],
   "source": []
  },
  {
   "cell_type": "code",
   "execution_count": null,
   "id": "1463e7fb",
   "metadata": {},
   "outputs": [],
   "source": []
  },
  {
   "cell_type": "code",
   "execution_count": 24,
   "id": "0ede102c",
   "metadata": {
    "scrolled": true
   },
   "outputs": [
    {
     "data": {
      "text/plain": [
       "'\\n1. Antes de pasar los presupuestos deberíamos escalarlos? resuelta\\n2. Por qué se transforma primero con el carryover y luego el saturation?\\n3. Igualmente debería considerar el one hot encoding?\\n'"
      ]
     },
     "execution_count": 24,
     "metadata": {},
     "output_type": "execute_result"
    }
   ],
   "source": [
    "'''\n",
    "1. Antes de pasar los presupuestos deberíamos escalarlos? resuelta\n",
    "2. Por qué se transforma primero con el carryover y luego el saturation?\n",
    "3. Igualmente debería considerar el one hot encoding?\n",
    "'''"
   ]
  },
  {
   "cell_type": "code",
   "execution_count": 25,
   "id": "a011f814",
   "metadata": {},
   "outputs": [
    {
     "data": {
      "text/plain": [
       "'class ExponentialSaturation: # Neto de la curva\\n    def __init__(self, a = 1.0):\\n        self.a = a\\n    def transform (self, X):\\n        return 1 - np.exp (-self.a * X) #→ 1 - e^(-a*x)'"
      ]
     },
     "execution_count": 25,
     "metadata": {},
     "output_type": "execute_result"
    }
   ],
   "source": [
    "'''class ExponentialSaturation: # Neto de la curva\n",
    "    def __init__(self, a = 1.0):\n",
    "        self.a = a\n",
    "    def transform (self, X):\n",
    "        return 1 - np.exp (-self.a * X) #→ 1 - e^(-a*x)'''"
   ]
  },
  {
   "cell_type": "code",
   "execution_count": 26,
   "id": "28711991",
   "metadata": {},
   "outputs": [],
   "source": [
    "from sklearn.base import BaseEstimator, TransformerMixin\n",
    "from sklearn.utils.validation import check_is_fitted, check_array\n",
    "\n",
    "class ExponentialSaturation (BaseEstimator, TransformerMixin):\n",
    "    def __init__ (self, a = 1.):\n",
    "        self.a = a\n",
    "    def fit(self, X, y = None):\n",
    "        X = check_array(X) \n",
    "        self._check_n_features(X, reset = True) # de BaseEstimator\n",
    "    def transform (self, X):\n",
    "        check_is_fitted (self)\n",
    "        X = check_array (X)\n",
    "        self._check_n_features (X, reset = False) # de BaseEstimator (para qué es el reset?)\n",
    "        return 1 - np.exp (-self.a * X)"
   ]
  },
  {
   "cell_type": "code",
   "execution_count": 27,
   "id": "b8076ec8",
   "metadata": {},
   "outputs": [],
   "source": [
    "from scipy.signal import convolve2d\n",
    "\n",
    "class ExponentialCarryover (BaseEstimator, TransformerMixin): \n",
    "    def __init__(self, strength = 0.5, length = 1):\n",
    "        self.strength = strength\n",
    "        self.length = length\n",
    "        \n",
    "    def fit(self, X, y = None):\n",
    "        X = check_array(X)\n",
    "        self._check_n_features(X, reset=True)\n",
    "        self.sliding_window_ = (# no sé que hace esta línea\n",
    "            self.strength ** np.arange(self.length + 1)\n",
    "        ).reshape(-1, 1)#¿Cómo es un reshape -1,1?\n",
    "        return self\n",
    "\n",
    "    def transform(self, X: np.ndarray):\n",
    "        check_is_fitted(self)\n",
    "        X = check_array(X)\n",
    "        self._check_n_features(X, reset=False)\n",
    "        convolution = convolve2d(X, self.sliding_window_) # No entiendo esta línea\n",
    "        if self.length > 0:# Por qué?\n",
    "            convolution = convolution[: -self.length]\n",
    "        return convolution"
   ]
  },
  {
   "cell_type": "code",
   "execution_count": 28,
   "id": "b7d3468f",
   "metadata": {},
   "outputs": [],
   "source": [
    "from sklearn.compose import ColumnTransformer\n",
    "from sklearn.pipeline import Pipeline\n",
    "from sklearn.linear_model import LinearRegression\n",
    "\n",
    "\n",
    "# Por ajustar \n",
    "adstock = ColumnTransformer(\n",
    "    [\n",
    "        ('tv_pipe', Pipeline([\n",
    "            ('carryover', ExponentialCarryover()),\n",
    "            ('saturation', ExponentialSaturation())\n",
    "        ]),['TV']),\n",
    "        ('radio_pipe', Pipeline([\n",
    "            ('carryover', ExponentialCarryover()),\n",
    "            ('saturation', ExponentialSaturation())\n",
    "        ]), ['Radio']),\n",
    "        ('banners_pipe', Pipeline([\n",
    "            ('carryover', ExponentialCarryover()),\n",
    "            ('saturation', ExponentialSaturation())\n",
    "        ]), ['Banners']),\n",
    "    ]\n",
    "    )\n",
    "model = Pipeline([\n",
    "        ('adstock', adstock),\n",
    "        ('regression', LinearRegression())\n",
    "    ])"
   ]
  },
  {
   "cell_type": "code",
   "execution_count": null,
   "id": "f9c6616c",
   "metadata": {},
   "outputs": [],
   "source": []
  }
 ],
 "metadata": {
  "kernelspec": {
   "display_name": "Python 3 (ipykernel)",
   "language": "python",
   "name": "python3"
  },
  "language_info": {
   "codemirror_mode": {
    "name": "ipython",
    "version": 3
   },
   "file_extension": ".py",
   "mimetype": "text/x-python",
   "name": "python",
   "nbconvert_exporter": "python",
   "pygments_lexer": "ipython3",
   "version": "3.9.5"
  }
 },
 "nbformat": 4,
 "nbformat_minor": 5
}
