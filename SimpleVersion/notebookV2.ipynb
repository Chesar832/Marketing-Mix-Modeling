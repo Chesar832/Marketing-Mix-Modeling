{
 "cells": [
  {
   "cell_type": "markdown",
   "id": "1833cb7c",
   "metadata": {},
   "source": [
    "# Marketing Modeling Mix in Python"
   ]
  },
  {
   "cell_type": "markdown",
   "id": "e7dccfef",
   "metadata": {},
   "source": [
    "![image.png](https://github.com/Chesar832/Marketing_modeling_mix/blob/main/img/marketing_banner.png?raw=true)"
   ]
  },
  {
   "cell_type": "markdown",
   "id": "60ee97b0",
   "metadata": {},
   "source": [
    "*El presente tiene por objetivo analizar la data proporcionada por Kaggle para el área de Marketing; se busca encontrar \"**Qué inversión publicitaria impulsa en mayor porporción a las ventas**\"*"
   ]
  },
  {
   "cell_type": "markdown",
   "id": "a60c2ade",
   "metadata": {},
   "source": [
    "## 📤 Librerias"
   ]
  },
  {
   "cell_type": "code",
   "execution_count": 1,
   "id": "ecbd7ab9",
   "metadata": {},
   "outputs": [],
   "source": [
    "import pandas as pd\n",
    "import numpy as np\n",
    "import datetime as dt\n",
    "from pandas_profiling import ProfileReport\n",
    "import altair as alt"
   ]
  },
  {
   "cell_type": "markdown",
   "id": "1453a138",
   "metadata": {},
   "source": [
    "## 💾 Carga de datos"
   ]
  },
  {
   "cell_type": "code",
   "execution_count": 2,
   "id": "07cb418d",
   "metadata": {},
   "outputs": [],
   "source": [
    "mrk_data = pd.read_csv('data/new_dataset.csv', delimiter=';')"
   ]
  },
  {
   "cell_type": "code",
   "execution_count": 3,
   "id": "57416643",
   "metadata": {},
   "outputs": [
    {
     "data": {
      "text/html": [
       "<div>\n",
       "<style scoped>\n",
       "    .dataframe tbody tr th:only-of-type {\n",
       "        vertical-align: middle;\n",
       "    }\n",
       "\n",
       "    .dataframe tbody tr th {\n",
       "        vertical-align: top;\n",
       "    }\n",
       "\n",
       "    .dataframe thead th {\n",
       "        text-align: right;\n",
       "    }\n",
       "</style>\n",
       "<table border=\"1\" class=\"dataframe\">\n",
       "  <thead>\n",
       "    <tr style=\"text-align: right;\">\n",
       "      <th></th>\n",
       "      <th>WeekDate</th>\n",
       "      <th>Influencer</th>\n",
       "      <th>TV</th>\n",
       "      <th>Radio</th>\n",
       "      <th>Social Media</th>\n",
       "      <th>Sales</th>\n",
       "    </tr>\n",
       "  </thead>\n",
       "  <tbody>\n",
       "    <tr>\n",
       "      <th>0</th>\n",
       "      <td>30/12/2017</td>\n",
       "      <td>Macro</td>\n",
       "      <td>444</td>\n",
       "      <td>157.102423</td>\n",
       "      <td>23.130040</td>\n",
       "      <td>1575.835702</td>\n",
       "    </tr>\n",
       "    <tr>\n",
       "      <th>1</th>\n",
       "      <td>30/12/2017</td>\n",
       "      <td>Mega</td>\n",
       "      <td>195</td>\n",
       "      <td>71.755979</td>\n",
       "      <td>18.409851</td>\n",
       "      <td>704.004553</td>\n",
       "    </tr>\n",
       "    <tr>\n",
       "      <th>2</th>\n",
       "      <td>30/12/2017</td>\n",
       "      <td>Micro</td>\n",
       "      <td>271</td>\n",
       "      <td>86.655446</td>\n",
       "      <td>17.237855</td>\n",
       "      <td>975.461079</td>\n",
       "    </tr>\n",
       "    <tr>\n",
       "      <th>3</th>\n",
       "      <td>30/12/2017</td>\n",
       "      <td>Nano</td>\n",
       "      <td>354</td>\n",
       "      <td>123.827561</td>\n",
       "      <td>21.400000</td>\n",
       "      <td>1257.769598</td>\n",
       "    </tr>\n",
       "    <tr>\n",
       "      <th>4</th>\n",
       "      <td>6/01/2018</td>\n",
       "      <td>Macro</td>\n",
       "      <td>268</td>\n",
       "      <td>90.588322</td>\n",
       "      <td>12.709750</td>\n",
       "      <td>943.382384</td>\n",
       "    </tr>\n",
       "  </tbody>\n",
       "</table>\n",
       "</div>"
      ],
      "text/plain": [
       "     WeekDate Influencer   TV       Radio  Social Media        Sales\n",
       "0  30/12/2017      Macro  444  157.102423     23.130040  1575.835702\n",
       "1  30/12/2017       Mega  195   71.755979     18.409851   704.004553\n",
       "2  30/12/2017      Micro  271   86.655446     17.237855   975.461079\n",
       "3  30/12/2017       Nano  354  123.827561     21.400000  1257.769598\n",
       "4   6/01/2018      Macro  268   90.588322     12.709750   943.382384"
      ]
     },
     "execution_count": 3,
     "metadata": {},
     "output_type": "execute_result"
    }
   ],
   "source": [
    "mrk_data.head(5)"
   ]
  },
  {
   "cell_type": "markdown",
   "id": "11e0005f",
   "metadata": {},
   "source": [
    "## 📊 EDA"
   ]
  },
  {
   "cell_type": "markdown",
   "id": "acdd30ee",
   "metadata": {},
   "source": [
    "El [dataset](https://docs.google.com/spreadsheets/d/1d_XEzDSvhkfWHeNj3Ux5Y5KerjYGEDDB/edit?usp=sharing&ouid=100459174823708459699&rtpof=true&sd=true) con el que se va a trabajar contiene las siguientes variables:"
   ]
  },
  {
   "cell_type": "markdown",
   "id": "bcb27ccb",
   "metadata": {},
   "source": [
    "|  **VARIABLE**  |                                          **DESCRIPCIÓN**                                      |\n",
    "| :---           |                                                                                               | \n",
    "| WeekDate       | Fecha de la semana en la que se culminó la promoción                                          |\n",
    "| TV             | Presupuesto de promoción televisiva *(en millones)*                                           |\n",
    "| Social Media   | Presupuesto de promoción de redes sociales *(en millones)*                                    |\n",
    "| Radio          | Presupuesto de promoción radiofónica *(en millones)*                                          |\n",
    "| Influencer     | Tipo de influencer con el que colabora en la promoción (Mega, Macro, Nano o Micro influencer) |\n",
    "| Sales          | Ventas obtenidas *(en millones)*                                                              |"
   ]
  },
  {
   "cell_type": "code",
   "execution_count": 4,
   "id": "73260ddb",
   "metadata": {
    "scrolled": true
   },
   "outputs": [
    {
     "name": "stdout",
     "output_type": "stream",
     "text": [
      "<class 'pandas.core.frame.DataFrame'>\n",
      "RangeIndex: 655 entries, 0 to 654\n",
      "Data columns (total 6 columns):\n",
      " #   Column        Non-Null Count  Dtype  \n",
      "---  ------        --------------  -----  \n",
      " 0   WeekDate      655 non-null    object \n",
      " 1   Influencer    655 non-null    object \n",
      " 2   TV            655 non-null    int64  \n",
      " 3   Radio         655 non-null    float64\n",
      " 4   Social Media  655 non-null    float64\n",
      " 5   Sales         655 non-null    float64\n",
      "dtypes: float64(3), int64(1), object(2)\n",
      "memory usage: 30.8+ KB\n"
     ]
    }
   ],
   "source": [
    "mrk_data.info()"
   ]
  },
  {
   "cell_type": "markdown",
   "id": "a5e0cba0",
   "metadata": {},
   "source": [
    "Observaciones:\n",
    "1. No existen valores nulos en ningún registro.\n",
    "2. Se tienen únicamente 655 registros.\n",
    "3. Las variable WeekDate tiene un formato incorrecto para la realización del análisis."
   ]
  },
  {
   "cell_type": "markdown",
   "id": "edcead1d",
   "metadata": {},
   "source": [
    "### Corrigiendo formatos"
   ]
  },
  {
   "cell_type": "code",
   "execution_count": 5,
   "id": "c147a508",
   "metadata": {},
   "outputs": [],
   "source": [
    "mrk_data['WeekDate'] = pd.to_datetime(mrk_data['WeekDate'])"
   ]
  },
  {
   "cell_type": "code",
   "execution_count": 6,
   "id": "ff411db8",
   "metadata": {
    "scrolled": true
   },
   "outputs": [
    {
     "name": "stdout",
     "output_type": "stream",
     "text": [
      "<class 'pandas.core.frame.DataFrame'>\n",
      "RangeIndex: 655 entries, 0 to 654\n",
      "Data columns (total 6 columns):\n",
      " #   Column        Non-Null Count  Dtype         \n",
      "---  ------        --------------  -----         \n",
      " 0   WeekDate      655 non-null    datetime64[ns]\n",
      " 1   Influencer    655 non-null    object        \n",
      " 2   TV            655 non-null    int64         \n",
      " 3   Radio         655 non-null    float64       \n",
      " 4   Social Media  655 non-null    float64       \n",
      " 5   Sales         655 non-null    float64       \n",
      "dtypes: datetime64[ns](1), float64(3), int64(1), object(1)\n",
      "memory usage: 30.8+ KB\n"
     ]
    }
   ],
   "source": [
    "mrk_data.info()"
   ]
  },
  {
   "cell_type": "markdown",
   "id": "e4f421a6",
   "metadata": {},
   "source": [
    "Ahora el formato de la variable Weekdate es el adecuado."
   ]
  },
  {
   "cell_type": "markdown",
   "id": "4d3a8609",
   "metadata": {},
   "source": [
    "### Generando el reporte"
   ]
  },
  {
   "cell_type": "code",
   "execution_count": 7,
   "id": "f56d4bca",
   "metadata": {},
   "outputs": [
    {
     "data": {
      "application/vnd.jupyter.widget-view+json": {
       "model_id": "71aa2b8fe1724b43a4faa19a8a95d10d",
       "version_major": 2,
       "version_minor": 0
      },
      "text/plain": [
       "Summarize dataset:   0%|          | 0/5 [00:00<?, ?it/s]"
      ]
     },
     "metadata": {},
     "output_type": "display_data"
    },
    {
     "data": {
      "application/vnd.jupyter.widget-view+json": {
       "model_id": "ea03514dda944844914ed6e4e1dee577",
       "version_major": 2,
       "version_minor": 0
      },
      "text/plain": [
       "Generate report structure:   0%|          | 0/1 [00:00<?, ?it/s]"
      ]
     },
     "metadata": {},
     "output_type": "display_data"
    },
    {
     "data": {
      "application/vnd.jupyter.widget-view+json": {
       "model_id": "df7a10f4bdc748e49d5a21efbd0594bb",
       "version_major": 2,
       "version_minor": 0
      },
      "text/plain": [
       "Render HTML:   0%|          | 0/1 [00:00<?, ?it/s]"
      ]
     },
     "metadata": {},
     "output_type": "display_data"
    },
    {
     "data": {
      "application/vnd.jupyter.widget-view+json": {
       "model_id": "c619eccdaec248368f202d45a3ed5b52",
       "version_major": 2,
       "version_minor": 0
      },
      "text/plain": [
       "Export report to file:   0%|          | 0/1 [00:00<?, ?it/s]"
      ]
     },
     "metadata": {},
     "output_type": "display_data"
    }
   ],
   "source": [
    "report = ProfileReport(mrk_data, title=\"Marketing modeling mix\", explorative=True)\n",
    "report.to_file(\"marketing-report.html\")"
   ]
  },
  {
   "cell_type": "markdown",
   "id": "be88e1b1",
   "metadata": {},
   "source": [
    "Del reporte generado:\n",
    "- Ninguna variable contiene valores faltantes.\n",
    "- No existen filas que contengan valores duplicados.\n",
    "- Las variables TV e influencer están fuertemente correlacionadas(esto puede ser ocasionado por la naturaleza publicitaria de los influencers en los medios audiovisuales).\n",
    "- La distribución de los tipos de influencers es casi simétrica.\n",
    "- La distribución de los presupuestos de publicidad televisiva, radiofónica, por redes sociales y las ventas es casi simétrica.\n",
    "- Los presupuestos para marketing televisivo están más fuertemente relacionados a las ventas generadas que las otras variables."
   ]
  },
  {
   "cell_type": "code",
   "execution_count": 8,
   "id": "771ed079",
   "metadata": {},
   "outputs": [
    {
     "data": {
      "text/html": [
       "<div>\n",
       "<style scoped>\n",
       "    .dataframe tbody tr th:only-of-type {\n",
       "        vertical-align: middle;\n",
       "    }\n",
       "\n",
       "    .dataframe tbody tr th {\n",
       "        vertical-align: top;\n",
       "    }\n",
       "\n",
       "    .dataframe thead th {\n",
       "        text-align: right;\n",
       "    }\n",
       "</style>\n",
       "<table border=\"1\" class=\"dataframe\">\n",
       "  <thead>\n",
       "    <tr style=\"text-align: right;\">\n",
       "      <th></th>\n",
       "      <th>count</th>\n",
       "      <th>mean</th>\n",
       "      <th>std</th>\n",
       "      <th>min</th>\n",
       "      <th>25%</th>\n",
       "      <th>50%</th>\n",
       "      <th>75%</th>\n",
       "      <th>max</th>\n",
       "    </tr>\n",
       "  </thead>\n",
       "  <tbody>\n",
       "    <tr>\n",
       "      <th>TV</th>\n",
       "      <td>655.0</td>\n",
       "      <td>376.569466</td>\n",
       "      <td>70.095769</td>\n",
       "      <td>168.000000</td>\n",
       "      <td>330.000000</td>\n",
       "      <td>381.000000</td>\n",
       "      <td>426.000000</td>\n",
       "      <td>582.000000</td>\n",
       "    </tr>\n",
       "    <tr>\n",
       "      <th>Radio</th>\n",
       "      <td>655.0</td>\n",
       "      <td>126.651154</td>\n",
       "      <td>25.916728</td>\n",
       "      <td>54.290910</td>\n",
       "      <td>109.738682</td>\n",
       "      <td>127.398413</td>\n",
       "      <td>145.510209</td>\n",
       "      <td>213.556056</td>\n",
       "    </tr>\n",
       "    <tr>\n",
       "      <th>Social Media</th>\n",
       "      <td>655.0</td>\n",
       "      <td>23.171277</td>\n",
       "      <td>5.787302</td>\n",
       "      <td>4.740290</td>\n",
       "      <td>19.029863</td>\n",
       "      <td>23.026443</td>\n",
       "      <td>27.066847</td>\n",
       "      <td>44.799380</td>\n",
       "    </tr>\n",
       "    <tr>\n",
       "      <th>Sales</th>\n",
       "      <td>655.0</td>\n",
       "      <td>1341.683214</td>\n",
       "      <td>248.858195</td>\n",
       "      <td>590.336016</td>\n",
       "      <td>1178.471164</td>\n",
       "      <td>1357.921625</td>\n",
       "      <td>1518.550852</td>\n",
       "      <td>2061.018042</td>\n",
       "    </tr>\n",
       "  </tbody>\n",
       "</table>\n",
       "</div>"
      ],
      "text/plain": [
       "              count         mean         std         min          25%  \\\n",
       "TV            655.0   376.569466   70.095769  168.000000   330.000000   \n",
       "Radio         655.0   126.651154   25.916728   54.290910   109.738682   \n",
       "Social Media  655.0    23.171277    5.787302    4.740290    19.029863   \n",
       "Sales         655.0  1341.683214  248.858195  590.336016  1178.471164   \n",
       "\n",
       "                      50%          75%          max  \n",
       "TV             381.000000   426.000000   582.000000  \n",
       "Radio          127.398413   145.510209   213.556056  \n",
       "Social Media    23.026443    27.066847    44.799380  \n",
       "Sales         1357.921625  1518.550852  2061.018042  "
      ]
     },
     "execution_count": 8,
     "metadata": {},
     "output_type": "execute_result"
    }
   ],
   "source": [
    "mrk_data.describe().T"
   ]
  },
  {
   "cell_type": "markdown",
   "id": "497aae84",
   "metadata": {},
   "source": [
    "## ✂ División del dataset"
   ]
  },
  {
   "cell_type": "code",
   "execution_count": 9,
   "id": "a3f0dfcd",
   "metadata": {},
   "outputs": [],
   "source": [
    "mrk_data_for_ML = mrk_data[['TV','Radio','Social Media','Influencer','Sales']]\n",
    "mrk_data_for_ML['Year'] = mrk_data['WeekDate'].dt.year\n",
    "mrk_data_for_ML['Month'] = mrk_data['WeekDate'].dt.month\n",
    "mrk_data_for_ML['Day'] = mrk_data['WeekDate'].dt.day"
   ]
  },
  {
   "cell_type": "code",
   "execution_count": 10,
   "id": "12e81619",
   "metadata": {},
   "outputs": [
    {
     "data": {
      "text/html": [
       "<div>\n",
       "<style scoped>\n",
       "    .dataframe tbody tr th:only-of-type {\n",
       "        vertical-align: middle;\n",
       "    }\n",
       "\n",
       "    .dataframe tbody tr th {\n",
       "        vertical-align: top;\n",
       "    }\n",
       "\n",
       "    .dataframe thead th {\n",
       "        text-align: right;\n",
       "    }\n",
       "</style>\n",
       "<table border=\"1\" class=\"dataframe\">\n",
       "  <thead>\n",
       "    <tr style=\"text-align: right;\">\n",
       "      <th></th>\n",
       "      <th>TV</th>\n",
       "      <th>Radio</th>\n",
       "      <th>Social Media</th>\n",
       "      <th>Influencer</th>\n",
       "      <th>Sales</th>\n",
       "      <th>Year</th>\n",
       "      <th>Month</th>\n",
       "      <th>Day</th>\n",
       "    </tr>\n",
       "  </thead>\n",
       "  <tbody>\n",
       "    <tr>\n",
       "      <th>498</th>\n",
       "      <td>353</td>\n",
       "      <td>95.808682</td>\n",
       "      <td>11.227599</td>\n",
       "      <td>Micro</td>\n",
       "      <td>1252.466076</td>\n",
       "      <td>2020</td>\n",
       "      <td>5</td>\n",
       "      <td>16</td>\n",
       "    </tr>\n",
       "    <tr>\n",
       "      <th>437</th>\n",
       "      <td>291</td>\n",
       "      <td>86.762552</td>\n",
       "      <td>17.465892</td>\n",
       "      <td>Mega</td>\n",
       "      <td>1032.859885</td>\n",
       "      <td>2020</td>\n",
       "      <td>1</td>\n",
       "      <td>2</td>\n",
       "    </tr>\n",
       "    <tr>\n",
       "      <th>365</th>\n",
       "      <td>390</td>\n",
       "      <td>138.738405</td>\n",
       "      <td>29.099736</td>\n",
       "      <td>Mega</td>\n",
       "      <td>1387.767088</td>\n",
       "      <td>2019</td>\n",
       "      <td>9</td>\n",
       "      <td>28</td>\n",
       "    </tr>\n",
       "    <tr>\n",
       "      <th>536</th>\n",
       "      <td>269</td>\n",
       "      <td>100.416021</td>\n",
       "      <td>23.174249</td>\n",
       "      <td>Macro</td>\n",
       "      <td>961.382921</td>\n",
       "      <td>2020</td>\n",
       "      <td>7</td>\n",
       "      <td>25</td>\n",
       "    </tr>\n",
       "    <tr>\n",
       "      <th>398</th>\n",
       "      <td>324</td>\n",
       "      <td>110.433432</td>\n",
       "      <td>16.396152</td>\n",
       "      <td>Micro</td>\n",
       "      <td>1152.071365</td>\n",
       "      <td>2019</td>\n",
       "      <td>11</td>\n",
       "      <td>23</td>\n",
       "    </tr>\n",
       "  </tbody>\n",
       "</table>\n",
       "</div>"
      ],
      "text/plain": [
       "      TV       Radio  Social Media Influencer        Sales  Year  Month  Day\n",
       "498  353   95.808682     11.227599      Micro  1252.466076  2020      5   16\n",
       "437  291   86.762552     17.465892       Mega  1032.859885  2020      1    2\n",
       "365  390  138.738405     29.099736       Mega  1387.767088  2019      9   28\n",
       "536  269  100.416021     23.174249      Macro   961.382921  2020      7   25\n",
       "398  324  110.433432     16.396152      Micro  1152.071365  2019     11   23"
      ]
     },
     "execution_count": 10,
     "metadata": {},
     "output_type": "execute_result"
    }
   ],
   "source": [
    "mrk_data_for_ML.sample(5)"
   ]
  },
  {
   "cell_type": "code",
   "execution_count": 11,
   "id": "f53a7803",
   "metadata": {},
   "outputs": [
    {
     "name": "stdout",
     "output_type": "stream",
     "text": [
      "[524 131]\n"
     ]
    }
   ],
   "source": [
    "from sklearn.model_selection import train_test_split\n",
    "\n",
    "train, test = train_test_split(mrk_data_for_ML, test_size=0.2, shuffle=True, random_state=41)\n",
    "\n",
    "distributions= np.array([len(train), len(test)])\n",
    "print(distributions)"
   ]
  },
  {
   "cell_type": "markdown",
   "id": "29c54888",
   "metadata": {},
   "source": [
    "## 🛠 Feature Engineering"
   ]
  },
  {
   "cell_type": "markdown",
   "id": "9806457a",
   "metadata": {},
   "source": [
    "### Pipelines"
   ]
  },
  {
   "cell_type": "code",
   "execution_count": 12,
   "id": "46b9d612",
   "metadata": {},
   "outputs": [],
   "source": [
    "from sklearn.pipeline import Pipeline\n",
    "from sklearn.preprocessing import OneHotEncoder\n",
    "from sklearn.preprocessing import StandardScaler\n",
    "from sklearn.linear_model import LinearRegression\n",
    "from sklearn.compose import ColumnTransformer\n",
    "from sklearn.pipeline import FeatureUnion\n",
    "from sklearn.impute import SimpleImputer"
   ]
  },
  {
   "cell_type": "code",
   "execution_count": 13,
   "id": "9762deec",
   "metadata": {},
   "outputs": [],
   "source": [
    "# Para el one hot encoding\n",
    "one_hot_encode = ColumnTransformer([\n",
    "        ('one_hot_encode',\n",
    "        OneHotEncoder(sparse=False),\n",
    "        ['Influencer'])\n",
    "])"
   ]
  },
  {
   "cell_type": "code",
   "execution_count": 14,
   "id": "6e7512be",
   "metadata": {},
   "outputs": [],
   "source": [
    "# Para el feature scaling y el impute\n",
    "impute_and_scale = Pipeline([\n",
    "    ('impute', SimpleImputer(strategy='mean')),#Se elige la media por la distribución sin sesgos de las variables continuas\n",
    "    ('scale', StandardScaler())\n",
    "])\n",
    "\n",
    "standard_scaling = ColumnTransformer([\n",
    "    ('standard_scaling', impute_and_scale, ['TV','Radio','Social Media'])\n",
    "])"
   ]
  },
  {
   "cell_type": "code",
   "execution_count": 15,
   "id": "c4b40133",
   "metadata": {},
   "outputs": [],
   "source": [
    "# Columnas sin tranformaciones\n",
    "passthrough = ColumnTransformer([('passthrough', 'passthrough', [\"Year\",'Month','Day'])])"
   ]
  },
  {
   "cell_type": "code",
   "execution_count": 16,
   "id": "616a0884",
   "metadata": {},
   "outputs": [],
   "source": [
    "# Ensamble de todos los pipelines\n",
    "pipe = Pipeline([\n",
    "        ('features',\n",
    "        FeatureUnion([\n",
    "            ('one_hot_encode', one_hot_encode),\n",
    "            ('standard_scaling', standard_scaling),\n",
    "            ('just_pass', passthrough)\n",
    "        ]))\n",
    "])"
   ]
  },
  {
   "cell_type": "code",
   "execution_count": 17,
   "id": "3ebf7f5a",
   "metadata": {},
   "outputs": [
    {
     "data": {
      "text/html": [
       "<style>#sk-39e68e10-8f29-45d1-9cfa-28e02c3a02ea {color: black;background-color: white;}#sk-39e68e10-8f29-45d1-9cfa-28e02c3a02ea pre{padding: 0;}#sk-39e68e10-8f29-45d1-9cfa-28e02c3a02ea div.sk-toggleable {background-color: white;}#sk-39e68e10-8f29-45d1-9cfa-28e02c3a02ea label.sk-toggleable__label {cursor: pointer;display: block;width: 100%;margin-bottom: 0;padding: 0.3em;box-sizing: border-box;text-align: center;}#sk-39e68e10-8f29-45d1-9cfa-28e02c3a02ea div.sk-toggleable__content {max-height: 0;max-width: 0;overflow: hidden;text-align: left;background-color: #f0f8ff;}#sk-39e68e10-8f29-45d1-9cfa-28e02c3a02ea div.sk-toggleable__content pre {margin: 0.2em;color: black;border-radius: 0.25em;background-color: #f0f8ff;}#sk-39e68e10-8f29-45d1-9cfa-28e02c3a02ea input.sk-toggleable__control:checked~div.sk-toggleable__content {max-height: 200px;max-width: 100%;overflow: auto;}#sk-39e68e10-8f29-45d1-9cfa-28e02c3a02ea div.sk-estimator input.sk-toggleable__control:checked~label.sk-toggleable__label {background-color: #d4ebff;}#sk-39e68e10-8f29-45d1-9cfa-28e02c3a02ea div.sk-label input.sk-toggleable__control:checked~label.sk-toggleable__label {background-color: #d4ebff;}#sk-39e68e10-8f29-45d1-9cfa-28e02c3a02ea input.sk-hidden--visually {border: 0;clip: rect(1px 1px 1px 1px);clip: rect(1px, 1px, 1px, 1px);height: 1px;margin: -1px;overflow: hidden;padding: 0;position: absolute;width: 1px;}#sk-39e68e10-8f29-45d1-9cfa-28e02c3a02ea div.sk-estimator {font-family: monospace;background-color: #f0f8ff;border: 1px dotted black;border-radius: 0.25em;box-sizing: border-box;margin-bottom: 0.5em;}#sk-39e68e10-8f29-45d1-9cfa-28e02c3a02ea div.sk-estimator:hover {background-color: #d4ebff;}#sk-39e68e10-8f29-45d1-9cfa-28e02c3a02ea div.sk-parallel-item::after {content: \"\";width: 100%;border-bottom: 1px solid gray;flex-grow: 1;}#sk-39e68e10-8f29-45d1-9cfa-28e02c3a02ea div.sk-label:hover label.sk-toggleable__label {background-color: #d4ebff;}#sk-39e68e10-8f29-45d1-9cfa-28e02c3a02ea div.sk-serial::before {content: \"\";position: absolute;border-left: 1px solid gray;box-sizing: border-box;top: 2em;bottom: 0;left: 50%;}#sk-39e68e10-8f29-45d1-9cfa-28e02c3a02ea div.sk-serial {display: flex;flex-direction: column;align-items: center;background-color: white;padding-right: 0.2em;padding-left: 0.2em;}#sk-39e68e10-8f29-45d1-9cfa-28e02c3a02ea div.sk-item {z-index: 1;}#sk-39e68e10-8f29-45d1-9cfa-28e02c3a02ea div.sk-parallel {display: flex;align-items: stretch;justify-content: center;background-color: white;}#sk-39e68e10-8f29-45d1-9cfa-28e02c3a02ea div.sk-parallel::before {content: \"\";position: absolute;border-left: 1px solid gray;box-sizing: border-box;top: 2em;bottom: 0;left: 50%;}#sk-39e68e10-8f29-45d1-9cfa-28e02c3a02ea div.sk-parallel-item {display: flex;flex-direction: column;position: relative;background-color: white;}#sk-39e68e10-8f29-45d1-9cfa-28e02c3a02ea div.sk-parallel-item:first-child::after {align-self: flex-end;width: 50%;}#sk-39e68e10-8f29-45d1-9cfa-28e02c3a02ea div.sk-parallel-item:last-child::after {align-self: flex-start;width: 50%;}#sk-39e68e10-8f29-45d1-9cfa-28e02c3a02ea div.sk-parallel-item:only-child::after {width: 0;}#sk-39e68e10-8f29-45d1-9cfa-28e02c3a02ea div.sk-dashed-wrapped {border: 1px dashed gray;margin: 0 0.4em 0.5em 0.4em;box-sizing: border-box;padding-bottom: 0.4em;background-color: white;position: relative;}#sk-39e68e10-8f29-45d1-9cfa-28e02c3a02ea div.sk-label label {font-family: monospace;font-weight: bold;background-color: white;display: inline-block;line-height: 1.2em;}#sk-39e68e10-8f29-45d1-9cfa-28e02c3a02ea div.sk-label-container {position: relative;z-index: 2;text-align: center;}#sk-39e68e10-8f29-45d1-9cfa-28e02c3a02ea div.sk-container {display: inline-block;position: relative;}</style><div id=\"sk-39e68e10-8f29-45d1-9cfa-28e02c3a02ea\" class\"sk-top-container\"><div class=\"sk-container\"><div class=\"sk-item sk-dashed-wrapped\"><div class=\"sk-label-container\"><div class=\"sk-label sk-toggleable\"><input class=\"sk-toggleable__control sk-hidden--visually\" id=\"0a530e67-1a67-4a18-90ca-7100ff7e325e\" type=\"checkbox\" ><label class=\"sk-toggleable__label\" for=\"0a530e67-1a67-4a18-90ca-7100ff7e325e\">Pipeline</label><div class=\"sk-toggleable__content\"><pre>Pipeline(steps=[('features',\n",
       "                 FeatureUnion(transformer_list=[('one_hot_encode',\n",
       "                                                 ColumnTransformer(transformers=[('one_hot_encode',\n",
       "                                                                                  OneHotEncoder(sparse=False),\n",
       "                                                                                  ['Influencer'])])),\n",
       "                                                ('standard_scaling',\n",
       "                                                 ColumnTransformer(transformers=[('standard_scaling',\n",
       "                                                                                  Pipeline(steps=[('impute',\n",
       "                                                                                                   SimpleImputer()),\n",
       "                                                                                                  ('scale',\n",
       "                                                                                                   StandardScaler())]),\n",
       "                                                                                  ['TV',\n",
       "                                                                                   'Radio',\n",
       "                                                                                   'Social '\n",
       "                                                                                   'Media'])])),\n",
       "                                                ('just_pass',\n",
       "                                                 ColumnTransformer(transformers=[('passthrough',\n",
       "                                                                                  'passthrough',\n",
       "                                                                                  ['Year',\n",
       "                                                                                   'Month',\n",
       "                                                                                   'Day'])]))]))])</pre></div></div></div><div class=\"sk-serial\"><div class=\"sk-item sk-dashed-wrapped\"><div class=\"sk-label-container\"><div class=\"sk-label sk-toggleable\"><input class=\"sk-toggleable__control sk-hidden--visually\" id=\"699e3e1a-75b4-470a-95ae-606cc1406b84\" type=\"checkbox\" ><label class=\"sk-toggleable__label\" for=\"699e3e1a-75b4-470a-95ae-606cc1406b84\">features: FeatureUnion</label><div class=\"sk-toggleable__content\"><pre>FeatureUnion(transformer_list=[('one_hot_encode',\n",
       "                                ColumnTransformer(transformers=[('one_hot_encode',\n",
       "                                                                 OneHotEncoder(sparse=False),\n",
       "                                                                 ['Influencer'])])),\n",
       "                               ('standard_scaling',\n",
       "                                ColumnTransformer(transformers=[('standard_scaling',\n",
       "                                                                 Pipeline(steps=[('impute',\n",
       "                                                                                  SimpleImputer()),\n",
       "                                                                                 ('scale',\n",
       "                                                                                  StandardScaler())]),\n",
       "                                                                 ['TV', 'Radio',\n",
       "                                                                  'Social '\n",
       "                                                                  'Media'])])),\n",
       "                               ('just_pass',\n",
       "                                ColumnTransformer(transformers=[('passthrough',\n",
       "                                                                 'passthrough',\n",
       "                                                                 ['Year',\n",
       "                                                                  'Month',\n",
       "                                                                  'Day'])]))])</pre></div></div></div><div class=\"sk-parallel\"><div class=\"sk-parallel-item\"><div class=\"sk-item\"><div class=\"sk-label-container\"><div class=\"sk-label sk-toggleable\"><label>one_hot_encode</label></div></div><div class=\"sk-serial\"><div class=\"sk-item sk-dashed-wrapped\"><div class=\"sk-parallel\"><div class=\"sk-parallel-item\"><div class=\"sk-item\"><div class=\"sk-label-container\"><div class=\"sk-label sk-toggleable\"><input class=\"sk-toggleable__control sk-hidden--visually\" id=\"f88918ea-b0b8-4090-8c00-343bb4303c8c\" type=\"checkbox\" ><label class=\"sk-toggleable__label\" for=\"f88918ea-b0b8-4090-8c00-343bb4303c8c\">one_hot_encode</label><div class=\"sk-toggleable__content\"><pre>['Influencer']</pre></div></div></div><div class=\"sk-serial\"><div class=\"sk-item\"><div class=\"sk-estimator sk-toggleable\"><input class=\"sk-toggleable__control sk-hidden--visually\" id=\"aba630a8-efcc-4e85-a25f-04ac94d1ab33\" type=\"checkbox\" ><label class=\"sk-toggleable__label\" for=\"aba630a8-efcc-4e85-a25f-04ac94d1ab33\">OneHotEncoder</label><div class=\"sk-toggleable__content\"><pre>OneHotEncoder(sparse=False)</pre></div></div></div></div></div></div></div></div></div></div></div><div class=\"sk-parallel-item\"><div class=\"sk-item\"><div class=\"sk-label-container\"><div class=\"sk-label sk-toggleable\"><label>standard_scaling</label></div></div><div class=\"sk-serial\"><div class=\"sk-item sk-dashed-wrapped\"><div class=\"sk-parallel\"><div class=\"sk-parallel-item\"><div class=\"sk-item\"><div class=\"sk-label-container\"><div class=\"sk-label sk-toggleable\"><input class=\"sk-toggleable__control sk-hidden--visually\" id=\"58109da7-2c46-40d8-b9ce-bda6a5649ebc\" type=\"checkbox\" ><label class=\"sk-toggleable__label\" for=\"58109da7-2c46-40d8-b9ce-bda6a5649ebc\">standard_scaling</label><div class=\"sk-toggleable__content\"><pre>['TV', 'Radio', 'Social Media']</pre></div></div></div><div class=\"sk-serial\"><div class=\"sk-item\"><div class=\"sk-serial\"><div class=\"sk-item\"><div class=\"sk-estimator sk-toggleable\"><input class=\"sk-toggleable__control sk-hidden--visually\" id=\"9cf3722e-03b0-4a79-8fcb-3361ae48946e\" type=\"checkbox\" ><label class=\"sk-toggleable__label\" for=\"9cf3722e-03b0-4a79-8fcb-3361ae48946e\">SimpleImputer</label><div class=\"sk-toggleable__content\"><pre>SimpleImputer()</pre></div></div></div><div class=\"sk-item\"><div class=\"sk-estimator sk-toggleable\"><input class=\"sk-toggleable__control sk-hidden--visually\" id=\"d69519a6-a23d-43e9-b387-c4beaac696d0\" type=\"checkbox\" ><label class=\"sk-toggleable__label\" for=\"d69519a6-a23d-43e9-b387-c4beaac696d0\">StandardScaler</label><div class=\"sk-toggleable__content\"><pre>StandardScaler()</pre></div></div></div></div></div></div></div></div></div></div></div></div></div><div class=\"sk-parallel-item\"><div class=\"sk-item\"><div class=\"sk-label-container\"><div class=\"sk-label sk-toggleable\"><label>just_pass</label></div></div><div class=\"sk-serial\"><div class=\"sk-item sk-dashed-wrapped\"><div class=\"sk-parallel\"><div class=\"sk-parallel-item\"><div class=\"sk-item\"><div class=\"sk-label-container\"><div class=\"sk-label sk-toggleable\"><input class=\"sk-toggleable__control sk-hidden--visually\" id=\"1c4cd579-9dfe-4b97-a300-b80e2a2c2cfc\" type=\"checkbox\" ><label class=\"sk-toggleable__label\" for=\"1c4cd579-9dfe-4b97-a300-b80e2a2c2cfc\">passthrough</label><div class=\"sk-toggleable__content\"><pre>['Year', 'Month', 'Day']</pre></div></div></div><div class=\"sk-serial\"><div class=\"sk-item\"><div class=\"sk-estimator sk-toggleable\"><input class=\"sk-toggleable__control sk-hidden--visually\" id=\"7bd678fe-e802-422d-bb33-c490e9a29089\" type=\"checkbox\" ><label class=\"sk-toggleable__label\" for=\"7bd678fe-e802-422d-bb33-c490e9a29089\">passthrough</label><div class=\"sk-toggleable__content\"><pre>passthrough</pre></div></div></div></div></div></div></div></div></div></div></div></div></div></div></div></div></div>"
      ],
      "text/plain": [
       "Pipeline(steps=[('features',\n",
       "                 FeatureUnion(transformer_list=[('one_hot_encode',\n",
       "                                                 ColumnTransformer(transformers=[('one_hot_encode',\n",
       "                                                                                  OneHotEncoder(sparse=False),\n",
       "                                                                                  ['Influencer'])])),\n",
       "                                                ('standard_scaling',\n",
       "                                                 ColumnTransformer(transformers=[('standard_scaling',\n",
       "                                                                                  Pipeline(steps=[('impute',\n",
       "                                                                                                   SimpleImputer()),\n",
       "                                                                                                  ('scale',\n",
       "                                                                                                   StandardScaler())]),\n",
       "                                                                                  ['TV',\n",
       "                                                                                   'Radio',\n",
       "                                                                                   'Social '\n",
       "                                                                                   'Media'])])),\n",
       "                                                ('just_pass',\n",
       "                                                 ColumnTransformer(transformers=[('passthrough',\n",
       "                                                                                  'passthrough',\n",
       "                                                                                  ['Year',\n",
       "                                                                                   'Month',\n",
       "                                                                                   'Day'])]))]))])"
      ]
     },
     "execution_count": 17,
     "metadata": {},
     "output_type": "execute_result"
    }
   ],
   "source": [
    "from sklearn import set_config\n",
    "\n",
    "set_config(display=\"diagram\")\n",
    "pipe"
   ]
  },
  {
   "cell_type": "code",
   "execution_count": 18,
   "id": "c56518bf",
   "metadata": {},
   "outputs": [
    {
     "data": {
      "text/html": [
       "<div>\n",
       "<style scoped>\n",
       "    .dataframe tbody tr th:only-of-type {\n",
       "        vertical-align: middle;\n",
       "    }\n",
       "\n",
       "    .dataframe tbody tr th {\n",
       "        vertical-align: top;\n",
       "    }\n",
       "\n",
       "    .dataframe thead th {\n",
       "        text-align: right;\n",
       "    }\n",
       "</style>\n",
       "<table border=\"1\" class=\"dataframe\">\n",
       "  <thead>\n",
       "    <tr style=\"text-align: right;\">\n",
       "      <th></th>\n",
       "      <th>0</th>\n",
       "      <th>1</th>\n",
       "      <th>2</th>\n",
       "      <th>3</th>\n",
       "      <th>4</th>\n",
       "      <th>5</th>\n",
       "      <th>6</th>\n",
       "      <th>7</th>\n",
       "      <th>8</th>\n",
       "      <th>9</th>\n",
       "    </tr>\n",
       "  </thead>\n",
       "  <tbody>\n",
       "    <tr>\n",
       "      <th>0</th>\n",
       "      <td>0.0</td>\n",
       "      <td>0.0</td>\n",
       "      <td>1.0</td>\n",
       "      <td>0.0</td>\n",
       "      <td>1.557084</td>\n",
       "      <td>1.369182</td>\n",
       "      <td>1.898006</td>\n",
       "      <td>2018.0</td>\n",
       "      <td>9.0</td>\n",
       "      <td>6.0</td>\n",
       "    </tr>\n",
       "    <tr>\n",
       "      <th>1</th>\n",
       "      <td>0.0</td>\n",
       "      <td>1.0</td>\n",
       "      <td>0.0</td>\n",
       "      <td>0.0</td>\n",
       "      <td>-0.218506</td>\n",
       "      <td>-1.086092</td>\n",
       "      <td>0.469709</td>\n",
       "      <td>2019.0</td>\n",
       "      <td>4.0</td>\n",
       "      <td>20.0</td>\n",
       "    </tr>\n",
       "    <tr>\n",
       "      <th>2</th>\n",
       "      <td>1.0</td>\n",
       "      <td>0.0</td>\n",
       "      <td>0.0</td>\n",
       "      <td>0.0</td>\n",
       "      <td>-0.937198</td>\n",
       "      <td>-0.501318</td>\n",
       "      <td>-0.261281</td>\n",
       "      <td>2018.0</td>\n",
       "      <td>1.0</td>\n",
       "      <td>27.0</td>\n",
       "    </tr>\n",
       "    <tr>\n",
       "      <th>3</th>\n",
       "      <td>0.0</td>\n",
       "      <td>0.0</td>\n",
       "      <td>1.0</td>\n",
       "      <td>0.0</td>\n",
       "      <td>-0.162139</td>\n",
       "      <td>-0.465966</td>\n",
       "      <td>0.290526</td>\n",
       "      <td>2020.0</td>\n",
       "      <td>9.0</td>\n",
       "      <td>26.0</td>\n",
       "    </tr>\n",
       "    <tr>\n",
       "      <th>4</th>\n",
       "      <td>1.0</td>\n",
       "      <td>0.0</td>\n",
       "      <td>0.0</td>\n",
       "      <td>0.0</td>\n",
       "      <td>1.514808</td>\n",
       "      <td>1.026597</td>\n",
       "      <td>0.028726</td>\n",
       "      <td>2018.0</td>\n",
       "      <td>1.0</td>\n",
       "      <td>12.0</td>\n",
       "    </tr>\n",
       "  </tbody>\n",
       "</table>\n",
       "</div>"
      ],
      "text/plain": [
       "     0    1    2    3         4         5         6       7    8     9\n",
       "0  0.0  0.0  1.0  0.0  1.557084  1.369182  1.898006  2018.0  9.0   6.0\n",
       "1  0.0  1.0  0.0  0.0 -0.218506 -1.086092  0.469709  2019.0  4.0  20.0\n",
       "2  1.0  0.0  0.0  0.0 -0.937198 -0.501318 -0.261281  2018.0  1.0  27.0\n",
       "3  0.0  0.0  1.0  0.0 -0.162139 -0.465966  0.290526  2020.0  9.0  26.0\n",
       "4  1.0  0.0  0.0  0.0  1.514808  1.026597  0.028726  2018.0  1.0  12.0"
      ]
     },
     "execution_count": 18,
     "metadata": {},
     "output_type": "execute_result"
    }
   ],
   "source": [
    "pipe.fit(train)\n",
    "\n",
    "pd.DataFrame(pipe.transform(train)).head()"
   ]
  },
  {
   "cell_type": "code",
   "execution_count": 19,
   "id": "710fe59e",
   "metadata": {},
   "outputs": [
    {
     "data": {
      "text/html": [
       "<div>\n",
       "<style scoped>\n",
       "    .dataframe tbody tr th:only-of-type {\n",
       "        vertical-align: middle;\n",
       "    }\n",
       "\n",
       "    .dataframe tbody tr th {\n",
       "        vertical-align: top;\n",
       "    }\n",
       "\n",
       "    .dataframe thead th {\n",
       "        text-align: right;\n",
       "    }\n",
       "</style>\n",
       "<table border=\"1\" class=\"dataframe\">\n",
       "  <thead>\n",
       "    <tr style=\"text-align: right;\">\n",
       "      <th></th>\n",
       "      <th>0</th>\n",
       "      <th>1</th>\n",
       "      <th>2</th>\n",
       "      <th>3</th>\n",
       "      <th>4</th>\n",
       "      <th>5</th>\n",
       "      <th>6</th>\n",
       "      <th>7</th>\n",
       "      <th>8</th>\n",
       "      <th>9</th>\n",
       "    </tr>\n",
       "  </thead>\n",
       "  <tbody>\n",
       "    <tr>\n",
       "      <th>0</th>\n",
       "      <td>1.0</td>\n",
       "      <td>0.0</td>\n",
       "      <td>0.0</td>\n",
       "      <td>0.0</td>\n",
       "      <td>1.261152</td>\n",
       "      <td>1.073237</td>\n",
       "      <td>1.692000</td>\n",
       "      <td>2019.0</td>\n",
       "      <td>5.0</td>\n",
       "      <td>18.0</td>\n",
       "    </tr>\n",
       "    <tr>\n",
       "      <th>1</th>\n",
       "      <td>0.0</td>\n",
       "      <td>1.0</td>\n",
       "      <td>0.0</td>\n",
       "      <td>0.0</td>\n",
       "      <td>0.147885</td>\n",
       "      <td>1.953782</td>\n",
       "      <td>-0.117886</td>\n",
       "      <td>2020.0</td>\n",
       "      <td>9.0</td>\n",
       "      <td>5.0</td>\n",
       "    </tr>\n",
       "    <tr>\n",
       "      <th>2</th>\n",
       "      <td>0.0</td>\n",
       "      <td>0.0</td>\n",
       "      <td>0.0</td>\n",
       "      <td>1.0</td>\n",
       "      <td>0.260621</td>\n",
       "      <td>0.302235</td>\n",
       "      <td>-0.222939</td>\n",
       "      <td>2018.0</td>\n",
       "      <td>7.0</td>\n",
       "      <td>21.0</td>\n",
       "    </tr>\n",
       "    <tr>\n",
       "      <th>3</th>\n",
       "      <td>0.0</td>\n",
       "      <td>1.0</td>\n",
       "      <td>0.0</td>\n",
       "      <td>0.0</td>\n",
       "      <td>-0.401702</td>\n",
       "      <td>-0.729274</td>\n",
       "      <td>-0.858365</td>\n",
       "      <td>2020.0</td>\n",
       "      <td>6.0</td>\n",
       "      <td>27.0</td>\n",
       "    </tr>\n",
       "    <tr>\n",
       "      <th>4</th>\n",
       "      <td>0.0</td>\n",
       "      <td>0.0</td>\n",
       "      <td>0.0</td>\n",
       "      <td>1.0</td>\n",
       "      <td>-0.091679</td>\n",
       "      <td>0.171046</td>\n",
       "      <td>-0.449915</td>\n",
       "      <td>2019.0</td>\n",
       "      <td>4.0</td>\n",
       "      <td>5.0</td>\n",
       "    </tr>\n",
       "  </tbody>\n",
       "</table>\n",
       "</div>"
      ],
      "text/plain": [
       "     0    1    2    3         4         5         6       7    8     9\n",
       "0  1.0  0.0  0.0  0.0  1.261152  1.073237  1.692000  2019.0  5.0  18.0\n",
       "1  0.0  1.0  0.0  0.0  0.147885  1.953782 -0.117886  2020.0  9.0   5.0\n",
       "2  0.0  0.0  0.0  1.0  0.260621  0.302235 -0.222939  2018.0  7.0  21.0\n",
       "3  0.0  1.0  0.0  0.0 -0.401702 -0.729274 -0.858365  2020.0  6.0  27.0\n",
       "4  0.0  0.0  0.0  1.0 -0.091679  0.171046 -0.449915  2019.0  4.0   5.0"
      ]
     },
     "execution_count": 19,
     "metadata": {},
     "output_type": "execute_result"
    }
   ],
   "source": [
    "pd.DataFrame(pipe.transform(test)).head()"
   ]
  },
  {
   "cell_type": "markdown",
   "id": "06ba784d",
   "metadata": {},
   "source": [
    "## 📊 Modelado"
   ]
  },
  {
   "cell_type": "code",
   "execution_count": 20,
   "id": "291b2489",
   "metadata": {},
   "outputs": [],
   "source": [
    "from sklearn.linear_model import LinearRegression"
   ]
  },
  {
   "cell_type": "code",
   "execution_count": 21,
   "id": "23dbc8ea",
   "metadata": {},
   "outputs": [],
   "source": [
    "lr = LinearRegression()"
   ]
  },
  {
   "cell_type": "code",
   "execution_count": 22,
   "id": "56a4545c",
   "metadata": {},
   "outputs": [],
   "source": [
    "predicting_pipeline = Pipeline([\n",
    "    ('feature', pipe),\n",
    "    ('estimator', lr)\n",
    "])"
   ]
  },
  {
   "cell_type": "code",
   "execution_count": 23,
   "id": "7db870a7",
   "metadata": {},
   "outputs": [
    {
     "data": {
      "text/html": [
       "<style>#sk-5769c513-4713-4a75-bfb8-e470ec685cb4 {color: black;background-color: white;}#sk-5769c513-4713-4a75-bfb8-e470ec685cb4 pre{padding: 0;}#sk-5769c513-4713-4a75-bfb8-e470ec685cb4 div.sk-toggleable {background-color: white;}#sk-5769c513-4713-4a75-bfb8-e470ec685cb4 label.sk-toggleable__label {cursor: pointer;display: block;width: 100%;margin-bottom: 0;padding: 0.3em;box-sizing: border-box;text-align: center;}#sk-5769c513-4713-4a75-bfb8-e470ec685cb4 div.sk-toggleable__content {max-height: 0;max-width: 0;overflow: hidden;text-align: left;background-color: #f0f8ff;}#sk-5769c513-4713-4a75-bfb8-e470ec685cb4 div.sk-toggleable__content pre {margin: 0.2em;color: black;border-radius: 0.25em;background-color: #f0f8ff;}#sk-5769c513-4713-4a75-bfb8-e470ec685cb4 input.sk-toggleable__control:checked~div.sk-toggleable__content {max-height: 200px;max-width: 100%;overflow: auto;}#sk-5769c513-4713-4a75-bfb8-e470ec685cb4 div.sk-estimator input.sk-toggleable__control:checked~label.sk-toggleable__label {background-color: #d4ebff;}#sk-5769c513-4713-4a75-bfb8-e470ec685cb4 div.sk-label input.sk-toggleable__control:checked~label.sk-toggleable__label {background-color: #d4ebff;}#sk-5769c513-4713-4a75-bfb8-e470ec685cb4 input.sk-hidden--visually {border: 0;clip: rect(1px 1px 1px 1px);clip: rect(1px, 1px, 1px, 1px);height: 1px;margin: -1px;overflow: hidden;padding: 0;position: absolute;width: 1px;}#sk-5769c513-4713-4a75-bfb8-e470ec685cb4 div.sk-estimator {font-family: monospace;background-color: #f0f8ff;border: 1px dotted black;border-radius: 0.25em;box-sizing: border-box;margin-bottom: 0.5em;}#sk-5769c513-4713-4a75-bfb8-e470ec685cb4 div.sk-estimator:hover {background-color: #d4ebff;}#sk-5769c513-4713-4a75-bfb8-e470ec685cb4 div.sk-parallel-item::after {content: \"\";width: 100%;border-bottom: 1px solid gray;flex-grow: 1;}#sk-5769c513-4713-4a75-bfb8-e470ec685cb4 div.sk-label:hover label.sk-toggleable__label {background-color: #d4ebff;}#sk-5769c513-4713-4a75-bfb8-e470ec685cb4 div.sk-serial::before {content: \"\";position: absolute;border-left: 1px solid gray;box-sizing: border-box;top: 2em;bottom: 0;left: 50%;}#sk-5769c513-4713-4a75-bfb8-e470ec685cb4 div.sk-serial {display: flex;flex-direction: column;align-items: center;background-color: white;padding-right: 0.2em;padding-left: 0.2em;}#sk-5769c513-4713-4a75-bfb8-e470ec685cb4 div.sk-item {z-index: 1;}#sk-5769c513-4713-4a75-bfb8-e470ec685cb4 div.sk-parallel {display: flex;align-items: stretch;justify-content: center;background-color: white;}#sk-5769c513-4713-4a75-bfb8-e470ec685cb4 div.sk-parallel::before {content: \"\";position: absolute;border-left: 1px solid gray;box-sizing: border-box;top: 2em;bottom: 0;left: 50%;}#sk-5769c513-4713-4a75-bfb8-e470ec685cb4 div.sk-parallel-item {display: flex;flex-direction: column;position: relative;background-color: white;}#sk-5769c513-4713-4a75-bfb8-e470ec685cb4 div.sk-parallel-item:first-child::after {align-self: flex-end;width: 50%;}#sk-5769c513-4713-4a75-bfb8-e470ec685cb4 div.sk-parallel-item:last-child::after {align-self: flex-start;width: 50%;}#sk-5769c513-4713-4a75-bfb8-e470ec685cb4 div.sk-parallel-item:only-child::after {width: 0;}#sk-5769c513-4713-4a75-bfb8-e470ec685cb4 div.sk-dashed-wrapped {border: 1px dashed gray;margin: 0 0.4em 0.5em 0.4em;box-sizing: border-box;padding-bottom: 0.4em;background-color: white;position: relative;}#sk-5769c513-4713-4a75-bfb8-e470ec685cb4 div.sk-label label {font-family: monospace;font-weight: bold;background-color: white;display: inline-block;line-height: 1.2em;}#sk-5769c513-4713-4a75-bfb8-e470ec685cb4 div.sk-label-container {position: relative;z-index: 2;text-align: center;}#sk-5769c513-4713-4a75-bfb8-e470ec685cb4 div.sk-container {display: inline-block;position: relative;}</style><div id=\"sk-5769c513-4713-4a75-bfb8-e470ec685cb4\" class\"sk-top-container\"><div class=\"sk-container\"><div class=\"sk-item sk-dashed-wrapped\"><div class=\"sk-label-container\"><div class=\"sk-label sk-toggleable\"><input class=\"sk-toggleable__control sk-hidden--visually\" id=\"07d2b893-8871-4135-87df-dc60057a3ecb\" type=\"checkbox\" ><label class=\"sk-toggleable__label\" for=\"07d2b893-8871-4135-87df-dc60057a3ecb\">Pipeline</label><div class=\"sk-toggleable__content\"><pre>Pipeline(steps=[('feature',\n",
       "                 Pipeline(steps=[('features',\n",
       "                                  FeatureUnion(transformer_list=[('one_hot_encode',\n",
       "                                                                  ColumnTransformer(transformers=[('one_hot_encode',\n",
       "                                                                                                   OneHotEncoder(sparse=False),\n",
       "                                                                                                   ['Influencer'])])),\n",
       "                                                                 ('standard_scaling',\n",
       "                                                                  ColumnTransformer(transformers=[('standard_scaling',\n",
       "                                                                                                   Pipeline(steps=[('impute',\n",
       "                                                                                                                    SimpleImputer()),\n",
       "                                                                                                                   ('scale',\n",
       "                                                                                                                    StandardScaler())]),\n",
       "                                                                                                   ['TV',\n",
       "                                                                                                    'Radio',\n",
       "                                                                                                    'Social '\n",
       "                                                                                                    'Media'])])),\n",
       "                                                                 ('just_pass',\n",
       "                                                                  ColumnTransformer(transformers=[('passthrough',\n",
       "                                                                                                   'passthrough',\n",
       "                                                                                                   ['Year',\n",
       "                                                                                                    'Month',\n",
       "                                                                                                    'Day'])]))]))])),\n",
       "                ('estimator', LinearRegression())])</pre></div></div></div><div class=\"sk-serial\"><div class=\"sk-item\"><div class=\"sk-label-container\"><div class=\"sk-label sk-toggleable\"><input class=\"sk-toggleable__control sk-hidden--visually\" id=\"c70674d4-e2ba-4555-b17f-d179a11a4b43\" type=\"checkbox\" ><label class=\"sk-toggleable__label\" for=\"c70674d4-e2ba-4555-b17f-d179a11a4b43\">feature: Pipeline</label><div class=\"sk-toggleable__content\"><pre>Pipeline(steps=[('features',\n",
       "                 FeatureUnion(transformer_list=[('one_hot_encode',\n",
       "                                                 ColumnTransformer(transformers=[('one_hot_encode',\n",
       "                                                                                  OneHotEncoder(sparse=False),\n",
       "                                                                                  ['Influencer'])])),\n",
       "                                                ('standard_scaling',\n",
       "                                                 ColumnTransformer(transformers=[('standard_scaling',\n",
       "                                                                                  Pipeline(steps=[('impute',\n",
       "                                                                                                   SimpleImputer()),\n",
       "                                                                                                  ('scale',\n",
       "                                                                                                   StandardScaler())]),\n",
       "                                                                                  ['TV',\n",
       "                                                                                   'Radio',\n",
       "                                                                                   'Social '\n",
       "                                                                                   'Media'])])),\n",
       "                                                ('just_pass',\n",
       "                                                 ColumnTransformer(transformers=[('passthrough',\n",
       "                                                                                  'passthrough',\n",
       "                                                                                  ['Year',\n",
       "                                                                                   'Month',\n",
       "                                                                                   'Day'])]))]))])</pre></div></div></div><div class=\"sk-serial\"><div class=\"sk-item sk-dashed-wrapped\"><div class=\"sk-label-container\"><div class=\"sk-label sk-toggleable\"><input class=\"sk-toggleable__control sk-hidden--visually\" id=\"38cfb82a-0903-463a-91e7-4f48f2643c0f\" type=\"checkbox\" ><label class=\"sk-toggleable__label\" for=\"38cfb82a-0903-463a-91e7-4f48f2643c0f\">features: FeatureUnion</label><div class=\"sk-toggleable__content\"><pre>FeatureUnion(transformer_list=[('one_hot_encode',\n",
       "                                ColumnTransformer(transformers=[('one_hot_encode',\n",
       "                                                                 OneHotEncoder(sparse=False),\n",
       "                                                                 ['Influencer'])])),\n",
       "                               ('standard_scaling',\n",
       "                                ColumnTransformer(transformers=[('standard_scaling',\n",
       "                                                                 Pipeline(steps=[('impute',\n",
       "                                                                                  SimpleImputer()),\n",
       "                                                                                 ('scale',\n",
       "                                                                                  StandardScaler())]),\n",
       "                                                                 ['TV', 'Radio',\n",
       "                                                                  'Social '\n",
       "                                                                  'Media'])])),\n",
       "                               ('just_pass',\n",
       "                                ColumnTransformer(transformers=[('passthrough',\n",
       "                                                                 'passthrough',\n",
       "                                                                 ['Year',\n",
       "                                                                  'Month',\n",
       "                                                                  'Day'])]))])</pre></div></div></div><div class=\"sk-parallel\"><div class=\"sk-parallel-item\"><div class=\"sk-item\"><div class=\"sk-label-container\"><div class=\"sk-label sk-toggleable\"><label>one_hot_encode</label></div></div><div class=\"sk-serial\"><div class=\"sk-item sk-dashed-wrapped\"><div class=\"sk-parallel\"><div class=\"sk-parallel-item\"><div class=\"sk-item\"><div class=\"sk-label-container\"><div class=\"sk-label sk-toggleable\"><input class=\"sk-toggleable__control sk-hidden--visually\" id=\"51ce5196-09a9-4a51-be56-638db1075ceb\" type=\"checkbox\" ><label class=\"sk-toggleable__label\" for=\"51ce5196-09a9-4a51-be56-638db1075ceb\">one_hot_encode</label><div class=\"sk-toggleable__content\"><pre>['Influencer']</pre></div></div></div><div class=\"sk-serial\"><div class=\"sk-item\"><div class=\"sk-estimator sk-toggleable\"><input class=\"sk-toggleable__control sk-hidden--visually\" id=\"7f0237b1-f03d-4339-9e35-b14d1f404db6\" type=\"checkbox\" ><label class=\"sk-toggleable__label\" for=\"7f0237b1-f03d-4339-9e35-b14d1f404db6\">OneHotEncoder</label><div class=\"sk-toggleable__content\"><pre>OneHotEncoder(sparse=False)</pre></div></div></div></div></div></div></div></div></div></div></div><div class=\"sk-parallel-item\"><div class=\"sk-item\"><div class=\"sk-label-container\"><div class=\"sk-label sk-toggleable\"><label>standard_scaling</label></div></div><div class=\"sk-serial\"><div class=\"sk-item sk-dashed-wrapped\"><div class=\"sk-parallel\"><div class=\"sk-parallel-item\"><div class=\"sk-item\"><div class=\"sk-label-container\"><div class=\"sk-label sk-toggleable\"><input class=\"sk-toggleable__control sk-hidden--visually\" id=\"19e4ea12-f3ac-4ca4-b677-dcd81563a196\" type=\"checkbox\" ><label class=\"sk-toggleable__label\" for=\"19e4ea12-f3ac-4ca4-b677-dcd81563a196\">standard_scaling</label><div class=\"sk-toggleable__content\"><pre>['TV', 'Radio', 'Social Media']</pre></div></div></div><div class=\"sk-serial\"><div class=\"sk-item\"><div class=\"sk-serial\"><div class=\"sk-item\"><div class=\"sk-estimator sk-toggleable\"><input class=\"sk-toggleable__control sk-hidden--visually\" id=\"2addaa3d-cf4c-4db6-bbfc-b12371a63d14\" type=\"checkbox\" ><label class=\"sk-toggleable__label\" for=\"2addaa3d-cf4c-4db6-bbfc-b12371a63d14\">SimpleImputer</label><div class=\"sk-toggleable__content\"><pre>SimpleImputer()</pre></div></div></div><div class=\"sk-item\"><div class=\"sk-estimator sk-toggleable\"><input class=\"sk-toggleable__control sk-hidden--visually\" id=\"76d4671d-c4ba-438b-b3a2-10516e1c0c64\" type=\"checkbox\" ><label class=\"sk-toggleable__label\" for=\"76d4671d-c4ba-438b-b3a2-10516e1c0c64\">StandardScaler</label><div class=\"sk-toggleable__content\"><pre>StandardScaler()</pre></div></div></div></div></div></div></div></div></div></div></div></div></div><div class=\"sk-parallel-item\"><div class=\"sk-item\"><div class=\"sk-label-container\"><div class=\"sk-label sk-toggleable\"><label>just_pass</label></div></div><div class=\"sk-serial\"><div class=\"sk-item sk-dashed-wrapped\"><div class=\"sk-parallel\"><div class=\"sk-parallel-item\"><div class=\"sk-item\"><div class=\"sk-label-container\"><div class=\"sk-label sk-toggleable\"><input class=\"sk-toggleable__control sk-hidden--visually\" id=\"69bfad4d-3eca-4f55-8078-6a2f2c67f0c4\" type=\"checkbox\" ><label class=\"sk-toggleable__label\" for=\"69bfad4d-3eca-4f55-8078-6a2f2c67f0c4\">passthrough</label><div class=\"sk-toggleable__content\"><pre>['Year', 'Month', 'Day']</pre></div></div></div><div class=\"sk-serial\"><div class=\"sk-item\"><div class=\"sk-estimator sk-toggleable\"><input class=\"sk-toggleable__control sk-hidden--visually\" id=\"ec152375-ebe5-42a2-b8d5-86afe0d707dc\" type=\"checkbox\" ><label class=\"sk-toggleable__label\" for=\"ec152375-ebe5-42a2-b8d5-86afe0d707dc\">passthrough</label><div class=\"sk-toggleable__content\"><pre>passthrough</pre></div></div></div></div></div></div></div></div></div></div></div></div></div></div></div><div class=\"sk-item\"><div class=\"sk-estimator sk-toggleable\"><input class=\"sk-toggleable__control sk-hidden--visually\" id=\"1a7fa8e4-7914-4066-8b42-3d203e39b0cc\" type=\"checkbox\" ><label class=\"sk-toggleable__label\" for=\"1a7fa8e4-7914-4066-8b42-3d203e39b0cc\">LinearRegression</label><div class=\"sk-toggleable__content\"><pre>LinearRegression()</pre></div></div></div></div></div></div></div>"
      ],
      "text/plain": [
       "Pipeline(steps=[('feature',\n",
       "                 Pipeline(steps=[('features',\n",
       "                                  FeatureUnion(transformer_list=[('one_hot_encode',\n",
       "                                                                  ColumnTransformer(transformers=[('one_hot_encode',\n",
       "                                                                                                   OneHotEncoder(sparse=False),\n",
       "                                                                                                   ['Influencer'])])),\n",
       "                                                                 ('standard_scaling',\n",
       "                                                                  ColumnTransformer(transformers=[('standard_scaling',\n",
       "                                                                                                   Pipeline(steps=[('impute',\n",
       "                                                                                                                    SimpleImputer()),\n",
       "                                                                                                                   ('scale',\n",
       "                                                                                                                    StandardScaler())]),\n",
       "                                                                                                   ['TV',\n",
       "                                                                                                    'Radio',\n",
       "                                                                                                    'Social '\n",
       "                                                                                                    'Media'])])),\n",
       "                                                                 ('just_pass',\n",
       "                                                                  ColumnTransformer(transformers=[('passthrough',\n",
       "                                                                                                   'passthrough',\n",
       "                                                                                                   ['Year',\n",
       "                                                                                                    'Month',\n",
       "                                                                                                    'Day'])]))]))])),\n",
       "                ('estimator', LinearRegression())])"
      ]
     },
     "execution_count": 23,
     "metadata": {},
     "output_type": "execute_result"
    }
   ],
   "source": [
    "predicting_pipeline.fit(train, train['Sales'])"
   ]
  },
  {
   "cell_type": "code",
   "execution_count": 24,
   "id": "ed6876f3",
   "metadata": {},
   "outputs": [],
   "source": [
    "train_pred = predicting_pipeline.predict(train)\n",
    "test_pred  = predicting_pipeline.predict(test)"
   ]
  },
  {
   "cell_type": "code",
   "execution_count": 25,
   "id": "69f47e96",
   "metadata": {},
   "outputs": [
    {
     "data": {
      "text/html": [
       "<div>\n",
       "<style scoped>\n",
       "    .dataframe tbody tr th:only-of-type {\n",
       "        vertical-align: middle;\n",
       "    }\n",
       "\n",
       "    .dataframe tbody tr th {\n",
       "        vertical-align: top;\n",
       "    }\n",
       "\n",
       "    .dataframe thead th {\n",
       "        text-align: right;\n",
       "    }\n",
       "</style>\n",
       "<table border=\"1\" class=\"dataframe\">\n",
       "  <thead>\n",
       "    <tr style=\"text-align: right;\">\n",
       "      <th></th>\n",
       "      <th>Original</th>\n",
       "      <th>Predecido</th>\n",
       "    </tr>\n",
       "  </thead>\n",
       "  <tbody>\n",
       "    <tr>\n",
       "      <th>569</th>\n",
       "      <td>1038.048216</td>\n",
       "      <td>1048.150131</td>\n",
       "    </tr>\n",
       "    <tr>\n",
       "      <th>212</th>\n",
       "      <td>1364.791396</td>\n",
       "      <td>1358.777681</td>\n",
       "    </tr>\n",
       "    <tr>\n",
       "      <th>593</th>\n",
       "      <td>1070.694402</td>\n",
       "      <td>1076.947313</td>\n",
       "    </tr>\n",
       "    <tr>\n",
       "      <th>643</th>\n",
       "      <td>1201.253186</td>\n",
       "      <td>1206.253370</td>\n",
       "    </tr>\n",
       "    <tr>\n",
       "      <th>347</th>\n",
       "      <td>1438.831698</td>\n",
       "      <td>1442.717287</td>\n",
       "    </tr>\n",
       "  </tbody>\n",
       "</table>\n",
       "</div>"
      ],
      "text/plain": [
       "        Original    Predecido\n",
       "569  1038.048216  1048.150131\n",
       "212  1364.791396  1358.777681\n",
       "593  1070.694402  1076.947313\n",
       "643  1201.253186  1206.253370\n",
       "347  1438.831698  1442.717287"
      ]
     },
     "execution_count": 25,
     "metadata": {},
     "output_type": "execute_result"
    }
   ],
   "source": [
    "pd.DataFrame({'Original':test['Sales'], 'Predecido':test_pred}).sample(5)"
   ]
  },
  {
   "cell_type": "code",
   "execution_count": 26,
   "id": "9f3c565b",
   "metadata": {},
   "outputs": [
    {
     "data": {
      "text/plain": [
       "array([ 2.37173209e+00, -1.01318793e+00,  1.39355370e-01, -1.49789953e+00,\n",
       "        2.31809887e+02,  1.78424946e+01,  1.95921225e+00, -1.08029283e+00,\n",
       "       -3.65743628e-01, -2.44490447e-01])"
      ]
     },
     "execution_count": 26,
     "metadata": {},
     "output_type": "execute_result"
    }
   ],
   "source": [
    "lr.coef_"
   ]
  },
  {
   "cell_type": "markdown",
   "id": "75dfb8db",
   "metadata": {},
   "source": [
    "## 📋Evaluando el modelo"
   ]
  },
  {
   "cell_type": "code",
   "execution_count": 27,
   "id": "e1fbdbdf",
   "metadata": {},
   "outputs": [],
   "source": [
    "from sklearn import metrics"
   ]
  },
  {
   "cell_type": "code",
   "execution_count": 28,
   "id": "ef99a4ae",
   "metadata": {},
   "outputs": [],
   "source": [
    "def print_metrics(true, predicted):\n",
    "    print('-'*50)\n",
    "    mae = metrics.mean_absolute_error(true, predicted)\n",
    "    mse = metrics.mean_squared_error(true, predicted)\n",
    "    rmse = np.sqrt(metrics.mean_squared_error(true, predicted))\n",
    "    print('MAE (Mean Absolute Error):', mae)\n",
    "    print('MSE (Mean Squared Error):', mse)\n",
    "    print('RMSE (Root Mean Squared Error):', rmse)"
   ]
  },
  {
   "cell_type": "code",
   "execution_count": 29,
   "id": "26d49b47",
   "metadata": {},
   "outputs": [
    {
     "name": "stdout",
     "output_type": "stream",
     "text": [
      "EVALUANDO EL SET DE TESTEO\n",
      "--------------------------------------------------\n",
      "MAE (Mean Absolute Error): 9.337514590876587\n",
      "MSE (Mean Squared Error): 134.63973111480027\n",
      "RMSE (Root Mean Squared Error): 11.603436177046879\n"
     ]
    }
   ],
   "source": [
    "print('EVALUANDO EL SET DE TESTEO')\n",
    "print_metrics(test['Sales'], test_pred)"
   ]
  },
  {
   "cell_type": "code",
   "execution_count": 30,
   "id": "6f58568b",
   "metadata": {},
   "outputs": [
    {
     "name": "stdout",
     "output_type": "stream",
     "text": [
      "EVALUANDO EL SET DE ENTRENAMIENTO\n",
      "--------------------------------------------------\n",
      "MAE (Mean Absolute Error): 16.131739847956098\n",
      "MSE (Mean Squared Error): 1555.187243823233\n",
      "RMSE (Root Mean Squared Error): 39.43586240749951\n"
     ]
    }
   ],
   "source": [
    "print('EVALUANDO EL SET DE ENTRENAMIENTO')\n",
    "print_metrics(train['Sales'], train_pred)"
   ]
  },
  {
   "cell_type": "code",
   "execution_count": 31,
   "id": "1e20b1e7",
   "metadata": {},
   "outputs": [
    {
     "data": {
      "text/html": [
       "<div>\n",
       "<style scoped>\n",
       "    .dataframe tbody tr th:only-of-type {\n",
       "        vertical-align: middle;\n",
       "    }\n",
       "\n",
       "    .dataframe tbody tr th {\n",
       "        vertical-align: top;\n",
       "    }\n",
       "\n",
       "    .dataframe thead th {\n",
       "        text-align: right;\n",
       "    }\n",
       "</style>\n",
       "<table border=\"1\" class=\"dataframe\">\n",
       "  <thead>\n",
       "    <tr style=\"text-align: right;\">\n",
       "      <th></th>\n",
       "      <th>Sales</th>\n",
       "      <th>Sales_pred</th>\n",
       "      <th>Absolute_Dif</th>\n",
       "    </tr>\n",
       "  </thead>\n",
       "  <tbody>\n",
       "    <tr>\n",
       "      <th>94</th>\n",
       "      <td>1715.992132</td>\n",
       "      <td>1730.138858</td>\n",
       "      <td>14.146726</td>\n",
       "    </tr>\n",
       "    <tr>\n",
       "      <th>273</th>\n",
       "      <td>1291.359328</td>\n",
       "      <td>1268.105950</td>\n",
       "      <td>23.253378</td>\n",
       "    </tr>\n",
       "    <tr>\n",
       "      <th>16</th>\n",
       "      <td>1096.079007</td>\n",
       "      <td>1114.358884</td>\n",
       "      <td>18.279877</td>\n",
       "    </tr>\n",
       "    <tr>\n",
       "      <th>574</th>\n",
       "      <td>1289.100231</td>\n",
       "      <td>1288.662732</td>\n",
       "      <td>0.437499</td>\n",
       "    </tr>\n",
       "    <tr>\n",
       "      <th>192</th>\n",
       "      <td>1721.723788</td>\n",
       "      <td>1714.255368</td>\n",
       "      <td>7.468420</td>\n",
       "    </tr>\n",
       "    <tr>\n",
       "      <th>...</th>\n",
       "      <td>...</td>\n",
       "      <td>...</td>\n",
       "      <td>...</td>\n",
       "    </tr>\n",
       "    <tr>\n",
       "      <th>407</th>\n",
       "      <td>1188.777515</td>\n",
       "      <td>1180.202779</td>\n",
       "      <td>8.574736</td>\n",
       "    </tr>\n",
       "    <tr>\n",
       "      <th>601</th>\n",
       "      <td>906.979628</td>\n",
       "      <td>907.187478</td>\n",
       "      <td>0.207850</td>\n",
       "    </tr>\n",
       "    <tr>\n",
       "      <th>243</th>\n",
       "      <td>1566.771283</td>\n",
       "      <td>1559.649274</td>\n",
       "      <td>7.122009</td>\n",
       "    </tr>\n",
       "    <tr>\n",
       "      <th>321</th>\n",
       "      <td>1534.993964</td>\n",
       "      <td>1533.170547</td>\n",
       "      <td>1.823417</td>\n",
       "    </tr>\n",
       "    <tr>\n",
       "      <th>80</th>\n",
       "      <td>1469.087759</td>\n",
       "      <td>1495.348499</td>\n",
       "      <td>26.260740</td>\n",
       "    </tr>\n",
       "  </tbody>\n",
       "</table>\n",
       "<p>524 rows × 3 columns</p>\n",
       "</div>"
      ],
      "text/plain": [
       "           Sales   Sales_pred  Absolute_Dif\n",
       "94   1715.992132  1730.138858     14.146726\n",
       "273  1291.359328  1268.105950     23.253378\n",
       "16   1096.079007  1114.358884     18.279877\n",
       "574  1289.100231  1288.662732      0.437499\n",
       "192  1721.723788  1714.255368      7.468420\n",
       "..           ...          ...           ...\n",
       "407  1188.777515  1180.202779      8.574736\n",
       "601   906.979628   907.187478      0.207850\n",
       "243  1566.771283  1559.649274      7.122009\n",
       "321  1534.993964  1533.170547      1.823417\n",
       "80   1469.087759  1495.348499     26.260740\n",
       "\n",
       "[524 rows x 3 columns]"
      ]
     },
     "execution_count": 31,
     "metadata": {},
     "output_type": "execute_result"
    }
   ],
   "source": [
    "results_train = pd.DataFrame(train['Sales'])\n",
    "results_train = results_train.assign(Sales_pred=train_pred)\n",
    "results_train['Absolute_Dif'] = results_train.apply(lambda x: abs(x['Sales']-x['Sales_pred']),axis=1)\n",
    "results_train"
   ]
  },
  {
   "cell_type": "code",
   "execution_count": 32,
   "id": "e298ea0c",
   "metadata": {},
   "outputs": [
    {
     "data": {
      "text/html": [
       "\n",
       "<div id=\"altair-viz-beafea1638a24ec6b4ae9d2627923488\"></div>\n",
       "<script type=\"text/javascript\">\n",
       "  (function(spec, embedOpt){\n",
       "    let outputDiv = document.currentScript.previousElementSibling;\n",
       "    if (outputDiv.id !== \"altair-viz-beafea1638a24ec6b4ae9d2627923488\") {\n",
       "      outputDiv = document.getElementById(\"altair-viz-beafea1638a24ec6b4ae9d2627923488\");\n",
       "    }\n",
       "    const paths = {\n",
       "      \"vega\": \"https://cdn.jsdelivr.net/npm//vega@5?noext\",\n",
       "      \"vega-lib\": \"https://cdn.jsdelivr.net/npm//vega-lib?noext\",\n",
       "      \"vega-lite\": \"https://cdn.jsdelivr.net/npm//vega-lite@4.17.0?noext\",\n",
       "      \"vega-embed\": \"https://cdn.jsdelivr.net/npm//vega-embed@6?noext\",\n",
       "    };\n",
       "\n",
       "    function loadScript(lib) {\n",
       "      return new Promise(function(resolve, reject) {\n",
       "        var s = document.createElement('script');\n",
       "        s.src = paths[lib];\n",
       "        s.async = true;\n",
       "        s.onload = () => resolve(paths[lib]);\n",
       "        s.onerror = () => reject(`Error loading script: ${paths[lib]}`);\n",
       "        document.getElementsByTagName(\"head\")[0].appendChild(s);\n",
       "      });\n",
       "    }\n",
       "\n",
       "    function showError(err) {\n",
       "      outputDiv.innerHTML = `<div class=\"error\" style=\"color:red;\">${err}</div>`;\n",
       "      throw err;\n",
       "    }\n",
       "\n",
       "    function displayChart(vegaEmbed) {\n",
       "      vegaEmbed(outputDiv, spec, embedOpt)\n",
       "        .catch(err => showError(`Javascript Error: ${err.message}<br>This usually means there's a typo in your chart specification. See the javascript console for the full traceback.`));\n",
       "    }\n",
       "\n",
       "    if(typeof define === \"function\" && define.amd) {\n",
       "      requirejs.config({paths});\n",
       "      require([\"vega-embed\"], displayChart, err => showError(`Error loading script: ${err.message}`));\n",
       "    } else if (typeof vegaEmbed === \"function\") {\n",
       "      displayChart(vegaEmbed);\n",
       "    } else {\n",
       "      loadScript(\"vega\")\n",
       "        .then(() => loadScript(\"vega-lite\"))\n",
       "        .then(() => loadScript(\"vega-embed\"))\n",
       "        .catch(showError)\n",
       "        .then(() => displayChart(vegaEmbed));\n",
       "    }\n",
       "  })({\"config\": {\"view\": {\"continuousWidth\": 400, \"continuousHeight\": 300}, \"title\": {\"anchor\": \"start\", \"dx\": 45, \"dy\": -10, \"fontSize\": 20}}, \"data\": {\"name\": \"data-479eca8005f61c491b00b10678fab9a0\"}, \"mark\": {\"type\": \"bar\", \"color\": \"#1A9873\", \"stroke\": \"#000000\", \"strokeOpacity\": 0.5}, \"encoding\": {\"tooltip\": [{\"field\": \"Sales\", \"title\": \"Ventas originales\", \"type\": \"quantitative\"}, {\"field\": \"Sales_pred\", \"title\": \"Ventas predecidas\", \"type\": \"quantitative\"}, {\"field\": \"Absolute_Dif\", \"title\": \"Error absoluto\", \"type\": \"quantitative\"}], \"x\": {\"field\": \"Sales\", \"title\": \"Ventas en Millones\", \"type\": \"quantitative\"}, \"y\": {\"axis\": {\"titlePadding\": 20}, \"field\": \"Absolute_Dif\", \"title\": \"Error Absoluto en Millones\", \"type\": \"quantitative\"}}, \"height\": 300, \"title\": \"Histograma del error absoluto de las ventas en el set de entrenamiento\", \"width\": 800, \"$schema\": \"https://vega.github.io/schema/vega-lite/v4.17.0.json\", \"datasets\": {\"data-479eca8005f61c491b00b10678fab9a0\": [{\"Sales\": 1715.992132, \"Sales_pred\": 1730.1388575584792, \"Absolute_Dif\": 14.146725558479147}, {\"Sales\": 1291.359328, \"Sales_pred\": 1268.1059501040254, \"Absolute_Dif\": 23.25337789597461}, {\"Sales\": 1096.079007, \"Sales_pred\": 1114.3588843167367, \"Absolute_Dif\": 18.2798773167367}, {\"Sales\": 1289.100231, \"Sales_pred\": 1288.6627322939798, \"Absolute_Dif\": 0.43749870602005103}, {\"Sales\": 1721.723788, \"Sales_pred\": 1714.2553681282513, \"Absolute_Dif\": 7.468419871748665}, {\"Sales\": 1431.382907, \"Sales_pred\": 1451.603945276404, \"Absolute_Dif\": 20.221038276403988}, {\"Sales\": 1621.801265, \"Sales_pred\": 1335.0455327792233, \"Absolute_Dif\": 286.75573222077674}, {\"Sales\": 1585.679073, \"Sales_pred\": 1575.02936431957, \"Absolute_Dif\": 10.649708680429967}, {\"Sales\": 1471.360249, \"Sales_pred\": 1466.5306367171202, \"Absolute_Dif\": 4.829612282879907}, {\"Sales\": 1690.795857, \"Sales_pred\": 1695.9262589627567, \"Absolute_Dif\": 5.13040196275665}, {\"Sales\": 1630.728464, \"Sales_pred\": 1631.8139428201337, \"Absolute_Dif\": 1.0854788201336305}, {\"Sales\": 1784.573855, \"Sales_pred\": 1787.0386375174157, \"Absolute_Dif\": 2.4647825174156424}, {\"Sales\": 1453.533199, \"Sales_pred\": 1460.6544836275198, \"Absolute_Dif\": 7.121284627519799}, {\"Sales\": 1263.575942, \"Sales_pred\": 1260.6940941630742, \"Absolute_Dif\": 2.881847836925772}, {\"Sales\": 985.8775542, \"Sales_pred\": 1001.1927938433505, \"Absolute_Dif\": 15.315239643350537}, {\"Sales\": 1217.638907, \"Sales_pred\": 1226.9833642525455, \"Absolute_Dif\": 9.344457252545453}, {\"Sales\": 1334.236026, \"Sales_pred\": 1329.5569285363886, \"Absolute_Dif\": 4.67909746361147}, {\"Sales\": 1875.871682, \"Sales_pred\": 1871.7039135657362, \"Absolute_Dif\": 4.167768434263735}, {\"Sales\": 1691.856747, \"Sales_pred\": 1674.6286701472404, \"Absolute_Dif\": 17.228076852759614}, {\"Sales\": 1342.789387, \"Sales_pred\": 1341.9060496756638, \"Absolute_Dif\": 0.883337324336253}, {\"Sales\": 1490.121696, \"Sales_pred\": 1495.4769286952255, \"Absolute_Dif\": 5.355232695225595}, {\"Sales\": 1038.513492, \"Sales_pred\": 1037.8594573440264, \"Absolute_Dif\": 0.6540346559736463}, {\"Sales\": 1196.298379, \"Sales_pred\": 1193.057751378587, \"Absolute_Dif\": 3.2406276214130685}, {\"Sales\": 1360.625919, \"Sales_pred\": 1360.9561402553645, \"Absolute_Dif\": 0.33022125536444946}, {\"Sales\": 1615.406208, \"Sales_pred\": 1625.7399117481375, \"Absolute_Dif\": 10.333703748137395}, {\"Sales\": 1381.458599, \"Sales_pred\": 1362.4874230918772, \"Absolute_Dif\": 18.97117590812286}, {\"Sales\": 1509.599508, \"Sales_pred\": 1508.0067250708462, \"Absolute_Dif\": 1.5927829291538274}, {\"Sales\": 1474.780508, \"Sales_pred\": 1468.7782043556695, \"Absolute_Dif\": 6.0023036443305955}, {\"Sales\": 1498.258922, \"Sales_pred\": 1478.7701251106196, \"Absolute_Dif\": 19.48879688938041}, {\"Sales\": 1290.083759, \"Sales_pred\": 1308.7207487057094, \"Absolute_Dif\": 18.63698970570931}, {\"Sales\": 1481.259017, \"Sales_pred\": 1463.6934605337315, \"Absolute_Dif\": 17.565556466268617}, {\"Sales\": 1336.110908, \"Sales_pred\": 1336.937277296266, \"Absolute_Dif\": 0.8263692962659661}, {\"Sales\": 1531.447009, \"Sales_pred\": 1540.1583383990726, \"Absolute_Dif\": 8.71132939907261}, {\"Sales\": 1053.072563, \"Sales_pred\": 1073.0474008556503, \"Absolute_Dif\": 19.97483785565032}, {\"Sales\": 1052.209089, \"Sales_pred\": 1056.8540617440335, \"Absolute_Dif\": 4.644972744033566}, {\"Sales\": 1268.659909, \"Sales_pred\": 1243.4225326388596, \"Absolute_Dif\": 25.237376361140377}, {\"Sales\": 911.7825306, \"Sales_pred\": 909.7295312582655, \"Absolute_Dif\": 2.0529993417344485}, {\"Sales\": 1280.292934, \"Sales_pred\": 1279.97571385136, \"Absolute_Dif\": 0.31722014863998993}, {\"Sales\": 1456.4027, \"Sales_pred\": 1450.4551268321939, \"Absolute_Dif\": 5.94757316780624}, {\"Sales\": 1377.795407, \"Sales_pred\": 1411.6016917402376, \"Absolute_Dif\": 33.806284740237516}, {\"Sales\": 749.079033, \"Sales_pred\": 764.2569012255381, \"Absolute_Dif\": 15.177868225538077}, {\"Sales\": 1268.440519, \"Sales_pred\": 1267.9473008217947, \"Absolute_Dif\": 0.4932181782053249}, {\"Sales\": 1199.896022, \"Sales_pred\": 1151.3603008741284, \"Absolute_Dif\": 48.53572112587153}, {\"Sales\": 787.5699381, \"Sales_pred\": 810.395358097825, \"Absolute_Dif\": 22.825419997825065}, {\"Sales\": 1312.402417, \"Sales_pred\": 1320.9868354867654, \"Absolute_Dif\": 8.584418486765344}, {\"Sales\": 1380.453572, \"Sales_pred\": 1376.6528216428965, \"Absolute_Dif\": 3.800750357103425}, {\"Sales\": 1231.195493, \"Sales_pred\": 1229.0978463153283, \"Absolute_Dif\": 2.097646684671645}, {\"Sales\": 1360.610045, \"Sales_pred\": 1380.9786030548294, \"Absolute_Dif\": 20.368558054829464}, {\"Sales\": 1501.570248, \"Sales_pred\": 1501.9104369428953, \"Absolute_Dif\": 0.3401889428953382}, {\"Sales\": 1357.921625, \"Sales_pred\": 1366.2015622040385, \"Absolute_Dif\": 8.27993720403856}, {\"Sales\": 1570.648283, \"Sales_pred\": 1555.4363992833357, \"Absolute_Dif\": 15.21188371666426}, {\"Sales\": 1209.758603, \"Sales_pred\": 1208.9996839935561, \"Absolute_Dif\": 0.7589190064438753}, {\"Sales\": 1634.414809, \"Sales_pred\": 1625.6953553603266, \"Absolute_Dif\": 8.719453639673475}, {\"Sales\": 888.0776532, \"Sales_pred\": 893.4172044131851, \"Absolute_Dif\": 5.339551213185132}, {\"Sales\": 1458.099198, \"Sales_pred\": 1468.3428901052257, \"Absolute_Dif\": 10.243692105225819}, {\"Sales\": 1691.302495, \"Sales_pred\": 1682.6345795457005, \"Absolute_Dif\": 8.667915454299418}, {\"Sales\": 1715.778269, \"Sales_pred\": 1704.043976132938, \"Absolute_Dif\": 11.734292867061868}, {\"Sales\": 941.7599053, \"Sales_pred\": 954.19078426345, \"Absolute_Dif\": 12.430878963450027}, {\"Sales\": 727.605887, \"Sales_pred\": 753.1367184288952, \"Absolute_Dif\": 25.530831428895112}, {\"Sales\": 1483.610563, \"Sales_pred\": 1486.5896772172212, \"Absolute_Dif\": 2.979114217221195}, {\"Sales\": 969.8616316, \"Sales_pred\": 996.5112999568701, \"Absolute_Dif\": 26.649668356870052}, {\"Sales\": 1712.343672, \"Sales_pred\": 1711.5803891900803, \"Absolute_Dif\": 0.7632828099197013}, {\"Sales\": 1241.127005, \"Sales_pred\": 1266.4720763301334, \"Absolute_Dif\": 25.34507133013335}, {\"Sales\": 1257.082405, \"Sales_pred\": 1238.011241343294, \"Absolute_Dif\": 19.071163656706176}, {\"Sales\": 1300.405574, \"Sales_pred\": 1290.7496237203782, \"Absolute_Dif\": 9.65595027962172}, {\"Sales\": 1275.382318, \"Sales_pred\": 1288.6428883359358, \"Absolute_Dif\": 13.260570335935881}, {\"Sales\": 1170.61422, \"Sales_pred\": 1176.2038369312045, \"Absolute_Dif\": 5.589616931204546}, {\"Sales\": 1601.82838, \"Sales_pred\": 1616.1333410182272, \"Absolute_Dif\": 14.304961018227232}, {\"Sales\": 877.6615036, \"Sales_pred\": 883.528303993663, \"Absolute_Dif\": 5.866800393663084}, {\"Sales\": 1168.666404, \"Sales_pred\": 1166.9216081922164, \"Absolute_Dif\": 1.744795807783703}, {\"Sales\": 1315.666159, \"Sales_pred\": 1305.7115442552868, \"Absolute_Dif\": 9.954614744713354}, {\"Sales\": 957.3251723, \"Sales_pred\": 970.8538333203105, \"Absolute_Dif\": 13.528661020310551}, {\"Sales\": 1204.021122, \"Sales_pred\": 1222.3826335648296, \"Absolute_Dif\": 18.36151156482947}, {\"Sales\": 1700.004822, \"Sales_pred\": 1696.5052544677444, \"Absolute_Dif\": 3.4995675322556963}, {\"Sales\": 1608.358428, \"Sales_pred\": 1631.9150744975486, \"Absolute_Dif\": 23.556646497548627}, {\"Sales\": 1372.775363, \"Sales_pred\": 1376.7694866540219, \"Absolute_Dif\": 3.994123654021905}, {\"Sales\": 1670.867534, \"Sales_pred\": 1650.5166079204707, \"Absolute_Dif\": 20.350926079529245}, {\"Sales\": 1064.960639, \"Sales_pred\": 1066.0862602019638, \"Absolute_Dif\": 1.1256212019638951}, {\"Sales\": 1524.674321, \"Sales_pred\": 1512.2201783546382, \"Absolute_Dif\": 12.454142645361799}, {\"Sales\": 1358.049626, \"Sales_pred\": 1371.1118711689992, \"Absolute_Dif\": 13.062245168999198}, {\"Sales\": 1614.742036, \"Sales_pred\": 1644.5541212331543, \"Absolute_Dif\": 29.81208523315422}, {\"Sales\": 1678.18861, \"Sales_pred\": 1400.9868416635272, \"Absolute_Dif\": 277.2017683364727}, {\"Sales\": 1410.100673, \"Sales_pred\": 1413.99020572966, \"Absolute_Dif\": 3.8895327296600044}, {\"Sales\": 1107.162763, \"Sales_pred\": 1123.0497209701457, \"Absolute_Dif\": 15.886957970145659}, {\"Sales\": 1342.006082, \"Sales_pred\": 1335.5150545118022, \"Absolute_Dif\": 6.491027488197915}, {\"Sales\": 908.4358433, \"Sales_pred\": 896.087489877913, \"Absolute_Dif\": 12.34835342208703}, {\"Sales\": 1401.428063, \"Sales_pred\": 1387.9899946455284, \"Absolute_Dif\": 13.438068354471625}, {\"Sales\": 1802.785431, \"Sales_pred\": 1781.3491927197153, \"Absolute_Dif\": 21.43623828028467}, {\"Sales\": 1289.141371, \"Sales_pred\": 1379.4804160642334, \"Absolute_Dif\": 90.33904506423346}, {\"Sales\": 1257.478118, \"Sales_pred\": 1256.186321932969, \"Absolute_Dif\": 1.2917960670311004}, {\"Sales\": 972.5691591, \"Sales_pred\": 991.0936690522121, \"Absolute_Dif\": 18.524509952212156}, {\"Sales\": 1510.433656, \"Sales_pred\": 1205.5890925672525, \"Absolute_Dif\": 304.84456343274746}, {\"Sales\": 1605.544927, \"Sales_pred\": 1596.3599473805791, \"Absolute_Dif\": 9.184979619420801}, {\"Sales\": 1418.056183, \"Sales_pred\": 1418.386848150929, \"Absolute_Dif\": 0.3306651509290077}, {\"Sales\": 1458.460013, \"Sales_pred\": 1463.186440746858, \"Absolute_Dif\": 4.726427746858008}, {\"Sales\": 1353.936309, \"Sales_pred\": 1326.4409537863867, \"Absolute_Dif\": 27.495355213613266}, {\"Sales\": 1553.501423, \"Sales_pred\": 1558.9341394923845, \"Absolute_Dif\": 5.432716492384543}, {\"Sales\": 1562.855362, \"Sales_pred\": 1560.8997153245034, \"Absolute_Dif\": 1.9556466754966095}, {\"Sales\": 1395.896488, \"Sales_pred\": 1407.7062774154715, \"Absolute_Dif\": 11.809789415471414}, {\"Sales\": 1399.938304, \"Sales_pred\": 1392.6894659271484, \"Absolute_Dif\": 7.24883807285164}, {\"Sales\": 1804.306786, \"Sales_pred\": 1792.654425522039, \"Absolute_Dif\": 11.65236047796111}, {\"Sales\": 1314.828914, \"Sales_pred\": 1321.9348962474292, \"Absolute_Dif\": 7.1059822474292105}, {\"Sales\": 1406.155093, \"Sales_pred\": 1400.750367661829, \"Absolute_Dif\": 5.404725338171147}, {\"Sales\": 1008.509951, \"Sales_pred\": 1005.3828574912518, \"Absolute_Dif\": 3.127093508748203}, {\"Sales\": 900.7804509, \"Sales_pred\": 895.8407237773622, \"Absolute_Dif\": 4.939727122637805}, {\"Sales\": 1587.278951, \"Sales_pred\": 1584.9074488832034, \"Absolute_Dif\": 2.3715021167965915}, {\"Sales\": 1221.700683, \"Sales_pred\": 1231.3523035590788, \"Absolute_Dif\": 9.651620559078765}, {\"Sales\": 1289.341518, \"Sales_pred\": 1314.6252632429887, \"Absolute_Dif\": 25.283745242988743}, {\"Sales\": 1681.736613, \"Sales_pred\": 1662.8561065667925, \"Absolute_Dif\": 18.88050643320753}, {\"Sales\": 1583.688338, \"Sales_pred\": 1591.202548613745, \"Absolute_Dif\": 7.5142106137450355}, {\"Sales\": 1446.775435, \"Sales_pred\": 1444.214725891255, \"Absolute_Dif\": 2.560709108744959}, {\"Sales\": 1556.66404, \"Sales_pred\": 1566.9783379888206, \"Absolute_Dif\": 10.314297988820499}, {\"Sales\": 1084.040508, \"Sales_pred\": 1096.3689026212533, \"Absolute_Dif\": 12.32839462125321}, {\"Sales\": 1666.783563, \"Sales_pred\": 1650.625420009858, \"Absolute_Dif\": 16.15814299014187}, {\"Sales\": 1421.306867, \"Sales_pred\": 1422.2362418363878, \"Absolute_Dif\": 0.9293748363877512}, {\"Sales\": 1614.274007, \"Sales_pred\": 1625.6682195626456, \"Absolute_Dif\": 11.394212562645635}, {\"Sales\": 1536.231501, \"Sales_pred\": 1506.456838246857, \"Absolute_Dif\": 29.774662753143048}, {\"Sales\": 1322.841142, \"Sales_pred\": 1307.4247489123768, \"Absolute_Dif\": 15.416393087623192}, {\"Sales\": 1622.401258, \"Sales_pred\": 1629.605092111286, \"Absolute_Dif\": 7.203834111285914}, {\"Sales\": 1594.75213, \"Sales_pred\": 1581.3575652064198, \"Absolute_Dif\": 13.39456479358023}, {\"Sales\": 1589.263007, \"Sales_pred\": 1592.5019932068094, \"Absolute_Dif\": 3.238986206809386}, {\"Sales\": 1231.702145, \"Sales_pred\": 1230.6067537499985, \"Absolute_Dif\": 1.0953912500015122}, {\"Sales\": 1631.240705, \"Sales_pred\": 1612.9336131353432, \"Absolute_Dif\": 18.30709186465674}, {\"Sales\": 1488.845457, \"Sales_pred\": 1510.0570662093844, \"Absolute_Dif\": 21.211609209384505}, {\"Sales\": 1204.856615, \"Sales_pred\": 1200.2511705336233, \"Absolute_Dif\": 4.605444466376639}, {\"Sales\": 765.3271016, \"Sales_pred\": 751.212191601705, \"Absolute_Dif\": 14.114909998295047}, {\"Sales\": 1360.47784, \"Sales_pred\": 1355.5219772649457, \"Absolute_Dif\": 4.955862735054325}, {\"Sales\": 1575.835702, \"Sales_pred\": 1582.0608398177071, \"Absolute_Dif\": 6.2251378177070364}, {\"Sales\": 1166.653271, \"Sales_pred\": 1170.922893375412, \"Absolute_Dif\": 4.269622375412155}, {\"Sales\": 1954.873433, \"Sales_pred\": 1933.3753094296421, \"Absolute_Dif\": 21.498123570357848}, {\"Sales\": 2044.565106, \"Sales_pred\": 2057.567552686275, \"Absolute_Dif\": 13.002446686275107}, {\"Sales\": 1388.225606, \"Sales_pred\": 1394.4065507128862, \"Absolute_Dif\": 6.18094471288623}, {\"Sales\": 1358.542859, \"Sales_pred\": 1367.6311160787086, \"Absolute_Dif\": 9.088257078708693}, {\"Sales\": 1563.63027, \"Sales_pred\": 1568.5418558129336, \"Absolute_Dif\": 4.911585812933481}, {\"Sales\": 1733.539495, \"Sales_pred\": 1728.9029761553397, \"Absolute_Dif\": 4.636518844660259}, {\"Sales\": 1251.346337, \"Sales_pred\": 1253.3160861244896, \"Absolute_Dif\": 1.969749124489681}, {\"Sales\": 1243.612959, \"Sales_pred\": 1246.835013125291, \"Absolute_Dif\": 3.2220541252909243}, {\"Sales\": 1288.709611, \"Sales_pred\": 1306.004648035274, \"Absolute_Dif\": 17.295037035273936}, {\"Sales\": 1253.411666, \"Sales_pred\": 1507.9433085796097, \"Absolute_Dif\": 254.53164257960975}, {\"Sales\": 1408.383798, \"Sales_pred\": 1404.2802201963991, \"Absolute_Dif\": 4.103577803600956}, {\"Sales\": 936.8838202, \"Sales_pred\": 934.2736139181229, \"Absolute_Dif\": 2.6102062818770264}, {\"Sales\": 1033.984768, \"Sales_pred\": 1042.5113776754956, \"Absolute_Dif\": 8.526609675495592}, {\"Sales\": 1166.945407, \"Sales_pred\": 1167.7289834801386, \"Absolute_Dif\": 0.7835764801386631}, {\"Sales\": 1394.821813, \"Sales_pred\": 1389.9828781650544, \"Absolute_Dif\": 4.838934834945576}, {\"Sales\": 1171.627051, \"Sales_pred\": 1171.1048323765303, \"Absolute_Dif\": 0.5222186234695982}, {\"Sales\": 1227.042094, \"Sales_pred\": 1240.9529310137627, \"Absolute_Dif\": 13.91083701376283}, {\"Sales\": 1119.93221, \"Sales_pred\": 1118.4560787622559, \"Absolute_Dif\": 1.4761312377440845}, {\"Sales\": 1494.596366, \"Sales_pred\": 1493.915271824257, \"Absolute_Dif\": 0.6810941757430555}, {\"Sales\": 1633.714525, \"Sales_pred\": 1654.0334727523195, \"Absolute_Dif\": 20.318947752319445}, {\"Sales\": 1073.817095, \"Sales_pred\": 1070.0062095540202, \"Absolute_Dif\": 3.8108854459799204}, {\"Sales\": 997.6759137, \"Sales_pred\": 979.3025244379301, \"Absolute_Dif\": 18.373389262069963}, {\"Sales\": 1362.225025, \"Sales_pred\": 1371.1798271890934, \"Absolute_Dif\": 8.95480218909347}, {\"Sales\": 1494.771653, \"Sales_pred\": 1492.565644885081, \"Absolute_Dif\": 2.2060081149190864}, {\"Sales\": 1433.789838, \"Sales_pred\": 1411.5829269552883, \"Absolute_Dif\": 22.20691104471166}, {\"Sales\": 1470.422172, \"Sales_pred\": 1471.91267359334, \"Absolute_Dif\": 1.4905015933400136}, {\"Sales\": 1200.231736, \"Sales_pred\": 1203.517718934867, \"Absolute_Dif\": 3.285982934866979}, {\"Sales\": 1456.445062, \"Sales_pred\": 1466.5489846947012, \"Absolute_Dif\": 10.103922694701168}, {\"Sales\": 1110.805958, \"Sales_pred\": 1122.0680064188787, \"Absolute_Dif\": 11.262048418878749}, {\"Sales\": 1285.38867, \"Sales_pred\": 1294.2261521005548, \"Absolute_Dif\": 8.83748210055478}, {\"Sales\": 1421.902766, \"Sales_pred\": 1423.643355969432, \"Absolute_Dif\": 1.7405899694319942}, {\"Sales\": 1568.129602, \"Sales_pred\": 1548.4234449929374, \"Absolute_Dif\": 19.70615700706253}, {\"Sales\": 1622.260553, \"Sales_pred\": 1630.9061553168788, \"Absolute_Dif\": 8.645602316878694}, {\"Sales\": 1315.722755, \"Sales_pred\": 1341.4579105967077, \"Absolute_Dif\": 25.735155596707727}, {\"Sales\": 1587.975097, \"Sales_pred\": 1561.619092587663, \"Absolute_Dif\": 26.356004412336915}, {\"Sales\": 1603.637991, \"Sales_pred\": 1588.2227340216355, \"Absolute_Dif\": 15.415256978364596}, {\"Sales\": 704.0045526, \"Sales_pred\": 705.6616275860201, \"Absolute_Dif\": 1.6570749860201204}, {\"Sales\": 1341.943403, \"Sales_pred\": 1346.3688038409268, \"Absolute_Dif\": 4.425400840926841}, {\"Sales\": 744.6865058, \"Sales_pred\": 744.4290023953558, \"Absolute_Dif\": 0.257503404644126}, {\"Sales\": 1378.664836, \"Sales_pred\": 1375.5467455186922, \"Absolute_Dif\": 3.1180904813077177}, {\"Sales\": 1763.277019, \"Sales_pred\": 1747.502704887528, \"Absolute_Dif\": 15.774314112472211}, {\"Sales\": 1591.617805, \"Sales_pred\": 1580.7632861820555, \"Absolute_Dif\": 10.854518817944609}, {\"Sales\": 970.1738748, \"Sales_pred\": 954.1241659924854, \"Absolute_Dif\": 16.049708807514662}, {\"Sales\": 1743.817927, \"Sales_pred\": 1714.5990613436438, \"Absolute_Dif\": 29.21886565635623}, {\"Sales\": 1489.804326, \"Sales_pred\": 1476.9186111812296, \"Absolute_Dif\": 12.885714818770339}, {\"Sales\": 923.7274261, \"Sales_pred\": 919.2112840381965, \"Absolute_Dif\": 4.516142061803521}, {\"Sales\": 1525.242824, \"Sales_pred\": 1533.4104392251893, \"Absolute_Dif\": 8.167615225189365}, {\"Sales\": 1060.91534, \"Sales_pred\": 1066.47697861593, \"Absolute_Dif\": 5.561638615929951}, {\"Sales\": 1042.025095, \"Sales_pred\": 1048.579494748441, \"Absolute_Dif\": 6.554399748441028}, {\"Sales\": 1175.717101, \"Sales_pred\": 1188.9462332444855, \"Absolute_Dif\": 13.229132244485527}, {\"Sales\": 1486.2154, \"Sales_pred\": 1505.61991672244, \"Absolute_Dif\": 19.404516722439894}, {\"Sales\": 1566.936667, \"Sales_pred\": 1601.8860673571846, \"Absolute_Dif\": 34.949400357184686}, {\"Sales\": 1597.888999, \"Sales_pred\": 1618.6291368780023, \"Absolute_Dif\": 20.740137878002315}, {\"Sales\": 1601.179365, \"Sales_pred\": 1601.9166075529565, \"Absolute_Dif\": 0.7372425529565589}, {\"Sales\": 1538.254095, \"Sales_pred\": 1540.342408988623, \"Absolute_Dif\": 2.0883139886229856}, {\"Sales\": 1678.513552, \"Sales_pred\": 1661.618857342179, \"Absolute_Dif\": 16.894694657820992}, {\"Sales\": 1391.473658, \"Sales_pred\": 1431.3701902192693, \"Absolute_Dif\": 39.896532219269375}, {\"Sales\": 1134.464688, \"Sales_pred\": 1145.3375892387403, \"Absolute_Dif\": 10.872901238740269}, {\"Sales\": 1566.06401, \"Sales_pred\": 1559.6723023954264, \"Absolute_Dif\": 6.391707604573639}, {\"Sales\": 779.7223266, \"Sales_pred\": 780.3690589344415, \"Absolute_Dif\": 0.6467323344414808}, {\"Sales\": 1270.561861, \"Sales_pred\": 1270.6704643673006, \"Absolute_Dif\": 0.1086033673007023}, {\"Sales\": 1075.6838, \"Sales_pred\": 1070.626744860077, \"Absolute_Dif\": 5.057055139923023}, {\"Sales\": 1336.125288, \"Sales_pred\": 1350.3976935289043, \"Absolute_Dif\": 14.2724055289043}, {\"Sales\": 1387.767088, \"Sales_pred\": 1391.2134624616397, \"Absolute_Dif\": 3.446374461639607}, {\"Sales\": 1682.839914, \"Sales_pred\": 1664.9887301068056, \"Absolute_Dif\": 17.851183893194275}, {\"Sales\": 640.377837, \"Sales_pred\": 645.4333778179157, \"Absolute_Dif\": 5.055540817915698}, {\"Sales\": 1698.431513, \"Sales_pred\": 1675.845810755566, \"Absolute_Dif\": 22.58570224443406}, {\"Sales\": 1513.338117, \"Sales_pred\": 1485.2557097580566, \"Absolute_Dif\": 28.08240724194343}, {\"Sales\": 1164.92162, \"Sales_pred\": 1189.9417901310198, \"Absolute_Dif\": 25.020170131019768}, {\"Sales\": 1673.418909, \"Sales_pred\": 1667.3509654498375, \"Absolute_Dif\": 6.067943550162454}, {\"Sales\": 1164.441359, \"Sales_pred\": 1169.6135864622593, \"Absolute_Dif\": 5.172227462259343}, {\"Sales\": 1304.702233, \"Sales_pred\": 1306.5960195161679, \"Absolute_Dif\": 1.8937865161678928}, {\"Sales\": 1296.449805, \"Sales_pred\": 1312.0178884049105, \"Absolute_Dif\": 15.568083404910567}, {\"Sales\": 1561.462044, \"Sales_pred\": 1549.96091802039, \"Absolute_Dif\": 11.501125979610151}, {\"Sales\": 1127.847509, \"Sales_pred\": 1128.6911419040975, \"Absolute_Dif\": 0.8436329040976034}, {\"Sales\": 590.3360164, \"Sales_pred\": 604.1680103295143, \"Absolute_Dif\": 13.831993929514397}, {\"Sales\": 773.2664095, \"Sales_pred\": 764.1176365709102, \"Absolute_Dif\": 9.148772929089773}, {\"Sales\": 1253.686203, \"Sales_pred\": 1255.2329081167177, \"Absolute_Dif\": 1.5467051167177033}, {\"Sales\": 1578.734806, \"Sales_pred\": 1571.4762658479394, \"Absolute_Dif\": 7.258540152060505}, {\"Sales\": 1239.884619, \"Sales_pred\": 1246.0361402773806, \"Absolute_Dif\": 6.1515212773806525}, {\"Sales\": 1300.573321, \"Sales_pred\": 1288.5948951976047, \"Absolute_Dif\": 11.97842580239535}, {\"Sales\": 1186.763601, \"Sales_pred\": 1202.5300400690608, \"Absolute_Dif\": 15.766439069060652}, {\"Sales\": 1574.744991, \"Sales_pred\": 1563.5549127229708, \"Absolute_Dif\": 11.190078277029215}, {\"Sales\": 1490.888419, \"Sales_pred\": 1493.8770064265384, \"Absolute_Dif\": 2.988587426538288}, {\"Sales\": 1425.5561, \"Sales_pred\": 1430.616542704346, \"Absolute_Dif\": 5.060442704346087}, {\"Sales\": 1883.424565, \"Sales_pred\": 1880.5447960546142, \"Absolute_Dif\": 2.8797689453858766}, {\"Sales\": 1919.911941, \"Sales_pred\": 1900.6338943545697, \"Absolute_Dif\": 19.278046645430322}, {\"Sales\": 1045.289811, \"Sales_pred\": 1038.0887277927368, \"Absolute_Dif\": 7.201083207263309}, {\"Sales\": 1301.5568, \"Sales_pred\": 1294.748277479037, \"Absolute_Dif\": 6.808522520963152}, {\"Sales\": 1603.791611, \"Sales_pred\": 1604.1279304093032, \"Absolute_Dif\": 0.336319409303087}, {\"Sales\": 1320.769576, \"Sales_pred\": 1329.5891804658663, \"Absolute_Dif\": 8.819604465866405}, {\"Sales\": 1152.071365, \"Sales_pred\": 1153.7561681780544, \"Absolute_Dif\": 1.6848031780543806}, {\"Sales\": 1330.280101, \"Sales_pred\": 1327.8447982816324, \"Absolute_Dif\": 2.435302718367666}, {\"Sales\": 1185.007911, \"Sales_pred\": 1215.0380423897454, \"Absolute_Dif\": 30.03013138974552}, {\"Sales\": 1398.519511, \"Sales_pred\": 1387.8434888325933, \"Absolute_Dif\": 10.6760221674067}, {\"Sales\": 1146.55981, \"Sales_pred\": 1122.7013533292852, \"Absolute_Dif\": 23.85845667071476}, {\"Sales\": 1318.161769, \"Sales_pred\": 1326.9835809459096, \"Absolute_Dif\": 8.82181194590953}, {\"Sales\": 1007.805421, \"Sales_pred\": 1000.3475302300226, \"Absolute_Dif\": 7.457890769977439}, {\"Sales\": 1421.30557, \"Sales_pred\": 1412.0090295407736, \"Absolute_Dif\": 9.296540459226435}, {\"Sales\": 1536.399179, \"Sales_pred\": 1533.5372699753807, \"Absolute_Dif\": 2.861909024619308}, {\"Sales\": 1063.460987, \"Sales_pred\": 1058.1292273757717, \"Absolute_Dif\": 5.331759624228198}, {\"Sales\": 1642.209427, \"Sales_pred\": 1610.6914495784754, \"Absolute_Dif\": 31.51797742152462}, {\"Sales\": 1304.114866, \"Sales_pred\": 1310.54388407419, \"Absolute_Dif\": 6.429018074190026}, {\"Sales\": 1304.920784, \"Sales_pred\": 1328.4691311493411, \"Absolute_Dif\": 23.548347149341225}, {\"Sales\": 892.0662647, \"Sales_pred\": 887.4499933062607, \"Absolute_Dif\": 4.616271393739339}, {\"Sales\": 1340.833512, \"Sales_pred\": 1343.280370330931, \"Absolute_Dif\": 2.446858330931036}, {\"Sales\": 1506.706605, \"Sales_pred\": 1502.0116499016735, \"Absolute_Dif\": 4.694955098326545}, {\"Sales\": 1273.767844, \"Sales_pred\": 1278.8143657909059, \"Absolute_Dif\": 5.046521790905899}, {\"Sales\": 1263.893688, \"Sales_pred\": 1266.2195149389404, \"Absolute_Dif\": 2.3258269389402813}, {\"Sales\": 1185.642011, \"Sales_pred\": 1194.3656441151043, \"Absolute_Dif\": 8.723633115104349}, {\"Sales\": 1195.810908, \"Sales_pred\": 1206.451773944416, \"Absolute_Dif\": 10.640865944415964}, {\"Sales\": 1222.817092, \"Sales_pred\": 1240.993898922914, \"Absolute_Dif\": 18.17680692291401}, {\"Sales\": 1230.376084, \"Sales_pred\": 941.2014168417841, \"Absolute_Dif\": 289.1746671582159}, {\"Sales\": 1454.851241, \"Sales_pred\": 1466.0392466493317, \"Absolute_Dif\": 11.188005649331672}, {\"Sales\": 1447.015523, \"Sales_pred\": 1465.032401865897, \"Absolute_Dif\": 18.01687886589707}, {\"Sales\": 1497.541283, \"Sales_pred\": 1496.062304215366, \"Absolute_Dif\": 1.4789787846339095}, {\"Sales\": 1498.721923, \"Sales_pred\": 1493.6044608780626, \"Absolute_Dif\": 5.1174621219374785}, {\"Sales\": 1393.859935, \"Sales_pred\": 1385.0658033553295, \"Absolute_Dif\": 8.794131644670415}, {\"Sales\": 1369.331665, \"Sales_pred\": 1384.828964986188, \"Absolute_Dif\": 15.497299986188182}, {\"Sales\": 1245.252341, \"Sales_pred\": 1255.3881218575712, \"Absolute_Dif\": 10.135780857571262}, {\"Sales\": 1384.513467, \"Sales_pred\": 1402.5189365931155, \"Absolute_Dif\": 18.00546959311555}, {\"Sales\": 1510.468216, \"Sales_pred\": 1524.7775393966383, \"Absolute_Dif\": 14.30932339663832}, {\"Sales\": 1391.284778, \"Sales_pred\": 1395.090145340815, \"Absolute_Dif\": 3.80536734081511}, {\"Sales\": 978.8768893, \"Sales_pred\": 987.4467377189835, \"Absolute_Dif\": 8.569848418983497}, {\"Sales\": 1469.630884, \"Sales_pred\": 1457.1918346759558, \"Absolute_Dif\": 12.439049324044163}, {\"Sales\": 1170.504623, \"Sales_pred\": 1147.1936059250297, \"Absolute_Dif\": 23.311017074970323}, {\"Sales\": 701.0822927, \"Sales_pred\": 699.1248042476113, \"Absolute_Dif\": 1.9574884523887022}, {\"Sales\": 1213.49494, \"Sales_pred\": 1477.8689796454175, \"Absolute_Dif\": 264.3740396454175}, {\"Sales\": 1269.821607, \"Sales_pred\": 1280.8712807563388, \"Absolute_Dif\": 11.049673756338734}, {\"Sales\": 1421.338538, \"Sales_pred\": 1403.959187416514, \"Absolute_Dif\": 17.37935058348603}, {\"Sales\": 1253.841796, \"Sales_pred\": 1248.2288409950957, \"Absolute_Dif\": 5.612955004904279}, {\"Sales\": 1437.826514, \"Sales_pred\": 1454.497007208683, \"Absolute_Dif\": 16.670493208682956}, {\"Sales\": 1838.544161, \"Sales_pred\": 1816.1269856177703, \"Absolute_Dif\": 22.417175382229743}, {\"Sales\": 1085.490333, \"Sales_pred\": 1085.06169692797, \"Absolute_Dif\": 0.42863607203003085}, {\"Sales\": 1452.070741, \"Sales_pred\": 1458.1393521843038, \"Absolute_Dif\": 6.068611184303791}, {\"Sales\": 1201.094761, \"Sales_pred\": 1218.0504814945243, \"Absolute_Dif\": 16.955720494524257}, {\"Sales\": 1014.327965, \"Sales_pred\": 1014.4763984015335, \"Absolute_Dif\": 0.1484334015335662}, {\"Sales\": 1278.452118, \"Sales_pred\": 1201.267051432279, \"Absolute_Dif\": 77.18506656772092}, {\"Sales\": 1220.853932, \"Sales_pred\": 1216.116585414824, \"Absolute_Dif\": 4.737346585176056}, {\"Sales\": 1288.089606, \"Sales_pred\": 1267.392365783896, \"Absolute_Dif\": 20.697240216104092}, {\"Sales\": 1451.278544, \"Sales_pred\": 1435.540211393853, \"Absolute_Dif\": 15.738332606146969}, {\"Sales\": 1298.281807, \"Sales_pred\": 1302.2212801678984, \"Absolute_Dif\": 3.9394731678983135}, {\"Sales\": 1575.857339, \"Sales_pred\": 1597.819579312205, \"Absolute_Dif\": 21.96224031220504}, {\"Sales\": 1669.992475, \"Sales_pred\": 1647.4048192873418, \"Absolute_Dif\": 22.58765571265826}, {\"Sales\": 1399.72411, \"Sales_pred\": 1430.981213402843, \"Absolute_Dif\": 31.25710340284286}, {\"Sales\": 1639.67716, \"Sales_pred\": 1642.6482202251773, \"Absolute_Dif\": 2.9710602251773253}, {\"Sales\": 821.0469896, \"Sales_pred\": 845.2946743443622, \"Absolute_Dif\": 24.247684744362232}, {\"Sales\": 1212.076916, \"Sales_pred\": 1247.566606229575, \"Absolute_Dif\": 35.48969022957499}, {\"Sales\": 1469.221986, \"Sales_pred\": 1472.1625054653023, \"Absolute_Dif\": 2.940519465302259}, {\"Sales\": 1424.650689, \"Sales_pred\": 1407.472786106493, \"Absolute_Dif\": 17.177902893507053}, {\"Sales\": 1342.092278, \"Sales_pred\": 1344.4065453863664, \"Absolute_Dif\": 2.314267386366282}, {\"Sales\": 1361.512909, \"Sales_pred\": 1361.7525518742796, \"Absolute_Dif\": 0.23964287427952513}, {\"Sales\": 952.1164619, \"Sales_pred\": 966.9815907583902, \"Absolute_Dif\": 14.865128858390221}, {\"Sales\": 1455.065511, \"Sales_pred\": 1440.430969118163, \"Absolute_Dif\": 14.634541881837094}, {\"Sales\": 1309.895493, \"Sales_pred\": 1288.5241252008345, \"Absolute_Dif\": 21.371367799165455}, {\"Sales\": 1149.909381, \"Sales_pred\": 1136.358038722914, \"Absolute_Dif\": 13.55134227708595}, {\"Sales\": 1624.861466, \"Sales_pred\": 1615.9460757424715, \"Absolute_Dif\": 8.915390257528543}, {\"Sales\": 1601.033347, \"Sales_pred\": 1612.950224816576, \"Absolute_Dif\": 11.916877816576061}, {\"Sales\": 1429.943395, \"Sales_pred\": 1413.0303420913287, \"Absolute_Dif\": 16.91305290867126}, {\"Sales\": 2061.018042, \"Sales_pred\": 2064.3805792588987, \"Absolute_Dif\": 3.3625372588985556}, {\"Sales\": 1366.150527, \"Sales_pred\": 1384.9252631821196, \"Absolute_Dif\": 18.774736182119568}, {\"Sales\": 1550.066211, \"Sales_pred\": 1540.3228544572623, \"Absolute_Dif\": 9.743356542737729}, {\"Sales\": 1032.507751, \"Sales_pred\": 1041.137905132296, \"Absolute_Dif\": 8.630154132295957}, {\"Sales\": 1307.069293, \"Sales_pred\": 1310.2128408576318, \"Absolute_Dif\": 3.143547857631802}, {\"Sales\": 1439.82487, \"Sales_pred\": 1454.6755764676936, \"Absolute_Dif\": 14.850706467693726}, {\"Sales\": 1234.751862, \"Sales_pred\": 1049.1873631232938, \"Absolute_Dif\": 185.56449887670624}, {\"Sales\": 1463.364788, \"Sales_pred\": 1454.773749698716, \"Absolute_Dif\": 8.591038301284016}, {\"Sales\": 757.5915039, \"Sales_pred\": 771.5760152258413, \"Absolute_Dif\": 13.984511325841254}, {\"Sales\": 1639.651435, \"Sales_pred\": 1631.6858545756681, \"Absolute_Dif\": 7.965580424331847}, {\"Sales\": 1632.173686, \"Sales_pred\": 1645.644246602418, \"Absolute_Dif\": 13.47056060241789}, {\"Sales\": 1499.911477, \"Sales_pred\": 1479.035073979862, \"Absolute_Dif\": 20.876403020138014}, {\"Sales\": 1235.595226, \"Sales_pred\": 1230.9159144374016, \"Absolute_Dif\": 4.679311562598286}, {\"Sales\": 1022.702461, \"Sales_pred\": 1026.6057643389445, \"Absolute_Dif\": 3.903303338944511}, {\"Sales\": 1684.198877, \"Sales_pred\": 1686.359194320798, \"Absolute_Dif\": 2.160317320797958}, {\"Sales\": 859.9748635, \"Sales_pred\": 869.5160213391946, \"Absolute_Dif\": 9.541157839194625}, {\"Sales\": 914.2806753, \"Sales_pred\": 901.3374987843094, \"Absolute_Dif\": 12.943176515690539}, {\"Sales\": 1470.762336, \"Sales_pred\": 1463.4391801920801, \"Absolute_Dif\": 7.323155807919875}, {\"Sales\": 1419.243631, \"Sales_pred\": 1429.4889943995227, \"Absolute_Dif\": 10.245363399522603}, {\"Sales\": 1468.77541, \"Sales_pred\": 1448.0318664544739, \"Absolute_Dif\": 20.74354354552611}, {\"Sales\": 1186.981266, \"Sales_pred\": 1195.0151828843036, \"Absolute_Dif\": 8.033916884303608}, {\"Sales\": 1234.789545, \"Sales_pred\": 1249.197835442667, \"Absolute_Dif\": 14.40829044266684}, {\"Sales\": 1212.787138, \"Sales_pred\": 1213.3433475914062, \"Absolute_Dif\": 0.5562095914062866}, {\"Sales\": 922.0056437, \"Sales_pred\": 908.5347912043826, \"Absolute_Dif\": 13.47085249561735}, {\"Sales\": 1367.972488, \"Sales_pred\": 1378.236541465999, \"Absolute_Dif\": 10.264053465998813}, {\"Sales\": 1447.839702, \"Sales_pred\": 1482.0438631639868, \"Absolute_Dif\": 34.20416116398678}, {\"Sales\": 1340.762487, \"Sales_pred\": 1342.2378599158455, \"Absolute_Dif\": 1.4753729158455826}, {\"Sales\": 1274.283523, \"Sales_pred\": 1291.94417084613, \"Absolute_Dif\": 17.660647846129905}, {\"Sales\": 1499.891746, \"Sales_pred\": 1484.3847342675806, \"Absolute_Dif\": 15.507011732419414}, {\"Sales\": 1126.749314, \"Sales_pred\": 1488.4683348164028, \"Absolute_Dif\": 361.7190208164029}, {\"Sales\": 1180.148032, \"Sales_pred\": 1178.3672993650239, \"Absolute_Dif\": 1.7807326349761752}, {\"Sales\": 1630.449218, \"Sales_pred\": 1623.0913246320883, \"Absolute_Dif\": 7.357893367911629}, {\"Sales\": 1106.155335, \"Sales_pred\": 1097.7632036363007, \"Absolute_Dif\": 8.392131363699264}, {\"Sales\": 1640.029557, \"Sales_pred\": 1644.173458042653, \"Absolute_Dif\": 4.143901042652942}, {\"Sales\": 1283.510325, \"Sales_pred\": 1269.3116170169942, \"Absolute_Dif\": 14.198707983005761}, {\"Sales\": 1485.157206, \"Sales_pred\": 1494.6119462029978, \"Absolute_Dif\": 9.454740202997755}, {\"Sales\": 1593.840395, \"Sales_pred\": 1592.4754052194514, \"Absolute_Dif\": 1.3649897805485125}, {\"Sales\": 1134.055774, \"Sales_pred\": 1133.349159441469, \"Absolute_Dif\": 0.7066145585308732}, {\"Sales\": 893.289881, \"Sales_pred\": 895.317023749677, \"Absolute_Dif\": 2.0271427496769547}, {\"Sales\": 1347.677072, \"Sales_pred\": 1334.5871919979495, \"Absolute_Dif\": 13.08988000205045}, {\"Sales\": 1196.553891, \"Sales_pred\": 1175.030327754038, \"Absolute_Dif\": 21.523563245962123}, {\"Sales\": 1603.566344, \"Sales_pred\": 1580.5647789455427, \"Absolute_Dif\": 23.001565054457387}, {\"Sales\": 1274.878933, \"Sales_pred\": 1266.440469232643, \"Absolute_Dif\": 8.438463767357007}, {\"Sales\": 1221.885608, \"Sales_pred\": 1250.610539287643, \"Absolute_Dif\": 28.724931287642903}, {\"Sales\": 1341.309768, \"Sales_pred\": 1367.9589870685154, \"Absolute_Dif\": 26.649219068515322}, {\"Sales\": 1409.063431, \"Sales_pred\": 1412.6752612741816, \"Absolute_Dif\": 3.611830274181557}, {\"Sales\": 1372.826333, \"Sales_pred\": 1385.1136932755585, \"Absolute_Dif\": 12.287360275558513}, {\"Sales\": 1216.889647, \"Sales_pred\": 1247.3217774777518, \"Absolute_Dif\": 30.432130477751798}, {\"Sales\": 1781.760635, \"Sales_pred\": 1757.3423275752432, \"Absolute_Dif\": 24.418307424756904}, {\"Sales\": 1022.023525, \"Sales_pred\": 1044.4599507739495, \"Absolute_Dif\": 22.43642577394951}, {\"Sales\": 1527.483794, \"Sales_pred\": 1536.9128197783234, \"Absolute_Dif\": 9.429025778323421}, {\"Sales\": 977.4826108, \"Sales_pred\": 971.3910274403815, \"Absolute_Dif\": 6.091583359618426}, {\"Sales\": 1228.809235, \"Sales_pred\": 1216.1105377449485, \"Absolute_Dif\": 12.698697255051457}, {\"Sales\": 1651.463064, \"Sales_pred\": 1633.4626970247532, \"Absolute_Dif\": 18.000366975246834}, {\"Sales\": 1165.606225, \"Sales_pred\": 1163.4631002752776, \"Absolute_Dif\": 2.1431247247223837}, {\"Sales\": 917.3251705, \"Sales_pred\": 932.4216746149227, \"Absolute_Dif\": 15.096504114922709}, {\"Sales\": 1639.472868, \"Sales_pred\": 1630.015469923044, \"Absolute_Dif\": 9.457398076955997}, {\"Sales\": 1146.942829, \"Sales_pred\": 1151.1878782803701, \"Absolute_Dif\": 4.24504928037004}, {\"Sales\": 1484.239054, \"Sales_pred\": 1473.7057883730413, \"Absolute_Dif\": 10.53326562695861}, {\"Sales\": 1560.811832, \"Sales_pred\": 1551.3805286937277, \"Absolute_Dif\": 9.431303306272412}, {\"Sales\": 1381.389894, \"Sales_pred\": 1369.24389659808, \"Absolute_Dif\": 12.145997401919885}, {\"Sales\": 1165.674676, \"Sales_pred\": 1187.3612122484965, \"Absolute_Dif\": 21.686536248496395}, {\"Sales\": 1294.033102, \"Sales_pred\": 1278.6797566159353, \"Absolute_Dif\": 15.353345384064824}, {\"Sales\": 1252.466076, \"Sales_pred\": 1239.6394808442396, \"Absolute_Dif\": 12.826595155760288}, {\"Sales\": 1149.766879, \"Sales_pred\": 1157.933484798693, \"Absolute_Dif\": 8.166605798692899}, {\"Sales\": 1657.377736, \"Sales_pred\": 1631.693308658578, \"Absolute_Dif\": 25.68442734142195}, {\"Sales\": 1817.230969, \"Sales_pred\": 1825.8836553864462, \"Absolute_Dif\": 8.652686386446248}, {\"Sales\": 1585.183327, \"Sales_pred\": 1559.0986567494106, \"Absolute_Dif\": 26.084670250589397}, {\"Sales\": 1433.712042, \"Sales_pred\": 1444.4126071327537, \"Absolute_Dif\": 10.700565132753582}, {\"Sales\": 908.415902, \"Sales_pred\": 935.8510082668276, \"Absolute_Dif\": 27.435106266827688}, {\"Sales\": 1182.025977, \"Sales_pred\": 1194.7219604741222, \"Absolute_Dif\": 12.695983474122158}, {\"Sales\": 1798.841115, \"Sales_pred\": 1791.138307341428, \"Absolute_Dif\": 7.7028076585720555}, {\"Sales\": 1175.70874, \"Sales_pred\": 1186.6013196270483, \"Absolute_Dif\": 10.892579627048235}, {\"Sales\": 1361.563324, \"Sales_pred\": 1364.2557177710519, \"Absolute_Dif\": 2.6923937710519112}, {\"Sales\": 1255.813425, \"Sales_pred\": 1264.6805234780913, \"Absolute_Dif\": 8.867098478091293}, {\"Sales\": 1546.377709, \"Sales_pred\": 1556.4988563275244, \"Absolute_Dif\": 10.12114732752434}, {\"Sales\": 1612.859802, \"Sales_pred\": 1591.2760634424528, \"Absolute_Dif\": 21.58373855754712}, {\"Sales\": 1296.979135, \"Sales_pred\": 1304.0460496423734, \"Absolute_Dif\": 7.066914642373376}, {\"Sales\": 1572.411257, \"Sales_pred\": 1564.3989166659896, \"Absolute_Dif\": 8.012340334010332}, {\"Sales\": 1177.826085, \"Sales_pred\": 1172.7018981197848, \"Absolute_Dif\": 5.12418688021512}, {\"Sales\": 1150.044918, \"Sales_pred\": 1158.926108481105, \"Absolute_Dif\": 8.881190481105023}, {\"Sales\": 1267.028011, \"Sales_pred\": 1280.7027933409895, \"Absolute_Dif\": 13.674782340989395}, {\"Sales\": 1307.523507, \"Sales_pred\": 1313.5434840708863, \"Absolute_Dif\": 6.019977070886171}, {\"Sales\": 1452.394663, \"Sales_pred\": 1432.8888111123756, \"Absolute_Dif\": 19.50585188762443}, {\"Sales\": 1285.976576, \"Sales_pred\": 1285.9503470940554, \"Absolute_Dif\": 0.026228905944662984}, {\"Sales\": 1754.093045, \"Sales_pred\": 1752.2698889254777, \"Absolute_Dif\": 1.8231560745223305}, {\"Sales\": 1740.307217, \"Sales_pred\": 1717.7071485269407, \"Absolute_Dif\": 22.60006847305931}, {\"Sales\": 1025.924026, \"Sales_pred\": 1023.3530092259398, \"Absolute_Dif\": 2.5710167740601264}, {\"Sales\": 784.7292614, \"Sales_pred\": 782.8204901600548, \"Absolute_Dif\": 1.9087712399452812}, {\"Sales\": 975.4610786, \"Sales_pred\": 964.8195194933933, \"Absolute_Dif\": 10.641559106606678}, {\"Sales\": 1088.981313, \"Sales_pred\": 1113.1676374331691, \"Absolute_Dif\": 24.186324433169148}, {\"Sales\": 1030.804959, \"Sales_pred\": 1050.5551614264705, \"Absolute_Dif\": 19.750202426470423}, {\"Sales\": 1754.252459, \"Sales_pred\": 1742.6357355783753, \"Absolute_Dif\": 11.616723421624783}, {\"Sales\": 1384.572528, \"Sales_pred\": 1382.9729150857293, \"Absolute_Dif\": 1.599612914270665}, {\"Sales\": 925.286509, \"Sales_pred\": 941.3693456189853, \"Absolute_Dif\": 16.08283661898531}, {\"Sales\": 1026.926978, \"Sales_pred\": 1021.5539032728152, \"Absolute_Dif\": 5.373074727184758}, {\"Sales\": 1525.964281, \"Sales_pred\": 1509.5149295346746, \"Absolute_Dif\": 16.449351465325435}, {\"Sales\": 1230.180867, \"Sales_pred\": 1303.0062844107497, \"Absolute_Dif\": 72.82541741074965}, {\"Sales\": 1168.257846, \"Sales_pred\": 1177.5238397362755, \"Absolute_Dif\": 9.265993736275504}, {\"Sales\": 1439.342491, \"Sales_pred\": 1439.5047493299066, \"Absolute_Dif\": 0.16225832990653544}, {\"Sales\": 1358.155538, \"Sales_pred\": 1351.613737471207, \"Absolute_Dif\": 6.541800528792919}, {\"Sales\": 1827.633271, \"Sales_pred\": 1824.6680454945863, \"Absolute_Dif\": 2.9652255054136276}, {\"Sales\": 1436.218726, \"Sales_pred\": 1435.7597864504442, \"Absolute_Dif\": 0.45893954955590743}, {\"Sales\": 1394.611158, \"Sales_pred\": 1394.741783791134, \"Absolute_Dif\": 0.13062579113397987}, {\"Sales\": 1308.844785, \"Sales_pred\": 1311.6393964504077, \"Absolute_Dif\": 2.7946114504077286}, {\"Sales\": 1269.989343, \"Sales_pred\": 1268.0495205120037, \"Absolute_Dif\": 1.9398224879962527}, {\"Sales\": 1032.859885, \"Sales_pred\": 1036.7774359311156, \"Absolute_Dif\": 3.9175509311155565}, {\"Sales\": 1420.465583, \"Sales_pred\": 1430.552242616238, \"Absolute_Dif\": 10.086659616237966}, {\"Sales\": 1484.85966, \"Sales_pred\": 1481.8971719863018, \"Absolute_Dif\": 2.9624880136982483}, {\"Sales\": 940.1204359, \"Sales_pred\": 953.8464994945039, \"Absolute_Dif\": 13.726063594503898}, {\"Sales\": 1551.815427, \"Sales_pred\": 1543.832662240518, \"Absolute_Dif\": 7.982764759482052}, {\"Sales\": 1174.835125, \"Sales_pred\": 1174.272390867338, \"Absolute_Dif\": 0.5627341326621718}, {\"Sales\": 1621.511685, \"Sales_pred\": 1598.4210814500225, \"Absolute_Dif\": 23.09060354997746}, {\"Sales\": 1443.048608, \"Sales_pred\": 1427.6032356505366, \"Absolute_Dif\": 15.445372349463469}, {\"Sales\": 1331.082614, \"Sales_pred\": 1326.1072522185382, \"Absolute_Dif\": 4.975361781461743}, {\"Sales\": 1113.118283, \"Sales_pred\": 1132.013795332045, \"Absolute_Dif\": 18.895512332044973}, {\"Sales\": 1114.384048, \"Sales_pred\": 1134.7163900926962, \"Absolute_Dif\": 20.332342092696308}, {\"Sales\": 1015.272385, \"Sales_pred\": 1013.4415270508416, \"Absolute_Dif\": 1.8308579491583714}, {\"Sales\": 2052.839404, \"Sales_pred\": 2048.1222509478903, \"Absolute_Dif\": 4.717153052109552}, {\"Sales\": 1397.894878, \"Sales_pred\": 1400.3924980877914, \"Absolute_Dif\": 2.497620087791347}, {\"Sales\": 1150.897542, \"Sales_pred\": 1134.5482495694546, \"Absolute_Dif\": 16.349292430545347}, {\"Sales\": 1282.098287, \"Sales_pred\": 1288.4155620607971, \"Absolute_Dif\": 6.317275060797101}, {\"Sales\": 889.5977627, \"Sales_pred\": 898.5915644071133, \"Absolute_Dif\": 8.993801707113334}, {\"Sales\": 1525.450309, \"Sales_pred\": 1530.91152902243, \"Absolute_Dif\": 5.46122002242987}, {\"Sales\": 1531.549038, \"Sales_pred\": 1537.0026399805217, \"Absolute_Dif\": 5.453601980521626}, {\"Sales\": 1347.478712, \"Sales_pred\": 1338.7097635983255, \"Absolute_Dif\": 8.768948401674606}, {\"Sales\": 995.6119433, \"Sales_pred\": 1015.5981563953192, \"Absolute_Dif\": 19.986213095319158}, {\"Sales\": 1060.492048, \"Sales_pred\": 1078.9374885515226, \"Absolute_Dif\": 18.44544055152255}, {\"Sales\": 1019.987716, \"Sales_pred\": 1033.919944535839, \"Absolute_Dif\": 13.932228535839045}, {\"Sales\": 1479.90123, \"Sales_pred\": 1471.6482172093952, \"Absolute_Dif\": 8.253012790604771}, {\"Sales\": 1125.26392, \"Sales_pred\": 1204.4121436649084, \"Absolute_Dif\": 79.1482236649083}, {\"Sales\": 1615.158922, \"Sales_pred\": 1639.949135655582, \"Absolute_Dif\": 24.790213655581965}, {\"Sales\": 922.7666996, \"Sales_pred\": 939.7917724738395, \"Absolute_Dif\": 17.025072873839463}, {\"Sales\": 1406.690887, \"Sales_pred\": 1403.3951974982942, \"Absolute_Dif\": 3.2956895017057377}, {\"Sales\": 1435.336333, \"Sales_pred\": 1441.222708125826, \"Absolute_Dif\": 5.8863751258261345}, {\"Sales\": 1606.311133, \"Sales_pred\": 1611.4575515737633, \"Absolute_Dif\": 5.1464185737634125}, {\"Sales\": 1318.392268, \"Sales_pred\": 1314.245858227453, \"Absolute_Dif\": 4.146409772547031}, {\"Sales\": 1048.769292, \"Sales_pred\": 1074.6284099086815, \"Absolute_Dif\": 25.859117908681583}, {\"Sales\": 1210.8276, \"Sales_pred\": 1199.7742883122487, \"Absolute_Dif\": 11.053311687751375}, {\"Sales\": 1512.16826, \"Sales_pred\": 1526.0208654012224, \"Absolute_Dif\": 13.85260540122249}, {\"Sales\": 1916.827122, \"Sales_pred\": 1932.3338112522356, \"Absolute_Dif\": 15.506689252235674}, {\"Sales\": 1244.426574, \"Sales_pred\": 1240.6011223080086, \"Absolute_Dif\": 3.825451691991475}, {\"Sales\": 1162.637421, \"Sales_pred\": 1187.737114298537, \"Absolute_Dif\": 25.099693298537204}, {\"Sales\": 1112.527039, \"Sales_pred\": 1095.6209714627598, \"Absolute_Dif\": 16.906067537240233}, {\"Sales\": 1361.452054, \"Sales_pred\": 1351.827025919274, \"Absolute_Dif\": 9.625028080725997}, {\"Sales\": 1605.346979, \"Sales_pred\": 1610.7707138432565, \"Absolute_Dif\": 5.423734843256625}, {\"Sales\": 1554.909872, \"Sales_pred\": 1553.4952852600754, \"Absolute_Dif\": 1.4145867399245162}, {\"Sales\": 1610.994779, \"Sales_pred\": 1606.491832971667, \"Absolute_Dif\": 4.502946028333099}, {\"Sales\": 1037.578476, \"Sales_pred\": 1037.5038115781167, \"Absolute_Dif\": 0.07466442188319888}, {\"Sales\": 1484.446184, \"Sales_pred\": 1476.8083765999872, \"Absolute_Dif\": 7.637807400012662}, {\"Sales\": 1416.890744, \"Sales_pred\": 1395.0306151132731, \"Absolute_Dif\": 21.860128886726898}, {\"Sales\": 1273.632054, \"Sales_pred\": 1297.079386738843, \"Absolute_Dif\": 23.447332738842988}, {\"Sales\": 1637.431982, \"Sales_pred\": 1639.3284256267848, \"Absolute_Dif\": 1.8964436267847304}, {\"Sales\": 1042.903058, \"Sales_pred\": 1064.255010911142, \"Absolute_Dif\": 21.351952911142007}, {\"Sales\": 1256.626595, \"Sales_pred\": 1269.4434808613519, \"Absolute_Dif\": 12.81688586135192}, {\"Sales\": 1407.459838, \"Sales_pred\": 1417.5963180157755, \"Absolute_Dif\": 10.136480015775533}, {\"Sales\": 1074.9715, \"Sales_pred\": 1093.5950280592651, \"Absolute_Dif\": 18.623528059265027}, {\"Sales\": 1608.678877, \"Sales_pred\": 1570.883557603875, \"Absolute_Dif\": 37.795319396125024}, {\"Sales\": 1547.906433, \"Sales_pred\": 1550.307946217621, \"Absolute_Dif\": 2.401513217620959}, {\"Sales\": 1478.439329, \"Sales_pred\": 1469.67811799847, \"Absolute_Dif\": 8.76121100153}, {\"Sales\": 1239.946736, \"Sales_pred\": 1263.9209141830188, \"Absolute_Dif\": 23.974178183018694}, {\"Sales\": 1270.033922, \"Sales_pred\": 1260.2244924648917, \"Absolute_Dif\": 9.809429535108393}, {\"Sales\": 1509.957925, \"Sales_pred\": 1493.8399960218892, \"Absolute_Dif\": 16.11792897811074}, {\"Sales\": 918.1423875, \"Sales_pred\": 924.3485517728082, \"Absolute_Dif\": 6.20616427280811}, {\"Sales\": 1575.535491, \"Sales_pred\": 1571.0507656430655, \"Absolute_Dif\": 4.484725356934632}, {\"Sales\": 1271.983499, \"Sales_pred\": 1266.7471870981349, \"Absolute_Dif\": 5.236311901865065}, {\"Sales\": 1200.730286, \"Sales_pred\": 1215.0042145563648, \"Absolute_Dif\": 14.273928556364808}, {\"Sales\": 890.2709454, \"Sales_pred\": 891.0041884839916, \"Absolute_Dif\": 0.7332430839916242}, {\"Sales\": 1152.333287, \"Sales_pred\": 1161.7272548097876, \"Absolute_Dif\": 9.393967809787682}, {\"Sales\": 1511.385783, \"Sales_pred\": 1503.090059016546, \"Absolute_Dif\": 8.295723983453854}, {\"Sales\": 1678.817172, \"Sales_pred\": 1667.92315285846, \"Absolute_Dif\": 10.894019141539957}, {\"Sales\": 1283.791649, \"Sales_pred\": 1298.3670434798391, \"Absolute_Dif\": 14.575394479839133}, {\"Sales\": 1151.810751, \"Sales_pred\": 1120.2479957029009, \"Absolute_Dif\": 31.562755297099102}, {\"Sales\": 709.0752108, \"Sales_pred\": 731.8514290081598, \"Absolute_Dif\": 22.776218208159776}, {\"Sales\": 1121.040851, \"Sales_pred\": 1111.843908653614, \"Absolute_Dif\": 9.196942346385867}, {\"Sales\": 1360.620201, \"Sales_pred\": 1345.6411333788387, \"Absolute_Dif\": 14.97906762116122}, {\"Sales\": 1226.491449, \"Sales_pred\": 1210.0097662388525, \"Absolute_Dif\": 16.481682761147567}, {\"Sales\": 1087.737184, \"Sales_pred\": 1093.231102005409, \"Absolute_Dif\": 5.4939180054088865}, {\"Sales\": 1407.619218, \"Sales_pred\": 1394.0593138424774, \"Absolute_Dif\": 13.559904157522624}, {\"Sales\": 1420.639608, \"Sales_pred\": 1403.2865306548515, \"Absolute_Dif\": 17.35307734514845}, {\"Sales\": 1517.118316, \"Sales_pred\": 1505.7231157431384, \"Absolute_Dif\": 11.395200256861699}, {\"Sales\": 1073.226043, \"Sales_pred\": 1097.8342883002174, \"Absolute_Dif\": 24.608245300217504}, {\"Sales\": 943.3823836, \"Sales_pred\": 966.6143292209631, \"Absolute_Dif\": 23.231945620963074}, {\"Sales\": 1282.504106, \"Sales_pred\": 1273.3275923789529, \"Absolute_Dif\": 9.176513621047206}, {\"Sales\": 1609.833779, \"Sales_pred\": 1601.3843960009276, \"Absolute_Dif\": 8.44938299907244}, {\"Sales\": 1243.210162, \"Sales_pred\": 1253.1508693503624, \"Absolute_Dif\": 9.940707350362345}, {\"Sales\": 1526.01471, \"Sales_pred\": 1505.9617684967484, \"Absolute_Dif\": 20.05294150325153}, {\"Sales\": 1237.601766, \"Sales_pred\": 1238.2350217305225, \"Absolute_Dif\": 0.6332557305224782}, {\"Sales\": 1499.883204, \"Sales_pred\": 1509.145058601125, \"Absolute_Dif\": 9.261854601124924}, {\"Sales\": 1086.458788, \"Sales_pred\": 1089.0537271711287, \"Absolute_Dif\": 2.5949391711287717}, {\"Sales\": 1675.502959, \"Sales_pred\": 1661.5018079693489, \"Absolute_Dif\": 14.001151030651044}, {\"Sales\": 1561.161303, \"Sales_pred\": 1547.1841106750073, \"Absolute_Dif\": 13.977192324992757}, {\"Sales\": 1141.11742, \"Sales_pred\": 1138.8826094767915, \"Absolute_Dif\": 2.23481052320858}, {\"Sales\": 1604.991397, \"Sales_pred\": 1617.209463855729, \"Absolute_Dif\": 12.218066855728921}, {\"Sales\": 1620.610392, \"Sales_pred\": 1598.655653867153, \"Absolute_Dif\": 21.95473813284707}, {\"Sales\": 1033.625448, \"Sales_pred\": 1048.4644617029621, \"Absolute_Dif\": 14.83901370296212}, {\"Sales\": 1190.928026, \"Sales_pred\": 1181.158961885084, \"Absolute_Dif\": 9.769064114916091}, {\"Sales\": 1472.326899, \"Sales_pred\": 1473.9634113809798, \"Absolute_Dif\": 1.636512380979866}, {\"Sales\": 1220.237855, \"Sales_pred\": 1218.1493767151, \"Absolute_Dif\": 2.0884782849000203}, {\"Sales\": 1076.278297, \"Sales_pred\": 1084.657901262055, \"Absolute_Dif\": 8.379604262054954}, {\"Sales\": 1542.463303, \"Sales_pred\": 1546.7633756707323, \"Absolute_Dif\": 4.300072670732334}, {\"Sales\": 1167.759705, \"Sales_pred\": 1175.5596737296382, \"Absolute_Dif\": 7.7999687296382945}, {\"Sales\": 1571.284525, \"Sales_pred\": 1573.5318215832924, \"Absolute_Dif\": 2.247296583292382}, {\"Sales\": 1258.72934, \"Sales_pred\": 1030.250467348887, \"Absolute_Dif\": 228.47887265111308}, {\"Sales\": 1120.28481, \"Sales_pred\": 1123.9827023785583, \"Absolute_Dif\": 3.6978923785582083}, {\"Sales\": 1111.79488, \"Sales_pred\": 1099.3557432185676, \"Absolute_Dif\": 12.439136781432353}, {\"Sales\": 1101.486666, \"Sales_pred\": 1114.613322349901, \"Absolute_Dif\": 13.12665634990094}, {\"Sales\": 1481.417652, \"Sales_pred\": 1479.33322491644, \"Absolute_Dif\": 2.0844270835600582}, {\"Sales\": 1440.668229, \"Sales_pred\": 1434.1125626842095, \"Absolute_Dif\": 6.555666315790631}, {\"Sales\": 1117.278653, \"Sales_pred\": 1072.0567402758516, \"Absolute_Dif\": 45.221912724148524}, {\"Sales\": 1217.77612, \"Sales_pred\": 1226.9798383036205, \"Absolute_Dif\": 9.203718303620462}, {\"Sales\": 1429.113951, \"Sales_pred\": 1449.1200884450668, \"Absolute_Dif\": 20.00613744506677}, {\"Sales\": 1438.740879, \"Sales_pred\": 1426.7421777704403, \"Absolute_Dif\": 11.998701229559629}, {\"Sales\": 1335.989578, \"Sales_pred\": 1335.8197946469968, \"Absolute_Dif\": 0.1697833530031403}, {\"Sales\": 1158.902901, \"Sales_pred\": 1161.9307216582824, \"Absolute_Dif\": 3.027820658282508}, {\"Sales\": 1614.398262, \"Sales_pred\": 1616.507143194194, \"Absolute_Dif\": 2.108881194194055}, {\"Sales\": 1226.880953, \"Sales_pred\": 1240.6124178579303, \"Absolute_Dif\": 13.731464857930177}, {\"Sales\": 1178.215115, \"Sales_pred\": 1215.2276043752477, \"Absolute_Dif\": 37.012489375247696}, {\"Sales\": 1702.044949, \"Sales_pred\": 1711.9460312969, \"Absolute_Dif\": 9.901082296899858}, {\"Sales\": 916.6173655, \"Sales_pred\": 922.9053315549404, \"Absolute_Dif\": 6.287966054940398}, {\"Sales\": 1374.739369, \"Sales_pred\": 1368.7154947748809, \"Absolute_Dif\": 6.023874225119016}, {\"Sales\": 1458.354482, \"Sales_pred\": 1451.6045279518817, \"Absolute_Dif\": 6.749954048118298}, {\"Sales\": 1373.972636, \"Sales_pred\": 1393.7440723043278, \"Absolute_Dif\": 19.771436304327835}, {\"Sales\": 1539.965205, \"Sales_pred\": 1545.673923047199, \"Absolute_Dif\": 5.708718047199}, {\"Sales\": 1442.635395, \"Sales_pred\": 1438.0195916870903, \"Absolute_Dif\": 4.6158033129097475}, {\"Sales\": 1555.572237, \"Sales_pred\": 1581.0724540211095, \"Absolute_Dif\": 25.500217021109393}, {\"Sales\": 950.5170657, \"Sales_pred\": 962.5820474683505, \"Absolute_Dif\": 12.064981768350549}, {\"Sales\": 1260.613487, \"Sales_pred\": 1301.2010302502044, \"Absolute_Dif\": 40.58754325020436}, {\"Sales\": 1321.67414, \"Sales_pred\": 1354.9664356897806, \"Absolute_Dif\": 33.29229568978053}, {\"Sales\": 848.3886857, \"Sales_pred\": 877.1829785373034, \"Absolute_Dif\": 28.794292837303374}, {\"Sales\": 1427.354951, \"Sales_pred\": 1433.0011810340197, \"Absolute_Dif\": 5.646230034019709}, {\"Sales\": 1188.777515, \"Sales_pred\": 1180.2027786092253, \"Absolute_Dif\": 8.57473639077466}, {\"Sales\": 906.9796282, \"Sales_pred\": 907.1874781646238, \"Absolute_Dif\": 0.20784996462384697}, {\"Sales\": 1566.771283, \"Sales_pred\": 1559.6492735577256, \"Absolute_Dif\": 7.122009442274475}, {\"Sales\": 1534.993964, \"Sales_pred\": 1533.1705468714686, \"Absolute_Dif\": 1.823417128531446}, {\"Sales\": 1469.087759, \"Sales_pred\": 1495.348498938472, \"Absolute_Dif\": 26.260739938471943}]}}, {\"mode\": \"vega-lite\"});\n",
       "</script>"
      ],
      "text/plain": [
       "alt.Chart(...)"
      ]
     },
     "execution_count": 32,
     "metadata": {},
     "output_type": "execute_result"
    }
   ],
   "source": [
    "alt.Chart(results_train).mark_bar(color=\"#1A9873\",stroke='#000000',strokeOpacity=0.5).encode(\n",
    "    x=alt.X('Sales:Q', title='Ventas en Millones'),\n",
    "    y=alt.Y('Absolute_Dif:Q', title='Error Absoluto en Millones', axis=alt.Axis(titlePadding=20)),\n",
    "    tooltip=[alt.Tooltip('Sales:Q',title='Ventas originales'),\n",
    "               alt.Tooltip('Sales_pred:Q',title='Ventas predecidas'),\n",
    "            alt.Tooltip('Absolute_Dif:Q',title='Error absoluto')],\n",
    ").properties(\n",
    "    title='Histograma del error absoluto de las ventas en el set de entrenamiento',\n",
    "    width = 800,\n",
    "    height = 300\n",
    ").configure_title(\n",
    "    fontSize = 20,\n",
    "    anchor = 'start',\n",
    "    dy = -10,\n",
    "    dx = 45\n",
    ")"
   ]
  },
  {
   "cell_type": "code",
   "execution_count": 33,
   "id": "9d99f8db",
   "metadata": {},
   "outputs": [],
   "source": [
    "sales_original_chart = alt.Chart(results_train).mark_bar(color=\"#995DB3\",stroke='#000000',strokeOpacity=0.2).encode(\n",
    "    x=alt.X('Sales:Q', title='', bin=True),\n",
    "    y=alt.Y('count():Q', title='', axis=alt.Axis(titlePadding=20)),\n",
    ")"
   ]
  },
  {
   "cell_type": "code",
   "execution_count": 34,
   "id": "d173b5ad",
   "metadata": {},
   "outputs": [],
   "source": [
    "sales_pred_chart = alt.Chart(results_train).mark_bar(color=\"#73F65A\",stroke='#000000',strokeOpacity=0.5,opacity=0.7).encode(\n",
    "    x=alt.X('Sales_pred:Q', title='Ventas en Millones', bin=True),\n",
    "    y=alt.Y('count():Q', title='Frecuencia Relativa', axis=alt.Axis(titlePadding=20)),\n",
    ")"
   ]
  },
  {
   "cell_type": "code",
   "execution_count": 35,
   "id": "92054b4a",
   "metadata": {},
   "outputs": [
    {
     "data": {
      "text/html": [
       "\n",
       "<div id=\"altair-viz-bf64bf515c30467d86372053b2b3711e\"></div>\n",
       "<script type=\"text/javascript\">\n",
       "  (function(spec, embedOpt){\n",
       "    let outputDiv = document.currentScript.previousElementSibling;\n",
       "    if (outputDiv.id !== \"altair-viz-bf64bf515c30467d86372053b2b3711e\") {\n",
       "      outputDiv = document.getElementById(\"altair-viz-bf64bf515c30467d86372053b2b3711e\");\n",
       "    }\n",
       "    const paths = {\n",
       "      \"vega\": \"https://cdn.jsdelivr.net/npm//vega@5?noext\",\n",
       "      \"vega-lib\": \"https://cdn.jsdelivr.net/npm//vega-lib?noext\",\n",
       "      \"vega-lite\": \"https://cdn.jsdelivr.net/npm//vega-lite@4.17.0?noext\",\n",
       "      \"vega-embed\": \"https://cdn.jsdelivr.net/npm//vega-embed@6?noext\",\n",
       "    };\n",
       "\n",
       "    function loadScript(lib) {\n",
       "      return new Promise(function(resolve, reject) {\n",
       "        var s = document.createElement('script');\n",
       "        s.src = paths[lib];\n",
       "        s.async = true;\n",
       "        s.onload = () => resolve(paths[lib]);\n",
       "        s.onerror = () => reject(`Error loading script: ${paths[lib]}`);\n",
       "        document.getElementsByTagName(\"head\")[0].appendChild(s);\n",
       "      });\n",
       "    }\n",
       "\n",
       "    function showError(err) {\n",
       "      outputDiv.innerHTML = `<div class=\"error\" style=\"color:red;\">${err}</div>`;\n",
       "      throw err;\n",
       "    }\n",
       "\n",
       "    function displayChart(vegaEmbed) {\n",
       "      vegaEmbed(outputDiv, spec, embedOpt)\n",
       "        .catch(err => showError(`Javascript Error: ${err.message}<br>This usually means there's a typo in your chart specification. See the javascript console for the full traceback.`));\n",
       "    }\n",
       "\n",
       "    if(typeof define === \"function\" && define.amd) {\n",
       "      requirejs.config({paths});\n",
       "      require([\"vega-embed\"], displayChart, err => showError(`Error loading script: ${err.message}`));\n",
       "    } else if (typeof vegaEmbed === \"function\") {\n",
       "      displayChart(vegaEmbed);\n",
       "    } else {\n",
       "      loadScript(\"vega\")\n",
       "        .then(() => loadScript(\"vega-lite\"))\n",
       "        .then(() => loadScript(\"vega-embed\"))\n",
       "        .catch(showError)\n",
       "        .then(() => displayChart(vegaEmbed));\n",
       "    }\n",
       "  })({\"config\": {\"view\": {\"continuousWidth\": 400, \"continuousHeight\": 300}, \"title\": {\"anchor\": \"start\", \"dx\": 45, \"dy\": -10, \"fontSize\": 20}}, \"layer\": [{\"mark\": {\"type\": \"bar\", \"color\": \"#995DB3\", \"stroke\": \"#000000\", \"strokeOpacity\": 0.2}, \"encoding\": {\"x\": {\"bin\": true, \"field\": \"Sales\", \"title\": \"\", \"type\": \"quantitative\"}, \"y\": {\"aggregate\": \"count\", \"axis\": {\"titlePadding\": 20}, \"title\": \"\", \"type\": \"quantitative\"}}}, {\"mark\": {\"type\": \"bar\", \"color\": \"#73F65A\", \"opacity\": 0.7, \"stroke\": \"#000000\", \"strokeOpacity\": 0.5}, \"encoding\": {\"x\": {\"bin\": true, \"field\": \"Sales_pred\", \"title\": \"Ventas en Millones\", \"type\": \"quantitative\"}, \"y\": {\"aggregate\": \"count\", \"axis\": {\"titlePadding\": 20}, \"title\": \"Frecuencia Relativa\", \"type\": \"quantitative\"}}}], \"data\": {\"name\": \"data-479eca8005f61c491b00b10678fab9a0\"}, \"title\": \"Histograma de las ventas originales vs ventas predecidas\", \"width\": 700, \"$schema\": \"https://vega.github.io/schema/vega-lite/v4.17.0.json\", \"datasets\": {\"data-479eca8005f61c491b00b10678fab9a0\": [{\"Sales\": 1715.992132, \"Sales_pred\": 1730.1388575584792, \"Absolute_Dif\": 14.146725558479147}, {\"Sales\": 1291.359328, \"Sales_pred\": 1268.1059501040254, \"Absolute_Dif\": 23.25337789597461}, {\"Sales\": 1096.079007, \"Sales_pred\": 1114.3588843167367, \"Absolute_Dif\": 18.2798773167367}, {\"Sales\": 1289.100231, \"Sales_pred\": 1288.6627322939798, \"Absolute_Dif\": 0.43749870602005103}, {\"Sales\": 1721.723788, \"Sales_pred\": 1714.2553681282513, \"Absolute_Dif\": 7.468419871748665}, {\"Sales\": 1431.382907, \"Sales_pred\": 1451.603945276404, \"Absolute_Dif\": 20.221038276403988}, {\"Sales\": 1621.801265, \"Sales_pred\": 1335.0455327792233, \"Absolute_Dif\": 286.75573222077674}, {\"Sales\": 1585.679073, \"Sales_pred\": 1575.02936431957, \"Absolute_Dif\": 10.649708680429967}, {\"Sales\": 1471.360249, \"Sales_pred\": 1466.5306367171202, \"Absolute_Dif\": 4.829612282879907}, {\"Sales\": 1690.795857, \"Sales_pred\": 1695.9262589627567, \"Absolute_Dif\": 5.13040196275665}, {\"Sales\": 1630.728464, \"Sales_pred\": 1631.8139428201337, \"Absolute_Dif\": 1.0854788201336305}, {\"Sales\": 1784.573855, \"Sales_pred\": 1787.0386375174157, \"Absolute_Dif\": 2.4647825174156424}, {\"Sales\": 1453.533199, \"Sales_pred\": 1460.6544836275198, \"Absolute_Dif\": 7.121284627519799}, {\"Sales\": 1263.575942, \"Sales_pred\": 1260.6940941630742, \"Absolute_Dif\": 2.881847836925772}, {\"Sales\": 985.8775542, \"Sales_pred\": 1001.1927938433505, \"Absolute_Dif\": 15.315239643350537}, {\"Sales\": 1217.638907, \"Sales_pred\": 1226.9833642525455, \"Absolute_Dif\": 9.344457252545453}, {\"Sales\": 1334.236026, \"Sales_pred\": 1329.5569285363886, \"Absolute_Dif\": 4.67909746361147}, {\"Sales\": 1875.871682, \"Sales_pred\": 1871.7039135657362, \"Absolute_Dif\": 4.167768434263735}, {\"Sales\": 1691.856747, \"Sales_pred\": 1674.6286701472404, \"Absolute_Dif\": 17.228076852759614}, {\"Sales\": 1342.789387, \"Sales_pred\": 1341.9060496756638, \"Absolute_Dif\": 0.883337324336253}, {\"Sales\": 1490.121696, \"Sales_pred\": 1495.4769286952255, \"Absolute_Dif\": 5.355232695225595}, {\"Sales\": 1038.513492, \"Sales_pred\": 1037.8594573440264, \"Absolute_Dif\": 0.6540346559736463}, {\"Sales\": 1196.298379, \"Sales_pred\": 1193.057751378587, \"Absolute_Dif\": 3.2406276214130685}, {\"Sales\": 1360.625919, \"Sales_pred\": 1360.9561402553645, \"Absolute_Dif\": 0.33022125536444946}, {\"Sales\": 1615.406208, \"Sales_pred\": 1625.7399117481375, \"Absolute_Dif\": 10.333703748137395}, {\"Sales\": 1381.458599, \"Sales_pred\": 1362.4874230918772, \"Absolute_Dif\": 18.97117590812286}, {\"Sales\": 1509.599508, \"Sales_pred\": 1508.0067250708462, \"Absolute_Dif\": 1.5927829291538274}, {\"Sales\": 1474.780508, \"Sales_pred\": 1468.7782043556695, \"Absolute_Dif\": 6.0023036443305955}, {\"Sales\": 1498.258922, \"Sales_pred\": 1478.7701251106196, \"Absolute_Dif\": 19.48879688938041}, {\"Sales\": 1290.083759, \"Sales_pred\": 1308.7207487057094, \"Absolute_Dif\": 18.63698970570931}, {\"Sales\": 1481.259017, \"Sales_pred\": 1463.6934605337315, \"Absolute_Dif\": 17.565556466268617}, {\"Sales\": 1336.110908, \"Sales_pred\": 1336.937277296266, \"Absolute_Dif\": 0.8263692962659661}, {\"Sales\": 1531.447009, \"Sales_pred\": 1540.1583383990726, \"Absolute_Dif\": 8.71132939907261}, {\"Sales\": 1053.072563, \"Sales_pred\": 1073.0474008556503, \"Absolute_Dif\": 19.97483785565032}, {\"Sales\": 1052.209089, \"Sales_pred\": 1056.8540617440335, \"Absolute_Dif\": 4.644972744033566}, {\"Sales\": 1268.659909, \"Sales_pred\": 1243.4225326388596, \"Absolute_Dif\": 25.237376361140377}, {\"Sales\": 911.7825306, \"Sales_pred\": 909.7295312582655, \"Absolute_Dif\": 2.0529993417344485}, {\"Sales\": 1280.292934, \"Sales_pred\": 1279.97571385136, \"Absolute_Dif\": 0.31722014863998993}, {\"Sales\": 1456.4027, \"Sales_pred\": 1450.4551268321939, \"Absolute_Dif\": 5.94757316780624}, {\"Sales\": 1377.795407, \"Sales_pred\": 1411.6016917402376, \"Absolute_Dif\": 33.806284740237516}, {\"Sales\": 749.079033, \"Sales_pred\": 764.2569012255381, \"Absolute_Dif\": 15.177868225538077}, {\"Sales\": 1268.440519, \"Sales_pred\": 1267.9473008217947, \"Absolute_Dif\": 0.4932181782053249}, {\"Sales\": 1199.896022, \"Sales_pred\": 1151.3603008741284, \"Absolute_Dif\": 48.53572112587153}, {\"Sales\": 787.5699381, \"Sales_pred\": 810.395358097825, \"Absolute_Dif\": 22.825419997825065}, {\"Sales\": 1312.402417, \"Sales_pred\": 1320.9868354867654, \"Absolute_Dif\": 8.584418486765344}, {\"Sales\": 1380.453572, \"Sales_pred\": 1376.6528216428965, \"Absolute_Dif\": 3.800750357103425}, {\"Sales\": 1231.195493, \"Sales_pred\": 1229.0978463153283, \"Absolute_Dif\": 2.097646684671645}, {\"Sales\": 1360.610045, \"Sales_pred\": 1380.9786030548294, \"Absolute_Dif\": 20.368558054829464}, {\"Sales\": 1501.570248, \"Sales_pred\": 1501.9104369428953, \"Absolute_Dif\": 0.3401889428953382}, {\"Sales\": 1357.921625, \"Sales_pred\": 1366.2015622040385, \"Absolute_Dif\": 8.27993720403856}, {\"Sales\": 1570.648283, \"Sales_pred\": 1555.4363992833357, \"Absolute_Dif\": 15.21188371666426}, {\"Sales\": 1209.758603, \"Sales_pred\": 1208.9996839935561, \"Absolute_Dif\": 0.7589190064438753}, {\"Sales\": 1634.414809, \"Sales_pred\": 1625.6953553603266, \"Absolute_Dif\": 8.719453639673475}, {\"Sales\": 888.0776532, \"Sales_pred\": 893.4172044131851, \"Absolute_Dif\": 5.339551213185132}, {\"Sales\": 1458.099198, \"Sales_pred\": 1468.3428901052257, \"Absolute_Dif\": 10.243692105225819}, {\"Sales\": 1691.302495, \"Sales_pred\": 1682.6345795457005, \"Absolute_Dif\": 8.667915454299418}, {\"Sales\": 1715.778269, \"Sales_pred\": 1704.043976132938, \"Absolute_Dif\": 11.734292867061868}, {\"Sales\": 941.7599053, \"Sales_pred\": 954.19078426345, \"Absolute_Dif\": 12.430878963450027}, {\"Sales\": 727.605887, \"Sales_pred\": 753.1367184288952, \"Absolute_Dif\": 25.530831428895112}, {\"Sales\": 1483.610563, \"Sales_pred\": 1486.5896772172212, \"Absolute_Dif\": 2.979114217221195}, {\"Sales\": 969.8616316, \"Sales_pred\": 996.5112999568701, \"Absolute_Dif\": 26.649668356870052}, {\"Sales\": 1712.343672, \"Sales_pred\": 1711.5803891900803, \"Absolute_Dif\": 0.7632828099197013}, {\"Sales\": 1241.127005, \"Sales_pred\": 1266.4720763301334, \"Absolute_Dif\": 25.34507133013335}, {\"Sales\": 1257.082405, \"Sales_pred\": 1238.011241343294, \"Absolute_Dif\": 19.071163656706176}, {\"Sales\": 1300.405574, \"Sales_pred\": 1290.7496237203782, \"Absolute_Dif\": 9.65595027962172}, {\"Sales\": 1275.382318, \"Sales_pred\": 1288.6428883359358, \"Absolute_Dif\": 13.260570335935881}, {\"Sales\": 1170.61422, \"Sales_pred\": 1176.2038369312045, \"Absolute_Dif\": 5.589616931204546}, {\"Sales\": 1601.82838, \"Sales_pred\": 1616.1333410182272, \"Absolute_Dif\": 14.304961018227232}, {\"Sales\": 877.6615036, \"Sales_pred\": 883.528303993663, \"Absolute_Dif\": 5.866800393663084}, {\"Sales\": 1168.666404, \"Sales_pred\": 1166.9216081922164, \"Absolute_Dif\": 1.744795807783703}, {\"Sales\": 1315.666159, \"Sales_pred\": 1305.7115442552868, \"Absolute_Dif\": 9.954614744713354}, {\"Sales\": 957.3251723, \"Sales_pred\": 970.8538333203105, \"Absolute_Dif\": 13.528661020310551}, {\"Sales\": 1204.021122, \"Sales_pred\": 1222.3826335648296, \"Absolute_Dif\": 18.36151156482947}, {\"Sales\": 1700.004822, \"Sales_pred\": 1696.5052544677444, \"Absolute_Dif\": 3.4995675322556963}, {\"Sales\": 1608.358428, \"Sales_pred\": 1631.9150744975486, \"Absolute_Dif\": 23.556646497548627}, {\"Sales\": 1372.775363, \"Sales_pred\": 1376.7694866540219, \"Absolute_Dif\": 3.994123654021905}, {\"Sales\": 1670.867534, \"Sales_pred\": 1650.5166079204707, \"Absolute_Dif\": 20.350926079529245}, {\"Sales\": 1064.960639, \"Sales_pred\": 1066.0862602019638, \"Absolute_Dif\": 1.1256212019638951}, {\"Sales\": 1524.674321, \"Sales_pred\": 1512.2201783546382, \"Absolute_Dif\": 12.454142645361799}, {\"Sales\": 1358.049626, \"Sales_pred\": 1371.1118711689992, \"Absolute_Dif\": 13.062245168999198}, {\"Sales\": 1614.742036, \"Sales_pred\": 1644.5541212331543, \"Absolute_Dif\": 29.81208523315422}, {\"Sales\": 1678.18861, \"Sales_pred\": 1400.9868416635272, \"Absolute_Dif\": 277.2017683364727}, {\"Sales\": 1410.100673, \"Sales_pred\": 1413.99020572966, \"Absolute_Dif\": 3.8895327296600044}, {\"Sales\": 1107.162763, \"Sales_pred\": 1123.0497209701457, \"Absolute_Dif\": 15.886957970145659}, {\"Sales\": 1342.006082, \"Sales_pred\": 1335.5150545118022, \"Absolute_Dif\": 6.491027488197915}, {\"Sales\": 908.4358433, \"Sales_pred\": 896.087489877913, \"Absolute_Dif\": 12.34835342208703}, {\"Sales\": 1401.428063, \"Sales_pred\": 1387.9899946455284, \"Absolute_Dif\": 13.438068354471625}, {\"Sales\": 1802.785431, \"Sales_pred\": 1781.3491927197153, \"Absolute_Dif\": 21.43623828028467}, {\"Sales\": 1289.141371, \"Sales_pred\": 1379.4804160642334, \"Absolute_Dif\": 90.33904506423346}, {\"Sales\": 1257.478118, \"Sales_pred\": 1256.186321932969, \"Absolute_Dif\": 1.2917960670311004}, {\"Sales\": 972.5691591, \"Sales_pred\": 991.0936690522121, \"Absolute_Dif\": 18.524509952212156}, {\"Sales\": 1510.433656, \"Sales_pred\": 1205.5890925672525, \"Absolute_Dif\": 304.84456343274746}, {\"Sales\": 1605.544927, \"Sales_pred\": 1596.3599473805791, \"Absolute_Dif\": 9.184979619420801}, {\"Sales\": 1418.056183, \"Sales_pred\": 1418.386848150929, \"Absolute_Dif\": 0.3306651509290077}, {\"Sales\": 1458.460013, \"Sales_pred\": 1463.186440746858, \"Absolute_Dif\": 4.726427746858008}, {\"Sales\": 1353.936309, \"Sales_pred\": 1326.4409537863867, \"Absolute_Dif\": 27.495355213613266}, {\"Sales\": 1553.501423, \"Sales_pred\": 1558.9341394923845, \"Absolute_Dif\": 5.432716492384543}, {\"Sales\": 1562.855362, \"Sales_pred\": 1560.8997153245034, \"Absolute_Dif\": 1.9556466754966095}, {\"Sales\": 1395.896488, \"Sales_pred\": 1407.7062774154715, \"Absolute_Dif\": 11.809789415471414}, {\"Sales\": 1399.938304, \"Sales_pred\": 1392.6894659271484, \"Absolute_Dif\": 7.24883807285164}, {\"Sales\": 1804.306786, \"Sales_pred\": 1792.654425522039, \"Absolute_Dif\": 11.65236047796111}, {\"Sales\": 1314.828914, \"Sales_pred\": 1321.9348962474292, \"Absolute_Dif\": 7.1059822474292105}, {\"Sales\": 1406.155093, \"Sales_pred\": 1400.750367661829, \"Absolute_Dif\": 5.404725338171147}, {\"Sales\": 1008.509951, \"Sales_pred\": 1005.3828574912518, \"Absolute_Dif\": 3.127093508748203}, {\"Sales\": 900.7804509, \"Sales_pred\": 895.8407237773622, \"Absolute_Dif\": 4.939727122637805}, {\"Sales\": 1587.278951, \"Sales_pred\": 1584.9074488832034, \"Absolute_Dif\": 2.3715021167965915}, {\"Sales\": 1221.700683, \"Sales_pred\": 1231.3523035590788, \"Absolute_Dif\": 9.651620559078765}, {\"Sales\": 1289.341518, \"Sales_pred\": 1314.6252632429887, \"Absolute_Dif\": 25.283745242988743}, {\"Sales\": 1681.736613, \"Sales_pred\": 1662.8561065667925, \"Absolute_Dif\": 18.88050643320753}, {\"Sales\": 1583.688338, \"Sales_pred\": 1591.202548613745, \"Absolute_Dif\": 7.5142106137450355}, {\"Sales\": 1446.775435, \"Sales_pred\": 1444.214725891255, \"Absolute_Dif\": 2.560709108744959}, {\"Sales\": 1556.66404, \"Sales_pred\": 1566.9783379888206, \"Absolute_Dif\": 10.314297988820499}, {\"Sales\": 1084.040508, \"Sales_pred\": 1096.3689026212533, \"Absolute_Dif\": 12.32839462125321}, {\"Sales\": 1666.783563, \"Sales_pred\": 1650.625420009858, \"Absolute_Dif\": 16.15814299014187}, {\"Sales\": 1421.306867, \"Sales_pred\": 1422.2362418363878, \"Absolute_Dif\": 0.9293748363877512}, {\"Sales\": 1614.274007, \"Sales_pred\": 1625.6682195626456, \"Absolute_Dif\": 11.394212562645635}, {\"Sales\": 1536.231501, \"Sales_pred\": 1506.456838246857, \"Absolute_Dif\": 29.774662753143048}, {\"Sales\": 1322.841142, \"Sales_pred\": 1307.4247489123768, \"Absolute_Dif\": 15.416393087623192}, {\"Sales\": 1622.401258, \"Sales_pred\": 1629.605092111286, \"Absolute_Dif\": 7.203834111285914}, {\"Sales\": 1594.75213, \"Sales_pred\": 1581.3575652064198, \"Absolute_Dif\": 13.39456479358023}, {\"Sales\": 1589.263007, \"Sales_pred\": 1592.5019932068094, \"Absolute_Dif\": 3.238986206809386}, {\"Sales\": 1231.702145, \"Sales_pred\": 1230.6067537499985, \"Absolute_Dif\": 1.0953912500015122}, {\"Sales\": 1631.240705, \"Sales_pred\": 1612.9336131353432, \"Absolute_Dif\": 18.30709186465674}, {\"Sales\": 1488.845457, \"Sales_pred\": 1510.0570662093844, \"Absolute_Dif\": 21.211609209384505}, {\"Sales\": 1204.856615, \"Sales_pred\": 1200.2511705336233, \"Absolute_Dif\": 4.605444466376639}, {\"Sales\": 765.3271016, \"Sales_pred\": 751.212191601705, \"Absolute_Dif\": 14.114909998295047}, {\"Sales\": 1360.47784, \"Sales_pred\": 1355.5219772649457, \"Absolute_Dif\": 4.955862735054325}, {\"Sales\": 1575.835702, \"Sales_pred\": 1582.0608398177071, \"Absolute_Dif\": 6.2251378177070364}, {\"Sales\": 1166.653271, \"Sales_pred\": 1170.922893375412, \"Absolute_Dif\": 4.269622375412155}, {\"Sales\": 1954.873433, \"Sales_pred\": 1933.3753094296421, \"Absolute_Dif\": 21.498123570357848}, {\"Sales\": 2044.565106, \"Sales_pred\": 2057.567552686275, \"Absolute_Dif\": 13.002446686275107}, {\"Sales\": 1388.225606, \"Sales_pred\": 1394.4065507128862, \"Absolute_Dif\": 6.18094471288623}, {\"Sales\": 1358.542859, \"Sales_pred\": 1367.6311160787086, \"Absolute_Dif\": 9.088257078708693}, {\"Sales\": 1563.63027, \"Sales_pred\": 1568.5418558129336, \"Absolute_Dif\": 4.911585812933481}, {\"Sales\": 1733.539495, \"Sales_pred\": 1728.9029761553397, \"Absolute_Dif\": 4.636518844660259}, {\"Sales\": 1251.346337, \"Sales_pred\": 1253.3160861244896, \"Absolute_Dif\": 1.969749124489681}, {\"Sales\": 1243.612959, \"Sales_pred\": 1246.835013125291, \"Absolute_Dif\": 3.2220541252909243}, {\"Sales\": 1288.709611, \"Sales_pred\": 1306.004648035274, \"Absolute_Dif\": 17.295037035273936}, {\"Sales\": 1253.411666, \"Sales_pred\": 1507.9433085796097, \"Absolute_Dif\": 254.53164257960975}, {\"Sales\": 1408.383798, \"Sales_pred\": 1404.2802201963991, \"Absolute_Dif\": 4.103577803600956}, {\"Sales\": 936.8838202, \"Sales_pred\": 934.2736139181229, \"Absolute_Dif\": 2.6102062818770264}, {\"Sales\": 1033.984768, \"Sales_pred\": 1042.5113776754956, \"Absolute_Dif\": 8.526609675495592}, {\"Sales\": 1166.945407, \"Sales_pred\": 1167.7289834801386, \"Absolute_Dif\": 0.7835764801386631}, {\"Sales\": 1394.821813, \"Sales_pred\": 1389.9828781650544, \"Absolute_Dif\": 4.838934834945576}, {\"Sales\": 1171.627051, \"Sales_pred\": 1171.1048323765303, \"Absolute_Dif\": 0.5222186234695982}, {\"Sales\": 1227.042094, \"Sales_pred\": 1240.9529310137627, \"Absolute_Dif\": 13.91083701376283}, {\"Sales\": 1119.93221, \"Sales_pred\": 1118.4560787622559, \"Absolute_Dif\": 1.4761312377440845}, {\"Sales\": 1494.596366, \"Sales_pred\": 1493.915271824257, \"Absolute_Dif\": 0.6810941757430555}, {\"Sales\": 1633.714525, \"Sales_pred\": 1654.0334727523195, \"Absolute_Dif\": 20.318947752319445}, {\"Sales\": 1073.817095, \"Sales_pred\": 1070.0062095540202, \"Absolute_Dif\": 3.8108854459799204}, {\"Sales\": 997.6759137, \"Sales_pred\": 979.3025244379301, \"Absolute_Dif\": 18.373389262069963}, {\"Sales\": 1362.225025, \"Sales_pred\": 1371.1798271890934, \"Absolute_Dif\": 8.95480218909347}, {\"Sales\": 1494.771653, \"Sales_pred\": 1492.565644885081, \"Absolute_Dif\": 2.2060081149190864}, {\"Sales\": 1433.789838, \"Sales_pred\": 1411.5829269552883, \"Absolute_Dif\": 22.20691104471166}, {\"Sales\": 1470.422172, \"Sales_pred\": 1471.91267359334, \"Absolute_Dif\": 1.4905015933400136}, {\"Sales\": 1200.231736, \"Sales_pred\": 1203.517718934867, \"Absolute_Dif\": 3.285982934866979}, {\"Sales\": 1456.445062, \"Sales_pred\": 1466.5489846947012, \"Absolute_Dif\": 10.103922694701168}, {\"Sales\": 1110.805958, \"Sales_pred\": 1122.0680064188787, \"Absolute_Dif\": 11.262048418878749}, {\"Sales\": 1285.38867, \"Sales_pred\": 1294.2261521005548, \"Absolute_Dif\": 8.83748210055478}, {\"Sales\": 1421.902766, \"Sales_pred\": 1423.643355969432, \"Absolute_Dif\": 1.7405899694319942}, {\"Sales\": 1568.129602, \"Sales_pred\": 1548.4234449929374, \"Absolute_Dif\": 19.70615700706253}, {\"Sales\": 1622.260553, \"Sales_pred\": 1630.9061553168788, \"Absolute_Dif\": 8.645602316878694}, {\"Sales\": 1315.722755, \"Sales_pred\": 1341.4579105967077, \"Absolute_Dif\": 25.735155596707727}, {\"Sales\": 1587.975097, \"Sales_pred\": 1561.619092587663, \"Absolute_Dif\": 26.356004412336915}, {\"Sales\": 1603.637991, \"Sales_pred\": 1588.2227340216355, \"Absolute_Dif\": 15.415256978364596}, {\"Sales\": 704.0045526, \"Sales_pred\": 705.6616275860201, \"Absolute_Dif\": 1.6570749860201204}, {\"Sales\": 1341.943403, \"Sales_pred\": 1346.3688038409268, \"Absolute_Dif\": 4.425400840926841}, {\"Sales\": 744.6865058, \"Sales_pred\": 744.4290023953558, \"Absolute_Dif\": 0.257503404644126}, {\"Sales\": 1378.664836, \"Sales_pred\": 1375.5467455186922, \"Absolute_Dif\": 3.1180904813077177}, {\"Sales\": 1763.277019, \"Sales_pred\": 1747.502704887528, \"Absolute_Dif\": 15.774314112472211}, {\"Sales\": 1591.617805, \"Sales_pred\": 1580.7632861820555, \"Absolute_Dif\": 10.854518817944609}, {\"Sales\": 970.1738748, \"Sales_pred\": 954.1241659924854, \"Absolute_Dif\": 16.049708807514662}, {\"Sales\": 1743.817927, \"Sales_pred\": 1714.5990613436438, \"Absolute_Dif\": 29.21886565635623}, {\"Sales\": 1489.804326, \"Sales_pred\": 1476.9186111812296, \"Absolute_Dif\": 12.885714818770339}, {\"Sales\": 923.7274261, \"Sales_pred\": 919.2112840381965, \"Absolute_Dif\": 4.516142061803521}, {\"Sales\": 1525.242824, \"Sales_pred\": 1533.4104392251893, \"Absolute_Dif\": 8.167615225189365}, {\"Sales\": 1060.91534, \"Sales_pred\": 1066.47697861593, \"Absolute_Dif\": 5.561638615929951}, {\"Sales\": 1042.025095, \"Sales_pred\": 1048.579494748441, \"Absolute_Dif\": 6.554399748441028}, {\"Sales\": 1175.717101, \"Sales_pred\": 1188.9462332444855, \"Absolute_Dif\": 13.229132244485527}, {\"Sales\": 1486.2154, \"Sales_pred\": 1505.61991672244, \"Absolute_Dif\": 19.404516722439894}, {\"Sales\": 1566.936667, \"Sales_pred\": 1601.8860673571846, \"Absolute_Dif\": 34.949400357184686}, {\"Sales\": 1597.888999, \"Sales_pred\": 1618.6291368780023, \"Absolute_Dif\": 20.740137878002315}, {\"Sales\": 1601.179365, \"Sales_pred\": 1601.9166075529565, \"Absolute_Dif\": 0.7372425529565589}, {\"Sales\": 1538.254095, \"Sales_pred\": 1540.342408988623, \"Absolute_Dif\": 2.0883139886229856}, {\"Sales\": 1678.513552, \"Sales_pred\": 1661.618857342179, \"Absolute_Dif\": 16.894694657820992}, {\"Sales\": 1391.473658, \"Sales_pred\": 1431.3701902192693, \"Absolute_Dif\": 39.896532219269375}, {\"Sales\": 1134.464688, \"Sales_pred\": 1145.3375892387403, \"Absolute_Dif\": 10.872901238740269}, {\"Sales\": 1566.06401, \"Sales_pred\": 1559.6723023954264, \"Absolute_Dif\": 6.391707604573639}, {\"Sales\": 779.7223266, \"Sales_pred\": 780.3690589344415, \"Absolute_Dif\": 0.6467323344414808}, {\"Sales\": 1270.561861, \"Sales_pred\": 1270.6704643673006, \"Absolute_Dif\": 0.1086033673007023}, {\"Sales\": 1075.6838, \"Sales_pred\": 1070.626744860077, \"Absolute_Dif\": 5.057055139923023}, {\"Sales\": 1336.125288, \"Sales_pred\": 1350.3976935289043, \"Absolute_Dif\": 14.2724055289043}, {\"Sales\": 1387.767088, \"Sales_pred\": 1391.2134624616397, \"Absolute_Dif\": 3.446374461639607}, {\"Sales\": 1682.839914, \"Sales_pred\": 1664.9887301068056, \"Absolute_Dif\": 17.851183893194275}, {\"Sales\": 640.377837, \"Sales_pred\": 645.4333778179157, \"Absolute_Dif\": 5.055540817915698}, {\"Sales\": 1698.431513, \"Sales_pred\": 1675.845810755566, \"Absolute_Dif\": 22.58570224443406}, {\"Sales\": 1513.338117, \"Sales_pred\": 1485.2557097580566, \"Absolute_Dif\": 28.08240724194343}, {\"Sales\": 1164.92162, \"Sales_pred\": 1189.9417901310198, \"Absolute_Dif\": 25.020170131019768}, {\"Sales\": 1673.418909, \"Sales_pred\": 1667.3509654498375, \"Absolute_Dif\": 6.067943550162454}, {\"Sales\": 1164.441359, \"Sales_pred\": 1169.6135864622593, \"Absolute_Dif\": 5.172227462259343}, {\"Sales\": 1304.702233, \"Sales_pred\": 1306.5960195161679, \"Absolute_Dif\": 1.8937865161678928}, {\"Sales\": 1296.449805, \"Sales_pred\": 1312.0178884049105, \"Absolute_Dif\": 15.568083404910567}, {\"Sales\": 1561.462044, \"Sales_pred\": 1549.96091802039, \"Absolute_Dif\": 11.501125979610151}, {\"Sales\": 1127.847509, \"Sales_pred\": 1128.6911419040975, \"Absolute_Dif\": 0.8436329040976034}, {\"Sales\": 590.3360164, \"Sales_pred\": 604.1680103295143, \"Absolute_Dif\": 13.831993929514397}, {\"Sales\": 773.2664095, \"Sales_pred\": 764.1176365709102, \"Absolute_Dif\": 9.148772929089773}, {\"Sales\": 1253.686203, \"Sales_pred\": 1255.2329081167177, \"Absolute_Dif\": 1.5467051167177033}, {\"Sales\": 1578.734806, \"Sales_pred\": 1571.4762658479394, \"Absolute_Dif\": 7.258540152060505}, {\"Sales\": 1239.884619, \"Sales_pred\": 1246.0361402773806, \"Absolute_Dif\": 6.1515212773806525}, {\"Sales\": 1300.573321, \"Sales_pred\": 1288.5948951976047, \"Absolute_Dif\": 11.97842580239535}, {\"Sales\": 1186.763601, \"Sales_pred\": 1202.5300400690608, \"Absolute_Dif\": 15.766439069060652}, {\"Sales\": 1574.744991, \"Sales_pred\": 1563.5549127229708, \"Absolute_Dif\": 11.190078277029215}, {\"Sales\": 1490.888419, \"Sales_pred\": 1493.8770064265384, \"Absolute_Dif\": 2.988587426538288}, {\"Sales\": 1425.5561, \"Sales_pred\": 1430.616542704346, \"Absolute_Dif\": 5.060442704346087}, {\"Sales\": 1883.424565, \"Sales_pred\": 1880.5447960546142, \"Absolute_Dif\": 2.8797689453858766}, {\"Sales\": 1919.911941, \"Sales_pred\": 1900.6338943545697, \"Absolute_Dif\": 19.278046645430322}, {\"Sales\": 1045.289811, \"Sales_pred\": 1038.0887277927368, \"Absolute_Dif\": 7.201083207263309}, {\"Sales\": 1301.5568, \"Sales_pred\": 1294.748277479037, \"Absolute_Dif\": 6.808522520963152}, {\"Sales\": 1603.791611, \"Sales_pred\": 1604.1279304093032, \"Absolute_Dif\": 0.336319409303087}, {\"Sales\": 1320.769576, \"Sales_pred\": 1329.5891804658663, \"Absolute_Dif\": 8.819604465866405}, {\"Sales\": 1152.071365, \"Sales_pred\": 1153.7561681780544, \"Absolute_Dif\": 1.6848031780543806}, {\"Sales\": 1330.280101, \"Sales_pred\": 1327.8447982816324, \"Absolute_Dif\": 2.435302718367666}, {\"Sales\": 1185.007911, \"Sales_pred\": 1215.0380423897454, \"Absolute_Dif\": 30.03013138974552}, {\"Sales\": 1398.519511, \"Sales_pred\": 1387.8434888325933, \"Absolute_Dif\": 10.6760221674067}, {\"Sales\": 1146.55981, \"Sales_pred\": 1122.7013533292852, \"Absolute_Dif\": 23.85845667071476}, {\"Sales\": 1318.161769, \"Sales_pred\": 1326.9835809459096, \"Absolute_Dif\": 8.82181194590953}, {\"Sales\": 1007.805421, \"Sales_pred\": 1000.3475302300226, \"Absolute_Dif\": 7.457890769977439}, {\"Sales\": 1421.30557, \"Sales_pred\": 1412.0090295407736, \"Absolute_Dif\": 9.296540459226435}, {\"Sales\": 1536.399179, \"Sales_pred\": 1533.5372699753807, \"Absolute_Dif\": 2.861909024619308}, {\"Sales\": 1063.460987, \"Sales_pred\": 1058.1292273757717, \"Absolute_Dif\": 5.331759624228198}, {\"Sales\": 1642.209427, \"Sales_pred\": 1610.6914495784754, \"Absolute_Dif\": 31.51797742152462}, {\"Sales\": 1304.114866, \"Sales_pred\": 1310.54388407419, \"Absolute_Dif\": 6.429018074190026}, {\"Sales\": 1304.920784, \"Sales_pred\": 1328.4691311493411, \"Absolute_Dif\": 23.548347149341225}, {\"Sales\": 892.0662647, \"Sales_pred\": 887.4499933062607, \"Absolute_Dif\": 4.616271393739339}, {\"Sales\": 1340.833512, \"Sales_pred\": 1343.280370330931, \"Absolute_Dif\": 2.446858330931036}, {\"Sales\": 1506.706605, \"Sales_pred\": 1502.0116499016735, \"Absolute_Dif\": 4.694955098326545}, {\"Sales\": 1273.767844, \"Sales_pred\": 1278.8143657909059, \"Absolute_Dif\": 5.046521790905899}, {\"Sales\": 1263.893688, \"Sales_pred\": 1266.2195149389404, \"Absolute_Dif\": 2.3258269389402813}, {\"Sales\": 1185.642011, \"Sales_pred\": 1194.3656441151043, \"Absolute_Dif\": 8.723633115104349}, {\"Sales\": 1195.810908, \"Sales_pred\": 1206.451773944416, \"Absolute_Dif\": 10.640865944415964}, {\"Sales\": 1222.817092, \"Sales_pred\": 1240.993898922914, \"Absolute_Dif\": 18.17680692291401}, {\"Sales\": 1230.376084, \"Sales_pred\": 941.2014168417841, \"Absolute_Dif\": 289.1746671582159}, {\"Sales\": 1454.851241, \"Sales_pred\": 1466.0392466493317, \"Absolute_Dif\": 11.188005649331672}, {\"Sales\": 1447.015523, \"Sales_pred\": 1465.032401865897, \"Absolute_Dif\": 18.01687886589707}, {\"Sales\": 1497.541283, \"Sales_pred\": 1496.062304215366, \"Absolute_Dif\": 1.4789787846339095}, {\"Sales\": 1498.721923, \"Sales_pred\": 1493.6044608780626, \"Absolute_Dif\": 5.1174621219374785}, {\"Sales\": 1393.859935, \"Sales_pred\": 1385.0658033553295, \"Absolute_Dif\": 8.794131644670415}, {\"Sales\": 1369.331665, \"Sales_pred\": 1384.828964986188, \"Absolute_Dif\": 15.497299986188182}, {\"Sales\": 1245.252341, \"Sales_pred\": 1255.3881218575712, \"Absolute_Dif\": 10.135780857571262}, {\"Sales\": 1384.513467, \"Sales_pred\": 1402.5189365931155, \"Absolute_Dif\": 18.00546959311555}, {\"Sales\": 1510.468216, \"Sales_pred\": 1524.7775393966383, \"Absolute_Dif\": 14.30932339663832}, {\"Sales\": 1391.284778, \"Sales_pred\": 1395.090145340815, \"Absolute_Dif\": 3.80536734081511}, {\"Sales\": 978.8768893, \"Sales_pred\": 987.4467377189835, \"Absolute_Dif\": 8.569848418983497}, {\"Sales\": 1469.630884, \"Sales_pred\": 1457.1918346759558, \"Absolute_Dif\": 12.439049324044163}, {\"Sales\": 1170.504623, \"Sales_pred\": 1147.1936059250297, \"Absolute_Dif\": 23.311017074970323}, {\"Sales\": 701.0822927, \"Sales_pred\": 699.1248042476113, \"Absolute_Dif\": 1.9574884523887022}, {\"Sales\": 1213.49494, \"Sales_pred\": 1477.8689796454175, \"Absolute_Dif\": 264.3740396454175}, {\"Sales\": 1269.821607, \"Sales_pred\": 1280.8712807563388, \"Absolute_Dif\": 11.049673756338734}, {\"Sales\": 1421.338538, \"Sales_pred\": 1403.959187416514, \"Absolute_Dif\": 17.37935058348603}, {\"Sales\": 1253.841796, \"Sales_pred\": 1248.2288409950957, \"Absolute_Dif\": 5.612955004904279}, {\"Sales\": 1437.826514, \"Sales_pred\": 1454.497007208683, \"Absolute_Dif\": 16.670493208682956}, {\"Sales\": 1838.544161, \"Sales_pred\": 1816.1269856177703, \"Absolute_Dif\": 22.417175382229743}, {\"Sales\": 1085.490333, \"Sales_pred\": 1085.06169692797, \"Absolute_Dif\": 0.42863607203003085}, {\"Sales\": 1452.070741, \"Sales_pred\": 1458.1393521843038, \"Absolute_Dif\": 6.068611184303791}, {\"Sales\": 1201.094761, \"Sales_pred\": 1218.0504814945243, \"Absolute_Dif\": 16.955720494524257}, {\"Sales\": 1014.327965, \"Sales_pred\": 1014.4763984015335, \"Absolute_Dif\": 0.1484334015335662}, {\"Sales\": 1278.452118, \"Sales_pred\": 1201.267051432279, \"Absolute_Dif\": 77.18506656772092}, {\"Sales\": 1220.853932, \"Sales_pred\": 1216.116585414824, \"Absolute_Dif\": 4.737346585176056}, {\"Sales\": 1288.089606, \"Sales_pred\": 1267.392365783896, \"Absolute_Dif\": 20.697240216104092}, {\"Sales\": 1451.278544, \"Sales_pred\": 1435.540211393853, \"Absolute_Dif\": 15.738332606146969}, {\"Sales\": 1298.281807, \"Sales_pred\": 1302.2212801678984, \"Absolute_Dif\": 3.9394731678983135}, {\"Sales\": 1575.857339, \"Sales_pred\": 1597.819579312205, \"Absolute_Dif\": 21.96224031220504}, {\"Sales\": 1669.992475, \"Sales_pred\": 1647.4048192873418, \"Absolute_Dif\": 22.58765571265826}, {\"Sales\": 1399.72411, \"Sales_pred\": 1430.981213402843, \"Absolute_Dif\": 31.25710340284286}, {\"Sales\": 1639.67716, \"Sales_pred\": 1642.6482202251773, \"Absolute_Dif\": 2.9710602251773253}, {\"Sales\": 821.0469896, \"Sales_pred\": 845.2946743443622, \"Absolute_Dif\": 24.247684744362232}, {\"Sales\": 1212.076916, \"Sales_pred\": 1247.566606229575, \"Absolute_Dif\": 35.48969022957499}, {\"Sales\": 1469.221986, \"Sales_pred\": 1472.1625054653023, \"Absolute_Dif\": 2.940519465302259}, {\"Sales\": 1424.650689, \"Sales_pred\": 1407.472786106493, \"Absolute_Dif\": 17.177902893507053}, {\"Sales\": 1342.092278, \"Sales_pred\": 1344.4065453863664, \"Absolute_Dif\": 2.314267386366282}, {\"Sales\": 1361.512909, \"Sales_pred\": 1361.7525518742796, \"Absolute_Dif\": 0.23964287427952513}, {\"Sales\": 952.1164619, \"Sales_pred\": 966.9815907583902, \"Absolute_Dif\": 14.865128858390221}, {\"Sales\": 1455.065511, \"Sales_pred\": 1440.430969118163, \"Absolute_Dif\": 14.634541881837094}, {\"Sales\": 1309.895493, \"Sales_pred\": 1288.5241252008345, \"Absolute_Dif\": 21.371367799165455}, {\"Sales\": 1149.909381, \"Sales_pred\": 1136.358038722914, \"Absolute_Dif\": 13.55134227708595}, {\"Sales\": 1624.861466, \"Sales_pred\": 1615.9460757424715, \"Absolute_Dif\": 8.915390257528543}, {\"Sales\": 1601.033347, \"Sales_pred\": 1612.950224816576, \"Absolute_Dif\": 11.916877816576061}, {\"Sales\": 1429.943395, \"Sales_pred\": 1413.0303420913287, \"Absolute_Dif\": 16.91305290867126}, {\"Sales\": 2061.018042, \"Sales_pred\": 2064.3805792588987, \"Absolute_Dif\": 3.3625372588985556}, {\"Sales\": 1366.150527, \"Sales_pred\": 1384.9252631821196, \"Absolute_Dif\": 18.774736182119568}, {\"Sales\": 1550.066211, \"Sales_pred\": 1540.3228544572623, \"Absolute_Dif\": 9.743356542737729}, {\"Sales\": 1032.507751, \"Sales_pred\": 1041.137905132296, \"Absolute_Dif\": 8.630154132295957}, {\"Sales\": 1307.069293, \"Sales_pred\": 1310.2128408576318, \"Absolute_Dif\": 3.143547857631802}, {\"Sales\": 1439.82487, \"Sales_pred\": 1454.6755764676936, \"Absolute_Dif\": 14.850706467693726}, {\"Sales\": 1234.751862, \"Sales_pred\": 1049.1873631232938, \"Absolute_Dif\": 185.56449887670624}, {\"Sales\": 1463.364788, \"Sales_pred\": 1454.773749698716, \"Absolute_Dif\": 8.591038301284016}, {\"Sales\": 757.5915039, \"Sales_pred\": 771.5760152258413, \"Absolute_Dif\": 13.984511325841254}, {\"Sales\": 1639.651435, \"Sales_pred\": 1631.6858545756681, \"Absolute_Dif\": 7.965580424331847}, {\"Sales\": 1632.173686, \"Sales_pred\": 1645.644246602418, \"Absolute_Dif\": 13.47056060241789}, {\"Sales\": 1499.911477, \"Sales_pred\": 1479.035073979862, \"Absolute_Dif\": 20.876403020138014}, {\"Sales\": 1235.595226, \"Sales_pred\": 1230.9159144374016, \"Absolute_Dif\": 4.679311562598286}, {\"Sales\": 1022.702461, \"Sales_pred\": 1026.6057643389445, \"Absolute_Dif\": 3.903303338944511}, {\"Sales\": 1684.198877, \"Sales_pred\": 1686.359194320798, \"Absolute_Dif\": 2.160317320797958}, {\"Sales\": 859.9748635, \"Sales_pred\": 869.5160213391946, \"Absolute_Dif\": 9.541157839194625}, {\"Sales\": 914.2806753, \"Sales_pred\": 901.3374987843094, \"Absolute_Dif\": 12.943176515690539}, {\"Sales\": 1470.762336, \"Sales_pred\": 1463.4391801920801, \"Absolute_Dif\": 7.323155807919875}, {\"Sales\": 1419.243631, \"Sales_pred\": 1429.4889943995227, \"Absolute_Dif\": 10.245363399522603}, {\"Sales\": 1468.77541, \"Sales_pred\": 1448.0318664544739, \"Absolute_Dif\": 20.74354354552611}, {\"Sales\": 1186.981266, \"Sales_pred\": 1195.0151828843036, \"Absolute_Dif\": 8.033916884303608}, {\"Sales\": 1234.789545, \"Sales_pred\": 1249.197835442667, \"Absolute_Dif\": 14.40829044266684}, {\"Sales\": 1212.787138, \"Sales_pred\": 1213.3433475914062, \"Absolute_Dif\": 0.5562095914062866}, {\"Sales\": 922.0056437, \"Sales_pred\": 908.5347912043826, \"Absolute_Dif\": 13.47085249561735}, {\"Sales\": 1367.972488, \"Sales_pred\": 1378.236541465999, \"Absolute_Dif\": 10.264053465998813}, {\"Sales\": 1447.839702, \"Sales_pred\": 1482.0438631639868, \"Absolute_Dif\": 34.20416116398678}, {\"Sales\": 1340.762487, \"Sales_pred\": 1342.2378599158455, \"Absolute_Dif\": 1.4753729158455826}, {\"Sales\": 1274.283523, \"Sales_pred\": 1291.94417084613, \"Absolute_Dif\": 17.660647846129905}, {\"Sales\": 1499.891746, \"Sales_pred\": 1484.3847342675806, \"Absolute_Dif\": 15.507011732419414}, {\"Sales\": 1126.749314, \"Sales_pred\": 1488.4683348164028, \"Absolute_Dif\": 361.7190208164029}, {\"Sales\": 1180.148032, \"Sales_pred\": 1178.3672993650239, \"Absolute_Dif\": 1.7807326349761752}, {\"Sales\": 1630.449218, \"Sales_pred\": 1623.0913246320883, \"Absolute_Dif\": 7.357893367911629}, {\"Sales\": 1106.155335, \"Sales_pred\": 1097.7632036363007, \"Absolute_Dif\": 8.392131363699264}, {\"Sales\": 1640.029557, \"Sales_pred\": 1644.173458042653, \"Absolute_Dif\": 4.143901042652942}, {\"Sales\": 1283.510325, \"Sales_pred\": 1269.3116170169942, \"Absolute_Dif\": 14.198707983005761}, {\"Sales\": 1485.157206, \"Sales_pred\": 1494.6119462029978, \"Absolute_Dif\": 9.454740202997755}, {\"Sales\": 1593.840395, \"Sales_pred\": 1592.4754052194514, \"Absolute_Dif\": 1.3649897805485125}, {\"Sales\": 1134.055774, \"Sales_pred\": 1133.349159441469, \"Absolute_Dif\": 0.7066145585308732}, {\"Sales\": 893.289881, \"Sales_pred\": 895.317023749677, \"Absolute_Dif\": 2.0271427496769547}, {\"Sales\": 1347.677072, \"Sales_pred\": 1334.5871919979495, \"Absolute_Dif\": 13.08988000205045}, {\"Sales\": 1196.553891, \"Sales_pred\": 1175.030327754038, \"Absolute_Dif\": 21.523563245962123}, {\"Sales\": 1603.566344, \"Sales_pred\": 1580.5647789455427, \"Absolute_Dif\": 23.001565054457387}, {\"Sales\": 1274.878933, \"Sales_pred\": 1266.440469232643, \"Absolute_Dif\": 8.438463767357007}, {\"Sales\": 1221.885608, \"Sales_pred\": 1250.610539287643, \"Absolute_Dif\": 28.724931287642903}, {\"Sales\": 1341.309768, \"Sales_pred\": 1367.9589870685154, \"Absolute_Dif\": 26.649219068515322}, {\"Sales\": 1409.063431, \"Sales_pred\": 1412.6752612741816, \"Absolute_Dif\": 3.611830274181557}, {\"Sales\": 1372.826333, \"Sales_pred\": 1385.1136932755585, \"Absolute_Dif\": 12.287360275558513}, {\"Sales\": 1216.889647, \"Sales_pred\": 1247.3217774777518, \"Absolute_Dif\": 30.432130477751798}, {\"Sales\": 1781.760635, \"Sales_pred\": 1757.3423275752432, \"Absolute_Dif\": 24.418307424756904}, {\"Sales\": 1022.023525, \"Sales_pred\": 1044.4599507739495, \"Absolute_Dif\": 22.43642577394951}, {\"Sales\": 1527.483794, \"Sales_pred\": 1536.9128197783234, \"Absolute_Dif\": 9.429025778323421}, {\"Sales\": 977.4826108, \"Sales_pred\": 971.3910274403815, \"Absolute_Dif\": 6.091583359618426}, {\"Sales\": 1228.809235, \"Sales_pred\": 1216.1105377449485, \"Absolute_Dif\": 12.698697255051457}, {\"Sales\": 1651.463064, \"Sales_pred\": 1633.4626970247532, \"Absolute_Dif\": 18.000366975246834}, {\"Sales\": 1165.606225, \"Sales_pred\": 1163.4631002752776, \"Absolute_Dif\": 2.1431247247223837}, {\"Sales\": 917.3251705, \"Sales_pred\": 932.4216746149227, \"Absolute_Dif\": 15.096504114922709}, {\"Sales\": 1639.472868, \"Sales_pred\": 1630.015469923044, \"Absolute_Dif\": 9.457398076955997}, {\"Sales\": 1146.942829, \"Sales_pred\": 1151.1878782803701, \"Absolute_Dif\": 4.24504928037004}, {\"Sales\": 1484.239054, \"Sales_pred\": 1473.7057883730413, \"Absolute_Dif\": 10.53326562695861}, {\"Sales\": 1560.811832, \"Sales_pred\": 1551.3805286937277, \"Absolute_Dif\": 9.431303306272412}, {\"Sales\": 1381.389894, \"Sales_pred\": 1369.24389659808, \"Absolute_Dif\": 12.145997401919885}, {\"Sales\": 1165.674676, \"Sales_pred\": 1187.3612122484965, \"Absolute_Dif\": 21.686536248496395}, {\"Sales\": 1294.033102, \"Sales_pred\": 1278.6797566159353, \"Absolute_Dif\": 15.353345384064824}, {\"Sales\": 1252.466076, \"Sales_pred\": 1239.6394808442396, \"Absolute_Dif\": 12.826595155760288}, {\"Sales\": 1149.766879, \"Sales_pred\": 1157.933484798693, \"Absolute_Dif\": 8.166605798692899}, {\"Sales\": 1657.377736, \"Sales_pred\": 1631.693308658578, \"Absolute_Dif\": 25.68442734142195}, {\"Sales\": 1817.230969, \"Sales_pred\": 1825.8836553864462, \"Absolute_Dif\": 8.652686386446248}, {\"Sales\": 1585.183327, \"Sales_pred\": 1559.0986567494106, \"Absolute_Dif\": 26.084670250589397}, {\"Sales\": 1433.712042, \"Sales_pred\": 1444.4126071327537, \"Absolute_Dif\": 10.700565132753582}, {\"Sales\": 908.415902, \"Sales_pred\": 935.8510082668276, \"Absolute_Dif\": 27.435106266827688}, {\"Sales\": 1182.025977, \"Sales_pred\": 1194.7219604741222, \"Absolute_Dif\": 12.695983474122158}, {\"Sales\": 1798.841115, \"Sales_pred\": 1791.138307341428, \"Absolute_Dif\": 7.7028076585720555}, {\"Sales\": 1175.70874, \"Sales_pred\": 1186.6013196270483, \"Absolute_Dif\": 10.892579627048235}, {\"Sales\": 1361.563324, \"Sales_pred\": 1364.2557177710519, \"Absolute_Dif\": 2.6923937710519112}, {\"Sales\": 1255.813425, \"Sales_pred\": 1264.6805234780913, \"Absolute_Dif\": 8.867098478091293}, {\"Sales\": 1546.377709, \"Sales_pred\": 1556.4988563275244, \"Absolute_Dif\": 10.12114732752434}, {\"Sales\": 1612.859802, \"Sales_pred\": 1591.2760634424528, \"Absolute_Dif\": 21.58373855754712}, {\"Sales\": 1296.979135, \"Sales_pred\": 1304.0460496423734, \"Absolute_Dif\": 7.066914642373376}, {\"Sales\": 1572.411257, \"Sales_pred\": 1564.3989166659896, \"Absolute_Dif\": 8.012340334010332}, {\"Sales\": 1177.826085, \"Sales_pred\": 1172.7018981197848, \"Absolute_Dif\": 5.12418688021512}, {\"Sales\": 1150.044918, \"Sales_pred\": 1158.926108481105, \"Absolute_Dif\": 8.881190481105023}, {\"Sales\": 1267.028011, \"Sales_pred\": 1280.7027933409895, \"Absolute_Dif\": 13.674782340989395}, {\"Sales\": 1307.523507, \"Sales_pred\": 1313.5434840708863, \"Absolute_Dif\": 6.019977070886171}, {\"Sales\": 1452.394663, \"Sales_pred\": 1432.8888111123756, \"Absolute_Dif\": 19.50585188762443}, {\"Sales\": 1285.976576, \"Sales_pred\": 1285.9503470940554, \"Absolute_Dif\": 0.026228905944662984}, {\"Sales\": 1754.093045, \"Sales_pred\": 1752.2698889254777, \"Absolute_Dif\": 1.8231560745223305}, {\"Sales\": 1740.307217, \"Sales_pred\": 1717.7071485269407, \"Absolute_Dif\": 22.60006847305931}, {\"Sales\": 1025.924026, \"Sales_pred\": 1023.3530092259398, \"Absolute_Dif\": 2.5710167740601264}, {\"Sales\": 784.7292614, \"Sales_pred\": 782.8204901600548, \"Absolute_Dif\": 1.9087712399452812}, {\"Sales\": 975.4610786, \"Sales_pred\": 964.8195194933933, \"Absolute_Dif\": 10.641559106606678}, {\"Sales\": 1088.981313, \"Sales_pred\": 1113.1676374331691, \"Absolute_Dif\": 24.186324433169148}, {\"Sales\": 1030.804959, \"Sales_pred\": 1050.5551614264705, \"Absolute_Dif\": 19.750202426470423}, {\"Sales\": 1754.252459, \"Sales_pred\": 1742.6357355783753, \"Absolute_Dif\": 11.616723421624783}, {\"Sales\": 1384.572528, \"Sales_pred\": 1382.9729150857293, \"Absolute_Dif\": 1.599612914270665}, {\"Sales\": 925.286509, \"Sales_pred\": 941.3693456189853, \"Absolute_Dif\": 16.08283661898531}, {\"Sales\": 1026.926978, \"Sales_pred\": 1021.5539032728152, \"Absolute_Dif\": 5.373074727184758}, {\"Sales\": 1525.964281, \"Sales_pred\": 1509.5149295346746, \"Absolute_Dif\": 16.449351465325435}, {\"Sales\": 1230.180867, \"Sales_pred\": 1303.0062844107497, \"Absolute_Dif\": 72.82541741074965}, {\"Sales\": 1168.257846, \"Sales_pred\": 1177.5238397362755, \"Absolute_Dif\": 9.265993736275504}, {\"Sales\": 1439.342491, \"Sales_pred\": 1439.5047493299066, \"Absolute_Dif\": 0.16225832990653544}, {\"Sales\": 1358.155538, \"Sales_pred\": 1351.613737471207, \"Absolute_Dif\": 6.541800528792919}, {\"Sales\": 1827.633271, \"Sales_pred\": 1824.6680454945863, \"Absolute_Dif\": 2.9652255054136276}, {\"Sales\": 1436.218726, \"Sales_pred\": 1435.7597864504442, \"Absolute_Dif\": 0.45893954955590743}, {\"Sales\": 1394.611158, \"Sales_pred\": 1394.741783791134, \"Absolute_Dif\": 0.13062579113397987}, {\"Sales\": 1308.844785, \"Sales_pred\": 1311.6393964504077, \"Absolute_Dif\": 2.7946114504077286}, {\"Sales\": 1269.989343, \"Sales_pred\": 1268.0495205120037, \"Absolute_Dif\": 1.9398224879962527}, {\"Sales\": 1032.859885, \"Sales_pred\": 1036.7774359311156, \"Absolute_Dif\": 3.9175509311155565}, {\"Sales\": 1420.465583, \"Sales_pred\": 1430.552242616238, \"Absolute_Dif\": 10.086659616237966}, {\"Sales\": 1484.85966, \"Sales_pred\": 1481.8971719863018, \"Absolute_Dif\": 2.9624880136982483}, {\"Sales\": 940.1204359, \"Sales_pred\": 953.8464994945039, \"Absolute_Dif\": 13.726063594503898}, {\"Sales\": 1551.815427, \"Sales_pred\": 1543.832662240518, \"Absolute_Dif\": 7.982764759482052}, {\"Sales\": 1174.835125, \"Sales_pred\": 1174.272390867338, \"Absolute_Dif\": 0.5627341326621718}, {\"Sales\": 1621.511685, \"Sales_pred\": 1598.4210814500225, \"Absolute_Dif\": 23.09060354997746}, {\"Sales\": 1443.048608, \"Sales_pred\": 1427.6032356505366, \"Absolute_Dif\": 15.445372349463469}, {\"Sales\": 1331.082614, \"Sales_pred\": 1326.1072522185382, \"Absolute_Dif\": 4.975361781461743}, {\"Sales\": 1113.118283, \"Sales_pred\": 1132.013795332045, \"Absolute_Dif\": 18.895512332044973}, {\"Sales\": 1114.384048, \"Sales_pred\": 1134.7163900926962, \"Absolute_Dif\": 20.332342092696308}, {\"Sales\": 1015.272385, \"Sales_pred\": 1013.4415270508416, \"Absolute_Dif\": 1.8308579491583714}, {\"Sales\": 2052.839404, \"Sales_pred\": 2048.1222509478903, \"Absolute_Dif\": 4.717153052109552}, {\"Sales\": 1397.894878, \"Sales_pred\": 1400.3924980877914, \"Absolute_Dif\": 2.497620087791347}, {\"Sales\": 1150.897542, \"Sales_pred\": 1134.5482495694546, \"Absolute_Dif\": 16.349292430545347}, {\"Sales\": 1282.098287, \"Sales_pred\": 1288.4155620607971, \"Absolute_Dif\": 6.317275060797101}, {\"Sales\": 889.5977627, \"Sales_pred\": 898.5915644071133, \"Absolute_Dif\": 8.993801707113334}, {\"Sales\": 1525.450309, \"Sales_pred\": 1530.91152902243, \"Absolute_Dif\": 5.46122002242987}, {\"Sales\": 1531.549038, \"Sales_pred\": 1537.0026399805217, \"Absolute_Dif\": 5.453601980521626}, {\"Sales\": 1347.478712, \"Sales_pred\": 1338.7097635983255, \"Absolute_Dif\": 8.768948401674606}, {\"Sales\": 995.6119433, \"Sales_pred\": 1015.5981563953192, \"Absolute_Dif\": 19.986213095319158}, {\"Sales\": 1060.492048, \"Sales_pred\": 1078.9374885515226, \"Absolute_Dif\": 18.44544055152255}, {\"Sales\": 1019.987716, \"Sales_pred\": 1033.919944535839, \"Absolute_Dif\": 13.932228535839045}, {\"Sales\": 1479.90123, \"Sales_pred\": 1471.6482172093952, \"Absolute_Dif\": 8.253012790604771}, {\"Sales\": 1125.26392, \"Sales_pred\": 1204.4121436649084, \"Absolute_Dif\": 79.1482236649083}, {\"Sales\": 1615.158922, \"Sales_pred\": 1639.949135655582, \"Absolute_Dif\": 24.790213655581965}, {\"Sales\": 922.7666996, \"Sales_pred\": 939.7917724738395, \"Absolute_Dif\": 17.025072873839463}, {\"Sales\": 1406.690887, \"Sales_pred\": 1403.3951974982942, \"Absolute_Dif\": 3.2956895017057377}, {\"Sales\": 1435.336333, \"Sales_pred\": 1441.222708125826, \"Absolute_Dif\": 5.8863751258261345}, {\"Sales\": 1606.311133, \"Sales_pred\": 1611.4575515737633, \"Absolute_Dif\": 5.1464185737634125}, {\"Sales\": 1318.392268, \"Sales_pred\": 1314.245858227453, \"Absolute_Dif\": 4.146409772547031}, {\"Sales\": 1048.769292, \"Sales_pred\": 1074.6284099086815, \"Absolute_Dif\": 25.859117908681583}, {\"Sales\": 1210.8276, \"Sales_pred\": 1199.7742883122487, \"Absolute_Dif\": 11.053311687751375}, {\"Sales\": 1512.16826, \"Sales_pred\": 1526.0208654012224, \"Absolute_Dif\": 13.85260540122249}, {\"Sales\": 1916.827122, \"Sales_pred\": 1932.3338112522356, \"Absolute_Dif\": 15.506689252235674}, {\"Sales\": 1244.426574, \"Sales_pred\": 1240.6011223080086, \"Absolute_Dif\": 3.825451691991475}, {\"Sales\": 1162.637421, \"Sales_pred\": 1187.737114298537, \"Absolute_Dif\": 25.099693298537204}, {\"Sales\": 1112.527039, \"Sales_pred\": 1095.6209714627598, \"Absolute_Dif\": 16.906067537240233}, {\"Sales\": 1361.452054, \"Sales_pred\": 1351.827025919274, \"Absolute_Dif\": 9.625028080725997}, {\"Sales\": 1605.346979, \"Sales_pred\": 1610.7707138432565, \"Absolute_Dif\": 5.423734843256625}, {\"Sales\": 1554.909872, \"Sales_pred\": 1553.4952852600754, \"Absolute_Dif\": 1.4145867399245162}, {\"Sales\": 1610.994779, \"Sales_pred\": 1606.491832971667, \"Absolute_Dif\": 4.502946028333099}, {\"Sales\": 1037.578476, \"Sales_pred\": 1037.5038115781167, \"Absolute_Dif\": 0.07466442188319888}, {\"Sales\": 1484.446184, \"Sales_pred\": 1476.8083765999872, \"Absolute_Dif\": 7.637807400012662}, {\"Sales\": 1416.890744, \"Sales_pred\": 1395.0306151132731, \"Absolute_Dif\": 21.860128886726898}, {\"Sales\": 1273.632054, \"Sales_pred\": 1297.079386738843, \"Absolute_Dif\": 23.447332738842988}, {\"Sales\": 1637.431982, \"Sales_pred\": 1639.3284256267848, \"Absolute_Dif\": 1.8964436267847304}, {\"Sales\": 1042.903058, \"Sales_pred\": 1064.255010911142, \"Absolute_Dif\": 21.351952911142007}, {\"Sales\": 1256.626595, \"Sales_pred\": 1269.4434808613519, \"Absolute_Dif\": 12.81688586135192}, {\"Sales\": 1407.459838, \"Sales_pred\": 1417.5963180157755, \"Absolute_Dif\": 10.136480015775533}, {\"Sales\": 1074.9715, \"Sales_pred\": 1093.5950280592651, \"Absolute_Dif\": 18.623528059265027}, {\"Sales\": 1608.678877, \"Sales_pred\": 1570.883557603875, \"Absolute_Dif\": 37.795319396125024}, {\"Sales\": 1547.906433, \"Sales_pred\": 1550.307946217621, \"Absolute_Dif\": 2.401513217620959}, {\"Sales\": 1478.439329, \"Sales_pred\": 1469.67811799847, \"Absolute_Dif\": 8.76121100153}, {\"Sales\": 1239.946736, \"Sales_pred\": 1263.9209141830188, \"Absolute_Dif\": 23.974178183018694}, {\"Sales\": 1270.033922, \"Sales_pred\": 1260.2244924648917, \"Absolute_Dif\": 9.809429535108393}, {\"Sales\": 1509.957925, \"Sales_pred\": 1493.8399960218892, \"Absolute_Dif\": 16.11792897811074}, {\"Sales\": 918.1423875, \"Sales_pred\": 924.3485517728082, \"Absolute_Dif\": 6.20616427280811}, {\"Sales\": 1575.535491, \"Sales_pred\": 1571.0507656430655, \"Absolute_Dif\": 4.484725356934632}, {\"Sales\": 1271.983499, \"Sales_pred\": 1266.7471870981349, \"Absolute_Dif\": 5.236311901865065}, {\"Sales\": 1200.730286, \"Sales_pred\": 1215.0042145563648, \"Absolute_Dif\": 14.273928556364808}, {\"Sales\": 890.2709454, \"Sales_pred\": 891.0041884839916, \"Absolute_Dif\": 0.7332430839916242}, {\"Sales\": 1152.333287, \"Sales_pred\": 1161.7272548097876, \"Absolute_Dif\": 9.393967809787682}, {\"Sales\": 1511.385783, \"Sales_pred\": 1503.090059016546, \"Absolute_Dif\": 8.295723983453854}, {\"Sales\": 1678.817172, \"Sales_pred\": 1667.92315285846, \"Absolute_Dif\": 10.894019141539957}, {\"Sales\": 1283.791649, \"Sales_pred\": 1298.3670434798391, \"Absolute_Dif\": 14.575394479839133}, {\"Sales\": 1151.810751, \"Sales_pred\": 1120.2479957029009, \"Absolute_Dif\": 31.562755297099102}, {\"Sales\": 709.0752108, \"Sales_pred\": 731.8514290081598, \"Absolute_Dif\": 22.776218208159776}, {\"Sales\": 1121.040851, \"Sales_pred\": 1111.843908653614, \"Absolute_Dif\": 9.196942346385867}, {\"Sales\": 1360.620201, \"Sales_pred\": 1345.6411333788387, \"Absolute_Dif\": 14.97906762116122}, {\"Sales\": 1226.491449, \"Sales_pred\": 1210.0097662388525, \"Absolute_Dif\": 16.481682761147567}, {\"Sales\": 1087.737184, \"Sales_pred\": 1093.231102005409, \"Absolute_Dif\": 5.4939180054088865}, {\"Sales\": 1407.619218, \"Sales_pred\": 1394.0593138424774, \"Absolute_Dif\": 13.559904157522624}, {\"Sales\": 1420.639608, \"Sales_pred\": 1403.2865306548515, \"Absolute_Dif\": 17.35307734514845}, {\"Sales\": 1517.118316, \"Sales_pred\": 1505.7231157431384, \"Absolute_Dif\": 11.395200256861699}, {\"Sales\": 1073.226043, \"Sales_pred\": 1097.8342883002174, \"Absolute_Dif\": 24.608245300217504}, {\"Sales\": 943.3823836, \"Sales_pred\": 966.6143292209631, \"Absolute_Dif\": 23.231945620963074}, {\"Sales\": 1282.504106, \"Sales_pred\": 1273.3275923789529, \"Absolute_Dif\": 9.176513621047206}, {\"Sales\": 1609.833779, \"Sales_pred\": 1601.3843960009276, \"Absolute_Dif\": 8.44938299907244}, {\"Sales\": 1243.210162, \"Sales_pred\": 1253.1508693503624, \"Absolute_Dif\": 9.940707350362345}, {\"Sales\": 1526.01471, \"Sales_pred\": 1505.9617684967484, \"Absolute_Dif\": 20.05294150325153}, {\"Sales\": 1237.601766, \"Sales_pred\": 1238.2350217305225, \"Absolute_Dif\": 0.6332557305224782}, {\"Sales\": 1499.883204, \"Sales_pred\": 1509.145058601125, \"Absolute_Dif\": 9.261854601124924}, {\"Sales\": 1086.458788, \"Sales_pred\": 1089.0537271711287, \"Absolute_Dif\": 2.5949391711287717}, {\"Sales\": 1675.502959, \"Sales_pred\": 1661.5018079693489, \"Absolute_Dif\": 14.001151030651044}, {\"Sales\": 1561.161303, \"Sales_pred\": 1547.1841106750073, \"Absolute_Dif\": 13.977192324992757}, {\"Sales\": 1141.11742, \"Sales_pred\": 1138.8826094767915, \"Absolute_Dif\": 2.23481052320858}, {\"Sales\": 1604.991397, \"Sales_pred\": 1617.209463855729, \"Absolute_Dif\": 12.218066855728921}, {\"Sales\": 1620.610392, \"Sales_pred\": 1598.655653867153, \"Absolute_Dif\": 21.95473813284707}, {\"Sales\": 1033.625448, \"Sales_pred\": 1048.4644617029621, \"Absolute_Dif\": 14.83901370296212}, {\"Sales\": 1190.928026, \"Sales_pred\": 1181.158961885084, \"Absolute_Dif\": 9.769064114916091}, {\"Sales\": 1472.326899, \"Sales_pred\": 1473.9634113809798, \"Absolute_Dif\": 1.636512380979866}, {\"Sales\": 1220.237855, \"Sales_pred\": 1218.1493767151, \"Absolute_Dif\": 2.0884782849000203}, {\"Sales\": 1076.278297, \"Sales_pred\": 1084.657901262055, \"Absolute_Dif\": 8.379604262054954}, {\"Sales\": 1542.463303, \"Sales_pred\": 1546.7633756707323, \"Absolute_Dif\": 4.300072670732334}, {\"Sales\": 1167.759705, \"Sales_pred\": 1175.5596737296382, \"Absolute_Dif\": 7.7999687296382945}, {\"Sales\": 1571.284525, \"Sales_pred\": 1573.5318215832924, \"Absolute_Dif\": 2.247296583292382}, {\"Sales\": 1258.72934, \"Sales_pred\": 1030.250467348887, \"Absolute_Dif\": 228.47887265111308}, {\"Sales\": 1120.28481, \"Sales_pred\": 1123.9827023785583, \"Absolute_Dif\": 3.6978923785582083}, {\"Sales\": 1111.79488, \"Sales_pred\": 1099.3557432185676, \"Absolute_Dif\": 12.439136781432353}, {\"Sales\": 1101.486666, \"Sales_pred\": 1114.613322349901, \"Absolute_Dif\": 13.12665634990094}, {\"Sales\": 1481.417652, \"Sales_pred\": 1479.33322491644, \"Absolute_Dif\": 2.0844270835600582}, {\"Sales\": 1440.668229, \"Sales_pred\": 1434.1125626842095, \"Absolute_Dif\": 6.555666315790631}, {\"Sales\": 1117.278653, \"Sales_pred\": 1072.0567402758516, \"Absolute_Dif\": 45.221912724148524}, {\"Sales\": 1217.77612, \"Sales_pred\": 1226.9798383036205, \"Absolute_Dif\": 9.203718303620462}, {\"Sales\": 1429.113951, \"Sales_pred\": 1449.1200884450668, \"Absolute_Dif\": 20.00613744506677}, {\"Sales\": 1438.740879, \"Sales_pred\": 1426.7421777704403, \"Absolute_Dif\": 11.998701229559629}, {\"Sales\": 1335.989578, \"Sales_pred\": 1335.8197946469968, \"Absolute_Dif\": 0.1697833530031403}, {\"Sales\": 1158.902901, \"Sales_pred\": 1161.9307216582824, \"Absolute_Dif\": 3.027820658282508}, {\"Sales\": 1614.398262, \"Sales_pred\": 1616.507143194194, \"Absolute_Dif\": 2.108881194194055}, {\"Sales\": 1226.880953, \"Sales_pred\": 1240.6124178579303, \"Absolute_Dif\": 13.731464857930177}, {\"Sales\": 1178.215115, \"Sales_pred\": 1215.2276043752477, \"Absolute_Dif\": 37.012489375247696}, {\"Sales\": 1702.044949, \"Sales_pred\": 1711.9460312969, \"Absolute_Dif\": 9.901082296899858}, {\"Sales\": 916.6173655, \"Sales_pred\": 922.9053315549404, \"Absolute_Dif\": 6.287966054940398}, {\"Sales\": 1374.739369, \"Sales_pred\": 1368.7154947748809, \"Absolute_Dif\": 6.023874225119016}, {\"Sales\": 1458.354482, \"Sales_pred\": 1451.6045279518817, \"Absolute_Dif\": 6.749954048118298}, {\"Sales\": 1373.972636, \"Sales_pred\": 1393.7440723043278, \"Absolute_Dif\": 19.771436304327835}, {\"Sales\": 1539.965205, \"Sales_pred\": 1545.673923047199, \"Absolute_Dif\": 5.708718047199}, {\"Sales\": 1442.635395, \"Sales_pred\": 1438.0195916870903, \"Absolute_Dif\": 4.6158033129097475}, {\"Sales\": 1555.572237, \"Sales_pred\": 1581.0724540211095, \"Absolute_Dif\": 25.500217021109393}, {\"Sales\": 950.5170657, \"Sales_pred\": 962.5820474683505, \"Absolute_Dif\": 12.064981768350549}, {\"Sales\": 1260.613487, \"Sales_pred\": 1301.2010302502044, \"Absolute_Dif\": 40.58754325020436}, {\"Sales\": 1321.67414, \"Sales_pred\": 1354.9664356897806, \"Absolute_Dif\": 33.29229568978053}, {\"Sales\": 848.3886857, \"Sales_pred\": 877.1829785373034, \"Absolute_Dif\": 28.794292837303374}, {\"Sales\": 1427.354951, \"Sales_pred\": 1433.0011810340197, \"Absolute_Dif\": 5.646230034019709}, {\"Sales\": 1188.777515, \"Sales_pred\": 1180.2027786092253, \"Absolute_Dif\": 8.57473639077466}, {\"Sales\": 906.9796282, \"Sales_pred\": 907.1874781646238, \"Absolute_Dif\": 0.20784996462384697}, {\"Sales\": 1566.771283, \"Sales_pred\": 1559.6492735577256, \"Absolute_Dif\": 7.122009442274475}, {\"Sales\": 1534.993964, \"Sales_pred\": 1533.1705468714686, \"Absolute_Dif\": 1.823417128531446}, {\"Sales\": 1469.087759, \"Sales_pred\": 1495.348498938472, \"Absolute_Dif\": 26.260739938471943}]}}, {\"mode\": \"vega-lite\"});\n",
       "</script>"
      ],
      "text/plain": [
       "alt.LayerChart(...)"
      ]
     },
     "execution_count": 35,
     "metadata": {},
     "output_type": "execute_result"
    }
   ],
   "source": [
    "(sales_original_chart+sales_pred_chart).properties(\n",
    "    title='Histograma de las ventas originales vs ventas predecidas',\n",
    "    width=700\n",
    ").configure_title(\n",
    "    fontSize = 20,\n",
    "    anchor = 'start',\n",
    "    dy = -10,\n",
    "    dx = 45\n",
    ")"
   ]
  },
  {
   "cell_type": "markdown",
   "id": "ec622f79",
   "metadata": {},
   "source": [
    "## 💾 Guardando el pipeline"
   ]
  },
  {
   "cell_type": "code",
   "execution_count": 36,
   "id": "b59f0a70",
   "metadata": {},
   "outputs": [
    {
     "data": {
      "text/plain": [
       "['mrk_modeling_mix.model']"
      ]
     },
     "execution_count": 36,
     "metadata": {},
     "output_type": "execute_result"
    }
   ],
   "source": [
    "from joblib import dump, load\n",
    "\n",
    "dump(predicting_pipeline, 'mrk_modeling_mix.model') "
   ]
  },
  {
   "cell_type": "markdown",
   "id": "8491cdcb",
   "metadata": {},
   "source": [
    "## 🔍 Prediciendo las ventas con el modelo diseñado"
   ]
  },
  {
   "cell_type": "code",
   "execution_count": 37,
   "id": "2cf767e5",
   "metadata": {},
   "outputs": [],
   "source": [
    "saved_pipeline = load('mrk_modeling_mix.model')"
   ]
  },
  {
   "cell_type": "code",
   "execution_count": 38,
   "id": "b78717a2",
   "metadata": {},
   "outputs": [],
   "source": [
    "tv = 400\n",
    "radio = 150\n",
    "social_media = 40\n",
    "influencer = \"Micro\"\n",
    "year = 2021\n",
    "month = 3\n",
    "day = 1"
   ]
  },
  {
   "cell_type": "code",
   "execution_count": 39,
   "id": "854b3f65",
   "metadata": {},
   "outputs": [],
   "source": [
    "mi_presupuesto = pd.DataFrame({\n",
    "    \"TV\": [tv], \"Radio\": [radio], \"Social Media\": [social_media], \"Influencer\": [influencer], \n",
    "    \"Year\": [year], \"Month\": [month], \"Day\": [day]\n",
    "})"
   ]
  },
  {
   "cell_type": "code",
   "execution_count": 40,
   "id": "f0afddb9",
   "metadata": {},
   "outputs": [
    {
     "name": "stdout",
     "output_type": "stream",
     "text": [
      "1442.9756420000667\n"
     ]
    }
   ],
   "source": [
    "sale_pred = saved_pipeline.predict(mi_presupuesto).squeeze()\n",
    "\n",
    "print(sale_pred)"
   ]
  }
 ],
 "metadata": {
  "kernelspec": {
   "display_name": "Python 3 (ipykernel)",
   "language": "python",
   "name": "python3"
  },
  "language_info": {
   "codemirror_mode": {
    "name": "ipython",
    "version": 3
   },
   "file_extension": ".py",
   "mimetype": "text/x-python",
   "name": "python",
   "nbconvert_exporter": "python",
   "pygments_lexer": "ipython3",
   "version": "3.9.5"
  }
 },
 "nbformat": 4,
 "nbformat_minor": 5
}
